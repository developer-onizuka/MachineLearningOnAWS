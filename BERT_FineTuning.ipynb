{
  "nbformat": 4,
  "nbformat_minor": 0,
  "metadata": {
    "colab": {
      "provenance": [],
      "gpuType": "T4",
      "collapsed_sections": [
        "OFQ1UUezV6uy",
        "nCqnvCP1iXXZ",
        "1RlEeVSkkWqF",
        "PHpCD712iaT1",
        "xc8sSZF-oKrS",
        "xltWiCGraD-4",
        "zhQwuPxUnS5G",
        "Yx6GBJVOncrg",
        "RAp6A6BsnucB",
        "AHDIm1WRp93j",
        "XWrxGU0VatMi",
        "Japs3MO0UwUu",
        "aGatn8OEU7ez",
        "MDg1F9U-VSEf",
        "BiE-9Z48Vt0Q",
        "j7CgtDPnV2N0",
        "WVFYUngibfL1",
        "KdaTXFExcAov",
        "Al_utvjfcS5Y",
        "DreQ8exwcXgi",
        "yjRJeYqbcbIK"
      ],
      "authorship_tag": "ABX9TyNFFyBWS2Y8SjSwWP09lMJN",
      "include_colab_link": true
    },
    "kernelspec": {
      "name": "python3",
      "display_name": "Python 3"
    },
    "language_info": {
      "name": "python"
    },
    "accelerator": "GPU",
    "widgets": {
      "application/vnd.jupyter.widget-state+json": {
        "14512c727ef142cfb0d00503cdc46c21": {
          "model_module": "@jupyter-widgets/controls",
          "model_name": "HBoxModel",
          "model_module_version": "1.5.0",
          "state": {
            "_dom_classes": [],
            "_model_module": "@jupyter-widgets/controls",
            "_model_module_version": "1.5.0",
            "_model_name": "HBoxModel",
            "_view_count": null,
            "_view_module": "@jupyter-widgets/controls",
            "_view_module_version": "1.5.0",
            "_view_name": "HBoxView",
            "box_style": "",
            "children": [
              "IPY_MODEL_3ad8fb16d28b45ba9ce569eb54dba242",
              "IPY_MODEL_08b47c26a48a4f889ab4ebbfa13d59b9",
              "IPY_MODEL_395b85d6a3bc4d78babb5df10d02eb3f"
            ],
            "layout": "IPY_MODEL_6413eaa15e47407881672056cec9fa09"
          }
        },
        "3ad8fb16d28b45ba9ce569eb54dba242": {
          "model_module": "@jupyter-widgets/controls",
          "model_name": "HTMLModel",
          "model_module_version": "1.5.0",
          "state": {
            "_dom_classes": [],
            "_model_module": "@jupyter-widgets/controls",
            "_model_module_version": "1.5.0",
            "_model_name": "HTMLModel",
            "_view_count": null,
            "_view_module": "@jupyter-widgets/controls",
            "_view_module_version": "1.5.0",
            "_view_name": "HTMLView",
            "description": "",
            "description_tooltip": null,
            "layout": "IPY_MODEL_9a5297af7243490aafbb5a8c485f2f13",
            "placeholder": "​",
            "style": "IPY_MODEL_af9f0e05d4f74de99040f6f5041fc506",
            "value": "tokenizer_config.json: 100%"
          }
        },
        "08b47c26a48a4f889ab4ebbfa13d59b9": {
          "model_module": "@jupyter-widgets/controls",
          "model_name": "FloatProgressModel",
          "model_module_version": "1.5.0",
          "state": {
            "_dom_classes": [],
            "_model_module": "@jupyter-widgets/controls",
            "_model_module_version": "1.5.0",
            "_model_name": "FloatProgressModel",
            "_view_count": null,
            "_view_module": "@jupyter-widgets/controls",
            "_view_module_version": "1.5.0",
            "_view_name": "ProgressView",
            "bar_style": "success",
            "description": "",
            "description_tooltip": null,
            "layout": "IPY_MODEL_71a84c8e75d949aeaa61b3be2a3250c8",
            "max": 49,
            "min": 0,
            "orientation": "horizontal",
            "style": "IPY_MODEL_451ca94f4788425c9d4c7a6f0cdc4e53",
            "value": 49
          }
        },
        "395b85d6a3bc4d78babb5df10d02eb3f": {
          "model_module": "@jupyter-widgets/controls",
          "model_name": "HTMLModel",
          "model_module_version": "1.5.0",
          "state": {
            "_dom_classes": [],
            "_model_module": "@jupyter-widgets/controls",
            "_model_module_version": "1.5.0",
            "_model_name": "HTMLModel",
            "_view_count": null,
            "_view_module": "@jupyter-widgets/controls",
            "_view_module_version": "1.5.0",
            "_view_name": "HTMLView",
            "description": "",
            "description_tooltip": null,
            "layout": "IPY_MODEL_3b1dede7b3464509ac3411ce2ebc3780",
            "placeholder": "​",
            "style": "IPY_MODEL_3f3c1f3675474876bf5fab54befad93f",
            "value": " 49.0/49.0 [00:00&lt;00:00, 3.34kB/s]"
          }
        },
        "6413eaa15e47407881672056cec9fa09": {
          "model_module": "@jupyter-widgets/base",
          "model_name": "LayoutModel",
          "model_module_version": "1.2.0",
          "state": {
            "_model_module": "@jupyter-widgets/base",
            "_model_module_version": "1.2.0",
            "_model_name": "LayoutModel",
            "_view_count": null,
            "_view_module": "@jupyter-widgets/base",
            "_view_module_version": "1.2.0",
            "_view_name": "LayoutView",
            "align_content": null,
            "align_items": null,
            "align_self": null,
            "border": null,
            "bottom": null,
            "display": null,
            "flex": null,
            "flex_flow": null,
            "grid_area": null,
            "grid_auto_columns": null,
            "grid_auto_flow": null,
            "grid_auto_rows": null,
            "grid_column": null,
            "grid_gap": null,
            "grid_row": null,
            "grid_template_areas": null,
            "grid_template_columns": null,
            "grid_template_rows": null,
            "height": null,
            "justify_content": null,
            "justify_items": null,
            "left": null,
            "margin": null,
            "max_height": null,
            "max_width": null,
            "min_height": null,
            "min_width": null,
            "object_fit": null,
            "object_position": null,
            "order": null,
            "overflow": null,
            "overflow_x": null,
            "overflow_y": null,
            "padding": null,
            "right": null,
            "top": null,
            "visibility": null,
            "width": null
          }
        },
        "9a5297af7243490aafbb5a8c485f2f13": {
          "model_module": "@jupyter-widgets/base",
          "model_name": "LayoutModel",
          "model_module_version": "1.2.0",
          "state": {
            "_model_module": "@jupyter-widgets/base",
            "_model_module_version": "1.2.0",
            "_model_name": "LayoutModel",
            "_view_count": null,
            "_view_module": "@jupyter-widgets/base",
            "_view_module_version": "1.2.0",
            "_view_name": "LayoutView",
            "align_content": null,
            "align_items": null,
            "align_self": null,
            "border": null,
            "bottom": null,
            "display": null,
            "flex": null,
            "flex_flow": null,
            "grid_area": null,
            "grid_auto_columns": null,
            "grid_auto_flow": null,
            "grid_auto_rows": null,
            "grid_column": null,
            "grid_gap": null,
            "grid_row": null,
            "grid_template_areas": null,
            "grid_template_columns": null,
            "grid_template_rows": null,
            "height": null,
            "justify_content": null,
            "justify_items": null,
            "left": null,
            "margin": null,
            "max_height": null,
            "max_width": null,
            "min_height": null,
            "min_width": null,
            "object_fit": null,
            "object_position": null,
            "order": null,
            "overflow": null,
            "overflow_x": null,
            "overflow_y": null,
            "padding": null,
            "right": null,
            "top": null,
            "visibility": null,
            "width": null
          }
        },
        "af9f0e05d4f74de99040f6f5041fc506": {
          "model_module": "@jupyter-widgets/controls",
          "model_name": "DescriptionStyleModel",
          "model_module_version": "1.5.0",
          "state": {
            "_model_module": "@jupyter-widgets/controls",
            "_model_module_version": "1.5.0",
            "_model_name": "DescriptionStyleModel",
            "_view_count": null,
            "_view_module": "@jupyter-widgets/base",
            "_view_module_version": "1.2.0",
            "_view_name": "StyleView",
            "description_width": ""
          }
        },
        "71a84c8e75d949aeaa61b3be2a3250c8": {
          "model_module": "@jupyter-widgets/base",
          "model_name": "LayoutModel",
          "model_module_version": "1.2.0",
          "state": {
            "_model_module": "@jupyter-widgets/base",
            "_model_module_version": "1.2.0",
            "_model_name": "LayoutModel",
            "_view_count": null,
            "_view_module": "@jupyter-widgets/base",
            "_view_module_version": "1.2.0",
            "_view_name": "LayoutView",
            "align_content": null,
            "align_items": null,
            "align_self": null,
            "border": null,
            "bottom": null,
            "display": null,
            "flex": null,
            "flex_flow": null,
            "grid_area": null,
            "grid_auto_columns": null,
            "grid_auto_flow": null,
            "grid_auto_rows": null,
            "grid_column": null,
            "grid_gap": null,
            "grid_row": null,
            "grid_template_areas": null,
            "grid_template_columns": null,
            "grid_template_rows": null,
            "height": null,
            "justify_content": null,
            "justify_items": null,
            "left": null,
            "margin": null,
            "max_height": null,
            "max_width": null,
            "min_height": null,
            "min_width": null,
            "object_fit": null,
            "object_position": null,
            "order": null,
            "overflow": null,
            "overflow_x": null,
            "overflow_y": null,
            "padding": null,
            "right": null,
            "top": null,
            "visibility": null,
            "width": null
          }
        },
        "451ca94f4788425c9d4c7a6f0cdc4e53": {
          "model_module": "@jupyter-widgets/controls",
          "model_name": "ProgressStyleModel",
          "model_module_version": "1.5.0",
          "state": {
            "_model_module": "@jupyter-widgets/controls",
            "_model_module_version": "1.5.0",
            "_model_name": "ProgressStyleModel",
            "_view_count": null,
            "_view_module": "@jupyter-widgets/base",
            "_view_module_version": "1.2.0",
            "_view_name": "StyleView",
            "bar_color": null,
            "description_width": ""
          }
        },
        "3b1dede7b3464509ac3411ce2ebc3780": {
          "model_module": "@jupyter-widgets/base",
          "model_name": "LayoutModel",
          "model_module_version": "1.2.0",
          "state": {
            "_model_module": "@jupyter-widgets/base",
            "_model_module_version": "1.2.0",
            "_model_name": "LayoutModel",
            "_view_count": null,
            "_view_module": "@jupyter-widgets/base",
            "_view_module_version": "1.2.0",
            "_view_name": "LayoutView",
            "align_content": null,
            "align_items": null,
            "align_self": null,
            "border": null,
            "bottom": null,
            "display": null,
            "flex": null,
            "flex_flow": null,
            "grid_area": null,
            "grid_auto_columns": null,
            "grid_auto_flow": null,
            "grid_auto_rows": null,
            "grid_column": null,
            "grid_gap": null,
            "grid_row": null,
            "grid_template_areas": null,
            "grid_template_columns": null,
            "grid_template_rows": null,
            "height": null,
            "justify_content": null,
            "justify_items": null,
            "left": null,
            "margin": null,
            "max_height": null,
            "max_width": null,
            "min_height": null,
            "min_width": null,
            "object_fit": null,
            "object_position": null,
            "order": null,
            "overflow": null,
            "overflow_x": null,
            "overflow_y": null,
            "padding": null,
            "right": null,
            "top": null,
            "visibility": null,
            "width": null
          }
        },
        "3f3c1f3675474876bf5fab54befad93f": {
          "model_module": "@jupyter-widgets/controls",
          "model_name": "DescriptionStyleModel",
          "model_module_version": "1.5.0",
          "state": {
            "_model_module": "@jupyter-widgets/controls",
            "_model_module_version": "1.5.0",
            "_model_name": "DescriptionStyleModel",
            "_view_count": null,
            "_view_module": "@jupyter-widgets/base",
            "_view_module_version": "1.2.0",
            "_view_name": "StyleView",
            "description_width": ""
          }
        },
        "17a1e16973994b1da9f7c0e9b2b5aa5c": {
          "model_module": "@jupyter-widgets/controls",
          "model_name": "HBoxModel",
          "model_module_version": "1.5.0",
          "state": {
            "_dom_classes": [],
            "_model_module": "@jupyter-widgets/controls",
            "_model_module_version": "1.5.0",
            "_model_name": "HBoxModel",
            "_view_count": null,
            "_view_module": "@jupyter-widgets/controls",
            "_view_module_version": "1.5.0",
            "_view_name": "HBoxView",
            "box_style": "",
            "children": [
              "IPY_MODEL_87d449b2719e4f75a88f9d4b5573d67d",
              "IPY_MODEL_126c4cd659f945c7a0a5eb2f090a9d27",
              "IPY_MODEL_8fe5981014a34fe8aed7a47f22e6f2d0"
            ],
            "layout": "IPY_MODEL_de61a92931394dbfae808e67f3c0359a"
          }
        },
        "87d449b2719e4f75a88f9d4b5573d67d": {
          "model_module": "@jupyter-widgets/controls",
          "model_name": "HTMLModel",
          "model_module_version": "1.5.0",
          "state": {
            "_dom_classes": [],
            "_model_module": "@jupyter-widgets/controls",
            "_model_module_version": "1.5.0",
            "_model_name": "HTMLModel",
            "_view_count": null,
            "_view_module": "@jupyter-widgets/controls",
            "_view_module_version": "1.5.0",
            "_view_name": "HTMLView",
            "description": "",
            "description_tooltip": null,
            "layout": "IPY_MODEL_ed8933b15ae7481dab070bcefc278ea0",
            "placeholder": "​",
            "style": "IPY_MODEL_7e52e12c0ef542e5a797905974427a2e",
            "value": "config.json: 100%"
          }
        },
        "126c4cd659f945c7a0a5eb2f090a9d27": {
          "model_module": "@jupyter-widgets/controls",
          "model_name": "FloatProgressModel",
          "model_module_version": "1.5.0",
          "state": {
            "_dom_classes": [],
            "_model_module": "@jupyter-widgets/controls",
            "_model_module_version": "1.5.0",
            "_model_name": "FloatProgressModel",
            "_view_count": null,
            "_view_module": "@jupyter-widgets/controls",
            "_view_module_version": "1.5.0",
            "_view_name": "ProgressView",
            "bar_style": "success",
            "description": "",
            "description_tooltip": null,
            "layout": "IPY_MODEL_928c607c7e35487288750e7190b2d117",
            "max": 570,
            "min": 0,
            "orientation": "horizontal",
            "style": "IPY_MODEL_9b40b2dc27c742869f43d69ab20da667",
            "value": 570
          }
        },
        "8fe5981014a34fe8aed7a47f22e6f2d0": {
          "model_module": "@jupyter-widgets/controls",
          "model_name": "HTMLModel",
          "model_module_version": "1.5.0",
          "state": {
            "_dom_classes": [],
            "_model_module": "@jupyter-widgets/controls",
            "_model_module_version": "1.5.0",
            "_model_name": "HTMLModel",
            "_view_count": null,
            "_view_module": "@jupyter-widgets/controls",
            "_view_module_version": "1.5.0",
            "_view_name": "HTMLView",
            "description": "",
            "description_tooltip": null,
            "layout": "IPY_MODEL_d5d3fe99771e4fc5892b0a773baa12c8",
            "placeholder": "​",
            "style": "IPY_MODEL_1da792cf6cee4430b8be55097e8503db",
            "value": " 570/570 [00:00&lt;00:00, 48.9kB/s]"
          }
        },
        "de61a92931394dbfae808e67f3c0359a": {
          "model_module": "@jupyter-widgets/base",
          "model_name": "LayoutModel",
          "model_module_version": "1.2.0",
          "state": {
            "_model_module": "@jupyter-widgets/base",
            "_model_module_version": "1.2.0",
            "_model_name": "LayoutModel",
            "_view_count": null,
            "_view_module": "@jupyter-widgets/base",
            "_view_module_version": "1.2.0",
            "_view_name": "LayoutView",
            "align_content": null,
            "align_items": null,
            "align_self": null,
            "border": null,
            "bottom": null,
            "display": null,
            "flex": null,
            "flex_flow": null,
            "grid_area": null,
            "grid_auto_columns": null,
            "grid_auto_flow": null,
            "grid_auto_rows": null,
            "grid_column": null,
            "grid_gap": null,
            "grid_row": null,
            "grid_template_areas": null,
            "grid_template_columns": null,
            "grid_template_rows": null,
            "height": null,
            "justify_content": null,
            "justify_items": null,
            "left": null,
            "margin": null,
            "max_height": null,
            "max_width": null,
            "min_height": null,
            "min_width": null,
            "object_fit": null,
            "object_position": null,
            "order": null,
            "overflow": null,
            "overflow_x": null,
            "overflow_y": null,
            "padding": null,
            "right": null,
            "top": null,
            "visibility": null,
            "width": null
          }
        },
        "ed8933b15ae7481dab070bcefc278ea0": {
          "model_module": "@jupyter-widgets/base",
          "model_name": "LayoutModel",
          "model_module_version": "1.2.0",
          "state": {
            "_model_module": "@jupyter-widgets/base",
            "_model_module_version": "1.2.0",
            "_model_name": "LayoutModel",
            "_view_count": null,
            "_view_module": "@jupyter-widgets/base",
            "_view_module_version": "1.2.0",
            "_view_name": "LayoutView",
            "align_content": null,
            "align_items": null,
            "align_self": null,
            "border": null,
            "bottom": null,
            "display": null,
            "flex": null,
            "flex_flow": null,
            "grid_area": null,
            "grid_auto_columns": null,
            "grid_auto_flow": null,
            "grid_auto_rows": null,
            "grid_column": null,
            "grid_gap": null,
            "grid_row": null,
            "grid_template_areas": null,
            "grid_template_columns": null,
            "grid_template_rows": null,
            "height": null,
            "justify_content": null,
            "justify_items": null,
            "left": null,
            "margin": null,
            "max_height": null,
            "max_width": null,
            "min_height": null,
            "min_width": null,
            "object_fit": null,
            "object_position": null,
            "order": null,
            "overflow": null,
            "overflow_x": null,
            "overflow_y": null,
            "padding": null,
            "right": null,
            "top": null,
            "visibility": null,
            "width": null
          }
        },
        "7e52e12c0ef542e5a797905974427a2e": {
          "model_module": "@jupyter-widgets/controls",
          "model_name": "DescriptionStyleModel",
          "model_module_version": "1.5.0",
          "state": {
            "_model_module": "@jupyter-widgets/controls",
            "_model_module_version": "1.5.0",
            "_model_name": "DescriptionStyleModel",
            "_view_count": null,
            "_view_module": "@jupyter-widgets/base",
            "_view_module_version": "1.2.0",
            "_view_name": "StyleView",
            "description_width": ""
          }
        },
        "928c607c7e35487288750e7190b2d117": {
          "model_module": "@jupyter-widgets/base",
          "model_name": "LayoutModel",
          "model_module_version": "1.2.0",
          "state": {
            "_model_module": "@jupyter-widgets/base",
            "_model_module_version": "1.2.0",
            "_model_name": "LayoutModel",
            "_view_count": null,
            "_view_module": "@jupyter-widgets/base",
            "_view_module_version": "1.2.0",
            "_view_name": "LayoutView",
            "align_content": null,
            "align_items": null,
            "align_self": null,
            "border": null,
            "bottom": null,
            "display": null,
            "flex": null,
            "flex_flow": null,
            "grid_area": null,
            "grid_auto_columns": null,
            "grid_auto_flow": null,
            "grid_auto_rows": null,
            "grid_column": null,
            "grid_gap": null,
            "grid_row": null,
            "grid_template_areas": null,
            "grid_template_columns": null,
            "grid_template_rows": null,
            "height": null,
            "justify_content": null,
            "justify_items": null,
            "left": null,
            "margin": null,
            "max_height": null,
            "max_width": null,
            "min_height": null,
            "min_width": null,
            "object_fit": null,
            "object_position": null,
            "order": null,
            "overflow": null,
            "overflow_x": null,
            "overflow_y": null,
            "padding": null,
            "right": null,
            "top": null,
            "visibility": null,
            "width": null
          }
        },
        "9b40b2dc27c742869f43d69ab20da667": {
          "model_module": "@jupyter-widgets/controls",
          "model_name": "ProgressStyleModel",
          "model_module_version": "1.5.0",
          "state": {
            "_model_module": "@jupyter-widgets/controls",
            "_model_module_version": "1.5.0",
            "_model_name": "ProgressStyleModel",
            "_view_count": null,
            "_view_module": "@jupyter-widgets/base",
            "_view_module_version": "1.2.0",
            "_view_name": "StyleView",
            "bar_color": null,
            "description_width": ""
          }
        },
        "d5d3fe99771e4fc5892b0a773baa12c8": {
          "model_module": "@jupyter-widgets/base",
          "model_name": "LayoutModel",
          "model_module_version": "1.2.0",
          "state": {
            "_model_module": "@jupyter-widgets/base",
            "_model_module_version": "1.2.0",
            "_model_name": "LayoutModel",
            "_view_count": null,
            "_view_module": "@jupyter-widgets/base",
            "_view_module_version": "1.2.0",
            "_view_name": "LayoutView",
            "align_content": null,
            "align_items": null,
            "align_self": null,
            "border": null,
            "bottom": null,
            "display": null,
            "flex": null,
            "flex_flow": null,
            "grid_area": null,
            "grid_auto_columns": null,
            "grid_auto_flow": null,
            "grid_auto_rows": null,
            "grid_column": null,
            "grid_gap": null,
            "grid_row": null,
            "grid_template_areas": null,
            "grid_template_columns": null,
            "grid_template_rows": null,
            "height": null,
            "justify_content": null,
            "justify_items": null,
            "left": null,
            "margin": null,
            "max_height": null,
            "max_width": null,
            "min_height": null,
            "min_width": null,
            "object_fit": null,
            "object_position": null,
            "order": null,
            "overflow": null,
            "overflow_x": null,
            "overflow_y": null,
            "padding": null,
            "right": null,
            "top": null,
            "visibility": null,
            "width": null
          }
        },
        "1da792cf6cee4430b8be55097e8503db": {
          "model_module": "@jupyter-widgets/controls",
          "model_name": "DescriptionStyleModel",
          "model_module_version": "1.5.0",
          "state": {
            "_model_module": "@jupyter-widgets/controls",
            "_model_module_version": "1.5.0",
            "_model_name": "DescriptionStyleModel",
            "_view_count": null,
            "_view_module": "@jupyter-widgets/base",
            "_view_module_version": "1.2.0",
            "_view_name": "StyleView",
            "description_width": ""
          }
        },
        "252fa76775394da3b5397008d6803ae9": {
          "model_module": "@jupyter-widgets/controls",
          "model_name": "HBoxModel",
          "model_module_version": "1.5.0",
          "state": {
            "_dom_classes": [],
            "_model_module": "@jupyter-widgets/controls",
            "_model_module_version": "1.5.0",
            "_model_name": "HBoxModel",
            "_view_count": null,
            "_view_module": "@jupyter-widgets/controls",
            "_view_module_version": "1.5.0",
            "_view_name": "HBoxView",
            "box_style": "",
            "children": [
              "IPY_MODEL_fae0540a55554b29975089b24a746393",
              "IPY_MODEL_0a25f93317ae4fa89b39224536511b4f",
              "IPY_MODEL_6804132a72ce4e7eaa055b05c24a228f"
            ],
            "layout": "IPY_MODEL_f9b582895cb24d1699ede444fcfd4fc1"
          }
        },
        "fae0540a55554b29975089b24a746393": {
          "model_module": "@jupyter-widgets/controls",
          "model_name": "HTMLModel",
          "model_module_version": "1.5.0",
          "state": {
            "_dom_classes": [],
            "_model_module": "@jupyter-widgets/controls",
            "_model_module_version": "1.5.0",
            "_model_name": "HTMLModel",
            "_view_count": null,
            "_view_module": "@jupyter-widgets/controls",
            "_view_module_version": "1.5.0",
            "_view_name": "HTMLView",
            "description": "",
            "description_tooltip": null,
            "layout": "IPY_MODEL_7c511525cd614ea293fe5d1bca033f26",
            "placeholder": "​",
            "style": "IPY_MODEL_08b5349218044cd88f67a0ed239c7ff2",
            "value": "vocab.txt: 100%"
          }
        },
        "0a25f93317ae4fa89b39224536511b4f": {
          "model_module": "@jupyter-widgets/controls",
          "model_name": "FloatProgressModel",
          "model_module_version": "1.5.0",
          "state": {
            "_dom_classes": [],
            "_model_module": "@jupyter-widgets/controls",
            "_model_module_version": "1.5.0",
            "_model_name": "FloatProgressModel",
            "_view_count": null,
            "_view_module": "@jupyter-widgets/controls",
            "_view_module_version": "1.5.0",
            "_view_name": "ProgressView",
            "bar_style": "success",
            "description": "",
            "description_tooltip": null,
            "layout": "IPY_MODEL_82dfdd41d904464897d853af9baef8fc",
            "max": 213450,
            "min": 0,
            "orientation": "horizontal",
            "style": "IPY_MODEL_4eb1bd58b9444010bc57199e37022911",
            "value": 213450
          }
        },
        "6804132a72ce4e7eaa055b05c24a228f": {
          "model_module": "@jupyter-widgets/controls",
          "model_name": "HTMLModel",
          "model_module_version": "1.5.0",
          "state": {
            "_dom_classes": [],
            "_model_module": "@jupyter-widgets/controls",
            "_model_module_version": "1.5.0",
            "_model_name": "HTMLModel",
            "_view_count": null,
            "_view_module": "@jupyter-widgets/controls",
            "_view_module_version": "1.5.0",
            "_view_name": "HTMLView",
            "description": "",
            "description_tooltip": null,
            "layout": "IPY_MODEL_c566c24921e04836948e15d08b42b0ce",
            "placeholder": "​",
            "style": "IPY_MODEL_481b83b02e624dedaff43a0627e59c23",
            "value": " 213k/213k [00:00&lt;00:00, 599kB/s]"
          }
        },
        "f9b582895cb24d1699ede444fcfd4fc1": {
          "model_module": "@jupyter-widgets/base",
          "model_name": "LayoutModel",
          "model_module_version": "1.2.0",
          "state": {
            "_model_module": "@jupyter-widgets/base",
            "_model_module_version": "1.2.0",
            "_model_name": "LayoutModel",
            "_view_count": null,
            "_view_module": "@jupyter-widgets/base",
            "_view_module_version": "1.2.0",
            "_view_name": "LayoutView",
            "align_content": null,
            "align_items": null,
            "align_self": null,
            "border": null,
            "bottom": null,
            "display": null,
            "flex": null,
            "flex_flow": null,
            "grid_area": null,
            "grid_auto_columns": null,
            "grid_auto_flow": null,
            "grid_auto_rows": null,
            "grid_column": null,
            "grid_gap": null,
            "grid_row": null,
            "grid_template_areas": null,
            "grid_template_columns": null,
            "grid_template_rows": null,
            "height": null,
            "justify_content": null,
            "justify_items": null,
            "left": null,
            "margin": null,
            "max_height": null,
            "max_width": null,
            "min_height": null,
            "min_width": null,
            "object_fit": null,
            "object_position": null,
            "order": null,
            "overflow": null,
            "overflow_x": null,
            "overflow_y": null,
            "padding": null,
            "right": null,
            "top": null,
            "visibility": null,
            "width": null
          }
        },
        "7c511525cd614ea293fe5d1bca033f26": {
          "model_module": "@jupyter-widgets/base",
          "model_name": "LayoutModel",
          "model_module_version": "1.2.0",
          "state": {
            "_model_module": "@jupyter-widgets/base",
            "_model_module_version": "1.2.0",
            "_model_name": "LayoutModel",
            "_view_count": null,
            "_view_module": "@jupyter-widgets/base",
            "_view_module_version": "1.2.0",
            "_view_name": "LayoutView",
            "align_content": null,
            "align_items": null,
            "align_self": null,
            "border": null,
            "bottom": null,
            "display": null,
            "flex": null,
            "flex_flow": null,
            "grid_area": null,
            "grid_auto_columns": null,
            "grid_auto_flow": null,
            "grid_auto_rows": null,
            "grid_column": null,
            "grid_gap": null,
            "grid_row": null,
            "grid_template_areas": null,
            "grid_template_columns": null,
            "grid_template_rows": null,
            "height": null,
            "justify_content": null,
            "justify_items": null,
            "left": null,
            "margin": null,
            "max_height": null,
            "max_width": null,
            "min_height": null,
            "min_width": null,
            "object_fit": null,
            "object_position": null,
            "order": null,
            "overflow": null,
            "overflow_x": null,
            "overflow_y": null,
            "padding": null,
            "right": null,
            "top": null,
            "visibility": null,
            "width": null
          }
        },
        "08b5349218044cd88f67a0ed239c7ff2": {
          "model_module": "@jupyter-widgets/controls",
          "model_name": "DescriptionStyleModel",
          "model_module_version": "1.5.0",
          "state": {
            "_model_module": "@jupyter-widgets/controls",
            "_model_module_version": "1.5.0",
            "_model_name": "DescriptionStyleModel",
            "_view_count": null,
            "_view_module": "@jupyter-widgets/base",
            "_view_module_version": "1.2.0",
            "_view_name": "StyleView",
            "description_width": ""
          }
        },
        "82dfdd41d904464897d853af9baef8fc": {
          "model_module": "@jupyter-widgets/base",
          "model_name": "LayoutModel",
          "model_module_version": "1.2.0",
          "state": {
            "_model_module": "@jupyter-widgets/base",
            "_model_module_version": "1.2.0",
            "_model_name": "LayoutModel",
            "_view_count": null,
            "_view_module": "@jupyter-widgets/base",
            "_view_module_version": "1.2.0",
            "_view_name": "LayoutView",
            "align_content": null,
            "align_items": null,
            "align_self": null,
            "border": null,
            "bottom": null,
            "display": null,
            "flex": null,
            "flex_flow": null,
            "grid_area": null,
            "grid_auto_columns": null,
            "grid_auto_flow": null,
            "grid_auto_rows": null,
            "grid_column": null,
            "grid_gap": null,
            "grid_row": null,
            "grid_template_areas": null,
            "grid_template_columns": null,
            "grid_template_rows": null,
            "height": null,
            "justify_content": null,
            "justify_items": null,
            "left": null,
            "margin": null,
            "max_height": null,
            "max_width": null,
            "min_height": null,
            "min_width": null,
            "object_fit": null,
            "object_position": null,
            "order": null,
            "overflow": null,
            "overflow_x": null,
            "overflow_y": null,
            "padding": null,
            "right": null,
            "top": null,
            "visibility": null,
            "width": null
          }
        },
        "4eb1bd58b9444010bc57199e37022911": {
          "model_module": "@jupyter-widgets/controls",
          "model_name": "ProgressStyleModel",
          "model_module_version": "1.5.0",
          "state": {
            "_model_module": "@jupyter-widgets/controls",
            "_model_module_version": "1.5.0",
            "_model_name": "ProgressStyleModel",
            "_view_count": null,
            "_view_module": "@jupyter-widgets/base",
            "_view_module_version": "1.2.0",
            "_view_name": "StyleView",
            "bar_color": null,
            "description_width": ""
          }
        },
        "c566c24921e04836948e15d08b42b0ce": {
          "model_module": "@jupyter-widgets/base",
          "model_name": "LayoutModel",
          "model_module_version": "1.2.0",
          "state": {
            "_model_module": "@jupyter-widgets/base",
            "_model_module_version": "1.2.0",
            "_model_name": "LayoutModel",
            "_view_count": null,
            "_view_module": "@jupyter-widgets/base",
            "_view_module_version": "1.2.0",
            "_view_name": "LayoutView",
            "align_content": null,
            "align_items": null,
            "align_self": null,
            "border": null,
            "bottom": null,
            "display": null,
            "flex": null,
            "flex_flow": null,
            "grid_area": null,
            "grid_auto_columns": null,
            "grid_auto_flow": null,
            "grid_auto_rows": null,
            "grid_column": null,
            "grid_gap": null,
            "grid_row": null,
            "grid_template_areas": null,
            "grid_template_columns": null,
            "grid_template_rows": null,
            "height": null,
            "justify_content": null,
            "justify_items": null,
            "left": null,
            "margin": null,
            "max_height": null,
            "max_width": null,
            "min_height": null,
            "min_width": null,
            "object_fit": null,
            "object_position": null,
            "order": null,
            "overflow": null,
            "overflow_x": null,
            "overflow_y": null,
            "padding": null,
            "right": null,
            "top": null,
            "visibility": null,
            "width": null
          }
        },
        "481b83b02e624dedaff43a0627e59c23": {
          "model_module": "@jupyter-widgets/controls",
          "model_name": "DescriptionStyleModel",
          "model_module_version": "1.5.0",
          "state": {
            "_model_module": "@jupyter-widgets/controls",
            "_model_module_version": "1.5.0",
            "_model_name": "DescriptionStyleModel",
            "_view_count": null,
            "_view_module": "@jupyter-widgets/base",
            "_view_module_version": "1.2.0",
            "_view_name": "StyleView",
            "description_width": ""
          }
        },
        "4ef809a60e3d407d8837c05a9ccd1e45": {
          "model_module": "@jupyter-widgets/controls",
          "model_name": "HBoxModel",
          "model_module_version": "1.5.0",
          "state": {
            "_dom_classes": [],
            "_model_module": "@jupyter-widgets/controls",
            "_model_module_version": "1.5.0",
            "_model_name": "HBoxModel",
            "_view_count": null,
            "_view_module": "@jupyter-widgets/controls",
            "_view_module_version": "1.5.0",
            "_view_name": "HBoxView",
            "box_style": "",
            "children": [
              "IPY_MODEL_31c0e0bb3a904b69b0eeb7de9f16e96c",
              "IPY_MODEL_cfa9d6ef59794c30aa3a59854b0035c6",
              "IPY_MODEL_c106026b4e0a4f868587dd8df85a350d"
            ],
            "layout": "IPY_MODEL_81b83cf6837c4313870212b9c15ce973"
          }
        },
        "31c0e0bb3a904b69b0eeb7de9f16e96c": {
          "model_module": "@jupyter-widgets/controls",
          "model_name": "HTMLModel",
          "model_module_version": "1.5.0",
          "state": {
            "_dom_classes": [],
            "_model_module": "@jupyter-widgets/controls",
            "_model_module_version": "1.5.0",
            "_model_name": "HTMLModel",
            "_view_count": null,
            "_view_module": "@jupyter-widgets/controls",
            "_view_module_version": "1.5.0",
            "_view_name": "HTMLView",
            "description": "",
            "description_tooltip": null,
            "layout": "IPY_MODEL_690a9aedfdbe44838b6aa8a7f09e2813",
            "placeholder": "​",
            "style": "IPY_MODEL_68cde49770c84f66b6d752f3f5a0ce39",
            "value": "tokenizer.json: 100%"
          }
        },
        "cfa9d6ef59794c30aa3a59854b0035c6": {
          "model_module": "@jupyter-widgets/controls",
          "model_name": "FloatProgressModel",
          "model_module_version": "1.5.0",
          "state": {
            "_dom_classes": [],
            "_model_module": "@jupyter-widgets/controls",
            "_model_module_version": "1.5.0",
            "_model_name": "FloatProgressModel",
            "_view_count": null,
            "_view_module": "@jupyter-widgets/controls",
            "_view_module_version": "1.5.0",
            "_view_name": "ProgressView",
            "bar_style": "success",
            "description": "",
            "description_tooltip": null,
            "layout": "IPY_MODEL_8fac651d70a54d8bb1ffc4d363dd816b",
            "max": 435797,
            "min": 0,
            "orientation": "horizontal",
            "style": "IPY_MODEL_770a443468604d0a98423eab112628f1",
            "value": 435797
          }
        },
        "c106026b4e0a4f868587dd8df85a350d": {
          "model_module": "@jupyter-widgets/controls",
          "model_name": "HTMLModel",
          "model_module_version": "1.5.0",
          "state": {
            "_dom_classes": [],
            "_model_module": "@jupyter-widgets/controls",
            "_model_module_version": "1.5.0",
            "_model_name": "HTMLModel",
            "_view_count": null,
            "_view_module": "@jupyter-widgets/controls",
            "_view_module_version": "1.5.0",
            "_view_name": "HTMLView",
            "description": "",
            "description_tooltip": null,
            "layout": "IPY_MODEL_e5eac932d9144783ae40fb55493fd387",
            "placeholder": "​",
            "style": "IPY_MODEL_0fd4b589961644b693b6a2da33bd441b",
            "value": " 436k/436k [00:00&lt;00:00, 2.44MB/s]"
          }
        },
        "81b83cf6837c4313870212b9c15ce973": {
          "model_module": "@jupyter-widgets/base",
          "model_name": "LayoutModel",
          "model_module_version": "1.2.0",
          "state": {
            "_model_module": "@jupyter-widgets/base",
            "_model_module_version": "1.2.0",
            "_model_name": "LayoutModel",
            "_view_count": null,
            "_view_module": "@jupyter-widgets/base",
            "_view_module_version": "1.2.0",
            "_view_name": "LayoutView",
            "align_content": null,
            "align_items": null,
            "align_self": null,
            "border": null,
            "bottom": null,
            "display": null,
            "flex": null,
            "flex_flow": null,
            "grid_area": null,
            "grid_auto_columns": null,
            "grid_auto_flow": null,
            "grid_auto_rows": null,
            "grid_column": null,
            "grid_gap": null,
            "grid_row": null,
            "grid_template_areas": null,
            "grid_template_columns": null,
            "grid_template_rows": null,
            "height": null,
            "justify_content": null,
            "justify_items": null,
            "left": null,
            "margin": null,
            "max_height": null,
            "max_width": null,
            "min_height": null,
            "min_width": null,
            "object_fit": null,
            "object_position": null,
            "order": null,
            "overflow": null,
            "overflow_x": null,
            "overflow_y": null,
            "padding": null,
            "right": null,
            "top": null,
            "visibility": null,
            "width": null
          }
        },
        "690a9aedfdbe44838b6aa8a7f09e2813": {
          "model_module": "@jupyter-widgets/base",
          "model_name": "LayoutModel",
          "model_module_version": "1.2.0",
          "state": {
            "_model_module": "@jupyter-widgets/base",
            "_model_module_version": "1.2.0",
            "_model_name": "LayoutModel",
            "_view_count": null,
            "_view_module": "@jupyter-widgets/base",
            "_view_module_version": "1.2.0",
            "_view_name": "LayoutView",
            "align_content": null,
            "align_items": null,
            "align_self": null,
            "border": null,
            "bottom": null,
            "display": null,
            "flex": null,
            "flex_flow": null,
            "grid_area": null,
            "grid_auto_columns": null,
            "grid_auto_flow": null,
            "grid_auto_rows": null,
            "grid_column": null,
            "grid_gap": null,
            "grid_row": null,
            "grid_template_areas": null,
            "grid_template_columns": null,
            "grid_template_rows": null,
            "height": null,
            "justify_content": null,
            "justify_items": null,
            "left": null,
            "margin": null,
            "max_height": null,
            "max_width": null,
            "min_height": null,
            "min_width": null,
            "object_fit": null,
            "object_position": null,
            "order": null,
            "overflow": null,
            "overflow_x": null,
            "overflow_y": null,
            "padding": null,
            "right": null,
            "top": null,
            "visibility": null,
            "width": null
          }
        },
        "68cde49770c84f66b6d752f3f5a0ce39": {
          "model_module": "@jupyter-widgets/controls",
          "model_name": "DescriptionStyleModel",
          "model_module_version": "1.5.0",
          "state": {
            "_model_module": "@jupyter-widgets/controls",
            "_model_module_version": "1.5.0",
            "_model_name": "DescriptionStyleModel",
            "_view_count": null,
            "_view_module": "@jupyter-widgets/base",
            "_view_module_version": "1.2.0",
            "_view_name": "StyleView",
            "description_width": ""
          }
        },
        "8fac651d70a54d8bb1ffc4d363dd816b": {
          "model_module": "@jupyter-widgets/base",
          "model_name": "LayoutModel",
          "model_module_version": "1.2.0",
          "state": {
            "_model_module": "@jupyter-widgets/base",
            "_model_module_version": "1.2.0",
            "_model_name": "LayoutModel",
            "_view_count": null,
            "_view_module": "@jupyter-widgets/base",
            "_view_module_version": "1.2.0",
            "_view_name": "LayoutView",
            "align_content": null,
            "align_items": null,
            "align_self": null,
            "border": null,
            "bottom": null,
            "display": null,
            "flex": null,
            "flex_flow": null,
            "grid_area": null,
            "grid_auto_columns": null,
            "grid_auto_flow": null,
            "grid_auto_rows": null,
            "grid_column": null,
            "grid_gap": null,
            "grid_row": null,
            "grid_template_areas": null,
            "grid_template_columns": null,
            "grid_template_rows": null,
            "height": null,
            "justify_content": null,
            "justify_items": null,
            "left": null,
            "margin": null,
            "max_height": null,
            "max_width": null,
            "min_height": null,
            "min_width": null,
            "object_fit": null,
            "object_position": null,
            "order": null,
            "overflow": null,
            "overflow_x": null,
            "overflow_y": null,
            "padding": null,
            "right": null,
            "top": null,
            "visibility": null,
            "width": null
          }
        },
        "770a443468604d0a98423eab112628f1": {
          "model_module": "@jupyter-widgets/controls",
          "model_name": "ProgressStyleModel",
          "model_module_version": "1.5.0",
          "state": {
            "_model_module": "@jupyter-widgets/controls",
            "_model_module_version": "1.5.0",
            "_model_name": "ProgressStyleModel",
            "_view_count": null,
            "_view_module": "@jupyter-widgets/base",
            "_view_module_version": "1.2.0",
            "_view_name": "StyleView",
            "bar_color": null,
            "description_width": ""
          }
        },
        "e5eac932d9144783ae40fb55493fd387": {
          "model_module": "@jupyter-widgets/base",
          "model_name": "LayoutModel",
          "model_module_version": "1.2.0",
          "state": {
            "_model_module": "@jupyter-widgets/base",
            "_model_module_version": "1.2.0",
            "_model_name": "LayoutModel",
            "_view_count": null,
            "_view_module": "@jupyter-widgets/base",
            "_view_module_version": "1.2.0",
            "_view_name": "LayoutView",
            "align_content": null,
            "align_items": null,
            "align_self": null,
            "border": null,
            "bottom": null,
            "display": null,
            "flex": null,
            "flex_flow": null,
            "grid_area": null,
            "grid_auto_columns": null,
            "grid_auto_flow": null,
            "grid_auto_rows": null,
            "grid_column": null,
            "grid_gap": null,
            "grid_row": null,
            "grid_template_areas": null,
            "grid_template_columns": null,
            "grid_template_rows": null,
            "height": null,
            "justify_content": null,
            "justify_items": null,
            "left": null,
            "margin": null,
            "max_height": null,
            "max_width": null,
            "min_height": null,
            "min_width": null,
            "object_fit": null,
            "object_position": null,
            "order": null,
            "overflow": null,
            "overflow_x": null,
            "overflow_y": null,
            "padding": null,
            "right": null,
            "top": null,
            "visibility": null,
            "width": null
          }
        },
        "0fd4b589961644b693b6a2da33bd441b": {
          "model_module": "@jupyter-widgets/controls",
          "model_name": "DescriptionStyleModel",
          "model_module_version": "1.5.0",
          "state": {
            "_model_module": "@jupyter-widgets/controls",
            "_model_module_version": "1.5.0",
            "_model_name": "DescriptionStyleModel",
            "_view_count": null,
            "_view_module": "@jupyter-widgets/base",
            "_view_module_version": "1.2.0",
            "_view_name": "StyleView",
            "description_width": ""
          }
        },
        "cc00e8ce76aa4d83aea51907fbfaef32": {
          "model_module": "@jupyter-widgets/controls",
          "model_name": "HBoxModel",
          "model_module_version": "1.5.0",
          "state": {
            "_dom_classes": [],
            "_model_module": "@jupyter-widgets/controls",
            "_model_module_version": "1.5.0",
            "_model_name": "HBoxModel",
            "_view_count": null,
            "_view_module": "@jupyter-widgets/controls",
            "_view_module_version": "1.5.0",
            "_view_name": "HBoxView",
            "box_style": "",
            "children": [
              "IPY_MODEL_eb99cd1c1b164430b25bc3e3a7026eec",
              "IPY_MODEL_03744ddbac804aa6bf1fedd753a54761",
              "IPY_MODEL_f94aaaee34f74f8aaae68f04b9c8bc50"
            ],
            "layout": "IPY_MODEL_cfb236fcfd0b40659634c0c2d967d3ec"
          }
        },
        "eb99cd1c1b164430b25bc3e3a7026eec": {
          "model_module": "@jupyter-widgets/controls",
          "model_name": "HTMLModel",
          "model_module_version": "1.5.0",
          "state": {
            "_dom_classes": [],
            "_model_module": "@jupyter-widgets/controls",
            "_model_module_version": "1.5.0",
            "_model_name": "HTMLModel",
            "_view_count": null,
            "_view_module": "@jupyter-widgets/controls",
            "_view_module_version": "1.5.0",
            "_view_name": "HTMLView",
            "description": "",
            "description_tooltip": null,
            "layout": "IPY_MODEL_fa7a593ea46144e296356e8f8a2de1ac",
            "placeholder": "​",
            "style": "IPY_MODEL_4946e4d115174e4fba0a820dc38c53fa",
            "value": "Map: 100%"
          }
        },
        "03744ddbac804aa6bf1fedd753a54761": {
          "model_module": "@jupyter-widgets/controls",
          "model_name": "FloatProgressModel",
          "model_module_version": "1.5.0",
          "state": {
            "_dom_classes": [],
            "_model_module": "@jupyter-widgets/controls",
            "_model_module_version": "1.5.0",
            "_model_name": "FloatProgressModel",
            "_view_count": null,
            "_view_module": "@jupyter-widgets/controls",
            "_view_module_version": "1.5.0",
            "_view_name": "ProgressView",
            "bar_style": "success",
            "description": "",
            "description_tooltip": null,
            "layout": "IPY_MODEL_2b6c286ce3c44f3fb00658f32c5d1f7c",
            "max": 8000,
            "min": 0,
            "orientation": "horizontal",
            "style": "IPY_MODEL_82d65be2c1ab407b9286f2dde399278f",
            "value": 8000
          }
        },
        "f94aaaee34f74f8aaae68f04b9c8bc50": {
          "model_module": "@jupyter-widgets/controls",
          "model_name": "HTMLModel",
          "model_module_version": "1.5.0",
          "state": {
            "_dom_classes": [],
            "_model_module": "@jupyter-widgets/controls",
            "_model_module_version": "1.5.0",
            "_model_name": "HTMLModel",
            "_view_count": null,
            "_view_module": "@jupyter-widgets/controls",
            "_view_module_version": "1.5.0",
            "_view_name": "HTMLView",
            "description": "",
            "description_tooltip": null,
            "layout": "IPY_MODEL_7d1b1a97fc7241ccaa62f591736f860b",
            "placeholder": "​",
            "style": "IPY_MODEL_4a2ec1966c654d0696d71277228ede5b",
            "value": " 8000/8000 [00:08&lt;00:00, 947.68 examples/s]"
          }
        },
        "cfb236fcfd0b40659634c0c2d967d3ec": {
          "model_module": "@jupyter-widgets/base",
          "model_name": "LayoutModel",
          "model_module_version": "1.2.0",
          "state": {
            "_model_module": "@jupyter-widgets/base",
            "_model_module_version": "1.2.0",
            "_model_name": "LayoutModel",
            "_view_count": null,
            "_view_module": "@jupyter-widgets/base",
            "_view_module_version": "1.2.0",
            "_view_name": "LayoutView",
            "align_content": null,
            "align_items": null,
            "align_self": null,
            "border": null,
            "bottom": null,
            "display": null,
            "flex": null,
            "flex_flow": null,
            "grid_area": null,
            "grid_auto_columns": null,
            "grid_auto_flow": null,
            "grid_auto_rows": null,
            "grid_column": null,
            "grid_gap": null,
            "grid_row": null,
            "grid_template_areas": null,
            "grid_template_columns": null,
            "grid_template_rows": null,
            "height": null,
            "justify_content": null,
            "justify_items": null,
            "left": null,
            "margin": null,
            "max_height": null,
            "max_width": null,
            "min_height": null,
            "min_width": null,
            "object_fit": null,
            "object_position": null,
            "order": null,
            "overflow": null,
            "overflow_x": null,
            "overflow_y": null,
            "padding": null,
            "right": null,
            "top": null,
            "visibility": null,
            "width": null
          }
        },
        "fa7a593ea46144e296356e8f8a2de1ac": {
          "model_module": "@jupyter-widgets/base",
          "model_name": "LayoutModel",
          "model_module_version": "1.2.0",
          "state": {
            "_model_module": "@jupyter-widgets/base",
            "_model_module_version": "1.2.0",
            "_model_name": "LayoutModel",
            "_view_count": null,
            "_view_module": "@jupyter-widgets/base",
            "_view_module_version": "1.2.0",
            "_view_name": "LayoutView",
            "align_content": null,
            "align_items": null,
            "align_self": null,
            "border": null,
            "bottom": null,
            "display": null,
            "flex": null,
            "flex_flow": null,
            "grid_area": null,
            "grid_auto_columns": null,
            "grid_auto_flow": null,
            "grid_auto_rows": null,
            "grid_column": null,
            "grid_gap": null,
            "grid_row": null,
            "grid_template_areas": null,
            "grid_template_columns": null,
            "grid_template_rows": null,
            "height": null,
            "justify_content": null,
            "justify_items": null,
            "left": null,
            "margin": null,
            "max_height": null,
            "max_width": null,
            "min_height": null,
            "min_width": null,
            "object_fit": null,
            "object_position": null,
            "order": null,
            "overflow": null,
            "overflow_x": null,
            "overflow_y": null,
            "padding": null,
            "right": null,
            "top": null,
            "visibility": null,
            "width": null
          }
        },
        "4946e4d115174e4fba0a820dc38c53fa": {
          "model_module": "@jupyter-widgets/controls",
          "model_name": "DescriptionStyleModel",
          "model_module_version": "1.5.0",
          "state": {
            "_model_module": "@jupyter-widgets/controls",
            "_model_module_version": "1.5.0",
            "_model_name": "DescriptionStyleModel",
            "_view_count": null,
            "_view_module": "@jupyter-widgets/base",
            "_view_module_version": "1.2.0",
            "_view_name": "StyleView",
            "description_width": ""
          }
        },
        "2b6c286ce3c44f3fb00658f32c5d1f7c": {
          "model_module": "@jupyter-widgets/base",
          "model_name": "LayoutModel",
          "model_module_version": "1.2.0",
          "state": {
            "_model_module": "@jupyter-widgets/base",
            "_model_module_version": "1.2.0",
            "_model_name": "LayoutModel",
            "_view_count": null,
            "_view_module": "@jupyter-widgets/base",
            "_view_module_version": "1.2.0",
            "_view_name": "LayoutView",
            "align_content": null,
            "align_items": null,
            "align_self": null,
            "border": null,
            "bottom": null,
            "display": null,
            "flex": null,
            "flex_flow": null,
            "grid_area": null,
            "grid_auto_columns": null,
            "grid_auto_flow": null,
            "grid_auto_rows": null,
            "grid_column": null,
            "grid_gap": null,
            "grid_row": null,
            "grid_template_areas": null,
            "grid_template_columns": null,
            "grid_template_rows": null,
            "height": null,
            "justify_content": null,
            "justify_items": null,
            "left": null,
            "margin": null,
            "max_height": null,
            "max_width": null,
            "min_height": null,
            "min_width": null,
            "object_fit": null,
            "object_position": null,
            "order": null,
            "overflow": null,
            "overflow_x": null,
            "overflow_y": null,
            "padding": null,
            "right": null,
            "top": null,
            "visibility": null,
            "width": null
          }
        },
        "82d65be2c1ab407b9286f2dde399278f": {
          "model_module": "@jupyter-widgets/controls",
          "model_name": "ProgressStyleModel",
          "model_module_version": "1.5.0",
          "state": {
            "_model_module": "@jupyter-widgets/controls",
            "_model_module_version": "1.5.0",
            "_model_name": "ProgressStyleModel",
            "_view_count": null,
            "_view_module": "@jupyter-widgets/base",
            "_view_module_version": "1.2.0",
            "_view_name": "StyleView",
            "bar_color": null,
            "description_width": ""
          }
        },
        "7d1b1a97fc7241ccaa62f591736f860b": {
          "model_module": "@jupyter-widgets/base",
          "model_name": "LayoutModel",
          "model_module_version": "1.2.0",
          "state": {
            "_model_module": "@jupyter-widgets/base",
            "_model_module_version": "1.2.0",
            "_model_name": "LayoutModel",
            "_view_count": null,
            "_view_module": "@jupyter-widgets/base",
            "_view_module_version": "1.2.0",
            "_view_name": "LayoutView",
            "align_content": null,
            "align_items": null,
            "align_self": null,
            "border": null,
            "bottom": null,
            "display": null,
            "flex": null,
            "flex_flow": null,
            "grid_area": null,
            "grid_auto_columns": null,
            "grid_auto_flow": null,
            "grid_auto_rows": null,
            "grid_column": null,
            "grid_gap": null,
            "grid_row": null,
            "grid_template_areas": null,
            "grid_template_columns": null,
            "grid_template_rows": null,
            "height": null,
            "justify_content": null,
            "justify_items": null,
            "left": null,
            "margin": null,
            "max_height": null,
            "max_width": null,
            "min_height": null,
            "min_width": null,
            "object_fit": null,
            "object_position": null,
            "order": null,
            "overflow": null,
            "overflow_x": null,
            "overflow_y": null,
            "padding": null,
            "right": null,
            "top": null,
            "visibility": null,
            "width": null
          }
        },
        "4a2ec1966c654d0696d71277228ede5b": {
          "model_module": "@jupyter-widgets/controls",
          "model_name": "DescriptionStyleModel",
          "model_module_version": "1.5.0",
          "state": {
            "_model_module": "@jupyter-widgets/controls",
            "_model_module_version": "1.5.0",
            "_model_name": "DescriptionStyleModel",
            "_view_count": null,
            "_view_module": "@jupyter-widgets/base",
            "_view_module_version": "1.2.0",
            "_view_name": "StyleView",
            "description_width": ""
          }
        },
        "0df7b9cad3824d6089b4cf5e3d12d9e4": {
          "model_module": "@jupyter-widgets/controls",
          "model_name": "HBoxModel",
          "model_module_version": "1.5.0",
          "state": {
            "_dom_classes": [],
            "_model_module": "@jupyter-widgets/controls",
            "_model_module_version": "1.5.0",
            "_model_name": "HBoxModel",
            "_view_count": null,
            "_view_module": "@jupyter-widgets/controls",
            "_view_module_version": "1.5.0",
            "_view_name": "HBoxView",
            "box_style": "",
            "children": [
              "IPY_MODEL_b9e798be26a44bc3bc0c81464a2262d5",
              "IPY_MODEL_8f1eb6ad4d144e7ba7abea2344e65a7d",
              "IPY_MODEL_4cf0eab9d3b34dc1a83713b5561ec0c1"
            ],
            "layout": "IPY_MODEL_b2da25fc22b84a67ae03f3974696b027"
          }
        },
        "b9e798be26a44bc3bc0c81464a2262d5": {
          "model_module": "@jupyter-widgets/controls",
          "model_name": "HTMLModel",
          "model_module_version": "1.5.0",
          "state": {
            "_dom_classes": [],
            "_model_module": "@jupyter-widgets/controls",
            "_model_module_version": "1.5.0",
            "_model_name": "HTMLModel",
            "_view_count": null,
            "_view_module": "@jupyter-widgets/controls",
            "_view_module_version": "1.5.0",
            "_view_name": "HTMLView",
            "description": "",
            "description_tooltip": null,
            "layout": "IPY_MODEL_7bf50428e6124fe3be7e6bc0be3dc2f7",
            "placeholder": "​",
            "style": "IPY_MODEL_75d02645ab404f45aca212e3cf71d3a6",
            "value": "Map: 100%"
          }
        },
        "8f1eb6ad4d144e7ba7abea2344e65a7d": {
          "model_module": "@jupyter-widgets/controls",
          "model_name": "FloatProgressModel",
          "model_module_version": "1.5.0",
          "state": {
            "_dom_classes": [],
            "_model_module": "@jupyter-widgets/controls",
            "_model_module_version": "1.5.0",
            "_model_name": "FloatProgressModel",
            "_view_count": null,
            "_view_module": "@jupyter-widgets/controls",
            "_view_module_version": "1.5.0",
            "_view_name": "ProgressView",
            "bar_style": "success",
            "description": "",
            "description_tooltip": null,
            "layout": "IPY_MODEL_82d15f12d652457c8714c1307f7c5f3f",
            "max": 1000,
            "min": 0,
            "orientation": "horizontal",
            "style": "IPY_MODEL_47d5e6188fe14298b29cfc94e56b0afb",
            "value": 1000
          }
        },
        "4cf0eab9d3b34dc1a83713b5561ec0c1": {
          "model_module": "@jupyter-widgets/controls",
          "model_name": "HTMLModel",
          "model_module_version": "1.5.0",
          "state": {
            "_dom_classes": [],
            "_model_module": "@jupyter-widgets/controls",
            "_model_module_version": "1.5.0",
            "_model_name": "HTMLModel",
            "_view_count": null,
            "_view_module": "@jupyter-widgets/controls",
            "_view_module_version": "1.5.0",
            "_view_name": "HTMLView",
            "description": "",
            "description_tooltip": null,
            "layout": "IPY_MODEL_610b08b2387245f681dd1fda8cc5ef8c",
            "placeholder": "​",
            "style": "IPY_MODEL_bd91bcf141284b1081f5a989e569de59",
            "value": " 1000/1000 [00:00&lt;00:00, 1289.04 examples/s]"
          }
        },
        "b2da25fc22b84a67ae03f3974696b027": {
          "model_module": "@jupyter-widgets/base",
          "model_name": "LayoutModel",
          "model_module_version": "1.2.0",
          "state": {
            "_model_module": "@jupyter-widgets/base",
            "_model_module_version": "1.2.0",
            "_model_name": "LayoutModel",
            "_view_count": null,
            "_view_module": "@jupyter-widgets/base",
            "_view_module_version": "1.2.0",
            "_view_name": "LayoutView",
            "align_content": null,
            "align_items": null,
            "align_self": null,
            "border": null,
            "bottom": null,
            "display": null,
            "flex": null,
            "flex_flow": null,
            "grid_area": null,
            "grid_auto_columns": null,
            "grid_auto_flow": null,
            "grid_auto_rows": null,
            "grid_column": null,
            "grid_gap": null,
            "grid_row": null,
            "grid_template_areas": null,
            "grid_template_columns": null,
            "grid_template_rows": null,
            "height": null,
            "justify_content": null,
            "justify_items": null,
            "left": null,
            "margin": null,
            "max_height": null,
            "max_width": null,
            "min_height": null,
            "min_width": null,
            "object_fit": null,
            "object_position": null,
            "order": null,
            "overflow": null,
            "overflow_x": null,
            "overflow_y": null,
            "padding": null,
            "right": null,
            "top": null,
            "visibility": null,
            "width": null
          }
        },
        "7bf50428e6124fe3be7e6bc0be3dc2f7": {
          "model_module": "@jupyter-widgets/base",
          "model_name": "LayoutModel",
          "model_module_version": "1.2.0",
          "state": {
            "_model_module": "@jupyter-widgets/base",
            "_model_module_version": "1.2.0",
            "_model_name": "LayoutModel",
            "_view_count": null,
            "_view_module": "@jupyter-widgets/base",
            "_view_module_version": "1.2.0",
            "_view_name": "LayoutView",
            "align_content": null,
            "align_items": null,
            "align_self": null,
            "border": null,
            "bottom": null,
            "display": null,
            "flex": null,
            "flex_flow": null,
            "grid_area": null,
            "grid_auto_columns": null,
            "grid_auto_flow": null,
            "grid_auto_rows": null,
            "grid_column": null,
            "grid_gap": null,
            "grid_row": null,
            "grid_template_areas": null,
            "grid_template_columns": null,
            "grid_template_rows": null,
            "height": null,
            "justify_content": null,
            "justify_items": null,
            "left": null,
            "margin": null,
            "max_height": null,
            "max_width": null,
            "min_height": null,
            "min_width": null,
            "object_fit": null,
            "object_position": null,
            "order": null,
            "overflow": null,
            "overflow_x": null,
            "overflow_y": null,
            "padding": null,
            "right": null,
            "top": null,
            "visibility": null,
            "width": null
          }
        },
        "75d02645ab404f45aca212e3cf71d3a6": {
          "model_module": "@jupyter-widgets/controls",
          "model_name": "DescriptionStyleModel",
          "model_module_version": "1.5.0",
          "state": {
            "_model_module": "@jupyter-widgets/controls",
            "_model_module_version": "1.5.0",
            "_model_name": "DescriptionStyleModel",
            "_view_count": null,
            "_view_module": "@jupyter-widgets/base",
            "_view_module_version": "1.2.0",
            "_view_name": "StyleView",
            "description_width": ""
          }
        },
        "82d15f12d652457c8714c1307f7c5f3f": {
          "model_module": "@jupyter-widgets/base",
          "model_name": "LayoutModel",
          "model_module_version": "1.2.0",
          "state": {
            "_model_module": "@jupyter-widgets/base",
            "_model_module_version": "1.2.0",
            "_model_name": "LayoutModel",
            "_view_count": null,
            "_view_module": "@jupyter-widgets/base",
            "_view_module_version": "1.2.0",
            "_view_name": "LayoutView",
            "align_content": null,
            "align_items": null,
            "align_self": null,
            "border": null,
            "bottom": null,
            "display": null,
            "flex": null,
            "flex_flow": null,
            "grid_area": null,
            "grid_auto_columns": null,
            "grid_auto_flow": null,
            "grid_auto_rows": null,
            "grid_column": null,
            "grid_gap": null,
            "grid_row": null,
            "grid_template_areas": null,
            "grid_template_columns": null,
            "grid_template_rows": null,
            "height": null,
            "justify_content": null,
            "justify_items": null,
            "left": null,
            "margin": null,
            "max_height": null,
            "max_width": null,
            "min_height": null,
            "min_width": null,
            "object_fit": null,
            "object_position": null,
            "order": null,
            "overflow": null,
            "overflow_x": null,
            "overflow_y": null,
            "padding": null,
            "right": null,
            "top": null,
            "visibility": null,
            "width": null
          }
        },
        "47d5e6188fe14298b29cfc94e56b0afb": {
          "model_module": "@jupyter-widgets/controls",
          "model_name": "ProgressStyleModel",
          "model_module_version": "1.5.0",
          "state": {
            "_model_module": "@jupyter-widgets/controls",
            "_model_module_version": "1.5.0",
            "_model_name": "ProgressStyleModel",
            "_view_count": null,
            "_view_module": "@jupyter-widgets/base",
            "_view_module_version": "1.2.0",
            "_view_name": "StyleView",
            "bar_color": null,
            "description_width": ""
          }
        },
        "610b08b2387245f681dd1fda8cc5ef8c": {
          "model_module": "@jupyter-widgets/base",
          "model_name": "LayoutModel",
          "model_module_version": "1.2.0",
          "state": {
            "_model_module": "@jupyter-widgets/base",
            "_model_module_version": "1.2.0",
            "_model_name": "LayoutModel",
            "_view_count": null,
            "_view_module": "@jupyter-widgets/base",
            "_view_module_version": "1.2.0",
            "_view_name": "LayoutView",
            "align_content": null,
            "align_items": null,
            "align_self": null,
            "border": null,
            "bottom": null,
            "display": null,
            "flex": null,
            "flex_flow": null,
            "grid_area": null,
            "grid_auto_columns": null,
            "grid_auto_flow": null,
            "grid_auto_rows": null,
            "grid_column": null,
            "grid_gap": null,
            "grid_row": null,
            "grid_template_areas": null,
            "grid_template_columns": null,
            "grid_template_rows": null,
            "height": null,
            "justify_content": null,
            "justify_items": null,
            "left": null,
            "margin": null,
            "max_height": null,
            "max_width": null,
            "min_height": null,
            "min_width": null,
            "object_fit": null,
            "object_position": null,
            "order": null,
            "overflow": null,
            "overflow_x": null,
            "overflow_y": null,
            "padding": null,
            "right": null,
            "top": null,
            "visibility": null,
            "width": null
          }
        },
        "bd91bcf141284b1081f5a989e569de59": {
          "model_module": "@jupyter-widgets/controls",
          "model_name": "DescriptionStyleModel",
          "model_module_version": "1.5.0",
          "state": {
            "_model_module": "@jupyter-widgets/controls",
            "_model_module_version": "1.5.0",
            "_model_name": "DescriptionStyleModel",
            "_view_count": null,
            "_view_module": "@jupyter-widgets/base",
            "_view_module_version": "1.2.0",
            "_view_name": "StyleView",
            "description_width": ""
          }
        },
        "dd34d74ceac84ec8ab8ec5f553814cf3": {
          "model_module": "@jupyter-widgets/controls",
          "model_name": "HBoxModel",
          "model_module_version": "1.5.0",
          "state": {
            "_dom_classes": [],
            "_model_module": "@jupyter-widgets/controls",
            "_model_module_version": "1.5.0",
            "_model_name": "HBoxModel",
            "_view_count": null,
            "_view_module": "@jupyter-widgets/controls",
            "_view_module_version": "1.5.0",
            "_view_name": "HBoxView",
            "box_style": "",
            "children": [
              "IPY_MODEL_c44ab7627f544f6fb031992bc7911a94",
              "IPY_MODEL_1c6c1feeeb404c6da81604bf9ad61159",
              "IPY_MODEL_b84dea675ef846a79334361cfaa2e426"
            ],
            "layout": "IPY_MODEL_463ed2db9fd141029809af11bb92e4ea"
          }
        },
        "c44ab7627f544f6fb031992bc7911a94": {
          "model_module": "@jupyter-widgets/controls",
          "model_name": "HTMLModel",
          "model_module_version": "1.5.0",
          "state": {
            "_dom_classes": [],
            "_model_module": "@jupyter-widgets/controls",
            "_model_module_version": "1.5.0",
            "_model_name": "HTMLModel",
            "_view_count": null,
            "_view_module": "@jupyter-widgets/controls",
            "_view_module_version": "1.5.0",
            "_view_name": "HTMLView",
            "description": "",
            "description_tooltip": null,
            "layout": "IPY_MODEL_c2e73b4f290e4bbfb96621d7ee6ea8b6",
            "placeholder": "​",
            "style": "IPY_MODEL_d6be7fe9311f42c3999ec7bc78109e8c",
            "value": "Map: 100%"
          }
        },
        "1c6c1feeeb404c6da81604bf9ad61159": {
          "model_module": "@jupyter-widgets/controls",
          "model_name": "FloatProgressModel",
          "model_module_version": "1.5.0",
          "state": {
            "_dom_classes": [],
            "_model_module": "@jupyter-widgets/controls",
            "_model_module_version": "1.5.0",
            "_model_name": "FloatProgressModel",
            "_view_count": null,
            "_view_module": "@jupyter-widgets/controls",
            "_view_module_version": "1.5.0",
            "_view_name": "ProgressView",
            "bar_style": "success",
            "description": "",
            "description_tooltip": null,
            "layout": "IPY_MODEL_c98468acd8a34328b5a1f27a97e045b9",
            "max": 1000,
            "min": 0,
            "orientation": "horizontal",
            "style": "IPY_MODEL_eefda8d624a34f159056137016a5caaa",
            "value": 1000
          }
        },
        "b84dea675ef846a79334361cfaa2e426": {
          "model_module": "@jupyter-widgets/controls",
          "model_name": "HTMLModel",
          "model_module_version": "1.5.0",
          "state": {
            "_dom_classes": [],
            "_model_module": "@jupyter-widgets/controls",
            "_model_module_version": "1.5.0",
            "_model_name": "HTMLModel",
            "_view_count": null,
            "_view_module": "@jupyter-widgets/controls",
            "_view_module_version": "1.5.0",
            "_view_name": "HTMLView",
            "description": "",
            "description_tooltip": null,
            "layout": "IPY_MODEL_fe40733f89544999bd38090b80ec5e31",
            "placeholder": "​",
            "style": "IPY_MODEL_443f94579f2f41bb836a2be9ca40f7d0",
            "value": " 1000/1000 [00:00&lt;00:00, 1409.50 examples/s]"
          }
        },
        "463ed2db9fd141029809af11bb92e4ea": {
          "model_module": "@jupyter-widgets/base",
          "model_name": "LayoutModel",
          "model_module_version": "1.2.0",
          "state": {
            "_model_module": "@jupyter-widgets/base",
            "_model_module_version": "1.2.0",
            "_model_name": "LayoutModel",
            "_view_count": null,
            "_view_module": "@jupyter-widgets/base",
            "_view_module_version": "1.2.0",
            "_view_name": "LayoutView",
            "align_content": null,
            "align_items": null,
            "align_self": null,
            "border": null,
            "bottom": null,
            "display": null,
            "flex": null,
            "flex_flow": null,
            "grid_area": null,
            "grid_auto_columns": null,
            "grid_auto_flow": null,
            "grid_auto_rows": null,
            "grid_column": null,
            "grid_gap": null,
            "grid_row": null,
            "grid_template_areas": null,
            "grid_template_columns": null,
            "grid_template_rows": null,
            "height": null,
            "justify_content": null,
            "justify_items": null,
            "left": null,
            "margin": null,
            "max_height": null,
            "max_width": null,
            "min_height": null,
            "min_width": null,
            "object_fit": null,
            "object_position": null,
            "order": null,
            "overflow": null,
            "overflow_x": null,
            "overflow_y": null,
            "padding": null,
            "right": null,
            "top": null,
            "visibility": null,
            "width": null
          }
        },
        "c2e73b4f290e4bbfb96621d7ee6ea8b6": {
          "model_module": "@jupyter-widgets/base",
          "model_name": "LayoutModel",
          "model_module_version": "1.2.0",
          "state": {
            "_model_module": "@jupyter-widgets/base",
            "_model_module_version": "1.2.0",
            "_model_name": "LayoutModel",
            "_view_count": null,
            "_view_module": "@jupyter-widgets/base",
            "_view_module_version": "1.2.0",
            "_view_name": "LayoutView",
            "align_content": null,
            "align_items": null,
            "align_self": null,
            "border": null,
            "bottom": null,
            "display": null,
            "flex": null,
            "flex_flow": null,
            "grid_area": null,
            "grid_auto_columns": null,
            "grid_auto_flow": null,
            "grid_auto_rows": null,
            "grid_column": null,
            "grid_gap": null,
            "grid_row": null,
            "grid_template_areas": null,
            "grid_template_columns": null,
            "grid_template_rows": null,
            "height": null,
            "justify_content": null,
            "justify_items": null,
            "left": null,
            "margin": null,
            "max_height": null,
            "max_width": null,
            "min_height": null,
            "min_width": null,
            "object_fit": null,
            "object_position": null,
            "order": null,
            "overflow": null,
            "overflow_x": null,
            "overflow_y": null,
            "padding": null,
            "right": null,
            "top": null,
            "visibility": null,
            "width": null
          }
        },
        "d6be7fe9311f42c3999ec7bc78109e8c": {
          "model_module": "@jupyter-widgets/controls",
          "model_name": "DescriptionStyleModel",
          "model_module_version": "1.5.0",
          "state": {
            "_model_module": "@jupyter-widgets/controls",
            "_model_module_version": "1.5.0",
            "_model_name": "DescriptionStyleModel",
            "_view_count": null,
            "_view_module": "@jupyter-widgets/base",
            "_view_module_version": "1.2.0",
            "_view_name": "StyleView",
            "description_width": ""
          }
        },
        "c98468acd8a34328b5a1f27a97e045b9": {
          "model_module": "@jupyter-widgets/base",
          "model_name": "LayoutModel",
          "model_module_version": "1.2.0",
          "state": {
            "_model_module": "@jupyter-widgets/base",
            "_model_module_version": "1.2.0",
            "_model_name": "LayoutModel",
            "_view_count": null,
            "_view_module": "@jupyter-widgets/base",
            "_view_module_version": "1.2.0",
            "_view_name": "LayoutView",
            "align_content": null,
            "align_items": null,
            "align_self": null,
            "border": null,
            "bottom": null,
            "display": null,
            "flex": null,
            "flex_flow": null,
            "grid_area": null,
            "grid_auto_columns": null,
            "grid_auto_flow": null,
            "grid_auto_rows": null,
            "grid_column": null,
            "grid_gap": null,
            "grid_row": null,
            "grid_template_areas": null,
            "grid_template_columns": null,
            "grid_template_rows": null,
            "height": null,
            "justify_content": null,
            "justify_items": null,
            "left": null,
            "margin": null,
            "max_height": null,
            "max_width": null,
            "min_height": null,
            "min_width": null,
            "object_fit": null,
            "object_position": null,
            "order": null,
            "overflow": null,
            "overflow_x": null,
            "overflow_y": null,
            "padding": null,
            "right": null,
            "top": null,
            "visibility": null,
            "width": null
          }
        },
        "eefda8d624a34f159056137016a5caaa": {
          "model_module": "@jupyter-widgets/controls",
          "model_name": "ProgressStyleModel",
          "model_module_version": "1.5.0",
          "state": {
            "_model_module": "@jupyter-widgets/controls",
            "_model_module_version": "1.5.0",
            "_model_name": "ProgressStyleModel",
            "_view_count": null,
            "_view_module": "@jupyter-widgets/base",
            "_view_module_version": "1.2.0",
            "_view_name": "StyleView",
            "bar_color": null,
            "description_width": ""
          }
        },
        "fe40733f89544999bd38090b80ec5e31": {
          "model_module": "@jupyter-widgets/base",
          "model_name": "LayoutModel",
          "model_module_version": "1.2.0",
          "state": {
            "_model_module": "@jupyter-widgets/base",
            "_model_module_version": "1.2.0",
            "_model_name": "LayoutModel",
            "_view_count": null,
            "_view_module": "@jupyter-widgets/base",
            "_view_module_version": "1.2.0",
            "_view_name": "LayoutView",
            "align_content": null,
            "align_items": null,
            "align_self": null,
            "border": null,
            "bottom": null,
            "display": null,
            "flex": null,
            "flex_flow": null,
            "grid_area": null,
            "grid_auto_columns": null,
            "grid_auto_flow": null,
            "grid_auto_rows": null,
            "grid_column": null,
            "grid_gap": null,
            "grid_row": null,
            "grid_template_areas": null,
            "grid_template_columns": null,
            "grid_template_rows": null,
            "height": null,
            "justify_content": null,
            "justify_items": null,
            "left": null,
            "margin": null,
            "max_height": null,
            "max_width": null,
            "min_height": null,
            "min_width": null,
            "object_fit": null,
            "object_position": null,
            "order": null,
            "overflow": null,
            "overflow_x": null,
            "overflow_y": null,
            "padding": null,
            "right": null,
            "top": null,
            "visibility": null,
            "width": null
          }
        },
        "443f94579f2f41bb836a2be9ca40f7d0": {
          "model_module": "@jupyter-widgets/controls",
          "model_name": "DescriptionStyleModel",
          "model_module_version": "1.5.0",
          "state": {
            "_model_module": "@jupyter-widgets/controls",
            "_model_module_version": "1.5.0",
            "_model_name": "DescriptionStyleModel",
            "_view_count": null,
            "_view_module": "@jupyter-widgets/base",
            "_view_module_version": "1.2.0",
            "_view_name": "StyleView",
            "description_width": ""
          }
        },
        "982fca64bf464250a4fbdd0e5cb33c81": {
          "model_module": "@jupyter-widgets/controls",
          "model_name": "HBoxModel",
          "model_module_version": "1.5.0",
          "state": {
            "_dom_classes": [],
            "_model_module": "@jupyter-widgets/controls",
            "_model_module_version": "1.5.0",
            "_model_name": "HBoxModel",
            "_view_count": null,
            "_view_module": "@jupyter-widgets/controls",
            "_view_module_version": "1.5.0",
            "_view_name": "HBoxView",
            "box_style": "",
            "children": [
              "IPY_MODEL_81bd728d36104cae84cdd418d4182e70",
              "IPY_MODEL_ab7088c307924c978e6bb82b9de63061",
              "IPY_MODEL_b61d541b108d4616ad8f1dfe5d9ac2d2"
            ],
            "layout": "IPY_MODEL_1e7da68ca7ac4f1fb896d391b317ca31"
          }
        },
        "81bd728d36104cae84cdd418d4182e70": {
          "model_module": "@jupyter-widgets/controls",
          "model_name": "HTMLModel",
          "model_module_version": "1.5.0",
          "state": {
            "_dom_classes": [],
            "_model_module": "@jupyter-widgets/controls",
            "_model_module_version": "1.5.0",
            "_model_name": "HTMLModel",
            "_view_count": null,
            "_view_module": "@jupyter-widgets/controls",
            "_view_module_version": "1.5.0",
            "_view_name": "HTMLView",
            "description": "",
            "description_tooltip": null,
            "layout": "IPY_MODEL_a363b0fd3796482dac357b20ddc299fe",
            "placeholder": "​",
            "style": "IPY_MODEL_7327d63649844268bbfdd743cef3e140",
            "value": "model.safetensors: 100%"
          }
        },
        "ab7088c307924c978e6bb82b9de63061": {
          "model_module": "@jupyter-widgets/controls",
          "model_name": "FloatProgressModel",
          "model_module_version": "1.5.0",
          "state": {
            "_dom_classes": [],
            "_model_module": "@jupyter-widgets/controls",
            "_model_module_version": "1.5.0",
            "_model_name": "FloatProgressModel",
            "_view_count": null,
            "_view_module": "@jupyter-widgets/controls",
            "_view_module_version": "1.5.0",
            "_view_name": "ProgressView",
            "bar_style": "success",
            "description": "",
            "description_tooltip": null,
            "layout": "IPY_MODEL_1c5c6b51f5d54980aa0f451d98498b58",
            "max": 435755784,
            "min": 0,
            "orientation": "horizontal",
            "style": "IPY_MODEL_a442b25efb40421eaa96598caea3b54a",
            "value": 435755784
          }
        },
        "b61d541b108d4616ad8f1dfe5d9ac2d2": {
          "model_module": "@jupyter-widgets/controls",
          "model_name": "HTMLModel",
          "model_module_version": "1.5.0",
          "state": {
            "_dom_classes": [],
            "_model_module": "@jupyter-widgets/controls",
            "_model_module_version": "1.5.0",
            "_model_name": "HTMLModel",
            "_view_count": null,
            "_view_module": "@jupyter-widgets/controls",
            "_view_module_version": "1.5.0",
            "_view_name": "HTMLView",
            "description": "",
            "description_tooltip": null,
            "layout": "IPY_MODEL_60274b55b3254c4d9238836f2da23173",
            "placeholder": "​",
            "style": "IPY_MODEL_fdc62c743a4749a19fb3a2a4b63dba1e",
            "value": " 436M/436M [00:01&lt;00:00, 263MB/s]"
          }
        },
        "1e7da68ca7ac4f1fb896d391b317ca31": {
          "model_module": "@jupyter-widgets/base",
          "model_name": "LayoutModel",
          "model_module_version": "1.2.0",
          "state": {
            "_model_module": "@jupyter-widgets/base",
            "_model_module_version": "1.2.0",
            "_model_name": "LayoutModel",
            "_view_count": null,
            "_view_module": "@jupyter-widgets/base",
            "_view_module_version": "1.2.0",
            "_view_name": "LayoutView",
            "align_content": null,
            "align_items": null,
            "align_self": null,
            "border": null,
            "bottom": null,
            "display": null,
            "flex": null,
            "flex_flow": null,
            "grid_area": null,
            "grid_auto_columns": null,
            "grid_auto_flow": null,
            "grid_auto_rows": null,
            "grid_column": null,
            "grid_gap": null,
            "grid_row": null,
            "grid_template_areas": null,
            "grid_template_columns": null,
            "grid_template_rows": null,
            "height": null,
            "justify_content": null,
            "justify_items": null,
            "left": null,
            "margin": null,
            "max_height": null,
            "max_width": null,
            "min_height": null,
            "min_width": null,
            "object_fit": null,
            "object_position": null,
            "order": null,
            "overflow": null,
            "overflow_x": null,
            "overflow_y": null,
            "padding": null,
            "right": null,
            "top": null,
            "visibility": null,
            "width": null
          }
        },
        "a363b0fd3796482dac357b20ddc299fe": {
          "model_module": "@jupyter-widgets/base",
          "model_name": "LayoutModel",
          "model_module_version": "1.2.0",
          "state": {
            "_model_module": "@jupyter-widgets/base",
            "_model_module_version": "1.2.0",
            "_model_name": "LayoutModel",
            "_view_count": null,
            "_view_module": "@jupyter-widgets/base",
            "_view_module_version": "1.2.0",
            "_view_name": "LayoutView",
            "align_content": null,
            "align_items": null,
            "align_self": null,
            "border": null,
            "bottom": null,
            "display": null,
            "flex": null,
            "flex_flow": null,
            "grid_area": null,
            "grid_auto_columns": null,
            "grid_auto_flow": null,
            "grid_auto_rows": null,
            "grid_column": null,
            "grid_gap": null,
            "grid_row": null,
            "grid_template_areas": null,
            "grid_template_columns": null,
            "grid_template_rows": null,
            "height": null,
            "justify_content": null,
            "justify_items": null,
            "left": null,
            "margin": null,
            "max_height": null,
            "max_width": null,
            "min_height": null,
            "min_width": null,
            "object_fit": null,
            "object_position": null,
            "order": null,
            "overflow": null,
            "overflow_x": null,
            "overflow_y": null,
            "padding": null,
            "right": null,
            "top": null,
            "visibility": null,
            "width": null
          }
        },
        "7327d63649844268bbfdd743cef3e140": {
          "model_module": "@jupyter-widgets/controls",
          "model_name": "DescriptionStyleModel",
          "model_module_version": "1.5.0",
          "state": {
            "_model_module": "@jupyter-widgets/controls",
            "_model_module_version": "1.5.0",
            "_model_name": "DescriptionStyleModel",
            "_view_count": null,
            "_view_module": "@jupyter-widgets/base",
            "_view_module_version": "1.2.0",
            "_view_name": "StyleView",
            "description_width": ""
          }
        },
        "1c5c6b51f5d54980aa0f451d98498b58": {
          "model_module": "@jupyter-widgets/base",
          "model_name": "LayoutModel",
          "model_module_version": "1.2.0",
          "state": {
            "_model_module": "@jupyter-widgets/base",
            "_model_module_version": "1.2.0",
            "_model_name": "LayoutModel",
            "_view_count": null,
            "_view_module": "@jupyter-widgets/base",
            "_view_module_version": "1.2.0",
            "_view_name": "LayoutView",
            "align_content": null,
            "align_items": null,
            "align_self": null,
            "border": null,
            "bottom": null,
            "display": null,
            "flex": null,
            "flex_flow": null,
            "grid_area": null,
            "grid_auto_columns": null,
            "grid_auto_flow": null,
            "grid_auto_rows": null,
            "grid_column": null,
            "grid_gap": null,
            "grid_row": null,
            "grid_template_areas": null,
            "grid_template_columns": null,
            "grid_template_rows": null,
            "height": null,
            "justify_content": null,
            "justify_items": null,
            "left": null,
            "margin": null,
            "max_height": null,
            "max_width": null,
            "min_height": null,
            "min_width": null,
            "object_fit": null,
            "object_position": null,
            "order": null,
            "overflow": null,
            "overflow_x": null,
            "overflow_y": null,
            "padding": null,
            "right": null,
            "top": null,
            "visibility": null,
            "width": null
          }
        },
        "a442b25efb40421eaa96598caea3b54a": {
          "model_module": "@jupyter-widgets/controls",
          "model_name": "ProgressStyleModel",
          "model_module_version": "1.5.0",
          "state": {
            "_model_module": "@jupyter-widgets/controls",
            "_model_module_version": "1.5.0",
            "_model_name": "ProgressStyleModel",
            "_view_count": null,
            "_view_module": "@jupyter-widgets/base",
            "_view_module_version": "1.2.0",
            "_view_name": "StyleView",
            "bar_color": null,
            "description_width": ""
          }
        },
        "60274b55b3254c4d9238836f2da23173": {
          "model_module": "@jupyter-widgets/base",
          "model_name": "LayoutModel",
          "model_module_version": "1.2.0",
          "state": {
            "_model_module": "@jupyter-widgets/base",
            "_model_module_version": "1.2.0",
            "_model_name": "LayoutModel",
            "_view_count": null,
            "_view_module": "@jupyter-widgets/base",
            "_view_module_version": "1.2.0",
            "_view_name": "LayoutView",
            "align_content": null,
            "align_items": null,
            "align_self": null,
            "border": null,
            "bottom": null,
            "display": null,
            "flex": null,
            "flex_flow": null,
            "grid_area": null,
            "grid_auto_columns": null,
            "grid_auto_flow": null,
            "grid_auto_rows": null,
            "grid_column": null,
            "grid_gap": null,
            "grid_row": null,
            "grid_template_areas": null,
            "grid_template_columns": null,
            "grid_template_rows": null,
            "height": null,
            "justify_content": null,
            "justify_items": null,
            "left": null,
            "margin": null,
            "max_height": null,
            "max_width": null,
            "min_height": null,
            "min_width": null,
            "object_fit": null,
            "object_position": null,
            "order": null,
            "overflow": null,
            "overflow_x": null,
            "overflow_y": null,
            "padding": null,
            "right": null,
            "top": null,
            "visibility": null,
            "width": null
          }
        },
        "fdc62c743a4749a19fb3a2a4b63dba1e": {
          "model_module": "@jupyter-widgets/controls",
          "model_name": "DescriptionStyleModel",
          "model_module_version": "1.5.0",
          "state": {
            "_model_module": "@jupyter-widgets/controls",
            "_model_module_version": "1.5.0",
            "_model_name": "DescriptionStyleModel",
            "_view_count": null,
            "_view_module": "@jupyter-widgets/base",
            "_view_module_version": "1.2.0",
            "_view_name": "StyleView",
            "description_width": ""
          }
        }
      }
    }
  },
  "cells": [
    {
      "cell_type": "markdown",
      "metadata": {
        "id": "view-in-github",
        "colab_type": "text"
      },
      "source": [
        "<a href=\"https://colab.research.google.com/github/developer-onizuka/MachineLearningOnAWS/blob/main/BERT_FineTuning.ipynb\" target=\"_parent\"><img src=\"https://colab.research.google.com/assets/colab-badge.svg\" alt=\"Open In Colab\"/></a>"
      ]
    },
    {
      "cell_type": "markdown",
      "source": [
        "## 1. 目的"
      ],
      "metadata": {
        "id": "OFQ1UUezV6uy"
      }
    },
    {
      "cell_type": "markdown",
      "source": [
        "・Transformer (Attention is All you needに示されるAttention機構)の概要を理解する。<br>\n",
        "・Pipelineを使って、任意のモデルで推論を行う。<br>\n",
        "・BERTと呼ばれるエンコーダー型のモデルを使い、分類器を作る。(Fine Tuning)"
      ],
      "metadata": {
        "id": "2mBzqBEIWAm-"
      }
    },
    {
      "cell_type": "markdown",
      "source": [
        "## 2. Transformerについて"
      ],
      "metadata": {
        "id": "uYoZlmMJZ7PO"
      }
    },
    {
      "cell_type": "markdown",
      "source": [
        "## 2-1. 従来モデルの問題点"
      ],
      "metadata": {
        "id": "nCqnvCP1iXXZ"
      }
    },
    {
      "cell_type": "markdown",
      "source": [
        "![image.png](data:image/png;base64,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)"
      ],
      "metadata": {
        "id": "ZDoP0IGkjUrm"
      }
    },
    {
      "cell_type": "markdown",
      "source": [
        "![image.png](data:image/png;base64,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)"
      ],
      "metadata": {
        "id": "51_lchvtmPqP"
      }
    },
    {
      "cell_type": "markdown",
      "source": [
        "## 2-2. Attention機構"
      ],
      "metadata": {
        "id": "1RlEeVSkkWqF"
      }
    },
    {
      "cell_type": "markdown",
      "source": [
        "![image.png](data:image/png;base64,iVBORw0KGgoAAAANSUhEUgAABIIAAAHSCAYAAACQI2A8AAAMPmlDQ1BJQ0MgUHJvZmlsZQAASImVVwdYU8kWnluSkJDQAhGQEnoTRKQjJYQWQECqYCMkAUKJIRBU7MiigmtBRRRs6IqIgmsBZK2I3UWw98WCgrIuFuzlTQrosq98b75v7vz3nzP/OXPu3HtnAFA/zhWLs1ANALJFeZLoYH/mxMQkJqkXIAAHFACAKZeXK2ZFRYVDDAbbv5e316E1LFfsZVr/7P+vRZMvyOUBgERBnMLP5WVDfAAAvIonluQBQJTxZjPyxDIMK9CWwAAhXiLDaQpcJcMpCrxXbhMbzYa4DQAVKpcrSQNArQPyzHxeGtRQ64fYUcQXigBQZ0Lsk509nQ9xMsTW0EYMsUzfPeUHnbS/aaYMaXK5aUNYMRd5UQkQ5oqzuLP+z3T875KdJR30YQkrNV0SEi2bM8zbzczpYTJMhbhPlBIRCbEWxO+FfLk9xCglXRoSp7BHDXi5bJgzwIDYkc8NCIPYAOIgUVZEuJJPSRUGcSCGKwSdKczjxEKsC/ESQW5gjNJmi2R6tNIX2pgqYbOU/FmuRO5X5uu+NDOOpdR/lS7gKPUxtYL02ASI4VrDzPOF8REQq0HskJsZE6a0GVeQzo4YtJFIo2Xxm0McLRAF+yv0sfxUSVC00r4kO3dwvtiWdCEnQon35aXHhijyg7XxuPL44VywDoGIFTeoI8idGD44F74gIFAxd6xHIIqLUeq8F+f5RyvG4hRxVpTSHjcVZAXLeFOInXPzY5Rj8fg8uCAV+niqOC8qVhEnXpDBDY1SxIOvBOGADQIAE0hhTQHTQQYQtvc19cE7RU8Q4AIJSAMCYK9kBkckyHtE8BoDCsCfEAlA7tA4f3mvAORD/ssQq7jag1R5b758RCZ4AnE2CANZ8F4qHyUa8hYPHkNG+A/vXFh5MN4sWGX9/54fZL8zLMiEKxnpoEem+qAlMZAYQAwhBhFtcH3cB/fCw+HVD1Yn3B33GJzHd3vCE0In4SHhGqGLcGuasFAyLMrxoAvqBylzkfJjLnBLqOmC++PeUB0q4wxcH9jjztAPC/eFnl0gy1bGLcsKc5j232bww9NQ2pEdySh5BNmPbD18pJqtmsuQiizXP+ZHEWvKUL7ZQz3D/bN/yD4ftmHDLbEl2H7sDHYCO4cdxpoAEzuGNWMXsSMyPLS6HstX16C3aHk8mVBH+A9/g09WlslcxzrHXsfPir48wUzZNxqwp4tnSYRp6XlMFvwjCJgcEc9hFNPJ0ckFANn/RfH5es2Q/zcQxvnvXM5xADxKIJn2neOaAXDoCQD0t985s1fwtVkJwJEOnlSSr+Bw2YUAvxLq8E3TA0bADFjD+TgBV+AF/EAgCAWRIBYkgqkw+nS4ziVgBpgDFoJiUApWgrVgA9gMtoGdYA/YB5rAYXACnAYXQAe4Bu7A1dMNnoN+8BZ8QhCEhNAQOqKHGCMWiB3ihLgjPkggEo5EI4lIMpKGiBApMgdZhJQiZcgGZCtSi/yKHEJOIOeQTuQW8gDpRV4hH1EMpaLaqCFqiY5G3VEWGobGolPQNDQHLUCL0OVoBVqN7kYb0RPoBfQa2oU+RwcwgKliDMwEs8fcMTYWiSVhqZgEm4eVYOVYNVaPtcDnfAXrwvqwDzgRp+NM3B6u4BA8DufhOfg8fBm+Ad+JN+Jt+BX8Ad6PfyXQCAYEO4IngUOYSEgjzCAUE8oJOwgHCafgu9RNeEskEhlEK6IbfBcTiRnE2cRlxI3EBuJxYifxEXGARCLpkexI3qRIEpeURyomrSftJh0jXSZ1k96rqKoYqzipBKkkqYhUClXKVXapHFW5rPJU5RNZg2xB9iRHkvnkWeQV5O3kFvIlcjf5E0WTYkXxpsRSMigLKRWUesopyl3Ka1VVVVNVD9UJqkLVBaoVqntVz6o+UP1A1aLaUtnUyVQpdTm1hnqceov6mkajWdL8aEm0PNpyWi3tJO0+7b0aXc1BjaPGV5uvVqnWqHZZ7YU6Wd1CnaU+Vb1AvVx9v/ol9T4NsoalBluDqzFPo1LjkMYNjQFNuuYYzUjNbM1lmrs0z2n2aJG0LLUCtfhaRVrbtE5qPaJjdDM6m86jL6Jvp5+id2sTta20OdoZ2qXae7Tbtft1tHScdeJ1ZupU6hzR6WJgDEsGh5HFWMHYx7jO+DjCcARrhGDE0hH1Iy6PeKc7UtdPV6Bbotuge033ox5TL1AvU2+VXpPePX1c31Z/gv4M/U36p/T7RmqP9BrJG1kyct/I2waoga1BtMFsg20GFw0GDI0Mgw3FhusNTxr2GTGM/IwyjNYYHTXqNaYb+xgLjdcYHzN+xtRhsphZzApmG7PfxMAkxERqstWk3eSTqZVpnGmhaYPpPTOKmbtZqtkas1azfnNj8/Hmc8zrzG9bkC3cLdIt1lmcsXhnaWWZYLnYssmyx0rXimNVYFVnddeaZu1rnWNdbX3VhmjjbpNps9Gmwxa1dbFNt620vWSH2rnaCe022nWOIozyGCUaVT3qhj3VnmWfb19n/8CB4RDuUOjQ5PBitPnopNGrRp8Z/dXRxTHLcbvjnTFaY0LHFI5pGfPKydaJ51TpdHUsbWzQ2Pljm8e+dLZzFjhvcr7pQncZ77LYpdXli6ubq8S13rXXzdwt2a3K7Ya7tnuU+zL3sx4ED3+P+R6HPT54unrmee7z/MvL3ivTa5dXzzircYJx28c98jb15npv9e7yYfok+2zx6fI18eX6Vvs+9DPz4/vt8HvKsmFlsHazXvg7+kv8D/q/Y3uy57KPB2ABwQElAe2BWoFxgRsC7weZBqUF1QX1B7sEzw4+HkIICQtZFXKDY8jhcWo5/aFuoXND28KoYTFhG8IehtuGS8JbxqPjQ8evHn83wiJCFNEUCSI5kasj70VZReVE/TaBOCFqQuWEJ9FjoudEn4mhx0yL2RXzNtY/dkXsnTjrOGlca7x6/OT42vh3CQEJZQldE0dPnDvxQqJ+ojCxOYmUFJ+0I2lgUuCktZO6J7tMLp58fYrVlJlTzk3Vn5o19cg09WncafuTCckJybuSP3MjudXcgRROSlVKP4/NW8d7zvfjr+H3CrwFZYKnqd6pZak9ad5pq9N6033Ty9P7hGzhBuHLjJCMzRnvMiMzazK/ZSVkNWSrZCdnHxJpiTJFbdONps+c3im2ExeLu3I8c9bm9EvCJDtykdwpuc152nAjf1FqLf1J+iDfJ78y//2M+Bn7Z2rOFM28OMt21tJZTwuCCn6Zjc/mzW6dYzJn4ZwHc1lzt85D5qXMa51vNr9ofveC4AU7F1IWZi78vdCxsKzwzaKERS1FhkULih79FPxTXbFasaT4xmKvxZuX4EuES9qXjl26funXEn7J+VLH0vLSz8t4y87/PObnip+/LU9d3r7CdcWmlcSVopXXV/mu2lmmWVZQ9mj1+NWNa5hrSta8WTtt7bly5/LN6yjrpOu6KsIrmtebr1+5/vOG9A3XKv0rG6oMqpZWvdvI33h5k9+m+s2Gm0s3f9wi3HJza/DWxmrL6vJtxG35255sj99+5hf3X2p36O8o3fGlRlTTtTN6Z1utW23tLoNdK+rQOmld7+7Juzv2BOxprrev39rAaCjdC/ZK9z77NfnX6/vC9rXud99ff8DiQNVB+sGSRqRxVmN/U3pTV3Nic+eh0EOtLV4tB39z+K3msMnhyiM6R1YcpRwtOvrtWMGxgePi430n0k48ap3WeufkxJNX2ya0tZ8KO3X2dNDpk2dYZ46d9T57+JznuUPn3c83XXC90HjR5eLB311+P9ju2t54ye1Sc4dHR0vnuM6jl30vn7gScOX0Vc7VC9cirnVej7t+88bkG103+Td7bmXdenk7//anOwvuEu6W3NO4V37f4H71HzZ/NHS5dh15EPDg4sOYh3ce8R49f5z7+HN30RPak/Knxk9re5x6DvcG9XY8m/Ss+7n4+ae+4j81/6x6Yf3iwF9+f13sn9jf/VLy8turZa/1Xte8cX7TOhA1cP9t9ttP70re673f+cH9w5mPCR+ffprxmfS54ovNl5avYV/vfsv+9k3MlXDlWwEMVjQ1FYBXNQDQEuHeAZ7PKJMU5z95QRRnVjkC/wkrzojy4gpAjR8AcQsACId7lE2wWkBMha1sCx/rB9CxY4fq4FlNfq6UFSI8B2yxlaFL4/QWgGFFceb8Ie7hLZCpOoPh7b8Asc55fi+T8+cAAACWZVhJZk1NACoAAAAIAAUBEgADAAAAAQABAAABGgAFAAAAAQAAAEoBGwAFAAAAAQAAAFIBKAADAAAAAQACAACHaQAEAAAAAQAAAFoAAAAAAAAAkAAAAAEAAACQAAAAAQADkoYABwAAABIAAACEoAIABAAAAAEAAASCoAMABAAAAAEAAAHSAAAAAEFTQ0lJAAAAU2NyZWVuc2hvdGaaQv0AAAAJcEhZcwAAFiUAABYlAUlSJPAAAALdaVRYdFhNTDpjb20uYWRvYmUueG1wAAAAAAA8eDp4bXBtZXRhIHhtbG5zOng9ImFkb2JlOm5zOm1ldGEvIiB4OnhtcHRrPSJYTVAgQ29yZSA2LjAuMCI+CiAgIDxyZGY6UkRGIHhtbG5zOnJkZj0iaHR0cDovL3d3dy53My5vcmcvMTk5OS8wMi8yMi1yZGYtc3ludGF4LW5zIyI+CiAgICAgIDxyZGY6RGVzY3JpcHRpb24gcmRmOmFib3V0PSIiCiAgICAgICAgICAgIHhtbG5zOmV4aWY9Imh0dHA6Ly9ucy5hZG9iZS5jb20vZXhpZi8xLjAvIgogICAgICAgICAgICB4bWxuczp0aWZmPSJodHRwOi8vbnMuYWRvYmUuY29tL3RpZmYvMS4wLyI+CiAgICAgICAgIDxleGlmOlVzZXJDb21tZW50PlNjcmVlbnNob3Q8L2V4aWY6VXNlckNvbW1lbnQ+CiAgICAgICAgIDxleGlmOlBpeGVsWERpbWVuc2lvbj4yNTYwPC9leGlmOlBpeGVsWERpbWVuc2lvbj4KICAgICAgICAgPGV4aWY6UGl4ZWxZRGltZW5zaW9uPjE2MDA8L2V4aWY6UGl4ZWxZRGltZW5zaW9uPgogICAgICAgICA8dGlmZjpSZXNvbHV0aW9uVW5pdD4yPC90aWZmOlJlc29sdXRpb25Vbml0PgogICAgICAgICA8dGlmZjpYUmVzb2x1dGlvbj4xNDQvMTwvdGlmZjpYUmVzb2x1dGlvbj4KICAgICAgICAgPHRpZmY6WVJlc29sdXRpb24+MTQ0LzE8L3RpZmY6WVJlc29sdXRpb24+CiAgICAgICAgIDx0aWZmOk9yaWVudGF0aW9uPjE8L3RpZmY6T3JpZW50YXRpb24+CiAgICAgIDwvcmRmOkRlc2NyaXB0aW9uPgogICA8L3JkZjpSREY+CjwveDp4bXBtZXRhPgqXOEA1AABAAElEQVR4Aey9CZgkV3mu+edSe1Xv+96thRZaWxtSC0kIBFwsY98BjG2w4YLnXo/HY1/bD3g8z4Av4Mc2j23Gxh7DeK7twawXBMbCGBBCaLP2fW1J3VLvXb1U177nNt/3R5ysrOzqrqyuqq7Kyi+6MyPixFnfExEV58v//JEoYDEtIiACIiACIiACIiACIiACIiACIiACIiACC55AcsG3UA0UAREQAREQAREQAREQAREQAREQAREQARFwAhKCdCKIgAiIgAiIgAiIgAiIgAiIgAiIgAiIQI0QkBBUIx2tZoqACIiACIiACIiACIiACIiACIiACIiAhCCdAyIgAiIgAiIgAiIgAiIgAiIgAiIgAiJQIwQkBNVIR6uZIiACIiACIiACIiACIiACIiACIiACIiAhSOeACIiACIiACIiACIiACIiACIiACIiACNQIAQlBNdLRaqYIiIAIiIAIiIAIiIAIiIAIiIAIiIAISAjSOSACIiACIiACIiACIiACIiACIiACIiACNUJAQlCNdLSaKQIiIAIiIAIiIAIiIAIiIAIiIAIiIAISgnQOiIAIiIAIiIAIiIAIiIAIiIAIiIAIiECNEJAQVCMdrWaKgAiIgAiIgAiIgAiIgAiIgAiIgAiIgIQgnQMiIAIiIAIiIAIiIAIiIAIiIAIiIAIiUCMEJATVSEermSIgAiIgAiIgAiIgAiIgAiIgAiIgAiIgIUjngAiIgAiIgAiIgAiIgAiIgAiIgAiIgAjUCAEJQTXS0WqmCIiACIiACIiACIiACIiACIiACIiACEgI0jkgAiIgAiIgAiIgAiIgAiIgAiIgAiIgAjVCQEJQjXS0mikCIiACIiACIiACIiACIiACIiACIiACEoJ0DoiACIiACIiACIiACIiACIiACIiACIhAjRCQEFQjHa1mioAIiIAIiIAIiIAIiIAIiIAIiIAIiICEIJ0DIiACIiACIiACIiACIiACIiACIiACIlAjBCQE1UhHq5kiIAIiIAIiIAIiIAIiIAITEygUChMfUKgIiIAILEACEoIWYKeqSSIgAiIgAiIgAiIgAiJQawSCmMN1Pp+3sCaHsM01P2FhvPBhWEgXjmstAiIgAguRQHohNkptEgEREAEREAEREAEREAERqA0CpcJOaHEikQibvg77jMvtkCbsJ5PJYliIOy4D7YiACIjAAiIgi6AF1JlqigiIgAiIgAiIgAiIgAjUGoFyKx6KO0HoCQJPsPoJIk82m/U4uVzO1wwPx2qNn9orAiJQewQkBNVen6vFIiACIiACIiACIiACIrBgCFDAoaATxB6uKfSMjo7ayMiIb7OxpaJQOh1NjGC6F154wf7wD//Qnn766QXDRA0RAREQgTMR0NSwM9HRMREQAREQAREQAREQAREQgaog0N7ebq+99prt27fPjh07ZoODgy7+LF261DZt2mQXXHCBbdmyxZqamorTwzo7O+0v/uIv7Jvf/KZ1d3fbX/3VX1VFW1VJERABEZgOAQlB06GntCIgAiIgAiIgAiIgAiIgAueMAK19SqdwcX9gYMB++tOf2je+8Q237qEgRBGIVkG0AmpsbLTFixfbhRdeaLfddpu9973vtXXr1hmtgigSbdu2zerq6uzhhx92MWjZsmXnrD2hIE5l6+/vt+eee85WrVrldUqlUuGw1iIgAiIwowQkBM0oTmUmAiIgAiIgAiIgAiIgAiIwmwSC/x+W0dXVZZ/73Ofs9ttvt/3793uxGzZssCuvvNJWrFhhmUzGKAy9/PLLds8999gzzzxjDz30kKehlRBFIgpEzc3N1tHRYb29vTYXQhDFLU5N+83f/E17//vfbx/72Mfccmk2OSpvERCB2iUgIah2+14tFwEREAEREAEREAEREIGqIkALH1r6cKHI84UvfMGndnGfws+v/Mqv2Mc//nFbsmRJcfoX/QA98MAD9vnPf97FoJdeeskthZiGAkxra6vR+oZTxhoaGhg8J8uuXbts9+7d1tfXNyflq1AREIHaISAhqHb6Wi0VAREQAREQAREQAREQgaomwKlgFG3oCPrLX/6yW/bQQmjnzp32yU9+0m688Uaf5sVGUuThp76+3t7+9rfbjh07fArZ6tWrfWpYsCw6fvy453fVVVcZj83FwnYdPnzY32DGtoW6zUVdVKYIiMDCJyAhaOH3sVooAiIgAiIgAiIgAiIgAguCAC2CKJpwqheFIPrVoXjzW7/1W3bLLbf4MTaU8cISRBVaDL3vfe8bd+zEiRP26KOPujXQBz7wgXHHQnqumQf9DtEfERdaD7W0tBTjhzIoPHGbay58axktfGiVRGsjpqE/ovKFxw8dOuTpeLy0/iFuab4hTGsREAEROBsCEoLOhprSiIAIiIAIiIAIiIAIiIAInHMCFEMomjz++OM+jYqiEH3qvPOd73TxJAgxrFjYDqIMwyiwhHDu8+1iFGA+9KEP2Q033FAUkoLowri0GKIz6ieffNLjMh0dOtOCiM6n6VOI8bkwf25z+hrj33nnnbZnzx4XhOiwmo6paZ106aWXujBEIevVV1/1Dx1Fsz2cuvaVr3zFLZ+4v379erv11lt9v7QtXqC+REAEROAsCCRwo4ruWmeRWElEQAREQAREQAREQAREQARE4FwR4NClp6fHPvGJT9jf/d3fuZPnu+66y66++mqvAoUSiidB8JmsXnQOTb88dBwd/Aoxj/DhsT/5kz+xH/3oR/5GMVoCMe/h4WEXcihAffrTn7bzzz/fy2U6Hv/Wt75lf/qnf+p5M4zOqJmGddu6dav9wR/8gdEC6dlnn7Xf//3ft6eeesodVbO+nPpG6yGmY3s53e1rX/ua+zJi3lpEQAREYLoEZBE0XYJKLwIiIAIiIAIiIAIiIAIicE4IUByhFc2BAwfc6mbLli22efNmL5vHKLRwzU8lS1tbm1v2UHDhh1O5+Fp5Ci4nT570KWd33323l/Hrv/7r9o53vMNFGr5q/ktf+pK/rYzxvv71r7tlEMt98cUXXdyhtdFNN91kv/qrv2rbt2+3I0eOePwf//jHbgHEuLQmon8jvsaebzXr7u52q6ErrrjCfRvRsojWQ/RzpEUEREAEZoqAhKCZIql8REAEREAEREAEREAEREAEZpUAxRq+Mv7o0aNeDv3+UMyhcBMsgYKoU4kYxDSMz/QUXYJ/HvoC+uxnP2u0Nrrooovsz//8z31KF0Uixue0MH5+4zd+w+6//35/exmtfHj8L//yL1304fE/+7M/s8suu8zzZ7q3vvWt9vrrr9vatWs9H077+tSnPuXTz372Z3/WOD2M080+85nPjLMKYj1D+2YVsDIXARGoCQKyLayJblYjRUAERKC2CYQ50FyXfkglHKttQgu09aWdXdbRpYcWaOvVLBFYkAQo7tBp89DQkLePr34P06W4ptgylYX58cN0FHGCeMSpWrfffrtb4lCYefOb3+zHg3DEMq699lp7z3ve46+xf/DBB93fEMWkzs5O92PEaWSsH5cg5NBZNIWh5cuXe1ioL9Nxmx9u0w9S2Gd6to1TxrSIgAiIwEwQkEXQTFBUHiIgAiIgAvOSQBjss3KnDg3wwO21xttd8G+CCKe2qbKZBqemU8jcECiU9GtJ34XgcE7wV7GSw3NTV5UqAiJQMQEKNvxwKRdMgpAT1pNlGsSjIAZxTdHm+eefd0GHYs4ll1xifLsYp3qVL3QaTXGHxzo6OmzDhg22ZcsWF204RewLX/iCffjDH7aLL764KORQ4AnlBLEnrJk/t7kEgct39CUCIiACM0hAQtAMwlRWIiACIiAC84sAB/c+wOczdTzSD4N/ij8Fgy8JHHIpCBsh2lic8WEhfLJ4cVHj8ptKWCgnqltU9emGzWT5pb0cWFQaNtX4leY7UbwEFJ5EDI7ij29zHUdOTlSZ0oy0LQIiMC8J0J8OHTtzoUCTyWT8de5BTJmqgBJEo7CmnyC+KYwiEy2Pfud3fqcoPJUCoRhF6yT6LKIjaK4pIv3u7/6uO5d+5ZVX7G//9m/t29/+tlsUfeQjH3FroJUrVxanobHOLJefIACF/dKytC0CIiACM0lAQtBM0lReIiACIiAC849ALAQEVSaIAKwo3u2C7yhCboo1D9kyWdguX090bK7CQt1mqnzmE5bSvCsJm2r8kCfXU0nLPsXYqrgksR3mxAeBKJwXxUjaEAERmNcEKJbQAoc+diiY0AEzP/QTFEQVCjgUg3j8bBbmQx9BFHWY780331zMP+QX8g7rLVu2uDUQj/MNZF/96lftc5/7nHHKGMWqb37zm/bd737Xp5N98IMf9FfeL1q0yMWmkEfIW2sREAERmG0CEoJmm7DyFwEREAERmFsCVA7CWGAiFSE+6OOF0uMhTUntJwgqOarNOSUQ+i7uJM6soPATgrlFy6/oO/Qkj4btOa29ChcBEaiQAEUTijOcrkVBqL293X7yk5/4m7ZooUMRZ7q+dJgP82ZZXH/yk590S57yKlIoouBEiySWGaarsQ6XX365ffGLX3Tnz3wb2OOPP24vvfSSPfroo/5WMb4d7Pd+7/c8HfORGFROV/siIAKzSUBC0GzSVd4iIAIiIAJzTqAQTECoDGDQP9GwPwHTEReCyms7piKUH9H+PCfg/Yy5X5wSFi3szLhDYQ4U+QmKzokk7ISCJQHjlm5HafUtAiIwXwjw+qTfniuvvNLWrFnjb+D6x3/8R7vxxhv9Nes8Pt1rmKIOp29xzalffEPZjh07iggo2rCMUsGJ2xR0GM6Fa1r83HDDDW4FxKlmdED913/913bffffZP/zDP9gHPvAB41vDQn5MVy4IhbaEfMuPM40WERABEZgqAQlBUyWm+CIgAiIgAlVDgI/jeO9KNCiABERNyAWf6AB1oWgZxcP70KgNwxfEEB76R0ZHrYCpBUE3iGO5j5mQJIRpPT8IcJAUDb8s+mW+rs6SeMppaKq3pkWLLYG1paLeKxRylsfLd/I4GThwY3AiH70+en60RrUQARE4EwG+VYtC0C233GIHDhxwC5vPf/7z9qlPfcqnZ/E4XwMfRJSQF6eM8fXsFGUo0DQ3N0/okJmiDi2O+GYvTuv68Y9/bNdff70tXox7SSwCMc9gyVMqCDGc+0G4YRxaCtGJNB1LHzx40AUhTmdj3gxn3DCdrTw994PFEbclBJGCFhEQgekSkBA0XYJKLwIiIAIiMG8JUBrI0yE0vAbDW4QP9vMZDPhTsADJFmx0aNg6j3ZY/5HjVhgYwYN41rIYKBTiX3XzeDindECBIQhAvg4BQXkojRTCApVwLOxzfaaw0mNhO6xL055NWKhDadrysNJjYTusQ/khDdelLBiPy0yHRbmO5Rv2S8sK23HhKfRxfRpqD6x/sqhX05JFtnz9GmtetdzSzQ0QfyLrsASO+3b8VuYweCstQtsiIALzh4CLtxBaVqxYYb/927/tPnh27dpl3/rWt6yrq8s+/elPu4gTruWwpjh055132ic+8Qk7dOiQT9t63/ved4pYFFp63XXXuZXRN77xDfu3f/s3e+tb32rvete7XGAKcTgtjGXy7WAXXHCBrV692gWd8Hp7CkmME+pAEScIORSF+OHCMIpHIS4dVLOdYaGQxPozn/p6iNpaREAERGCaBCQETROgkouACIiACMxfAhzqp2kHhIdng8VHIQdRYCRjw1391tN+0npOdtnI4LClc3mry0f+Y9xqiEoNxCN/YJ9I1AiCR1gTQdgO61IsUw0rjR+2w/p0ZYXjYX26eKFepfHKw0qPhe2wDnHDOoSHNcPDdlhPN6y8rLBfkq8Xha+oqyH+waArh4ETVD1Y/pj1DKG/O7qtcVGrta1YZm0QhJoWtVjaLYVwbsR1ZZ+HQVtpMdoWARGYHwSCWMJr9Y1vfKP9zd/8jX384x93/zv/8i//YnxT12233eYOm2nBQ0sbvtad/nlo2XPy5Enbvn17cRoX85to4fQzikavvvqqv0r+j/7oj9yah75/Wltbrbe311577TX74Q9/aCyX/n7+23/7b37/+OM//mN74IEH7Bd/8Rfd8ohTxHhfYR0oWNHC5+d+7ud8WhjD2ZbGxkafjsZjDz30kN1xxx22ceNGe/bZZ93/0dvf/vaiD6KJ6qswERABEZgKgQRuPnzE1SICIiACIiACC5NAHooAfljNYOpX99ET1nn4uI10D1hhJGepHISiBE1BEAFCkS+xIDARjCAWTHRMYXNLoPRxxgU8VAcPOZEmBa/ROWznuUZfFzDwSzbUWdviRbZiw1prWrvYUk3jp5GEPOa2VSpdBERgIgK0luGHIg6vVYolfE37XXfd5dO+aFFDYSU4bx7FdF8utMDhG8B+7dd+zW666SZPWy4E8V4SPjxGfz6f/exn7bHHHvMy+ep6TinjK+bp8JmWPJdddpm/Mv7WW2/1V8h/5jOfsdtvv93j0I9ReKMZp4PxNfO0LmIcWhGxLLaBgtXXv/51+9jHPuZWRsuWLfM2sAxaItG3EK2gGFf3p4nOCoWJgAhMhYCEoKnQUlwREAEREIH5SwA6Dh7fxz8gQwMy+P8ZPNFpJ/AA3nO8y7LDGUvDRIQWQGlL+XSxXOw8GImj9uHBfKJFQtBEVOZRGPstHiT54ApVo1UYezMPy6AEpwRym2cKB1/4V49pYk1rl9jSjWusFZZCBTiYZh7sa54NfkYwEZf49Ih29C0CIjAXBCgAlQo1rAP3jx075mINBZs9e/a4g2da19BXEB0/b9u2za666irbuXOnrVu3rujHp1wICvkxT4ozFF1oFXT33Xfbww8/7H59KOZQ3OFr4jmFjHlu3brV82R8WiBRQOKHdenr63NUtPChr6F3vOMddv755xengoU69PT02Ne+9jV/Cxr9B9HyiPF+4Rd+wR1ONzQ0eBrPTF8iIAIiMA0CEoKmAU9JRUAEREAE5pBAGJzHVeBDO0YDGKxHo3V+5/szNrD7qLUfPOSOoOkniHFSnPbFqIjj8Rg8h01R0XNLoECjsMa0rb1wqy3ZtMYKDXj7DzxI89zwqYJ01cETJJo3iA0tIiAC84mA3/9RIYpEtP7hhyJOCKdlEAUh+tcJVkKV1J/pKexwTVGJAhDzZTm0BGJeFGeCY2rmGax1GI/xWRfG58J4tFTiOsTzA/gKdWU5tGiiTyAKRKwzp6lxO9QnpNFaBERABM6WgISgsyWndCIgAiIgAnNLgANzjtSxBBGH4o5P8cI0r5GBQTvxygHr3XcCD9QZf4hOJ/Eml/iBvCgEIU0eA/yQh2eor5oiQIfieZwQOYhBK7fgzT7nb7C65kYXfqgt8uRwuyJMLdMiAiIwfwmcSSihGEPxpVyAqaQ1QaQ5U9pK4rCs08U7U91Pl6aSuiuOCIiACExEQELQRFQUJgIiIAIiMP8JcICOcXn0O2tU3QScPicw5Wuos9eO7nndeo92WnoUD/74JdUXHi+xGIoG+HgwRz4SgiJEtfmNqSY4B3IQevJ1SVu+aa2t3rbJ6toaMVUsmlrGc006UG2eHWp1dRAIYsnpBBWGhylYZ9OikD/Thu3i35P470rIt/R42A7HQpqwX74O8bkuj1u+X55W+yIgAiJQKQEJQZWSUjwREAEREIF5RSA21HABh9t07ZKET6Dhzj5rf2m39eO18KlEGuP3yNynaAlU9sA+rxqlyswZgXwu69M1MgVMJ4EYtGzdalt5HsSg5a1uMcY3j3EGGVZaREAE5hmBiUQTVjGIKqG60xFSyvNinuX5hTjl4Ywbjk2UjmGly+niMnyivEvTalsEREAEKiGg18dXQklxREAEREAE5h2BIASxYsF1y0jfoB3etceG4BS6sZC2PF4Xn0/BMTCmivHhOTxAlz5kMx8N7udd957TCrH/U3h7XCGTs3pYj+VG8nb89YOWhA+QFQ2bLUXLIEqOEhHPab+oMBGolED5vT3shzXv+eG+H8Iqzbs0XnnacmEmHA9lMW0IC+vgLyjsl+Yftnks5B3yYtiZ0oS0WouACIhAJQQkBFVCSXFEQAREQATmFYE8Huo5JcwfjLGmNVBuMGNHd++3ziPHrNXqLQUTjgTm+/Ct8OHhOTxQh8ZQBNIiAjwPEpj3xWmFSZxY7lQcwtCx/Yd8qtjqN2yxFF43jyAtIiAC85hAuNeXV9H/VkxTyJ0o74nCWPbpwnms0ulpIY+wZlotIiACIjBTBGKnCTOVnfIRAREQAREQgXNAgA/0/FDkodXPYNa69rVb96Fj1pxocAEo5+//jt8Oxnhl1eJUHy6MpqW2CcBzFE6l6EQI4qAP1rI56zh01LoOH7NEttQbVW3zUutFQAREQAREQASqm4CEoOruP9VeBERABGqSQNBuEgUMziEEDZ3otI69By09gqk9MNtI4PXwOUzryRaH98AURvgxMb41LIhAZYdqkmmtNpoCEM+DHITF6BNtU/ZJ4l9hNGsnD7TbSHf/eM/ktQpM7RYBERABERABEah6AhKCqr4L1QAREAERqD0CFG7os8UFn6ER64XFRr5v2OqyGNTDzwsH91n8hcunYosgxA/iUZQ2EoHCdu0RVItLCfA8oIVYHtPD+OawHM4d+B336R0pCI3DeAtd9/52+JqSVVApN22LgAiIgAiIgAhUJwEJQdXZb6q1CIiACNQ0AVrzJOkDCIP0QTiG7jl2Em90wkg+Hsy7pQ8H7djndqngg11fmAe3w34crFXNEcArpdHmJPxOubwYny+cGoYzzAqYEpbOJawbb6Eb6oysggo477iUfntAMSzsaS0CIiACIiACIiAC84+AhKD51yeqkQiIgAiIwCQEKOKkOCsMDqK7Dhy1/AgmgSEsn4JzaBzM45+/6htiEC09XAwqUXy4yY+/ch7pSg5NUrIOLzQC0XlQsBROIIpB/Pj5AC/jSZw4aUw15DozMGInXj1khWGeaC4ZQQjK44N9fvg/WnnIQuOk9oiACIiACIiACCwcAhKCFk5fqiUiIAIiUDsEOFLHoLu/s8f6enowcB+Tcij6+ILjFIy0iMBMEKBv8o7jx63n+El/w1gk+sSiUVxAOPXCeibKVR4iIAIiIAIiIAIiMNMEJATNNFHlJwIiIAIiMPsEKPBgyk7HwSOWw5udOEhP8guLxB/HoK8ZJsCJYnQc3XX0hOVHcc7xXCsRIENxEoECCa1FQAREQAREQATmKwEJQfO1Z1QvERABERCBMxLo6+i2vq5uTNtBNE7VgYkGN4sWQWdMrYMiMHUCaXgTGsA5lxkYik40mgVpEQEREAEREAEREIEqIyAhqMo6TNUVAREQgVok4CJP6aAb/lt6TnRYfnjUrTJgqzEmBNUiILV59glA80nhkx0ewXTEXjiogvqoRQREoKYIhL9FuRzeTln6N6mmKKixIiACC4GAhKCF0ItqgwiIgAjUGIE8poNlhoYxKs9ZmlIQzICiqTpy/Fxjp8I5ay7PL3dAjvfKD/UPeLmJeDriOauEChIBEZgzAhR/8nwbJRZd+3PWDSpYBERghghICJohkMpGBERABERg9giEh+7wC2x2ZNQy/YNWl0jiNfKR+JPA6759alhcDflqmb3+qNWcUxCBUhgIDvcOWAbnoL8mrAyGzrsyINoVgQVCIMm/MZyCjA//JoW/SwukeWqGCIhAjRGQEFRjHa7mioAIiEC1Eih96B4dHrYMpujQgW8YjIcBeFiznaXb1dpu1Xt+EKATcr5GPplP2PDAgI3gHORC8VGLCIjAwiZQLgCF/YXdarVOBERgIROQELSQe1dtEwEREIEFQoAP3WGhaT6tMRLw0eJ/xOJfZ0OMsJYIFIhpPVMEeL5xephPTRwZKapA4ZybqXKUjwiIwPwjkMlkrK+vzyvGaWJaREAERKCaCUgIqubeU91FQAREYAESGOeCFyNsDrIZlucWd/D8nekfhhDExqcsj+lhfJk341D84VvEEhCH8ok8PkygRQRmhkAhhXMtPgcLgxAj42mJfF9dAecaP1pEQASqnwB/cAhWP+GHiP3799sdd9xhA7AITKfTfrz6W6oWiIAI1CoBCUG12vNqtwiIgAjMQwIcRodPafV8oM0AKj14Yxh9BBVcCML7wuCrAbN1PF2IImsgktAyswTic40WaFCDCll8MFUMJ6CfljxHtYiACCwMAsEfUDab9QYNYyro008/bQ888IDt2rXLwxhHiwiIgAhUKwHdwaq151RvERABEVjABMqFHM4MC8Ns/jrLqTlaROBcEwiWARR98jwpudASKNrStwiIwAIhEK51ij0Ugw4fPmzPP/+8WwN973vfs87OzgXSUjVDBESgVglICKrVnle7RUAERGAeEygdWJeLQpSE8oV4Ts48boOqtvAIUPJJYCoilwJfI+0KZWQRtPBaqxaJgAgEIYjWQBSDuOzevdsefvjh4qvkRUkEREAEqpGAhKBq7DXVWQREQAQWOIFTxR80GOqQC0T+2l78+SpVixY4DzVvnhDgORefnMFiQBZB86RvVA0RmEECfEtluMZPnjxpjzzyiHF6GMMpDj311FPW1dU1gyUqKxEQARE4twQkBJ1b3ipNBERABERgigR87O3iDy0volG4nPJOEaKizwwBnowl8xSlRc4MVuUiAvONAEWgVCrlYhCtf9rb272KFIF47MCBA/bMM8/Y6Cj81WGfbxHjmh8tIiACIlANBCQEVUMvqY4iIAIiUGMEyh+l+StscfHBOPZKgorHtCECs0ggCJD0EV08/2Jn0bNYrLIWARGYIwJHjx61xx9/vDgNjG8ToxjE18g/9thjRmshij8MC28am6OqqlgREAERmBIBCUFTwqXIIiACIiAC54JARRqPj8bPRW1UhghEBBITnXNyFq3TQwQWFIFg2cOpYPfee6/7BqJ1EMUeWv5w4f7evXvtxRdftEwmU7QEGvejxYKiosaIgAgsNAISghZaj6o9IiACIrAACJRbBE3YJAzAtYjAuSQQLILcP1U4/WQRdC67QGWJwKwToJjDz+uvv24PPfSQvzUsvEY+TBejWNTf329PPvmkDQ0NeXym0dSwWe8eFSACIjBDBCQEzRBIZSMCIiACIjBzBCqzCJq58pSTCFRCoGgRVDo1TBZBlaBTHBGoKgIjIyP2xBNP+GviaQnEhdZAnP7FhWvu85XyL7zwQtGJtCyCHI++REAEqoBAugrqqCqKgAiIgAjUGAEaW1QkBs0QlwR+3Z2oPDf6iA9MpU75OE0wWpoob1Z94lJnqFHKRgREQARE4KwIpNNpe8tb3mJXXnmlp6fo8+CDD7pfoF/+5V+2DRs2uPhDS6HVq1cXy5AQVEShDREQgXlOQELQPO8gVU8EREAEROA0BKiuhOk5p4kyleDJsuLxSsWgkBddyiSxw9+QTxWDTg2ZSn0V99wTKE4NY9GlnRwUv3NfJZUoAiIwCwQoBG3atKmYM4Wg3bt3u5+g8847z84///ziMW2IgAiIQDUSkBBUjb2mOouACIjAAidQkUTijnvDaHx6QPKJpAs1zI1ll+Y6UV0miscahLTUBUIeFIHKfQyHPJN61TCxVc0STQ2LezZ0okSgquk/VVQEzpYAp4KFaWEUhbSIgAiIQLUTkBBU7T2o+ouACIjAAiQQhJYzNq1UbTljxMoOhmlaQcAJqbhPq54g8jC8qAGESCXr4jFsFPPCBsUgP1YM5PFQakkG2py3BNwiiP0XPqwpOjaBc7GkW+dt/VUxERABERABERABESABCUE6D0RABERABOYdgSCmnLFiM2gRlCwx2SnZ9OITMOlxV6EY6ecrfMWCG4kgfgHxaRHEZHnss108FrUP4kFFDfVq6GseEHCLoKAKhr6TCDQPekZVEAEREAEREAERmAqBCh9pp5Kl4oqACIiACIjA9AhAK6lgqSxWBRlZMpe3NDw8c4wP+39Pknd7HTf4iKw94oE/o5zpw8Sp+C0zsBWB8BNZi+DFwpaAGpTCJ40MUlKBnLO+REAEREAEREAEREAEzi0BWQSdW94qTQREQAREYKYIUJihIjMDC1wEQbKJTH+oz+ST3E569q7/oBxa8tAiaLIiGT9L8YcRER8aE6YOYRsZJ6A0FbKQmCAGJUr8Es1AE5TFOSAg7e4cQFYRIiACIiACIiACs05AQtCsI1YBIiACIiACUyXg4stkiXxUPpksM1km0fF8CuJNPguhJ2FDhZx19HRZ78AApnNFPnzcfJZCUKiYCztIG/ZZjRCGzcjap2C5AlWgpNXX19vS1jZra2q25oY6y4/kEJ2JULCWqiHgU/6qpraqqAiIgAiIgAiIgAhMTEBC0MRcFCoCIiACIjCHBIKucsYqcFTOiDOwjBaylmpM2eHjx+yx55+xE33dVqhLuRDEIsYJQUH8OU25PJyMLX68egjIZDJWB+Hq4vMutCu2X2zN9XWYjlbAVDTGmCTD05Sj4HNPQM6izz1zlSgCIiACIiACIjDzBCQEzTxT5SgCIiACIjBNAhVJIzNoEVRoSNn+k8fsyV3PmrXU21tv+Q+2+YLzrKGxsWgV5LpTRRWDrQ9eL0z/QJGCZNbV1WUvPPWs7Xlxl43mM/amy660hlTK0tlilGkSU/JzQUDOos8FZZUhAiIgAiIgAiIw2wQkBM02YeUvAiIgAiIwZQKV2cm4vc2U8z4lAfSafsvYI68+Z60rFtm7f/7nbMOmTfAYFL3V62xKof8ff10YpoYlUglbu36NbT1/qz358Hq75/s/tuVLVtpFm84bN53slHopQAREQAREQAREQAREQARmgYBbu89CvspSBERABERABGaXQEXWOZNXIQnR5vjJDuvs77FLd1xuazest2wOpjpYCvD0XMBbxKb6ycMiyNNg6le0nbOGpga76k3X2KZtW23Xy69EzqR9atjkdVQMERABERABERABERABEZgpAhKCZoqk8hEBERABEZgxAhVpPDP0CqcEXunV093t08A2b97sbUin05bNRmLQTDUqD1GppbnFtm3dZn39ffAbNDpTWSsfERABERABERABERABEaiYgISgilEpogiIgAiIwLkiUNF0rBl6hRP1pDycO/OV7o1NTXhNfFQ6BaKZWphjwfMtWFNToyWR9ygcSCfgJ0hL9RCInEXjvPAOjeuNE2jmzpTqYaGaioAIiIAIiIAIVC8BCUHV23equQiIgAgsWAIVDaxnyiIIg3oO8JOppE/jsmTScpgONpNCENuTRL7MM5PJYjvl086C6LRgO3KBNcydRVOAZIeGkxT71IW0iIAIiIAIiIAIiEC1EJAQVC09pXqKgAiIQA0RqGhgPVMWQRjGj8uKljuz5LuH7aJ+UKATaQhD+Rrq04XQ1BnSHhcCCrVBBERABERABESgiglICKrizlPVRUAERKCmCVSkFlVAKOQD8SdYAYWgClJPIQryZ2xYBXGaGGeeBaOSKWSiqHNIYJxgOIf1UNEiIAIiIAIiIAIiMB0CEoKmQ09pRUAEREAEZoVAZQJJZbEqqeDsCD+TlDwnhU5SJx0WAREQAREQAREQARFY8AQkBC34LlYDRUAERKD6CFSkkcygeYb7finBNHMSU8i0NMeodZxmVFE7QxZazzmByFk0qsGOC50nZ9Fz3i+qgAiIgAiIgAiIwNQIpKcWXbFFQAREQAREYPYJlMompy3NHbaE0fhpY1V0gAP8MLZ3gSbO1ouoKIfJIpXWM2oddayK2jlZ1jp+zgi4YJiMOy50XnzunLNKVFlB4czHhMh5W3NO2gzdOW8rOa8qFvpyjFoICdUcOxJCqnyNBrGN4VPlrZm0+qE/F1w/TtpyRRCB2iEgIah2+lotFQEREIGqIcCH0EkfQKmkhKfVabSMWfCTR4H8+P6khU+jwDjpzIlM06+LcqiMgFsEhajh3GNH8lzUMv56jK+hMTJjW/MNVey9y6vl1S6v6jm4H8w3JsV76yltJ5zYzb3fxDC5AHEYGrCFJL5mYHx83rVxqhVig8IHm6G9U81m7uKHGof16WqSnLBtxducJ8eXs+CXFhEQgWokICGoGntNdRYBERABEZi1p/DJHpFnCr0en2eK5LnLJ5pCGJ8hoQOLo6NzV495WxKZEE9gg036IPCgQuyNYII4iHJKulkNK61jvF1S5aj+pXG8MjX4NQ5KaH8Aw3W8YJPO79mJkeUXLaxKjuNIZHMV0kZxTwUdjof1VOIx7iwuqFKCTv75Rkm89ZFLwgWxAKm0zrNYD896orImCpuoHow32RLZyJ02R29yaPdkeem4CIjAfCUgIWi+9ozqJQIiIAI1TKCyR0zGquShdnKQM5PL5OWMizEnhY6rgXZEYEYIjDuVcVmOu35xsHzfCx2XKK7GuQwrKWuclhdXttxib1wbZoTaPM9k0gYzAiHmqJB4H49NsAtww7o0sxDG9oftsJ5uGNPPzkJhK3zGO1idqO6zU4fxuZaWG45MFBaOhXWFcXABjPVavOWraJu5jB0PeWstAiJQTQQkBFVTb6muIiACIlAjBCp6yOTorZJn2gqYlT7yVhD9LKLwkTlUNlqXDzTPIlMlOccEilPD2IXF7sTZg3Mx7J7jKs2b4gphulBco7FrqrqGi8Fb2Fh/siXV1YbZPSnKWUAI8iW6x0WSUIlI4Cobj5Wni5NVzSrIQNE6qna1t4mt4Jle3g6E+d/XcBWE49E6ksSilONFsYiKvkVABKqDgISg6ugn1VIEREAEFiSBAs3ssSSieQVjbfTw8PA5Fjxuy5WU8KA67siUd2Z/GB/qyTZF7fLxUQieco2VYC4IFKeGjXWjD5hqvRspAoVP1C8cKiYwLQzDRFzbnE7Dy3X2r7OzOStKhR62gm1hj0bhbEU0wS26bs+mhIWVppRDxIms8vgEgYDtjWKNyUJhq1pZ5HAeZwspy1qd5RL1aC/P51IW1dKy8jqHPhyrP3vScM3yz7Jve2tDuijk1FRj6bUlAiJQHQQkBFVHP6mWIiACIrBgCQQxiA3MwfcCH7ApDPljJ582uRWeQbkbFv/FMuxMbx2XNr1MzpiaDfDGFNsS750xlQ7OLwJFiyBWK3QgFQ5X9eZXXc9tbSCdFHI2kBmwTH7UkvH1G0tBDiuPKUTREDJcC+GiJsjysFD7cCzscz3VsNL4YTuso3wTlkKuYYBLIcjHwdaQbrSmdDOOsH6hvlGaWvzmvbpUtC+gn3MQyvJ+DXCb93B8UfjDKpLSAqkxGbC0t0NPcM2l/NhUwzyT+Ks079B7lYaFfEL8LP4wZVINVqhrs6F8HT7ROUJrQC4hXkg3WVhp/LAd1pXmMZ14LItL4M0WhL+77LcUew/9mESEFOLx+qYwxGUsTbSvbxEQgeokICGoOvtNtRYBERCBBUEgDCy4HhkZsfr6ekviydPFITx15nMYWqRoVTCBAXp4kp0REjOa2QQ1Ksk/3gwP0/Gz9QRpFDTfCBQtglix0HG1LALhXMal6ywy+Ywd7TxiHT0nIAaM+sg46YNJwoIIkMxwA0vpmR8n9vCwXbqeKH5pmCec3hecWCcK0eMw9YycC8wJSyfqbM3ydbZp5WZIHTgeqjW90qooNRvMDxf2GYSBWAnIU63HMVrJuKUMDnf1Zay7b9SGR/KWyWb8Hu7SUMyTckLIjam5hDMh2ou+Q1hYl8arJKw0r9BlYc1jYTusTxcW8gnx8jjR04vW2eU7b7GTgwV7YW+X5fI46hfAWL4h3enyDfmF9VTihbxL004tDNchIRYpsA8oAKUsn6fQk7D6hnprqEvbskX1trg5bSkUVo8UKcSJ0kX9xr/IrIcWERCB6iUgIah6+041FwEREIGqJ0DBJwexJ51O25133mkDg4P25ptvsrWrVuP5OmepVNqyOM5n10RyAjGo6gmoASJQxQRwYboOFg8uR3LDsArqtXwqh0Fi3idV+bWLKziP63nc4qNZHsVGsKqacliU3CsR8uDdwvMpyXeisGhE7KNaClZMwg/H9gmIQ8lM2jI5CFqeNs4Le9xd+IuTmLCx1D34oWCfw8bR/pwdaO+yjs4hG80WMH0qFu4TnCzmNkLIB2EeHve3A2Q/ISMXl1gel7MIK+aB5GGba+blxcVlFMOw74fjsjxeaRjrgcXTlqyxmWxbZRsXrbFjg1nrGO73HyoS4UeKCeJPlMf0w0rawzKZYWm7vR5xZcjWjyGan+9MyzQEwCX60YW2Wnmc+C4K4Zt929xYb2tXtEIIbbXlzRSKElbnfRVSIrXnFe3rWwREoPoISAiqvj5TjUVABERgQRAI1kDJWOA5cuSIfe/7/2oPPPSg3XD9Ttt53XW2Yf16WAk1WJ726eULg8LzbPmxKe9PkP+U8zhTgqiyXt1QFJ6i/UF6xtpwpvJ1bCYInG5qWM06i47P3QIGkf6PqlAdLUVgEZLIRdM8MQClJVW+fNTItK4iYV0crJ5NGNOU5MGbguc9SVhcJpNGXoGiKWHMjBNjUsm0uREEW4a4ftmGaxdpamMJINlF3ObgH3RgHDI6CgHoRK/tPj5oPf2j6PN68GpwIYgxeT4kcA74W8VIz4Ug5oAlZFu6ZjjPkXHnggdOLYxlhfMq5DdRWPFYXAbTTBYWNQzncsrqUvQVhPYxzLOI6+7bUdBYfhPUqbSssB3WUYZROyYNQ2RkP1ZWvM88imlLyw8VZgQu8fmdhviJ+LR8osDXO1KwocM91t87ZOevW2RrlzXF+XkSbCMfikssW4sIiEBVEqg5ISgMPKqyt1RpERABEViABIIQRKugXDZnL7/8su3d85o99uBDdsMNN9jlO3bYlvO2WUMD/DPAh9DYEg/OxgLOast9POCh1p/x8QDMgU74WxEGP1PN2B+1kWeSgxr8j57TkS/C8vhxfDSRtWM9HZbAFIq25hYMOlP4zZy/mjM+6hBlgHR80I5+p2UdWEuvUxTsdWbeeXBhWbRsiOL5auwrCo6PlezEMaLyxqJzy39AHh9U83unmxrm3VXLdHCO8hzCENKnmBRoEYRzklz8HOaZ6cejc4/fzsy/InDR8XBgdsKiQkvK8DqxEvj4RcArDBYROPlz+Sy2SyoYVal2vv0GELNBq9lntPGB0Y+NQPg7eKzb9h7rse4RCCJJ3Jsxla6ANLSocgECcSN68f0mWM6QYBx0ynqiY2cTxjRhCWWFfa5DWFhPdOw0Yfz7kMC5nYEzpATu2+OWqeZXGj9sh3VpxjMWFvVIfPWNlYD8+afHbfbQh4xFq6Asto/3DFtmdMRGM0tt06pFsAqKJ/lhKpn3c6SWjuWlLREQgaohUBNCEB+a89GE5nEdw5u5FhEQAREQgbkjEIQW3o95n+bAK5VO+XSxF1980V5//XX7yU/vtquve5O9610/YxvWrPVnT45R8snYsXRZ9fkQW353nygsJEu6DyI8+Jb8TQj1CnGmunbLERaKD+vC9hV/bU3nrTc7YHc9/FNrgm+SdStX2dbNWzEdbo011TdaPSwR0ny4ptdV1734YA6HrHzwRm6sL8dU3Gc9yYJP8XxwT+aQAPssmouvS/ajUCQuIeTj33EhOBoX7XlHifQNAkWLIIItQsbAEMDCbi2C4qXD05BCJNcpWH/w3KGowmlWHuqASigxYtgN22FNiGE7rKcbxvRcSvPzANYVgX4tUVBlFIqyY/cEn/4T6uppFvoXIfGD+wlED4cBRuSUAYcjsAB6+VifDWbwFi0KQEWo4EeUcWpXF7AdLS4zhB1fF+ONCz37ndL8wnZYM9ewXb6e6Nhpw5CYd1BfMF2KuU4nvzinaeUx1fJDmaesmRGW6L5Pyz70eareOkeylmvvsfrmBluzqKF4nUfnRpkYFmWhbxEQgSogUBNCEB/AU7BjffDBB40DCy78BdoHHfjDr0UEREAERGBuCLhAgvsx79G8P3OKSRaCUB1+aW1obHT/QPv277fd+/baT++5x/6n295tN193g53s6bKX97/m9/HoUTwatrAVU30oTqDswyePu/jE+nge+NsQtj3gLL6inOJ6oVJ0LJrCz6l5iDX8+3P4ZLuNZHL23KHXrHXXs3DOucS2bdxim1avsw34cB8TVCyBuCl80nX+HhevZx7TMtIQhJJQhAo4xj9lLI8P7r7hjQgP9FHlg6gThB+Glm6Hv4bMh+ObED9KrW8SKFoEERI/XGpcBIog8OwJH4YEYaz0RApnWJTCo8ebxe3SKGE7rKNsoxRnE1ZeVtj3fClyINOQL05+/+cXQejo0gQ1sM1mk4ffE9mfFKQTNoLXZ+072Gn9EAfyiUYcj0SziEgEsFJilcarlHZpfmE7rJlH2C5fT3RssjAeDyfMdPKL8jm1bgyfTr5nShvKPN2aafm3hG8NK6B/8RfI+gZHrB1WYMtaVlo9ppHhD7Ul8KONFhEQgeolUBNCUOie5557zr761a/a4sWLXQia7kN+yFdrERABERCBqROgNUsQ5SmM8MOFAkceU8Ty+Gk+m8lSuXdn0r29vfb973/flja1WG5g1J576UWIIlGaqZc+loIPvQOpjKXbGiGo4MEXH/594IfbZ7OEh/CQlrl4vni058M1x5xZ1H2kiQPQtPUUstbbfdz2nzxmzXUN1lLfZEvaFtkFW7fZBVu22crmxXj4roNABtHMPxCUspi6AnGJ1kMUhDLYzvMBPSxllQgtYdllh8aJPiFeyEZrEZicAM+o8rNq8lTzPoY3qTavCLY6ek7mFgRnfHCLgQg/ZMc7eswaWhFWN++7UBWcOoFwxucp8mHh3yy8usG6BzLWN5S15ja8R4w/bFAwXYCX/dSJKYUIVCeBmhKC+BC+evVq++hHP2pLliypzh5TrUVABERggRAoFVr42niKPA8+/BBax+lPFGEoCqUtCUuYjVu32NVXX2PXXXONnbdhix1++TVrHin9JfrsoVBYefrIbtvfdbQoAM2ExagPjfHFdnCM7FO6sE7D2imNMlcsW2bH8eaZocwI4uDNaAjjZyiPVzAPjdrJgW472NFuT7z4DMzxl9jqlStt7co1tmLxMlvattjaGlusHiLSKH6Z5e+y9N8RHuADDYo+XLwu0WZxuzwuD5eGMY2W8QSKU8MYHGDRaiSAHh+9dvcmZMIzKkCbf2ii2oU60gKG/7REBKJ7SwY3s+Odg+4UOp+AXyBOEgpTx4RqgRHgteCTA/F3ET82YMrywPAoHIMP24rWequrg3PwKMoCa7eaIwK1Q6CmhCD+8tzU1GQ74Hh0Pd5Eo0UEREAERGDuCQSrm6eeegoiBV9JDEkD/nEaIA5t3LDB3rTzervu+utt06ZN1ox7eB5TEmg1s651GaZNnV39w/MrB3qclran4bAP+lgXt9yZ5hOuW93Eo0ifXYJyvJ0I49SwZvgCuuGG66y3r9+OtB+xzu5OO9HZZQODg+6Dwx1twLonA3mnc6jXuga77JVj+60RVkGLmxfZiiXL4VtorW1cyylky6wFXJrSDQbZzIEUaLaPRga/Rwn8esvyfR9/C/lmGDLwwW7JaDfUlZlI23CU476KU8McUHxIoACCJ1HJiTQhk5LjMbr5tIpqF+rIOxH++W58twg3jflU6VmvCwHwnhI1nq+H78cUIX87GLzec9pQyoWgWa+ICjjHBCj9RX8lYH2Kfs7D1xd/dBgYHIUTaViixn9BznG1VJwIiMAMEqgpIWgmHu5nkL2yEgEREAERAIFwb6Ygk4MDZLhAtvO2bLW33HiT3XzTTbYGYkddY4Nb60RjzchayLcxTikfn3HoUh52OtAeDyKJC0oUR2IBKKxPl+5sw72tSEwrpPXLV9qOdRdYZusl1tPXg7ezQAzCZ1/7YTt0rN1O9vZABsLbaVC5fBpm+DD7yeYz1o+3jR3pPmkv7YNVVGOTLVu83FYsX25bVq2zLSvX26ply62xsd7fwJbBFDs+0POtZGwjH+258C1jbrSBowl4dyUHF4eiwx5HX6cSKPqRIafACiBr3Vl0dMXxLIo/RSYBElnyWOk+w+bPEtUu1NEl0njKZFxnrni4phY2eKzRWQhBWYj09GPPKbulx2oKywJvrNt/oY/555BiEH9voRhUgGXQ8Cj+dnCOIKx2PcICZ6HmicBCJlBTQtBC7ki1TQREQASqkYBbqWBAwXUul/Ppu9fdcL394vveb2tWraY64Q+beTyRcuwRhiR0Zpzh62nwkz3DSo+F7bAml7Ad1sUw5MuH3Szz4cYMLeUGEaWWNv5WIrQrBfdHdRBqmjC9q61tpa1ZvMKyGFtdvyPvotCu13bb6/v32Ym+LusZ7TeKOnQ4TX9ACTyE0ydQ18iwdR0/ZLuPHrCnnn3alte12nnbttn5W7baqhUrbXFbqzXCeioHH0RI5oJQAWIbBSaKQ3wLUA750lIo+hcBYP1L6zxDWKo+G7cIil4rNXYyAhbPq9peSKDkU2RSek3Nb0pR7UId4+vBd+M2lDalBjrbmxtuAqe0HWD8JlEDIGqxiejepL9MHj/OoJ+L3c+NeH/8X+RahKQ2i0D1E5AQVP19qBaIgAiIQFUToAjE5SZY/9x8y1ts69ZtPi2MzpD52mY/ziglQo3/SsmHUn81dWTCHj2YcjjKQdzkYcwvyhYKSfFJlzWZ+SVqYVQMiwpagsHPAt8KT4GHGJJQuOpRnXWtmPp15Up786XXwEFnrx2DBVD7sWN2CNZCHd2YQjYyaMMQdzh1rIDMgMFyDUnrwGvpj7/6tD255wVb1NJqyxfDt9CKFbYBVlVrV6621uYWTKtrct9LdFZNJ6BpmhphzXGdf1A/rnOzzGTmKSvHuSPAk2VhnTB+zXqTfCvSuRZWE898usTN9kjYDj2MSUJ+f6WdCIVkv4meOScdrTIC7NtICIq6l76guMW/F+xvPxf8/OBOLV0UVdaRqq4ITEJAQtAkgHRYBERABETg3BDYvn27jylo7UNnzRSBXKCA5Y8POEqqAXnI0rBXj3wEhQfRsGbEsB3Wp4aFI0EAKcl+VjdZblQ2XsUMy57IaTYHV3CSjQNJiltsP9pXl6izluZltg6fy9dfYAOZYTvSccwOHjtiR7pOWEdPl3X2d1v/0KCNwOF0Hi/xQS6wAMrB4XS3dcC30J72fda0qwF+hZbamtVrbMPytbZ68UpbumixLWptg2UQCsWUj1CvUjEoGATMKpAqynwcDx8IofJcRx1aRS2Z5apWIRN2YXQVjHVs2JplWvMveza8tPGAE90fGMiJQtyDgh0LBNjQsoAIRH2Nv0G44SX59wR/FBg2/j4XThA/soBar6aIQO0QkBBUO32tloqACIjAvCQQXhtPh/5F6x+MQnyfYw48fYZHzjA6gQENpnPhSCp+QEUsxuEjaVhjs7gdwsKax8KSpEXNDD/L5uMHZ1r+cEmiADbFLYFYGD/0sUFjHOpdOBj92Do2FGWrXZTBL66sXhIRFtU3W+u6zbZt7UYbyeANLn291tvfYx2dnZgedtD2nmy3gYFB6DoYpPGXWhaF/PvwJrJeHNvXjdfTJ1+ythReTw9haCkshtavXuuvqF/S3OpvIUtBiWNZrLDXP/7F130Ioc752HqJvoU8Wpq1Q1EMxwfF+VQzNt2bHx2O2sJ4MRNsFhdGYXActbh9+jAeQXlxGq6LibkdL6QZjvk6HMCabQv9Q/GxkmVc3UOasK4kgwUbh3RLCFchk6j2Y23gVRf1d9yYKmzTWZ9uaCuvLp8K6Uiwh4uFHseyBof9fl1BsC6KQZWUFPN0qMivhGegHq5HXszFa3eCrOOreoIj1RNEyypeMjlO0UV7aW0TWVuBMsLpiJshgc25bFlUE/yqgIXnALuKdeQr5PPwExT1Hf+ilXQiI2sRARGoKgISgqqqu1RZERABEVh4BOgkmgJQX1+fNTQ0WqoBD6DwRsp/XHyNTUxE8Adkqg+RxhHvx0jCI2lYMzhsl6/jJIhAMYOPuCFG8ci0NqIHZdQc9WbefLB3PQUHWFoOFj/Zl+RV2AAAQABJREFUXNYK2YwPBuijJ2qt7xYHSQxzEnH1kq4Y4RX0eCBvgCi0aGmTpZatMdtYsKveeIUdHey2Q0cO2cGjR6wdlkPHMaVscGTUCvhrX4D1EX0hDUAU6hsdtPahTkseTVo9ppEtfXaRrVm+2s5bv9k2rFprK5cut6WNzV7v7CjqiXLr0vXup4gVTeFVwk4X9crCtxPFJrijjkSgqPHOj+Fc2A5oXp4ftwNtbsdRimEIKm6HeMwgbPvav0gyWrhmXmEJZYTj7AdG5orV8/hxAu+bODykP91azqJPR4ZESz6AHDnQjiF7Mqd+ugzmPDyqXVxHnBRj113cBq54uAaWsbajyd58hvAODKkCVooF3FASmJpaSMDRWUXd6nfBkFlMcPy54bcNXKgUg7gd3ZUj4AF9WEdXcnV3hE+zKpJgO/nhlCy2HLQBwZnMQTNZA9zx2dteOu/RXiuIUy4EeV1Z39I+nIOKqkgREIFpEZAQNC18SiwCIiACIjBdAi7EQAi5//777Sj84Nx48022Ca+Nb8Cr0unh2KdOoRAfSuDZk/E5LawZGgoMgk55FJ3o8XSisKjeGHjAsiVFa5bpNqQsfRAYGOzT3VACLYUKKC+Zxove8UnDwoZjKbaJD/3FX8RDZdhefDgJg+vwobvnLNImYY0zSGfPWNc3NNn6lgZbDyfbO3KXWxfeRNZ+/KgdgCh04MgBO9nTbZlcBq+nB7xUA8qEiAMHRSMQco7AouhEV7e9/Poea2lo9jePbVu30TatW2crV6zC6+4bEG/E6lOoNxpTgIhFK6dkKmkt+EXbrbq4z1+x3Rk1BhKoLxmwzlzYJIZxHQf5NvcnWyIRDbGYsJhByCUK8nJwzKPgi2WTJwcxLLe4xHGKQdwo7hRjTbghZ9ETYkEgoJZ+eJ571FKwUcjpcpjr8Kh2cR1xMvk/343bUNqUua7sOSifPejnu5c1RodiEPd4vTmSGNmZqhTJ3JQSKHUwAUO4x23k5xlh04UHlotSErzr8UCUuhgljoVVVS/k6AvPNTQuaiWJRHz9le0Mr4DvbIIg9/IqRH1RHjqbtVDeIiACs0FAQtBsUFWeIiACIiACFRGI/ONgyIEH/8OHD9vt3/m2PfjIw7bzTW+y6655k23dttWa4eCY4gnFBgoNfGrOw7pllH/B8CzqD8rRk6nv+wCFz6glT7AThflxRkOWLlpUVOPKIhWrE2/4QAfCDR0w0yoni/rnoFLkIMqgaVg4LIoiR0OkkNAPxXHiYRIOMb8CnD3TQoU+flyIgZhVj4ZwClcdRLSWRSttA3wBXX7edkwf67OOrk47fgIOp7vw+vnOE9bX32+Do8MQh6BEwVwnj3xG4JhoaARTzdq77ZWDr9sisF+2GL6Flq+w9SvhWwiWQstblxinkdVRAEL9U3Q6DW3Jh/7oG1o3eXvYN6gff9l2IQbbYfDHdTSMGAsLHeZ9RRZUqpxJFDMSBJES+cch8dGoPI/LZH4UGyiPm9GUiyg754ZcwxLl49FCkNZnRYB9wM/CWfzc8CbFZwlXC6uJk3cW2xsukmLsKICXV+U8OJkssi7hDZdJIyGE2yiEFyYWn3KGm0l0D4xiMd047H6DiEUUT1WdX3wTZvQPBPxeRyZsLadese2hjdyeX8v8q9H84qPaiEC1EJAQVC09pXqKgAiIwAIkQAEoLClax+Df3n17rR2i0CP//pBde+21dsNNN9pmvBK9pbkpjO1hdRINKvi87IOEsWx84MIwZl0cQMTb48JYMMPjtPEqVGfG1syXH0yg8l9+8ZoubOdtED5+BpKjsApK+Zu7+Os728XHfw4MQrto9VTH5mLt4yU/ACGJlj3YplWOv1YeKcnPmWYoh7C8BASbOmtuWmKrGhbZhas2+dSwbkwNO9F50vYdOmCH4Hi6c6DHBobhcBpT1RJp1ADp8lj1wjl13/EjdgiWRS/uecVaYS20ctFS27R2va1fs8aWL1lmrXgLWQumkSXRjtEM3vTG+iM968vFh33YZt0Y6N9oXzz28zDG8wRM5unixCGT+DjTRhlzKwhCDEPuIYmXEJXnHEM4kjBO2GUqLuX7UehpvqMKnOaggquZALt2SudCNTf2nNedNzDer8IFxHUk93DtPskQEvnF8bsYQiEARTcDHonjcxXywHYVL1FbcX/kjwHw6cYXIlAc41+A6OUIvFei3XN8YuqaqOKTTFUXgUkISAiaBJAORwRGR0etri5yHFc6cBMfERABEZguAd5T6BiaD/gUEPgvk8nYocOHrP2OdnvsySfsjZdeare+/Va77KKLPV4OaXI0pWGy+Ek1GipwMBGHYc1xhD9HTxDmZjawoknAOofbHg8J3OKECWdwCbkl0E76BhoaGrKnnnvGWptarRF+kerr660J65bmZl83NzbCX1KDty0Bf0kNmCWR4kAB9WWj0GwcQ42xXcDUMPrfoVmOy0iIR389OBjFRxrGp1+hejj6bMCUtCUNrbYBr6i/eMNW6x0ZsBN4+1gXxCCKQnsPH7BOWA+NkAGdWSM/TifLZulbaNiO4y1lLx3Zh3rX24qly2xF2zJbvWyFbd60yVYvX2n1EITqUA7rnWJdYQGQjgHkaT2EulA0ioGjCYzDUIhbmKbGhZxYfw4f2R9cU9jyNNj2juWAKd6Oeg87yIZyGGP7f54cSM+QPPL284tl4b+nZfqpLGeVaCoFVGtcgqluOOW15zkTNcm3xs69au2is6l3ORTPI+Lh99kp5ElRw7NjcmxQ9PbrEdc/720IsAz9D+HeQHHES8E9jbchfhIIz6FQWjxGgxfPbQo1mF9Rea+ug4hfGB1AeyAEoW2ZRD3aH4lB/E7Q6f8cL3F3jauF9824EO2IgAhUIwEJQdXYa+ewzpxuwE8aA4c9e/bYHXfcYZ3wJcF9LSIgAiIwHQI+wMf9hUIAt3fv3m0jIyNukcKH/gycHOcgIux9/XV7Zc9uu++B++xnbn2H3XbrO+Hvpste3r8b96doMBAeVkvXrBuPlocV68zBB49jdQiOlXmvYz1YH24HJ9bF+NPYoGblv/hCCMll6RTIME2rw44nOyFERT52WGYd7q31mNbFshshBC1ZssQW49Pa1Azn0PXuo6cBfnr4odhSh3gpemRGWo6WEhhAeTswqHDfRxS5qKL4yAsr8OJUsjqINPD2Yw3JemttbbC1S1bA19CwXXHhG+ELaNQOQIR79pWX7WjHCbyZrA+WQiM2inqzrgVaDOH/UH7EThw9YHXtRywNbnWPJW0dXk9/6Rsusq3wL7QUr6ZfBAsiuJW1HCyFkqgnRTdSL/AXcNSBco87h8Wa4fSZ5Px9ulrSB4i0nmI/cuoa+yeJ8hM4Lygasa1sJ4Wk8I98c/SbhLzSsL4aGc24MJaur3MxyDNDfmHhgLbSJXIWjQSsED9ckEHkGDnarc1vQiz5FJkESKTC46X7DJs/S1S7uI4QEP0fdmP5YqzqjFITCxoa4wgbUdMp0uAfu5IB3KjgIoqi4IqPT4E0rmOK2A28CeCeU8hn8bZD3KwSDbgv4P5LEQgWiv73AddyNouegJP6BO599EM2Zi1UpZ0BdvyRtRFOt1sacF8FzH7cE2k56hZBvJ9HN28/NletnOiKjcKKJ8dcVU3lioAITJOARvPTBLjQk/NBmg/aXPbu3Wv33Xef/0rNQYoWERABEZgOgSAEuTUQMurp6YHD43of9tPyJQ0rxBQe+rO4B6UhIgzitehPPPGEXbBxq2UHRmzXnlcxOMAvpnge9bEI8oAeQD1kwjAeC4MQF3ywy4UDDXjLsbq2RhcPuD+TC4v1ciECpSD0NKbqXYShUJLHPXYUgx3+yk1Riz53hjFlDO9otn5M1eqA4JU7YJbBLZcCfCOcNtNxcyNEoYZUnTWAUUtTS2RFhLAWvNmLcerqMJhCM2gdk8KAixZCrAe/k+DJYUe0B+ErGw246iGu0O9PI5hfvOkC2775DdbZ22PHIAYdPXnCDh9vt+PwL9Q7NGBDqGOKog7qwL7KYTDHqWp7jx6yA+2H4VuoFf6Eltm6lavgW2iNrV6x0hY3tXk9WSf2V10dBTAIU14nDH4QxkE3/yXxNyaHSLREoi+lUaz7B4esp7/Xurp74POoFwLPsPGNZuxXimds96K2RbZy+XJra4WlVboBgyosEIPyGDjmwJmCUSQa8QDK886Jtiv5dissgmWhIS3qSZq1vZBAyafIJEAinflNKapdXEcKWfF5yrUvXJU2JwpdwN9gUbxASunQEg/3DbBwHMU4Z0CBewsXn/bkqXDNwHF9fmTYuvtOwmH+EO49CRtKNtgo7lppXO+0hqHFTEMj3owIa8mG+kb4V6OWzbpUf0fwbxBuTZYYGrZ7fvoT3NMG7bKdb7O2NVv8UqHQRUGMsttctpelx1cFtqIlol8eGo5qLQIiUC0EJARVS0/NcT2jX1bTtnXrVnvPe95ja+AbQosIiIAIzAQB/8UXD8Xf+c537J5778WvvmPToLKYItbU2mIXbt1iV199td143U7bsGadHX5+ty3dWYfZUGUPo6d7ai2LxoF8iEph4JHDu2xPx0G3MuED+nQXFsdcKHhw8WEQ8qWGkIK23orBzZuuuNKnhQ1C4BjCgGgY1lBcUxii9c0oxJZRtJ/OnIfxa3kGYRmIYZ19/VGmKMCzZ74QTho4aMKAi+JZM94g1gIroias+fa1+joIRJyCBoGoDsIQB1h8A1gD/AelmQa1pTUO7/X4IR5WQzgOtuvbVthafEY3X+D+gzr7u3z62OFj7daFt5B1Qbzrw9Qyilfu+BojG8oiXUN91jPUb7sP70f59bakrc3WL19ra/FGs5XL8Gr6tsX4tEGsqfc3v3GcSF9I7Bf+9MBJYXQI3j3Qb4c7jttBlLf38EHr6O60IfyKPpIZgaADQQv19OlmSMv617HtTU22auVKvHluE96gBl9GKLcZ1lUU1wiMlkSpeGDK/qlkHBsBZ/2KW9oYR8DP9nEh1bbDFvAUDItve3/HoVzVWv+XQ3E4EQ+/t1XKAzd1ikcOENc4r/I0PgeP7LMv/e3/ZZm+Dtx3RnGJ0n8a7klJWgQVrBFTZFet3WDrtpxn522/2La84WL8PVhiI3n+GBmJS16lKvyis/8k2jg80G13fPMr1t5+3JZv2GZvXLuZhptgBCEIghhf1z6XS3z2j6vCRGHjImhHBESgKghICKqKbpq7SoYBWqhBS0uLbdu2zTbBF4QWERABEZgJAsEChwIzRQT3E4PReSNEiy2bNtuNt9xsV157jW3auMmnRBVgBUKxowViCl9hfraLWwXhV1f6o2miBQ3EgdJ7XqjX2ebPh2V+ijVkWVA5OFUKJirWBpFmCax5rLHVI3ECVAYiBadHZItrTJfA1CZOrRoeHrH+kSH/DAwPwdn0iA1TJILvHopEQ5heMYi0XJLw9wN5CMMqfNC+FKZUkBkdUyfq8Is7hCC2ua2+yZrTjVjjQ8siOH1OQzjiW8eaUNN6psPAjfk01TXaYogq6zGNbBRvIhuEn6Ou3i7bfwLOpCHUHMUbyXpH4HAav+TT0TTfkMa3hY0WRmygbxTWRPAttP81t2haBiFoNQShTRD1tqJfl7UtiX34gBnqO4S27dt30J5/5SXbj6ln3bBCGsYUCuaZrEOdGhuAEG0eHra6BlpKwZIM0yoGIJz1DwzbCQyuXjty0JY1L7Xz122xqy7f4W88owhHscv75WxGM0jDATCqoeUcEyDzSEyICi5a6iB0rCvHtqZavbNPOdWSqjF+RH96Nadwg17jfRBbMACykeEB279nl2V7IYIsXQTrH9wPca/JFjL45Kz76JC9+sLTsGpssJVrNtp1b3unve1n3m1tq7ZYxn8EYE6n1i0KYY9yK1rG74XQs1uPnStR/hRtxpaxs3Rsa3wdPRx/b3w6MET8DH4AyMLCsYD7eZQX7YDCJ7pfjeXPrSjnsVLH2hniRdPLSIBxeY1EW1H+Idbk6/E1nzy+YoiACFQPAQlB1dNXc1JTDpRKp4Hxj9Z0B0dz0hAVKgIiMO8JBGGGjoTP33aeve3mW+ymm26y5StXYPAP6x8+kbrOQZN6WK7wKRiDirGH4aiJEz24ThRWTIs8wr0tTFObLqxIoGKpfGSPH9spNOFhnI6u2Q6ftoVftr0d8aM63/DFFtEqyh/hkUWiCZ/QSOxzulMWU50o/oxi4BCsiYYzEIfwNjAXjIawhoXR8OgILHmy7lMjAwFtBEIRfe5kaU2DMil+uXVMLPYkYdFDx9X8LMU0jRYMwBqaIifWDZi2Rz9FdGLN7TZM9Vq0vM22btsMC50Mpnj02kGINgeOHDZaDHVj+hbrwNck8+8GvV8M2QjEIjicHuy2A0cP2749r9mit77TVjQvQSPTNgql5sRItz3x9FP2zAvP29DgCByHZyEeNdqmxats86q17pS6sbnBntj9vD2GQWRrusnedvl1tm7FKuvo7bZDqMPRg+2wnOq2k0OY1oa6vHJ0r+3YcaXtgEXBUghfheGsNULkIku+vYdTx2gZduYlcn6Nhvj0lPCmI6ahKBENzc6cQzUdpSDLfuOa5wO3eX2E6eLFawU8oueC6CSdjkWdU4S4m2efoD9oQYcCIUji2sniisE5CTsRy0IAzEAYrW/E9NE6xMMnU4CfmQTPbnywZncmcCH5dL6zAO9ngzcpPi8mOz3Oooy5SMK+CvdabrM/2ZchrNivrBzb7wx8kmVc3QgENfhKkdB3GYWJHJxBpyHoMtMshGacOPBXNmhNi9rsvb/+B3bepVeiv9B3dCpPoRdi86FDh+zxBx+w5x//d/veV/4fa9/zpP3P//tnrXHxRtx36tDbuLekIZbjGq7DzTIJFbqQG4J4RP9CvMbxgVUN/YpRfErA3xmMIt1XG0XnAo7lcd/FTRL3QtyXXUz3RvPUQwLGwTmJ6yCJ+xPvFxmeV36vJgPwRF3p0yjFPGDZhBSeDh6QvM18q2MiNwKBnffvlGVx70Fm8McGT224HyEBdsEEYaNImgSj+sKQ8+b5y7+J3gOsP/jUJ/GDASwjaemZg9qeh6+3UdQnhXr4NFhcJ1nsJ7HfVBi0JKbh5XCfzIJ/HX4wmO5Sab9PtxylFwERmF0CEoJml++Cyp0PCeGzoBqmxoiACMwZgTCo5L0lC8Fi06aN9tZbb7Wf/ZnbbNkiigMUPVz9QR15D8LzOh/KMYDwUUi8Km/ARA+qpwtjOAfyYYkGtWHv7Nel4g1zQVXxhI9hg99LOVTgNkYAfoAHUQc0lXUp1iY+hqEAI3hcbtHRcxMGAUl4Wk208G1bHKDQEgfDYPCiUIQhgY1izVe69w0OwAdFH/zsDNgARKIROIYehX8lTj+joMRf392SB/v9EJQKmH3WjvReKurLNWtFAYhWRfyBoAlTsJa0LrLVjYtcqGmCxeiFW8+38887HykLduJkh+15/XXbf+CAdfX1wBk1HE4TCkZbdPycG83DUXWrtTW3uFNnTvk62n3SfvLE/bZ772toE/oe0+TO27zNdlx0qV289UJblIKvEAhGWQz69+3b646yUxj4bVy80i7ddKENYuAzvP1yG+oZsOdgTfTMK8/ZSYhO7SeP2rH7fmKdmFr29qt22vK6ZlhZYcDJgSAGXf4WM55TkyzFGNhgUzgIBHg/LydJWnWHKQgMDg76lM3LLrvMLrzwQp+qw/AgINA/FM8FFxFIA/sUF7POxCXNknbzrC4SLAkv3eRZFuJEW3UYNNMKMIF+3r3ndbvz3+6z55973vq7u61tcavtvOE6u+kdO2395rWwdmNfhP7wUTwyL15NpQWdsh3VLtQxqjvFjmKdWa3Ksjol7/kU4H2Fcz0IQk8++aQdO3bMrrnmGluJKZUuBPE4rmLeeiOhmPcrl03RFFqq4F/gwY0I1Omb6ZFJEn0Khi7wOUxMJcU9KgVxeelaWAZueiPiQBxCGIVW1vW8S5O2Y+ctdv8P/9m+9+X/2x6+9yfWtvaL9ksf+X0IgMshtPA8oZUoxR2IHDlOLYMPsiQEJ/g/4xTTQaxTsH7M4B7EKagZ3Pt47VPM8b8uEG/oeJ8iSw7WiHTaTz5J3GuQA+5FEMxxnH93crjHcDotxa2w0GG9+/Th/Z04PB7iIg5FfU7uaqjHkCsz6EnyEIicLeuMuyv9reGqwTGwheVlAffnXAbbOPd5b4KUj7yQEeqM30BceKcIhFuoi0AUeDK4f7agiDT+DoygPUwL40+rp5VRAdZG+NGBgpH//WElK1wmihmFhWulwowUTQREYN4RkBA077pEFRIBERCB2iFQOiih9c+bb7zRtm7dCgsE/EKL50z6f0niIZkPr6csPviY6DH1lJiTBnDwMbsL6h+em+OifFCEQsMYKhwurUcUFg+6inWM80LEHAYuzCDBgQiGEhxg4RsWU3joB7MmRC3gB+flmHpVgGs3lsW3arn/IVjrDGKK2Qh97sByaNjDsUY4fRP1wm3rCAZkOQwkuM90/ZimBtsLr0mhf8AOnzhhe0by8PWDX5opEtFiqLnR0hjY0fH30g1rrHnVMn/bZBesdbpgJUQxKoeBfR0GSYsXL7amthbYCeXteF+X3ffwg/bqXrwNDseWL15u2y+/0HZcfJmtxnQ0OgxPZNBTaAOtnLIYXHLqmQ9ZOfCiBQv+se0rli2z66691jZtWW/PvvSsvYA8+9DO555+xhpHCnbL1dfbUkzJo58OFw58mkkp+Ym33Sk2BlfROqrLRKfmxKmrKzRcm0899ZQ9+uijdtVVV9kll1xi559/vvcbBQOedz4edgdPOPnQH3mek+ib6DRHQHGJT/zi/qkbHNJHC9PzCuG5n7ABTPe7964H7Dvf/KEdO9xhGzdvsFXrVsAqKGPfvf17dt+/32f/68c+aldcdRkG7xzAUyxGR01hiUoO5XvJbAaWuA2lTZlCvvMtKkUKLkEIOnnypIt97Gf6Ybvoootszdo1sLZqgOjADkVkbzu/+AkidhzMC3KyhWXyQgHQ4NdtjHSUGDM73ZqF5wCtWlxRQXlZ3H+a4Vj/5re/07qP7bcff/cbdv+Pf2CXXX2LXXbVLV7HRAJvm4Sgm0rgZgfZpL/3pPX14W2GMK9pallsrctWWQGCON+06OIvrZEg5vB19HzjX0O+34XFoYEBCCojELlbbNHiJVbHqWqFyJoohzXr34hmpDJ9NtTXaf09nX6WNrYssXpMd7UGTPPFFFxaDBlfBQ8hKYF7J2QaS1MIH+yyAQjyvbBoS8HKdflyCG+ZXkvDggnSOOqO9joqCFCw4OEPJS20dMM9uRfWkd3wEcffDtrgN4+O8QupBn/lfB7lNNVBUIM15VDPCatD/dNNS2AJNGo9HYdtEEJ83ZI11rR6G5oQyE/WadFx9m55iqjHy0Mry0+xREAE5g8BCUHzpy9UExEQARGoSQL+yysGlbQ44GDBp06BhDsBxr4/t0ZPnuP5cJQ2Q8+iE2U/vrAZ2GNdOTYtFhZVvrhbeqikOA6MxgbIPIB04MIw/wdAZBR8+ZBnAQMcDtdYgu8zvhfEdClrSTZZornJCi1LvSQKL+TONa2J+Mv3KK1rMKVgBFNw6IuHrzqmYDTk+0OYshVNx+hv4KvlMzaIqQ/5Qfi6gH8eWgRxfMjXzfPtbxQV+Ma0JbDyWgwrogIG8EkISFu3bsPYqdmO4e1odz54P0SgPV6fTes22Juv2Wnnb9xiTZzigDEShmNu7ZTBgK+AAaqLQCiDdHwhBJaJFa0M6N9oy5oNtnzJYlsOJ9X3Pv4IBIUBexJTzujz6NadN1o9Boa0eAiD4iij03+zTMxQ8g+FNpZHxmHBbhTgGyG0OtdkwoWWEO3t7Xb33XfbY489ZhdffLFdC5HtggsusCUYLLvognje37iOo2RkU0rGs5r8i5n4MnbO8z7w0AOP2te/9M84/zL2no/+R3vLzTdaS2s9LDsy9gzEvZeefQVTbJiQ6ZAHz38Uny/mF+V6pm+WHJ1LUb159UTJ43ZwFap3poyq4Fh0j4jaVYfrk9aYu3btsv3790OcWG7XvOkau/Lqq2wTrHQaYHkSd2rcMqYDqanwiG4+TOaMo3tanJ2DZ378sPeievEo+VNMocViE4Tht7zr5+2FZ560fS8/Y08+dI9tv+Rqq29uxv0G07Hgi6wbbzh86hGeD0/YoQMvQWQxW7VqjV14+ZV29ZtvsVXrN0FuwYmCewprAmMb6z15zHY/frc999jDduTgQRfGlyxdYVu3X2I7rn+zXfjGS11UdOf0SNXRfsBeePg+e/nJB63j+EGwg2Xj4tW2/g2X2TU3vdU2XngxzHDafBoWz8FGiKRpWAIdO7jHHrjnJ/bqi7BShLVkIywqN8KC8vqd10BZhgUP2kgRk4J7Ha4jatNk0bnvBUyNu8+efu5F6+jswnleb8tWLrcrr9tpV19/k7UsXYv7EQQw3K/7TrZj+tzf2RL04W3v+6A9+sgj9si9d9lxXL9bL7nWPvBf/0+YDHEa3Bhjcj7TMlHMicLOlIeOiYAIzE8CEoLmZ7+oViIgAiJQEwT4i2cYcNLCgEJEAR8+ofOXT041iRWMU3lU69NoXG8OeThQqGS87OPP0F7uRKOEcWmZX6k/lGg/xob4TE7WHLiXjMt8cItQDo+wjakaeCW8L4hEGxtrpkCETxTqfomyEIiyGKDTB9Egph0M0KIIzk45UB9iGKaf+dvOIB4N058L4hc4X4Ndi5+8Ob1rybJFtmXrVjiBztmjLzxlrx583S1t1i1bbTdfdyNeX78Nv7xj6hE/tAYCqCTEJJ8mAfMBijJeJ4fDyrH9iIMq03qoQAshpGmBU+4dl11hWUzN+PdHH7FuvOnssZeft+WrV9oV8BlUjzQJzreoQDQgQ77OPkcrtTQLJmWkLV2K9SkNrL5tt5SKTxS/NnGtdmM61kMPPWQvv/yyC7fXX3e9XX7J5VbfQrEgul5JhH1FVlNeUB66w/uNJzfZ9nT3290/esC6TvTaf/zgu+2DH/ol+K3iNB1YSqBOaze+3W645VqfZuj3Di84Kp3Vr7QeUbzS2BAvcU+CVIj2IKMF1K/sFwp8XHwqWLzmtXrkyBH7wQ9+YE8/+4xdddm1tvNNb7L1G1eXNJ+M0E9TQcJOjRkGi5Qiac+OcHnmUAyKULsIhBBOnWIvJlMQQCDsbn7DJbZ311NwMv2KdZ44buu3bEGMPCx0uuyfv/xVe+yeR6yupcE2bd+MazuFOB32va991V549jn7L7/7cVu5dqO/5bC+LmW9EKD/9av/3R7/yb+45eP6zVttZdsyO9nbZ3d//3v2LNL85v/xSbR/M+4rOTv42iv27a98yV58+D7cJzFtDf7RKEgePX7cXnzu67YLItVtH/iwXbHzVkzx8tcC4F40bPteeca++aV/sBchWtZBuNqGdOn6BnsF4tsLEK1GIWAl/IbGKXGUquAXC1ZEL73wrH3/7//CXnvlBVuCNyCuhWP9FISc/a+/Yt96+jE7uu91+7n3fwhi0GobgXUQHU4/98RD1oY3MtKq6Z+/+S3r6+oAvoI1L11XnPYHoBUv7JliX1WcShFFQASqgYCEoGroJdWxagkE/yehAeGBK+xrLQK1ToADrHBdnMA0I1qNLF0K30BcIF7wWDQg4LMs7Uyix9IwSOXe2SwURJiHr5FBBRrA2RRzSpo8BRmUHcqlaAG3Pr6EsGhcNL5lbHtwZozkcYJowMTxFQdZFGsy+HA2B/20hPaRI4/TooajLM5a8PYi2IU3UqXzbeeBvCjOYZWmaIM1mbOKrB/mXbmPoAKtBDw+BiwILrAh+M+U7hgVRY3AWoNTymhJ1JfBABPTKfr7+mwEA3tEskUtrZjC0GgvvfqyPYNfyfmmoFYMXm646jq7YOM2txpqgE+gBOrDNuRR9xxg+TRBthn1ivoNBXNh/RC3DtMKswN4nT3q1I23p0GygliVs3Wr12BK0SY7uesF64EPjXuefhRWBi22tKEFQhMehyo4Ccgjh3qM1kEUyQ7YYy8+7W9xY10owqXiPOhXpHxxfmWB5WHl+4zOsPLw8v0Qryz7U9KdLt5E6cLfL04d4sLzI1yrnZ2dLgg99eRTtv2Ci+xnfv6dtvmCDeh91vXUtpfnf7p9ep/xE8lXcP6Lwf+RQ0dt36uHYNW11N769psxBZHWavC1gnMhSXERaVoWNfN05CnoQgLPXM/CA05X2pnCkRDcn4D/nIe7H4cYibfScc4OrDvIISyn64fThYd0YV0ej/vlYYxbHla+H/IrX5fHC/vsR16XdAK+Z09khZfGvZdWfhSIOHV07769ECAO2D133mU333Kd7XzbzZaGg+borlBe0tnvF2lio7jt2UUBfIsi/y7QV1x9U6ut2bTNO7oH4ktvZ7+t30SPaQn7+n//R7vnX75vl11zs73vP33ELrxsO86HtHXCGuYbX/lHe/gHd9i3/mmpffR/+x34uoJFJKbF/vB//L399Dv/BHFovf3Chz9sN+OtZAX8CNHZO2BPPPaUHTnagXNrOSwecT/rOW4/+sbf21M/vdvWbr/MPvSb/9W2v/ESvN0y5VZCP/jO1+0H3/6mfff//ZytWbHC1my/Gudv0oa7jti/3v5lWBw9ZKsu3GH/+fc+Zhdv2wi/SE12sq/fvvH3X7QHv/ea0TIrjX6pg8DZgOlwQ8f22L/+0xft+Wf32lXver996D//uq2AD6c8fLh1HD9s/98X/9bu/t4PrW35Znvne38ZvpAaYdXJH1MKdujwIfsfX/2Kbb7ocvsv777NFi1ZBgvQFbjPQ+SHteR0l/H9NN3clF4ERGCuCEgImivyKnfBE+ADFx8Y+QkP1OEhbME3Xg0UgbMgcO+999rjTzxhO296s1139bV4nfBS6A6RwMHBP68fjuv4xQdR3/OAsyiM6ZEfF36XWtJ44Ax/sa6ux2DcykFY5KciGuiEJvBeEWoUwrwaEB7YYP5gzCVqe7xmuB+OLGQKGHjwMZ9OSj0e0tKyiks0NIYPCrzdhqKKR4gOoVykYqG8Z0WGAu77hdFYd/5Wz2PeB8wYS+A3CtEjiUpE/cN4LB9DMAzeUhCOGhsa4VejxZpTy/1emICvjjyctbK47v4ee2n3K9Y30O8+ha6EP6DtW8+3ejgGzsMRDwWVNMqNi3dhimV79ZFBpD+NcaMFRwZWSU0Qg47i7WE/uucuG4QINYrpZHRUPYwE9RgMjcCp7JGO4/btf73DmuFAtQFCUJIK2RkWNptCD6NloH41r1hkw4kMhCYIH+xTCkGoN2vjfM+QVzgUGIb9061LxYcQZ6K05fEmihPSV7Lm364R+CehOMC8mD+nEXGfH/pl2v3qq3bffU122/J3+DnG85tTsiKrIPZyWEiwdD+Ej1/zbMNZzdONK+vp6rUh+AhavXYTBrRtYE1HvzzfeBjxsKavIs+b/cPNaK+C0qK4/I5yiL9RONu+a9dL9uqzr8Hhbos10OICYiWvh8mWibiX983p8jjbtBOlO10ZbBv7jwv7kPshPdcUkjOYrkSHxJxO+eijj9mKjWvtDVeuASfeW/CPGIiLGwE6M5xo8c7EAe8fpo16mcn8vsZ93LOi0JBBdOehI2bWyY9h/l8LffGgftmhARvpG8B9ptFefXmvPXL/vbZxwzr75ff/om2/6GIbQpyRbMJWrNtoH/zVD9kBWBA9dteP7KZb32FX7Nhhe2Blc9/3v402wmfYz7/Xbrj1Z20It8E0nDW3rlhsN/2H9Zh6yPMQ5z7q+RrO8xeeesSWrlllH/3t37MLrrjehuCAeRQi8/JNb7Bf+pWP2ACmmd3/kx/aff/2bftPF13h9dwNh/WvvfS0peEL7Rf+l9+yC/CGw9zoANLhHgK/Pe/+/9l78yA5k+s+8NXd94FGA41u3OdgAMxggDkw95BD8RKPoSia0spaW2Hv4XB45T0cu461/nDsrkO7ERtrrcJrOexd6wiLXmnXEnVxKYrikDPD4XDIOYi5CAzOARo3uoFu9FXX/n4vv/fVV9XV3dXd1Ud1Z3ZXZX75Zb58+cv8sjLf9/LlV35JTr/xsty6Poh65rAVD+MITlZ84+XvyIUP3pQ+bDn7xf/kH0hX3xacMpaFwf64bIfm0s//jV+Q3zh1Rt7AlrZHP/a8tPTBnhHwYduMAZejH3tO/t5/82uyAS9W+BsxGctA+5LPh8PfUJ7Lr9bbXZx7VubK7+97BDwCqxcBLwhavW3jOVsDCHDiZ5MrVofhWieDa6D6vgoegXkhwLfRb+DY8J+89468dOC78iwMRx89elQ2bd6sRoh10RFQ5FtPfZ6ikfMqzSV2NDitrTbdXQDBGbJwcq4nywRjAre00Kgutzm5RWyQkXPrSJ10/ECck1FwsValACyUmI16GAUIebho0cUxrrl8Yh4UywFIY7Dsg9gHqY0WfA3iPpdi5I1pudxjvGIdCHq0IN5TWkyG83qweCEF1XZiDvyTPrf1kZ7WB+VTRILTl1VoREFJDuvQy0M35DIWQEkIjLpxetgxbNXiyWDxPPBK4ehlLFJzKEOFUyDFatAusZ4oBNq8pjBIP1j4kWMVRKDsno090CD5hGR5yg+EE+RkEgnP3xiUF197RSYKE9AeSsojxx6WHb14Q2+SNqSbySWwJY1bwqagLtWzo086+jZAQ4ip+YV2QP0Ua5TG8qKu1rG/Ml3ldZRmZbha2mpx1fJF02m/QyJuFfrt3/5t2DS5pb9dbA86pu3o6JD9e/fLw8cflsMP3i+ptpicvX5XhQpQPwvqr+Bonlq+SBcQar+ivRQQkwkYyeXJds3YUsNnKC84AYngUouLnn67L2tClsp4bZVogkja2YKsfwJGf5/GGPTppz+HI7dxkhPb1slOyrJGcSu7MccF89Wat1q6anGVRVYrw9qWaXmfp4Z961vf0nbjs8P7/GtubpH+jVuxPexBefjRB6Vvx4DcxYlcfOrKIOWAU7NDzkhmG6eYPXiaQZ09gI4JKYjRVsQlxxQIAfUWGwPPO9qIo8yHH56Ssds3ZN+hrRCkxOUj2Pq5h61Z1JBJQfsvnYfm0JbNcvnUT+Xs2TNy5IEj8v5778rI8HXZCqHK4899SnLJdiki7ySfcWgSaR/DA82xKTc5JR+8e1KGb9+Ux547LvsO3AetNAjLYAY6DuELTyXrgEH7Bx95XF575UU5d/o9bGm8LZ0buuTDD2AT6MYV6d93VA4dOwHtyIS0aD5otkHLrB32iCjAwciFmiSglQVD+PdG5PQH78jI3Tvy5Kf3S3rqrgyevok+iaQFGLOGcewUNCy72hNyZ/BDyUJbKdG/SzEjaumWNnn+s1+Spp6tcpenoEF4nUO9KEC1rXmEcXEu0pCLI+RzewQ8AiuEgBcErRDwvtj1gYBNuGxyxVrXMnlbH+j4WnoESs8DnxU+J/yMj43r4uTC2bPy3e+8KCeefEIef+pJ6evrU2GCLRNiuvBfGIosz55FFaPoYmNhtOaTi1Nnflh2DNtacpyh68JLPbfI4bfGISV8tyXKLc5MAIMbSOUWZLpljkIXCpcCgY17w89lFOModCIpIBfQ1ZwaSUour2FidLNYNBSAsTm3HIOAhvyzrVgH/DmNHdhSgYBE68V44hnxmTaJBSM1apif9jVGYOD1EhZJY7BrQcHOkX0HZKCrR1I4AZrZKWDhGrOA1Y9ujQOfKvBBficMQjrUC0nCD4JIxYiYnno0MLAV5UELiISwHS2PhVTvhm65eP68vH/mlBSgPdSExeRObA3BmWfMOavjIorHUVMjqH/vDtm0dxtWZqBNhlEGeXGOqNbPWV+tH8XaKFEbhNuH6Oz3rBlGbnl62IkTJ+TAgQPS3dmNdSy0EPJ31Jg3sQBMrlE0Z+1fIWYBkPRSsImSgAQmOwlNMvTlGDSC4KFdacuqJJTQJyTIZ3TYPxbiyD/ru23bNtm5cR/6T0bblw1cz5ZdqXYlJqwfPzQEbs60vfoH+uXRE4/JQ0eOwWD0VmmCHZwcjiXHHkvmtOQL9GvN79KpYBp9Co+d2v0aHR5SHlKZFPjCqVnQXLpz6yokHRPy0cXT8q9/6zdgD6xdsthqBXEetvWNYZvrPbl17YrW9y60Ze5N5uXqrTs6Lm7ZuhN0uiGUZ3oKY/jNcRlCJ+CTYJ+DsPv6pUsw5CyyGZo5rWmky43htET+GnEsLOKExaS0b94pLdhKdvfOXRkZn5AmCHquXbsmOWy16982gBMVWzDeQYCFbKRZpNAJRGnon4J3fiiEmszm5cZtGt2Pyds/eFHOQChEW0kcZnD8GbTTYB4bW9uuXh6UppZOmRwfh901aFhC05H9sxmnrHVu3AwtSGxp5PiEU8kSFALx1YPS4Jd3HgGPwHpHYO5Zz3pHyNffI7BABDjB49tTXdjiR/o69rNT42ElJ34LrIrP5hFYMgS4EOEWIi7wuCChn8D2Jmpq3IFR33feeUc+OH1KvvPS9+TJJ5+UZ554Uvo3bVGNFGp6LHxLFxYZbkYMGpj6U0hSR8clDCftXIiiihqgz+k3xwAaUr4HgRffAFN44zScyAem8RTm8A9YMA+1a3L4BiXd8sXVi9PS4WqCQhdXGPVh+NExRiNxm4sAzcmkuIv1TRJfFKTEsHjniVmWnj4/KuhBfBpv05mbQhxncwh5AvpOAONom40jZNaywi8lhAUT6sGNYBPAOI+tDTxhbBKLoNuwsXP+o4uq7bEFp08dP/QgNC9QBusPUgVKffA2PkstgIA2o0BK+VJueO2iFDvykMcCrgDBAW0VEU/lCkIgCoPyWHhtSDXL8YMwOHvurEzew2IK/S6/h9ufyPDsjkI5Yk9fjVGDbpyCKmaz6uMiYGt2YsxSidkMOViPSlctb7V0lfmqXc9Ei/FGs62tTY4cOSLPPvssjN3ultbWVuWffYJbWmhvihgYLcIBlKoVN3NcUE/ttmg/Chy7urpwfHgLtCpu4VjwEdkY69X8MWhk6COMK8LonmCWx/4TNIbSC8Izlzrtjj436Ivsuy43vkkantVvWqYFRBi20azV6FdLF80zU3g2Wlq3ACfS5/XOnTvlMRiHPo4Tw3qxBSqTaIZ2HsYhbuXkoBE4YhJe6SDHmFkc6GsKfBUxtqC0AFcbd11+ikLYZ5haWUO01oHtgHKyEH5chhCXmXu3bJKNm7rwnMMg/fhdTd8/0CvHHj0m45kuGYMNnjgEKs0w1txUHIcmDQxKQ9x7AFo7sIQkIxAsQgUIQqBOCDIzeKahQYS6prB1lGOvjpMUnkDQhDsyBqEoT2NMp5sgMuJ4giPgMZ4UoM2Tw5iWQnw+he1ZGF8msbXrHk5G7EL1JiZwIhigaWnOgCYCGM/ieFb4acbv3PgojjbD88PnSAdojCd5nGqWx7azJGjuO3i/7NhzEFtcMa7hedBk4Idj92FIy1s6eqVz636kxxH1kDARXUUb5PgcUJivtoFwqmMixl8Sah/Vw7Ey9aFUD248DY+AR2D+CHhB0Pwx8zk8AvNCYGhoSL72ta/Jj2D7ZHR01E1q5kXBJ/YIrG0EKCyl0HRsbEx9Hg2ew8JDtS8wWeb2lHehxn8KNhpe/MtvyS99+asyNTomL33vJT3qPI7JOU+HwpdOuLlIrzWOgiTmHcnhjWkbDBNj4sxFET/ka6EOZEFD5+zKEzlTaqTLyTkWHDy9agyLBJ1KI47Taq5muAhhmIIb8kCrD+1YpCSBC/mjJlECBk1p44O5TNiDxFisUXiDP6Sj0ysEWU9HE3Fcr2ucFuLKBBfhthoyjvQ8TYuCF9ZFHTLRcGtwW/lWrFQ9hzhSi8cJq/JsQyzkx2HYdHxyXKYmsdiZBD3E6Tt3rIhuDF2Te3fvKj/bNvXraT0xnM1OTSTln2seFKZCq2DBAbNBlIPBNo/b5hUHDqMQLo1jNpMHHtj/gLxYSEF9IIUiQUHbl0KKKfDEhRQx2tzXL20dnXLt7pB8dHdYRtHHWrFQi0PwxDqpM99dAQiHHfsWNWBUCIk2ChIHHBJObQHLVRff2nMuYrWmm4tO9D4FtdT8+fznP6+CoEwG2jHmCBU+XHCmsHhl3yZ+3ILilvjWeZghwNXyVvG58SvJ/Cr3RHvCbRnYKBu3dMnZ9y7I26+9Lwf3PCCF1ATo53W8YAcZgRHy5lZs30IWihJIh23PJ6BW57gLeAw8PoN0urRG3ZRkrQRrSFdre9WaroYiXfugLhw/rK9zm9+jjz4qn/3sZ2UjDB1z3FEc2dfxjCEh2pagEFO0MT8GBwNzuCSeP6KYhWbVVLwZTZaT9uKIZArjIAc+YilJw95WKkl7Xglo11AklEEOJ7RuwqCVwlhy/fIlOfOTtzEGdsjWfYdgKLkdfW0Ktna64Mdly8798vmv/m0pdGyXoQLsOmUgMIGmUBK88yQu7OBCz4AB57E70tZEg/cQDkFbZxJlZlSgg2PogU2cWn/sQoibwJiSyaQljq1ydJMgkku04aRE9LVEq2IVT1LQhHLyYxCcYcsp8jerjTT8piSbMWZhTEC+FhiCHsNzMlFshuAmI23QbotDgJPCkfDUXopBSJRGPUZR/6bWDkCWl+PPf0Eefep53bIWg/0ijn+KP4+Zh7ZenkI6tE8B5RfxO8E+n0Q5zfl7ksmNynixSbewJfFQsQ0pzJqPY+rgcQizOQqVseFtH/AIeAQaBAEvCGqQhvJsNiYCnLxREPT666/riRD79+9vzIp4rj0CS4wAn5VLUL2/eOkjTM6xyIBgiMIOTjhzVJ2HvQdqBuzZi20aWIgW8La1Z8MGfYu9WNYoSMnj6OEpTJR1EYvy6+4wUWe9OKPmm3caUe7E4qsDk32KiGj7BAlUqEMsHAdchOGDiTt3IFAoovc4/46wyKCbkrsFWniLRTKpW5GHWUjHnIa4OMCfLeJ5j9cUDLk3yggjoWl8aJymQBx8LMfV+HOWp4RhcUJD1RM4kYg+1xzUmOGJOE04LrkZb9uTEKLweOeTF0/pSUAUNHShLfFyXZ1b/oPpgG+9LrGsaShQSkCY1gSs4lhIqg0g9hnkAbRY7fGtO3DUfPhCOtW8It9Y4LXhTfuWDRthrPouxujbMgRbHJtbYVQVbUNHnCuKBH5EE20Q0A3WtgQJGZiaH6ZZW+6rX/2q7Nq1S3p6ehSXarUjXs7Rx4cYBf2qlJ73KlEt3XUhLnHRBooxhBForN5NG+Tjn35arg3ekP/wB38CzYpWeeDYYZz4llZD1u/Bpthrr7wux55+UD7+iefY1NokFHRon60sYoZrx13AI9sTQX0mounXQBNr3w7GElbt4MGD8qu/+quyc+dOCDwy2sbUqiOQREOfQwrEcKHXfAb0OcA9RhArPgOzOdw2u16aG7R1rOVeK9Cm6LsIDc/CGAQxyRZoIkEjhqSRLwahRhxCoJHbMP7+9d+TG9fOSGfPgJx45jOSzLSpYLy3bzsSNmMb1nU8y0PS0gK7crg3BQEvBSDU4qNxZo4V5LcJ49EGbBGNo5zL587KxPA16YDWWTqBtNTchrCYB9IVMChRqMOxY+fuPfIuhMUfXTiLl3rDsKHUKxMYZyh0TGBLVgan2d0cvIDj2oekf+de6eqkIAdC/O4tqGKTXBm8LIXxO5KKdTAHft8gbMI4mYAgKDs1CUTBH3Avwrh9K4ROnd09+jt48kc/kMeeeV6F6FkI1Z22Y0wyEAJNwZA7NYCIEzWEODZTeMbrOLaQpfCBhSDgi+UehERFXDMF26BWV+2JdXGkUe1urZR9Oo+AR2ClEfCCoJVuAV/+mkUguqCkTYXPfOYzurVlMVoGaxYsX7F1jwAXJ3/0R38kv//vv6bCAQoPcrDfkobwoH9zvxw5+qA8//zzcmDPPthnaJKL756W9ix1ZRbvuGB87cw7curaRV2c6NvwQCCweOqOAtdJlL+Y9g7LaINx5I40jjEOFlGcvNOFW8OYHh+damPRwMWSE+JwGu8S81vvw09woYM1tEuD6T5ulsJMFRSAHNSCsnxB8bjPJC6ecZMUTuGfpXFBTWEQhXIMU4OLW10nsZDh8exgGqkolKHNoLh0pmEOFcK7DO27oK568g41C0CEuiJ8ez88PKxb5GiDpqMHQj2svLis0uPiHTczfpM1HK4DhrIQlkH4g2ACvHM7mS6GcI+LP2LLujKpIoAwtaRamjLS3d4OYRLEWLDlMYYtR/EBp5k2Y6F6A5RAw61Qg5S4Nixnz9t4dykYOHbsGKrLxTC3bapYbpaKEAniY5gQeXNzo8QUBX0Q0JcQJpU4NH4+/qln5dbtIfnLP/2O/Mv//V/JwI5+ae1sxXYdbO27ekXaWtvlwRPH8IwlkB4beaBZgX9td9fyxsNcfsBj8FDwKlqD8ou5aK3u+5yj0PX396tv18Ruej1dWvdNUULElQ0gkfhIkE8gnzwS1pFMxwv3jOrAAoLsWS0UAHE4gZYfVGgQM4l2HJNrVy7Ii9/4I3n1u38BAU9RPv8f/S3Zc/BhaBg1Q/slLrt3HZbu/u1y6eIFeeON78uJn+mFjTBqTUJQQqEwSr8NmztZSLc3QABM4c4hbLn6i84NcgN2dt74zjfkMy/8HISMLbSig7EkJWPY0j8Ke0JdEMhgYJP77tsvr+Iky4vYqnz+g5Ny8AEcDw/hSgH0UxAg3YENopM/fg1CnZzswklf6dZOSeD0wh179qKvdsvgpUE5d+p92XbwIQi9KfxHjbFl7QPaScOLCIrDEsCFR87jh08OHnlAfvS9b8iPXvxLeebjz8n+A/djKxm0e1CHIp7DPARGd2DEPYn0Hdham8dYC0b1Q+0iCn90tAO2FMq656Ci7RC7cFfWCxZOxuf0CHgEVgwBLwhaMeh9wesBAXtLykUf7SlQo8ELgtZDy/s6zgcBLkD4XDQ14bQovtWEOGASW6b6ejfJM08/LY8+/pjsgTZddxfe4IJwAbYdaHi4FW86nRCFE1JbrlnYfHJiYfPL4xI4fYhvoO15JT/Gky2OmGMxTufhygcn5cFkHEIRnFyswhtHm3Vg2Y5jjUOYWjdcnCCjRjG/1dvRdbVnmMIg5xwdhrlVzuLo57ltJ4xzZXHBTacYkD98prAomcSqjAIfCuXyEAQwDImA8kIBD9utBUIfGopOYRtFCgsUbrHAYexqW4TaSNj9oHSnUARL4UJ9FIusSZzEw2vW7drQLRhv/hCGXSFwAn8RBBCe7rLYWnIDb+UnIfnKJnLy08HzONlnQrNNYpFHQ9MpsomsWia/6BABUZbEUgkZmhqFsW7UFW/hR3EUNR3b2/qBRkz7CghFWURfdNov0xI3fIQ9B2bvbu4KEXG4EBMDnpHWGgzP4NDvdEsSbqP5gCuNnRelq6dTfu4XPy/bdw/I69//MbQyrsswjpVv7W6Wn/n8J+T4Y8fk4OEDSI9+hz8K/8hzAn1BH6gZipsebTxG+Z6eqpFjdPwgzhFhd1mfR9X1OaC0NXSGCyNKgtXw9hwBFQSBBEc+p//jxhA0ELRvYAcMAuV33n5DJu5NQsDBEjAqQFNm/N4duXzpArYGn5TBc2cwzrTJxz/7BXxe4NFY6CMp2BijAeed8vzP/rx8/Xd/S/7k//kDHAOflyMnnpHWFLZOQdB76r335ZWXX8VW3IL8nX/wD2VgYEB277sffefL8h9+51/juPf/V5oxGJ944ikImprl9vAdTf/e+x/IV37pb8l9hw7Knn375L5jj8qrf/Ut+be/9Zvy5a/+ouy/D6flYSz56PpVefGb35Aff/8VGdh7UJ765Odw6mEa9Y3Jfhxlv3XXfjl18g3597/9b+Rnv/rLsG20RcYnJuX0T96Qb//xv9Nt0TGclsj+S/txCQiCDqOsI8cfh/Dr2/I7v/m/ygsobw+EQXEIg2jw+u23fiI/evUHqiX7pV/4RUl1bh/zv4EAAEAASURBVMS4zr5Pm2XUqKJPDoA5xzUN1fQUztGadjvaJyzO+x4Bj0AjIeAFQY3UWp7XhkWAiyVOSr3zCHgEyhGwRQkXHlyY0O9o75CnPvWEfO7Tn8UxvftV2JBHPF88F7EdCLNlt+CDwRhqwLhlidHldNfFlaaps8epHR08ntHFj4ZRDv16OWoDOXrgGGMCueRql8aR6Wwbi2Ki03ZNweoypX6Zhg9zc0rPOppMh/dATh1eOKvT7V0IETs60qEgiLZ8mNlFc6mAeOCfhcBnEtsNeFz3BD5ZjFvkOYm31zy9qRXCujQWOGlsrUhCoKPFgJZiSJJKCEsQ5LE4riep5aSni5EHtCHz8U06k9MY9A9+9Lq8BZsbYEImIMEh38ocE0Qd4zUONn+w5WOiCZojWIh9683vy/dhX4hugppFSEdBkDmVLSHOYYS+hJfxNFhdSGMhiu0fo1OwVQK6xJ7j9aztbmAa8TXos/782DNpBt0ZVyY0qFp3NtLCHJ9l9hw6BzN0G9BWBQgFNvR1yyd+9jn55Oc/jn4CbQcY08UKlylpZgb8cisi7LfAuC+fNVW4CDRPlOB8viJVKOuCvIjcmw/J1ZSW8xG2Lfu69Xfr87xmHSmQ43/UVa06H/o5ngm2q5sBMUTtQTzjIJyHRg2NF49ja+Yf/+7voOVp2IsfV7D2QTzMxXir7Dp4TL7wlb8px554VgotKTy/tAcGLRgShjD/iz/3N0HnrnzrT/5Q/t3/9s8l0/s1aW/vlLGhYRmD9mEunpZnPvVFaAq1QsiNsSvdIV/8xb8jV67dkNf+6k/ld/+Pfy5f/4P/WzqgMXTz+m3YL7snAxD0ZKAllExlYIdoo3zpl/+u3BvPyhsvvyy/+T/9U+ncvEk1H4euXsXJXWPSjS1hX/rb/7nsOnwcx8vTMH8BRq0H5BNf+HkZHByUN196Ud758RuS7sBW2CloVWLc+eILn5arH/XJD374JmybZSACQ9+OoTxsf3vhl/8zuTM6Iidf/4H8xv/4T6WtdwtOHmuT4es3JXtvTJrxsuT+B46APwqdiBqfH+Yntk5DiIchlH5E3LOFpN55BDwCHgGMFt55BDwCS4KATZZtkmXX5i9JoZ6oR6CBEOAkn8cV68IDfFNjjtu/nv34x+TBw0ekGUIHrgc4qdUFKCa5MazueEKRHSlMgUe4DkFanQzjq5Y4JnbpnRaCLj1YHvgiT9E35ouGldIcOvggz0J44QQeNjdHRZWH4Jv3VbCClEkIK9zYwcTKJHysg0mPAdBTAY/edvo9jKdmD10BCxIuElh+DmGKYLgYnMKb+CnYp6Dgh5oXZqia9W/jAiiR1q1daRo+Bfa6zQuEKVCJqbQGvIUCl6COui2BPOAaC3ScoAyHLxX0YfEJwQ2FRORZ6YAnCoWw2tNtDlzcG6VSgDQCh5vEwm05c3Y2mqGFRJsblKnxHl6Ma5EhHVwyzA+1RKgVRDtNaGiwgYUp8jnUkABO+xvoVDrVxKLwgffsNjIjZk05+53itj3Dgn3C4meuLJEgPoaJgcQctaLk+jRzqmYP+wnas0DBHfou/QS2ixWxdciVwv4SlKnN4jqkaz5knENIQc7oHHcBj8jj/krNrImi1dGIxvxiW/JDp89L0NfZ1tVdFB2ijY9ijdQ14GvjEA2WsVQKJ+LcygTjx/cff0KGb99wW/ogBCry+Ye9IAqTu9q7pH9gFzTBDsrew49AGLhLDTtLfNS1Pe0HcVwCD8mmDvnyL/2nsmP/IXn11e/JlbNnock4JV0wRH/kiefk6PFH5aEnPgZFom7YMmOfgt5Mc0p+5e//13Lk8P3yGk6mvH7lGuz/TEjfjj1y8OHH5MSzH5Nt23bJPRqhh52fjTvuk//4V/873PsuDJe/IrcvXVSbQn27D8j+o8flsaeflV33PYQxFobnWUcIqxI4Rezx5z4l7dAK/+tv/IkMXriIQSgjG3fuk6ee+5g89dhD8t2//msZLnZAQLQRMs5mbHlDfWBUe/Oe++Xv/aN/Ij989SV5/dVXZfjKDXeE/c49shNCqhNPPSsH7z+sJ5ZlIURPQsg1cPhRCNthSLqlQ/s08dYxjr5+5teJmbqyVzgKlbFI6J1HwCPQUAh4QVBDNZdnthERmHli1Yi18Tx7BOqHABcgthghVR5b/NQzT0srbLdwra1CCa4AEa5cgHLtQa0WLsy5huGUNFjLhOG54mwhz2WNpq1f1aZT4gJLGaTv+OUiV48hZ2XoAi8S0CDEFZCnQGDBNKCjfkBDl8IIkzQVYnIATskhEQVZNNisx53Dz0HYQoEPhW9ZLLRMS5F2XxIQpKQhoKEBUmr7MC4DjQsaXFbHQiFlSeDDGLAOH1/4T2oYt3HB5E4+5IRcvHYkIOTB+pxb/wq6qCridBwIb0CFcQ8dPiQ7u/tgFBZ8UmilxfILxMuci8uB//cvnJbTNwZhfDojD2P7xfZ22PJAxklsU6OdmSR41UUQ8jt+XUtTFwEKJfL+2dNy7tJHuBmX5ow7Mc6KquxvFs82U+bIlrGGMtfi1jDDoNI3LKr7bB98QkwMJKau1p7VqVgs4Tag2fM5HJAORZnauIxjQyAh/9QpCwzzw2kun6C5neMu4DGgZ1TC3IxgkgZ31qaV1bB4h2W0oiV0iCsx17ZhNAPuga0kF14zh8uHQQBjGMerSTThbtjS+a/+yUFo5fH4dLQqBCh63DnaNw6BH0c9/kYUsXU3h9O2cL4XUrE9qVVEHmj8GOMF+sUUBp50a7c8/fzn5IlnPykjMAQ/jqPlm2APrBW2rhIYJyYLSS23AFpuxBIYHe+R5z/3ZXnmZ35WRsfGZQJjUGdXD2Q1OO0LQqYJCOETySa1XVdAGV2btsunX/iqPP+pz0ILaER/p5pb2iXd3K68TeBIehp0TpN/jLu0UMRj5Y/h5K/jjzwsd3BaZBHXCRinb8K4k5sak2c+80U58akXkK4Ngi6MkejoVHSaBFbtm3fKz3xxQJ77zM/JBLa55SDwaYFWUAJaSnEI6otIm0UTFCAU45azX/3Hv0aooamUpuzd4RSgzyvXEoio0bHLVzoXN19KlVT8tUfAI7DSCHhB0Eq3gC/fI+AR8Ah4BFTrYANPAaPARB18FZzwwuI48Yw4XkJowMktHVPNHNIkM3xFFpEzpFh0dFAXnYazaiDIsL4pd0zPWAS1XChkYU1VyIL0XPjwmvm5BmMNuB2Kp/1MYnsXT5PhscIFbLvKY+FAgRC1cLjFJ4VFVRMWRgxzyxcXfzxxJg6joxTM0HErF237mM0hXSBycY97+rEm0dRckpEX8uE+TGRhl1SXayF9PUGMJxShHNhZld0D2+VRLApTk3yLjhwshAR1tRkQjcRNYKvQ2L1RuXTlKgy2puXozvvk6La90CziMfHMCptFXASBFMmQGwoNaX+IAsRCKi53bwzLYO6S4tiON+nhIjjsg8xX7hQBEmV7Kl3cx7WrY3na9XlFJIiPYWIgEY25UVJoDThm1T4QpeHIcAuYw9+V43omMwZlaKMzX0VeJpnVleefRmG+5GYta7XfJBZWYYeL+1YRTIl594CVrquEmMRRc+MQRbTQ+VGBSQJaQckkDP1AGCRx2P3Bti1qfSbQxjkKU6D9RXEKw0UOSnCxQkrHM2oWURjE5zEHwTKFRBSKxCBQau/aDLtlGF/4VoHajzxmnfsMkZYCXY5IGOhAl/R5PHwTjMh3SzMFN5Cg5MA0xNQqfHS8q1hKt8vGqCnZ3IGTEJEaYyeN4U8V3P0CtqCRNk/s4oa4CdQphzGKx7u3QtunvbdVJmM0+kwBDviGwJ3bbAsYfznW4xv5gBDGcrpJHDMfxzavOGwitWSc/NMdKEDqSA06dLQvNAlD1cSTYFMTUzUuWU+ko6OAyf1y6OUiv4iKdx4Bj0AjI+AFQY3cep53j4BHwCPQ4AhQa8UW4PS57HDCIBfmhBez4Kq1dMsRNxmNpmA83fS40nIxStDRicYsQViFG+QIvAWMcQnLoJui20LJ+eTA+OciKmv5sa2JAh9qAk1ByEMbPpMQiqimD7Z4FbAVwmlSQeiDxQWNN6fwRjxFARC2YvCEmRTeWLvNWSAEuixHNX+wDuNKhO3A7RbUnOESSVED26rdyEVUlDncnSIB45YkeQnHaC7sQ4d2pFDKknbg1LQm8Ii1mIzcGoZxH5wAlkNpKCNMhMRKHjElUlhmgW+8qIdgxy2e8uCb66YYwOG6j5hxzRiHxMxEEhSiqdwQGkNTWDDdhu0QVjkNgVRre1uoIWVboUK+IwGlRUbsw3tcMIaCj0jidRkM2i7EhECZ473otcWX+0xFxy6vTn2LDeLQg61djapLwcSWkWkr81n+mXyj5uhEKc2UY33EGy6srRsz5oONpbWxWa8hPMnj+aeGy1SuACPzEJZA56eAB5fCFQoyKBRyYxS1gFAu0qVVYAINPowbcaSXWFbHKkitdZykwJeCbWrTFCFA4UmHPDmMQu84xiBukwJl9AyKorC1DOF8PKMaOBxXWDYS6jOdx6mEPEpeBeK4F8PYiRvKMw1TxbG9lHl4zDzF6DyeXscvxCUCbSX2wSkImvIoO81BCvWawDWL4TbHNE6VVXtpGMMSsHtGfpAdY5eiBO0hCJIgxKIVbZ6USFtyHJ/528gRmsMlbc6xbBrip6ZVDEIxGsEHwqBH1EnLfmkQrIuL9om6EPREPAIegWVGwAuClhlwX5xHwCPgEfAIlBCIbg379re/LQPbtsrevft0Ia8zXExgVTCEWTOnnfyUHBckbrJcimNotjjeK6dSnUY5xfpccWFCSuTB8ahvbJUlx5PO/VUtQt9XBymBAdZB1OrhqV33JiZkPIdj23E9icUBDWkncVR7CwQ9HThGm0e2J3FsMbV7uEggcqSuJWANxBPXKCTRBYQu2F06AI20EJyAH2rqTFG4gUxuEYE4LqLIPlzJp4YN4pFWy2Be3NcqBD7T8xq2vV2ZSM+l2LaBrfLau2/rImfo5k3wC94guOImEdN0Yl7nXIlaB0Tk+DYdW9nuYbHTgrfzeYRzMBJNgQzLoeNSjxUg//xmXt7LY8E4NDEml+8M4cSxuPT2bsRWEBy/jMWiHY8+mzDI1VCL8F9LgADbia1tbW1FuB7grmJUiatIoP1Wc1pKo2TXRqkGP0K7LDcvIvdqoNTASYKKhvUNxhEAjadM68WniuOIwj5HTZnbktJXUQyluRhz0rCjkytM4nGF0XbYfsrCmjtPvqLh4wS0eyDa0fFBxxU9VQynPIKHGAQnFIuTAdUYgvFpe+YTYIyCZ9V25PYyPN9CDSMKeVBsDAIkN9o4ChTs8PTDHMZYHuFOQQvHI2od5WGAPIH7kDQ7QTvGGsc/RzLaK+MADfLYsupo4y7yERwdffD7VUSdshjIKSji0e4x8EK+85B4UXNTfwsxnrnhy41XRGcS/BSxlS0J3ooY79UuHPd8wVG4RdtueaZJII7CLgrXdRxnbtJxPOq2VlzV7piftQvGUtIibhrrvzwCHoG1gIAXBK2FVvR18AisMQSiWiKs2uyLsjVW+XVWHaf94Sr9+uuvy+/+3u/J0089JU/is337dmltaWEHwCQbE2S+QtW5rQkoMLle6KxU57jMzLeqnOA7HowfCgW4dUq1YBbQJpz+O2aZGcTxrzHwaRcoh0WCHuGOMNe02MSlSyva+Mkiju+4p7AoyOFsZH0bjCNoCmrQ2W2toIZPM2xeJLGAysAWRAqCIB7fTmGKLbhUgKbrBZSs9cU9LEK0qhTqGE+6YME9xPG4bjrlNZJHI6t8kVaSC0NtCGZQ6vh2YVt8qKAI6XSRg1sFLH62bNkq7Z1dcnPoth6/fOPekPS3bZQEtIKovcMtXAhifxqoIQ/tE1HbB3IcLTMFGmmAxyUhXtGDKBZppI0sXP6gd0CYBR+3m0EwNomFVyYu46B7dvCCDOFo6jTS74CNkHbYA4kKJa0fgFSZWy/GossqPa8LAMq2Z7/WfGxAcy7GrmbyXQ+svGt5SY9hLrRdiClLpfCeXVWnxPTVnCvBfbuBxT0rRk3zlF1Uo7JW4lzd+VjjEQLifJqILLVMxvGBUEMyeN6gIYNxai6nzw3oqIaPJobGIgQ4KtSgMIgPKf7jwvHe2hYRiHQCE9g0cwxAXsPxAJqPuM3RGyMCfHCE+xginLBCBS8UI+GZR0KIjJDPtHUct0VoG7E2dOxLLJeVpTDYTnBkpfMYYzgeFMkjxzqEOUxyjKMmJblkb+cfNY6ohUNyE4lW+NRQhLA6P6q0qbnDMSoF/jWjUkFiCHqUBQRJL+qSFD6RN5aNP46NyoMmQjwGVZYbgxBMtYVQZ5ZLOppWQ0YV6WtwrBu1oGh/KA8BGHPxOgE+khRakVl2DBbunUfAI9CwCHhBUMM2nWfcI7B2EYgKfhimYIiLcu/WHgJRQQsX4h9dvCh/+Id/KC+98rI8/Mgj8tSTT8qeXbtxDHC7vol1thHcZJZaK7oNSCe6nJnScQLM6TInqdPj3D2XSu+jf1H44XJh4oy+FhUIKMk6fZErOl1UYOWRwwJhgosGlJnF9gVu7+JnCmEKiigcYj34tpnbJtJNLWrIOYU3vklM0Knxw2m481FfkHd4unJKU3RbBCBxAIkT0JAbuOA244LbYbxbTrjL2b6Jq3Pm88rCgR80CdPG0YQt6YzsHNgmt3G08+2RO/LO2dPS/SBsdFDgx9zIpieBIS2z2of3uHDjh9snAvadz2uufviv+UGHbQqUiuhfRHR04p6cfO9dtQOSSTfJ5q4NqkVVS10VN7cCjVQPOSuxI5Pr0gWtxAWyYoJGCB3vRa/DG/MIWH7nk+J0Z2mm35ktxnEX8MjOA17ddyQXI6oXGkm0doOsOjVMKANw7UsBEdqaD+tcjs9NxOnvPJ9XRgf5HRX3/JdSB7SDCG2VMEyCpYtwzCvjx+Unn2XRvLa8AV+l3yPQBGPMqfxV5LV0Qck61lh69ht2H2fU2hHmyENijhNy7C6i5ds98wOWFBvHCZkp0ShPB1Q0wiUI0yNLtIyQ5nwCpKsg2AjJ31+NnA8Vn9Yj4BFYhQj4ldUqbBTPkkdgvSNgC3F7K2/X6x2XtVh/FYoEs3O2M6+pjXP+3Hm5evWqvP7DH8rRo0fl2aef0SPlkzB0zAUItVfwuhdvQG1mDD9wfFvqZtzT4+yezZn5tjjON8xIyreq5qJ8WdxifdJUbTcSghDr7siITMEuTj5LYRDeTUPgk6LQB0LPdmj3UMuHdn4Yr/YfkF+n4sCLCw1yG/oIh1CQ/ip0bkHieOd7+Azacmf/Njl19qzcvTciP3znJ7Jv937Z3tYLJQPYAsEWN9ro0Hf2qCzrausP1jVoZAZUIKhCQaThYpBdiukpcGKYAqA8tk5w+9i585dhZBqnjeHNfwdO3+nv7cMWC+Ti+mYO5zWC5gBIG8iBj2+40jMVba+5qKzEfcev+9aHyT1tZTUov1gJLpenzGirWYkWZ762rWtqS+L9NYhAaaw1AVDwjKzBuvoqeQTWGwJeELTeWtzX1yPQAAjwbRuFAlw0j4+Py0VoiUzALop3awsBCkZUDR/tzPBN2okJ1PdpoJPHnA8ODqpA6PsvvyJPPnZCXvjil6S/r0/ujo3K1dFhty6LzEu5SNGJa2VcBXQszzknVLo7dg/CGIQRz/6nApswTUXmhVwGxSlt8EafWkBpnL3eBGOhLU1NMIKa0m1OFGikAo0fpqPQyFXK5SNb5NO9nwWvSMOtA1rviDBrIWwufR4HBIU0PFtnO4473tDRKcMQBF2/Oyxvf/iB9B7txtHyPLkHdi8gFGyCQIh2MPjHpYhbjpTeeZOiCsRAU4U/hIwYMR59i7jkkKsAIdDtsRF57/QHOF1nilY6ZGtfv/Rv3gJBGzUbkHEO5zSCkIhJLTkK8BpBBpyirv11aTSCrJz6++TchJXWwNbE9S+tMSgSEzrzLcznTCWsjPBujSLger97LhDWTsA46w3uful6jcLgq+URWMMIeEHQGm5cXzWPQKMiYIt0CgZ+//d/X15++WUZGxvTxXOj1snzPR0BCjko8DN7PFNYnNNRCEMNDnM8Bn3k7l3587/4C3n7jTflK1/+ity8fkPeeePkgvuE9TEuZljSveKkNHWWjhA3LTQVxBgji/GD6sQhjGCZpL8BW5I2tHRCm8WJdHSbE9Jxq5dugaNgCul4LLAJqWhLg9iQLxX8gCfariihtRgmlz4vF9rklUuJJOrX09YpRw8elss3rskYbGH86L2T0t+5UQ7v3gfpDWwAsX+g/YGCZlLZHL5Iw7S7eEF6tjzRRapdMxsgp9WMcVg1eeuDd1UDiTY+ejq65MSxh6UlldFTe9xGO2T0ziPgEYggYKMLHiZ98PQLzxvGsfCpiyT3wTWCANuZYncbXYN+gN8e7zwCHoG1gYAXBK2NdvS18AisOQQoHKAW0IULF2Tbtm2ye/fuNVdHXyHKRJwWDrGgsWhqANFRM4h9wOag7R0dsmv7DmgFPS7HH31EPnznA4mP8oSW6XocnLZWTlUtLuqXRAci54evyK2JES3bhEQUSNXVsXA6+BTwcBtYM46xolDC1cJp+ZB3CjlyEGCo4EMxYka9w4AamNZcSpMEkZfpKiuuqVfHlxO0UIAFfgNeM9gCd3DnXjl76aK8deYDuQuB32tvvi6tzU2yG9vG2AQ4RChwWHoG9VWBEsnwGnXWBWkAD41M03wt4ygEygLgPLb/vfPTU/IWBE1TGFfSEP48fPio9HdvcieokZDStrKq+6WtYbhv6VHeKoa9ekWWLDZohBATA4kFrm6UHHfGI/l2Atolg2qVE3YtF7RngEUc6orUPoxh7OIzTEP3+iyv8rp49haOgD4RfJ7Z3nyGMZ7SKDWNdyf1B2rhtH1Oj4BHYGUR8IKglcXfl+4R8AjMgIBufcEkgwKBEydOyBe+8AXVopghuY9uQAQ4saSwxbaD/fqv/3ooCOI9xrfg1LAjDxyRJx9/Qh488oBs2tCrGjKTN+5IzyhEC1jAc6LKRYtOWCPh2eOQOsgQxza0ybNZuXV1BFHBhJeTXnxMKFQ/eINClTnUEYKOeJ4CDlcPVsSd9OJ8rRgm4dwuRkePWc1RVMUtOHT8dmfg6OWq+qIAhWyynqgu5VbOrg+0grqaWuW5Rx+XYQiBzl/5SD66Nijf++Erkj3+mOzqx8lxadiFwqojwVWn4YR8oSMg+iGOTghUhOCH5eQB3ASMcr918qS8/vYbcvP2LWw1S0ML6ZA8duQhbE+D/pVqXgX4h0SrB7yx6Oq4lGKDxmB7oy34V3K8F70u3VkNIcddwKM+U477Mo55wSTryWEctOeOp3wlIMSGiqIKWSkE8m5tI6BPBJqZMj+O2+k07dbFoZzq235tt7yv3XpAwAuC1kMr+zp6BBoMAdqGSaVwLC0chQEM89Qw267TYNXx7M6BAAUudJkMjyPGQh6aQM2tEAAdOSLPf/x5Ofrgg9Ld3a0aHkm8ieZWIQpQ0jhbnMaAF+Ki6xfsSIKQgdojqkOi5JZGCETSmEmzusEc2mm2UIDBe1x48j6/baMSE/Kmy6DJGBPkV8FPEEb0qnVkkUI7CrkKZJ4rCrRdkrjDMPRWHOH+2aefk7/43rdxlPxlOX3pnFwfGpInHj0hh/bul86mdklBYJOgkhiJBQ2ouOm1Qy+Hm1CyUntAedC9CTtSPzz5pryDU8LujoxKUyoth/cekOefeEZacRJbHDS5uK21G5U0gsB/pDHIgndEIGgMtIPDxECye6sXJcdv0JLasfgUlppZOY9WZ/VWpU6cEQs+GfDxvPE5SUJo3tSUkfwotmqnKSgPnsc6lejJrBYE2Pbuo08yGprbk9kPmppweAG2I9cmOl8t9fF8eAQ8AtUQ8IKgaqj4OI+AR2BFEaDQh5oiFPxks1k1GkyGTGCwosz5wuuKANvUtIJoI4jXhw4dkr/xC1+Vhx56SNrbcGw84uhU6KNzUeTBgqSAfhJIUObPE2hSO0WPPQYtbnXgGo9l8VN/TSBjERUIFpMFTKazkOTAC4QbtvB0Ai6XzAmJVHhCEsyujIZkNI40iZKuX62oVea7+oRLSycLglAvDeyLU3nZt2W7/MzTz8ofv/j/yY2hWzKan5A//85fyunz5+SxB47Lfdv3YDtdUoqTWZzy5dqLQiHWmR8K8hibakrJaCEn773/rvzgbWw3vHsD20wnYZg7KQcOHJDnTjwlmSK25SXSks1NQgpIG0z5mtrcawTN1anYyq5BvEbQXFit9vscUczp6IIXMjHpaG+R2A0Y18ezW8SzQ8dW925tIeCeX7atE+qyB6TSaWnB4QY6eOuPTa0i9LWFja+NR2CtIOAFQWulJX09PAJrCAEuwm3xT40gfuiWbnG+hsBrsKqwTa1dH3jgAeGHWwF7enrcZBP10b7g1pbhgiMPQeE4LMFULkB4HV2+EI6qcZSmBJkZzFKDIRACaZ5IH+T1fB23ctGUasEFUBSES4GUxvR9EtwSBsU3CnnICvlQ5pGXyytdYikdNxEnD8pyUEEKQULHMG5Go8J7qyVg9QQ/dvpWHM82XzQnYMwnN1WQPf075Cuf/5K8+voP5acfnoZ555icPndWLl0elB043Wvnlm3S19Mryba0jEBQxK1feah03Z4albNDsPN0+7acv3FFzl26rAbFxyHoiacSsrm7Rx48eEQeOXJUNja1qTZZFraCeFoYjidToXMJ5TkAU+C1JeZIuH5uswe7XuzqzH6o/Rx93ok3GR90UpdkFX0HHKo0cfoTVNbSZRerqApLwgoHlEibIQg5kPR0N0lbW7OMThUlRwNn6gJggjHOtTWHJOaP0AhSe2+1IwAbdbGUthw5TWB7bRKjcVdrWjpaUtDudL+X7B+x1bofebVD7PnzCKwCBLwgaBU0gmfBI+ARKEfANDKoKRJdnJen8ldrBQETBH3yk59UoR+FA3S6tMAagpphukEBEVyD8xQtan7wB8ytyXFDFyyMCMLmK6GKOJW4BHlJj5NZzVoSSqnwiXkX6BIFCDao8QNBRRz9OANpBxdFrEeeavWwd5OBNeikVsyVz29dOIEZ2rexJRZZ4FKKzny9INNwgVd+z91aPd9oKG7bIrcJ4J3AHjHirnZ8yGVQiVRWZGfrZtnw6Mdk38ZtcvLUB3Ll1g25NzUm7370obx77ZxuIUxkkjKZy8IItMh4MSvffP0l7RO5qSyOhp+UqckpycAWUG97l+zYtFWOHz0q27YMSCoB+xY4jUxZQaGGnfaf8GJm2FwOdpoSzyRW1i4zZ1+zd1zv5hY7JxAq6DNGtABUIAwqcg9m6AhgLahVS1drXFjYnIFAXguOwD/Jw5U2irrr9fcNICgohRBAOzwuOcx2tqRloLdVzl2+hfgUnmGcuqePBNJSvZHNqmMqAxjFVFjEeHzYH8oc0yw0roxQcBGlZ+Goz2Qsb6444ymabrFxpEVXS/nV0i22fNLk2Ac6ZaTAV0VcDhqXWQiCknjZkipAm7I4Lq3Yl7u1s006IVhPIAufD0E67zwCHoHGRcALghq37TznHoE1j4AJCNZ8RX0FFYE01M45VaYARLVhIrhw3sp7/NDZPFZ9rk7MWdh8xlu40g/zYLkaIWHRdfOxKCZ9t0QmVb3QOlg9GKtCIAYCVytLtaYzuivrc6kNF7SF8h4BgXaEYtmibIBNoIcPPiA7+rfKpRtXcbz8VTk3+BGEQtdkArZ+5B4yIbPaDcJCcxwnvhFjLk5aMmnZt2O7DAwMyNYNW2T7pn5pbWrRe7RJVIRgTvsYFq30I8XPCY2KfLhoIuPKPH3wvF6FQQQPOBiGzjdwgBYFQpQlELMyjAy8uSCvlq7WuLlou/t87ijAUhdouLgrvIgIGzmgxaKDpEHMmvVKVXUV5jfH5QwMsW/va5fRe+NybRhaeUCP7csnm89f0R0l5myBEZ1AKMigC8Pn88/4Sp9pFhtHGupAv7IMxleNQ7z20YAnza+JS+kXHUcE4aqWX4GFS8nEpfR1iMNIpfTYWurIC8Pm632WyhcYU2jPHLR/piQNIW5fT4ds6e2EnSjkUckf83rnEfAINDICXhDUyK3nefcIeAQ8AmsUgcopZjBtLastF/71c3UlpkIJritKVBHitca5G/j2rgIBamZwLU5hTQILjv6uHtnY2S0Hd+2VO+MjcnP4tly/dVOGhoblHgRCk7ArRe0w2q3ogD2png09sqWvT7raOyQN4+PpOE4cAz0auqVgmYbIdbGKcmm4mm3AdSfbpRbnjUVXR4kCE7e4ZI9HmEIffhRbiFkUX3evOoWVi3WiSdiJAr+qHciBpQBNB3jaHyNPsXaYlWN1BUqOPBg4KQxmgiEDiEl7OiEHdvQgPAQbXFDjAzB8vigfMI1ehZEaQsijLkIq6BDIFkSaz4QWNn8hcVpg8GV0zJ+RXkX6ajTqHTcXT1ZeNN1i4tA+RNz1+ZBQECg1EHVwW+M4lKGYQ5tPyaauNtm9rQdCdoy2oKFEwJO2tZHxvkfAI9BwCHhBUMM1mWfYI+AR8AisfQRsrmk1dZNXu3I+F+86KS2PXuBVaRK8QAJl2Yy3ElWEsComv7pg5mVZDn9BBIgJDUETKwptiFcTrtOpOI6Rz0j/hk2S3wmNHtj14RZBd5JNAXmw5StYmFDoQwGEYk+CuM5iGxmDiYqtDKoRVGokpJjdeWPRVfABfsHmTRWc8AS+IqRstI9FzOnoV2r56Y1V8wUO+Y+6UNjHLqFbX5Rz3FBNofW6DYZo8EnhM1WQVLA1twdbxO7f3StN1+7JpcEbONgBW4hSGckBP9OwUmP8zMcOgOdQH0z3ZCKCuNYrjgXAKT36eqVFaFjLX2ic8enyO5bL41wZ1eICXhZVfoQGWWDddIAjdoyAqyUuwMS1SXChBDRzQITEaN0ONoFyY5LBuLtzYJNs6+uQtrR7LliWezYIt9FhPu88Ah6BRkPAC4IarcU8vx4Bj4BHYB0iYPPdaNUbYQpayTevNa7yRrRi6zyc4wle0CQgRFx6qLCHNpa4AKF2D/6gMKRaPjT2XMBWFGd+BgsYJKIWB+2L6eII13loMiRp0RT5TVuBEFMjSB3SWzCImd1zq9rZ06zDu8SQ1rviOJEtQY0aXDlREO+wXQg0WxWOXiXoyxlXVpb1NbDEfqa8oiaogwmFTKChvK+3L7ZT0GwawPNEXFKw3dbTHJfmbe3YgpmWy1eG5fyFQQhwi9LRvQEnjNHCTCBAonCND3BIJwCxjDbjkGBaukhcmL6GOCVn6QJ/xjjcUNqldNGxgtno2IULGJ9UoGzpeUN5trJ4zUi4qMBmWlyprFK6aBzyWxmkT4fbc8ZZGk0f0KuMCxlkIjqXgKXQJl8K2pi9HZ2yeWOndLU1QbPSCYFwviNSWEWYzzuPgEegkRHwgqBGbj3Pu0fAI+AR8AjUCQFOcJfSgX44fw4DS1lgQ9LGehFHUpN1bi3i4sOwciGT7+gbaUBa4EIr4rh406VnsHDhXdUUYhpNavTQHOVZI1RmCzI/MpbI6PWCSM1WTCPdC4GkIXBoZhVwqhAWkwkIVZywzYGl39H2qgbacsaVlQXucE2REDWXYmA8ho4YgzVyWr6paPBGap068MqW44eAuU1FThMEAlbEtEFo0NKRllS2SV788x/iFKmUHPvC56Wru0OFsCbD0KeZJLQjBOSMbBjHRsCFpgsSlwlTEMdBggk0nfmIsjiXmRGICu5H48Iw7lUyE6bn2EJhcqAXpmRiMjw8LB9duiX3H9yPravoF5qGVMhzlbKqxc1WfnhPmXf8hTRqjYvUK8xbiitpBJXiKLBlUj63yWRCBUEtGRzIgGv2fop0XRNxdGWIT4qLcd/kzTuPgEeg0RDwgqBGazHPr0fAI+ARWIcIcLLJaWvUlaax0diFhpdmOluiihBm2rxW/YPSjYUyvCbzsU11nUcfSCleYcOXFh+u8rgxA45lfSPM75Lb5QxZ58AVuVVaFU1GPp3uSzR2vYS5gCSmCdhj6u3aDMPcrRAA5FQgp8aig0bihqFyF20Jhtkis8VZ7mi6yrjoPQubz7QWNt/icI2iKVvQXoY25hK4o7UL106ziTnWkyurLwQiChAbWx18/MchBGQ66IDJzUsX5NLpd+TYw4/Kzk1t0tSS0ZQ0uc007mnWqFX/pU+zVhGtz6rDFbEd9fTbp+TVF78nD+z5u9LXt9ndaLDvoCWVa7YLW1TbWr+mV8aNunx2mdLcDInttvc9Ah6BhkDAC4Iaopk8kx4Bj4BHYH0hUDnNjE5BDYlQEcEiFuVXK2HhBMlbubwASwtUysUxEEy+F17Emsyp7c7FJlbk3OKF/2ABiWUkL7AoZ6wu1BRkxrlUettBq/e58FTjzkoUdDRByWdOdUEeu5zNV3pqQRiZArokHJCeLevavYe2UsUICAu62nrw2aC4c/kfFQE4QZAhRfAsbNAsR5yVFfVZbrDad+Ir5VxTUAACNrVLWpJo1jUdZvvwYxUHTvoQEa+IUK+Qg+JMUn78o9dlanJcDt+/X9qam1xeJC1yK5n6ZlnGUSUVUo/6uFx0HGmYM9p2Td/izK92T7lAXdUOGRo/B3tlo3dH5O03fiRnT70r3/rGn8mv/MqvKK82EMxOr1SKpTO/dp6m0yjFlOo1WxzLrObYPlHHdqGdJ7Y8n+Ky9i5DMJrLhz0CHoFGQ8ALghqtxVacX/4geOcRWC4EfH9bLqRXWzls+ejcNDppNl4pVLHFvcUt3I+WtnAqltN4c5Noxrr34eRX41Cc792GVslnK/AIeXVRgDRMDCl0gY8k1DQoOSdysBhHofwK2cpAD0oJV56WukRzesgbiy7HhJjlecIbjHDrpiqEtYVwra2loLr2kuBY8ZCCNQDTWNuYz0QWNn8xcaRBV1mWxvEmPnqPS1/Xl2gLhlugYlAJoc9tiJqyctVMGuvGGZDOJyIF2N8avzcq7773gfRu2ixb+rcolCodBKZ6ghzkRvTNlVNxTT3TPcZXpp8rzmhF01WLM7rV7rFUnl6otoLQ9mfPnpFz+OSzOXnl5VfkxIkTcvDg/cg6vV7V6ZVirVzzecfC5pdSl+7VJa7EbkhOBZ3o16wrnf5+aT/ndTRDNe40i//yCHgEGhCBVSMIsvdpwRCkA2J9hxtS4xsM+1QObotpPdIybm3AtLilPGXCyjDf6sBrfurpODkidkab4aV09gZqqcqI4hNtu2h8PcoGbZ38RPtdo2JHbIiVYWS4ESfGWTyvF+uMFv3lwo71idZpsXXw+euJgPWIKM16tZbZu6ChYevHbuHHd6KlOI5KWBoqC6oUEjBDOyjGH+/yHvstwwl0X/o5pqEB5GAxyftZUPNuBgQMUPpOeqYgq4wIGGp0RVZLWhEdXipJtENkPVqVTphhpoDyw1YtOaVdulxXIffc4EkBCLFYMK0MAAlR4jCuz1cY44Z2IsUovR/41eIsWzTdTHEsm59a6FpZlt6tgBmr9lLo6+IYvFMI6cYKxq4XZyA7SEu1diMjwNE2P3vuvNy8fVuefvpp2djbq9jHISCiNpBrCOYs0SrRWd0h195FGR8fk5ch/Ll9e0jiiYSMjU/ISy+9LLt27ZampmY3rqN6Or5rP1+99ZqJPcqAXH3RtqyLVoFtxg/XMvaQ8Abj7FuD/ssj4BFoQARWRhDkRhcHlxtLEDZREOcDfK8U/MjUFVQb0OpBlJWIVsRoMs69EcM0ArXg0iGspCVauG9F6kzWLkiO4TqWs3AOV2dOg6oMt0bDyyphPvm3djd/CeCPFqezdZYRLXsJyvQkPQLLiAAnvQluAaElYhi4jVNggz9qACAYyiH4uOlhSPAT+NjWJT4OTkDh4jjMFPBFo5xJ3OC9HMmjoBQIxqFpgMPRBecw4x7TLWNlV3lRhMLZlQkYBXbO4Y4BFcbx93X+TtsK2Qx28+dPyedgU4TCkZlWmIQpbLMIZtE4C5sfzTPfuPmmn6msgNVwNjpb/SLVWjvBKJDVm5B1LWLb1JnTpxmQbVv7pbkpo6f38R63VjlfvYb6MqEO+/dPf/pTef/993EiWl4FhDyV8NSpU3Lx4kXZt2+f1ouCFLrweXCXDfNd2b1LrV99nC3db5gqekY9Ah6BCgRWRhBUwYS7tJ9aJwSiEIVjqs37qmaZTyRHLJxm4T6UbCPCZoPzoVOW1kb9skhcmOSc8XUeKpWcTVuNtvnGB64XXTejFfgsQvFLIYAfBVXxrkhTz8vKKi2Wdhk9uzDfiON6SXBDfyimHX7a76r/qBoXs/vW9jOkqvwlnyHZvKIVJivXMDPfKNUZOyuOxwcV0ef0wzIWg53xOotfWa1Zkvpby4sAm8a6hZXM63o0GenwGHL9vYEgiBN6Cm1i2N5CsT7L0HLwpe+36WuE44nDRjh0BExqnDLqBEEkwCw8wYrl8MO35U5DKCCm6f3Xqkeg1Lghq2zBoOnDOB/wCKx1BCj0mJiYkDNnzkhra6sMDAyEmlRrpe7ZbBbaPy/piWEJaAPxZC3W++rVq/Laa6/J1q1bte5TU1OSSqUaQitorbSNr4dHwCOwOASWeFU1B3ORuS/FQLzkh0xpuO6zKlKm7Kte1XYcc5lgH10NYJIYw4KVn/o6vqPmHyechhb95XIsKxCiLVeRdSrH4eaWdCXs6kR8LjK6QiRu9cAu2u5VwnV/Zsr73HJj58ojbqtIZj1Xe/v7dUGgcmSr1rXr9qIAxFOpJAydTsnNm7cw0YcACG98OWJQ8JMHMxT80DcZgBuH3TXT8Jo86wcX3AqWg/aP2zbm7uCFueQmcnLrynVpSzdLS6qpYd8eo6rr0jnj02hga2yigI7I9vfOI7AeERgbG5PBwUEVhvT19akgpNFxoIDePidPnpS33347FHDxt4GCIGoHvfHGG3LhwgVNm0z6eUqjt7vn3yOw3hBYuVGLk6jQcQpl06iSr29c7TJMu7AAxUyFWF4K8Swm9lTLZ4kLJ67s48somM8fB33buzA2Z81FixNclrAuZfAFuUpL9mp3ZyU9501ucsvHsDCK5RS3xeI3V4Esr54ubJ8ZiBJXTYP2Cxt1hrTziWY9CsQtngN+DrugpPmQcWlrgIRJqveO+RfHHHP1OfcUsefVwNx8WAiaoRj0uUIsqwvwBWNXQ9kzPVc1ZPVJlgABPo/RXsWwPcdWHIUy9RAG0SDolo2bpeVsRk6+9bbs2r1bMi089SaBXwv2Ole69REV/etYwTv4U0aNY8TxdwBxjj+mIPPwoW107vQZOfPTD2Xrpi3SlMbxylnLZ7Xy/mpGwBuLXs2t43lbCQRu3LgBAfpNOX78uLS1ten4txJ8LEWZw8PD8s1vflMo7GpqalLhD8d3CoMo+BkaGpK33npLdvM3I5Px2kBL0QiepkfAI7BkCKyMIEhnxawTJ8AmvqBwxi3H7bZO+nWGrSGk5R2bNM8vLo4JfSE5gTe0Y9hlQhOdU5iX8z0u3fzoclrPhQA5cB/jifFc+sdQmtNrYrh+zi24KylymVLA8Z1cEfEdNn+k3OrIUhp/5pMjC5sf5XJ6HGuUj49LPjkOocYUhBqToDA9XYluNXpMT0e+LO9McWkgWD+NKleKw6OECmsAzPCann0hRDdcWdbC5+z1oSAlH5+QfGIMtkXga79jvWarP2nafYbNzRZnrQEbJIJtaHXrd0Z3Okd52jmBcFWfWkCl/U5ZnZ3PEm+WznyrJ8tiHDUwgBn7HJ7dIkzr2nacaEoXrqWtLA1zMGzOlZZAH0+o5lH0nqXx/koj4HpEORf1aim++W1vaZMDO/fKh6fOyV/92Tfl2GMPSy/ebufU2GmpXCfcATcIUIBUgNYPNYVoTIg2gwp52AXCT0sWv660E1SEZmgc11NTWTl75qy8/J3vSlMsJYf23SexLEeI+o1zJS59aOkQQGPzN0LnJqVSqvXP0l0f8gisXQTOnz+v28MOHDiwZrZGcT5DjZ8333xTTsP+Ebd85XKYZ8OV5joY57FtjIKgJ554QrZt26b3dLtvxfiwdlvf18wj4BFoZARWRhAUIMblFxeR2dyUDI3ckmwBAoZiDnYZOKvGPSzOnSDFplhO/MI45nSLAAubT+IWdj5jKJ7pGWiTww/vl+GJqyLDTpChA3YkvS1BS2U4XkgjSjdOtVH8qdp/IDgoFuJYRqZhDDQtXa1dkkm2gDK3tdTLOa7IR8mBh0JWbt65IVNFCLqAXxyrEdZ8sY4U9AcPAdrPSLblZcf+Phmeuiax4SzmwpoiKMbCUZ+3DD/nu7ul9pmON2JAt7cVe64zHQHtenmuNxk1ljMycVdGxoYlByED+1tc25ItS87L+XT5SnFz9kFUmfZARnI3Ze+hbYrflTvn3ERB6TuK08tifBRHw66cf5fbfeuxtlhPZrDdZHPzVtSjXo+2lWm+440Cx6HRW3Jv6i6eAex3AW762M6731n/IF0LwycxtM/w1G3Zdd+ANHXFZPDOeVCn8LaUbvY2MBStzVhGKU7J8Jr9GJ/WTCf6Xb+m8V/rD4EkpDkHtu4WmYQR0Lffk3OnPpS2ri6cEEN7dexzruepEAD9hdo9BQiJ4ukUBL0xjL15jPYY8SEISuRwL+VOzEngdyGWL+DUmXEZvnMH/axZHrr/AdnY1SPxqaXUcVt/bbg8NebYPN3ZqDT9jo/xCKxNBPjbSWHJpUuXVDumv78/3D7V6DVm3Sj44Rz4oYceUg0g1ol1vXLlCo6NPyjd3d1u/oB4agwRCwqMvPMIeAQ8Ao2CQL1Wi/Orr61xkYsLu8n8hFy8fkHuTY5gUQmJOxaBRQg0MNNGiuj0ysLmR4udPa6ISXvv9m7p331Crt29LDfHroYDe3kZRtPomc/4IIw3wSoIwuKXauJ868t7MYiBErmktKXaJb11r6Tbofavb3uZb/HOqNDXMNevwChXnJIrty/J7Xs3pZjgccTEjZ86uGDOyx/DYqYo9x/fL7fGr8qty9dAPLgZFkOuFh+Xx6Ips62troKgKHbKLn7keXjz8MhNOX/1LHZnQDCY5MHQ5N/qYPUxnzktbL5SC74q4kCGx4wWoDlz9PHDSJOXD698EM0QCVfk1TvROIbhqI5Q5rAghZCOaspkbWP3JtnY1Fc3QZCVRt/C7FvE7vrQoAyi38XSxBITphC3MgbnccESiL0riQYZqXV0+JH9SuPU4LsVtCx9NLq2OD6t2sroByyOAqVNbQOysXULLl35Uao+vPIIVGvZUm9ZPH9xCG/aUhl5YM9B2dG3VW4O3Zahu3eh9aM9JVQCyQVbAvDQod/HZHRkXM5duSybB7ZIS6YJvwJxHAaWUFtAPIkshezUNOts3yD7+ndK78ZeaAQlpTAFwRHeJOgj7bvc4htwOSmw0Vy3WM5SfVkegVWFAOeFIyMjwq1hnZ14kcJj49eIY93S6bRq+jz++ONaKwqGvv71r+s2uBdeeCE8LYzxFADxw7kY5y7eeQQ8Ah6BRkBgZQRBQIZzKC6+OJVW2z1J6GTksBhP4A0phBmqbUJZBhLa2pfyFoZDnwhXi3PRSMdJtnuXS7vNfHvLBWsRM/MctlLF8BaXLpqO1+QtLKNK+VT/5+lF3Bbj7L+4THH8cJDBnNoiQpyjxEBdXMCtW6Yqk64+MD8KPiYli61bxRQEQcCNGlBaPP1plUFmEouCycRBnGLGe+rQSlgsU0uLbzt4YoJLF9QupMHEAd4VcdHylW3ct3ZhLhdXYoc2OVws79bHcXGvNWJhcLoVDMLGfGxKpmLYepQGhnH0OydPmcaTwVEJpdEMq4wIQ44TiYmpCUwm3CkSqnmifFSrfyTO8NFCA4aRjz2ZNEvYII4aCZh0UJ5BgVOBgkBNo9Vc9JerSxQ7Cj6pxQDssEWQfS6exH55aEPEld+gHiEgZIGggMEwLkBoWhzSaPXQ17jVEW2h6tjod85ZK0YwAY2AWtBmERyRiSmrPt/Ipf06yMx0Re7fCakh6N2KImDtakxYq9s1fXahejn89EhxqijNMBTd3NEjWzo34iUF+x603YJyWF4OLys4HupTkYrL5dsQJuMI4bs3b8v2Q4dkV/82aYnjpUCWJs5Riyy2T1J4BCFRAdpFPFmGR8+nIAyK67PEX0LvGgUBNRbNDsFx1jopOoZvw0ZpQc/nYhDg7yY/Juy4Ay3HuxCY9/T0SEdHvbW4F8Pp4vOaMMjqq2M35sC8ppCINoEo+GGYcUzv5miLL9tT8Ah4BDwCy4HAigmCOH9yEycnDOLWHDOoSw2XJCbJ1HTgZMsmWJx3MRz6RKhaXEA7FkzOWBYH5zjf0mJiH6fGEUhTGOHoBT7pwZWVEdBnvJXr+KEAi4ti8k9aEL5AsJBEGXmNw+IYlPCTwZzMXhdXouS4IDrUoqIQo4CVRx4LdG4Lws90UKxLF66YwFvoLGw+byCsHEfjwD/LjWGrA9+G60QYEWXplLGKvEGclhfQszzq6w2j43xtT265UOpBgrp7FB6QV7RhkXZnsC0skXPb6tjv9C7qG9Yx4A18VMZpFSvSaVyQFh0i6COcJIAO7Y0gML3+kT5YtQ3IA2iosIW5nYtBCEQbJiyTAjR+HCVLUW+/hF0MhlBiKYhW1U4QSkXfR+VcgdZ/9DLgN4wr8T9Tv4xRkwrPKrfbYH+dTrK0/oqc1cnVNChR70SfeaZSnA3PIJvGESVO3MhvQIDjgUqf6rqdMyjUe/NGwLVTKRubiXFRZ7LFaNxCw9Ti0TLwiOYneagA7G0FfYNdg0H6KY6DFO4gBV0bBDxpCI9uXL0mPxq9J8Pbr8uhvftlc0unpAuwFseXBmCUGkBFjNMcYVIQFBVzeFapbYSh2rvGQUDHCXY8dkZ+6HBtY4+L8N8egfWBwOjoqG6Lon2c5ubmNVlpzhX4oaOvL6gi9oLsPoVCphHkBUJrsiv4SnkE1hwCKyYI4gSKRjJpe0YX5XjDVtS3bHz7ypmxTrsVcJsncxhm2HzetLD51eJ4T5eMCNDeA0byYFGO62A+Z3StVKNnfhldJKJxUB4P73h1QiEVXwQqJTR0TAPVrh7MvXhHXujIo34jIobFC42Ruu0LXNaiJsqbwyZIqTgxX5QGw9E4pqWLYuHS2zfpc8LrxCiWzuVy3xYXpWth+haOpquM4xxbE0YJLzJcLnrhFfsdtZvICQpEnbRYVNWKZ62NT/p084lTLQCcKmETCNrxodaY0XAUXXkWR5/OynVXAU+8CeboaX/mJbRYitjSwhvsiwl8XE0QVSdXiR25U3EQiqWvjp42nOM1YFV55X29HfHniuMzmgB21EJzmnagERTFvOZqb5dSZuKj+DEqStT6ghH3/qpCgH2q0pVatfLO/K8pQqWgh91YXxyABLqhOu0qvIcrmsSCvg/EQBC80jA0hEBxCCsLUPO5Mzkqb58+KdduXZEHt98nuwd2SFsTFkdIh0EazyhHHfTAHLVey7ufK8l/r3YEdHy1xrMOiGv2De88AmsdARNwmPCDtnG4NYoaQU472T0Jlq6R8bA6UBOeAh79XcDLN4bNMY5YMI35ls/SeN8j4BHwCKxWBFZGEMRJFGwj6KCqC3LMphDFnw9Osmhw2b1sdT8oBl4457IITe8u7B6vLFzph4W4LC4dipiebvY4ZnDTPr7tdYt2zOydNgZXCbjLKlIUVG9niDieuaDl+WRoRrx5ThR1I0IgFCrVgTzUWkfjt2p6WxXBr3Z/1rx2cwG8RLLWL6irPTXtirbCDzi2VbHvab0CkKvVcX5xaB/YO6JjPqUO2kZDbwRfFmc+o6Nhu1ahki5CHF22BAUlXGCyeWhzRAOVmYNyFu+xz1HYRAEX+jc+FObqJMk6Z4T3KBsWNt/qFPWjYWLHkqC25bCI0Ge6qDOa5vOehYNWjcS4trD24LMx/Hv9AABAAElEQVRs4ShNH15fCPDRCTuNVT3oROx6HDLUIUCtUuuX/B2L4QVDHi8B1Gg0+tOl4Rsydm9CrgzdlEMHDkpf90bYj0N/hkCI255BQUlpmQFZ7zUGAqHIRztFwDP6hNcIaoz281wuHAHOP0zwQSq8npiY0N9/Gk6mW6tCEAq5+GLK6m9b41hnC6/VurOO3nkEPAJrE4GVEQTVgCUXZm7dN8vqrwY6S5/EVgfOd9tLVjvPS4/KYktYPgSt/YzjymuL934JgQCjcGXM68bETQVApYohtHw9r6xYfzEnAuxhla3D6+XuedzeWeSLDJZNIWwSQvgUjD/zzTAERHlKZMHp0NSYjJw7LYPXrsmjR47K7v5tksbW0yTS6esCJQAaSL7cdQCD3i0GgXDsWwwRn9cj0FgImKDDfApGuDWML4K6cMIinQmLGqtm8+fWMJh/Tp/DI+AR8AisHgTqr7Iyz7q5KTMzlULODorFzZPgMiUnt5zAl5zjn7yXFpf1nd6XFVcqWEPuLSVS1LfIilKW73LJq4ECFE/6YWFhYPkqOp+SQkZn6wkkWM96VCsreCeOByDsdw7N+dRmmdPOjUmwtF9mvnxxtSJQrSeWj8G1UlpcOi0TzLC/uO2e2JIJQVCRWwaoHYdPHp8sfl35GRq9K2+8/bZcu3Yd5q7cCw4+ynnc4xbjuj6ui6uaz10DAs5GnnaAUtvpWFhDZp/EI7AGEKAQhB8KfcbHx7VGPDXMO4+AR8Aj4BFoLARWXCOoNA8uhahV44RBjKs2/V95kJUzfJUWIo5/8h4sk+vO+2xohIvY1QnXvBtsyavBeXwAKNvQlbfkpc4bh7IMYWebrScwRz3rUa0s19soQQv73apfzRIT1mVmVxJqzZzG31k5BKr1RApUwsdiuVjj6xPV+kHh6mNLZjylzwK3MtLING22cedkU0uz7O3bJge37ZI+nEJGXrUe9Jl9uXj25dQNAW8sum5QekINiEBU44caQdwaRvs4LS0tDVgbz7JHwCPgEVjfCKy4IIgTYTcZLoUaRSOI9oFKzvGvGkEqYeAdTvnr58qKm0Y2uFvfIqeVslwRS14NW4SxoLCwMLBc1ZxfOeGqd/aeEKnQ/OhXTV2trEDUiVUt/wIdh6q5V09kLW1b1hlWD+ueE0WgWk9cdiFQ2BauP6kgFHZ/0gmYj6bBH+75wnUKGkE8QfL+ffvl6L77pSOOo4Zz2EaG+6E5d56OyEqFvxchcR9YxQjo/EQPtkB7u24APxgTVzHfnjWPQL0QoDCIjlvCJicnVRDEE8PUViDGs6iwqF5lejoeAY+AR8AjUH8E+G5zRR3nUW4uVQo5OzsrytachZNbrstLzvh3i2MXX23pUsox31BZcdMyz353WvL1HoGmmY5Yfdur7hDXvOqtZz2mo0TkXKxpBNW9pktAsBZMakmzBKx5kgtHoFr3XDi1mnKyl5jmJw21JyDNaYJGUBMMqKemitLX2i1buzZp+PblqzJye1iFQtxGBquiuliiBCgNQRHN+ztBak1F+0SrAAGnEcROEHzIk2pHMuCdR2D9IEDBTzabVWPJmUwmrLi3nxNC4QMeAY+AR2BVI7DiGkGrGh3P3NpHwK/969DGK7AarwPXnoRHYCEIcMigEk+M6jz4T0L7pxkinc5Ek+yC9s/h++6XJmyVeOvdt+T999+XH9x5RcYOHZZd23eIpDKwJwSbQtg35k7FK0KJiMQWwonP4xHwCHgElhcB0/ahsMcEQclkUigIstOzlpcjX5pHwCPgEfAILBSBFRcEcVLNT/T1WmlrmN5YlV/kudrWMKctYbN68+tTBYfTTLRKSM6UwsdHEEDTKJ5lTVR2EUm8SoLh1rC5+KlnPar1OtsG4bTfGkOjoRZMakkzF/b+/rIiUK17LjEDqg2EruKEQbAPBEHQ9t5+2bV1h2za2CsZXKewTezYfYelrblV3j99Sl56/QdyaeiGHNp/UHraO6UlkYYmEWiQf9/tlrjF6ku+tDUs0nZ+a1h9QfbUVi0CUW0fCoXsSPVUKqU827axaLpVWxnPmEfAI+ARWOcIrLggiHNgNw8uhTjRdsIgxs0+07ftWY6GpS0tTd1umvrPtpUzfDn67EWMQbk6ITQ+zOf9xTstc0Yyrvw54Joxd6QiLo0BO3OOJb1TX+SqsIoCuJBTvMLCwkCVDJVRTEsCgdMg4pSExVsBlmiRftjZ5qI7n3rMxVO1soKtYbodgvftMxetivthfYL4Je1zFe1VwYq7ZJp6Yle1EB+5QASq9UR2mcputEDyNWdT8xgYPCgGJU9x2ATa3j8gCRwjX8zlJQU7QEl0o9amZjkAG0Ft3V3ywdkP5fyVy3Lrzh0IjLbJvoFdsrG1QzWDaHDaUSobUabxEz4eoM1yzbH+4T3ffw2WJfPd1jC0AIcKfujQADE0hF26yPX4bRgQieB3IoChcbHh08knLvrUrce2dXWmgMeEPYyhVhAdDUYznh8vBFJI/JdHwCPgEVj1CKy4IIiTAzdBKIVKGkFzTx0KksDvM76LULDHp4gfqQJsLxTUJCcNc+Zxj5MTqOLX8YecnFXTCCLvpR/B+k4cZkPDTb+QYp5FmsjMpm9hj8Wk1oRxs5Ubpq9zYJ7VmH/pKEDrRT8sLAzMTg/9TXErYuKjgJMSVn+I52WsgMeK95RcHdEjQV31zkWzxnrMXsvgbrWygt6iCx8iwDTV0k0vwHHm0k/LsaR9rhZMmKaWdNPr5WOWHoFp/YWtVS1yiVmJQ+OH3Z2/NXRkgcahixAIUTsIPzWSxW9OPEfbQXHZvWmLbOrcIGcunJf3z5ySk++clMuDl+W+/ffJQN8W6Y63cjWFk8cwZgSLqgK2ndH+UDzutl/waPoc6LK+8PQ3TX9ruOjiE6j84LlUnsiRd0uFgP4uemPRJXjZ3fDTN1mYwEl5ecnHprRPJtBTsQlSn48Cfh9dT42OscxYOd4uR1yJ9VKIWzT5u45nDh9XJfLsfuHjxSRsejWhNvht5wO4Tl1U0EMBkF3Tj24LK82B1ylQvtoeAY+AR6BBEFhxQVBpWlAKzUcjiNNw91PN32ce3UuHn3GQowkHzKNxyRSldJpkkV9KFl+lhQhjXARLcs78RRYWZNcyZyAVvrGaR5Gk5xwzVWYs3bVUa8pHdW3NxDZ0ta/EoHqNHTKW1nCizzh8KBDihLHeLuxsVtZMBRhvM92fT3y1slxvY38P+x37fs3OaFbjcz50ai4QCVnWXLSr8TOfMnzaZUfAutIyFhztRWGPQcBYUQEwBhcujpLYIsY0nelmuX/XHunr7ZV3T30AgdCHcu3mDdm2dbsc2XVABiAsSkK4wAVUTH+vkI9CIQiUdXxCOAYhE8tQGQRCjOfzx/JYhvsdZMi7pUTAawSVo8v5Tq6Qk4tXz8lYYUSysXHtpwkITxLov3qYHn4TiVsc19pZy0ms+BXrUIzjGcPDFIP9LjJZwHVecircTeWbZGvnNtnQ3otbfPm44iyvGAMm5DGfAiFqA+nYpZOqFWPNF+wR8Ah4BDwC80RgCVar8+Rg1uS1TWp1Qowfb/0Rxw84J8du+r0Cv9acnK9AsSGM8y6bGfgB4wZ3cLkuZjtW/RDA+QaC14NFCn8Y5uKNNAxMhuvtlpL2QnglP/PlCVhhwTvdsUG88wg0PgKqOYTuTBsa/KTTadnc0ysbHtsgu3bslHfee0+uXR6U64PXZPu2bbJn5y7Z0Nkp7U2tWHy63xEKk7jlKIFHhVvQ+HRENVEpBOLIw8V2AY9UHOmj9xsfxdVaA45dbA3vON/JJ7Jyc+yaDE/ekmIyq2M7BUEU/DhBEDRm0T9Vm0olpasLN9eSfM4QUmEQXiomoCMUg6Y5KpDOZaSnpRPCom4VyK7Xtqewx7SAGJ6ampLR0VHZuHFjmUbQ6mpdz41HwCPgEfAIzITAiguCOJ1yy8FSSCcLM3FcEU+BD9PHKQjCD3YMb3EQoW9J8UpVp2oUC7lQReZFXJLb8gm3q4WbINgE0fxFFBTJaiVEoiLB2e9GEkaCzON4jGEVoeIzXuoCnfeMZn3rEWFg5YKoktWuxMR86wnE2O+UAFXgQZFSySCmRLdOIU5Slf5c9OZbj9noTUeJyLlYfle7Xws99jYKzoghtRpIh0taOobrWQfSrIVeLWlIyzuPwNwIUGxDrR5u+WLPyufxK4TfKAp1tm8akE1dG+XS1UH54OI5OfPReRm8NiibICjaMbBVBjb3SWu6SRUL9XcGQqAkVFzDxx8E7clTBYaAHYubmzufYqEI6PyEjcJGtSEDDbNesYfujG4HK6Rzki9kIUCZUkFmAfOIYoHCFPR9bBmjK/1e6iVjggDRY9h8Rls46jM+mo736Crj5kOX+SFAxc9PMXihSKrc5qYPHGx/FaAZJBAMCQRDJb6Yb/05agBxGxgFQjdu3JBbt27JI488ohpBjPPOI+AR8Ah4BBoHgRUXBPHn2v1kl0Lz2RpGQRCX4jinBZMPqOxCmTeukw+8leIWHf1d4qIzCNapbZQevsKJeVAL8l6aEtb3R3H2OvAu3DyKNLkCJ2fcy68Lc/yQFyBAK2LCo3WZvVBX5hJ8z6MaCysdBfBNpuIVFhYGZqXpUrFPETGHG8P2powTX/ZD69mzEpvPzbCzGeMzZa6tHjPlLo+vVpZ7npy0lfftU56z2hX7HB0XxMQujmeW1Ar6zOLJsTpWK9ZlXeA3MQkKn5GCe3bnSjVjdn9jSRGo1iVqadUlZWoW4u7tOfo5tnTp9gn0P66TktoPIRBKZmTf9l3S07dJrly7KlevXpVrV67IdYTPbdgg/bAftHnzZunq6pImnsiDtagKhaKPN0DhApZOt0G7oP9eQgR0jOJAxnawtsD1+jUWDRC49Yt2GuHH0ElxBWwwF9N2IEhua1iIVxhfOdoy7XLFlZflfrcpvsWMEu1pIh9q5/FeEQ9YeQ6txLr7MltAHNM+/PBDmZiYkF27dqlwqFJjaN2B4yvsEfAIeAQaDIEVFwTxh5Uf9+1C+sYtjNPAjF9qTwHZLl24LLl7UOFtT0nvwAZMRkCRi0qdsOHtReXcYkaKtd0gpzopD5Mzxmkn8cfQOfPDRIsKsISZnBM+IUWNRZJF5qHQJ4m/m9dvA8NB6d3UK5u39Eo8hckQVhjuDU+NRGdibgHxgahhATlrzKL1R1r6YfUscnYaRWCWSGBxl4vJvdEJuXDmomSA1449WyTBE1Txyt+1VUh4doK13iWjKiiZrSeQWD3LrVZWUD/wwj83Pa6WbnrF2O/yOFkpiQc0O5mX2zewlQCr402b2ecgFMKZ2rTMgK86u7kxYZ/jIsC71YlAtR5mcsPVyDGFPrTrg/USl5bBbxHjEAyMQWMokZ50i3Rv3y37cfz87eEhOXXmtFy4dEk+unZF0k0Z2QINoYN798nmjg0QCKVVaJqkGhA0jBIgxtcfMNICzSMcjYDrfNDV7a29f0tf395R0ggC0AHWHJer9c/6lrxaqWHcpCYNtYoLEO5Tcw0DeDxPIT97J5DBbxc1hOKlH1vEG3jRei1nXHlZZI0aQfgRUt704BHUI4btbXzRmEN9oJc3A9/ROqzdsI0l9MfHx+XNN9+UTZs2yTZsbeV4Q+EQ57+lOfDaxcLXzCPgEfAIrAUEVlwQxJ9i93NcClGA44RBjJt9esVlW34qJ//mt/4vefXP3pRnvvik/Jf//d+XZIorSX7cj7qjNDstJK7ZKT18lRYijMGSWCeEVo75NZOdNaGrQ/UkXMIqkjUWyR/yIt7eJSC54F7+v/7Wd+Xf/ubvy4mnH5F/9Gv/UDI0/qe9Axjq5I30l88t+bQaOHFBxu7FNnSw8cLFzVbTGBdcsPmRxCkipz/4qfyzf/w/S09Pt/y3/8N/Ifvv24nTUybR8zghIq06ChbCzjYXk642s9Wh9nvVynK9jf0i7HcK3NxUKXhMpZM4ZSktP/nxW/Ivfv3/lJGRu/K//It/JnsO7JCJ/Cggc60flDI30ZpSEBPWZWbnSrUxY+Z0/s7KIFCtJ3JoCh+LlWGrxlJd39NvHWbQu+njk8AYUeBYjOXmNhiN3tANG0K798jZjy7KhcuX5BTeul+4eEG2bd4iO3D0PDWF2ptbJAlhdAyLbs2fy6lmUCKZ1OE6hwVZgXEYq+wtfY2M+mRzIFB6wYSEHFboOBaiMe3SRa6Xb4p78GfGoTHGM0Y1PtG3KRClhqxqC+lcYvXhQhb1xD3+aJNnFd3yFQc/FA5xMsTf8jr+nq8+GObkKDqW/PjHP5bBwUF57rnnpBdG8OlMCMT5pRcGzQmnT+AR8Ah4BFYcgRUXBJUQqDaFqhZXysEQJ9bpBJTt8/jxhswnjyN73XYdKidzQoIfbpt81HnF4Kb2FfyA5RX9AazGVDmLekVkY1B1zmaz0pRpAYZNilUyCZUWndS6N3icHNUZtircTI+qsRrTM84jRnsXC5pnYdQIQiNjkYVFF3TGY7ABgs4mLU3tkp2CTQSqilErCMAtDXbK+TxqukRJQ9zITy08caFUlGwOdiSgtpBONavOfayYkjS2yRRgB4WqfEgBeB2mS8T5jGQ58Q+rNWMqf2MlEKjWw1Z/W5U4rD4W4PcKwwm3NRfyWbWxksHv2daN/bJpQ68c2n9QrsEOx5lzZ+Xa9Rs4dn4Q43WTbOnbLLu275Du9k5pyzRLcyalC+4iBNQcv6kdRKcCf7cSX4kmW7tlamOW2nbtVnTumrkREwJHzrP44oMfOl7TgjmwKqhwJfiprfYguxwr9k0hXoy/6+DTPadOqOe0XQO+w1+G9dvuNp5cvnxZ/vRP/1RaWlrkgQceUD8q/FnROfCK9SJfsEfAI+ARaDwEVoUgqDQvcKHS1rAaAOWPtxo6xg84/pLxtPr4RYcf0NNQqZQaqNaWpIykXUQnCdFwbSRnS2UlVE8z+93peYAP2IvjCzsMsAjhJAipMHmj3RZOfTgVYhoE3T14a8ZVbZqqkdOrTFCAFbse+xuNwRK3ArZn0CVgVGAKx+nG8cZ+ZVyN9aiJuWr9yk2SXaeodn82wtBggLYZT5NRIS0gYx9MxFNqTJcCtGAmPhuRBdyrDZPaUi2geJ9l3SFQ0motr7o+MUFHg0KPDq+8THJfKYTz/z977xlk2XHdeZ6qV9629x4N13AEQJAUSYAkaCA6ECRIztDuSDOSRhptzEZoY2b3g/bDftiYmNjdiZiY0IZCI5IhyhtKJEESHIigAwiQ8KbRANoBaACNttWufL2q/f9O3nzvvlevfFVXVXdm1X2ZN83Jk//MezPz3JOZRXk2yL+pvlkCnoKt29plO9dtsrfOnLC3Thy34zp2/jVpCr325hvW3d1la1ettk3SFlqxottWNLZbq5ax8EyNSCjE5Czu6VHJRbqbPQLUVq7iICTpgdfr7Iku25SUfFTlH9EHkKKkmnwIoedDsDKq9sz+OhzFHjSpMtxKpc2w9Pvojjae0R3thfCDJnxpORsfD70iGU3yITF8TKQs7BoUxpREgJ/LzyDgYYPo73znO27fe++9dtVVV2mcKGQygXNeIHT5IZRKnBBICCQElhcCS0IQFLpUfoMraFLEe++VJ0SVQQh/PtjVpJLBd7yg56eJ+aRTX0qdPD90+pDMOvRSFvL0UUDmwRctN9GuTEdwGDQQKcSBd/6CiXZ2O0eLHCammPE4cYRxuXu/jQYGa/rVkWvM45pVbB3tYjWpQxeRdvCVzFNDPJTO1agzilHgVvoSWMopx4wIxLsyZqWI4xwx7riA+fJQBhTZmSplVnJMmgsCDK9nATgmAdqotNBcqCGc6usafS+EpgYNIX33STRcCIe2XAyYMuqOaagEj+He8izFIKJHImn+JjKeERpnxRzGBczCo1Ze4Rswwq/AYLSnJs+eKQ58RpbnlqLxnPI36s+vBGsu3IV8KEt4rkgUjOeoIJCtafw5jCGK5WQmiBujyQ51lfNIziWDQKy9aFOlXPF+yTBawYg3PPcpdSe6K/mKeX8n8F5gMyEJk305lx8VP2pNEsrTJpsa26x9g04TW7veeocG7OTZHnvt6Bt2TEKhfYcP+tXd1WXb12y0LSvW2RptNt3S0urLx5jCspceucZ3b7WQKs8bzEb+JsI2hhMXQ7xIu5qWR/Cf6lTlkOXjChiWylpinHci5ZsIsVLES9IhPVgXBiEQYpmjwyA42BNId+435nsOLl2EXCMIxv1kMGzGPnBPn8XW0V6SS7L+pluoc+fO2QMPPGCPP/643XrrrXbHHXdYU1OTC4EQAEUhULSnSzfFSwgkBBICCYHFQWDRBUEMncLwkOFumNaFQSqAhJCJodGgg2U49SMaPw96NE54qNOyk5b6DmlkoHbfIA2EFhuuG7bzA+d8f5JicUiRyp2WbnSLFoxyVDzuy5d/2yJEFwOByC1CJt2WDDcMEkXLJQwEQGf+TEV2VWTBznmbZpYsvSmq466jvHWDTMFZxi+8hMNw0VobWoVtk3At6LCaUWuWYGN46ILi6k6QDCufogDQ3r7CgUESFMJ5OPARsQkTeMUFb10FEk/DMKxeUCPyjid2KavoOXnOoR4ktpCgp0HlZp8OPnuODtdriV27JnLtPiDyoqIdNHBeuA35YHhEuEtXyGUhBeFWUB2M+v4DYcLHsJmnIEzcIh8hRxe0CcOM8xgYbC9EFm9esYs089mF1ubPkHM7AU/5JO5mqiThok4Iq7NBJedZU2m0rLNeV5Oem8aClotJE6KgJYrF4oACB21wuM+0T6eNSJNoVIIkIGjITqRRi9I9FRjaV8CGfLinWsIzWShXsudZ64c25wK9WoHJ76IjwFuFmuV16m8N3leqezYkje8VllX5I6E4+VZIusU28BhKkLcDV4E/fmmpPO8S13DrWoTyU4FDGZWWtquyN2lz+kZrtvbmZlu9vtt2rdtqfYP9dqqnxw5rP6Gjbx21J04+b7/Uy7ezs8u26Ah69hXauGaddbe2WwPvdwmYwFKvcd/FhQmby6tlx1OR2NQXZsi2UYHhacp4xT/juvRIKahBfa6HyDPEVyS5KF+0w8cD7pe3QWkxCDyCBoyv7VNZ+QtlLZd6eZd0+twj8KHPx/YxUOb2zaH1HIzRWGhLdIr+XGCppWTumNNi+YX8eejU0cAr4yGeAxnvX3gg/cnBvjQN71UMgmjc0WY8y/3Q0JD98z//s/3whz+0K664wr70pS9JI7HbxzouvPYX2KWJTSpVQiAhkBC4VBFYdEFQeegUB1L0w2HyFgZVoTOuXQFKzTIm7dXCV88xjdCKw6PWp5OcXnj5gL380kvWc7TX2to7bPtVW+xtb79BS3m0LEWTyZHRYe/oSnQhpawYlPsgQMNkd1ZkTxgeIRbjhfI4hrAwsGFoH0y0s9s5WjH3WmRKg9AZZMmk19P5Fzwl1D/LEwb7B+ypJ/bZ3n377eSxXmtua7XNW9bZLbdca2vWrlAkccB4yAdyLD8IgyMf1IkGOjDjTeCeSQcD6alMGcOpYs4yXDz4uAVbV2CJG9ELN1MTVjxpvof0GjQyGHr55YP2/LPP29FXj3k7Xrl+hd122422bfsGq9PJYuyBA3begnygKSL8e0NCCBRYGM+HQkqNrQaTpTDYhsp8mRp5hVYD05mLOFzTMVncUpuTaEiCsIG+fjv6Rq89u+95bUDZYyMDo7Zh42q7ds8u27xtvQRDEqBlk1D2c6CIWO72bCkzFyazCQ8ejq8P6LP7WlZocwyG9ewnsyQQoCapQ69RvwltjslJXQOaeaEdRGZLcaPHotvOeSxBFTchDMFJ2WTurOH6nRo6t0yqufd2Lwfv6saWgrWub7Vd23daz5kztv/1w/baqaN29sxZO6hNpg+9vN/WrFhlWzdssg2r11hXR6f2GGrWYQDNWnomASwaeQjWlAMbuUMbP8yoBNwuEyJ350c/Cg/zPeEPMxjZOMMkHg+PjMPpusP9PJb7Br/l+Vt654v9sPy3XF4HgmLlvJZnKWfGNZj4aIK2oCu0EdHATT+BfAVQ+OehzUzevdh+QVs3vF+cUWcojOlCY4fvMu+R30vF5p2KYJiDMDC4MVEI9NBDD7k20LZt2+wLX/iCrVmzphTHI6afhEBCICGQEFh2CCy6IAjEQnfDb3CVUay+L4dEV51OqrDRJg1CtDeQvkqePNljX/vv37QnnnnCRvo4SaVg58+cl5JBnX3go++x3/p3v2GtndI4kECIU7PioCVuABw6+jAQ9lmGZ5TxUTUGqLr1mD7oKY2CIpfzY0+NhvKpxdQU2fvQh8GZiv2m9p340699zR5/6mmdxiYv4Xuhp1eCtqLd+ms32G///m/Ypp1bVFUaLAg8eArTFLmZ3Osu3jsWRIC0bARG02VvuvGmKNrEwcrA8SSjUmYlx8TpqkO8fNreeHjI7rvvu/bUM0/biTdPS6Oq2frOD9iFgV774a5Nwu1f2Tvee5vaqnDLZlCevzdAxJgMvtxHbviQm3bk9Kv5CvGqWbmY985BfiaY8T41D1lZcpOBEW0e/fQzz9qPfnq/HTlyDFUzG7owrNPXBuzq63bYl//15+2m297meNSFhuQYhdYnQSQkSxDhoAUGFAn0u2lDViI0dVFSjAVFINZEyWa2qXpkk3v+mpubrFduNFhiHBjKuxeUwYtInOYbmzA2ZWRft4LK36rNpYuDw7ZSHzzece2NdsPQlTqJ77wfRX/i1Ek7cfKkvfjiPnsRzFpbpS3U6Uc+r9beQiu6uq1VS8gaNVNvRNtOfz4BFG2HW+8gxESep34cW9n0kCWcda+u1zVFPZ7CMLirDU/jsjdMmPXuQ6bf2Njo7bG6TCVsqgMu0Xtq9RKo2Rq1o3q+dAs3rrxlbXY9z5lW0KlTp+z++++3H//4x7Zjxw5jXyA0ggiPJp8u+iU7IZAQSAgkBJY+AktCEDQnmDTRY0DMBsdMCA69fEibFg7ZR+++y3ZfvVOnsTTZEw8/aQ/e9xN74Ds/tT3XXWN3ffJDiivdeI3WgiYGTvX2zCjRbilNcPOc5Yc52TAv71VzGJTFy5NZMHcFM7PMpc6PKtZiA/vIx95n1960R7KIdtv/7GH7p7/+lj316F576Ppf2r2bN1tdC1OGKLwI5XQMhR0TCXx8sOwuxRV7FxONWQIw62THjp6wHz/4U3v7u2+2L3zlc76J67HXT9t9//hDe+nZF2X/D9u5e7d1b1whHEbUWkJ9gVTApTyoEnLiwxEMtkflPvrNms0FSBjKMRfC586etb/887+2Pbfssjs/8X5btWa9nXzzrD34gwftxaf32f3f/Yntuupq61jXpedWJ4pF9GhrLnz0luf4RBfPch6x0CLnwmVKezERoO7yxls+7xV/NKTLKK0VhBosZ1Kj8EemOg3pY+usFZanvxzcpbI4BhLGSCDhBWSPtyyQpXIt9S16/zTbxhWrbXDbDjvX22snz/TY8Z5T1nP2jPWcP2dvnDoubZaCdXV12vpVa2yNjqxf2dFlnW3t1i7BUEFLgYMGEu/zgI4Lf+RGFuv5yi7hWnKEoHhbbWeklgPcE/JI/0Y56oRfQfujpEnwhFBdIgGxFV8ixZmgGD5u0zslCnjQDDpy5Ij94Ac/MI6Kv/LKK+2ee+6xq6++2imkdj8BkMk7IZAQSAgsIwSWhCAodLP8Vne43E81dNRXUb6ISrBD7C3bN9nv/s+/ZVdct9XqG7WHiwRBV+3cbX1n+uyB7/3Ifvbgz+32D7zHGjvYpFYD6DiCLlWahruepQ/1Sr5lPso8IjcqJw/+CD/CMJGkU/GeIz8NJzlMTDHja+IIE+bgHHtBxmz37l32u//LV+3KG7dZnR9J3Gq3Xn+rnXrrmH33779nL+09YOfPnrOOlnZhFwRBrt7t+WbCDGeUH6blUQgU+GNp2GSliEzOohgx6fRsZcA8ygEtZVZyTI8GsbIG0NHZZl/9zS/Z+z7yXmvXUjro1t+kvTxWrLU//A9/aIf2HbZDBw7ZrZtuFiIIIVmGoS/wfFamHWY1iyviFpgIuOFXNpHxss/Fdjk3PAAZv5X8TcZNhnGuOA2NDfaJez5qn/7Ch6zQpi/sDW1WKLba2tXr7D8f/M/24lMH7cjhN+36dSt8zh/Uy0Le/LowSLw4O2QtB8sTEQUhJ6Ke2dMjYDsZb1TbdGJNTiOFzg0Br9OMBG4M7+pou4hPAY3SCPJ9beSOQgri8EjSFkiBrf9wg32pGBUu7iPmepa6903rtbzLlyup0KPaD6ilsckauhps5cqVtnXrNuvXRtOD2uvjTN85O6oTyN7U6WP7D+y3A8KlUf1ou4RrK7Tvx9o1a22j9hjq7FrhQjeWU/seMIrHPkNgzD3Y+iU3Jt6HO3iMrnKdhAop+y83F3vrebuSMLJOS1bjBHq5lWM++a2u9/mkvbi06Feyhr64jCx47giAEO5wjYyMGEvB2A/o2LFjduedd9pHP/pRW6VN6GOc4eFha2ho8PaPYD4Jhha8ilIGCYGEQEJg3hFYdEEQ48RwuTgiG1QyrMDkRpHBo8Yviuvs98PyGrPNO9ZLE0hCjKZhTRKK2ph22DpXNtv1e/bYQz/8hZ063mN9vf22SoNdZomjWuLUqD2GRoZiJ6jNZ7Vh59DQoE5DkL86xAphUTazgDP/MlriKJSicmlYLEcp0pwck6EBeo7XDLKM9MISLiWUx4aNG4TfFdbQCKqaRUvA1tQ0Zm9/x432nb+/T3sGndKyg7PWuV7HpheGtSeTNv5leZ42WRxjw1C+0OufI5Dr5YYdtifNREKyqa+pTUg5dbxZxwjFDRNGDfQCT5nntIiqVAhwSKhr5ZoV9rZbbrSWthYJHbRcSX8N+mJ87Z6dtuuKHXbszePW03NScdVWtXF0UejWaTlj/WgjciDxAXZMZ2WQXPjEN4iHEE2Qje+tBKB+h50ztMuSv0fKBc7FSc7VJsPLcQvcBQ6r49W6D7zFSSwx2ro67IMf/oB1dndanzaI1va1PoO8+ea3SZC2RgPRo3puTwtvBDx+Po1S0eYk7imOaAP4RhuOaupqc86d103WijJ8a3GT9yM2OSSz+AjkW7C7eSYwnAaAUVtoaGm2BmlkDAz2updEFSXBA88ljwStN0vhcZbzD+Xx901WCMrFfXz2CsIIwVhRtovkETJLVl9wYbOeMz0zbU0dEvDX2boVK233lm02dN2NduL0KXtLkz1OIDsj7by3dArZ8wf3+2lALB9bp82m164Oy8i6taystblF7y1lzMSRDYCVX4P6gQJauXoeeY8FbSU4pF/G1lMNUzyfVIrMcp040sex53Fza4u1uFZaVp5gXZa/3ofxtHmjLEMQaj53n9V92WdpufLPV+CMPl6liC+TpcXurLmJy77ywp8o1Dl9WprM991nDz74oLWqfX/mM5+xj3/84xrvBaFn3EPMl0XG9/KsOUkJEwIJgYRAQmAxEVh0QVAcN4RJGHf0uVnnmw0gJweIaR8TRy6l1RfRMQl30FZxUYb8GQiHr6RhEOpf8BTqtjp4jgBv9Illgw1p4MyG0gUJh1CNRZjh9J2JwB9OXJUDc3wUV7z7RJRIcs2n8TwnIBgG24oxgywD5iIIz4yAlJzldQwOvBxkqBPZRjnnqiHiS90wnh+TsGxA2DZqa12dnYUwSLhx3DzpG7SRa5GJAjRgC7DcYE/NZBnDLNl8WxRXrHixxVvgLmAwFXseV1EDRuAiboXbyChLvoIQiAnQqE5kG6uX4EfLLHzyo8nTWFEnZRWYNAlHTZoQBNXrdDYmSK5fBX4eOeMlK7ejFpiUj99VIkJBSibvLnnO0lEjL+XvrDhuuHhGIobTyYbnxClkkdXmKDfPsaSr/rxpeWdjk8QyisZ2VJLn6hFXuRReTlmwlrpWnWYnYZA0H4ZFoziiZ1/Cgqh5hljH61h2PmUtLkObA7tyDrXiJb8lgICqCI2ggi7r61Mds+kxNRxaYv4JuFRrNF/G2GL1BOkpCi05Clr8g4UC/ERNTyQhtrR6eEbYNLpt7SbbvGaDPz/saXZcE8HjEgqd1mlkFy5csEOHDtqhgwd8P5xO7UO0UkKkNatX2QrZLRLENevZaxH+zTyseu/zYuUVxrtQP14nLhjSBxb+eLx4X8Yr8rkEWtW0WBilnCpYS3ubNWnjbRcUUCb5EnI5Gu9LvWJV+hwQOPOmcsyUD1ka7vH80VfRiLmWBo/zwQXCnPj8QY+xLvuKvfDCC/b973/fXn/9dd8HCC2gm266ybOMwqOY/3J7biPfyU4IJAQSAgmBMgKLLgiClTBY4De4yuxV35dDyi5NQJmQaiAaTRRieAcumti+wahGKwgnippZMvFEaITWRp3OQq/T0bz9OrlIO2e6Sj29Pst2NL0X2TwfjPh0QTPvncVxXkqT3PkdOVRkFwtbsrPQmWSpJET3gWwc5ahQo9KuoogBP7mZnDObILKsMc0g6oV3g/4K0gSqG6rTSW2DrgXU2NIUlmyweygaV0zulQitKv6cgH6nMmS1oIbykQEZlTIrOabMuhTTiUCDdgZu8uBiOgZmLolQbDlHOSadTcrV7tQAdVx6s42oyZ0f6NOstt7aOnT0vL6q14kOmyJ7G3WasCgCVIob6C+ucQ68nLjiNQ2eFJVS5DWC8BBajp/buuPo+EJBk3xmr5AXXg4l8bxN4S88hemYtBHOX+i1po5WLQfVsfP6Q1AJLcfNOSy/H6bBZYqyyAjQRqYyBWmCtXS02fmes94qEEDo4Zoq2SUV7u/pXIkQ7pSErKVnLXvmeBXLOLZKiDyDdz+PGO/zRvWFbR2rbE3nKrtyy07rHxiw3r7z1tt7wc5pkoi20Llz5+zIa6/aK6++IgG34ktjoKNDwqF27S8km1PJOiQgaZHWEB9U+CBAfkFIV7QGf5apJvoE8ZBNSJ2xZfDjeFMggdfR3aWlYRpT6H3uWld5/ikn8S4TQ3G5pjTTijQllYsYgXGeKnLZ8T05RFETCC0fhL0IgB555BHbu3evHwl/99132zvf+U7buHFj6TlFWBSf28mpp9CEQEIgIZAQWC4ILAlB0NzGSzqXdFTF0OlgdNZj0k8Zk3ACF25m4kwhy/04/tzJV4NQOvnR4TF78bkX7Yc/+JHd+O632x133uETdpaVuUzHfyKFyK1snNG75qivFKiIczcV2Y0jF/kaFzCFRy6dOwM2gXMhpQl1+Msm0sJ5rCi8dTXoZKxzpy/Ykw8/Zo89+oz1nDqvpXkb7T3ag2mPNprWMTQ+YI4UIV/KYgqulltwrGnED74SAy0WFWKUGxcoquTSmhobkQBNxz6PjAzZvr377dEHn7aXX3rNmlY02ttvu8V+7fZ3aZnZSgnV2EcoIpbN4MqNbQnB4zU6A37K8f059Fuh5+0MMiorAsQ69vwiMCCLRgELXriC4dmVJpoEQT/49gP2woEX7TNfute27d6h4CBOIp633ZiH08M3mUsCAU3Gu6WZcvL1t3yCQm2HNpMrXbkJ5TyXp9PlrpF1lav8zomeenT0xxLKUmAWRFy8o1EseehthZad/P3EMEmRxgblJ/9mvbM6Cm1aQt1so92rJOyQfq1OPOxDONTf5xtPHz91wi5oI2q0h45o+SaC60btGdLe2mYru1dIa2i1C4ba29qstVGaR9KeKRSlbct7zd+JsQSRq+Vhj+ljUmOzBGA6cU2weNujJCV4K26WR5kuGpeAtOyqfdkxPK3q7JMm5WuvvWY///nP7ZlnnvFtEK677jq76667bPv27b40NC4DQwAUTRIGRSSSnRBICCQElj8CS0IQFGBkhFAaSmXITj1q8K81GlTWSZPCR7poqCAIYnmY0wuCIDRTmBTWSzjEJUmPomiJjpaA7d37vP3R//01O3LouK3dvs0KUnUfGuplpVPZ+Cg64ycTDNUa70XBSTnhRXaV++tpZKzIKteY8Cth70XkK67CmHloojCKkI2lcxiFM4lo1CbcfEn6629+y376w8fsbTfeaNffcJW+Kj1hT/zyWfvi73zR3v/hO7Rcakhjfl/05OM/yE/HzKgY0yFYHYfiZdXpjHn4LHLVZJSmEcoVWpwviUCTRxOjMTTVvD0SpranyVZbS5v95OEn7I//n7+27tY1dut7b7E333zV/uxP/twOHnrVvvo7X9V+OS36ik4bhicJQEQHCi48kS2i1SW6qPde3tLMkruAwNRMSJDjrNOmaHeZKT1flJENbxVJGDLTclSZpHr5FV+4spCOCeUvHv6Vff3/+ytrbG+1D358wJts0ORDoAQlJsa5fGJ+E9iwNt2STEAiec8HArF5T1AZXk8K69yw2ur3qS0NSnAaqtzrT05VZEgcSEWC88Hc4tIoPXZiI5Yq+vHK9v17sjD8Y1gprsJY8swyLTTzXFtHtr+m9b5vEIJh2Yf0YVlCJu3EBmHZWN9obZ3NOl2sUxtJr7cRPYeDg4PWO9hvPUO6zp21k8dP2vHjx+yojq0f0z5DvnRMAqBWCU66taxsfWu3rVu52tasWaNN9duUj/phnnGY82dddjQZw/kmQLx47+8Dv4k+NfCAVi5NJF3Ldh6ygEAxvG3xKmGoSGw839beYs3SQCRenQ8UyjyUGMxoXQ6W4zDNglJvZYyySh6XForlMEe3fDsu9sJ5qN+ZSeEWjpF5o4xmz8svv2w/+tGP7MUXX9TY40279dZbfTNoTgZraWnx/YDyGaJBhOG9EN4N+dDkTggkBBICCYHlisCiC4Lo232wqk6fP+9z46grNxCYCOA67cPC3iG+1ESJGVgi9PEdVzSRLEhzhQ0tx7SxMaPN+kFU4X1qaU0jzXZCmx9//7v/w46+dkL7HEhTQxv4juqrZpGNjzXZdC2EOJlXeqaWQeOACWaeKy+Jssh3lD58yUeak7siuypKYciqGNPM0qfIjPyFz5jKXRL0UAfas4YTZ+q1Twv9f5N1SWimybT+R+sGpRWvpUzFQTt76ow9+8SLtnX7DmljfNSuvGKVda9ptT/72rfthacP2bve8x4t11Fd1PWLqgR0o1rq42aykhCBdjDNggSCM/8Vea8xbK9XSGSeU1DzVqBJUIP2vBhmIiMhpAsYtbywQW1lRBtCjwrbOmn1cM+SMIRC4NBQuGBjQwXb+8xLmruO2Qfu/oh95J5326lX9tuF14/aS8+/Ysf6L0hDSMdAiy9TixyhjY+1hwfF/Wrg589M9J9P7CLNPCihtfE88ZcT0eQj1XTzvBZH9EVd2gZFb3vilTLVqR0Wm1VGlbWgvZbU7hq1/xTiL+qlTgJb9uYY0TONYLEgbHsv9Nj9P/+VWa/SdG4U7l3yZ+AurbX6AStqf6vCiAa1xSYbEc2pDG1uwdvdVEyk8IDAFE3Yg2k62keqfV23XXjzhB4VvWUkdOW9POL9QNAhC1pktdrx8gK71C3m2I4w8QiFEiKo4BmoLi8tO/h5GgT88vFUsqDNpxKf5HnamD4IbEnN5vgC1t91jfS5eqd3aCnmqsYO29pYsP5VQ3a6u8fe6Fprb508Zr06nezCYJ9OKhuy8/1n7HWdUrZfJ1Gu1Qlm63s32FrtMdTe1CIhkbSFZDeLVpOEKmg0+cbX6oMQDiHGVe8RWFWHxKbUcD4MD1rawvvB30h4quzs0kYEBXs83s6OD4ImhRMHk73F3E0S3/xfDuKGGGSvGy3/GtGHJX01ErbakqqpaB2dGjppOa+vr1NssCQNpOEXepeTAaZyHZRLDiYRCloMNekWsXXrTU0/xAm1SCzqizswpVUGQ+qFNs5PRSa0B+XsV0XAot9ELR1srriZM4zRzvHDjnv7cPDJgDT6XnnlFd8I+rHHHvN9v2644Qb78Ic/bDfqY17cMNqfk1wJoZ1MQiAhkBBICFx6CCy6IMghVU9PJz+rjl4dtMb8vpSGPVlGfFfZjFgcQeg29uMcNe8DXm2McOL0Cfsv/+WP7Pgbp+wz995lj/zwSSQdCg+8MJiu2MsEIrNiUgQX2AS2ZsBchjnDNFf/Jan6+lFNtEdGhn3z7LDZs8BFiCFswdlPtpI2Vb0GBs/t3edYfvar99iV1+7Wl+Rz9pGPfNj2PnfE95FAY2h1hyb3Ao1hXTBkFN2Z1zhrOnHGJZqVBznBHbab6WQNdhJKjGqT8RFOyWGMlI3+KSfLmHzDZ+21xFFfdbLr1d6YJADiW8fesoMHXrFf/9RH7K5PflAaaEN21VVX2qfuvsv+219813rOnLWtmzpFiekFWE2FF3SnEUfRFsqQewnDSTJhcMrG7QVpF5QSiPeiNtEOtaBpgDByWjQ4uUYl9BkZk2aZAESo26DWOdo/Zvf9w/32/FOP28c+cbs9eeAt37MEwZkbbRbPhvHakVu308MmxJpuSUI26XcREaCRaDK+ced223/itJb4SgDL5EfCV3/UVJU8gqExLSKfFynr+PyNFwLBQK1nYLxf7bSBcu4tKXKZn0jgGh0YsVb1rZtXr7MNq9bY0Oi11q/lr33SGOob6LfzfRd8j6GeM6d0amevvfrifnsFYTr7CKkv4XSi1pZWa29vtxVactXV2eF+bfJrEl1qFC2mBu1LxHvUN45XPaP95EIj8YFmk0TA2nst8IYkSM1BrKrH592R+aNpicmXByRG9B5X69EfbQgfhElj2rReh0hoHzJOGEU7ql7367dt1vuGDpE0AQPiZznjvAxNBkYekAoUCIgPZBnjGCUgHvCMfnSsCHaDb4xRDp1vlw/xFj6beWU7Lt9C08f7SLXzvBAIrT1OAmP/H4Q/R44c8fxvueUWe+9732tXX321deo0wPh8RHtemUzEEgIJgYRAQmBJIrDogqC5Dpz8WxIDvDBa8EFfGI35lNzHq75RsU/UNQzRzKCogeGwjkVn8r772m32mc991FYUuuyXDz6h+IwCZsvVbNNd/LYRxsT6eipBxhiaQVGQIJsw9ntggMGAYkxaGmPS5PCxvwLZ94bp9hVX77Iv/dZn7dobrxCmaGno+GDBV2CwLmwRZAS64LJ8sJm6NlQylm1p4lCQgAes2KCYNghmQ9J4qRMGTEBGdEw8wiBa1ajCRgViR+cK++wXPm0bNu2yhmZprWgyO6qTr3q0GWubNlxtY8mEJj18fS/Blk28pubt4saYaa36UhA1Eheg0daYfIlIgf2ksIWRb+auh3NEGPuG28KvXto9aFg1SUtIMiF7+rG99sD3fmof+cQH7bZtW+ypw/cJ20HhTMuEKyYcTPhiG5RzSrPMZgBTlufSj0Dbae1qt641q+zckWPh0CoVm3m89wBL9Lm51GrGN4GWBo9ehS4IL0jDr1UCkxVNbTbWtVJPYXjmi9IO6kcwdOG8ndUG1EFI1GsXtO/QyZ7TdvSENLt4W6pem6Up1KHlZJ1aisam1AiL2rURNcfXN+u0shbtO9QigXKTNHYK1DOCH+VPn1XQxVsAw7kFaAmh3YqfT5Y9BGFE8OPJZ1cyln25IIh4uvD3D0d6H/sJogpfs2G9tXZ3Z8SyiJnleZIoGUdgHBTqE8NAQiERYJwOnJK4EFc3ped2HIWQzmuGeBcL6Izfi5XdNPOJQhvaPAabMQjaP2c1nmAPIJaBsRk0S8DY2P1tb3uba/9cddVVtlLaeVGQNM0sU7SEQEIgIZAQuIQQWHRBkHdfWX+OO44Hpo0xQgmN/hqa9M1Qo4nmVi0x4QugU4KahnVMyOuGtDxME3YJPRBacHWt6rTP/Yt79DWk3Q49dUCzUMYV5QHkjHm5eKOScfBkw4Bx/hN6KAHLvxoaNLHW4GFMm/Oajoh3AY6EZWj+FBXugg7TcjCN9DUHdzV51OOZYm/ftd227tqqgTJIIThqsWMnj0r1+LBdqyNHW9tY6gMHmRRu2vjMqiWQ0YwNOVHnziapS47JSGmw5SNX0umEKj1FQaCh9iWhGWrUaFbR7oaK/WprYCuE8FPkQn2r3aSvcVKNsTPnj9tzjz5nh588bK8+c8Du+vWP2zrtvzE8PGDNws3V0ktteRLmfOA8SfhkxZlDGDmGp2x6RHw/EjUy5FxgB4JssQFuCGzZvJa2V9CG2kP9WpqoJV2ucdUwIjR06pCEjQcPvGZ//xffsz17btLz+2l74/HHfTNbBI9eLeFHlEXYH2ranyYgU5i8hsAUUVPwEkGA9xVC19VbNlrv6bM2dGHAXzfhFEkEBPQFams00mQWBAGgRYsP6RsbKYM1fvTHaNSEyameLi05lvqPdUtLdF3HCituoB/RPkMS8PZLC3VIWoG9/f12TkKi89IaQljEKWUnpc2A4BjTIO2gRp0W18Sx9drLBA2iDm1O3aUJbnd7p3W2tWtj6iZ/8vWW8fd0qHr9qiHwJtBrxg3PO+4QrjeFOjbeS9xHLRSfVGv/qUbeTeoPOyR03Kh9BFkuRmTeX04nkPQ8vMFxHwnHsEvezsDMlRtnBnfmyo2v1FBK6JVez6SgXqgpTBYgb7AOBju6c5lloXOxYtsYT8MZGO+9iD48X1EABBu0VbR/Dh48aM8++6wLf44ePar9Lodsy5Ytxklg119/ve/P5R+bsvRx6dgiFiVlnRBICCQEEgKLhMCiC4K821efHgZToVMPS7I8RLDEDr82Qmig1Ekr485fv9N2X3mNbZNggmU4bNKLOjipGaNedd1u+8rvfsG6WnXM7YpODUCl0aEZaJuOHx4eHdQkfUSTSU06GbhmuXra2tn6GM8HvERyE/iF98oBSwyfu00OpeyqyIEfKE4YoTq+sGGgTAIG2dffuMe+8m8/b7t27dRAG/V7URQ5HyRIaLZLpzF9+V9/3tZv2KSTelby4U64hUk6AxBOXusdLNrf/OW3XDD3vg+9x7o0aC5ab+BL+Wha4L9VrNS4pd4mKmmN6LPxEnnK5xMBVSToOXg4pspa8QvsDzQ0bJu3brIv/Mbn9fW6YGvXr7LB4UFrbGnSfjeaOEig1rGyzT7x+Y9b77kBu3rP1d7mBgaHrKlZ2lgSfvScOW5//hd/bUeeOGV7NMHYumWzH71cXy9NIu15EobNMApfgcvsBobLpmIEO1UBysmmdtUCJOKFTTj1Ff0mpxgmjGiiFW3j5vX20c990IY1CVy5eoU0gLSnkp5J6ajZiJZiNAlHwi/0nLOdV27SJFMTxt5B+8e/uc/O9vTZ7//+F21F90p7VRPIegnZEPpoS1tpDvHsywYvNupWO/c9JyowGs9neHID4uNDk89SRIDlq/WalLev6baOtSvszNBxCVGZ1EvAqMeAJUU80PP5RCxFHBaTJ7DlY4wLfLzfCO8CsEfDzyer6ldZzjWmZ1I14+9eddPqEXSKovbk41QxX77VrXDR0COs5d6j1i/B0HktMb7Q1+sCojNaNougiBOPTp85YwNaCl6U9gP9FVpDLCVrQZOoQ1pind0uGOqScKiDZWfapL9JQiS4Q5Dvl/iiccAbgiB9Kwp9gsrEWIC4dXpXsZyViKvXrbcmfTgKmsOxXWXxqisBYGh+l4NROb3WKXOu3DirDS0gAuP9bwQJQZy3F0JpNwgVMwA9CZngqEW1OpfZ3dNlVHYT0UN5ZqzMjvLCpKLdo/1z/Phx27dvn5/+9dJLL/lSMJZ7cQrYO97xDrdXrFiR4VuJX8C80m9huE1UEwIJgYRAQmCpIbDogiC6H5+vqXPnj742aEEA1dSd05i+ytEZvuvd77D3vLvgXxjZGLbovTmDN8yo7dy1za7Zukd7ChTsfMtZbfLbr698DEk0LPXPgGVtgjigDV9bavf+cJatRvMcAq/iX4WBn2Cind3O0ZoMjTAkVYxpZsn410fj2cjnimt22m4t9YIAmhWuXQEx4cjeCGvWr7Yv/U9fVDgTa4RmQwE3BtD6O3euz/78a3+jJTsv2Fd/78t2zZ4rVRdM6aEIU9NkTDHBMqTxm4X5ETvw5m1PZcTtPAaH3030Q/2iCdIM4wAAQABJREFUuaIxq61Zt8ruvvcT4ldfrCVMZAmda7UIExaMFbQ84sMf/ZAmGAgp+oXlgCYj0vWRoKIoGpsl+PlP/+n/tAtHTtsP/uJ++8bXvmm/ueV3tPH2amWfwwFGMy7Ldo7DivCZYJ2jUdNZC5CIFzY8hqtm8ok8xeIqLee557N3K71M1s7QKMCjgPRWdD9578dla/mcJgXE++mPfm5PPbnXPvvZL9jqDWtdg4CNzMe0EfnIUJ0NazP4MWkEGEs/NZnQjcIUTrOdwtDmmIAkszwQoGX6nmV6mTWwCbGWCPad77WB09psHTUzCVKpTYSPLvhfHsVallyOItXROwhtUQx7M6HvF/fawdv1//zxCpH45ZIiqj95uP1tw7tAbr7gtDe02+qVHTa2irBwhD0T32EJZwakNXnqwhkJhHp0jP0FfxdckOCor6/fl5299sYbrpGEcJl9hNiLqF1CoRWdXdLsYblZi460b5MQX8vM9E5ur2v2E9N49xDXNRHVyRe1F9CYlqd2r15t7bs2SktR7wkfMwSO+R1FWKQOwfstOlc8s3FAGEdQoGDoP6Jf1MbgPo4b8u6YJtoxDveRRt4vxrvotorsvYKXu5x7QCjc00/ok5Fuwjs2COpVLwKa176CbUQfkwb1oaRR9UEX0KQNxIe011SDPk4R7nkoKu1MzcRhDtTn5xealYZMs0IRpnqKPFTGI0ghuoYliW4U3/kNlmNdVafhPt8eopv40Z23+YCC1g+bPrPvD0u/OPodLSCEo2jKbdiwwT70oQ/ZbbfdZlu3bq3gI+YX+YB2tV8MS3ZCICGQEEgIXPoILLogyCHOOvTQJc0MdKagjCE4SahOo4kxjUBDV81gA4oQD36jmqQH48NMemBkRIoV4npsdcAM6nyPHFLTIWeppramH3NqWjOLEXKeWf5x0MMSJh/gxIGrY5blr0GQj3/AkCVOEgqx+fGotDgaNBiuH22wk0fP2N/91XfsV489a//q333Z7rjzdo31wFDLfXzMF/nKcJ8SUeKT68IbcgoCgCyvaWQdShPaFUIy0o9JayoIguTvA0cVXNIHWg9CIrCr04lrnGnT31e0oYGiter44SYta2joarUtV6+15nsa7an/90/sxX0v2VW7b1faiEHIcVI0YmVOGmn+AyNncBrdk+UShLy0Kf0JszDIJXF4arF9MiViowpnKSe4MsU6f7bPfvaTX+jAujE7eHi//ek3/tjqG0ft3MsH7eRbJ+x7/3SfvfLiavvMv/yiT8pcbU1tmgkaSxmnMpQBLjz/qSKn8EVHIN/eeOTaVnXZ+p1b7cjgQRvpV5vBU8JW38/L30OLzvKlyYA/qyqabP0Hk+EdX0tZV6vnOYujh40oCIyIE7S3YuJg8yxi0L6h56Av5hh77daMpFhWq21tX2nFddv9lTsozcC+oUHfpHpAy2E41r5vcMDtfvkPavLM0rM3tVn/0JHXSsIbJu1oJTWx55CWmyEYapQwuVkaiQ0tzdbY2qR3dZvtWN9pjX2nrbO+3fcvYtLt7y9YQggEb7CsgoVxQ0AjvONUmmxyj/AHE++jHf08cIIf4sZ4np9u8uknSHaRvLPyw2IoelaDMXs8M0z0bDLuCkvA9HHu7Hl7/pm99uQTz1hxGEHfiG3YuN7edssNdtU1V0qYL6JOnvQBg0h1Pm1eGbHNVtKN+ZN9qMtY5+BPnXI4BnvxIKhBCMOyxWiq20C+7vJxcMf6hCYX9yyRPHbsmO/z8/rrr/uGzye0n1avllCi6cOx7zt27LCdO3e68Kdbe1jBX+QNdzIJgYRAQiAhkBCoRmBpCIKquZrBPUMCOu961IgRAjFOYEDmAw5sj6FbpoJMKukQNdmjX2f5mIQ++mSsIEZvDE6C4IOOmj86/embmcSdPtWFiwk+GA1kGIk7+/IDHP17+T0UQQdx0ZoSxsKxIB36BmlbnD3dZ//wze/aM4/vsy//5lfsfR98r/bskC6QjpevZxNkxy+iSl6XlgmCR8pE22JWI4x8fwNEF3q8VP6wxACNIWlRCduXJej5/j/8wj79hXvsmht2aNmBdId8wKfldoPlpQ4lpEKj1q1XUMl7KTjgKLai6fGTxRYO4S9rb1liQsOzSZsULnpu2TAaAVKhock++JEP2A03nvOv8sPy1xTORrVUgw3Ku7q0T0h3l9dBqA+Eb3qus2d+OvzNrCzToZjiLCQC/rbWu4m2VK8jzFduWm8DfQN29KVXXFCtx0oTooXkINHmFc9z46+p6M7B4mHxXpFK7ww53K0I2Oj8RQ2iGB3K/v6ECH0yEWXIky5Lijp6A/CM12kjeS31lhBntEV5qE+Hn6LGBYP6IDEsgT3v2KHhIe2ZMqwj7dGq6JcmkY63x5Y2xQUJjs7pdLPiefVf2qiepaoMC0b8GrP2556wru5OW9HS7svQ2Hi3q6tL75xuv9q1yX+zlqchWEJIxBI1BEzxYjIehQehDKEwTNbzJgoNorCgOoz7GCeGRRq10sQ4S8L2RkJlCtSsn0TA/09/d589cN+PvS5WaO/GYWl9Pfrzx+1nDzxsX/23/9J+7Y53KQ3p9KRjlVsRNxfHZNUUMUY7h7pF8MOGzA899JALgq699lq7+eabJ+SJuqquv0gTbTfoIfg5deqUsccPp3xhIwgijPZFu9uzZ4/t3r3btm/fXtr3h7A8bfJKQqAJqyIFJAQSAgmByx6BpSEIUsdOH8vlffwMqkVdqsf2CbkGe9yzWMkFF3F85RN0NDd0SUsj5oF4gtNNWqR23Fhga17BoUD2EWCZyahOf2L5mDM2A54WI2ooaizwTDggTXZFYEiO2wdqDKjBFIOgQ5NrG7JmbTJ95tgZ++af/oO99Mwb9hu/8W/s1z78a9pQWtovOg6dTUCHNKiBEGmDMAQa04HTU4TIC/wbSs40MjMlR/SYyhYmpEbQSDuLlJyOBrt+z8BP+9gItzEdOb9OS6IO7X/VvvUX37Ev6tS1HVdttp7TJ+3v/u6fhF+z9mParbYXNI1oo8FEO7uttnx0PGPmq6nM+n4K7sp04dNnc2BWxa/fQgkhGjcM+oM2gFb5qM0hCPqgt6tBluDppLHmYovt//HD9vxrPfa+D7/f3nHTJm0Mryml9lgakwZWeeP4MgsTuUIZpl2Sicgk/4uGQGgjtBOf/ChflmKu37HV6qRx13PkqL932G+qzvd4uWiMXVYZ+RMbq0IlLz1B8sMd7+mb0dIiaskoUG9OPacxXogd0xAPITCfH3wCLQFPmDSHZWjsTYRmib8rnLD6dyX2N4hexw0KbfZ+TOmRPWgp2KjOMGBpEXnyxpbehQt+0EIZYtNqLUViQt4nu3e437rXrbYxjRFOnuuxYyeOW09Pj732yqt2/rwE0tJU8SVAolVAq0iCqCZpFbXoZLN2CYU43Sycdtbu2ka42aiX/VvQGEEDCY0OhEmExUl7FAxQ/olMjBOFQNGO/hOlWzj/qgpXRoKlsr7lE7RCqQwJ7xpa7IGHfmLf+/b9tnblOvud3/tt27Jts5aCmR04sN+ee26v9nrq9OWd/lEJgiVDhVd4lEJm66juksp0yvn40m81MnA+cOCAPfjgg/b888+74AYNHva1YnmYt1caY2aIn68b3LQzBDxo+XCq18mTJ/20L/b8oZ0h+IEOy71u0gEcO3bssM2bN9vatWu97SBwjEvQyBua+XaQzy/ykeyEQEIgIZAQSAhEBBZdEEQ3SeerLtL/YIzJX1xCUj2MiIxHWzo92UAjTBiJz1CzXp0nwwSuMALU8hCfIGp7Sg1AGka1R4sm5U/86gk79NJBO/vWOTvec8aef/pZ+7M/LWpT5C571ztvtob21sBXHCF4v04eykXu6B0GJMEjcjQV77EM07XJ2stTIwH8OA8TRaiRZnIv6IX8KG0wskW/XsKzIa3l/7aW4nz3nx60dRrAfesf/8H+/Nt/qcBBjb41cNm81r741c9rD5wtPjDxQXeoDJGK9DKy4yzC560g46i7h8hrzJRre/jiGSyPM8EPG56GARY8xovIJIYobky8Z6qBKUj7p8G27dhun/vKp+xP/ujr9vwfPGud61qt70Sf2cCY/frn77WrrtiuuCNhHwSSOaOaLpHVRKbcEBVjsogTEZjInzJU0wutjfLFdkeMUrEnIoV/BZ9VEUtZ6Qkinv7RrkKLyid7mmgV2fdFmmaNjXLreW7QRsHDOs2u2DAoN7sEK1zYARnPPc/iqGmJonzL7bgq3+yWuPzF0tWOlXyXDgKq5Ow9742POtfFUp4NV23XBvZDdvqNY2ormnSytIRA2lSuALyXyu0CF/Fqm5hu4hi1010Ovmjn1DIRM8KCu/x8kaSUTIHhHSk/ueNrwtOEhE4h1FBI6cIhVS2nDdIO/GMD72YyY1IsbzarRj5fzwmYco9KOxAhkOfltvRbddOs0xz9VLNGvQG07ExiZn0RKkiouEVtaRcRxKu0izQxH9IeNkz2WZaD5gZLdE71nLYTmsSf0ZHdg9I2Yr+Wk/LnxCbSoD3CBB2byT+T92ZpDHH5sjRN6JnUo+mBkCgKiuI9AiMuND7iFTWNoIUfdtQ4on+KbuCIJgoGoh39sWv55cOju1a84CdAvUKpAXeU6zfzCb60BWqSsUS9vfzifjt/qtfu/vi77IPv/6Av9x2u67Odeobf/8HbNZ4QdgW921VR9drvbUT1WPBl6qH/KeUUs89ol/jNeKJdkakLSuSHsBDjbSo4K9qeBxKHf79CftyzDOyRRx6x73//+y7IofzxQiCDIIi6jm7aQGwz58+f982d2d/nDe1jRfuhHdEuaAPUJce6s9yLI97RMFqt/alWrVpVEhTCWxT8RHcUCMX6ieHxPpQn/SYEEgIJgYRAQqCMwKILguijw2A8TsLU6XqPDZOhiy+zO97FkjA36ojRBML4AJClYnTOIsHJJHVaxlTUEpzRei3PEf2CZo+jGlgMDAzbuR5t9NjSYe/79Ps1cixY//EzdkHLDMZGBM+YToDyb5b+3VLUA0/8Vg5+8dEl2uWOVyOGeTQh59oEQc/zn0GWgR4JuALvDhj4C7gw6Ca/QJvJdL1wZIzMmv3uVevt0zoRi/TD0mCp174KfoKLJuedq9s0WNMeCvoDP6iNMknXQI46mdwQYQYFmZxY7VCR91K5HdDzPKfkDXIqE5+XnccsQXY6FfUffGgvxFE+jiX7BbWzf62b93zk7da1qcVeeP5lGzg3bE0dTTra9Rqd3naDviar7WowCVehKkiLMGOSHY+JqFjBzCd2kWZG2q2Il3MIGo5EPsZE7pgykBGfke2MZXJzIZBs2k4DxwdlO9Cy+faY2hY06uTHJqOc9Ne5c7Pd+Yl32/p1elYR9kK82Cj0w+uNqpoOh+THXzLLB4ExTSTzLTSsAlRP0N5k667ZbsOaRJ5/87Q19Ie3Ge9sJp/Uc3jCwvM6Sl+h9hWpxVaQf1eV3Lm2ijPmH915GyQJn43fRHShmac3UTziYGabf620+bycePbj76m8h9wxbtm7muvy0xawzTitSJj5lYlklF00HHwZA0jIElDJfpUV7xFE8JwOOqaPF7yRw6sE/5CJqp0GoR/d65+NoIdEa7SlwdbpvbL2yh0uBCKQuC2t2kdImjtdK7qVptIgYBhRPziofYnYzDdqhuBGcICN8IiLMO65EBpFNxsAv/XWWy6sgB6TeQQK0TDZzwuAcOcFQdwjSECggJAJO8aJYfn76AcNLoRHXHl39IuCjji+iffgPFxAMHZBUlhxKr79HS1nhmxkX/hn9aY4voxamrRNbMatIh6VBt+br71h67Z02HDrgLS0pD2lLm+woU9jNwnPiirrWIf0alUl7LsHDeVAXtD1XJUhp43xHFOtLgTUQQ0sDx7iVFgJ9NiDiOWEQTtNMZWWXoPf/JjOqUODPHRDPZw4cdKefeY5e/jhh+3w4cMu6It4gBnCHLR7vve97zmO1PVZCQexozAI4SBpqCeEexztvm7dOl/ehaYPAp81a9a4phhxIv0SiJmDeomGvKvNROmq46X7hEBCICGQELh8EVh0QRADBfXZ6mrDNeuqoNeuMuX9BjwXhcYBShg0oMr9/g98wN53x/vU2bKfDQNFJpdoGnDPFx20CzLi6rydWf1GipVZ1vatjLMwdyHnOeTvggTxVm07yQguNoMibdpZaLSPffKjEvYg2AFPNK60XwuTKY1J2Gwb3Io63rcEViQzJQRkOu3IU1KbLAI5MdArITftrEspyuQjdiWfgFe4BSPlJbxGtPyAo9Hf8c7b7LZ3vF1+CBw1IBVmXGp0ZX7ytGI7LPnlHBVhC41duezRlS9pjqupnZHVaOdSOM0qTHmCSyZz7ti13bZu31ryLjsCd7kU5aAarvB2QGAQS1UjUvJaUgjEmvK2Is7cZn6kx6hJG/xuufpKO938pp06/KaNaAJYUHsaRTuEiaPi0EdwjDg2QqVRBIkiEttMeapVLjZNMoZHm9DorrZrhV0Mv8jHQuYF7Wjy+U3sF2ss2jEm9hz8vG8OtMp88M7NaGYWzzhO6pwaG4ttQY2hKMnBkPYGaunukBBoi63cst6XGnqDqKhdcsgIhiz9l4l3g/Yqa9BJZ3Gj4OrJeBBehEQIDRAOYHMhIODCjUYJwiEERnmBEv5Ryyi6Y3rucUea3EetFARKUaiEH/Ew8Bd5jIKFvOAncBp+Y3jeD7eoacndiN383httxzVb9Ohlh3IIpnJdEJPnrIwbdTGi8cGeG6+xnz/4K3vop7+w0z2n7G1vv9Z2Xr/Ttu261pqlIVWvzcFZAlivU93qjY9LootQRznxvJJHJOvU5VGvcRxCHQRBDTqhE0EgY5Vh9b11CkOwgwm9slPwe+hUdKUeAwHfiL2lTcaffuQB+9Ujj6lOBkL6DD8wJA4YnTlzxp5++umSEI62gEYPSwLR8GIpYN7GTRyEPqSPbQSauLliHXmm6SchkBBICCQEEgLzhMCiC4Ky/nieijM5meoOntjDWj7ASIJTQnBwuhNLUYoSAHHajB8t70ONStq1+a7tW5lyYe5CzgufPzkwWGHQ06BlTqyXZ0bVoOUXw9ogmlEaccJpWpS1zJNPsMu3BF6GRhNP4cfAjoF5AAw7OLHCwA9XlQE7H+lW+Y+7nVakcamm71GuxGmzNH3iM4gZJjG0wTiAjoPnGRDJRfUWmrtPzuWAAO91PU5lo3smmfg1aWnv2iu3W5uW2xw9/JpdOHNWE8QxHS9PXSuOZn6eXu4iNFzTr0yqpov8agYkz6WGAO8nJve0h2gQ+rHfDHWoV7EM/b0EQRLidKxabZvUXtrXduvQAzRJQipSl+u87AqhoiB6mPj+iXb0z8cjjCtq5uDOp83HxQ0NLvqLaFcLePL+MSzaeQFQ9Ivx6cejAIkwrihgiv4xfUyDHfnyMImCpPPke/mQfgzNX9eyCpiVkfdkJUGLaxLppLdb33GLffm3Buy+v/2hPfPs87b3qX3WtbrTNu7YZp/62K/bO++8yZq62l1z9sDzL1jLhlW2e+ca8Tqgx7VMnRrlWS5omZ++5rnWcoPcfecG7UTPMVu5YY1UiaT5pGAOvaBJhNShLfBGqDaUtV77i9VJ46a9vcNuvOFGO3P6nE72fNEFdNRhxIO01OXGjRvtnnvucS0fwvOaWQh78KO/4oom0nD8lGfU8IEeYeCcjx/TJTshkBBICCQEEgJzQWDRBUHOvPpfOmSu8V3xXIpXTssAocLIg0FQEABJICShD4Ifjj3nBCKW5hSkJj7Kl6dsoObpmSgsFJMVDC6dG4rr+GXl9oGJtKXqGHBlo6n+oT5tdMzgRsvEUL0GQ/152hBLAxqWZEzHLGRLqMw/tLvcNKG6nVRGn/NdHNAx0CsNsJ2qMtY/Y0MwdAEbHtM1/kl0BvGnS3ea8aZXr9MkNoNoDJzRsqJNMlAG04rndQa0QhkWqyQzYDRFLSMQm3y0FeKbyqo9+ESedqENpLu2rbOWlR128rW37MQbR63vfK+2fdGkUM9NQeuFfD4pdyaaDfRFM7aGki2/TGxb5iG5liwC1BvvBn894lZH5m69Z0flHtAG0bwv2rrbbd22TbZ6x2YtE9f6Jg9HMzPWfCxi9X3wr37nxPc8oeQfDW7ixvcU76yoSRLjEIYhHlctAUCeZkwX7cgLdGJ+0S/Gqbbz9KI72pPFjWG9Y2fthVefsbNDp51nf3Ic/BgDG4/MkwGF/kc0vmppb7Zf/8SH7Obbbtbx8U/b6y8fsUd++pg984un7PCzB+y3i1+2D9/9fjv08iH7r//XH1v37nX2v//h79vqlSy1ljaSSIal2rL5MKU86vVMdzS32+GDr9iff/3v7ZnnXrA/+D/+wK65eY/GJ/2OqcQrMFVhfJyT+UT82UuyWfXU3dlt1267zm647iY7ePCgPfHEE75PEMv+6M/Bi4vleFu3brVNmzaV6i6GQTrSzeOLm3rOh8V2EP0rGE03CYGEQEIgIZAQmAcEFl0Q5EMD9d0MuOKgi8FaXoV4HsqZkSC3aNTxqvRFX/4VJo/1+pLF0qawRMfHKWHAoE46mHJ6XAxAygMHfNyXkBC9ZGe3c7Qi9VpkAnbEmF/j4zUNRktFo0zc6isZg7CiBtINOkHMVe0lRNOHOAnSEKAxQYeXwFOs2zKdyfgkTcRwsnhzCKMYlEMkci0veCxg1gz0GPSh3s8Aj4uBZr0mpQiA2GOCJXWl5YgZfo5HgLJ2ocsNUeHzWYBadRFrswK5Eqe1GVwYX/DzGhSucXI125wQB/IXSzdbOindIiLAhIoHW8+ST7TkrJNAH9O0ot02tu+y7vWr7eihV63/5FkbHdISGaXhiSFWuUXjHV4SwV+B2WPF/Xw+YSKXzAIiwBuCOmbaT02PSuo3ovclm0LXt+nULp3iuH7bFmtZLS0gtRtvCErk7wHakptY4/E+846htCHai0x+Mh/vPSALi37Ew+S1P+J9/l0W6Xpk/UT63FeHRb8YJ9r4V5t82shLtIkbw6v98vfE42OZtr0WY4AWhBngDH4RNeKBviJo3BRD0HyR8F7CfOpmw6b19rGNH7Xi+SG7+2N329e+8Tf2s/t/Yn/9F39rH/zYe3Xa5mq77u3X2Oqrtll7R2sYq5EP+cogBHKhiYRAuA8dOmxf++Nv2iMPPmOtna3aG0hcKayxoVm2TvXKOKQWYq1WjOm8TlkqGpbVEYn20dHZ4cfDX3fddXb77bfbAw884MfHsySMfp2PE3nhHjiCGVfENPrF+9gGvCDwk4sf48awZCcEEgIJgYRAQmC+EFh0QRBDA/+io245DB7UCeKxIKaSbhikaAiicUTInQ4bN4KhbHChQUAYJpC2nJ60Oa1k3XlJcnHlzMXnbq4m8FubCvwHHmqHz95XAxjPmLKHPPhlQESe9dL8YUNOVLSdhywaOJYNN5FO2Xdil+cwcfB8hIilUBps51xUM8/5oD8FjSDAUN4aJAY1egabuEkIZ5lxKDIwJ4PFn5mYLosfaczJjjTzRCJeATlym88c8zlN7Q45z8dgmekJf8ksYwTii0fViJO3Ny04Pjr1jXXWvm6F7dRSkz4JgnpPnrb+M+dt8EKfjfRr/xAmf4rv7zw9i7SGeMWmAc1kljoC5fcWSwGpQyp1THv/NUj409rVpr2AOm2FhIKtK3Q8uZbrZF1+KFhIkBUyS5/d1bLixL1WWN4vvvfzfqStNrXiVcfhvlbaGG+ysKnSThRei6aPlUpwhz4hjJ7Cs1MKyh4gnrGsQpxV3rls4M7hHVLT0jLzgm3fudXe87732HO/fMrOne1V2KBt3rjW/uA//Hvra1WK4ll/qDlVkjSukaMn15W6RevgoQP2x//16zbUP2S3vfNGO/TqEQ3zlC4yI8idD6UBfS6CSuHOWfihfF5F9NVyQweD5s/VV19tO3bssP3799vevXtt3759XidRwEO8PGZ5d3UY99WmOn51eLpPCCQEEgIJgYTAXBBYdEGQd6nZuCB0r+qQ1RvPvzAoUg9w+XhAXmHYEiHEV908A5XS8CCGeeR4kw0FSreZozKPMLSojrMw9yHn6vznK6/xdDmdCROmTSGf0nCZUZMEE6VUmWCPe8c9RJ/kd/oxJyEyrSBygtMSrxcv6xx/QqXWCDSC5bYYKzGZSxqdFeljwhg4F7sWIGVGoosco3suuc087fzlHN4FtOLFKcnMy55SUFWlFlDV7ONteEfxizaC2qneTwUt/+ncuFp7waywoiaL/WcuWF+PjnDuCyc5DWkTX5YH+54dvtyk/Ihq3hkMdsw8ZjahHxkrUkW8Wn6iGWmQS3RHu5bfZGG14pf8lHDWPM0602kWqsRkLn7m5zxX5R/98MYIZz5WNKBpKa2T5iadoNXaYvWdbda+ZoU1d+tUy2adyKTlzNSnFhj5GYN83siSux3J+U36mRiBCBTwcWX3Ac2YLLsjLBsT6Hwy2/vCPjt1oseuvfo6W7t6gz6OmJ3u7bHX3nzF+gb67W0377JG1WFv73n7xc9/YY0bV9g7b7tWwiBO+WM5cNjjCa1aFneiTXVBp3StXbfWPnn3h+2Nl49JMPSKBEZ84Ata4L5ZvNx8zAtyKd4N2fuhkunIfKlMZY/gYg+gPXv2+FHv7373u+3o0aO+GXR1vHSfEEgIJAQSAgmBpYbAoguCavW58y8Eqg277xeQjVrCNEEjA44Bd6YyzuSVjQ0riNTie3xEEl8cE/ipzdW8c8CgW4Y9FtypH30r08URpiGsVHLdRneIG2M4iSXxc5FQm7isDgxccGVoZQPlciL5+yx2OtxGxMupZ++qlV/ZL8fx7LOYU8r5LGsSAc2pKi5yYtpeuSWWnpzARa5h0kKY4If4mcu1fdh/RYKCxjZr0FKTDgmGxlimouViI4Na4qE95NBSYJkrJvZLJUGQKNJiSn2Hx4oZRxvP6I72XP08oznRjTwHVEK7n7lf4AN8Y8mwMbX8Qkg5LN5PFL8WjeAXcQ8U8n55miw7Kuh0y4L2iKrX8uWCNE2Mfezk70sHxbUWgitJqMV8WmgmMwMEvOL1UwVcqJtKOgFxokqIo+VaP/j2/fbLHz1nV1yz025+283W2t5kh44ctkd+8qSt0N5Nn/r0x7TcvFmaQSftgW8/aJtu2W0fuONd1ttzWkfPawirTNjj0XV1VLcIcK+7XiePbdtqq3UU+9H9xyQQpMrZ91HLslEbUhxGLMHwDE9llMkkkdAAYhPozZs3+2bR09XomirXFJ4QSAgkBBICCYGFRGDRBUH5wsUBQt5vwdwuvAjD4Ioe3ifgcTQjjkraQdmCAJ+0w1WMs2AcLlnCYTzEr/BzGIJPPHEnHx5QYuAOYmGqMXXBoHBx8M04L4/xosfUTM5jDDKNGWd2SWo2TRy8IiKNeWRtmqSmyeU0qV28aAiDI/ShDMu1JBcPs6WSE60dEQ01hgjaHblHoFyTQWDNSUG8ibQLl9ta5SEhjyaEvrREfuwlpKOmC5qINlhb6RUEHciWHslcVjFMXqXs8374Y2bql48f3dHO05vKzzOfRf4x3XTyIo7jk7MXwg+amJhXuAu/0a9UT3JEP9oIvXcU4LEvIPtIscynjuW4iulLS9UeKg3oJjNjBCaEjfFCqBUXqsrZKEHdvZ/5rBX7Cvb4I0/aMw/t1XnvqpPORttx1ZX2m5//vN1863WuyVOno+NZPVYcLdhgX9Ea65rsnLT4hiW8rdO+hIMjQzqavVunmWoTeAn9ulevsKFhnWSKIFfXSHFIgl3taShhIA0CoW91t+nszbDAcRkYmobsEcTJYMkkBBICCYGEQEJgOSCwOIKgID3wkZqvv9ZQjCVZYe11+EVkEAYN8wMjww+Mz/sm6O3JU7MC8RVHMjEVdt6daQ4oGoOAwCtjC61R12RjVDSwfa8hL5tnPeef8N0qyztjB7T4slbvPIcwNHXK/M41W2hV45GDqEReuKnMbpw3R9OT4nKW4j5CJXqlxBWOULTwWxEwhxvnwdNnZRF5Bm7gxsUEkRzHKup/Dhl6UihG7GZDCyZjOpUgsl7yIyzwzQao/BUBeoL2HSnNxKYEtKWs1fldaHH69VPgYEYK+bKYaEetCY+44D+BO/KftWE5gP4wLHfEnS/rrOmmhAuOALVOzzFZ7YcwfqnjEJvf8KYKe37E/c58tilq4UlSJBnaAimdQpYR96HFlG3i1vLDHxPDwl34ncwvHxbd0c7Tm8ov5pePN1u/PI3ojvZMeIppoj2TtNPh3ccNeq4j3ZhPtBlzeL+tvrvApmwSBtIGxptafuNjJR8h4FDpB5C5Mugi5hEj+oeIKs/ZsBblXXH1Tvv3//F37egbx6zn5BkbGOq3Nh0fv3rLVtvavVqn/nHE/YBO91M9jUirRzRG61vs5PGj9s3//qd28PCrLglu075P/+b3flP79uyWwg/iP+XAya+0hbqCNonWUkC5R6XpF/aPzzGacUUfW9l9Rg/FlbOWgWYUBrFvEG78kkkIJAQSAgmBhMBSR2BxBEEVqDAwCOKMMInU4Fx9LhPLuQuC8h19yDR+kYosjO+uNRkc7xmjl+z6UfHsERnO+JAj8OsaREwzuAiZP1Oasjo4GV3xysQmmsCL7kqjmYhBtU2KmfjFHKJdnZZ6ZPAlk8OPWJhK3MEmF8ljlH/i/kNln7m7Ih+lXN3BT/SRrX+vvhJ2c893+m0g4kme0R25DnyE5lbm14fUEsaEFkiqTBBUKtPc+YcmXPgUOmMHDsJAN0yS8Q4DaMV17IiBb+Q1uqOtoJKJftEmILqjPZFfJEK82ZhAnxKGcTtCoGSWCwLUlWsC5RmuWYHyRP1HtUswV8U7k2D3jYSIMbGZPLR2unxLjjFq+cWwi2HPJf982uiONrxHd7Rr+U0WViv+9P1ywjslGtdGqO38RN3bBtQxea6CT/qdBgLABnY8HLkHBKcHuXf46CKnm9BXjNpwnbRouhtse/cW226brUHDCA2vrLdx1IaK5xR3zFpY5jcyrLEhp7pq+WaBPZ867MYbbrING7ZII0gfw5rqrauz00YkMPJcVfGc9eEagFryP6xlaHXsIyT69eqnYivxvYGcaflFZgOLgY53vCrJuLBSJF8WFu8q2lb0THZCICGQEEgIJASWIAJLQBBE78pUDAFMuPzrnLwRtixNw7Qh8M3AwXWYmJDrqufSwBIbAdf8mmyElR9dOXZignGKX2EwQ/7L1fhBbcA7j4Yay9DLUaXd6Y9KzLSZHLd5zjuX4aydsMTcxW2vbKqcv/B1m7KF9kfLnM8C5FDLOcMzm+Ukf+Crk8p+RZRZl/YiJhSo/gUXyHzAfxHzTlldRAQmbpkTh8wfe7XyqOU3fzlOTWku+efTRne0yTm6o13Lb7KwWvHn6kf6qU2eq6ljpxgZAg6bfvw9Kr8MxuqeKHwwKKNW6qv0BSbG9c9JuhnTQAA/ejm0etCyDpIaaQZpvMgx7h/5+Ie0NGzEJbvqflD8kRRJHxPZB0rryDQSU7+JJ7zJTwKhet0jTPIRgWegn8iv7HHCIPcoxylzn1wJgYRAQiAhkBBY3ggsriCIvtn/1JHrM80on2rU2Xv3rU67oItw77CFc3RHG+iju2wHX9JU+oW+vuwXhxiVNIjFmCAfrzp/hicID8iBMDSDxnQhRChoNFLQQEMuUclGF7A03wbSjh94FbUkiOVoYMiYqIxdyJbIobzBxreWX4wdsAt3s/WL9Ekf3eOxJSyEBizBPfjhO38mUNNvRpZcHDmpn7GcyvOVpy+xU10SDT9c0Yab6I52LT9oEzOftrYfvuPzInVMizsa2lhodwqVG+Op+QCq21ENpuHfw7JyeqR5/kFgyx/L6ErLqZQvKvuYMu/ch5I7g+6enl+ZhpP0n4n9CJ4O3oFW4CDypZRgpiCem8BniJd+EwIJgYRAQmAaCPjrVD+8SLkyE9618U5B5ddu2bPKRRrfxFsOtMOR32D4LuhdDGOvMY0ZpTo0piVgTToBcEQ2m0Rj+DgyOqI9hLR5c2N9g8ZjDdIEkru5Ve96JSto+ZaOow+nw9JzcIX+wwlU/4RMQ8TqsHSfEEgIJAQSAgmBZYzA4giCGA1kk0am43TCdMb5UYL78QVI3TraQsEEN9M2JqIT+5U79nK80I9Xpg35Tu5Xzj/GYzLuX6cYVTCJlEUsDGFc+bIEPufjFw4yg4O8SviF/D1c/pQ7xuYOd7ShEN3RDn5hMBTTZiXytJV+lDcIUgLd8iCqHK92/tAkDfGCGV8HwScLnjerhJzXFHmEfOAzaxtyeN1lIWU+y20A7iNm5TLU8oNmGc9YjPF+gYtyXmV8Ara5lLQr/1cafSFlkAzzfnob6kIL0O7Qa8uy8bxCqeA5/MEd+JE9jzTuqdoA5cJEHKOd94s0gl81XXzLfuEucJbHEX+4HO9HWsoVShaWIsb7SC3ZCYGEQEIgIXCxEQh7+ugNrfFVHerBek0X1cEU6WO0l1Od+rk67S00qquoj1/DEvrUoQGk0SwfQbiKWgbGsfTnTp61/QcP2Ln+8/bUM09bn/XbitXttnO7lqApHn2WG2y6g2QSAgmBhEBCICFwGSGwCIIgeltdzBxlmJD5nz771Eubhok4m9BivF9mclsywR0mcNGzll8IK8dTh8+gQnmiNREoZ/nLKseLNPN+5fxjPEQYbAjtxcgtX4M+k1qERAxQOJyWslHKBTGUBdI+YEIwUNCpGPLjv6pckfdow090R7u2nzBjk0Y21SQNdKV6HU2cPmPHYkZ60fZ0hGcm71/LD3xrxYlx58Mu0Rdbrj6utsfQ0rnMqqsUJ8c7nGHKYeFuvJ/iqF7qNXD1pW7g5m1PLaKiTZOykl6kHe0QQ3EQjDpvoiE2Qh3Ljy+l0JCnXxX8xtTza8MGzyltzssHduSfZRNd0cY7uqM9sZ/iOqHwjPm7Ag89X/7akJvgDArIlEyedvScyC8jyUnCvoVMiFeiHJMnOyGQEEgIJAQmQyC+jHl95l6hOPOGPqtG95eP4m4noR/65mL2vm9qb7XrbrnGunZuFI1hxZMGNOMwH9dp3MWSMGljNxYabHCw15547Gk7eui4tIPq7Prrr7PXDr1qb7zxut16+022a/sWT+fjFlGKfYQXoyY3YqZ24LjYySMhkBBICCQEEgLLBYGLLggKAwO+6ASDoKSOddujDVZflMquZmUFBBqa9I4V1Mn7qGLucKIuzNpxF2gwA4wcuHtm9DkdiVk4fKOvzBco1xCSigaTSvdWAcPgIpZ0ZnlMGrtEEgeX8CsWrGFUKtIssBdbcWAzKZ1pBWqo5AMylrrplBXtf4QGSjiVg2GUAsO/sC0xNi3KE0XypU2xfiaKNEt/ap7L2x15FDXUHGnwQSQfFecVO3BhtaM2qCzqqNp62UEYNEvmnXeenSD5oRwUhnuEcxoGh7DZk58wZcAsBoOe8tIn2oZiowbquteRvwhB58tQnoJOeSnytZfcJIikzbGMK7T5zHIQZp5rCTskS2AouhW0Z04ypUgIJAQSApcnAqUXqoqfGwbgzL+ipyUEUiKWuEPItYL0jua137Gyy+79yqdsqFXHs+uoeO9cvStU36Nw/xCnAVhRewa1tbXZZ+79lI0Ojainala4BEqFMRvSOWWtLU3OIrRDPuQVTG3+YEZXviAxQbITAgmBhEBCICGwjBG46IIgsKI/RYQQem/202m05rpWddQhtEGaBtr1Rlo1Wgc+TRNoVkaOfkxRmYBzDQ0MWXNTi2sWMMHExHiVqSe+g05RM/yGMQmvmBAziUQLSH+cS9rc0CY/CbOYzCJcmEdTyavyRfAkz9bGNu2NWNRa+SEX1HiZs3wpZUyHjan2C0hUxnM/JsoaQDExH1VmI4NF4aeBFAMwJ1bOyYUDoh3zIp/ojnbeD3ctw35HrOtfWKNyCbumuibrKLTLOaz2xoKkcnnmkr+XF+i0TwEaVQg1EQQFYUbAP0+/Fj6VfpGv4Eu18Pwg2HQnSMuzYbRFAfgslBFtZUXbbq5rsc6CTmkRdnAX0KtsW3ARy5G38Q98V9oxfn2D2rYaGELHoaEhH+S3t3Q4fqRA0wrCxMmbmMe0/NSGffLAGjthp7eQktWikKeW3AmBhEBCICFQgYB3OeGdnH+FVr6d9XZVlNrCljI10sRPhR5XHiiJF6X909zebHVN+rCi4+Qb1AdoBRjdQWbCh7748aCjq8OXT9dJ2jNCX8J3u4ZWEdI4LaixlpO6i3FcNX/RQxmV8on5JTshkBBICCQEEgLLG4GFnm3XRIe+u2TU87Y3d9meXTdpIimtCQU0mjSD/A8Ng3xPH93Rhkp0Rxu/aMp+TBi//f3v2C9/9aj9x//1f7OVnSs8hxCzHC/c0+OTd77nj35sYB2mvA1alI4YK4Rorbr+2HEGzQIEW2g2zaeBo2icM7HNCWUtGtzs3naVNkGU1kQJD5CkXBhixzLOzC8IvUastb7dHn7yYfvlQz+zL/+Lr9iG9eudIlhEEwRrMa/oS355XvDP+8X40Q96Eg3WMSlfGOPYiXSDhE1b126xzWs2SA4QWhxaNRGhSsxiKkIjzxP5hfAoHBnRV8kXXn7Btm/bYau6Vin9RG0r0qPcuMvxInf4IXCDN/AOaIV0jiCq8Xp+FtLUS2jSrA03d2zaaTs37xCrnnMOt1D+Mk5wMx2/QIey8Tc8OmynT/XYX/3tX9ktN91sv3b9HS5wjWUjThTmRr/KthV9y3SjT8gDrvS8ZnR8U1HHthwruRICCYGEQEJgCgR4xeo96q/50B15gvjWj6mnEgLFeJAjLfER1o9IcIPgp6GgMZX+GyQBKo5I26dRY54sMpYfmKCPcYzL/Jh5EWBVu7pF3WuEycc5jZn8UAXFJw3CnygAGs+fYhAIN0ROJiGQEEgIJAQSApcQAosiCAr4lTtWJmMN0sygp0V44lo26OyqV56PvlfjCDt2/JjtfXSfHTt4yh7/6VN21113SVtjloIa0fNRgXjkaxOmXloF9fWoIMN28J8P3p14rZ9IXHlxQllzfauEQtlYhc9nXPNgKN1wcdj6egftlz963PbvPWzP73rBNt61WWvxpaKNCRAE93z8qmxoHM073RxJ2hwiFbU8DQzVDny5X8Atfo2cc1FUDgRlh145ZPf91f1255132u3vu12D2Vk+dv48RO4y0F1WpHJ4XnCscA2E58vQzLhKFLnxu4I11aNZJ9EjWjku9JyfNkcOxWFOfWm1J/c+awefesVGeszedf17rbOrM2TP6J8GPxfjZakiMMtXQhWVdJsQSAgkBC5PBHivzuXVTNqYnsGbv+o1KlS/Rr/AH0uF+WBU1DgnfsQB7Lj/Hp/q0L6lX2Rjad93UrQKSuefeiQUGqsxRgrjNyglkxBICCQEEgIJgUsfgfmbuc0AK7pi7+jJXf08X3zQruEPDRem527kT9i0LlJNEHdE+4zsfV5CoLdO+EDiiceftOPHj3v8MInNssvTyLur6RKmMpCfHOHK/BDK1FEGhaE5MZ+mlBVEM9LkxU2wlTf5Ow/wmP3BP3/RzrujH7Yun/UHip6GOX5BR68++ugv7blnnrPB/iF76qmn7cyZsyE+vMhkOZTzyOhV5FvtF++xI0+4fYI/v9gFLit/aYfghhZQEGQgEAp151jl+ZuGm7bkGOayKWpZ2JNPPm2vvvKqPfvMs3bh/AXHOCtxGbd8+aM72hEf8enty+tYfGb8Q6tUA94ecgzMg7OiJvwm+mAj1Cq3+VI9Rt6x8+5SWeQbMVW4P4c5XuslpL1w7oI98otHhFmvHT54WM/wCyXsKC+mRCNHa9p+ame0tdIlGskkBBICCYGEwAwR8FenfhAC5UzVbVCuyYXXdga93HoJ+4t8/FC/Si/tx8Prfc2C/CH5cbqY0+fDGx/EMttVhNTv+rJpaRDV6YMVFOTlS9xZFcZHIL7hRf7Yc3pyo5ipe5gcohSaEEgIJAQSAssOAaQIF9Woy/Y/z5SONetcw7SWX3ngx5f5GD4dOxMqkQY9IvazidfxE8ft0V9pQqkjRAtaX/7KkcP27PPP2sDgAN+N/I/9dTj1qJRnjl7Jr5oP4jAPDnPhMCmFbeIRxjWPJp+9k808fMCDVkvMNEaMPER+oo1/dOdscIsY4I5xTvWcsh//9EEb0v5D7Nt04NABe+nll0J2Sl9KV003R9tZ4z7vF+8n8vNCLuCPV5RaHMIT1woSI3meZuKGTcWnHdHuHD+RPXjwoP305z+xwZFB2/fSvhJufsLWRO1tMhyreSIuF9Ufm4Cc82Xy2ZVoumeGmwpdl8eumvfIH2nyYdEtf7BAGBOxA0eq5Mmnn7R9L++Tctuo9ekUmO/df5+9eexNjz8mDbxSG3V+RD+fx2z9SoVMjoRAQiAhkBCYFgIuUcmNn7JEvIbzhi5vSqM4CIEKLuyBpsQ4uq/T5UIhSXB88+coCBJB18LOhEH+gYfORvciof6YZWJomkuE5BsFIUAKgiCEQfDk28Q5nYm4U0TFSyYhkBBICCQEEgKXEgJMxy5Jg1YAgwY2mn322Wft0KFDfs+Ec0Rry5944gnr6enxL0SoGQdV40sSihkXCtwQZvjEWqnB6pVXXtEXtVFr0kbRff199s///M924cIFn7yTAXhfzgYhBgYcaEvY/f399uMf/9hOnDxhjY2NdubsGXvooYd0tO2gx/VNpBldXt7QVbSdAl9whd25c+fsZz/7WQkr/PYf2G+PPfaYP8cAmJ5Zb0bpJyGQEEgILC4C3odlwpKcwCTndP4km1nSZjx/YtilV6mfXtIVl5hLCCQEEgIJgVkhcMkKgkCDieLAwICWMj1lfX19PoHkGG8EQQg2XnzxRZ90hqO9L2koptU4ohADQRATcmyW0D388MN+/Dl+YIX90ksvuVAjTtyJezmbKPyJOCDkOXDggD399NPW3Bw2vm7QCWL79u2z559/3qEC72TKCNCWwI0L4SNtDIzALeL6+OOP2+nTp/2eeMkkBBICCYGEwCIj4N1/JizJdWs5pzM4LY2gRSzKeP5UJpcOqSSX9xBnEWslZZ0QSAgkBBICC4XAJSv9iBPHF154wfbv3+8TyjhZB8ze3l578MEHXSuICWiMH+2FAnw50AUDLgRmaFMdPXq0hF9+8g1+x44d8yJd7rghsAAD8MGNNhDaK+fPn7fhYZ0mlwk40KJ64IEHtMfSmaTRkj0Msb3FZ+Ott95yjMCRC/x4dhEIvfHGG/arX/2qhHNMk+yEQEIgIZAQWAIILGOByXiNoCWAZ2IhIZAQSAgkBBICC4TAJSsIYgLJZJvlJUy+4yQ94sjE/NVXX3UNjfxElHTJ6OOXhBpoXqDRgjYVuETNKdzghxAIDQ38E26h1UStFtoWmj/gErWmiIF77969rqUWhUOXe3vLtx3aEhp8b775pmNHWNQIok2yrA4BG22P+2QSAgmBhEBCYJER8GHTeK2ZS+cNrZKkoeEiN7KUfUIgIZAQSAjMNwKXpCCICSITykcffdSee+451yZg0s2kEs2CaNg/CO0MBB2Yy31iSfnBKQozEAKxPAcsIz5gSBxwZNndL37xC5+0e4TL/Af8wAVtMwRkp06d8jYXMY3YgSe4EZ5vj5crfOATDcJHnlnaFjiBaXwuicd15MgRFxahKZRMQiAhkBBICCwyAi7xyYQlOYFJzrnIDE4v+/FLw2K68UKuGJLshEBCICGQEEgILFcEOO/qkjNMuJkkojWwdetWa2lp8WVO7HfDJH3Tpk3W3t5eEnCwX9C1117rk/ZLDowZFAjcMEy8WdrEEp1169bZhg0bfLPjEydO+FK6LVu2WFtbm8djE2Rw3rhxo8eZQXaXVFQEFAh1wA5tFpYvoYkGpmAUhRbYbLjNckWWLb773e92jZeI/SUFygwKQ/kR/ERNn6uvvtqFPmgA0Q47Ojps7dq1jifx2EwaLOP+SzPIKkVNCCQEEgIJgflEQEMHLeQN++ggFApDiXHb6rD0amJhy3wyNDta4/mLDCeNoNkhmlIlBBICCYGEwFJG4JIUBDEZZ4L46U9/2ifZVACCja9//eu+FOxzn/ucXXfddT5xZwIaJ/FMMLm/nCflYEf5EZR95jOfcTd+aAl961vfsp/85Cd277332p49e0pYEcbyncvZIASKGixos9x4443exsASLRc2Jt+8ebNt27bN4yEcAjewvdxNFKBhIwDavXu3C27B7uDBg/aNb3zD/T//+c/7cw3OxEXAm0xCICGQEEgILDIC6sakuxkEQJkQCI5w5nu4pSwEcn7zzOIB92mzaEci/SQEEgIJgYTApYfAJTl7ZwLJBLuzs7Mk1GHSjSYG/q2tra5hkJ+E42ZySdrL2cTygwfCIO4RlIEfuHGPNhDYMiHHPxlzjMAMfNAuQ1AWDRtuv/7663bzzTfbJz/5SReaReFHwq8SOwRkCBVpY7Q72mBse93d3e7GH5zzz2/EOtkJgUsJgTgvnc9eaSY0pxuXePPJ40zrcLp8zpRuij89BFwIFKOqMsYk8dHIQbbe0/KP4e4fK8vjx1aDJ+5oExjdeRv/fDzCMNV+M6Eb+IUS/KljcdvlP5E8vLgUi2XMacwD4skkBBICCYGEwPJH4JIUBFEtTBTjZDHaTBy5mITHOHHyHu894DL+iVjlMcKvlmGCPlFYrfiXul/ELAocIzb448YfzLCjybe/6He52RE3BDyYiBt2fGbzmMT40c6HJXdCYKEQ8ImiiNd7O2WyqPZZF/qS+tKEURF8wigPn0nmudF7NHuVRlqE1qtPGpU/fgTXk44bkeaJiP6TTT+J40aOulF+dOesZbQyIuTDjm/QIkrcnQt3ZFtOmPB8RxSLMI+fZZIvFmEY6DgNbOJl+eGJM+YzWRkUbWYmx492E/N8KDKX8wWj7pgZ2RR7ZgiA/PDYkI2pzainC4nrJATSfdFG/BkJTTq0JW8fpSxiBcUGE20iRHfexp80U/nNhC40KYWWJ8cnLmvEdWK8zrdIVHh90cuj4wsUM9InbTKXCwKMSRinxLEK5U5juMul9lM5EwKXJgKXpCAoTiSpsrybF3a1ieHRrg6/HO+rsai+B5NafpcjVrHM1UIJ8MkPEGq1vYRjRC/YtTCsxii1u0rM0t3FRSBM/+hHwkQ09ih+F3/44KCJsElIFOLzO8nEUUFMQ5mIVsQTPb1GSkIUJz9FcdG/QKshTLxD/iWq0CO9/5QJQRdT6Q2liU0M8zTQlQM/v88TyjzxwlmKMzHp6YdkRKEpHcHKdPOaUSXpdFeNAGKRgtWPNFj9UIMVNKocqx9WnfBH26iXgEgiQNVJuZZiBVXb0J6pXzU/s71HsEvukvzo+XUh0Jh4H9Ey7jGVS1coQbkUs80ppVueCDCO6+rqsu3bt/tHvbSdxPKsx8R1QiAhUEbgkhQElYuXXAmBhEBCICGQEJhHBJB6YBD2YvlN7scnk8EX4U5eeyAfFzdX0JYJ8Tw8FwmnK/bkyE/mZCI7Kr5QYuAibaP8nKSYxc53+u4vPzf5G8Wtz9/HODk7H5x352mBD2ZcePCe+29GOGoBRTtmWLN+5p5ropBDwMVAxUbrblxlzS3Sdq1DCKQTHaURhIAOPSHtMhirxH1yyZeIUw1JQh9vr3XSYnLOKZlEWFqq3DjWZC3WpodKLazUyJYI64mNi4YAy9bvuOMOu/3220tbJVy0zFNGCYGEQEJgARDIjwkXgHwimRBICCQEEgIJgeWPgMscXLLA5BZhS1kQVBJ0IInRv2tC4NAV3KH8cQ4Zl8dADsGN+2dSiyyLoEGhmyiQKeVRA0oPU1z4cmGQ4kCHi/ydBjcyeTp5twfLI9IiIXyVEuQi48zdltwxzywrUlfMm/NpPHAOP5SLfOCxQQ7cjmvGHPdcmPnMN1BMvxEBNGfa6tvt2u3XSUqUoRkAAEAASURBVDbKIj0WFKKVxi/CFdD3lhT85YNBzIIe3GzMXNLWyg96CIKcrq8Fo3Vh4L5go5KqulaTx0itKWBz+f2ikRz3zoyHgyQt5cuvHaQSJwQuJQSSIOhSqs1UloRAQiAhkBCYHQLMSXNzvIrbOF+NUpVcvFJmWYL/n733gJPrKLPFT+eeHDWjNEE5WtkKlmTZsmzjgG2MDRgwGLywDwxvd2F337L/t8t/WTbDssvv8cjZGHDOOFvJlmzJilbOOc1oRtKkzu+cul0zrbFklMeSq2a6q27dSvfcutVV537fV1o66rSx9UNfxIxO6WOy0zfZs+l5KE0U89GJNLVolC6QzcS1R1e7TEavLJNPX0onR1/lBJlGxE+aa++cKjrL8JJ736ZoNtCSRypGZIq3bPfKtIXYNJ12frwivHIZVlm512rK0lfWdZI0NuIsfZEIpgnZhql+6xQve0gWgdxzNo3zzx0CHpGi8jSlFPnj0T8iUbxuYu+AF29rtrH2+HT8s8n7znp4BWooPz7LvJqrUL8mUcvKVN/xrX9nKS7m0kZAqmF2swpLAFn/0r5yd3UOAYfApYqAI4Iu1Tvrrssh4BBwCDgETg8BLQa54vMWrx4hw5m/iTAWd8TQcFVoyRJDfDCxXfimU0rA89qQIMkQPbOA5FeKiwhfQEc5zlYkPa6sYzKkmExkzDvIE9WVU4Sym0PTRq9OI8lDtsYvY70qQAmyGyQorDxee7WstYVJOoPxrNxPY9PJeAqtTUeRiidQXFGGYF7IUzljck9ugolznPJpQeRjO1QmTQWbs7Z0oZJhuYFgJ42Uk/vMgipT9UjpKN2exNHDzQaboooS095MhinYAK8NtiVnVpfL9S4ICFp11qwzfcqwl+pn3XHvfmxz9axvWqUuq4AeMPnqz4wzz7ii+VG8Tjn3/kRAY5w2/LDj3fsTBXfVDgGHwKWEgCOCLqW76a7FIeAQcAg4BM4OgZzFnxZ9MmKeSZJySCSxcd167Hp7Kyp7VWHIpNEoqChCkonMIlEEUfZPJFDL7iZsXLEKpX17YcDIoQjmB7mA8BaWdkEp+iVAvqJh3U5sWbkWvqIIhs+ejGhxoXcNSq/CSepIBcc6RYnMyZB4CvpJrjAiEYth9YuvY9WrizFqxmRMvG4m/FGeC3at0jvzMYMpzTRIi1se6V8LHX4ObN+NR3/8C+zasR2f/eqXMGjKeO3/xFqzbRALI8dDxUohSLupGckmHnsWYUwLkSYhI2JMkhY5JSj3WTlzLfpiW5r3NOBH//otxFjXPX/5JdQMG2BEo9KZFHm7c0c+nVWDL9HM5i7rxp/QKV733fQw+rphXi86UV+4kHG5dZlwt/6pVneSQNl+7rXduxZzIe7rfYmAkwJ6X952d9EOgUsSAUcEXZK31V2UQ8Ah4BBwCJwNAobyIFGSpiSLn+QIQkFs27gJv/in/0Zd/3p85u//HMOnj4efv6JmuUsSIsDFpA7SyQRW/OFV3P+DH6NqUC2++t1/QUm0XEIGZnFp2mXEfSg41BbH3EeexgsPPIz6SZdh6BXjgWIvnWkD0+UuWu01dS5HReZQ9Kix4SCefOgRbHhtOZavWolBLKu8Xy8mN6V4VWaPVJ5H4ZhAZ1jXmpHRXJJeu9dvwZbNG9DWfIxFSD3GM0KtazXUileIKT5JIyqhrKxQOpHG9s1bkEwkMHjoYARoQDhDSShtzR0wbe1qj639THyzUDdg+5CIJ7Ft9QYkSXp1tLWbLb+1e5XB6BzWeSbtfH/k0T21HaL7FYsG0rnOHmsSnKgXXMi47nV5UmxebO45Gz7Z1XW/WnfsEHAIOAQcAg6BiwWBrleFF0uLXTsdAg4Bh4BDwCFwPhDottoTBSPyxqiH0Rs+YgTqS6rQsasB+9dto+pUklSE9hjyPuIcQCkdkREbFyxBqDmGPWs3Y/uyNR5blC1f6aUNpvRNew9h58r1yE/4MHHkGBRwe2KjKaa0WRJI5AuzHOd0aKSVRN5QGicY5M5N5WXIryhHab/e8EeCSNNgkLE5pGvQhxV65nt1ZdkC1Qh+tEw3f6kMgpRoKiK1UxSKGFtFSiKpH2+xrPQqix86QwxxNx1jk4dgtR85hv/7/38TP/m3byMV4+5Rysv2ybj2uXyTruoNQcf2+vgp9EdQGIwiwJ2dJH0kY64EhrVmG2pa677ONQKd/cYQgZIF00dbxuvPM4SuiabugzmmmI3sZ+njbdHeFbZxuefPVdzJ6rLxHi4eaWU4WnZoX/ajNtgrs8TQucbRlecQcAg4BBwCDoELjYAjgi404q4+h4BDwCHgEHhvIpBd5dnFnha5hkGR2ghJhT61NajpX4NMawe2r1iP9mMtRmLIEEbmikg6UCpl/8ad2LZuI6IUFwrFMpj78FNItscNaaJFpllocmHMIrF9zWYc2rEXYRI5I8eOJqGjBTTJE1O1Fss2PSNzOA3VqR3HKMBjCJay8grcfu/dVI36Mu75yn0oKi8xdolkm0jZZKPHcD4iTriw1ZJXdWQoTaSwCte3uV5miGaC8MepuuYLmjZQO83Ub5rgJTTlirQSSWTsIjH+GImgxh37kBcgicS8xqmdCpgGmGIYZIwixSQZpqvr0KTtTK/2e3+KsullTDughTrL1l9Iuz4llNPL7cV63yaf+zpvCFgyxfZVHXt6VV2+F5e9PdnbZNPrlplnIsc/13Enq8vGq0vbPmO6ULaNNmzTnTcQXcEOAYeAQ8Ah4BC4wAg4IugCA+6qcwg4BBwCDoH3IALeStDwIArqx1ESJ2YXoYAnZRIpKUC/SSOQDvuxb9M2NO1q5O5c3Fiai8ZAkjIvJFlkH2j9G6vR1N6OgZPGobqsF/YuX4+dGzYjxkIlqOLv4BbblJJpb41h7ypKFjW0oGBIb5RNHMT6aNcmmUQbGY+kJFpExsTUIjWIzRNpQhJFBE+K51O0gyMbQn62qXb0YEy/bQ4GXEaVLD+lhNgYqXGJxEmRJMnwk+5gO2nYSNthx/hJkwiStI6x86NqWGaGxJdfRFAyQAxUAstnvVGmk2SESBxJIakNbTyb5MI/xguTVFC8uQ3+hjgimahHVGl5rSbST9PWUpxqc3HmiwsIETckyoSZFtwixpIkrBIsO63zxEF7d6cySbaPLZQx7rgqFN7CnYCwrbxN5N/4pe3LQyyH/JOMupq266Rz5xcBQZz7UW2dxwzoHphPTrwesM40pxk+m7wnqlPPFf9UrHFKowP70bGc9b0j9+0QcAg4BBwCDoGLGoHs67qL+hpc4x0CDgGHgEPAIXB+ESAZJDfpqiuw8KFncHD3PuzfsA3Vk0jeiMQgueEjqZJsasOqhW8iVFqEy2+egxXPv4oVcxdi64q3DYlkJAxIUmhN2X64CTupOtZBsuOa665GUZ8KxmonLCBPS1Oqi5FlQaKhCVtXvY2DTYdRO6getaOGIVwQMQtVH20XJUiaiGhJNBxDe0MrgmV5KOpbQqEMEiMJGUwOIsj95OONrdi1cR0at+xARb9+6D9iGAKlpbR/xHpIoCSS7TQwnQ9yLMbwcl6YZA6JI5EvyQPN2LFyDVpbW1A3dCgqBtYiUEhpISQQjsmEUoikFdC6eQ/KjqWR18J6O9iqNMkoYheIkmBiHbpykUpguZmWDjRu3Yud27cjSKM+Q0ic5fUuRzrKNTfxZEZKXCWNGhHZIfI8lF462oF1K1Zj/7496FvXD4PGjjGaeykSb8GoDAORpOLliHdgCUKR385dUATeDfLcc7nh023g2eQ9QV3HFXfcwQkSuyiHgEPAIeAQcAhcAgg4IugSuInuEhwCDgGHgEPg3CNg1JdYbK5tm9LB/VE7fDDWvrYM295ej0nJOYhT5CZIsiNDm0GHtu7AfhItVYPrUTduOA7v2YO3RAQtextXHLkRobJC7qQliZsMju1vRPPefQiV5GPAhMuMdAtP8hzLas/g8OadePZ3j2D5m28idZgkj0SPwkH0qarGDTffhAk3zSbhlA8fpYGS7TE8+5tH8PwDj2PKrbPx8b/8HAL5VM+ixFL7oWOY/9un8eoLz+Fw4wEUkBhKcsv14vJeGFszGHnlhWgqTKJ0SD9ce/ttxq4QhYFIACWRZL1/+Mnv8NofXkDsQCPa29oQjoQxYfLluO7zn0SvMYMM+bLm9aV45eEncXTlVpQGwjiyaTu++fn7SP7QgHN7K+786/sw4aqpJItSJKsasZrp//DQY9i3aw93ZSN+ujSSQZNnzcCMO29Cn5ED4csLG3LNTxKrne1Y9NSLeIp5GhubSO+QTWKm2qFDMGvoWIQzbLDUwySWRCeuySOCPMEOE+m+HAIOAYeAQ8Ah4BBwCDgEDAKOCHIdwSHgEHAIOAQcAidBIJcEUpJofh4uu3w8tix5mztVrUOs8RgCVQVGfUlSOUvmvoYESYs+w+pQVN8LtWOGIb+sCHsp+dO4cy9VxYYYFaoIiaBD63eidX8DqkbXoveQOmo8pQ1BJFWuhvU78MDXv40te7djCLdvHzd+AnwV+WhtOoK3np+Hp37+ADWnkrji7lsNcUShIgSOxOGjmlmqtR2BUIhECOmS1jhe+tXDePH+R1E7ZACuv+1mFPetRIxtfHvBUix/4TUE8oIomTwYhYP7UgHLMwltpHaoyvXsY0/gWKEfwyeNwcC+NWg+3IhVr7+JxfMXIEVj1Hf9/VdIZBUgFAkhrzAfsfwo2nhtGRJW1XU18JEIiiU6UFBUII02dDQdw8u/foTlPomS3lWY9eGbUTtwAEJUgdvw1kosXbgIDYcO4Y6/+h/oNbyekk5UYTvcgrm/eQzP/PZhSixFMfvaORg4bDDVyOJYv2ED3pj/GlqOHkU4SummrDSHSCCRQZ4cl+6ccw4Bh4BDwCHgEHAIOAQcAhYBRwRZJJzvEHAIOAQcAg6BHAS6k0CSEAqEA+g3fCBKK8txcNtu7Fi1EUPmTECKhqGb9uzFmsVLScykcRnJm3BRBHVjR6CkfxWamXbLopXoNWwAVZ9CSMdS2MvdwhId7VT1GooIyaIkqRvKwCDW3IoXf/kQtry1ClfefgPm/NlnUMat4BN5lHrh1u7Dhg7D49/+MV587CkMuXoKSSQSLpSECdP6cx63CQuKFDKMiA+Hd+3Ha8+8gOJIHj70mU+i/iq2NV9nfZRYGomH9zSgubEBH7n3M6i6fCjJlAiOZhrZDkol8XrDxfm46z7mGzkEeXlUG0vEUDN+FH71L/+NpYuXYNamHRgwfTQGUPqpH6WgFv36STy7ahP6DeqPT/zlF4ECEVIZRCn1JGmnLUtXY9ETL6AslIdP/8WXUD95FMIkj2QLadTsqSgpKsGiR5/BuvlvoYrXJUW5PWu3YPGzLyNCSaaPffELGDN7CqIkncTyXH60GWufnI8Hv/V92mvSzSP9RRbImgZyWj45HdoFHQLvEwROJM35Prl0d5kOAYeAQ+CUEXAvy04ZKpfQIeAQcAg4BN7PCBhiiK9Pyur6oLx3JTpaWrHk1deMMeQAxU820g7Qzo1bUD9oIAaNHoYM1cWifUox5qppSMZi2PD6EkoQHaEaE23p7GvEukVLSIJEUEvjzn5K0MiJoNmxdhPWL1qGomge5nzoNlTUcDv4EEkgshphpqsdORQjxoxF48EGrH17rUd68NdcpIf38ezwSELp6MFGJEgsldIWUNWIgSSTgminYeV2GpnOr65ABe3stNIOTzpAEikShV/2fMiiBKiulWad1955K4ZOHQs/VdoSUZZYlIf+Y4ei7+CBaKFdnn279vE62WoSSHnlxUjm+dEaSpu0UeYpqChBQWUpUlQni1FSaR2vq21vI6ZPno4hk8chUiCDQGw4pYsK2cbJs69CWSAPW6h2l+hIUG0sia3L16Bh115MpDraxOtnIUpVNm7JRkLNj8LqcgycNgEhEla0gU37QCqMRRJjTXC8IxPlvhwCDoFLGIE0jczLydcnJYPzJ3AiiSxRZNPZ49zkNl13X2ly43LzdA8rneqQL5cb7p5Wxzb9u7XrRPlcnEPAIeAQOBMEnETQmaDm8jgEHAIOAYfA+xMBkigF1WWopLHkjcvXYs2CJWg/cASBojC2rdmAWEcH6meMR2lNldmynawK1Z9uwqIHn+K26ntxeNtelFRXYuvStdi7dz96Dx+EOkrbiLUIyjYQCZidG7ej40gLpYCqsZtGkXc/sx8RfwhtAS5sKG0Uof2gNkrxxCids3vHTsbxVjCetpSp2pWlPmQrh5/8gkL4gkEaf86glVu7l/gqEOFOXWFK2rS00AZQWweCJJeCJGpEm2ibbymHJcmkxEIsOC9kjD3LeLPd/SvgD6Aor4B2kcLoiFEdjTl5mUbiR7uaKZtsICnKGH3WMdt2pPkY9m7dRQ4nREGhKFa99BraSBoF42kU0jC2n9i27DmEWDqBHXt3mq3oi6h2tpWkUIA7svWlapu/VDud8TrNtXpET5rqZ0k2wJMI6iJ/RAZZOBhyziHgELiEERCJIvLHz8FGRIqIe8V1l+y0EOSmsXHdfUvg2LJ0rPLfzdk8SpNbt+o7Had6pP5rdkD8I3WeTrkurUPAIeAQsAg4Isgi4XyHgEPAIeAQcAj8EQS41ECkOIq6y4ZiyR/moWn/QW4lv4OkTQUO0Eh0fkkxBk8a6y0AtDAhG1FYW40B40djJ+0KHVi/nQaOh+PtN5bRyHMY/WlDqLxPL0N0+ElmaJev1NFWLmQy2Nt2FPf//jcgz4Eo90Rv177pJEtCCS4wUklU1vZGcRFVpEiMZILcBp67f4kMkXFlS4BU9O+DMVdMxoIX52LRc6/g8vBVKMwvRDtJoJVUY1u9dg2GTxiN8v59eeVkTkgEySVlqIjElKJEqMhOtXEkZPxME+G28iEyMgGxMjzHlGb7d2Xzs+0BLcD4MfnZGMozoYOkU1tLGxdrGSxdspS7ri1BR5iSSCSCirQtPKWRVEi6ogBFxCzNxU+KdoqONhzmZfsQrSozFWk7eZ8MQ3OXNrXWfFiV1OMM+cOwIrOXYs4zxjmHgEPgEkfAEi8iTxKJhBmHbZy9dEsOKd5+7LnuvsgYm17nlF7H3eO658tNZ89ZAslK++jYxtk0Np8ILUsAKc45h4BDwCFwPhBwRND5QNWV6RBwCDgEHAKXJAKSlglQZaqO6lmVfaqxa/M2bF+xFoljddhPaZfe/ftj8OVjyEKQCCGJkSJB46NNoOGTJ2DLgrewafnbGDF+IrZQ3clPdaqa8SMQoSFlQ7SYF8YkTbIkR68Rg/AR7swVURlEM60yRZaQaPFJBIef4qoKShFxK3aK4qRJosjIs3gQqUiJDwpUFOG6z3yMRqZbMP+hp2nkejmKaF8nTiJpw+GDGMq2zr77w4hUFlHFS+SNMotH8SNEm0NBkitqliSEyACZhZDIKIbgp/RSKEs6aWHkMS6eb/ghNZof2QjSv9JKEslP6aOb7roTvvH9DVEWTnDXMKmisb1JtUGCTxWFKKosAbhdvAgnvRBPa2sxU2SK0lOMU1Us30diLMw8CbVR/9l61W5mc84h4BB4HyAgUuXw4cNYvXo1hgwZgr59+3rjVbdrVzozXjFefncyJje5zuuTS8YobD+2nNw8CitehI8tO7cM5RXJk1umzb9p0ybs378f48ePR0FBgY12vkPAIeAQOC8I9BARpMmcZmpZ1+3QzOTMqZw0Nq3zHQIXIQJaNJk1Htuu7p7rXC/PReP8hN8xxJyfalyp7wMErAxKn/oaGlAeih3rNmLXsrWIH2xC86EGTLv+Gtqw4QTePNjeU5+m9EztGBI+xYXYvWYjNr6yCMdou6e0qhz1VA0TsUQOhxIt/FCNK1pRatSyfNwJa9DwYcyXjxQNC0kqxgjqsEOb4rnY4GqCRBCZEFIesvOT5WW8gUYdX4QR/9vjMYwaPQp1g2pxNN6CZEEEo4Zfj9Hjx6KsPw1R0wh2gqNUpJNgSdOWkUw1k4Bhfgns+AxLxANGard2SQaZgU31ZMkeqaZ1UDKJskt0bBuTpNhoan4hSvtCBWXF2J1JUHrJj9HjRpMo87KqaLVdRYnviTGPyk/6Y9zVLIQUt0XLtKsVdFRNSxEro37GxvkoYUR6iXEcaYUh86sc+2HVzjkEHAIXMQK5RMqJLkPSP/Pnz8dvf/tbrFq1Cv/xH/9hiCBL1FjSReTM2rVrsYG7DYo0CnF3xYEDB2LUqFGoqKgwRds8th7lbWhowJo1a7Bnzx60trYakkb5Ro4cieLi4k5iyeax7ZVql8iddevWddZXV1eHESNGoLq62ibvJIVWrFiBv/u7v8NNN92EO+64wxBCUe6UKGfL7MzkAg4Bh4BD4CwR6AEiSO8GNUXU9JJTak7ajNOMTbM1M2OzkXqXd+6mcLI/oI83PaTn3B9FIPcHUeHc4z+a+f2egJMHuTTVF8zb+W6LEwuPngTn3olAbn87Xd363NLsYlBx5o4owjiNM3Y88O6VFtXOOQTeHQHaqOFfoJRGk8cMRfTpCPa/sRbtm/YgSuPOw2ZNQjrCXzeSElLV8vHts4iN8to+KK7vi4bV3AHriWdBS8uoolpYVf/qTukeQ6qwC/Ya1g+pynwcXLcFDW9tQd8pl5mt2kW+GJKDkkYq16RXHG3uUN+K0jU+xFmZJGMkVRMgP5RpSuDZnz6IzZs340vf+t8YduU4c3nq6fxFZAKSLSzDo1goBcS2Bqiq5U/FSQzxI0kj/mpH+JHUToISOx28Nj+lePQoJcIa3xgmMyPJnDQb2Rqi7SBKE2ViPM5neoopdVACKVqaj2JuUX9sYQdWLXoDo2+fA3Br+jYjDgXksy3a8Yw/NFSFo8dFWyYURNnAfkhwgXR06z7ql5EkImkVJ1GUz3QR2RaKkwTitSd0OcrP9oMqZz623eB0DucRLN05h4BD4AIiYFWpgiTJrRPBYo/Xr1+Pn//85/jpT3+K5uZmDB8+3BA1yicSR3MJ+S0tLfje976HH/7whzh48KCxv6Py8vLycOWVV+JrX/saJk+ebKpQXknzyBc58/Wvfx2vvfYaOmgDTk51RyIR3HLLLfizP/szjB3rqQNbG0WqU/l/8Ytf4L/+67+wdevWTuPVqm/atGn4q7/6K8yYMcOUZYkqkUo7duzAf//3f+Phhx/G5z73Odx7773o1auXKc+m0/WrbSKy7FxJUkbOOQQcAg6B00Gga1Q9nVxnmdZMPm0Z3dddmllywOZ0jh9LCNnEZ+pzQqiyOEPM8K2iefV6Tss/03a99/N5b4DVziAx1LteM0vnsXzn3g0BGV3lKoQLtyTfXBM72bVgv9OHS6dsVtvX7fG7lfj+Oidk/FrIsa8FJAZhxoPT73d6+o2tEvqesz5XjQzqjljXFbIxzncIHI9AkoSGJHP0eA+6bASNF+ejsbkFB3Ydxqg5U9B/2CAkKfES4Fbn6numhzF9AVW0xl85DX9YvxUbd29FjMSJ1MsKiou8CtTFsx2wjjtyjZ8+Ga8+9jR+/+tf4e5eX0TFiP58DkhCUfol0R7D3m07+Ia5AaOpchYpLBB3QlUuGoGWmpXaJ+kgrguYGu3HjgHN7Xj9xw+hYcUaFNLWTh7rjfjC3La+lDtvVaKgdyl8Bdw0Xj+VWk/IMBEXMvo5NssLkU9GRYsV6adZ8Vx4JLnjmJykhgIc7/KCISOpU8BHteNQM/LCZSwjhiLuDhaiFNLIyeOxau5CLHnzdYz+wysYfv10GrRmvawoHU/hSEMT1e020+ZSb/QZXEtD1iEMGDsSi154GUsXvo5xK6/l7me1JN3YKhJSzdv246Vf34+mZm55X1lm1Nu890xsEJsqMslH3JxzCDgELk4ELKki4kNOZIiIkLfffhsPPvggHnroIezatQt9+vTBXXfdhU984hO47LLLOi9WhIykeP71X//VfCorK3HNNdcY9TElWrBgAV5//XV8//vfx9ChQ1FSUmLqiHGnx5/97Gf453/+ZyPNU1tbaySHysrK0NjYaOp/4IEHsHz5cnzzm980UjwiiEQGqX3/8A//YEggET8ifEaPHg2VKYmkpUuXmraIwOrdu7epT2256qqr8Nhjj0Hlzp07F//4j/9orvHOO+/ERz/6UagNIqB0TcJBdcnp2DmHgEPAIXC6CPQIEcQhK9tOztKsDLeZAXPiJicDlZrBmUP6ua7bYe6pk4Y5WHrLbxZowjalN1G0R84/EQLCzMbzvlDFwTitgpx7dwSyEKk3ex8vwiMlbFbboR2eFhHjEw4hk2E/07PL9Z7nzqjfMbP0btSR+fx7zlvIK2zqoa8z9qzinXMInAgBkR2W4KkmUVE9fAC2LlnJyXmIBqRHIEr7O1JUMgRk9vdGEjWhkOwBjUSkdxmad3Vw2/Qi1NFIsy+a/RlW5zP9nNIwJYW4/sMfxJa1G7Bi7Sqkv/t/MfWamejDBUPL0RZs2LwRb76xGAFuPV9RXYW60UM9coYSr6YYqVHpt5UDT6AkD5Ovmo6dVF/buHQFdqxfS9UtqoqRZPXzWsL8va3p0w/Tbr4O426/DoHCqCGRpMoVI3md4rOjMmWYWZUYTpZBGZNOUOxIUrbm6eKzqZ+HKhI4YZJQe7dtx8uPPI7qQf2xev1KXHfn7agdPRxDxo/ChNnT8fKjT+IXP/gBZu3YhgEjh5FU8qPx4GEsX7AQa7dswAfv+TiqmNcfDGAQ8wweOxobufX8L/7unzDzlhtRXNMLh440Yd28xUgeOorK3lU4nKZck9rDBkteydhzMu0+0Z10cQ4Bh8DFgIAlgkR8SKpH0jXPPfccfvOb32Dbtm1GWkYkyb2UnJFtncLCQnNZ1uCyDhYvXoxf/vKXhkT5/Oc/j/vuuw/l5eWGsJHa1yuvvGJUtYqKijoJFhFEP/rRj3Do0CFcd911RmJIKmQiYuLxOBYuXIh///d/xxtvvGFIn2HDhhlySaSM7BSJzBFZfs899+CrX/2qaafapPpefvllktlRiFSyUj5qpyR8rr/+ekyaNAnz5s0zJJBIqn/5l3/B008/jY9//OOmLVIvsypjym+lgnLLUnnOOQQcAg6Bd0OgB4ggM0Pz2sSJqJEs0YTVTDWDZuFnuCFO5jyeW1PQLte5juuKOqVQipPBpC9C8fEo7RCEOUH0Fpim2lMq4f2bSHdHHSVJ9YOUP8JJNu0zuMn1KXUI0WYphKgMybdElBAwpEY37Mza75RKe58l4qOfpMRCgkopVCohjnoDpsXo6TmNIN7yODuWGE/PvzfqmPMSpzjTweX0muNSX+QIdPZBkh2h4gimf+h6LFu1HP1I8FQPH4gAt2JPsD9pYi6DzvozSlTsulU1fan2VY8dzYfQZ2gdBk0aTcaCPTDbNQ00/O0T21I7YjDu/asvY8HzL2PZgtex9XtrKVVTQK2nJFr5VnnYmNGYfM0sVNb0IT9DyoM/nB1UsWrN81F1imQIySA/RXsO7tmHNbRPUVLXF9OvnYGCqhLmb0drWxvVtRJoWL8NmxcsxUPf+wn8ZQWY+KE5xm6P1NoyhfzNDLI9eliyZKqIIUO2UCWsndvZp7NqXeb54TM0aMJlmHXdHCx8ZS6efeQxhAppHrooghnXzqFEUQYF5TRefc9HUNmvGvOeeQFP/f5hlBQVG0PX7byusopyzLnuWlxG20WCRoRTZV0f3Pjpj6EgEMJb817HgZ/8DCjOI/75mHL5NFzxmdl48eFHsW/VW4hTGkt2kWRTyFMFv8g7nGu+Q+B9joCIFREokgB65JFHjKTMypUrUVVVZcgfEScigKQ+pXFXaa3EjCVIlixZgiNHjhg1LKWX9JDOiXipqanBpz/9aXMsqEWmyH6QJI2kUivS5Rvf+AbGjRvXKXmjfCKHJPnzN3/zN8YukewTyb6P3O7du00ZpaWluPrqqzvtFUliqD83FPjkJz9p6jGJ+SVpJ5FGVupJ9oqkdnb55Zcb6aFXX30VTzzxhJEQEiEkVbYPf/jDEPnknEPAIeAQOFMEeoAIYlPtCoyDsIwE6W2/j+SCFslai9G0ANopbd6hCafS5rhuh11ndIL5jnPZOEXH+HozGSnlhLQKbZkwjsQoumnS8+tEeY8r6BQPbDm5vrKqntw4U+8FiFOdct3rP1Hcu7RJxBzXFYgF8uAv7IX2TAhNFOHX/eq8LpV5uteoPNbZvPb4TPwTlXE2cafbhm51adET4YLkSNyHVhoNOUo7FkfjVNsw78+7Cjdvr3Pz2rD1ldSGrX+qcUovd5Z94ILXryaz47Vwy2x/YSXSeaVopsqLXxZiu/dVc4HZr1x8slHqv9JyUTYtDClgYIhNnZaxWUMtmUUuIwzRZCtQCuccAscjYFSY2G/Mo8WONenamfj7XhVUgaLEDw0/i/gJsp8Z1dBsf1ScOlpp70p89L57cc2dH0QJJ/p55d6b684asl1PpI6fZQ+ddBnLHIA5t3wABzdtxeEGGpguL0NVXS0q6vqjsKKYhqZpI4JkSdAXwgySUmMmT0K0spBqZFRAjSXx2uPP49XnX8RtH78L0z/3ISRpmNqv/p7gjmZsU/zQEbxScD+eI2mzfOkSTPjwHG4l3xt3/8UX0N7Wjr40ck26x5RnuFKqWeVxl7Mb7/4IrvzAdagYXGOaLztoUinLKy/GnX/9RUz5wFXYuXWbMRA9aMxIVA2s5fPFejkmlvarwqxP3IaxV87AwQ3b0LBrL+cBGVT064OqIfUora5AuCiKmNITQx/tBA2ZMg69qRZxzR23Ytf2HfBT1axm+BD0kapEQT5uLPskLj98HfoPqDULuqDmFLxO94a8s3e5gEPgokVAKlWymfPd737XqHlNnDjR2O0RISIJID3nMhht7QaJUBEZZAkWSc8ojYgbSfJIdUwkjcggOUvAKI3idu7caaSIZBPoIx/5iCGa7Dn5Im1U/tSpUzFhwgQjpfT444/ji1/8oiGkJDWkckQ+iYS64oorjASSbYPyyulYTmn1ySWwdE6kUb9+/TB79mxDCv3nf/6nkRRatIgbDlDl95/+6Z9MW1SGLUth5xwCDgGHwKkgcOGJIG/MNQOe5sacXtKeggYw+Rkca4mj4XAHDh9L4CgHdTll0QDpvVfVoKmY7Iy5M3zyOI2zzE4R9cs4wR2KPcd8aFx7wMSxIDqb1/oXIk51ydnr8I7ee99sJ//1oxcsrcOkWWXY2xZBw9v7c9pucbO+rsKGu/snOneh4lSP3AVqE9cwebRvsWVfC/KrBuBgewBvrD9oFlTs8GyG1w4jnSa2wvQF659tO5X/YnAnu15OkriIi3OxOmrK1cjPy8eb6w5lL8jmsb6ibdj6uXEMk+AJcQvuMFmg8qIwKopCKKe0Q1S4y7pshiolHIMQoJVf5xwCfwQBQwaR0NDoXUAyZ8xVnoFRO5xz+cEz/MViAqVRr1TYTzWwfiMHod+oQYzJOiXIdcrDvqpM6pL5pUWo5xbz9RNGdBXmFe/lYlJDPgVY9vB62iiq92rngqf18FHs37gNQb746F9DNStJK9EIUEQEK8v3k+EPcREldbYEI6r79qEEHsvj7l79Sbz4SGilZYeabTIGoc2V+BGgfZ6+YwbrB9ywqgnGm/UMMaEAH/KrSzD8umkY7p9mCDCTzUgAS1mLizF+B6hKVzmwLypr+3oA8VoNK6v1EUl0EUueGh6jhQWjS6gOVlLfCwP9U3jEOIkNqw10VSPrUOWv8w70zTx8oL2MCjrnEHAIXJQIiKSRBI7IFO0MJvs62vVLhp/b29tx7bXXGuPQmqfKmfUCxw8rGaRj2QSSMWnt3vWtb33LSBfdeuuthmCRgWYrjSMyRfmsRI+IpdkkYXTeEjW5IMqe0ODBg037tO27JIgkmSSD1QMGDDA7jcnws1TFJOEjaSTZKOpO+OhY5ctZUkp1qi1tlN588skn8eMf/xhbtmwxedUm7Sxmy3EkUO5dcWGHgEPgVBG48ESQJpRc4Hm0jp9i3Bz0OPA2tySw58AxHGhoQVs7t5bVAEhVJDMscnCUz2Q5zhswvQgbtr5ibTjr0wtTGihCu5xtNPbZ1qaJq8f8n3IZJmG3cs9ZnNeK99q3MM9wUp7m1D0cLUUxpapa+cPU2q6WWixyw+8W927nTrWMs02n/HK2LdY/93Hqrse4GMur7I/Js6vMm6pmSgVpQXhc/VlC6Lg4JTHOts/6irRh658szhRwEXyd6DooKch+FgyGaWS3v5kYNbdr3LDOhqyveBu2vhenBaXWi1Qy4Yq2A/sOt6AgEkC/sjzU9ypAeUGIC04tGLUCdc4h8O4I6LdLzvvO9rqcruPF2+e8K53yGPN3CtDZ/N5Rt+/ckwyL68jyHVnChflz0tighhL9WqZkoJ5kUpSSMjWD6/HWy6/h9UeeIQlaiLL6PiSawkxDibt4Kza+sQzzX34VQ6lqNvuG61gAR3sWHtB29WylN16pXNkC8sgvtUWPi2kDK5dFJD11SmsMTfOcPVZarwxKSrFE77dfZBAd0/Fn3jg9o4Zwoi8eTCWoNgVNPXxEVSYFLMHNyEw8H2MvYNJ4d8ak5zFzmW/35RBwCFzcCGiuHg6HccMNNxjpG5Eiv/71r42kjWz/SPVKtnO045fUxZRWpIolb0SmyLaPjD7LYLS2c5fa16OPPor6+nrMmTMHN954o5G4kZSQSKejR4+aHcIkbSSy52ROaS2RJPtFIpDkVO63v/1tY9tH5JPUuZ566ikTr/Z+8IMfNDuHyUaQbaetQ9crCSgZwJadoPvvv99IJyntzJkzjRqbSCC1zZJH8h0ZZBF0vkPAIXCqCFx4IkhTOb6F15RNBJDUwg41x7F5dxMOH+3gZrWcKEbyuROJBjUzG+y8Fk0Cz3Sg00SULxXMziSgnRuRUWYy6+aKnfieKCBxfb0VlppBLMHFBX1tVWx/fE6Ux8V5CGhhI2k3P3fRCUrSRH2QcSfCznXDd/aaQISLVaqCcQ5HpwWpdmE6fSciSCtJKeWpjJiIaKo2bt3fTMOTrRhcU4nepVGSQVp0nkkNp98ml+PiRcD8DmWbr96iY/uxx/rlUpyc4myvyo3zfgVtCvndnM3EkrwysmQLk+k4tyyb0wgW8qzOG3UukpxTaQT60K6DWDn/Tfz6W99DaWUx8vMLjB2j/UcP40jLEdTU9sPtn7sbhVQJi/O3V1oLaRWWbUPuRMHWa8gdnlcS+7HnPGPNtlWer1Zp/BM2tjzlM7/N8juvU+V5JXnl6jvrGNSR+B/5JlX2tPLYfLZFOp89zZBzDgGHwMWIQK60jHbYuvfee40UkAxGS11Mhpel7iU1Le2uJQkhGYKWNI9dM2jeJbJnwIABxrizjENrty+pgGm3sBdeeAFf/vKXcc899xjpIkusyLefk2Fn65CvtHLy1Q7VJzUulS+7RiJ3tFPYiy++aK5DW88X0PabJYMkDSTJIpFGIqq0db3iRABpN7RZs2YZVTERULl12TacrI0u3iHgEHAInAgBbmCUHbVOdPa8xOmtfpITwhAnoj4cOJLCpp1NaKAqWIxTxCRnoCm+DgxwMhqgNIWc1nGdjmNs7uTOhq2vdDZsfZNXizwSGrrcNBeXIjeMYyKbzvqKt2Hrn0qc0qhUm0e+3KnGeam70tvj3DJOFGfLz013ruK8+kTKCT+SdLwoI9FFP7cO2y4bZ/3ubdJxLj5KJ3eu47xSu8q1x7l1nSjOtiM33RnH0ZaG3rrL+bSyyoa7P3KyU6OWnggzkzn7lXvexts46yvehq1/tnHd67LHueWeKO5M61dZfqq5yNitMNOzajAjTB6aXbWpDjnF2/psnDmhL0bovIjnlEnFJSknVkEfpdyoElaSF8Rlw2ibpCBIk9TOOQTeHQHxkupjUleyz3Raj7cOecacY1jpRHqYdPTl7G5WnlwMI/gbaIhKBt/Rb7MlKp9hS5RW4W4JjztkAm2XnqEB55R29OJfIB5A895GbFu5ATvWbOS2x/v5pjvOt+ZRFHMb+dohA1E/ajDVtGpkA9pjaejrSjJ8GWPUssTg5Dqe96Sb+FtqzvFKlVfx5i8nMdutU3Kyyyfb0tqi3jil54EOtZuiScfzXnp+s1hzjgFDcun6sh+TSLgzmYeMdjTjyWzBZlMDhnOEhrLnnOcQcAhcbAhYdalcwkNSM1u3bjVEkLZcly0eSe+IgPn6179ujEBbckZzCJtXZR08eNCQQCJnfvKTnxiSRlvHa7t4SRZJ6kj2frTD1+9//3vcdtttJ4RMaluSNJLtHu04pnwy8CwpJDnNm1WfyhEJpK3jtduZiCsZrP7FL35hSB5b+KpVq/C3f/u35lp0fbKBJHJr2rRpxmi1CCDrul+TeVF73ILJpnS+Q8Ah4BA4MQL2xdyJz56nWA1eetvYSp5n8+5m7D/cikwoj3He9DhNMQoZipW5ATMh5MDmTSW9KaaJy7bNhq2vaBu2vr2MZJLLQEYG+JbAIzO8GadNZ/2TlWHPW/98pLNtza3jVOJy09uw9c+mnQZ3LaBFnvGe6AdNPzaa7ueWaw6yX7Ze63dPZ+Otn3v+XMXZ9uSWdypxuelt2Pqn2071MfVGSVOZSQxxNLZFbEOyfnZ5Z45OVFdu8tzzNt7GWV/xNmz9s43rXpc9zi33RHFnUr/KSVF9U31Mb/QSRhKNJXGVqsXiiZytx/rd0/i1itTjrr5LNbAMSbo09VDivCdN1DNZx+288wYVgiadtPaks2ONSvRKza35ZPWYrO7rkkbgHT2CEbY/yFc/0cfG5YLRFdcVyj3/znBOOvVfHdqOmHMqN59Oa5xJSNxWzA6ZnJL+lRjXtwKXzZlsXoTYBYSfW7b7w6RK+GMrkkrOkCl8zkQoBaSjpXh9VHA2DUO5Qe+kGBkmUhtzknn5snk7f9NVgOLoZFTbTzbJLNLUZhOvQrxS9K2n0fwW8ZweZXNG6fQxB/oyAfpyCnt5lMQ5h4BD4OJFQOOVN+/sugbFyQD0iBEjzJbt2oVLKlQyJi1Joc9+9rOopSF5ETLKq48d9zSv6Nu3LyRdJNJGO2/dddddWL9+vbE9NGXKFHNepNLevXsNKSN7QidyMtisLexlqFq2gUQmaSyzBJTmfpL20bnq6mrIyLXsB4lkksqYdkIT2WPbpjhJC8mYtaSFpAImdTWVYeaR2UZYTOTL6bxzDgGHgEPgdBG48ESQmbxpK3c/DhyNY9+xOFLRfKMiJtsEQU4KaYs/ex3yOQVknJ3vZa0WmCmel8g7oxSa9uW67nE+Lv4Ul9Jk06T10ndPpzJsnPVPJU5p7NTT+mcfd/yU9tyVq2m1nV4LjxO3ndNzs/gWdt4PFX+M+MPj5T61Mmxq+XK2XnOQ/bJx1s9N98fibDm56c5lXG65Nmz9k7XT1q91mBZU5sqJm4chz3qQm2QePh7+3cuz5cjPxVH191Scbcf5rF+LQF1j0kjvse/pejkOeD3IXHrn9XcdnbxvpY34Altunn1P0pA3g8QQiSben4NHYtjTEOVuRRwSzbDjEVGSJ9CIxKqNZILugjc6dW9Jbitc+FJGwPtV4hVmiQp1SvUG2yP0ZNqwwSHnwEt3fETOkUne9ZVzRkFVbKPeUUk2F8/bBVOEKtDGdf7K00aPmM6TOK9f86QlYDojGGcvOrd+Uw4jFKc8pk02gTnpfdm8PDJFKolds2TzkApiJE9I/EgPW04xnUEFsskY8pzydzrlMzUwxpsp2KPOJC7gEHAIXHQIWEme3IbbOPmSkpH9nPvuu8+QKs8884yxFSTixKbT3Es7gGk3LxFBOqexUruIiRASqSTbQvn5+Waepp26tBuY7AlJ2uijH/0oRo8ebZrgzeO8XcqkXibj1YqT3Z9ce0IyZG3ryyVypLamj+q36ZVfTlvZf+1rX8OnPvUpDBw4sLOdOmfHdoXtdVlfcc45BBwCDoHTRaBzini6Gc8qPSd6CUr9HGw4xoUexSdpQ0UTN2/Cp8FQk0GvBhurIxu2vpfC5vJ8L877Pj7dmcXllmHD1leJNmz98xN3fNvPb13vxNPWZ33N0rO357SvPxcf76rO/tpsOV3tszFd96cr5vTjcsu1YeurXBu2fm5dnUDlRlrwcuJy89qw9XOSnbAum876Sm/D1j/Xceer3JO1064Mc+tV2u7uROe74rrGCIV0G9IkhmSLTOPQvoPNGFxWjoKoJBO9GjtzMEJrXcl42XMMOvc+RaCzX3QGuoA4QVTXybMJ5RacGz6bMk8nb26dnWEGbNj6JyrzZOc6422Avg3mlNMZ1RnInjzuOPcgN5xTkAs6BBwClzQCY8eONYahLbEiokSkz5tvvoknnngCs2fPxpgxY4wal861trbikUceQVNTk9kiXhJGcjI6LSmjZcuWYePGjfjmN7+Jr3zlK2Y7dxFGUgnTzmUyPi31NEn6iCxSmapbKmA/+MEPjE0fqXVJqkfnRA4tWLDASAPV19cbyR+l1zk5qaXJ1pGOcyWAzEn35RBwCDgEzjECF54I0mBHFryVu4QdO9ZCccaweSNvB8FzfH2uOIeAQ8AhcFIENO6YSRjHpHgsjnbaTsnnm8HO8UjSCXTet3xHA50UTHfCIeAQcAg4BBwCPYSAfsutpE8uuSJbO3PnzjXEjEgfkS0DBgwwv/1S/ZIqmSSCPvaxj5l4NV/SN9OnT8fnPvc5fOc738Hjjz9utoaXGpmMO4s4kiqZ1MLGjRtn7PqMHDnSlKm6ZeT5V7/6lSGfZsyYYaR7JImkXcW0E1g8HjfEkdqR65RGTiptVt2rcz6Sm9CFHQIOAYfAOUCgB4xF860611LbDx3Biq2H0erLR4wWJDXo+qkapgVX1xt8Lbqccwg4BBwC5w8BTRw10pT6Y5g8sAR9e/PNHU39ajzydFioYMKBSWlk1tbTTnFKJ+fvjriSHQIOAYeAQ8AhcHoIiIDRR07kiSWF5Ivw+d3vfmekf7Zv324kcxQvVTBJAUn6R6pdlZWVJq/yS21MEkMyQq3t6kUmaYt4EUvKJ/UubT1/9913GzJIKmqWtDl06JDZ0UxqZatXrzZqaSJ3RDgNGjTI2DC6/fbbUVFR4b2MYn02r3xrbFrXYgkhhZ1zCDgEHALnEoELTwRxkJYt/c37DmPVjiNoRR6POXgyzhJBWnV5Q7n3fS4v2JXlEHAIOASEgJ0wWt39Al87JtUWoaZvGSdk2oFIxHTXnkMSDvJGL1k0cUSQ60UOAYeAQ8Ah4BB4LyGg33URPCJT9LHHVtJGu3ft2LHDSPTovFS2Bg8ejOLi4uPy6ZoskaR0IoW01fyePXsMSaM4EToyAK05hOrRC20ryaPzcpIc0m5hIqLkpHJWV1dnSCQd27Ll66MybJtt2J5TeuccAg4Bh8C5RODCE0FsfYL8zpYDzVi5rRntyOdm8t6yyhFB5/LWurIcAg6B00Gg0BfDhDoRQaUckST5Q4kgGpn2DNmyJG5XZIkgjyA6ndJdWoeAQ8Ah4BBwCDgEHAIOAYeAQ8Ah8N5A4MLbCMpet9S/zIcMuHYF85x8sz9Q9th5DgGHgEPgQiLgSSN2ySJ2hdQK7+yFbI+ryyHgEHAIOAQcAg4Bh4BDwCHgEHAInFsELrh+g5ZVXZ/sskpkEJdY1nWFbIzzHQIOAYfA+UXAI6ZtHTljEiWBjDueE7IJne8QcAg4BBwCDgGHgEPAIeAQcAg4BC4qBC44ESR0zHqK5A8VYg0B1EUCeSG33rqo+pBrrEPgkkAgh/rh9RhayLsuK7FoCCE3Ol0SN9tdhEPAIeAQcAg4BBwCDgGHgEPgfYxAj6mG0TgRTW7QDgeNsoILLZpHM2oXXcssJxd0/vulMBbiwt7u2GZrFUeopTEN5imZTWp9JbNh+lojW8EJnbpona5JznREXZR3aI5FXlpnztsD518KCJinIHuLZRlIN19/Jqj7LUIotw9cChftruGiQUBGSNMBP23q8feSv5/aYkGjdEbbcFqnbuv3IUEvxC911yTtnWsMD8rmlcnL0V5dWb/B2rmB56WQrbSMMml87OspHSsdyw/oIdA5VshNPlkSDaOyOJlSN89I9pxqMOdynhMmV26eYCK2zTmHgEPAIeAQcAg4BBwCDoGeR6BniCAzF+REkpPJgGaenD1qfmgmtYzT5FPzykuCWOj5e/wuLdCN0PLXLIEZloFcxXmfNA3lejN43Q19so6nvXujab/nzGLA3EEbc3H69ipz1jH2AjsREDrOXXoIWOtkhtTk5Zn7zA5hiVBDC2W09LUnvaD7dgicbwREAiW4a42P9I9cqj2O+LFWpGJJhHxBRAqi8BdE4AvRxDk7cIopM4fbkGa+TGkEyA8b0kZ5zRhHAijVkUDsWBvzhRCJslx2eP0SJNri8IlEKooytR/xpqOIxzrgDwSRV1wAFLE8FZJII3a0FfGWDqT4WEQLChBgO3xB7pyTYQtIWumHXc9RQOlNxfSdcwg4BBwCDgGHgEPAIeAQ6HEEeoYI6vHLdg3wENC0PxsyAVFzcpzAk40zb4N5FOKk3rzNZdimVyoRSHZuL1pPb5Avfpe9CPNq/PgLElEpZ6/ZO3LflxoCx9/1S+3q3PVclAhwS+GAP4BgwoeG1VuwbP4i7NqyHe2trYiGIqga2A/Dp09E7ZihiJQUIpROYd7Dz2L3tp0Ye/NMjJo5gfl55VmG25fMYP3iFVj84qsYNHUMpl0zC+FoFImOGBY88RwSTa244tYPYPeG7Xh77kIcOHAAwfwoRlw+Dlfe8gGk2J4Ni5fj7XmL0Lx7P9pI/vQeWIcJM6Zi0LiRCATJDOVTqohVarw0vyVZDvWixN812iHgEHAIOAQcAg4Bh8AlhkDPEEGe/HkOlCdZWmtFdpJTOZld8AwR6FIHE6XjzdI9aocrBrNgIPhGPEvEECvh/TDUUfae5N6azCUivuXvvChh0uV05BEEXqw96krhQhc/At49z73vuiY3DF38d/ZivwLJ1ZAGQuPb2/D7v/s2du3di9K6vqjs1xuptnYsfO4FzFs0D5/66n0YO3Mqifs0Vr2+BGsWL0Xl4H4YPX28N6Z7g5gZz/es3YqFT70IXzSMKVfOBMLMFkth/aIV2Pv2ZrSSDFr51hLk+YMIUhpo/7qNWLFgEQoo/hMkafTgr+9HAc+VRwvQeLgJ695cji1vrsDH//wLGDhlDAvjKwX+rEhuVISQ4aHo2yZc7PfEtd8h4BBwCDgEHAIOAYfAxYxAzxBBVu+GM0JxQt6iWsuvbkuwbocXM9DvtbZrMu5NyPUtoD2qwwuptdm7wnuVkDqCdPfM/aCvoLmHyus5XybJiX7SHl6UvhCQ7Q2LhblOc8QYEmIeTeBFGCguyqt0jT4ZAvYJ8Hp17pPg5ejq7ScrwcU7BM4PAhp+E60dmPvLh7B13SaMu/4q3PS//hRFFSXwxRMkbtZjzZa1qKrty99Ujt3svnmUHorGMwimPPtvGr9FyGjo9lPf0deaQqSDkQmqj2nco1SPn0N4lPladhzAPJJE13zhTsy6+kpEg3nY8MpiPPmjX+EPP/gVYoVh1Iwbhtvv+RQqysrQtLMRT37/p1i2+A0sfvp5DLhijBkvpWqs50Z2g1gLqSz3FJ2fHuJKdQg4BBwCDgGHgEPAIXB6CPQMEWQW22wo556aFnYusM0RI63TyZxDG+38s0dAsMpYqDcvNxSIgdpM00nqBLiS8NGQt6bxaVkUZVpzpFWEjypk9LXYSDO+i8g7+3b1ZAlCIR3v8K6Jb7oDIZpj9QW8Lpjtiwafnmykq/u8IaB+7H1Uhe60ZBm8hayeF/PM0HfOIdATCLQ0H8H69RsMoTLl2lkorq+kbR4fwokw6mZMQM3M8TQmzV5qxHDYd7UZQ0rktjdqyeSbIYLYeJoVMl1c52RjyE9VL9PlqT/GkY/UfxCzbr4BN3zqTvhDpG+YcfScmdj25mo898gTqBwzCDd/6i5Ujx7KbLR+AABAAElEQVRgsvUqL8KED1yN1cuWY82qtxFr60C0NM97ZiQZxN+LbDN6AjpXp0PAIeAQcAg4BBwCDgGHQDcEeoYIEplwKk4rL+fOCwK5d8AugDVrz5AECnNxEe9owY6tG7hFTAxBGf7UopiLBbNBjYggyv/oLXKG4eLiYvTqU4d0sJBtzS35vDT9vBWajMew7LVXsGbFctQNH41Z134AgTAXM1zBqCtqIXPxXt15g+0SKtijNLvfYzcMXUK3+CK9FI21wUgY0aI88vA+LJn/GgpG9EP5gP6U5AlxfEobg81JsvNBHpk+zDw+ETxZJ6PnIoKMEjCjMzwnVVj7QiCtpMwvA9ORvCgGDBtCAicAmhMy3FKoJB/l/fsaW3C9a2pQUl3JWlmHygj7UVRdjkhhPtraWnGMqmKRMo2dpkjTnlP92bftdb5DwCHgEHAIOAQcAg4Bh8D5Q6BniKDzdz2u5FNEgPPzLKmhJYOkeyT5QHqHi4wQ9wXetWsrHvjhd9F6aB+3D+7gqoE71nDh0LVUDsgMhVmUjJ00BXfc8wUEywp5/iJ26QS2rl2O1555BO2xdlx97Ry+VE9ywdS5tBJS/KO7qC/0Ir5HrukOgfchAhpu8mgE+srbbsBDW3Zg4fMvYXfDfgybOBb1A+oxgAaai2t6IUOJHo3RGqMMUW/Ieg8wO+aLCNL5FFkgM+bzhM7pY04wlCK7E6dEqCSKwkwsyaOMZgvhoNk+PkyiKBqJIMA3A5IWSlKtTESVXy8JUgnEk4muMlW+KnTOIeAQcAg4BBwCDgGHgEPgPYNAzxBBek14Ks7MZk8loUtzRghIXN9k7Jql+6lO4JMUUDqGxt1bcaRhH/rU1FPqp4oLi7QhfyQV5AuETFgGJyIFpfAHuaWwt4o4o6b0dCYh4NPuaPFjfCPexpUNt0umdaS0L8JFjN63mxTeN/tv13v2nm65q//cIeA9D91HJzcMnTuEXUlnhoBUq3yRICbcdDUJoWK8/PCT2LxmA7YuX4u8aATVg2pw9Z0fxLgbroQkd+SstI/d21H9WD/4fokFqZNzXJNNtCAHdKXVmKZT+g1IkwRKSc2MmZRf8T62QRJAIUoJ8V0B07NNjDMiQV5xCCaZV1JIektgnSqmM2V7QfftEHAIOAQcAg4Bh4BDwCHQwwj0DBGkyaOcJpmca3pSJpqZ6pPjuh3mnHHBc4CAh3j2XrA8n0gg3YN0nOoDCfodyC8swW13fwkTJ8/waqT9iSRvGu2PcovgsHfH+BbYn+fZgzgHzeqxIrTMCXCVRMU4pFIxLnK4l1rQhyQXSl1vtL3e2r2r9lijXcXnDAH1fe+jIvV0eM+GHYa6npRzVqUryCFwagiwEyYTcfiKwhh9y0wMmTYe+1ZuwobXl2P1krew7o2VOLJjH/LzIhh10yzTc0Okaqz0jypR/zXkkBgZOvX1EAkbSwTpPPkfSvkokEGCRFAmmEEHeR3R4sUc96MpP6LJgOF+4hwvpU5GYSDzuKjsaIpbxlOKUjJJphie0qOUZnkyFk2ra4pxziHgEHAIOAQcAg4Bh4BDoIcR6BkiSOyPHD0z+VTAOB3ZMIPdDr007vtcIqDFgORdBHaahE6KRE8wkMcYdg3eigx3AosURVFQXo64dqCh5I8kgrQSyFCCRsaipU6W4EIhwfwhHmtx4ec5qR5wXUASJc14H3ev4THLT/hCSGVYTiBGtasEUokQ7RJFmKcNgQwXO8kwCRjVnWA1ah9tExlqilJIRk2LcVxshKiu4KcagtppdzULSJ2BdWfYhgyNoCZl7Jl5UozzSW2B8TKEHTRt5E5n5i031dyYNkFrqmmmV4FhHxczvND2VJjXwO2TqTYWYtvYFJbFZQ7tcqSZntwZsdBKiLmYnryRUY3w8dr1xlxLsVS2v/tZrz+TQIBVxLlTT5pYpoizR8CZItxXDyJgaSBvBNLg4z0Xdhgy3b4H2+eqfn8jEAqFORqnOE5xDKsoQO3V41E/bRxmHLoV9//Df2H1gsXYsHodhsyZwvE0jDjH0ARVxVIxjoUcg2KZAMdXjuwcrgIkc8TmJyi945MVaRoQ0jClT5LjeZxRIe0sRtJIAj4aFeUkAZTi2Kkxl8MZRzg+NRz39KSYOI542pFMBqf13BjHhF5YqZXHOYeAQ8Ah4BBwCDgEHAIOgZ5GoGeIICsR1Hn1dqnVGeEFNGt07jwiwBm+JvL8SOLFyANxURAkC5PS4sBM2UXykJLh+ZRf5EeQUv9cHYjUkN0I3qMUJ/8yPCrKJilDoY0NKM6PIr+0AC3JOBoOH8LhPfuRx9VCr/79UNqnHrEUVa7Y+9I+kj1+2pZgXb5kO01QxNDa0oJ9+3bj6LEG5EeiqO7dF0XlvVmfdvBiQ1Q3CZ+wWpxqxdEjR7HvwCG0tLahgOoTfasrUFZeQaKJ6mpUYWtnvSJkMmYbZZI8bHc61orDB/di/749lHDyG2PXpWwvdd7MdWRoOFr752SMaph20UkgTAkpET9HGw6h8cBetHfEUVRcgeo+tcgrKEGc5fu50xhfmrMcH442HkImFkdBSSmiefloajiAA7u3kfiKof+AgSiopOFVLbH0PAhI53oYAW/ByruRdV7I3RmLh/N7DAGx7xp2SaYHKKmTJuMsQiiY50NhXQUmz5qJda+/hUSCxDrjfSRjyvv2QoxMTvO+BmTaSB4VM79IbI417YePYN+2nRTn4XhuOjhHb5WvP43/GmbF7vBcgOlFnvtF+DDsC5Hc5gmR6JLw8XPc8wxNMxNJJMMTMX2nU1D5TemdsS7gEHAIOAQcAg4Bh4BDwCHQgwj0DBH0jkVvzqSxB8FwVXdHQAthvlEmY5MhWUOzyWYy7w9LokcLDhJB2qo4Q4IoFUfYH8Ou7Rvx4E9+hLFjRmPq1VfilQXzsGLR62g5eJB5/SSBKnHl9Tdh6sybEQlSnYykSZr2iHwkjDKxI3jtzbl47eXFOLBrN9pbmxEKBlDaqw8mzpyNK+bcSEKoF5cTkqOh5FBHG1595nEsf3MJ9jB9rKMDIRIxFdV9MO6KK3DF1dcjnwRSIJQPP7e+0TvqEAmrJhrAfu2lZ/Dm3BdIBu3TWgelFVUYNWUKGhoO8oiSPXz7rrfokOQRn5IQr7f9WBPmzp2LpfNfRvOeTVx0xZGXV4S6waNw9XU3Y9TEaeR0CtDON+8il+Y9/wxWznsO193xMfSrqcMTDz+EbWvf5hv6Ftz8ic/g2tvuJJVFaSTioiWYc+8NBLpGI4XcfXlv3JX3eStIurQcPYqXHnsSZYXcqn3qVBRUVBppnKNNzViyaBFS3Lmrb20tx0BKVJLJGT1tEha+Mg9ruKX72AXcCXHCMCOxuP/QQTz/8FNYvHgxJR/Zx0neiIiWJ7XfJIl+cUDip9X/RR4FdMBhSnaDktQdi1NC0rw8kGQlzymvJIU6SDwlZECIxya7V4RKUcg5h4BDwCHgEHAIOAQcAg6B9wgCPUMEnerFa+7YtSo71Vwu3RkgIKmgE03VpbYU4g4wJewprXGqYdGGTpKkjeznaE/hdJqqU1x0RKlvEJFNiXgbtm16G437tuLNN+Zj2+YtJGWmY9jQYVj55pvYtHoJdm0hGRJP49pbbkWKxkUD3K44xHoee/R3eOqhX6G1qQUDJkzD5TOmIdbaiqVvLMGD3/8OJX5i+MjddyMSAmKUFvrBd/4Ny1+fZ95ojxw3BYOHjMDBQ4ewaP48bFi1Aps3bsPn//JrVIUIU7WLSxGqkbW3NuH//Ps/Y9NbryMc8WHMpAmoGTyQkkH7Mf/5J9F29AhJLS6KqE4mNYgQQUnF29mOQ/jRd7+NpXPno7SqElOmXYl+fXpj786dWPDqXKxdvRL3/On/xMzrb0YH10FaFDUe3I0t6xZh2esVeOXwMaxfscpszUxxJLQeaeZ1cNtnvkpPsG3OvRcQ0FPwTueGoXdi4mIuMAIkYRqPNOLZPzyDto17MH7AcPStJMlN22ybdu/A6u1bMPnq6Rh59RSEuLOX9pLvP3E0LpsxGQtefAU//Md/Re9+fSixmMEeSkFWcvv3m++4Fc/+5iG00h6ajECbf47rKW4T1kEJyA6O8x5HreeCfxwP20iINyfbjOFqacQaY9HKSJfhYBln3rZY0rw06ELIG98kM+qcQ8Ah4BBwCDgEHAIOAYfAewOBniGC9HYx6zQ19CgIL2Tjje/mjcfBcT4O7CJX90Bw69jeHXOOO4jtW78My/y0mUO7OHpXnORW8rSqbCSChg2dgOKC3saOjlQSUkyvreYP7tmBgtJS/M2//QcGjxiDPC5Omvbuwo/+6xtY/sZCfhZgCqV8SsoqSLaksWb5Urz4+GMkUDL42P/4PK699RMoLC4jeZPE7K3bMffVeZg4lbYvKJ6T7DiK5558lFsoP4Xe/Qfgjk9+BlOvmoOC4nIjFXTFVVfjgZ/9BEtefg75xUX4ky/9OZvLrY7Z+qeffwJrFs1HVXU57rzns7jymjnc9SwPsVgMb76+EL//6Q+x+9gRkjmyMSQbPynkhdJ47tlH8cYLj6NuxATc8YW/xsgJV6AwSrmk5oMYNGYq8/0Ijzz0e9QOG4nq2iG8Du60HBBxlsaqZYtR1qsW9/zFVzBmzFiqlMVQykWcJKriSdouovqaUw07H7379Mr0yNBcQtR7EuwwZJ+L0yvVpXYInD0Cksasru+P//2Nb2DeLx/BvhXrSDKvR5wCmcnSfHzwUx/BNR++GVV1vZmSUjscg4tqKnDDvR9DtCgfG5evRiMlgaJlBZhAgv2Guz5GVVc/tm7bgt5D6+Enu56mXTMKM6K4fzUGjh+FIo6R+jHwcSwMcLwX8VNZ3xfDLh+L3gP664eb46NJwAukqm5BGP1HDDSqsaEoxzTrsg+OkwqygDjfIeAQcAg4BBwCDgGHQM8j0DNEUI5qmOaIXe/hdWSXXebEcYc9D9el1wKLtrcI9q7PxslvbTmGp0nQPPfUsyQsRKWQBNKCgX95RaX40/v+Fy6f1NfY4aHpZb5xjpgFQ3W/vvjUn3wOoyfPxLEYFybMU1EzAFfMugqrKY3TsGcbDjU2UdWrL8mQY3j2mSfQ1NiIGR+4HnNuuR1B7lYWpwUK2eypGTQCH6sfzi3qSbyQGGo41IBFCxYY1YVZH7wDk6+9DZlwAY7JGCrV1kZNnIrrDx/GAz/4P3jjpT/gumtno274GDQ2HcDieS8Yo9QTpt+G6dfcAOQVm/aFQgUYM346Vo56jbYzNlHYSXaSRAqksWX9Gjzz6IOIRvNw/Q3XY9yECWglsdQaTyESzsfkK2Zi9YrlWPjSS1i1ciU+UDeU6hQixWh0g4SQ1Cru+NSnMXnGHEoaeca2KXREzEgzEVOprHU9A5deH7tYrsgjQ3PvhJ4Ab/mqkHd0sVyNa+elhECApLGfKrq1Q4fgk//7q2g70IC2Y8dI3lAas7QIRVUVhsxRJ5XKFg29GaK539ih+EjNn6LtUDM62tto+D8PxVXlCBYVUHozjT/5+7+k3iu3g8+n4XqOd+HifNxy713G1lBBWbHp/VL7MoQPZwujZ0/DoLEjESrMp120fPNMGPtwrLcPCaXP/H9f4SPjQ35VqQe/2kInjxyT8XXsnEPAIeAQcAg4BBwCDgGHQM8i0DNEUDeJIG96qGVWN3eCqG4p3OE5QiBXIii3yFAkH4Mvm4Refes4iSdxoRk9pVwSVLOKFhQjr7IfWmVKmYSNnxJD1PTi4iCD/KJClNDuThu3n0n6o6SP+E6b5EpVn1oSKgXcNSuOlnbaBaIx5kMNm7Bp02oUlZVg/NSrESquZnl5rChI2xOSQGKZJEy061eQC5w9NDzduH8Pwvls29ipSBVW0/i0t4AP0UZFXjCN4SNHo7J3NbaRxNmybiXqRo3Ejl2bcXjvVgQjEQynZI4/Woq2dJSLKdk4ovlTXzvta9DAtFm80Gg06/PRguq2TevQ0nQQ+Vz4FJeWYdOqZWwTt1HWFmGUTqKMEske2sygysTWjRu99lK1TCSWXJ+BwzBy7BSSPoWIpUX7kB+SCgbL105t5o27Sem+ehIBS4aa228a4oXcMNSTd8XVLQTUE40altSxCkOUdOyDiK+PeGbPqZNmD5ROQWmccphCuFcRIhVFJp2MOmsMJ51PKZ8A8vtXevGmq/MJ4JBV0LvcEDzeQOXVy2wc932I0KB+pFhG9VUAP6qDX/pJD3Dr+qLaakVo6LbN4YHnpE1s8tkI5zsEHAIOAYeAQ8Ah4BBwCPQYAj1DBHWTCPJmjj2GgavYIHDi5W4orwBTafdmIgkaYxSaM/kMiaA0CRdjR4cSLm20wZPhqkOboWfMbF8WJ7yt5Wl2mTZ8aAuHhEeS5wLBKNW0pDagNDRCSlWvQw17aYOnEZXlVajqXUdiJs8QLaSWzGLGk5fxtmrXguNoUxMSHa3IJxFkdgcz6UhSyQ6QpJWCYaqVlVLtjKoN6XYc4g5fKRJXB/btRZz2fvLy89Cfu5dpt7Mkt7Ln3jvGIKpXj8AQJaAt67VqSqP5cCPzp7g7WTN+9v0fcsUTpXFr2skgEZRJdLBO2sVoi9F2Em0XUdTH24VHFjG0fPKhuITqb5Q4ShMhET8ZSgtll2oGB9f/hXnPO/VHua4nwa1ce/6uuBaYPsmuKRJHPdSQMvT1M2rIHobNu5XseaXvTMOwiJ8sJ80xSCOvd155VZ51CqvHK946Uy4POs+R/JGEUK7L8k+GdOo8xYDNIwkl87OQm8mFHQIOAYeAQ8Ah4BBwCDgEehSBniGCTvWS7UzyVNO7dGeMgKDWp7uTdE+QxEmosJhkj7oLiRPuKiOiJxzxIxaXqpgoE6kuaA8s2ryhoVE/jYoGRHgY0o+EiV1RaJVBjSktR3w+SgnRlkWs/TDVqI5yd65+/FDdgMSRqBjtDqYti9Uy/Zmtixnf3tbCNiS4A1gY+UEamta27pQsSqgOu5UxdwcLhMPM60d7O42h0lxPkkZMMywvSHsXBXx7rfJ1Hd4qSgawaRzVLJNI5jCfrkasjrZkzvB6amrrMetDn6QaRSkiNLBqjJ+SeFITk1qlkYDqVzOY5VHqh9fOU8b5JK2kV+0knFLGELWWabw22Vqi025qJ0bfnHZfFxCB7C07rkY9FyeKPy6RO3AInEcENGQm2BE1ioTZGbW1uwzZSyhRRIz6p1EJo6/+an7YGal4EUFmyM2eU36bVueVXuUqseIVJ6d44xihsIZuI0nE4Urpzfby2fQarzWaihQ3amRezuO/31Hw8afdkUPAIeAQcAg4BBwCDgGHwIVDoGeIIEsK8Dq9uaGmmQrZmWIWgG6H2VjnnSMERPKIgvCQ11Tem/DrbsiJxPHzVW4IMUQyJFsylGgh0aLJvogRH23k5DOxj4SGpGr8XCkExLhwSSCJF8rbmDK0w5hoFcWJHOLmYqbSDAklH8spLopwp5sADTZ3INbWatqkdGqb8nmOZZDckWHpwsI8Y7w0xR3KktxiPkJrQiJY0pTu8fG8n21IxDu4Q1gbrylkjEiHqGpWHCmWjWvuAhZHwtQjMkpLJFk3InnF6/Tq4/Vl+2iIdonKaPQ6IIPOVG279rrrES/sb6SW0jSi6md+Q1jplTftF5kFFYsMcNt5Pz+6UJFYAe6wJsYoyHKlbmYlglSfiC8Pee9K3XfPIKAnwPvY+r0nQd1Vzj4X3pH7dghcOAT0Q23HTVMrxzERM3bM5o7uhhEyBI8GIcMOsT8zjSGszXhGiUwS1iJwjOSkBtjs+GQK4nhvKHeOZSZkSHwmynZ8xepPRYvs8YZIPTFKojMa+VkHfc/umdcMHnpFKIGpUzHOOQQcAg4Bh4BDwCHgEHAI9CQCPTMtMxNM77K9OaZmiHLZGad38I5DG+38c4WAJvUiQjh91+Rf8GdvQYokjRdmRFoSOlTU0gyfUjxkOPiRvaAgEpR0idPuTVL3VCsV2sYJkJDRO2lD/zBtKkA1Ma4+xJVwH3ekeSyCJkMVsThXBuVVw5FfUo/mpsPYs30lwqlm1kfJIx9tCzFfxi9bQtqNjG1ifRXccSuvoAStrcewe/8BxFlfB9MnaBCDdk8NaRU7vActjbvhD0dR1a+Wfog7d1UgyC3bOzpasItbLlNLi+WxUTTCqo/qNA+EsduTQjATIwGUQq9+NcxXioYDTdi2Zjnyk5RIkiFoZpWUkrASqaUIzz6H8OGRWSkJUA/nNHdeSxOjFIFI81zG6Guwbm9FxXTO9SQCWvx6H9sKddjOR0K32zmHQI8hYIZn88Um0FdQ45V8e6AxLfdYB36OLx45Q/pGJ804LspHaT3fO2CMIjvjzIEiTD5l0y+BRkrvjOcbkooxIn90zoyhJtc725eNdp5DwCHgEHAIOAQcAg4Bh0API5A7Z7twTclZ+B6/1OrWBLfy6gbIOT4UM5MlgCzUhhdhNZ5hUk/IP0hJligJmQBVsCLcEj1A2kXSM5LOCTI/hXlI/pDgIFGTIZtk7AJxSZDkqiTFHpZhOtWjZUOaadJGJYrGmFlKmmVXVffDZTSm3NLSikXzn8fB3VsoaZSgpE8C+f4ECZkO7N6+AUebG82KpE//em5fPIxqaQksX7IIrTTkXEA1tQhJlmCG0kHtR7Dktbk4tH8vymtqMXj0OCSoRlbFcEWfOtoJ6sDKFcvQ3nIEBSE/6+BWy2E/9m7bjK2bNlPqyVTDhqd4XcCAIcNQN3oiWo+24qXnnuEOPLtR4qetIaqzFRGHAra1+eAebF6/lpJIJK14nZIxElkmJ4KNV+39GWJLpJveoBMrWXM1DJxJ6r56EAFLA+Usf01r7LPRg01zVTsEOCgRBPvJCZr+qi8NN+bAnuSB+a3VyOuRNp35s5m8WB10pe2qRHFdZerXQGSPkQYy6XmOzqvWi+86753Lye6V5UW7b4eAQ8Ah4BBwCDgEHAIOgR5GQC/zLrwT25B1mihyJZw9ct6FR8C7A1IDM4aeuXDwU1JHAi80soNU7AjWvDkfbY37ZX6HUkEBEhpUhiKB45ctHKpLVVT1wrAxk+DL4840PDYEj5YMRoSI83/db1VDL8AylUcqWb407fJQjStDwuXmm2+mtM0ybsO+Er/7+c9xy+0fRyXLjcWasWz5Ujz16NPoM2gsvvAXX0NZVR9cf9tdWLPsDSx+/nEKIvlw+eyb0ad+ELeIP8Qt45/Cq88+ZySKPnr3vajoW4+OFCWJetfjsslXYsvbq7Dk9UUorvwtxk27EhFKCW1duwoLX3wa27fvYnto4JqSTZLYiSVSqKjujVs+cTc2r1mBNxYvpYHrH2M2DWj36V+Dpo4OrF2/Hq+8PBd79x3EZ7/8F9xO/koasyYhRQy0TNJuaYIgSDyEW1d3Fy4Ehp5zPY+AiDl11K7boZD3fPR861wLHAIOAYeAQ8Ah4BBwCDgEHAIOAYfAuUGgZ4igc9N2V8pZIuDJ6HhLXWNHgmxFirZ5aPrHkEAS54nF03jh8YdJVsiQsifh4vkKe7t/TbxiBgYOHoKCwlJuK8+z3EnMH9QeYiJC5EgNsWxJGSVYZoYqX36qlVEoxhhujrcnUcf8t3/i03jg/vuxZP5CLF24CFWV3N491kJJnMOIVtZi3MRJVAnj1vNcnI+dOhN/+rVv4omffQevPPEA5r/0EgrL+6CFO3vFWw5zx7ASfPTzf4IpV1+PZLiINoTC3NErhQ/c+lEc3LUTby2ci0d/+mM88+CD3NGLkkvtRzF15nS244N45elniINU10ha8dNBDMaMm4h7v/o3eOSXP8W8F57DwpefR1llLxqiThhJpjANSI+aMgP9SA61kwSKJ6nSxh3S/LQtJAkpske8dtkG0vt0IwtkKAZya95L+y72wSDmvhwCDgGHgEPAIeAQcAg4BBwCDgGHgEPAIXA+EOgZIsiIq3uX461/s+Ii5+MKXZnvggAVA8wNkNFk7x4EqM7kpzHowtIKzLz2RsSONRkJIO1sZZSZKN0iI8mS9pFalww41w4aTCkf7dDlQ0l5Ja687kYUFRcjr7DE1C0ZImYmuQIUlPXGlTd8mMJGRUayJ8FTgXAeFawSGD99Dkr6DsQbby7B3o3rkIi1orAoH7UDB2PYuClU8ZrIVKY0+EP5mDnnRgyqKsWq5W9h6/Z9aD7Wgfq6geg3oBZjJ4zHgGEjKY0ToTQOiRd+gsEQ8rlF/Wf/51cxdNwEbN4gdbMjKKIx6PHjRmPSxIk4dITbwgcKUVY7wFxTSqpbdBlKQk2ZcbXZOWzl4oXYs2UDmo61IC+vAL1r6jF4zDgMHTkGRdwqPkWVONkOGjZ8FKIf/AiqBo/1pKBoqTojA9MyhM2PoeCcRJDB973w5ckCiaSzritkY5zvEHAIOAQcAg4Bh4BDwCHgEHAIOAQudgS4PuaK9QI6VRZnlVsPHMHqbc20NpNHdRkaIuaai3IZhmwwhnS5HDPLsAvaugsIxHugKhkzFkEi3OW4oTkpG09iJUzVrVCqnbIsKRqCJhlCIoTsBm+S7PxIisWz7yPSSIRQimpUMv6sLdG1Y5b2i0lT6ifpC9MXiURZGJIflIsxaRSflAoat74JsmjtNual8mzntBxtRipB+zvRKPL4SdEgdJzpVQ/ZFFMHFdcQZnky1NzCreFbOmKIRvJQyK3htdtZiipjKap4pf00Ok2D136qoIV8sm8k6aYMWto7KO2TREF+AfK01TzPq8+lmS/DfGqbZyHb65vaBUwIaWv4WEc7WrgrWZhtKygoYnrixo/sC5n+S1wjNDYdobHsdkoXJSglJVJJZAMVxIxvVOiIjZxHyJmg++ohBPJ9cYwfUIT66hL2e/VYEZjqC+qZhrYz9940L3vfeqiprlqHgEPAIeAQcAg4BBwCDgGHgEPAIXDGCLzHJIK6sT7dDs/4Kl3GdyAgaA05I2JDy1z+i4wTOZThIjepBCJreCJBAiajk2JJ9KU0Cv4/9u4DwJKi+hp4wy4ZFZVgQFlzQDArYkJFzDlH/sbPjDkHzDnnnLOYxQSIBBFJIogiQZAgqChBkMzXv3pzZnvfzu7OwoaZnVvQW9UVbt06Vd3T97zb1Xnzq4/RGQiSnqJp7RX3NrR/ewIGudME9rRN/7pVLxeh03rud2P2wXkbS6vXTO4+nr/JFu0LNZf1bkQXkNv3OaIJ+zo9azKvP+8/R9ad23v8XDq/T/fHlTbS36X918NI5nHTB+O65KJeVp/oq9Hv0n4bahzP/I027F9nc75299+epJnXb+S8Tr8hdvvyF+X10QaqXT/Cnoxq3/9C+Gy8cbfhlfq8ngRr20P3Oq/FU6rXrRFrfSx1fi/3kh4//ZKLKEMmETwabU8O9fpWWP0IWNWjI7r089+HiSVg+VQoBAqBQqAQKAQKgUKgECgECoFCYNYjsHqIoN5oTljc1FpY1iyvwWnaVHzFEeBvNTR7Q8Bc0pMVl/WfaOcdhAdBgfhMvLqj8z5rxPA0CfJHtRrVMUGYkI0cCiEzmsRRf2ThZLweNcpHsrQyHSBT+jNF/Gbm9wTRWjxperIEAdQ+d98Xamkz597Hp9dP+cifaa1et/7D70r7+r2svu6IePHdrr7Xvgs5k0FHjfRB33gBzifk+/19JioYXdIj/UcEVvMd6gtGe/74N2TOyLtKu+Yl1degDz8gWAZ14tVpSA07UVBhtSAwmt/R2h0pYOZHnolSo7PVolp1WggUAoVAIVAIFAKFQCFQCBQChcAKQ2D1EEHTVZ/lVWGlIjAiI3QxYer2pMjoVRikiw2dRwQLZqaZxG1ORhOj7aIBHdITJV7favL67aK1Q7agPFqDkR8MuageReo7ep6nkUPond5HqL2iNd9rg5cipbyi1uf7/HovB1nFJQmhNK/PdzDhadnk9WU+zb52305QggQavaaGpNIGUaTUJ+37V8j6XGzXZSNFe0lNaxX6QPooGCXPnhaaHoil1O5JrSZ0hBc8bJrN06rRT72QUZ8SyCPj0DbS+2SF1YaAmRgPNTPjiNR5IVAIFAKFQCFQCBQChUAhUAjMZgRWDxE06VoyMn/b60jNVF8I5VQG2cLSSq0IBEYYIzikJuLGUoy8W0ZURu/LgmTB2ExOysg0HhEaI02a3415nawz1HChKW2fID0hYvKyV2NGiO+PEcnS0ye9Z1Cjelr9XuhEmZfPeAiNqJz+da6eMLK3Dx2FkXcRQqfPbqQOb6P+v6bXQuXiKTQiqkgdeT7RTlhI+7TTdh6ceCfNa/sMqWVsSKc+3ffX9gdqRNhoPK1NE6meY+JfuqWvUXYrq39WDwKmYHJ1SLQ56ROj/ydmLrpN1kxGxYVAIVAIFAKFQCFQCBQChUAhUAjMGgRWDxE0YWQxhCV5ULQNiPt0M/H7zJY/a2CcjYr26PeERvOUgXr/epXQiJo+v1nFbZ7MBS+XKcY4lqe6DZl56YwC6QiSeAghZEZC+RnF9EaiRBQiZeRRNGqDXBkVjoiTtXoPIYHky9bmlaOHtfo9hoZLmcfOqB9yW2qij5ZPZE8mIY0u7fXRBSmjmqN2o38n2kZGk6RnNNboK2mTY9CclL6hA14t3fJGJJUuWtt+r6FRbXXSU8uqf1YmAm2O2iwt0stoBqzTUQWr1yuSvR9a/1/Ws7Q6cisUAoVAIVAIFAKFQCFQCBQChUAhMHsRGFrPq2QUjKgYUgyw5kXRW83zGOSMYpmpsEo0msudjEzgEQkSHCbORkUtc9Hy1FtSrPbCxgtTCyd1lDdcCQtlLdoXw3th2eILYyRp0Taj+kMdFpPQmqVG4mGtZaW1GRFSS6qJBEqY7GEibyp9U7filYfAYEoW6cQSQ+/1bl2Ta1ddeaPlJ164EJUtPFtEVJ0UAoVAIVAIFAKFQCFQCBQChUAhMOMRGLmBrGI1GVELvSVGxhZjuaUGFtYguYo1rO4KgUJgjUJgGTeTUXGjgyaHPSR/JjMrUQgUAoVAIVAIFAKFQCFQCBQChcAsR2CVewTBC+mTI+cjV6BFf7Nf9GyWI13qFwKFwOpBoGd5Fr2XLDxr3lr9KSLIV+a8MNjSTdO+QNWJV8ZWj/LVayFQCBQChUAhUAgUAoVAIVAIFAIrFoHVQwTF8OrHYivf/ttRk6NamJrMqkQhUAgUAlcQgZHPD2anpbKHlFdSJ+4/9rayh5TydrR02l3B7qt5IVAIFAKFQCFQCBQChUAhUAgUAjMEgVX/atjEPhzz1l6rm98fna9CTRhlwQQZVIRQ0Ki4ECgEViwCIXv6u4yN0R39HQcpPX9evxn0xP3osn4H+1azbVQ1oovqvrRiZ6KkFQKFQCFQCBQChUAhUAgUAoXAqkdg1RNBbXOgy7qNN9qgW2fd+d2l/WfC11ln/uSv8CCImbbq4ageC4FCYE1GYLSJd0/n9AnED9KnET/uQ/PW6jZYb+G9qH0nrDE/C72Cighak1dHja0QKAQKgUKgECgECoFCoBCYGwiseiKop3yYVRtvsE53pQ3X67pL+0+AT/wiP4K8tmidG0uvRlkIrDoEJgmcSU5HTk8G9fv/tP3K+nvQBhus122w/np93sSrYS0x2aAp62xS1qpTv3oqBAqBQqAQKAQKgUKgECgECoFCYIUhsBqIoN6M6n+F79/A6Dbd9Crduuut11180UV+oB+ERY2vQUElC4FCoBBYLgRGt5aF95QJp8ReBt9D96NLuw03WL/bYvOrduutO2+U13ro24y9trpcHVflQqAQKAQKgUKgECgECoFCoBAoBGYgAqtls+jeDaibt9a8btMrr9NtvskG3d//dXZvjs3vba6eHVp7XnfpWv1LG/2rGiMjbYBas+UWGnSjkt6QG88aNEkyVUa//8sdmYejf1Or4nEE4LZWPx+XXnpJiy/zKk37itKin9oeb1fnPQJtaWbl4RSyVhfmNZwWZUELugECQ6Qu/7XafH7620S7o7TbxWU9+YMFX/syHokXdZtd5erdNa++Qb+27Rc0CG3OhloMyipZCBQChUAhUAgUAoVAIVAIFAKFwCpGYKFNfvk7Xi1EEB6hp3u6TebP67becuNu7Yv/1532n/O6S9besLu4N9Mu6jdnXbsniub3B0JoZFEz4/r/FrPJGNfLNhHZc4w/NZtB3sdrr712ew3k8sO35rdsuPWgX3zJZd3668/vLr744h5DZFBht8zZ79fxpTYc7hfd/H6t23y4sRDjDdv6tTIrDBGA3aXA64Pr3vV6uUI/D2s5EJq9PBTzPJ+K719LXeeyC3sSaP3u5tfeoLtKfzfsV/XCLtxruC5OBKeL3X5SWHEhUAgUAoVAIVAIFAKFQCFQCBQCKwmBkD/hMq5oN/0+qROW1hWVNO32vtLTkwlr9RtF90bXhX27f597Uffnv/67O/2s87qL11qnt5rX7S7pf6hH/DAGhREBxAxznljJhAE9zEo6sWp9OuDN43XUE0yTQ0+9xBP1F+sq5YnH6zkfqqeeMN28Ue2F9XM+lDFVXuQP662ovF6meZg3b153Ca+g/j/YTYaMMRnpN7H8pMVC8Eu8MvJaR4O+cj7sa6q8FagTrC65uF/lPXbNA6Vfd1ihEQwBgxJ9Ov2KBcVJt4xl5A3rJ51Y+6QTL0+eusKw7Shn6XnD+kknHspbQt5a9ujpg318XKshhVpm/tFWGOKXvFFJK/JZeImQcfPXvrRbt7/7bL7xet1NFmzWXb33Tly7r9LvF12hECgECoFCoBAoBAqBQqAQKAQKgRmFQLiL0ds5V1y11UAE9dbWZZf0NmX/63xvmV3aG3kX9eM4+/xLupNOP6c7/Yyzu/MuuKi7pFunEUXtE85sOEzQYkbaREZfvqyAvFh7YvNXaS1HIC4mdFmi5lg54qJ/cW/t+d2F/V5O83xem2EOhWngPsfAGhvuiPSZP3/kSQUwXimLA9evwcJyEey8ijhv3vzukku8kth7CLp2e4wuD0zuNPN68tktREAsrTN/re6am16pW3CNq3RX3mBef7cZ3V4muKdWr/4pBAqBQqAQKAQKgSUjkB9Yl1yjSgqBQqAQKARWJAIr8r67moigmHO9idYbZxf3p+KLeu+fs869sDvz7P9255x/aXfBRb0hzfjr/xmRD07GoewNa3mMvMSqJD1Rf/J0ol5zEOjTMQ4n64+3VX8YImhZecPyFZGeqt8VIXdZMvp+YXRxb5Cvu27vQ3Hhxb2BvnCvlWU1X6w840isQtKJh42WljcsSzrxkuSmPPHy1Itew7bjeYMyHi0XXXRhey3srDPP7s4444xuq62u083riaHJMbf+J14/GrSN2BkVr0L91u4Js/6q773PLm6vhJ177v/aF73iJTSJy1CnpBM3bK3fy/pXwPoN6RFA68zvNtpo/X5z6HW7q268brfB/LXba6rz295ALvbea6tCIVAIFAKFQCFQCCyGgOdxWwQk5Pk85xUXAoVAIVAIrFwE3He9qeO4ovfg1bBHUG9s9ft1IG4ozyCeP/EzvO041t1one7qG1217UmDIGohht3EebJHhV7AWWhXp2yqPGW6Ou+8C7pjjvtbt9W1N++uvMmVG9OhfsJUbcfLci5O/WHeGpU2wJ6k+09P0J100j+7m974ej0pdPmWTrBKDKekEw+xW1resCzpxEuSm/LEy1Mveg3bjucNyxBoF3o1rPeA++Wxh3enHntcd4/b3rDb5OpXndjWauQxNFrBC9dxZM7lODjC8Jxzzuv2P+DIbpvtbtNd6UobN3JYvpB6w/R43qisn4e+ESKJV5v7gFfB1u73DZu31iX9DcSDbU8C9fuSVSgECoFCoBAoBAqBxRFAAv3vf/8bPb/3xc3DPn+QF69eOYVAIVAIFAIrEIHsl7pe/9V1aT9yX5Fw+az5K9KjthM6U37kWzLac4YPwGW9ddaK+8FNpKbR29QgIH5SYq+hgPX3U0/o9vrht7t773jP7o7bbdd7aOST0b0+aTCNXi9PlaFOl6f9qm6DrMPXWWyH7n9ot88++3YLnrJzt/l1r4vDaw8BGMl+8xWVJvGOnqt7vFP1P1Ve9F2hMeD6z5H/8x//6o787a+6U/9+WnfK7bbuX0e6W09E2KOq6199urSbD7+VvfBW6MBWvrCsO5vFH33sUd1vfvmDbtP1Lul2vPe9+r2qzGD/cqn7xzRx8yrqeOAp5Fg0OF/JN4FFO6yzQqAQKAQKgUJg1iCA/Gk/5PYaJ541ypeihUAhUAjMYgSyZUbjUKZpAy1tuKuHCIpGi3wtaUQGtaz2T783CEuZTRZbLenETY4Tx+JhmNs7T2Etukv6T9QffMB+3dFHHNptuM5l3a1uuU3vZbDhqA+Apq/Fxa2QnKFOK0TgShbS9O3dJ/79r391v97jp93f/nZid8iB+3fX3OLq7VWxRtchgcxVj+14WN3jnar/qfLG9V4h5+0rdWt3x/zpiO70k0/oLvzf+d2+e/2iu/1ttu022KD/VHnfic+VN314yVWYRGB07a/VnXXOmd0hv92vO+PUE7s9fvaj7tbb3qzbdPPNFl6n08IN4Tzw9Jkkf3Kxw96tsM3IpA6VKAQKgUKgECgECoElIzDdH2OWLKFKCoFCoBAoBFYXAotb7qtCk0l7KwkxrxLGmrg3yibTVEz+RLoRDhN5IzN62Vr3JA+vgBP/emx3+B8Ob15Af/3rX7ujjzqyGZXtJR2Exspmgpat6Yyq4deeSy6+pNtv3327E044oW3ee9hhh7b9btovQf1rNrw2pmWPz6iRrQpl5nVnnvHv7ld77dNdcL69ldbpjj/+xO7AA37Xvpp3WQMtBMSq0GcW9eF67dfe8ccf1x133LHty2unnHJKt+8++3QXX3jR6CptnkHTHVNIn2F9953RPaXfDr1Pu6dUKAQKgUKgECgECoFCoBAoBAqBQmDNRoD1s8rDaGcU3YYImsqnpzcE+2I/3jd7uY/VHuY5R9ww8VrZRDzKHcvrjcqL+o1n9/zVPt1p/zyjW6v/RP3Z557f7b3v/t3Wt7x1824ZuVmNuLFlyUufw76kV0QYyo686eal/oqKOUmdctKJ3T77HdBd2n857JL+/fCTT/tnd9jhR3T3v/Z1+256zfrPopuF0Rexlt5zxpFY7aQTT5W3tLKp6q+KvGXpdHH/2tf+BxzcHXHUMd06627QNty+5IJLuz333r+76S1u3W2x+abUHI2/x3kqea3CxD/D8mH+ykhP1dd081aUPvYh+E1Pmp32r//0e/v4gtil3aGHH9ndYfu7dte85jX6ddeD1i9Q16oQ/RIP89qNIwXthtKXTmAuO0Wjq1/LCoVAIVAIFAKFQCFQCBQChUAhUAismQjMGLuHIbZImLDuYrM1o20sb2TAyeTtszBOekQF9V8ealbe2t1RR/2pO+BA3hi9F0u/Kexa/d4sh/7+D90f/nBkb08iM0YyliQv5cN4PO38ih7pfyhnunnDNpc3Da8cF110cXfwob/vTj3ttDaueeus113Qfzlsz71+1XsF/XtE/mCLes+K6fSXcSTWJunEU+UtrWyq+qsibxGdeszSJ+ykTzv99G7f/fbr19n8/ryvbXf3nrw4+pi/dAceeGCPce9J1een/iLyplhHw3LyV+YxVV/Tzbu8ejX5PSDwkD7++L92h/XXp7XlBbq1exz/dvLJ3WGH/b5/y/OyyXrpL/ollp80ie20JRb9J1f9orl1VggUAoVAIVAIFAKFQCFQCBQChcCaicBqIYL8hj/6b2SbTRpiSYj7MDy9POkLL7ywt8h7q7I/zj333G6PX/6y++8557RXmWxu7JWmSy+5uNttt+/0pMa/Jutenr7WlDawgkvG43WcA36z/2TeRRde0BwxTukN8j333KP/nPyF7XWxy3o802Yuxm3BTqw14+c5dcjBB3Unn3xiv4d2v84u7T9f3n+Zqt+XvF9zF3aHHPK77h//+AeHlpFjywpY77Mdd18j8TqYcZx33nndXnvt2Z199lkNI3kXX3xRj90l3f7779fjevJyrbcpKw8wdyNcLTfDvt8KhUAhUAgUAoVAIVAIFAKFQCFQCKxKBNZI2ydfNFhnnXUall75sr+NY/78+e0LWPn8mi9end57bhx22GGTdVflBMy0vmDVvgLWK3bBBRf03lJ/aIRFPhE6xJRXC6JI/eA508azqvTJholwEqyp3//+991FF120cL312PKwmjdvfsPtqKOOauWrSseZ2g/yxy741pG047jjjusOP/zwdr0qk2ftwROBZl1KVygECoFCoBAoBAqBQqAQKAQKgUKgEFg+BNZIIihGOSgY5uf0XkAHHXRQd9ZZZzWDM0SRcgYmrxZG53/+8x9Zcz7EGGdwIzMY4kJi5Yif0/rXxZBBzfNqzqM2WmtwQaBZTyeeeOIkuWHNhSRCaJx//vndwQcf3DbdLuhGCFhXrt0zzzyz+/nPf96u26w1+SnnLWRdnnHGGQVdIVAIFAKFQCFQCBQChUAhUAgUAoXAciKwWjaLXk4dl7s6g1EIIXT00Uf3r+Ic0vIY6sqRGsoZ5wzzY445pjviiCO6u9zlLu28VZ6D/8ADRl7TCZkRY1y+8pxLH3rood1tbnOb7kY3utEcRGvRIWfdIcZ4q2y99dZtjTk/6aSTGrEBpw033LBhuP766zfycYsttphcq4tKnBtncMu1asQ8pVyz8BGUW2vqZA364t8f//jH7lrXularU/8UAoVAIVAIFAKFQCFQCBQChUAhUAhMD4E1kgiKsQgCBuS6667b3f72t2/khrxTTz21GZpbbrllIzBiaHo1Rf25HGARPOC23XbbNQNcmnHOy+VWt7pVt8kmmzRvl2CmzdCYn2sYGn9ebdp44427nXbaqdtxxx0bDL5+9fWvf73f/Pj47rGPfewi5IVXFecybgByvQ6J2c0226x7xCMe0fLgc+yxxzaPvlve8pbdzW9+88lrVL25vu7m2nVW4y0ECoFCoBAoBAqBQqAQKAQKgSuOwBpJBIGFcSkwJLfZZpuOERmvAq8z2WyW98997nOfVkfdlEvP1QA3xATiBzbDsNtuu7X9We5973t32267bcMr9Yf15mI6ZE7iDTbYoMGAqIBR1uN6663XbbTRRnMRoqWOGYkmwOkmN7lJO5zDD+loTyAeVgi2CoVAIVAIFAKFQCFQCBQChUAhUAgUApcfgTWWCAokDPMY54zMGObJS73k53yuxsEl8VQ4KHPEeFcHfktrM5WcyisEloaANeXgLZR4afWrrBAoBAqBQqAQKAQKgUKgECgECoFCYNkIrJFE0JCUkJ4qDEkLdVJvmD9Vu7mSFwyHuCRvKoymypsrWNU4C4FCoBAoBAqBQqAQKAQKgUKgECgECoHZgsAaSQQBf0hgZDKSJ05aWUiMxKk/V+Ngkzi4JE4+fIbplM9V3GrchUAhUAgUAoVAIVAIFAJzGwHPxvVMPLfXQI2+EJgNCKzxn48PUZHYpLg51w166uUZnIYYJS8tlCUv9QrPoFNxIVAIFAKFQCFQCBQChcBMRSDPsInzLDvUV569Q7N/aJ5z83EL52k/bCdv+CEV7Zcn2MYifaYdmdFnqj5TbzxOXXEOdaJ7xjTebiadR1c6wSVjmkk6rgpdMu7EQ1yStyr0WBV9GM9wfKuiz7naxxpJBJlMCyhHJjcXijjplFU8QmAcM+fDEOzG84d1Kl0IrAgEao2tCBRLRiFQCBQChUAhUAgMEcgel9k79OKLL24kgzopQzpIOy666KK2X6FybULWpK78BM8usTGU+0jIdJ9ntCPbh27oFDnD9sN0+pwqVi96iumStpErTnoqGTMhj34hxowjY5gJuq0KHTI/xi0dDEKKOXfMpmAs4/OYa0l+xjibxjRbdZ1dK2e2olx6FwKFQCFQCBQChUAhUAgUAoXAakWAkRkjmmHNAF1nnXUmiZILL7yw6TespzzGtphXkJC4nQz+Id/Xd5E5SCTn0w2pT6/0KU0Ggmi6IQQKGUlrn3SIhenKW531YCnQ3TEXw5A8CQbDtTibMBmfR2OLp13GYb3Lr7ByEZj+HWXl6lHSC4FCoBAoBAqBQqAQKAQKgUKgEFhpCAwNTOmQLSFakDcCYzWGqHSMbmTKBRdc0IijqZTURl1yxEM5U9Uf5qU/edrqh5yNN9646ULWdIO66Ru5dM455zQiaaONNlpE9+g4Xbmruh5i7n//+18jCq50pSs1gm15cFjV+q7o/syPEKLkrLPOaqSgNYEgCxk5XDsrWocVLS/zF51de+eff34jTZGeG2ywQesyY1/R/Ze8hQiUR9BCLCpVCBQChUAhUAgUAoVAIVAIFAJrKAKMT8d///vf7mtf+1r31a9+tfvNb37TCJeQNzFQQRAy5Y9//GP3jW98ozvyyCMnX/ca1gtcDPP999+/1d1zzz0bmZOyZcX6YgiT8Y9//KP7/Oc/373nPe/pfve73y1C3ixLjnK6xavooIMO6p7//Od3L37xi7v//Oc/k7IY2ozwZQXkF1mrOujztNNO65773Oc2/Y844ohJcm5V67K6+huSJubu7W9/e/ec5zynO/TQQ5tKQ2+11aXjdPrNesw6yrWTNf+Tn/yk23nnnbtPf/rTjRBCcmXs05FfdS4fAuURdPlwq1aFQCFQCBQChUAhUAgUAoVAITDLEGBgIn0QLb///e+7u971rt373//+7vrXv34jPOIplFjd973vfd33v//97tGPfnQjZzbccMNG2IRMiffCKaec0ox1ZNBjH/vYbvvtt2/ePSDSb4xbsmMUJ49xLI14+fWvf936RAideuqp3dZbb908JWJAa5902mkrTRfpeIsgEIzTfkXnnXdeK9M3GWkjFrSP3Mj485//3F3talfrNttss8ny1E+boay0Tzys2zrp/5EXzIbl2pClTJon029/+9uG1b/+9a8Wq5/xq+PcYUxJp59hrEwYryd/qEtkDttKy3foO0Hb1CcjuosjN3VST9vkiQVtk24Zg3+0syZ4Rv3pT3/qEGI8g7TJHA+qt2T6SixTOriN1x+e08MxxEnbtF+arkM5SWvHK+3vf/97k7nlllsugiF5CL8DDjigu9a1rtXm3FoVgqc60lMFuioXUkefyY8M5xUWRaA8ghbFo84KgUKgECgECoFCoBAoBAqBQmANRYBBuOmmm3aPf/zjm3F7wgkndMcee2xLM1iVx4hkUB599NGNjGB0H3jggc1oZXg6xo3LQw45pPvLX/7SkLvb3e7WeRUrxrq6MVTTVpm8lEk7GMJe/3EgnZTTRUhd8TCkPDIY8jGIU1e/ytMvjxJlGQ95ypFfyIeDDz64e+QjH9l9+ctfntQhsiI7nlRkCPoVgmX0apkT/6SuvpQ7J9cRAiJlkZf+5CePOG2d00N79cb7jM7qqpdysTwyHZmroa5JK3OQpU36iSztIyty0zbyc66eIJ5K96H8oV6pr236zdjkCc6ji3R0STp10r41GvxDH2VkaBOsnScsqW3KE6tHxnHHHde94AUv6D74wQ9Oyovs9JU266+/fqsj3xpMuXiqABOyol/qBUNtlFdYHIHyCFock8opBAqBQqAQKAQKgUKgECgECoE1DAEGIUPRcZe73KURQv/+97+boYogiNGrnsP5Pvvs0/3zn/9sm0qffPLJ3d577928hxie5MTgPPfcc7vDDjusO/PMM5tnw53vfOcmQ52hkRodxGmbtHryeCm98pWv7E4//fTuvve9byOU0h95DGRBuxzyHZEl1kacumLy5aWuvPQbGWKkx9/+9rfmycEzZxjIEIb6ayOELKGjcrLHg/4d0SVjS3tx+hi21Yf8kDnO09ZckZmxSCdEt2FZ8tSTFtN52G7YXp3olDFG/8SRpa46kSd/KDc6Jz/zqc1wHNFRXnSMTkuK04YsIbrQcZge6jOUJV+9jImcnNM7ug/bLCmtHXmusRNPPLFdb8aKJBQyfvVyyNPn8vRDFn0d2mYM0vIEp9zKzQAAQABJREFUeRUWRWCEzKJ5dVYIFAKFQCFQCBQChUAhUAgUAoXAGoUAY1NgIF7nOtfpbnKTm7TXpY466qi2n0+MUHWkvUrlNS1eOTe+8Y2bkf6d73ynvaYTwzPGMQLIa1SM3Ac96EHdVlttRUxro44+GcEObRn340ZqSIBNNtmke9SjHtU973nP6250oxs1o5g+OWI0iyNLWnnGKI68psjEP2mjnfrZZ4aOzofBa2lCdKV7+jGeGOspJzMHWeosKaR/MqSHMuiUcUzVPn2QL50xibWNXs4dwSX4px3ZyvWtnRjJNB7Iy7xF19RXd9ifc3WU6yfyo6c+5AlibaOfOs7VCdbSjrRvDafxT/oNwam9fqJ3dBgXpU7qJq2NIJ9e0Xe87fh5cPFaGKI0OomDJ4yML0Eb/dgnSL1hn/odD6kfnYKddtorn6rduJy5eF4eQXNx1mvMhUAhUAgUAoVAIVAIFAKFwBxDgFGYcJWrXKW75S1v2TaLtocO75eb3vSmk0YpQ9VrXl73Qup4Rcpmtrx+vDK1ww47dL5qxfBkaCJNeD346tFOO+3UDFB9hXTwupd9bsiMh9FVr3rVRkYhfuwB47UYhjsyiT7yNt988+ZhpA/6Z68fr6zZW0VdY7HH0TWvec1m/OpXPkPYkUBXMtOWvBBijH3jEcu3oXaIIG3oHuPaF7zUc64fe9ecdNJJbax0QV7ZC0YZWeOGuHNtjZUcGPG28ore2Wef3Tygttlmm8m5iP5i8rQlA1nAa8qrR2eccUbDxj4zCD5yyVfPYQyIuqtf/erdggUL2lj1Z86Ue11w2223bTL0MQz6sS/PMccc0+ZOOTkw126INf2NBe43v/nNW5nXDx3whc8tbnGLtu+SL8NlLHSQdgyxMN/GYz0OCZOhfsM0OYL+4YrEtE6OP/74NofK6U6m9afOMJhn/cPRHBq3+bVflfXpWrjhDW+4WLuhDGn9GwtvMhgjgoyffF8J0++Vr3zlzlqCg6A+rK09fdrfSp4+EbF0H58b80ye64qO+vBK5nWve91uQT/P1kCFqREoImhqXCq3ECgECoFCoBAoBAqBQqAQKATWIAQYlTGQGaI79GTO17/+9WZE2v/nZje72SRxYNg/+MEPmjF6r3vdq7vPfe7TXhNDePgi2J3udKdmmJPJQEeu8HxgfDKU9ROCQJ1vfetb3ac+9anur3/966R3BMMaKeDLWHRhEDP8kRuve93r2tehXv/613fPeMYzJtvwXnrHO97RvibGSE9A6DCYQ0x5pezJT35yG4868hnXvn5mrIgThjUy4CEPeUjbwwWRxKiGCX0RH8Juu+3Wxh4SwdfM6O1rajbS9vocXfRB/2tf+9pts+ynPe1pLQ8WCWTEoJfP68rX2+xDhKxQRs6CHsc73vGOixA/aUsWYuG73/1u94UvfKGRUOTAGblgbl7xildMkgfIApssP/zhD+923HHH5mn12c9+tttjjz3aq3zWAoLG64JvetObmv5kIR3o8rOf/az76Ec/2tYJYkM+gsV6edazntVk0s144GrurBP6IQ9/+tOfNlLN/Gq33XbbdS960Yu62972tk1nbQXYG88Xv/jFRsYgMRBA5pVuyKxlBXoLxiT9yU9+svvKV77SyBgY0ZEO1qh1Z10bY+bIpujW12Me85huh35N0gcZqm/6XOMa12ibpvsKXYhL/elLn2QZD4xg9r3vfa9dF9rvu+++rT/1bED+kpe8pL36mDbk//KXv2w6u54y3vRpnyEkD9n6U9+8fvzjH2+yvYKmb2SS6+HpT39605X84ELXCiMEigiqlVAIFAKFQCFQCBQChUAhUAgUAms8AjG4GZIMX1/j4r3iy1SM3RAnynhRIHx4+Nz97ndv3h+3u93tur322qtDxjA6GaiMWga+POQEeYxc+Yx4HgqMa4SOfm0izVOEEc27aL/99uve/e53Ny8NHkp0dCAckApkOyfLV8le85rXNKOXHOQAbyIeMT/+8Y8bYcHbg2eLjaYTtPfq2rve9a5mqCO26Iis8OobcgjZgHAydoY0QkWfApJEucAQRyTwamKA77777g1H+shHhsESTg996EMbqcJgTyDfEfLhm9/8ZveBD3ygjZMnFS8bASmEqOFhg6zSRggBgNxANJifBzzgAQ13/fDWQiaYv4985CNNb22RcjA46KCD2pfd4KsdjxSeT7/73e+6H/7wh43Iestb3tLmQ3/m7+Uvf3nTw95NsDV3PFCM8Z3vfGcbN9LEnNPBOkD4IYSQaUiz+93vfs3Txdex9u73mYKVz8HzKIKzNl47hIW0udXOeMnImPS9tGCuM15fxvNFPPLNz/Wud71WhsDzCXr66esRj3hEq6Od9cYT5xe/+EXDErGXcl5qyBzk1u1vf/vOOsq8JI5uIV/MHZKQXtbOgp7gg5N16xxergv1YYPYsYZ9dQ+BR1fXJ+LuVre6VSOS9KE/nkZvfOMbm57KbABvPs09cvINb3hDm7enPvWpbc7oUGEhAkUELcSiUoVAIVAIFAKFQCFQCBQChUAhsIYiEEOQ0cn4RIbc8573bISM18O8WrLFFls0I5PXDIIF2XOHO9yhEQ48OJAieaVIGYNUu1/96leNROCNgoRh7CpD9vhaEmOYYfqwhz2sGcGMXO0Y/x/+8Iebcc1oZ+hHTyQAIz7EFdKGUYxIYgAjndRBcnitjWHP2Ef4eK2HDsrpweD3uhWjmLcEAoXB/4lPfKL72Mc+1n3729/uHve4xzVDmocQb5xdd921+8lPftIw2mWXXSbJAoY64mT//fdvst773vc27xh68mpBGNDJJ+fjFTVcUvRBACCNkBV0e+Yzn9k8OPLaGaKNJxJSBh4O7cwdMoLOiIRXvepVTT/jUQdBhQDiCYM8ePWrX93qaScg18w7jyH4ITr0jwR629ve1rx3eMkgP4wHGXhC/1qXfp70pCc1koIsbW5zm9s0Eo+nl7R5D97Gh2DiYYSkyLwigWwEbh69qoZMgRki8Utf+lJbJ89+9rPbPMHPHDp4F/HE4tWzrEBv/ZgXpB7PG/tWIWUEr2ch4ODE+8d6QHIJ2hoDoszrkA4eXvLMq7XFU05bG6LDz7xkzTYhE/884QlPaGQgvRF7rh9ElzUhIBvJpaN+jdPeWNafVyKtfa+pvfSlL23EDsLSurT+EFbWjjV4//vfv3vZy17WSL/MJ1yN2xq49a1v3W2//fZT6jih6pyMRr5jc3LoNehCoBAoBAqBQqAQKAQKgUKgEJgrCDDgQygwXhmavC4Yljw4GOPqMDJ5TNirhIGPVGHY89ixdwqygfdCjHIkEnLIq1WMXYGBm9dhGMEIJx5H2ocUYIA/+MEPbsQOcoOHTgxq+iWQ5SAHaeC1ngW9Z0UMaKSS142QWDxY5PM4YVgLZPHAQALxaEFm6Uf9HXpPFkY3g9th/AgWnirkCggOpBdiQsxo512DLBCMiTz9qgvT8dfsWsWJf1LXK2g8PpBYiBfzoH/zQjfkBHlCyAbjQ2Ig0e5973u3V4uMzXgdPJcQEGTxCjGmYEqOserLPCGd9Kc9WUg0c85LC9EDa0Qd7xfeUtYBwsk4yUdA8BLjAYU0NEfRU/rRj350e22MfG3giig0f/BDhNHNPPFUsoZg95znPKeRM9roTzv6xSvLOJYU9G/deSUL6cUTCLli3uBqvOaL9wxiELnD+weuIYHItocQYpCHFnKFHtIhOhGB5oD+OfQtiMmCL7wzh/qmh7Vlfo1PPdcb3eDsGlnQr23XiPWnT8ScPlyjXpsUeGTxCiMHQWe9mX99IJh48VnbvINcn7kWWuP6pyFQHkG1EAqBQqAQKAQKgUKgECgECoFCYI1HgNHJSGUUMhgZl4xOG8vy0GAQM+4Z6Egh5QzKeJswYhmlPC0QNwx95A9vILKRRsgEQVtEEYMVoaAeQ189ZfpXrozBi1ThecIAHwb1BTozdGPox9hmQAuMabIYwYxoxFXK9IdMYJCrJyjjmRESBQHiQGDoS5sQQc6jh5juyARG/pFHHtkMcd40cEQyqcPIJ4sc7YdBHl15G0nbCJg8cumFlBBnrkKwOEfQ2OvInBgrrxrt9OEwdmQB7xeY8ixSHv3pBQfnMCJT0D+ihyeYOTM3DkQVjx4kHFJJH9rAju4Or68hgpBC5MpThw7OpR3GBVOYk0M/+eoYh3PeZ4gSuhm3soTMZ86XFPP4QfAIdMp4yRPoJw8hZR1bl3ClL32Uq6s/JBBdjFeedZz1BZ9gT+4QZ+dCMA4OZKQPcfqBB530nf6VaX+DG9yg4SCdfYO8AohM4x0n//DDD2/46pMeQtojWOlvLGRXGCFQRFCthEKgECgECoFCoBAoBAqBQqAQWOMRYATG+IzBidxhaDIsvXrFaGQYM+x5G9irRd0Y5Mgfr/AoRxYxNnlzMGIRQciJyEa6MO6FH/3oR+01oxjB8rQV1ONtE+JFX2QMg7q8O3hB0NWrXLxEGLc8P7xeJra3Sl4Bih7kMJYFxj2jO2n6JMjXjzwH41mIntpGJhKBh5FXy3hHPfCBD2wkFuIBWRaPm+CWPsRkey0N+YDc4vWBXFCXDgx5RzAQK9O/NogX8Rf6jYxtaq0sOkc/40VaBNOMIXXpQV7OlWfuEGLGjmhA3tifB1GoTnQKVmLrJP1kfOoFP7poqw4CTFnGiZhCqFgn6vASE9KXOEGbZQU40J/u0tY3GdL0MGYBkaZMvlfY6JB1o1y+OYinkDSsMv7kqxtdUyZPkK9d1h6ZxqAeWcojU6yMfuqpE+JMPUFe+uCNJCAiveanvZD+xK4r5J5rs8LiCBQRtDgmlVMIFAKFQCFQCBQChUAhUAgUAmsYAgzMYXDO+PeKjD1ibD7rlTAeJ4xj+/kgExiZDvV5/CCHeA/x4mC8ntB78nhVyOspjH3GaoxXbaTttYK4iTEvP0atNELA5tXpJ3pGDmPaq2m+9GST4Te/+c1t3xjGO1KKF4jXzBBVjODIFwuJh/LTv3L5+pInPRxD6skXyEIk+LIUQsieMTxnkGi+/uUrWb4Y5og3VWs48Y/2IQQiL32EqEj96KFN+lfmtaMnPvGJbZ8adXKo54ABcomHlXZpmzKxNmLYwj9kjnz14SG2v45DcK5NYnW049WUuW0VJ/5RN3MYHZ2nf31Lx1MrOpGfkHbGNJ0QkiZ96I9uzoXIy3n6yrny1IvuGW/yW4Wxf9Iu2Rlb5IqH6dQTR6fE8rIWhnKDXfRxTXiVDqGY/uBkvOqaG3scmd+hHPLneigiaK6vgBp/IVAIFAKFQCFQCBQChUAhMEcRYCDy5OHV4fWfn//8580jiAFp01oxAzIGsXNEkE+K8wRCAvHA8PqQPVwYuoxQ9Xjr2JhY8DpQNuRVhyFLbtKM1xjJMXa1k5d60vRl9NLBq1mMfh5NSCSb4vKAuKIGr/4dkRO96JOgDNFizxjeP0ggWPh6mU2ebZBNp3vc4x5pskjMSwNGvGZspA0PGDjP+DNucQ7EEvKLR5HXuWxYrJ3yhGDmPGUZg3ohRUIWqIOIsfeTeuSHwDJvXqtLP+rCXCzQO2GoQ/KmExtvvFZ4OpEpL7LFSU9Hntfz6EwfXmIwNa7Mqdh48zUv4zWX8FiRYTgP5C7PGKbSw3hyeA1RGlmEyI33V8ggZfo3psyVvAoLESgiaCEWlSoECoFCoBAoBAqBQqAQKAQKgTmEAOOUIWmvEZ41Xg9DMvA0QGQMjUd1ETE8fxA8XhfimcLg9AUqxETqixnjiBmEx979V5ye9axnTXougJiBqh7CSPB6Dvn6idEcY1qMbPnQhz7U+vQlpXi7pA4ZeR1JXmTIX55AJ23JWFLIOI0NsYCMog8yyufObaDMw2oqOdoiPhYsWNC8qtQzdmQETEJI6J9hD5OMBzED6z/84Q/ttSCkjHbRNXoFR3vKmAc6CuTTWb3gry2PKnsAqWfe6YdkQO7ZA8qXvHiW0Ecdh7HpR5B/eQP97Qsk2J8ossmXph9dsz/O0voxLkQQXX2xjqeWPHpmPyr4Ii+td32YuyFGS5O/vGX6dggZy/LKGNYnixzXrGsPXl4Pc51l3YjVMc/GDTfnFRZFoBBZFI86WwYCuZCXUa2KC4FCoBAoBAqBQqAQKAQKgRmPAEOYEczjg8Ftk11eGQgN+/YMCQbGJOLB62GMZ/uU+JIRIsdXu3jqqBOjkxEaz53f/OY37XPXMcaVIQ/Is+dPNkAGmD4d5KiPBJC274sDceLz6b66xYMJeYV4QRQZT4zv6D6chKnyhuVJq6dfAR6xARIjnIzffj0Co5sBHvJCW4Z6ZLRKY//4cpVyX3WCgbYOfZPti10IIn1GrrKHP/zhjfzZa6+92r5LIWEyNpjtsccezbMrni7R21485oz+ZMqXRvbwCKPzDjvs0OYUGeQLY8iUT3/6023j6ejBo8bceZXQRsV00H90GBvqlKepi3DytTAkl7ncuycNBXOuP/p98YtfbHtSyc9Y0l5egjIePj6fbk723HPPJpOu5GU+fPWL3sbIayvzF9lDedJT9TVeJ+fjsT61N5fGIj3sZ5gebzs8184YyEDGmhteXPaJsl7IUe6wFhFd3//+99s1NJRT6RECc8YjyMLIorM4hgvOBZagToVFEQh2cgufRbGZztkQv+nUrzqjP3C5XofXJ2xy7dZarJVSCBQChUAhUAgUAlcUAc8VjEafrkYCIDbs98NDCFnjOSTPHnkm4Q20Q08WIF+QJDxIED7jdT2r+ArU//3f/zVPnve///3dKaec0r7kxGuDFwoiAZlzxzvesb1OhUzKsyN57BYxogEBZcNonwa3abRDOSMemeVVMZ9iH+6dE3yi+/jzU8amXp69pBEo8XBCYulLXWSTfYoQVx/4wAdaf3RSl5cJw5u3jtftjGmqkH7uec97tn2TkDDvfve7GwlnA2Nf+vI1K8QMPIS0MQ79+Zz75z//+e5Nb3pTd8QRRzQPLoSKL77ZvNo+RT4j/5rXvKbtAxU9fFHsox/9aPP+QSaYe0QU0gm5Y18jeofY0Zf18NnPfra9ZmWerROkhlcDbSRts+tPfvKTjcihZ3QdYpv+lRmDMrH5E7xiZ60gsF71qle1T7fzRrIeeZ4hbXgN5TW69CEeBnIRLw94wAM6ZI+9r3bddde2d5R9jJSbn5BsT3nKU9qX8SIvOkeuc0fWofzUTb/KUz95Ym2U8U5COMHZRuvyEDh0dO3AITIja/w8ctUVvLq38847N28gmL3yla9sa8m1iQjklWaDdt595tu8kV1hIQJzhggaLk4XdhhrUGShLYSlUlMhMI7bVHUqbyECbjbjx8LSSi0NgeH1mj+QuXmLc80O6y1NXpUVAoVAIVAIFAKFQCEwFQKeJRw8fLbddttGzCzoX1lCqAh5/hg+e/AAQhzZp+SEfl8c3kC8h/Lcl36cI5N8XQuxwqvD174YqM6RSOTql5cLuWwUedoxdpE8eRbyNTMGtNdibGStPvLF4bUmZAEihhHMS4JniLaRkzEM9UMa6IusPGMpp99973vfbvfdd28eNO94xzuaXsimfJkMSaM/RBZD3ys4dLFf0ute97pJIin9JQ6m9HrhC1846RVlE2xyjNkYX/ziFzdy7LTTTpskFbRVjgiis3EiacgSIhuBY4Nn45AXAgGZ4uBNxUtGPnIFkebVvWc+85ktHVnyjQXp5HP3SAeEE68UthEy6XGPe1zTJfjSK5g3pSb+iW4ph73+zRGyZJdddmn4eaXrve99b9NDXwic1772tW1fKsSTdmQ5tI1c3dDBGjJPr3/96xs5ZQ59Vc5Y6Iwo4X3kdTdEEMzpoS3dYAZj5w6BTP3SR7k28oRxHVpm/0/aIrlcL4gpOmnvevH6petMn470ORxP0vrTLjJdO9YI0uxzn/tcIw4RZvQzFqSefb+e/vSnN/wiJ7pV3M9PD8qcoMayuC0e7xLus88+jam2AC3ehCyunM/1OMsDLn4N8Afmfve7X7eg/wNZYekIBDt/KPbbb7/msuhrEX5VqLB0BIKdmPuzX1y4zPp1LmUk1PW6dByrtBAoBAqBQqAQWFEIeJ4ZviK0ouSubjmeJdgJjNx4ofBuYbwODU96shkcjGmeGp6NvZLCk2P8GSXjinxGs1eMfGmM14pzXyzjTcLQ1ycj1nMOQoWXDM8YsnlNeB6yL5D9UHg4ZONpuqvP8PWcjjDw6hOCZvvtt+9O6ImqfPrcc6g+tRHoxmOCXcTDZaeddpp8Ts3zlmcwXkvIEgSK5zGvzdHVl9V4l+jDK2vwMh4Guq+JZezBIjHZyhzIGK/j6YMc+GavIWSGOeE5ZT4W9PaHtvQXW49HH310805CFpHnOVvf5kNaPTK9erbjjju2fF5E6sLLuuZFYt+h293uds0DKfqJBf3Bn476gRUc6aMfGxXHewwRZl3wPLr73e/eXa/34greZFk7yslDIJpbOtBRPWSffpRbk9rbjBupwQvLeM2rz8yP60m+QFaIG+vUutPOWhV4XSFg9I1goZM2groIG3vuINMQNMEwOBx44IFtzSEjEUohhGA6DGlnfEcddVTzoKODPnmMWSdw1CfvOmvHHKRP7WEAcx5e+rLuM6/6ozsSlLeR68qrf9ojaZF08HNO93H9hrrOlrQxIGCttysa5gwRZCE5LBYLKgse8ygfqImvKKhrWnsXN3xcxGL4OSosHYGstzDTzuEGwwpLRyDXoljIzRt2juQXlkvHsUoLgUKgECgECoEVhYDnwDWVCIKR8TFQPWOwExwJIWhiR+Q5hB0Rozt7+Uz1bOJZGkki1ibP1OSkfcrSr/opU5/x7ZUsXh1793vIKJOf53I62hOFpwyCA4GC3BDUUZ9sz1R5tpcnMJSHZfLIQzDRQ/thG/nx3iDDkT1ocg6PyCdvGOQjrsTpO33oV1/01EfwgpU8ekqHeIG3OsEtcvSXNgxnP8oiwpBE9ldCpmhLD22k9etwTh79Io8sWGTu5EcffaUNOXTTFgbOxwN91SdL/87hJ08aBmTniGxyjEUb9YPduHzn+tVeW3XH8TJO/UeGc/1qZ5zGT3/jzhiCB28nhIvz4KWeYxj0r616ZJM57Ef94EAP9bOOtIvM9EuGckcw0p+xqU9f+WQKwVa/GUMrmMX/GMeKIoLmzKth5ttislASZ0GMx7N4baxw1WHl4hO7MUlXmB4C1hW8xLkhTa9l1QoCsLP2gqV85xUKgUKgECgECoFCoBBYEQjEkGUj8PTwzCF4hnMoDyngPGn1lMX4ZIAuKXiGRqIxdpEongsZvcLQSA2xo4xc8rXVF68VXiE8cN71rnd1j3rUo9rrP2RoxxvC60721VHmVTftyPfsNHx+Mg4heQxmIViI6YAQIEO5OO0iN/ioa0zBhlx4kKPueJAPC/WMkxz1tGHkkxXZwde5+iE09BmdIiNjSH+Ra16lhTyTaxMCIXqSCe/MQ3RI3yEpyFEn+fSIDPLVi27BWJsEbUOy6U+Atf7J0UbsHCaZQ/1pN56vr/FAhnrKEDdDedJZd+Y2azdyeX/JG45PGZnqw47e5AhiZeoPQ/RSBhNhOH9kOgQyBTK0yxxID+so1zeZyhzawl2aLonVHc5Z66D+mURgyXesySprRsKCGF+ca8bIVu4o4DbVhb1ye11zpMOvwvIjMMRNOusw+YmXX3K1KAQKgUKgECgECoFCYCECDEjPuoLnC/aC8xipsR9ieMbgTJ0Y0QslLppKPQawkP7kkx35Yn2mH3VjbOsDsWOvIZ+PtzGxfYbsK8NDCMnk9Rixr5+94AUvaHJjFJMlDGWPckb/Jt/46RBdch6dg8lwzBkHSRmL+uN9D/sjN+VkkeGI8Z9z8oK3vgXtBDLUC/mU85QNz8kQIkuZdAiW1JUXgkf99KkfQb30Tzf52ogjI+NSX3v540GeudW/OmSFmElddYJNZEcP9SN7KvmRkfGGyFNXu2HbyFZXPv1DtKQeeeknOiUvY095+k758JzeQ+IpfYuDZ/pMPxkzOXQU1Bnmp25kBMvInUq3JmiO/zNnXg2b4/Ncwy8ECoFCoBAoBAqBQqAQKAQuNwIM5DXx1bDLDcgqaMjYZeSGXGBEe+3LHjIOXkDyvNLmlSdfu7KnkP1d5noIyQAHaV87+8QnPtG8qOxtY4+dCoXAbEPAWl5Rr4YVETTbZr/0LQQKgUKgECgECoFCoBAoBFYxAkUErWLA++4QQDyJ4uHAE4K3hldhlMl3eK1IyKtcIY7msieEsce7RBomXhNCrMWDJF4wDbz6pxCYBQisSCJozrwaNgvmtVQsBAqBQqAQKAQKgUKgECgECoFCoCGAqODxk1fEnCMznCOIkHNiecpCACE6kCBzOeTVIYZzPKuGGHmNCIkmrlAIzEUEauXPxVmvMRcChUAhUAgUAoVAIVAIFAKFwEpBAPkwDCElEo+XD+uOp5E+SB0khhjJo700Ekhs42V56ooRRCsjLEtv40udYZouw/xVoduwf2k4CdlHBmkGywpzB4Gswbkz4qWPtIigpeNTpYVAIVAIFAKFQCFQCBQChUAhUAhMGwEGZwiHNIoRipRwTCcM60lHBlJDOuQGzxYBuSEgjVZGiO76ji7DfoZ54+noOswftk065eoP+0v50uLgFRnqSueIvORHp6XJrLLLjwC8YZ+YpMzR5Zd6xVpGl+EauWISZ2/rIoJm79yV5oVAIVAIFAKFQCFQCBQChUAhMEMQYGQiYXjkxOAU5zUkai6PATpuRGsfudIJkSlOOmUrItZnQl5TG+alLPqGYAmZk3P1xgmytBVHphiO6pKpfWQN6w/TykOADV/5yutyZAkrA5+hHpVeiMAQ88zpwtJVl9K3eY8+es5aW3VazLyeigiaeXNSGhUChUAhUAgUAoVAIVAIFAKFwCxDgKGZDYlDfgyNT+llERozcciM6BwxoBMP9c2YlWXc2iFo5CFoxg3ytJcvqJe+yMjrbtLxeEob8VB+XvfaYIMNWru8+kXmVG2Hciq94hGwHpCi5sH8SWeeV3xvS5aYtUifvGq55Npzp6RejJw7c10jLQQKgUKgECgECoFCoBAoBAqBlYQAwiHkA4P31FNP7Y488sju6le/eneb29xmkuQI2bGS1FjhYs8555xu//337/75z392G220UbfTTjt1V7rSlRbzqjDmGNuMfgb4cccd1x177LHtc+23uMUtJje2XpKSZJx33nndAQcc0J1yyilNxl3ucpfuhje8YSMRYDcMzpFv9kvSbr/99utOOOGERjrd+9737q597Wu36rMNc0rDYny8w7Ff3vTKkjuuDwLw3HPPbdfB5ptv3tZOyMDxuivqfEljO/vss7u//OUv7Yt72267bXflK195pWC7osaxKuQUEbQqUK4+CoFCoBAoBAqBQqAQKAQKgUJgmQgw5ASEgnTOY8gvyzBOvXQ0lWE4rBN5SIukh23pMV42bD+VfMbumWee2e26667dz372s27TTTft3va2t3UPfOADJz1TpupLv+P58qbqI3Wj21AnZYK8lOdcHEzH86bqR97pp5/effCDH+wOOeSQbsstt+xufetbd1e96lWn3JRa/XjmHH744d0b3/jG7ne/+1133etet3v3u9/d3fWud530ihrqnHHT94wzzug+9alPdfvuu2/T9WMf+1i3YMGCRbAZ1tdGQFh99atf7X70ox813a55zWt2W2211WR/w/ElnbgJGPwzjt14vfQvfzoh9YfzMWxHTta8fOn//e9/rQryTfv0NdRlqvxhHgHDvq1NcpE0NhmPPmQO5baOJ9qm3+RNVS9lidVxDbzhDW/o/vSnP3WPe9zjusc85jEdb63ok7pXJI4uZBrb+eef32244YaTrwlGNhLohS98Yfe3v/2t+/GPf9zd6la3mrwW1RnHLO3EGf+43sO+U2fYbqan69WwmT5DpV8hUAgUAoVAIVAIFAKFQCEwBxBgTDGAGVwM1BhaiIWpykAS4zlGWgyytFUnZdLCsEw654zj9B+5oxaLykj91HUeuWJeQTxhfvOb3zSj+8QTT2ykhk/B08WRflvD/h955CVEZ/Wii3RID+Ux4pOOHsEur2QNy9Vxnrr6k3Ys6fUp9RnZjnj6RE/tolPkRObRRx/dHXbYYc04l+atM8RMOm21oW/mmpcPo56XjzCsl/OMU790dGgDZ3KcD/tzLqRu4pY5kZ9yspWTLZAjBFPplKWuvGFIf/KGdaKv/PG0PH39+c9/bsTZRz/60UniJuMl1/icC4nlSzuSjt7J/9WvftUIyt12261hlbZNUP+PdmkrL2OMnsrITH7ajceuAXP+gx/8oBGBe+21V5vL6BPZw/4jM7G+Eobp5ImjKzn6eN/73teddNJJi+inDrysDWQhHRzyHeZUSL/tZPBPdNaH+oJYftokf9BsxieLCJrxU1QKFgKFQCFQCBQChUAhUAgUAms+Aow1BmSMrBhr8hhcDDFGGzICKSHEkBzWlSZLG7JirCWWl/ykyYoM9aKHfEFeSAD1pB3SQuQgIbymtNlmm016o/CCuOUtb9nqk+PQzhH9yZBWJgzr0EXdEDGRkT6dSwtkpK68yNRWWp760oJz9eFlPMqWFlKufuSFHBrX4VrXulbDgXweRDe72c2afDLkibVJv2Q6FytPkOdI39KCMaUNHZRnXGmbNvLhmPrKU6avtJPnkKcf+c7F9NSnfLISMpacD+P0oY39aRLkZxxkp6/ocvDBB3df/OIXm/dKCES6O7SlizbS8hK0dwiRmTQ5P/3pT7uvfOUrHUII2eYYyiLPETyVRaYx0zX6tk6W8A+drne963Vez7vpTW/a3f72t2/eQNpGX3Kl9REdnUd/egxD8BrmZfzin/zkJ93uu+/e/eMf/2hjUD99DWUlTRcBLvLS71B+6gSD6BAsnGsbmcO2Mz29cAXPdE1Lv0KgECgECoFCoBAoBAqBQqAQWCMRYAwOjUDnjCt5DmlGGYMsRlgICIYcskU9eYgY9Rnt6ks7YuiR7dBOLKTc6zLqkcNwj+GnDvn61k46Rm2MRXna8zxYsGBB9+EPf7hj0Nsf5U53ulPrgxwyMz79DM/JoMtQL/LWX399TVuf+qdHxqM9HcQOQbmQcUiTTa66CIDoTefoQWbytUmIXOXS5EQGvGFNb22D+x3veMfus5/9bOcVMXjc+c53bnUiSztj0U6ec3pkftP3ME5dfagfDOiTfof1k1YvWJCR+dOv/pxnvjNG+WSSrR5dYSUtP23hIJ+MYUh79eCif0E6R3Cnk35T7/jjj+/++9//tjbyowNZgr7I1y5jl9ZeHXm8qWCUvv7zn/+09ahtxjjUWx4ZQtaEPDK0ybprFZbxj3ZezXvve9/bvHDsk+UazRwop5f+grE+oqtyIfqMp1th/4+xqmO89qIiS0h7+WQOQzBMnWCgXspSnzzyUxYstKXvsvSLnJkYFxE0E2eldCoECoFCoBAoBAqBQqAQKATmEAKMKgYZ0kNgBDPKrnKVqzRji0H2r3/9qxmV6vEwsXeKdowzBqY62mtnnxCGPWP4rLPOajLt1SOPEacuI9FmtvpSb+ONN26bICNdYmSTZaNZBp887R0JdCGLoWjvFfXlOXjEPOhBD2pl2ihTj86Cc7pEB3KM17jkqysmSyAf6aB99kFRxziM36GcXP0Zx7BfZfbfMV5GuX4cMFNPOSz1OR5i8AYHOsCFLDrQm8y0Jcd4bnKTm3Q3vvGNmzhl2otDkmjrdZ1///vfrcy8aieoayzDdOZbHW3yqo/Nf41hOG+t4eAfOJEXvMUw2mSTTZruZJKvnr6VIz/Ijt72mFGPnsYcrLUbD8apnE7K9UVfmJENI3LkZ67Vtxbty6S9fDqYIzKsBXHmSdpePOTSyxyQCQuHsZhXsc23kUEC2daTvvRJh+Qbqz61M8fq6fdqV7taG0t0bQ2W8g8ZNhW3xvRBP22tU/0LzukmzxjlG5tjGOi0pKA9PP/+9783WZGpvn7JFCeQpQ7s9Klv49fneD/qJY8ccwcXwbj0TbY6wz7S10yOZy0RNAQ6kzNdoMfbjp9PV85sqpcxLgkr5Usqm03jXB26wm5J+BWmq2NGqs9CoBAoBAqBQqAQmG0IeJaKofjHP/6xbfrLCH3CE57QLei9SbzyYc8dZBADzBeoHvGIR3Q3v/nN21AZ27xvvvGNbzTD7klPelIz8L/+9a93v//97xtx8v/+3//r7n73uzcjkOxf//rX7fB1L0YrcmXrrbdur7OIEUP297FZMQOQHs95znMWIacY2wxEe67sueeezZh87nOf214L+/znP98dccQR7Rn7+c9/fns1ivHJePSMaA+VPfbYo+2jg6BhdCIdjG3HHXdsusiDjTY2nvZqj/Td7na37uEPf3hro39y9a8OHOmvzwR92USZPkgDcnlpwIMspJU8ssYDXfNMK0Yo2O/H60XmAwZe+0J6+SKTc/ogMz73uc+1+ozs5z3veY0Y0gcdGeA27v3lL3/ZjHj5vvJlI1/kQ0L6dm7s5s5YHfaDIYv+Xj+CY+oPxwJDBryNq7Wzh1OIIF8ku+c979nd4Q53aPjT3Xx/4hOf6I455pjuta99bfti2g9/+MM2Z9YKUuQe97hHd5/73Kel02d0FusTpoKxHnjggW3+eK4gIJAPxrvDDjt0voxmDf/iF79oHlQHHXRQawffd77zna0ukgfGvkBnLMZgHozJF93kIYFs5v2whz2sbdBNB/NgrfvyG9JIcI3ZvBvBY50/7WlPaxgah/H99re/7X7+85+39W8u6HqDG9ygjfe2t71tO2+ClvKP8bge6Xmve92r6U2OOYKlctew68/+PkcddVSbd69VZj4QSeYx18F4d0hec2RDaiQXjPbee+/u5JNPbvgjf2E7bG9+XQfWgXbOeS/RMa+wwS1zqpxsWJsXBCSdrn/967c14HrVb+ZbPBvCrCKCcjGblACcCZoO2NpEhvrOtY+MxNORNRvrWMRCLgRY5A+R/OAhXWHpCGQt5eautrwEWA+xTX7FhUAhUAgUAoVAIVAIFAJTI+BZ3LMVI85+H/FguMY1rtEMR0ZfnuV9UYox66tUSAjPYUgbm9My2pA6CA8GJ68HBuhDHvKQ1vEJ/efFP/nJT3bf//73m5HsmQ1RweBlkCI4XvSiF3X3u9/9GumDRGFE8xzxihfDnR6xHRiyXgPzqXjeLy95yUuaMc1wRNyQ/dCHPrSRM9o5EEAf+tCHJomZISLIAMczn/nMRvaob3yMV4QTjHijGA9jWrlnT4b0d7/73TZeBAXSSl16vepVr2qEEywQNXRHHBirrzn5opLxqU/eVAFOMH3Xu97VsEdSpK75oN9rXvOaRkSQj7BBJuifQe/LUfLJYUzbCBlRcNpppzX94YTUMQfIiISMHwbytfvSl77UyA8Ei/EIxgKH4TO5/hzGrc1nPvOZtq70g1AkT3/IqGc84xmNEFE/awEhYu0Yg/UWveCkzFp76lOf2oiA6JtYHfroC5H5nve8p5Ei8UARG5v+kYdenfvIRz7S5lE/9ICTL6EZkzm/0Y1u1PD91re+1X3zm9/s/vCHPzSclWfccDAXb37zm7sFPXlp/cIMYUIfcv/61792rgNpJBpC5jrXuU7rjw6uG+VkmhdrBXFC15133rlDqgrDfjPuxNam+UdCIc4QWLCwLlynSCmEmL4Qekgp1zhM9WP9PvKRj2zXMr3hmTHqg+5Ipre85S1tc23Ennkzx1kTiB0En3bWnWAuEDrGJ8/aoMs+++zTveIVr+jue9/7NtnmRrl5RwYrd+4LeObHPYEsZPUTn/jEpn/roP9Hf/SbyWFWEUHABKqFIFgM0w0mUnuTR0YmZ6ZP0HTHt6x6GT/Mhmk4OJc/V7BYFlbTKR+uJfWDY9aXG1+FQqAQKAQKgUKgECgECoHlQyDP6Fp53mJ8IXX86s7bBGmwd/+LP2OSwbvFFlu0T5vHSMzz7He+851m4DEIERzyEUqMRYbiF77whWaEMqwZmzyLDj300O7LX/5y+0w6Y5hnijZIFV5FjFQeRjxB6Jnn5wMOOKB5FjjfbrvtmqGobnTxfKhMEPuSls9qM8ydb7PNNs1rgSHMuEQ6MFQRTDwVtt9++yaLnMjULukmuP/HefKMmzzeF/bpoaP2O/QkFlIKDvBDEiBpYKwtg39Jz7FsBrgjQOIBFAOaRwrdkQU8UgT9JQzT+kD0ffzjH29zxCPFGHmB8F5hXPOagXGCNBl0Njc8drQzFz5Jb4Ng5Jm9ddJOfWm2o/WAMGDAIz7MuT2M9GPOtXvHO97RNjbmQaIdPMTIKp5avLS0Rb5kfr73ve81jypeMsY1DEgP8+DT5dacGKmCdEH6IDwRHta0NRpPGISPNYJ0k0Y+mhNeJ7xQzD2SEd4wsOaMhRx5+UT6lltu2e26666N4OH5ZY6tccE4zBOMjC0koI2k4QszhAcPJHjY5wn5ZL0gPXnPuHaCdbAajl/amoHDeD0kmPVvTnik8bq6Xr+5NOILgcWzDXGHyInXX2SkD+fwQD66T/himLEg1UIOOzduejgEXmo77bRTI5GRX14pe93rXtcw5QVmPcEazjClIzLLmJG8+oQbD0XtkGxegbQWjVU7R/qLvjMtnnXWqgl3WGwBd0k3qyHYw8nA+rkZcs9zE8Dck6XOmhoyfhd12Gc3IvkOeCqzqKUrLB0BaxCOMHPAEHbBck1fT0tHp0oLgUKgECgECoFCoBC44gh4xve8ussuuzTvGMaq569PfepT3dve9rb2Kz4DjSeQ11Y8nyUwohnbz372s5shzPOAscYQ9ooUzwE2ADKCIe35F0FCzutf//pGdjB8GX7kMFJ53PAc4W3hK2CMvngdefazKTTSaKpAN8+JCBgeHjwZ9Km+sTAuGZ/IAq/sIJx4SXzwgx9shJSxC7GDpupjmEcfxARiBbHk3GtIDG7jpQtsECH0jj2FuBjimD61FxjVMOEFg7gwBrq+4AUvaGNDkCCFEHSCfobB8zKPj6997WuNBGKoe2WM8c5Dh/cN8oFHFsJFIMM64MXygQ98oJFA9Hj605/evfSlL21EFtKLZ9PLX/7yNnfBSRyPGCQQYo0Xmbox2hENL3vZy5p8r/MhSIzLIfBk0QZZpR/kAO8mRIA1AV9k3njQnp2AmOHdJviClvW11VZbNfnGYI6cGz8SBEHk1S6eKAgb5AS96WsMZNLXK23WK1IDjrBFWiEnyEBSmWN9vv/972+Y83oSrAFYIjpjG8IbKaaPBb0nkXVItiBGdr34xS9uOCE/eIbFdhxfM63RFP/QHS7m1Pp81rOe1bxwzKfxGS+5cHWNuNaMU33txvtxXSCqXFfKyUGKmSvy6GftJqaSPq05JBp9vE7HE8gcuT8ccsghjZSkH1LSq3dIsTe96U2NYCLXcf/737+tdWsDsYlAoue4jlPAMCOyFr0yZ4RKS1bC5JogNxs3be6c48zrklrn5mWyMeNuqm9961ubu5o2Uy2sJcmajfkWpIXpjx4W1M2DG54LPSEXcs4rnhoBN0t/NL/97W+3Pwr+8L397W9vv0RYX8F66taVWwgUAoVAIVAIFAKFQCEwHQQ8VyFIHvjABzYDz4+5nsN8kprx7pnLr/mIIMGzbgIDl7HHWGPY8yxgxDPqeI9oy1i0Tw6CwbPdCf2rIgxyxIhyHiYMPp4VDH3PyjxgeCvQAznx5z//ue1NxJa43e1u14xlaSExWQJ7hHHLu8jYED+PetSjWp9sGl5E+jZehr/AIKZXZERmK1zKP+qF3IkRzVj2QzhiBBkj8JwIiaB+bKZx0eTRgeFNZ3uvsCPUR5Qw4AUkkHHAJzoPZRk34iRzxiPDK3i8kvRBRySSeRHk6cM8IAXMlfGYXx5E2ilLO3olaKcubxZkizSDHnlCDo8rJA2skQ0C3YzBXEd/HivIBWMyNn143YhuMBjuS5S+xfqLDuQZO48XBBIPJHNgrNaWtaCcPGtM0L+xWRs8oKz/5CMm2SDISwSSutojfWAjqO/1PYENSLY6kWs8PLzEyqyN4AQjusEJRg4ki3k2LtdGyJfg1Dpaxj/aCnAhz7Usplfy9b2gJ6KQt0g32AlT9ZNxKzcfQvL04ciYyVEH+WrdKBPk69O9Bk6uOdc2bHhewR5xZp3A0xpAACvXzjXLgyu8hD6m0rV1NoP+mXUeQW62WE4MuZs3Fy2LJwHo/iC4wZoYzL+QCbH43MC4lnItxPq5wNz4tM2kDReS9vLlJV/eTAjj+vpDYfEaH9ZfGOrtjx/W0o3HzZSbLbe+8TAuN+NPvSWdj+en/nRiF+NQ1+m0Wdl1gkP6cSNxQ+ASyZXTTcDN142DmyfMtXHkRpe24nF5WU/Jz/mwzXhaXfUSj5fPpHN4wcmNPA9bS9LPeBzBbTi+YXqq9sqFIX5T5U3VtvIKgUKgECgECoFCYGYi4NnQcwFDzd91ac8WnuVDlDC+GO7jzwoLekMS+aO+Z31tGXQIH8aeZwaGL0+APFepw3hmDAsII8969jfxao19ffTFY4CxjhCwBxDj3is8CAO6sSsY1wnkO4yDpwYCwrk2vJKiuzY8Yhb0uvO2YYR7Zmd8quNI0D4h+YnlGzf8GPOImuhsXyJeTQgDHh68GNQxdlgG68ieKiZbX3SArWdh7Z175lO+JFJJmTlAIghIC4a0YPzkqOMQMk7nyAjyjUsba0A645ZOfW3lawfzGOlsJR5Y6jlSx6bB0ox784koEOhjLOTARhtp8xRdrZmkW6OJf8jTZkE/n9friRvkF114/SAy2anIwx122KHJU5fsIXZDPcmDt3piOljLyBIEo3VifIgpQR3ytJsqJB9uiKBcG/J5prEZM3Z6wF4dQV+uDetde+OPvKn6kpfyjCl58lMm1idijFzzJk+bxEP58tUbD8nThm6CdILynIv1iSiWhhu51gEnFHWRp7zplKlDpnzrxT1BHKxTRsZMDrOOCBpOmIsgiy5AmxyGpwvcBlMuMG0c6ojdrFx83MEsYpOmjDwhsoYTlzztTXrqDuusrvRwfFwAuTS6wbg5ZiFGZxewP4JwctPKgs341EvaeHKePH0J4+fyUjd1xPofBnWE5KeuvHGZOVe2ugM96ePBAL7c//xS4eEB6eYmiAzKeIwzbbRzpCxjcZ56bj7Oc6iTdtKpKy9rXv5MD/4QcX+lv/eNuV5mXPKWhEvGlfXiXN3xoHyYT+YwDMuG+ZUuBAqBQqAQKAQKgZmPQP6O51ld7DnIczijLeVIhTwrZVTKveaUoK46IQSce05xnmcreZ4tED+e7ZAlDFIGt31a/MjM6GMkI2n0a28SeiE07CnEk8B5nu30T65nb4HhjvCgCyJo+IM2ffXPRnEIZHlmj/7aZVzS8p17xoeLcyG2inF4HYhBS1fkludZXin2zUFe8ZzyPKvN+LNVEzb2jz7U03+wk44+kaFsPChDbgUP8wQzmGT82ugj/TjXDt6RbU6yBtKP/pUnyCcjZIJy/fDGyVpSLp8888tDybwIygTliZPXMibK5A37TZl8By8kryOZe84K1g5SiFOC+eEBli/NkWPtRF76Ds7RQ2w/JqQexwYkWdaW9SKkf+lgIZ2QcmVw0T79I3mQPmmnLl0QZGxpJGjWYcoid2mxuvoQC9ZcxuhcOvKG+amvzngINkPM5OV8WH8oUz65OZQ5rE1tg6dxWqPxdFOmnnnSD28x13/GMlW/Qx1mSnrWEUFLA86EWMQuLh5DbohCJis3RHluuibVzV1+Jk4ZOVmAWUTDxTeUo/7qDENd6cgtzQ0eqytkYQeDe/YulMgLnkHcOt2YMvahrIxJnqD9UFbSKVcn7aVTLj0M8tUbynMjFnIRi2dKoO8wWFduti5878h6R1od4xGMbbhmMqZgI86hLHW1zR8kecFEvhC5STsXxvVrmTPon/wygQDK+KJecDNewZjkpZ60sow17YZx2g7zpNMm634mXbPjutZ5IVAIFAKFQCFQCEyNgL/n/tY7PB8w0Bj/0p51PSs4GKbiYcizQPKcex5g0KkrzTi3Xyj7QZ5+xOR71mP0aqfcD6z2CsqrZb6S5Tk6xjLSyA/QZAz7jl553ta/NPkICn2pr57zvCIU8oL+6g4DHLQTPOvQj9zkkSU/5157sq0GIgj5gwRCBiFk7JdEZ5tXI0G0ic7DPqebnk7bEAhkGrv+ETGIHmk6BEPy5InhlvPgY5yOYKRu2kZn/Wnn4NnFForHibrahphSl7cRbASyBW0ThunkTRUHSzrZY4cjgs2cfe0rHlpIG/slIf6e//znt77ZsNoI9DO/xm7M8ulrY2R7ZbH7lJlj+1ZJ26eJl5C2dB3HI7Lp5xBcV3Qg27Xly1lsnWCX/q0zWKmLDNJeGzpGbhO4hH+mg914nfHzJYheZI6M2dzRe2nt1RvXWxt57ivGCwP3Cvs2ZQ5gYNz6CM76kc75kvScKfmL3lVmilbLqUdANxEWYdj9XLgm04QIYhMXsoTLaCY/dbJY5CdP2+TLS1r+TAguQvoiwegW/WCQND0tWB4aqa88ddSTDh7qy8t4k5YvyA9Gw3TqJW9Ue+p/h7LViDxpcmZCCCbWDVde68vDgHdaBeUZK/1hmzUnP0G9BPWCk1hZ2mgvjI9fvvkbyoy8mRpzk3T4ZS3jjf7Ox+dbWXBIPWOTHsdjOGblMAyO5KbdsF6lC4FCoBAoBAqBQmD2IOBv//C5KAanX+YZusoY9F7NH3/OGB+lZwV1eX2IkQ5+sPJalHOBB4B0nisSk42o8BqVLxlpx5vD3kFpw3Dm3aHNMOTc8w05+vNcxBbxehnPkAULFrRnmBjZnje9lqI+YzSvThm/vGHwzCPfeFKuT/n69GzkHKllE2b7o5zQvz6EEPJJbJ4ftouwtYb9X8blD/taEWl6wSDEDwzgaZz0V+4IbmI6GYsfFsXm3XiRNci41Fcv64Wuxk6mOrDNnCMxsqdR6mXckRXcrsiY6Toch3X6+Mc/vhEKNmb+whe+0DZ3ppdz69oY6ZBABt3ZuAgJ8ngB2VCZbWKvIh5fNkxe0K8jX+LyaXfXR0LGlPMhpmQaqz6u17++hhBCBNHFeoaTfuAKS3VhRZ/IUTbUOf2srji60FOa/pmHZemUNsZkjcIAMWdrkAc/+MGtOVnBQjr4Jp21k/xl9bm6yheustWlwRXoF9g5iAG2hetmYsKdC+rk4pZ2YzWZJhYrnHrqpp72LgB1GbLYv5kYorubhAvSTVzIOJRnQRu7cxip61CWuha8cQ4vFnWMHw4ugnEs1VfuRuyVs2GIbsO8pF0gkTsVvtEp9Vd3nJseDODn4nejHgb4BR9xbgLqw48rsdgDg3JHwnC88I8rIhmCc209NNAh+UMZkTWTYmNe2rUT/Yd4wCsPBcbsfFg+HF/ay8tahJEDZsIQ25ZR/xQChUAhUAgUAoXArEEgz1H+nsewtlGtPTE9B9jc2SGd594lDY6xa+PofO2KHF4ynmG193znudSGwTx/9K1Pz10Oe+14hUpd/fMK8qxsw+V8Ul7ZeKC750Qy7AlERvqy8bTnHv0I7A/bXPBCJ4sXiR8gpb2yZIxkeb2JzSOQq50fhD0P6U9egucp5JJnI4Y/HWw0jMgiN0YtHZb2/B55VyTWP7zy+hVSCglCXwf9fS0rHi36oiO9eL1k7x42j3bqw8PzsTmxB894yAbK5Ntv9uc//3mbc+0cZNhjx6tWsBKWtZbG+5jqPHMg9mzqx2TrBcFg82FeJuyJrG3zMB7ohiiCgfXITuBNJG0981KzYXRISZ5e6idEB+31kwAvukSmuUcqZaNp5KBrw9okQ1veS/bKQYLSK4Hs1R3oED3om7W8vPNonDAWeDzZwwk5zIvOWjVH1gy5+tNPtl3Rr2N5+1xd2C2+2laXJpej3yxmk2CRul+6brMAADM3SURBVCjcFLPZl1d4vvKVr0wuXjdvN1M3TRfjU57ylG7rrbeenDCTJnCn23vvvdtku5Awo/7AeDfYO4DDd3kvh9ortImF6A+Fi9IvCvmDQH8XOIwcNoNz8zRGn6zkxmrz3h133LHdRNRxY/QlMb9S+CSkG6IbpXx/OLR/+MMf3m7eMNfnj3/844a5m4gbunejuT5ij3MxDgcszzwh4jDWbij+IMCXPjB2c0xQn26RJb0qg37dDLhxwuzggw9uNz4XPDdOv2i4iRo7LGGXmwP884lRf5itJTeS3FTu2b+m50EkY8tNy9zZeNB6tQE1nHyhzHzAhgszb6SZeJPJDdCacR16wIKHhxOuxx6s1DEO48+DjXmFzwEHHDB5o4Wfa8+vEx6u/KFzs4WXI2vBA5v19Nvf/rb98dcXnBf0v4pYi34hEYJz2qb9qlxP1VchUAgUAoVAIVAITB8Bf/c93/r0tecGX7eyF4pnMD9C8uzg5eJ5Yhj8jc+Rv//KPYN4ViWLZ4/ns3e84x3teYHXiGcWzzBsAc+oPk3udRAyHJ732A+eO/TvEHgKhFxqGUv4hwxEBpmeLZEzP/jBD9qzpec+hr0vXNmLMhvxPvnJT558vqS7Z03GPjvnve99b9sQ23M64gqB5LlVP3nOUfczn/lM2z5ihx12aK8PeQ5j6CvzPMlTJZ4fedZawhBafTjpQxDDNSF9Jy/1nJMttq8mQi5fzrKPpOddpAgCCCFj3gXjiCwEkjGw79h+voRsDLBX3zM0+yRBO/1rxxPHV379SOlz7Or7YI7x6xue8nwWfpdddllkXBkTudLkBl95Oc9Y5QnOybenlC9Wmyf6I+Jg6HnfPHve9dxqPWvD1pQW4EFfBA0SwtqJrWSurVeEDQcHeHreFkc//Qc/Nog1ph3SzL6nCB3P2o95zGOatxxSyWflEW1i9diA9CLXszrM7Wn0hCc8odlx5JtbY0q/TfnBP8FGPKyT/EHVxZLD+uOFyvRv7bApXbcn9ISNa4XdYU9X4xOipz4dsIGFOCH6kQtv9h2ylix4sJHzMSqkoesO/mzYBzzgAU0M23BZ11H6W53xrCaCsnBMFAP9SU96UlvMFoDg8/IusAQ7nyN+3HzsmM+IzwWnjsXh4nHTd9E5t6Bys3OTwdzahNofopkQXLzf+MY3uo9+9KPtRsKYhosLG+Ej+KPlS2tcYWH19a9/vV3EbkY2iGM0G6Mb52c/+9m26F3w7373u1s9fSh3k0LicEWEj/dYkRMuIFi5iPxxc6G88pWvnPzsI30cLgryYa+9PBeJdox+Nzg3lWc+85mTN7+ZgLGx24T7i1/8Yhsr0ssN8K1vfevkRe4GY23542xMGH84+UOFqCDDWoKVcZsTDy7eUdY2OBgvxvnTn/50I8b8USbHA4d54Dbrj5av5ZFpPh0zIRgXXawrD1fmWlqe+XbzNE7BzdoDF1dn829teAjw/ro/0LDyh8qYYUbey1/+8vbwpSwBobvrrru26za/4NBDG/XM2zvf+c52Y7ZGhZmEWcZRcSFQCBQChUAhUAgsjoBnHc9dflhj5DPMnHu+8FzK8PLcmF/p/a33HOCQ1l6ccs8AjGHPm4xFBhwCgLHruUNd8j1H2C/HM4q0/ATPYH685BUhIKH88KSu/gRpfSWQoSx1vJFg/xW2iWdKz+yeWejtmdjzD8NeHT8Kpn97wOhLfT/+eqb/7ne/28rJZtto7wfL9Md433333Rth4CtpbB/PSJ5PkRB+jH30ox/dnsmCW/QexsoEY9EXGfQcHytdkwcD54k975FjDp74xCc2OwPhgPzyA6LnRHrDnhcPm8I5Gdp5zn7a057Wfvxjg2jHfjG/9OIVw0jnUaSvBGsFgefHwk9+8pOtjfk353QzDvMO8+ifMZARXOiXeSWfbgnajQd6mQ92KpLOnInNATmeXa1lxBAChn1JjnLEoHbsWs/U9FHu2ZnnDl2RYUgze8Qaizlli7EfkJzBTl/aL+jJJjae9Y6E9GqgsXsmR5w44IQQY0fD0Q/h5jo4GY95kAdXOGTegk1wCG7i8cM41U9+2iSWn2Ac6o7LV64eWZw9rBm2KnIXWWztI2gQyWmrrgMe2mbt6MN5YrKlfWGb99xrXvOadr25D+ESjJ3NElvYfSD3ELK1jd1D1kwMs5oIyoIQIxEY1i4whrQLg9ulyTOpbg75TDoW1UWgnTLBgrCL+1ve8pZ24Vg0mGP13Ex5NvhkpJuGC2amBAvMzYOnDmYfYWAR8oJwM7QQLXDjkBYsTGMYLnT5MJBvUVvw5CDF3Iyxzf7Q/PrXv26bk7nxcr10E3ejioeMGxHCxIXoF4xcEPB3Qfqambnh0eKG54+PG6A/pjZO87U3N5edd96ZSi3QS4j+7WQV/WONuNH5A0kvrC9djeshD3lIuwnDEdvsxqu+X4ew/v7Q+KPCm8XG3MgPY+e54r3sL/TvBfsDjBhzU7cWtXeYB/jaCM4fAb+a5NP0bnTm3aHuTAnmyQEbD0jm1TVlvP5Y+fXNH354Ih/dMK1Nf+DgtWtP6PgFxC8Sfllb0P+x4u2GhecRhTRT7roU4O6XMKQZ/LTjNaQvDw4wtm6Rku4D5PljpU9tZ/rNeabMa+lRCBQChUAhUAisLgQ8G3l+91zBE8Fzgb/f8nxpCSngGYxxyjBjQHteErMN1PXc4blKOgaa9rxJeFogmfJZcuP0bOp1kMc+9rGTXsUxFpV7hrn//e/f2niuoIcfW+nq0IfDMxHdPEdn01l5nt08z3hO9mxCD684eX7U3g/Pnlt4piC6PLNooy82jB8iPXPyGvLMro3nfLaAHyX9OMwDxfi1RR4hnL785S+357J4MXle8gxPD/3Aj976EYbPmMbvWWv4Ix7ZGbNYf36Qhn/GTw57hJ2AxDBu8+AZ0XNhfgRExpkjz9psMGQEgsdYzK226YvOfuQzd+wRsuBh/6a80UCuZ264G4+2ZLBvzIc3IJAc2tLV8ykSxLM9jxs6mquMOcSNPIc1QFfz7lnfPOtjiJmxs388F8PX+PSL8ELYCPr1tonxDvetJZ/t4YdUnmP0ND/bbLNNa6OuZ2DjRPiwJ+joB37XhB+k2RewG9pi1j1Cw4+z1og5RB6Sl+vE/MEXzrvttlsjgoxRMMfyjcezuvFZGzAxfliKBVgo1wbmfgRP0Jd8OBirummnDnnKEVrmltzxOpElX7lrw4/GSCBrB8nmuqCvOvAjTz/61EeuLfoYh3lc0F+T1grdtVPPtUUfnnXsMod86wt2sIBJxhB9o+NMjdfqFV5It81ULQd6eVUJ8++GbbG7oCwswzAhLmobZpkgN8p81YmILBT1HCY8wUJguLs4XEjkMr4TyMcqmnA3BTeImRDoRXf60JmLngvGBW7R5oIUC2I3Xu8020gM8eUPARmIHr88YIjdlODBlZJs/fjV4YUvfGG7mbuA9MH4zg2G0Y2MO6EnyxAfQ4IDgeLXFzdsZbyNXIzRDxnghm7O/AE2z26Ognkbxu1kFf2TdUUHaWSVT2zCDN5ImWGwruhurEhJXlPWoBtLZLgpw/LVr351wxKO/nBpCw9/rBFicHVz1h/CDZHkj4h164ZFXrAZ6rC60vS3jjKndDM2ZKI/rubXLxjyMw5pRA/izx8Z64s7rrHCW7k/bm7q/uBZl7BDIimDNYLR63LWtWtXO/LNFRLIL00w5RWnTNDWUaEQKAQKgUKgECgEpocAgzqe59NrsXy1/I32DJFnqZe97GXtk+cMLc+kDD0Grr/xjDKEiTwGW/6+M5jV8Tfe85LnqOHfe/Wcpx/niBEexuTo2zObZ1DPup5r1Fcvz8NG5bnVc576ngk9t2ifZyD5ntU8g3i+kU8Xz3aCurFD6Kx/3ir68xzP1mCMpn91pQW6OPxgiOxQFp3piDzQJ/31Gd3NnTL9yGPTeJ7SD30F7aWVD4O5p6NYHeROcFGPDrxIjIvBDT9jdY6sMmdkevbPM2wwMl9sD7KNnU50Qx7Rld7ykEhk6Nfh+dB4lGtnTYiDJ3n6+//t3WvwftX8//GdHzfcwWCGHCOTHEpFpUyIkoxTI2XkfCZFQzfMGAqjMU6jo5RDjlMkGRFDkkSkxDgnJckwhjHDDTf4fR/r55X9v/6fkr6X7/f69H2tmf1Ze6/De73Xc+/ruvZ+fdZeS72wU88+2+oq69xg4HpSX752bOmzcywv6ezwzSYkn63FEH/js/PGZ8fOm3Odaw1brBzzn5/XXnvt8FP7yrrXFZTln35g6bNAcFGOfVzxD/P47lwZhebalMZ31wlOysdfeT4brvMIQTjxIeeCH3ipk2tHWoI0/uuLdnKfzrbrQrq2XTPSEtjjo/Pjs5VrdC2+6qgrL/VwkeaacC3K8/yVaxEnHKRjp55+YOazTeRLm/IEfcGVX867ujhow/UqXxvsCurN+zQSl/CHXe3mu2RjTP5LCdkYK5u5biA7IeDnGChfNjkWZ19Z+4l1wcXuw+cDNBeX5LF1nw2v8IhtqxL0YdGfpOmbTUi/7SfN/jwok3LUcP+NyI+BNvwQE2mo9t6XVAZfZQSjgAhDVGT/saHy+nD78sgcO5RZD+e+lNKe2Afo0Y9+9HTGGWeM/1YQqgyFlaftlF3s69z//9Z+2mffh1zwxZUvkPgmHQujV3zJEy2Ibb6AUka+LzsrNhCSvIpIXcbSl45y80DM88pjhKT59T0vt7n3+a1v/MsPwvz6wytBWdeN4NrAgWpPJDLaJyJQWPjRwMfrjt7h9l8z14/zQvwx2Z7PrPb4oB4/2POj7gvbf1+0lR+azXEdpf+NS6AESqAESqAEbhoBv9e5v/DwRoAQ8nvvnsO++zP77ifdN7gncD+QB1v7ua9QX1l1pLlX8HCrjnQh5dnOvS5b7i/E2nDvkbKeHyJ8xC4bHhLZ1Q+bcmJlci/pod+rJunrMLrhz9xH+/KF3O94LrEv8DNljOhQ1rEt5QkFRoSkb6mXY3WyP4zO/mCAv8B3/dBm2tdO8qWxI9jPPT8+6slTNz6673OfKySPPVycTzYwl6ft1PWgTlxIW+or515vm222Gfa1x5a21FPWOfScp03H8zxlbNoR+G6f3bSb8vx2784/edpZDLEvVsYDvH+yqyNIm9e1zz9+K+MaM8pLmuuFndjik2uXSJbAB5t28GPDcfxIe67LXJvJF6e89vQTI88x9gX1BWUF6Tb1kjcy/vlHOf7Jj9/Zx9a+vrIhP8E+/8Lesf15mXlZ+2xpT708J2AmnW+uPyPatJXnktiLbXUT5n1U37Hr0bOsfZ8J50CQb5+d9EWa/VUO61oIcvJyAgM5aeLAzwmZH8/L25fn5PvgULSNPvAATgxx0mND2bltx5szzPvkQl8rxPeUdWEKOU6dHOufHzjHc5vYZFifkTDKLNox/FR9aqpNEBt+SEWV78vFcfzIh4+y7wtHuod9r45pnz2bEB/HwSb6o00bv+a+xKek6Yf/zHg3VVlCkC/oeTl2HPvhMOzYaBh9NZrKa03y0kc/MJYizY9juhsmOV6VONdK/NOXnOMwjK/SlfMfIK+P+UJ1c0dh93qh8rHHToa8+q+H95q9Hx9OfiTth13SXasRdP1HxXXo5iD+pVx8alwCJVACJVACJbD5COS3PPcOftdt7hGk5WHc73jK8Db1Eqdeyojl2YTcLySf/cUQW+7tEubtqsuOoKw8dub3GMmXnjbjg3oRmOzngVL+3F/10m7siW3hov48T3r8Vzf50jwAp43YdZzyaTv2RuV//kmfxXO7sZ+y6Yvj2GVP22EkD1tl40/adJygrfgkLX0TC/KE2EjMln2bfVv6G3vaTptsSM85SZ3E8lKfTfvpy9wHdhbDYhvqx//4l5gtz0nyU4+f0sV5ZhJLUyaixrxd9dmMoCRPWWlCuM/bSX58US4+2E/6vFz6Ln+tkLJpJ+1Lj//S1rKjzLxvyqT+vC1pNn0SlEv/53bZky6kTvzL52LupzLy5+VjW7rNsWthvi8t9kflFf6zroWgcM2JEic4IU5MwjwvafOTJ9+8Ol4HM+mWURpGa5hnyKtM3gX2YC6wvYzhWPFjY+K1+rWWPeVSNrF+zMO8TNJT1rH9XOz6nzx2sh8u2NoEIzEM0fPhMteSd7wFdZTxhefDy7aRIfY98KtHfFJv/kM8Km+iP3yc9y/Npr+Ow8S+0SeGUPKXGh1OYZHy/itDlabWEz+8y0oIEmKbaOE/HfPreBSYlcnx5o75HL8Tz6+v7Ccv/ho5hZdrwAp0RoItlsXONUFkw9OwTWkY++LOteE6IRi5hpQlNjpmb84/bTcugRIogRIogRJYHQJ+q90PCB7I/SPWfWD+Oen33m+6bfF+Qp152g2VWSzneK2gfsLiPcT8vk+ZeVupN/dFmcXjxXqOhbVsLbavXOylPWnzsFZ60tJG4tT7dzaVu6EySZ+Xid20qx+5p1XefduN1Ut9cWykfOKUmfcleYt15mWSl/pivs19YseWeolTJ33J8VpxfEneWtdO8tIeTov1wi5+r3VNxE5iZRd9TH+Uia2UT17ipCdO+fjmeL6fcvN4bmtedq39eT37aS/pqZPjebyWL0mLncX6SU+52Eu5pM/Lzcss5od16qfsKse3CCHo5gJ2ojxg+mHxgTLLvNeaTFxrglsP9SaItvKYETDmJjJKZT5s7Oa2fUuqd2MXvA+JLV9q22yzzfVL7s0/QCmTYXbmf/LQPy9zY+1sap435AvhwfuhvgwIOcrpwzwkjQikjEAMEeTdlC/3UXgd/sl1EPHGu7/+W4GRoa+28JozznXgppBg69hGUDNJnlFEJko3GstrYNpxDpyPhhIogRIogRIogdUnML8HMregeQbdpxODvLpl3+97BKHV71E9LIESKIHVJbDFC0F52MyDqRFBZmA3QsNDpVWyPGQ6fv3rXz9dtWEiZJP8el+y4aYRwDaChxnVX/e6142H+DysU989tDsXEQGUVy9lkp7zddNa3vSlCBMELK8iGdHE7/Qh3jgW5Lup0fe8cic9fbV/Sws5x+mjEU/EHdfA/vvvP2b7z7Ww2Hd1lMs7z46t9GHCc3MH+UwSc42s8g68QNS1gtiqXzeLfe1xCZRACZRACWxpBPxW5/c6c584dt/kfklwnHuILY1P+1sCJVACyySwRQtBfkg8dArZ92PjwfShD33oWOnIZL3mcLF8oVfFzj///LGCk3lb8mO1zBNyS7KFKUZG+XitDmtzwogJJslPn+c8nQf58//6zPNTZ1Xi+OZ1MOKGWemzAkL6yteUMwpGfuZRmq8+lmtyVfq2TD/0P+fdOTYvUOZAshKgPP/5u6EgXz12fvCDH4wVydSz3KeV17zKaQi5oeVG9H3sYx+7IVNNL4ESKIESKIESWCECfuNzjyD2+rfffL/pjt0fze8jVsj1ulICJVAC647AvybRWWeu+yHwg+CHQUicbhAQjB6YB8cRGBInnz0hPzLZN8pg7733HqOAiBlWwrKtStDvbBEQ0jf9TV7S+J00cULScpzyi+lzPsrKV9a2GOKPB3szrBNELPf9wx/+cPyQq8PHxfPEjvORczLfX2xjUx3HR/3lj74lLT7oj2tkhx12GEkERNeK8uGkjmPpRpp5jcxKEYSgRYZ5T56xxfOQNlc5nvusz4I+zvd9vnbZZZeRZgSekXfzevbnQV2bdMKsiaPvs2HVjJe//OWT1wlNwh1uKbdY338VF+3Oy3S/BEqgBEqgBEpg0xNYvMfMfdE8zn3ApveuLd5cAs6ZkPN4c+2sWr08C4jn97er5mf9KYEbIrCuhKD5A6IPnYfofLnMH+zySpHRFj6YHvzyAK5cXtlJXWX818HrPCavzYdZG8orZy4T+USNrFJ0Q1A3Rzof9VPM7/lSfOlPGMnPFl+VibCBn1E8i0F95cTyc6xcbOec8ANTwWteXtcheBgF84Y3vGG69tprhw85N+rz+ZJLLhlikXpsJMz3k7Yp4vQLE0GfcMIBQ2HODherzRE4LrroounjH//49WXZsLF58cUXj9FlbBx22GHXLz+Z9tjVluOkbS4GfLk5gd/x2bnNteGcY4YF0eaJT3ziGBXk9a6TTjppXBvaS9/F6p5zzjnT2WefPT6/7GZeJQKjzyWW+QywbzUyo4ISnDebdnPukte4BEqgBEqgBEpg8xLI/U688Ftvm6fP91Ou8WoTyD2z+6+E9X4e+W/LfX361bgE1hOBdfVqWH4QPMTZj1jhgyhNTKTZeuutR/7nP//5ac899xxzthh9QYywZLc5XHwpKS+o60H1tNNOmz7ykY9MBx544LTPPvtMt7vd7UaZa665ZjrqqKNGHfXvfve7r9Q51g+bkShGpHgtyepc97znPYfP3/nOd8Zy216bEfR9HjwcY5CRFGwpg3HilJcmJD3HibG1v2hP2wcffPB03XXXjVXZXvOa10yHHHLI9SytBGU+pk984hNjDhijPYz0WIUQvvqcL/wIDvEv159j14iV5j760Y9Ob3rTm4YYYf4b1yZxkkBx8sknj5Wt9t133+nJT37yOH/OQziyw2aOw1vaegm4WRnN59R5//SnPz1c93ki+ph83Wf14Q9/+PSyl71sOu6446YzzzxziDlPe9rTrp+UnThrJNnpp58+bb/99mPbdtttp1133XVcKyaL9ll37RGETBB9wQUXTJ/61KfGCmLhFQGIX+GavMYlUAIlUAIlUAIlUALLJ5B7rtzL5nj5LW06i/owv5/M88Gm86AtlcDGE1hXQpDu5kPnQTwhXyjyzDfiFRGjMS699NIxb4gPpyW6jzzyyPHw6Ito/pCtXkYLGGXwxje+cYhCWaHAg6iRBY973OOmF7/4xSs1UXT6jgXh5IADDpje//73jwfqb3zjG0Pg0jdcrMiEhaDPNoENTGzSxOokP7Gy2Zc/D0lPmcV8D+ge/IlNp5xyyvTZz352jIjJqzyW/Pa6lDl2rMw2nzx53s6m3g/fef9cO/oxT7Nvw+4ud7nL9KpXvWqIFOaoMfk4gcvcNYQgQp15qA466KDppS996RDD1E1b8z7mnMhbK39edtX2MSLWEMaIkaeeeup01llnjZF1RFavXGKFBWGQYITXJz/5ySFk4iVYCt4oPhNAP+MZz5hMICkQ0cwN9JnPfGZ617veNZafd50p7/ozv5fXzqw6guOcpf31JKqNDvdPCZRACZRACZRACaxDAv7hbnMvmwVh5vfR661LfNcfo/ctYqJf7nvdXzaUwHoh8D9HbQjrxVl+epD2mtZ222037bHHHmOUz/yh3MOkkTAeLn1I5ZmQ1qgLozS8spMHwDxY58NrxSGTRKvjwdOrYAQnoxo8gL72ta+dHvCAB4z6sbG52eVLNDExKKo0Fh6ejXB60pOeNF4/4u8VV1wxRg4RzB7ykIeM8vpDLDOaQn+JXub1wcaXGpu+8AhiRJq99tprTMyb/itnI6QZ3WP1tUc96lGjnYhCvigtB2oEiNEx2rQZyeG1Mefo1a9+9XiAN+Eye6sQ8qXOH2IVDkY46R8W6btzkOuC/64l14trzjWFIaELA3PavOhFLxqrXDlP80AU0+Zuu+02OBvlpY3Ynpdd5X08CD5Y6b8ffrz0/xWveMX47EpTTn4maCdaSpdm/8EPfvD4/Lk2Hv/4xw9BDQ/XkzoEIzZ8VtUzMu7www8foijevi8IUq67jFjLOVtlfvWtBEqgBEqgBFaJgHuTvPa/Sn7Vl9Um4P7VCq5Wcr3wwgvHyG73tu7d1mPQn9/+9rfTMcccM33729+eDBzwj82GEtgUBDzDeHbM4I6NaXOrDR/CdfUpJCpkjh8APPglACPokof1v/zlL0M4MoeIh8X5Q2C6rU72U9d8JNoQC0YZsDFva2SswJ/4LtYXfPxIE7HE+s1vfU/wYKyctDBR34N02OqvB/EwVdcNgHzlFuvKV1abuPmSZMM50lYuVjaUU4YfymsbYzb5Kj/9YXdzh/gizvXHp/wHYO4f39NH6WGmn7Z8cMM3tpXNvmsX51zf4uQpt14Cn+O3c21zrO821whe8yBf3zHAWj5mud7kz4N85X3WlY/gxH7OhWstLKXFp7md7pdACZRACZRACdw4Afcxfm8Xf4tvvFZztyQCuc/SZ/vuzdzHfe5znxv/BPWPevNnGi3ueSIh11Tu3cRC7tnmx9Lnx8rkXll7gnvMxaCOzb25oJ59946CPPWlq2+Tn2Nl7Cv/k5/8ZHrMYx4zVgp+xzveMT3hCU8Y9/mpox6fbGym3dgSx5Y4PsXv5KuXdsfOhj9Jy3HjLYuA85/n5o3t+bp7NcwHSudvLABEULB59WitMP8QLe6z/+/aWMvm5kiL74l9OdmIFDcU1uqb+r6obTcUfDmtZTdtq7eWDecsIV9w7KxlK+XmNpO2ueL4Ig7fG/MlfVTm312vsa1s9iN6SEtIXo7XQ8zn+H1TP1PK39i1EXvz/uezPk/LPv5uOuZhLRvz/O6XQAmUQAmUQAmUQAn85wQiYLgXjtDh3llwHKEm5W6oBfnu13LP5jghdtzjpZ3YTVsRVlJHLM3GZupKJ0ilHbFnmfg3bzd11Ul7aUc5dR2zzQ/7KSfmqzz7yjrOPpupn/30jW312Jv7o1xDCWwMgXUnBG1MZ1u3BEqgBEqgBEqgBEqgBEqgBErgv0NgLmAQLiJgRCwheNifixrqCMqmvuPFshFQUkZ5IccRXqQpOw/K2OKPWBkii2BfWoQhx4s24jM7awXl5+JO+qyN2E+9+C49/qc99diJzxk9dUPtxmbjEvhPCFQI+k9otWwJlEAJlEAJlEAJlEAJlEAJlMD/R4CQYTMihmgRUSQjdVSI2JF9ogdRhFiinJHx6hE/xPNyEWLSjrzYlpZ6o9LCn4gyRvxoi/34GFEm6WwljX3H/Epa/Jg3oUyC/WzaSB/jg3LS2bOlz/yXzkex1zGlzW2njcYlsLEEKgRtLMHWL4ESKIESKIESKIESKIESKIEtnABR449//ONYPMYiNBaH2Wabba4XUOCJQCKeiyHmN73uuuvGPKeEEJMwzxdMSVn1tOPYnFUWsrHYjXSLjFhd1rQByiSkLT6lPIEnbaT8XKhRhzBEiPnxj3882kp/pK8V1LfJ55O2tOn47ne/+/BPPt/Zla7fyplGwSIr5r78+c9/PuqbhPqud73raIo/NvUbSmAZBCoELYNibZRACZRACZRACZRACZRACZTAFkYgAg1h44tf/OJ08sknT9/73veGwEHYsNKwVYyVEyJkRNQw6uXLX/7ydNppp03f/e53xwq9Rsjc+973HisJW2nXIiARUNgg4nzlK1+ZTjrppLEimVWLiUdEICsfWz3WqtFpy+ifM888c/rwhz88/exnP5v+9Kc/jVE4yu+9997ToYceOm277bZMDz/TlpV8P/ShD03vfve7R3+INY94xCPGSsf6E3FG3/kkJkB9/vOfH76ZVJowRmiyqvVTn/rU0VbmryQEYfW6171u2JR/7LHHjsm1LbLytKc9bTr66KOHIKYs+9psKIFlEKgQtAyKtVECJVACJVACJVACJVACJVACWxABggmRhVBDMHnLW94yVondfvvtp3vd617j1aZrrrlm+ta3vjVGukTQIWpkhdzTTz991CNy7LzzztPd7na3YeOHP/zhZEUuo2WIIUQY7Sl3xhlnDPFE2wScXXfddQhBV1555RB8jMY58cQTx5kwauiEE06Yjj/++CHW3P/+9x+jbAgtv/zlLyft//SnP52OOuqoabfddrt+JNEf/vCH6e1vf/v0gQ98YNphhx1Gf4g8V1999ShrVVqrM/MpIpB2zzrrrOltb3vb4LLddtsNQYvY9aMf/Wh65zvfOWL9uvOd7zz6wj9+YyQ+77zzxkgqo6EIaWxH/Em8BV1i7ep/kUCFoP8i3JougRIogRIogRIogRIogRIogVsiAcKEkThXXHHF9N73vneIOy94wQumZz3rWWMEDNGGuCGP4CJEPCJwGAFEoCHyvPKVr5wOOOCAIZAQTi6//PIhnHzwgx+ciDfPfe5zx8gaAtExxxwz7Eg75JBDRlvsXXXVVdO3v/3tcawdws2XvvSl0bZROEccccRY6t0rYYScX/ziF9Mpp5wyffaznx0jeIxC8irW3/72tzFK6eyzzx5LxPN/mw2vuOkP8YjopV4CDkYIeYXs1FNPHf0xKmm//fYbwhbRi99vfvObp69//etjxNAzn/nM6+cCYsfIIH4ddthh00477TTsEYOIZ+zrT0MJLJPA2lOeL7OF2iqBEiiBEiiBEiiBEiiBEiiBErhFESBQGJVz7rnnjleuHvzgB08Ejvvd735D5PBK1EMe8pDx+pV95Qk2RBNiz3HHHTf96le/mvbff/9Rz5w48ogfu++++xCUvCbmNbA///nPY6SQ0UDqaOt5z3ve9MAHPnAi8ihnBI72H/nIRw47Xhk755xzxtxDT3/606cXvvCFQyQiXt3hDncYbbzkJS8Zr5F94xvfGH3gn7a+9rWvTUYFeV3Lq23q6MOOO+442rjtbW87zqU+EYiMcvL6GXFp3333nQ4++OBhV756D3vYw8Yra0YNXXDBBaMNBvSXyIOHOvr0mMc8Ztpjjz0mI6u0mzYqBt2iPj6bvTMdEbTZT0EdKIESKIESKIESKIESKIESKIH1RYBAQdgwosZ+XrsyEscWkYOYYV+ImPGb3/xmzO/j9Srz5xhpIy91CDLEEXWV1Q7RyTxE2jJq5j73uc8QYdTTXkSmtG9+Hq9yEYqITerZ4puRP9r2epl5ivigDW15XcxIpT333HOUj9/y05/Y47P5hC677LIhCBGZTPicQCRS38ZHr8sRmcxRlHQ+7LPPPhOByWilcJjPDZS02G1cAhtDoELQxtBr3RIogRIogRIogRIogRIogRLYAgkYCUNM+f73vz+EC69VWVlLiHAS0UVZaYQUggZxh1Bj9M173vOeMY+PesrJJ7LYJwYRQ8zpYwUuq2wRU4wEks6estKUFyKY/PWvfx0rmHnliuiifAQj9YwiIvZY0YtvxB/p5u0h7BB0jDJKvbQjFiLiyCfsXHvttUPEef/73z8mv0495eKT2KYdfbPPJ4IYXxzrhzZiX1r2R8P9UwJLIFAhaAkQa6IESqAESqAESqAESqAESqAEtiQChA4CTcQbr0BFjCFcCBmlY5+4QXwRxMoSW57//OeP168cpx7xI+GOd7zjeM3KKlwRRIzKEdiMaKKOfWHuGx9SJsKU+oQY9mKLABT/CDXqyeeX+tLEaSP7yiSNoPPsZz/7/1kpTR4b8UN/jERyLJ2vbAj8i62RsOFP8nLcuASWQaBC0DIo1kYJlEAJlEAJlEAJlEAJlEAJbGEEzOdjIwgRUggZhBViBgHDcQQex8QUwcghoolg1S+vRcmPAGSfDWINwYSdrKIlz2piEU3UUU6787a8EmaUjZFEXrdib+6XespbTp4tcxTJJ8wQhEzyrJ4gnx/CXHByzAbfTO5shJT5iw488MBRR376JbbN09RtKIHNQeBfUuvmaL1tlkAJlEAJlEAJlEAJlEAJlEAJrCsCEVQILeYGIvD8+te/vn6EUEQPoknEj7kQc4973GMIL14Ps9IXIUk5QgpbNvt5XQocr3dlXqAf/OAHk1e/1FE2IhARxybc/va3HytxEY3M2ROBik+EHeXMB2TOHiKPfvBRm5Z39xraVRtWIpuLNWlHm+mXtpQ3z49X3fhGFFNPOTGhSqy+kDyjqOZ2Rmb/lMAmIFAhaBNAbhMlUAIlUAIlUAIlUAIlUAIlcEshQLwgmpjc+KCDDhrChuXTiUHSM3rGaJxvfvObQxBJ39XNK1RG3JgA2vLqcxHHPsHmwgsvHPMJsemVKkvME3EsPX/ppZeOduZCClHnt7/97bB1pzvdadp5552HP6eddtpYPYwQo75gJJNl271ydt/73vf619MIQdtsWC6emPOFL3xhtJFRQISes846a4hQbLClff01IbW6559//hCQtJV+EHz04Uc/+tGYG0l5x/GFrYYS2JQE/ueoDWFTNti2SqAESqAESqAESqAESqAE1hcBD6xGNTSUAAIRgggkRup89atfHcuvW7LdK1Zet7KU+vHHHz+dd955Y6QM4YVotPXWW4/RPpaWt1KXpduNojGqxjWmLsHkxBNPnI4++ughslh+nbBiJBEBiOh05ZVXjtex+GOy5q9//eujvPb222+/Mf8QMYitiy66aPjHN+LT73//++lzn/vc9Ja3vGW8AvaMZzxjevKTnzz6RbRR5jvf+c50+eWXT3vttdcYHUQwOuGEE4Y4ZKSPctqxvLzRSybLtrQ98Yr4pW3ljHoidB177LHTW9/61tHGLrvsMvplpNLZZ589mDzucY8b/cF0Lm7pX0MJIEA8jMC4sUQ6R9DGEmz9EiiBEiiBEiiBEiiBEiiBEtiCCHggJVbYTHx8xBFHTO973/umc889dwg75svx+hORRB4RxGgagqK6Gf1z+OGHj1FFhKTDDjtsiEpGyxCUxI9+9KMnokkmlyauEIcITMQddbLqF3GHL+YbSvkHPehB05FHHjmdeuqpYxTRi170oiE4eRXNK2P3vve9p+c85znTIYccMnzSpj6xQaQ6/fTTx+TP2uW7/hy1YRyFvl5xxRWjL8oTb4xY4o9RQZajP/TQQ4fAo69WIWPb/EE77bTT2He5eKhX1xYmuFUM2oI+TJupq1ttuHD/b8aqzeRAmy2BEiiBEiiBEiiBEiiBElhtAkZqeFWmjw6rfZ42lXcRP7RHIDHyxTLyBJ2rNsyrY7TMjjvuOO29995jnp4zzjhj+t3vfjc961nPGuKI+rFhNI/RN4Qdo4GkW/Lda1177LHHEG6IIwQkG5HEUu1GAF1yySVjtA7xxfxBj3zkI8eS70YfuWaJK4LXxYzUueyyy8a8QESZu93tbtMjHvGIIcyYWJptddi3T7i6+OKLp8985jNDsNlhhx2mxz72sUNs8nrY1VdfPUYREYf4LGChD+p5fU2fBaOmCFq777776I/yfCM2ffSjHx0jnZ7ylKeMUUzytN9QAosEXBeu9axut5j/nxxXCPpPaLVsCZRACZRACZRACZRACWyBBCoEbYEn/d902UMpgYagEfHCK1XSrLhlHiAjXpSTTyyyrzyxJeJOmnFsTiEikgdd5Qg20pUnsogFdhwb2aNN7RB/lJeedrTrOD4qyzd2PFDHrvKxK1ZPHT6bNNo+n2zzvkrXLrvajh1tqitdmj7xUbpgX34YsClNLCiXvo6E/imBDQRcSxWCeimUQAmUQAmUQAmUQAmUQAlsEgIVgjYJ5nXTiAdSYoWYmEEEiYihE0QNgguhRLkIG8rbIqbEhmPCx2K6fDaE1IutiCjys58yczvxYRj5px3l1IltebFrX77j2BHP25n3OXliddQVFkWm2FfONvdhXi91lWkogTkB18yyhKDOETQn2/0SKIESKIESKIESKIESKIESKIEbJTAXKQgk82P7Gf0TgWMuFEmbiyoaivAiVj+i0FxMkW6bl1FXWuLkj4QNf2LHcfbTVvzOsVhIO/alJZ34k7S5X9L0KXljZ8OflE962ndsP7H2cixt3v4o1D8l8F8gUCHovwC1JkugBEqgBEqgBEqgBEqgBErglkwgAsliH6UvCjKOE+RHIEqaeG5vsXzKzcskbbGtRVs5js2UXzxWLmn2E5KWtlM/+UnPceJ5emwkL8fzMslbKy15jUtgWQT+T4pclrXaKYESKIESKIESKIESKIESKIESKIESKIESWFkCFYJW9tTUsRIogRIogRIogRIogRIogRIogRIogRJYLoEKQcvlWWslUAIlUAIlUAIlUAIlUAIlUAIlUAIlsLIEKgSt7KmpYyVQAiVQAiVQAiVQAiVQAiVQAiVQAiWwXAIVgpbLs9ZKoARKoARKoARKoARKoARKoARKoARKYGUJVAha2VNTx0qgBEqgBEqgBEqgBEqgBEqgBEqgBEpguQQqBC2XZ62VQAmUQAmUQAmUQAmUQAmUQAmUQAmUwMoSqBC0sqemjpVACZRACZRACZRACZRACZRACZRACZTAcglUCFouz1orgRIogRIogRIogRIogRIogRIogRIogZUlUCFoZU9NHSuBEiiBEiiBEiiBEiiBEiiBEiiBEiiB5RKoELRcnrVWAiVQAiVQAiVQAiVQAiVQAiVQAiVQAitLoELQyp6aOlYCJVACJVACJVACJVACJVACJVACJVACyyVQIWi5PGutBEqgBEqgBEqgBEqgBG6RBLbaaqvr+/WPf/zj+v3ulEAJlEAJrC8Ct15f7tbbEiiBEiiBEiiBEiiBEiiBTU2ACHSb29xm+vvf/z7ZT7yp/Wh7JVACJbAlErjVrW41EeAjyM/3bw6PCkE3h1rrlEAJlEAJlEAJlEAJlMAWRODWt7715EGkoQRKoARKYPMQIP4s63t4qw3GOq5z85zHtloCJVACJVACJVACJVAC65LAxv43el12uk6XQAmUwC2EQGX9W8iJbDdKoARKoARKoARKoARKYFMRyOsJm6q9tlMCJVACWzIB4vsyx/BUCNqSr6b2vQRKoARKoARKoARKoARuAoE8gCS+CVVapARKoARKYEkEiO8R4JfxPdxXw5Z0YmqmBEqgBEqgBEqgBEqgBEqgBEqgBEqgBFadQEcErfoZqn8lUAIlUAIlUAIlUAIlUAIlUAIlUAIlsCQCFYKWBLJmSqAESqAESqAESqAESqAESqAESqAESmDVCVQIWvUzVP9KoARKoARKoARKoARKoARKoARKoARKYEkEKgQtCWTNlEAJlEAJlEAJlEAJlEAJlEAJlEAJlMCqE6gQtOpnqP6VQAmUQAmUQAmUQAmUQAmUQAmUQAmUwJIIVAhaEsiaKYESKIESKIESKIESKIESKIESKIESKIFVJ1AhaNXPUP0rgRIogRIogRIogRIogRIogRIogRIogSURqBC0JJA1UwIlUAIlUAIlUAIlUAIlUAIlUAIlUAKrTqBC0KqfofpXAiVQAiVQAiVQAiVQAiVQAiVQAiVQAksiUCFoSSBrpgRKoARKoARKoARKoARKoARKoARKoARWnUCFoFU/Q/WvBEqgBEqgBEqgBEqgBEqgBEqgBEqgBJZEoELQkkDWTAmUQAmUQAmUQAmUQAmUQAmUQAmUQAmsOoEKQat+hupfCZRACZRACZRACZRACZRACZRACZRACSyJQIWgJYGsmRIogRIogRIogRIogRIogRIogRIogRJYdQIVglb9DNW/EiiBEiiBEiiBEiiBEiiBEiiBEiiBElgSgQpBSwJZMyVQAiVQAiVQAiVQAiVQAiVQAiVQAiWw6gQqBK36Gap/JVACJVACJVACJVACJVACJVACJVACJbAkAhWClgSyZkqgBEqgBEqgBEqgBEqgBEqgBEqgBEpg1QlUCFr1M1T/SqAESqAESqAESqAESqAESqAESqAESmBJBCoELQlkzZRACZRACZRACZRACZRACZRACZRACZTAqhP4X+55xtzIzijbAAAAAElFTkSuQmCC)"
      ],
      "metadata": {
        "id": "mEvLh5EFk0ty"
      }
    },
    {
      "cell_type": "markdown",
      "source": [
        "## 2-3. Transformerのブロック図"
      ],
      "metadata": {
        "id": "PHpCD712iaT1"
      }
    },
    {
      "cell_type": "markdown",
      "source": [
        "![BERT-diagram.jpeg](data:image/jpeg;base64,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)"
      ],
      "metadata": {
        "id": "p5vIanVZQ2Cl"
      }
    },
    {
      "cell_type": "markdown",
      "source": [
        "| 用語 (Japanese) | 用語 (English) | 説明 (Japanese) |\n",
        "|----------------|----------------|----------------|\n",
        "| **トークン化されたテキスト** | **Tokenized text** | 入力テキストは最初にトークン化され、単語やサブワードに分割されます。 |\n",
        "| **トークンのエンコーディング** | **Token encodings** | 各トークンには一意のエンコーディングが割り当てられます。<br>このエンコーディングは、トークンの意味とシーケンス内での位置を表します。 |\n",
        "| **トークンの埋め込み** | **Token Embedding** | トークンのエンコーディングは、トークン埋め込み層を通過します。<br>この層は、エンコーディングをベクトル表現に変換し、トランスフォーマーモデルで使用できるようにします。 |\n",
        "| **位置埋め込み** | **Positional Embedding** | 位置埋め込み層は、トークン埋め込みに位置情報を加えます。<br>この情報は、シーケンス内の各トークンの位置を表します。 |\n",
        "| **エンコードスタック** | **Encode Stack** | トークン埋め込みと位置埋め込みは、エンコーダ層のスタックを通過します。<br>各エンコーダ層は自己注意の仕組みを適用します。<br>自己注意機構により、モデルはシーケンスの異なる部分間の長距離依存関係を学習できます。 |\n",
        "| **隠れ状態** | **Hidden States** | エンコードスタックの出力は、一連の隠れ状態となります。<br>これらの隠れ状態は、入力シーケンスの表現を示します。 |\n",
        "| **デコードスタック** | **Decoder Stack** | 隠れ状態はデコーダ層のスタックを通過します。<br>デコーダ層は自己注意機構と、入力シーケンスに注意を向けるアテンション機構を適用します。<br>アテンション機構により、モデルは出力シーケンスを生成する際に、入力シーケンスの異なる部分に焦点を当てることができます。 |\n",
        "<br>"
      ],
      "metadata": {
        "id": "3sAxpwzKdEWU"
      }
    },
    {
      "cell_type": "markdown",
      "source": [
        "## 2-4. エンコーダー、デコーダー機能の特徴"
      ],
      "metadata": {
        "id": "xc8sSZF-oKrS"
      }
    },
    {
      "cell_type": "markdown",
      "source": [
        "| 分類 | 主なモデル | 主な用途 |\n",
        "|-------------|-----|------------------------------|\n",
        "| **Encoder-Decoder Models** | BART, T5 | 機械翻訳、テキスト要約、データ生成、コード補完 |\n",
        "| **Encoder-Only Models** | BERT, RoBERTa, DistilBERT | 文書分類、固有表現抽出、検索システム、文書埋め込み |\n",
        "| **Decoder-Only Models** | GPT, GPT-2, GPT-3, LLaMA | テキスト生成、対話型AI、コード生成、文章補完 |\n"
      ],
      "metadata": {
        "id": "Sw61z4rLoz6V"
      }
    },
    {
      "cell_type": "markdown",
      "source": [
        "## 3. ライブラリのインストール"
      ],
      "metadata": {
        "id": "xltWiCGraD-4"
      }
    },
    {
      "cell_type": "code",
      "execution_count": null,
      "metadata": {
        "id": "KOdqTfu1zuYC",
        "colab": {
          "base_uri": "https://localhost:8080/"
        },
        "outputId": "6ad5f8f4-f4fe-4a96-aeed-937560aa3635"
      },
      "outputs": [
        {
          "output_type": "stream",
          "name": "stdout",
          "text": [
            "Requirement already satisfied: transformers in /usr/local/lib/python3.11/dist-packages (4.51.3)\n",
            "Requirement already satisfied: filelock in /usr/local/lib/python3.11/dist-packages (from transformers) (3.18.0)\n",
            "Requirement already satisfied: huggingface-hub<1.0,>=0.30.0 in /usr/local/lib/python3.11/dist-packages (from transformers) (0.30.2)\n",
            "Requirement already satisfied: numpy>=1.17 in /usr/local/lib/python3.11/dist-packages (from transformers) (2.0.2)\n",
            "Requirement already satisfied: packaging>=20.0 in /usr/local/lib/python3.11/dist-packages (from transformers) (24.2)\n",
            "Requirement already satisfied: pyyaml>=5.1 in /usr/local/lib/python3.11/dist-packages (from transformers) (6.0.2)\n",
            "Requirement already satisfied: regex!=2019.12.17 in /usr/local/lib/python3.11/dist-packages (from transformers) (2024.11.6)\n",
            "Requirement already satisfied: requests in /usr/local/lib/python3.11/dist-packages (from transformers) (2.32.3)\n",
            "Requirement already satisfied: tokenizers<0.22,>=0.21 in /usr/local/lib/python3.11/dist-packages (from transformers) (0.21.1)\n",
            "Requirement already satisfied: safetensors>=0.4.3 in /usr/local/lib/python3.11/dist-packages (from transformers) (0.5.3)\n",
            "Requirement already satisfied: tqdm>=4.27 in /usr/local/lib/python3.11/dist-packages (from transformers) (4.67.1)\n",
            "Requirement already satisfied: fsspec>=2023.5.0 in /usr/local/lib/python3.11/dist-packages (from huggingface-hub<1.0,>=0.30.0->transformers) (2025.3.2)\n",
            "Requirement already satisfied: typing-extensions>=3.7.4.3 in /usr/local/lib/python3.11/dist-packages (from huggingface-hub<1.0,>=0.30.0->transformers) (4.13.2)\n",
            "Requirement already satisfied: charset-normalizer<4,>=2 in /usr/local/lib/python3.11/dist-packages (from requests->transformers) (3.4.1)\n",
            "Requirement already satisfied: idna<4,>=2.5 in /usr/local/lib/python3.11/dist-packages (from requests->transformers) (3.10)\n",
            "Requirement already satisfied: urllib3<3,>=1.21.1 in /usr/local/lib/python3.11/dist-packages (from requests->transformers) (2.4.0)\n",
            "Requirement already satisfied: certifi>=2017.4.17 in /usr/local/lib/python3.11/dist-packages (from requests->transformers) (2025.4.26)\n",
            "Requirement already satisfied: accelerate in /usr/local/lib/python3.11/dist-packages (1.6.0)\n",
            "Requirement already satisfied: numpy<3.0.0,>=1.17 in /usr/local/lib/python3.11/dist-packages (from accelerate) (2.0.2)\n",
            "Requirement already satisfied: packaging>=20.0 in /usr/local/lib/python3.11/dist-packages (from accelerate) (24.2)\n",
            "Requirement already satisfied: psutil in /usr/local/lib/python3.11/dist-packages (from accelerate) (5.9.5)\n",
            "Requirement already satisfied: pyyaml in /usr/local/lib/python3.11/dist-packages (from accelerate) (6.0.2)\n",
            "Requirement already satisfied: torch>=2.0.0 in /usr/local/lib/python3.11/dist-packages (from accelerate) (2.6.0+cu124)\n",
            "Requirement already satisfied: huggingface-hub>=0.21.0 in /usr/local/lib/python3.11/dist-packages (from accelerate) (0.30.2)\n",
            "Requirement already satisfied: safetensors>=0.4.3 in /usr/local/lib/python3.11/dist-packages (from accelerate) (0.5.3)\n",
            "Requirement already satisfied: filelock in /usr/local/lib/python3.11/dist-packages (from huggingface-hub>=0.21.0->accelerate) (3.18.0)\n",
            "Requirement already satisfied: fsspec>=2023.5.0 in /usr/local/lib/python3.11/dist-packages (from huggingface-hub>=0.21.0->accelerate) (2025.3.2)\n",
            "Requirement already satisfied: requests in /usr/local/lib/python3.11/dist-packages (from huggingface-hub>=0.21.0->accelerate) (2.32.3)\n",
            "Requirement already satisfied: tqdm>=4.42.1 in /usr/local/lib/python3.11/dist-packages (from huggingface-hub>=0.21.0->accelerate) (4.67.1)\n",
            "Requirement already satisfied: typing-extensions>=3.7.4.3 in /usr/local/lib/python3.11/dist-packages (from huggingface-hub>=0.21.0->accelerate) (4.13.2)\n",
            "Requirement already satisfied: networkx in /usr/local/lib/python3.11/dist-packages (from torch>=2.0.0->accelerate) (3.4.2)\n",
            "Requirement already satisfied: jinja2 in /usr/local/lib/python3.11/dist-packages (from torch>=2.0.0->accelerate) (3.1.6)\n",
            "Collecting nvidia-cuda-nvrtc-cu12==12.4.127 (from torch>=2.0.0->accelerate)\n",
            "  Downloading nvidia_cuda_nvrtc_cu12-12.4.127-py3-none-manylinux2014_x86_64.whl.metadata (1.5 kB)\n",
            "Collecting nvidia-cuda-runtime-cu12==12.4.127 (from torch>=2.0.0->accelerate)\n",
            "  Downloading nvidia_cuda_runtime_cu12-12.4.127-py3-none-manylinux2014_x86_64.whl.metadata (1.5 kB)\n",
            "Collecting nvidia-cuda-cupti-cu12==12.4.127 (from torch>=2.0.0->accelerate)\n",
            "  Downloading nvidia_cuda_cupti_cu12-12.4.127-py3-none-manylinux2014_x86_64.whl.metadata (1.6 kB)\n",
            "Collecting nvidia-cudnn-cu12==9.1.0.70 (from torch>=2.0.0->accelerate)\n",
            "  Downloading nvidia_cudnn_cu12-9.1.0.70-py3-none-manylinux2014_x86_64.whl.metadata (1.6 kB)\n",
            "Collecting nvidia-cublas-cu12==12.4.5.8 (from torch>=2.0.0->accelerate)\n",
            "  Downloading nvidia_cublas_cu12-12.4.5.8-py3-none-manylinux2014_x86_64.whl.metadata (1.5 kB)\n",
            "Collecting nvidia-cufft-cu12==11.2.1.3 (from torch>=2.0.0->accelerate)\n",
            "  Downloading nvidia_cufft_cu12-11.2.1.3-py3-none-manylinux2014_x86_64.whl.metadata (1.5 kB)\n",
            "Collecting nvidia-curand-cu12==10.3.5.147 (from torch>=2.0.0->accelerate)\n",
            "  Downloading nvidia_curand_cu12-10.3.5.147-py3-none-manylinux2014_x86_64.whl.metadata (1.5 kB)\n",
            "Collecting nvidia-cusolver-cu12==11.6.1.9 (from torch>=2.0.0->accelerate)\n",
            "  Downloading nvidia_cusolver_cu12-11.6.1.9-py3-none-manylinux2014_x86_64.whl.metadata (1.6 kB)\n",
            "Collecting nvidia-cusparse-cu12==12.3.1.170 (from torch>=2.0.0->accelerate)\n",
            "  Downloading nvidia_cusparse_cu12-12.3.1.170-py3-none-manylinux2014_x86_64.whl.metadata (1.6 kB)\n",
            "Requirement already satisfied: nvidia-cusparselt-cu12==0.6.2 in /usr/local/lib/python3.11/dist-packages (from torch>=2.0.0->accelerate) (0.6.2)\n",
            "Requirement already satisfied: nvidia-nccl-cu12==2.21.5 in /usr/local/lib/python3.11/dist-packages (from torch>=2.0.0->accelerate) (2.21.5)\n",
            "Requirement already satisfied: nvidia-nvtx-cu12==12.4.127 in /usr/local/lib/python3.11/dist-packages (from torch>=2.0.0->accelerate) (12.4.127)\n",
            "Collecting nvidia-nvjitlink-cu12==12.4.127 (from torch>=2.0.0->accelerate)\n",
            "  Downloading nvidia_nvjitlink_cu12-12.4.127-py3-none-manylinux2014_x86_64.whl.metadata (1.5 kB)\n",
            "Requirement already satisfied: triton==3.2.0 in /usr/local/lib/python3.11/dist-packages (from torch>=2.0.0->accelerate) (3.2.0)\n",
            "Requirement already satisfied: sympy==1.13.1 in /usr/local/lib/python3.11/dist-packages (from torch>=2.0.0->accelerate) (1.13.1)\n",
            "Requirement already satisfied: mpmath<1.4,>=1.1.0 in /usr/local/lib/python3.11/dist-packages (from sympy==1.13.1->torch>=2.0.0->accelerate) (1.3.0)\n",
            "Requirement already satisfied: MarkupSafe>=2.0 in /usr/local/lib/python3.11/dist-packages (from jinja2->torch>=2.0.0->accelerate) (3.0.2)\n",
            "Requirement already satisfied: charset-normalizer<4,>=2 in /usr/local/lib/python3.11/dist-packages (from requests->huggingface-hub>=0.21.0->accelerate) (3.4.1)\n",
            "Requirement already satisfied: idna<4,>=2.5 in /usr/local/lib/python3.11/dist-packages (from requests->huggingface-hub>=0.21.0->accelerate) (3.10)\n",
            "Requirement already satisfied: urllib3<3,>=1.21.1 in /usr/local/lib/python3.11/dist-packages (from requests->huggingface-hub>=0.21.0->accelerate) (2.4.0)\n",
            "Requirement already satisfied: certifi>=2017.4.17 in /usr/local/lib/python3.11/dist-packages (from requests->huggingface-hub>=0.21.0->accelerate) (2025.4.26)\n",
            "Downloading nvidia_cublas_cu12-12.4.5.8-py3-none-manylinux2014_x86_64.whl (363.4 MB)\n",
            "\u001b[2K   \u001b[90m━━━━━━━━━━━━━━━━━━━━━━━━━━━━━━━━━━━━━━━━\u001b[0m \u001b[32m363.4/363.4 MB\u001b[0m \u001b[31m3.6 MB/s\u001b[0m eta \u001b[36m0:00:00\u001b[0m\n",
            "\u001b[?25hDownloading nvidia_cuda_cupti_cu12-12.4.127-py3-none-manylinux2014_x86_64.whl (13.8 MB)\n",
            "\u001b[2K   \u001b[90m━━━━━━━━━━━━━━━━━━━━━━━━━━━━━━━━━━━━━━━━\u001b[0m \u001b[32m13.8/13.8 MB\u001b[0m \u001b[31m65.7 MB/s\u001b[0m eta \u001b[36m0:00:00\u001b[0m\n",
            "\u001b[?25hDownloading nvidia_cuda_nvrtc_cu12-12.4.127-py3-none-manylinux2014_x86_64.whl (24.6 MB)\n",
            "\u001b[2K   \u001b[90m━━━━━━━━━━━━━━━━━━━━━━━━━━━━━━━━━━━━━━━━\u001b[0m \u001b[32m24.6/24.6 MB\u001b[0m \u001b[31m49.8 MB/s\u001b[0m eta \u001b[36m0:00:00\u001b[0m\n",
            "\u001b[?25hDownloading nvidia_cuda_runtime_cu12-12.4.127-py3-none-manylinux2014_x86_64.whl (883 kB)\n",
            "\u001b[2K   \u001b[90m━━━━━━━━━━━━━━━━━━━━━━━━━━━━━━━━━━━━━━━━\u001b[0m \u001b[32m883.7/883.7 kB\u001b[0m \u001b[31m32.5 MB/s\u001b[0m eta \u001b[36m0:00:00\u001b[0m\n",
            "\u001b[?25hDownloading nvidia_cudnn_cu12-9.1.0.70-py3-none-manylinux2014_x86_64.whl (664.8 MB)\n",
            "\u001b[2K   \u001b[90m━━━━━━━━━━━━━━━━━━━━━━━━━━━━━━━━━━━━━━━━\u001b[0m \u001b[32m664.8/664.8 MB\u001b[0m \u001b[31m2.5 MB/s\u001b[0m eta \u001b[36m0:00:00\u001b[0m\n",
            "\u001b[?25hDownloading nvidia_cufft_cu12-11.2.1.3-py3-none-manylinux2014_x86_64.whl (211.5 MB)\n",
            "\u001b[2K   \u001b[90m━━━━━━━━━━━━━━━━━━━━━━━━━━━━━━━━━━━━━━━━\u001b[0m \u001b[32m211.5/211.5 MB\u001b[0m \u001b[31m6.0 MB/s\u001b[0m eta \u001b[36m0:00:00\u001b[0m\n",
            "\u001b[?25hDownloading nvidia_curand_cu12-10.3.5.147-py3-none-manylinux2014_x86_64.whl (56.3 MB)\n",
            "\u001b[2K   \u001b[90m━━━━━━━━━━━━━━━━━━━━━━━━━━━━━━━━━━━━━━━━\u001b[0m \u001b[32m56.3/56.3 MB\u001b[0m \u001b[31m9.4 MB/s\u001b[0m eta \u001b[36m0:00:00\u001b[0m\n",
            "\u001b[?25hDownloading nvidia_cusolver_cu12-11.6.1.9-py3-none-manylinux2014_x86_64.whl (127.9 MB)\n",
            "\u001b[2K   \u001b[90m━━━━━━━━━━━━━━━━━━━━━━━━━━━━━━━━━━━━━━━━\u001b[0m \u001b[32m127.9/127.9 MB\u001b[0m \u001b[31m7.5 MB/s\u001b[0m eta \u001b[36m0:00:00\u001b[0m\n",
            "\u001b[?25hDownloading nvidia_cusparse_cu12-12.3.1.170-py3-none-manylinux2014_x86_64.whl (207.5 MB)\n",
            "\u001b[2K   \u001b[90m━━━━━━━━━━━━━━━━━━━━━━━━━━━━━━━━━━━━━━━━\u001b[0m \u001b[32m207.5/207.5 MB\u001b[0m \u001b[31m4.7 MB/s\u001b[0m eta \u001b[36m0:00:00\u001b[0m\n",
            "\u001b[?25hDownloading nvidia_nvjitlink_cu12-12.4.127-py3-none-manylinux2014_x86_64.whl (21.1 MB)\n",
            "\u001b[2K   \u001b[90m━━━━━━━━━━━━━━━━━━━━━━━━━━━━━━━━━━━━━━━━\u001b[0m \u001b[32m21.1/21.1 MB\u001b[0m \u001b[31m62.3 MB/s\u001b[0m eta \u001b[36m0:00:00\u001b[0m\n",
            "\u001b[?25hInstalling collected packages: nvidia-nvjitlink-cu12, nvidia-curand-cu12, nvidia-cufft-cu12, nvidia-cuda-runtime-cu12, nvidia-cuda-nvrtc-cu12, nvidia-cuda-cupti-cu12, nvidia-cublas-cu12, nvidia-cusparse-cu12, nvidia-cudnn-cu12, nvidia-cusolver-cu12\n",
            "  Attempting uninstall: nvidia-nvjitlink-cu12\n",
            "    Found existing installation: nvidia-nvjitlink-cu12 12.5.82\n",
            "    Uninstalling nvidia-nvjitlink-cu12-12.5.82:\n",
            "      Successfully uninstalled nvidia-nvjitlink-cu12-12.5.82\n",
            "  Attempting uninstall: nvidia-curand-cu12\n",
            "    Found existing installation: nvidia-curand-cu12 10.3.6.82\n",
            "    Uninstalling nvidia-curand-cu12-10.3.6.82:\n",
            "      Successfully uninstalled nvidia-curand-cu12-10.3.6.82\n",
            "  Attempting uninstall: nvidia-cufft-cu12\n",
            "    Found existing installation: nvidia-cufft-cu12 11.2.3.61\n",
            "    Uninstalling nvidia-cufft-cu12-11.2.3.61:\n",
            "      Successfully uninstalled nvidia-cufft-cu12-11.2.3.61\n",
            "  Attempting uninstall: nvidia-cuda-runtime-cu12\n",
            "    Found existing installation: nvidia-cuda-runtime-cu12 12.5.82\n",
            "    Uninstalling nvidia-cuda-runtime-cu12-12.5.82:\n",
            "      Successfully uninstalled nvidia-cuda-runtime-cu12-12.5.82\n",
            "  Attempting uninstall: nvidia-cuda-nvrtc-cu12\n",
            "    Found existing installation: nvidia-cuda-nvrtc-cu12 12.5.82\n",
            "    Uninstalling nvidia-cuda-nvrtc-cu12-12.5.82:\n",
            "      Successfully uninstalled nvidia-cuda-nvrtc-cu12-12.5.82\n",
            "  Attempting uninstall: nvidia-cuda-cupti-cu12\n",
            "    Found existing installation: nvidia-cuda-cupti-cu12 12.5.82\n",
            "    Uninstalling nvidia-cuda-cupti-cu12-12.5.82:\n",
            "      Successfully uninstalled nvidia-cuda-cupti-cu12-12.5.82\n",
            "  Attempting uninstall: nvidia-cublas-cu12\n",
            "    Found existing installation: nvidia-cublas-cu12 12.5.3.2\n",
            "    Uninstalling nvidia-cublas-cu12-12.5.3.2:\n",
            "      Successfully uninstalled nvidia-cublas-cu12-12.5.3.2\n",
            "  Attempting uninstall: nvidia-cusparse-cu12\n",
            "    Found existing installation: nvidia-cusparse-cu12 12.5.1.3\n",
            "    Uninstalling nvidia-cusparse-cu12-12.5.1.3:\n",
            "      Successfully uninstalled nvidia-cusparse-cu12-12.5.1.3\n",
            "  Attempting uninstall: nvidia-cudnn-cu12\n",
            "    Found existing installation: nvidia-cudnn-cu12 9.3.0.75\n",
            "    Uninstalling nvidia-cudnn-cu12-9.3.0.75:\n",
            "      Successfully uninstalled nvidia-cudnn-cu12-9.3.0.75\n",
            "  Attempting uninstall: nvidia-cusolver-cu12\n",
            "    Found existing installation: nvidia-cusolver-cu12 11.6.3.83\n",
            "    Uninstalling nvidia-cusolver-cu12-11.6.3.83:\n",
            "      Successfully uninstalled nvidia-cusolver-cu12-11.6.3.83\n",
            "Successfully installed nvidia-cublas-cu12-12.4.5.8 nvidia-cuda-cupti-cu12-12.4.127 nvidia-cuda-nvrtc-cu12-12.4.127 nvidia-cuda-runtime-cu12-12.4.127 nvidia-cudnn-cu12-9.1.0.70 nvidia-cufft-cu12-11.2.1.3 nvidia-curand-cu12-10.3.5.147 nvidia-cusolver-cu12-11.6.1.9 nvidia-cusparse-cu12-12.3.1.170 nvidia-nvjitlink-cu12-12.4.127\n",
            "Collecting datasets\n",
            "  Downloading datasets-3.5.1-py3-none-any.whl.metadata (19 kB)\n",
            "Requirement already satisfied: filelock in /usr/local/lib/python3.11/dist-packages (from datasets) (3.18.0)\n",
            "Requirement already satisfied: numpy>=1.17 in /usr/local/lib/python3.11/dist-packages (from datasets) (2.0.2)\n",
            "Requirement already satisfied: pyarrow>=15.0.0 in /usr/local/lib/python3.11/dist-packages (from datasets) (18.1.0)\n",
            "Collecting dill<0.3.9,>=0.3.0 (from datasets)\n",
            "  Downloading dill-0.3.8-py3-none-any.whl.metadata (10 kB)\n",
            "Requirement already satisfied: pandas in /usr/local/lib/python3.11/dist-packages (from datasets) (2.2.2)\n",
            "Requirement already satisfied: requests>=2.32.2 in /usr/local/lib/python3.11/dist-packages (from datasets) (2.32.3)\n",
            "Requirement already satisfied: tqdm>=4.66.3 in /usr/local/lib/python3.11/dist-packages (from datasets) (4.67.1)\n",
            "Collecting xxhash (from datasets)\n",
            "  Downloading xxhash-3.5.0-cp311-cp311-manylinux_2_17_x86_64.manylinux2014_x86_64.whl.metadata (12 kB)\n",
            "Collecting multiprocess<0.70.17 (from datasets)\n",
            "  Downloading multiprocess-0.70.16-py311-none-any.whl.metadata (7.2 kB)\n",
            "Collecting fsspec<=2025.3.0,>=2023.1.0 (from fsspec[http]<=2025.3.0,>=2023.1.0->datasets)\n",
            "  Downloading fsspec-2025.3.0-py3-none-any.whl.metadata (11 kB)\n",
            "Requirement already satisfied: aiohttp in /usr/local/lib/python3.11/dist-packages (from datasets) (3.11.15)\n",
            "Requirement already satisfied: huggingface-hub>=0.24.0 in /usr/local/lib/python3.11/dist-packages (from datasets) (0.30.2)\n",
            "Requirement already satisfied: packaging in /usr/local/lib/python3.11/dist-packages (from datasets) (24.2)\n",
            "Requirement already satisfied: pyyaml>=5.1 in /usr/local/lib/python3.11/dist-packages (from datasets) (6.0.2)\n",
            "Requirement already satisfied: aiohappyeyeballs>=2.3.0 in /usr/local/lib/python3.11/dist-packages (from aiohttp->datasets) (2.6.1)\n",
            "Requirement already satisfied: aiosignal>=1.1.2 in /usr/local/lib/python3.11/dist-packages (from aiohttp->datasets) (1.3.2)\n",
            "Requirement already satisfied: attrs>=17.3.0 in /usr/local/lib/python3.11/dist-packages (from aiohttp->datasets) (25.3.0)\n",
            "Requirement already satisfied: frozenlist>=1.1.1 in /usr/local/lib/python3.11/dist-packages (from aiohttp->datasets) (1.6.0)\n",
            "Requirement already satisfied: multidict<7.0,>=4.5 in /usr/local/lib/python3.11/dist-packages (from aiohttp->datasets) (6.4.3)\n",
            "Requirement already satisfied: propcache>=0.2.0 in /usr/local/lib/python3.11/dist-packages (from aiohttp->datasets) (0.3.1)\n",
            "Requirement already satisfied: yarl<2.0,>=1.17.0 in /usr/local/lib/python3.11/dist-packages (from aiohttp->datasets) (1.20.0)\n",
            "Requirement already satisfied: typing-extensions>=3.7.4.3 in /usr/local/lib/python3.11/dist-packages (from huggingface-hub>=0.24.0->datasets) (4.13.2)\n",
            "Requirement already satisfied: charset-normalizer<4,>=2 in /usr/local/lib/python3.11/dist-packages (from requests>=2.32.2->datasets) (3.4.1)\n",
            "Requirement already satisfied: idna<4,>=2.5 in /usr/local/lib/python3.11/dist-packages (from requests>=2.32.2->datasets) (3.10)\n",
            "Requirement already satisfied: urllib3<3,>=1.21.1 in /usr/local/lib/python3.11/dist-packages (from requests>=2.32.2->datasets) (2.4.0)\n",
            "Requirement already satisfied: certifi>=2017.4.17 in /usr/local/lib/python3.11/dist-packages (from requests>=2.32.2->datasets) (2025.4.26)\n",
            "Requirement already satisfied: python-dateutil>=2.8.2 in /usr/local/lib/python3.11/dist-packages (from pandas->datasets) (2.9.0.post0)\n",
            "Requirement already satisfied: pytz>=2020.1 in /usr/local/lib/python3.11/dist-packages (from pandas->datasets) (2025.2)\n",
            "Requirement already satisfied: tzdata>=2022.7 in /usr/local/lib/python3.11/dist-packages (from pandas->datasets) (2025.2)\n",
            "Requirement already satisfied: six>=1.5 in /usr/local/lib/python3.11/dist-packages (from python-dateutil>=2.8.2->pandas->datasets) (1.17.0)\n",
            "Downloading datasets-3.5.1-py3-none-any.whl (491 kB)\n",
            "\u001b[2K   \u001b[90m━━━━━━━━━━━━━━━━━━━━━━━━━━━━━━━━━━━━━━━━\u001b[0m \u001b[32m491.4/491.4 kB\u001b[0m \u001b[31m8.4 MB/s\u001b[0m eta \u001b[36m0:00:00\u001b[0m\n",
            "\u001b[?25hDownloading dill-0.3.8-py3-none-any.whl (116 kB)\n",
            "\u001b[2K   \u001b[90m━━━━━━━━━━━━━━━━━━━━━━━━━━━━━━━━━━━━━━━━\u001b[0m \u001b[32m116.3/116.3 kB\u001b[0m \u001b[31m8.7 MB/s\u001b[0m eta \u001b[36m0:00:00\u001b[0m\n",
            "\u001b[?25hDownloading fsspec-2025.3.0-py3-none-any.whl (193 kB)\n",
            "\u001b[2K   \u001b[90m━━━━━━━━━━━━━━━━━━━━━━━━━━━━━━━━━━━━━━━━\u001b[0m \u001b[32m193.6/193.6 kB\u001b[0m \u001b[31m13.5 MB/s\u001b[0m eta \u001b[36m0:00:00\u001b[0m\n",
            "\u001b[?25hDownloading multiprocess-0.70.16-py311-none-any.whl (143 kB)\n",
            "\u001b[2K   \u001b[90m━━━━━━━━━━━━━━━━━━━━━━━━━━━━━━━━━━━━━━━━\u001b[0m \u001b[32m143.5/143.5 kB\u001b[0m \u001b[31m11.8 MB/s\u001b[0m eta \u001b[36m0:00:00\u001b[0m\n",
            "\u001b[?25hDownloading xxhash-3.5.0-cp311-cp311-manylinux_2_17_x86_64.manylinux2014_x86_64.whl (194 kB)\n",
            "\u001b[2K   \u001b[90m━━━━━━━━━━━━━━━━━━━━━━━━━━━━━━━━━━━━━━━━\u001b[0m \u001b[32m194.8/194.8 kB\u001b[0m \u001b[31m14.0 MB/s\u001b[0m eta \u001b[36m0:00:00\u001b[0m\n",
            "\u001b[?25hInstalling collected packages: xxhash, fsspec, dill, multiprocess, datasets\n",
            "  Attempting uninstall: fsspec\n",
            "    Found existing installation: fsspec 2025.3.2\n",
            "    Uninstalling fsspec-2025.3.2:\n",
            "      Successfully uninstalled fsspec-2025.3.2\n",
            "\u001b[31mERROR: pip's dependency resolver does not currently take into account all the packages that are installed. This behaviour is the source of the following dependency conflicts.\n",
            "gcsfs 2025.3.2 requires fsspec==2025.3.2, but you have fsspec 2025.3.0 which is incompatible.\u001b[0m\u001b[31m\n",
            "\u001b[0mSuccessfully installed datasets-3.5.1 dill-0.3.8 fsspec-2025.3.0 multiprocess-0.70.16 xxhash-3.5.0\n",
            "Collecting bertviz\n",
            "  Downloading bertviz-1.4.0-py3-none-any.whl.metadata (19 kB)\n",
            "Requirement already satisfied: transformers>=2.0 in /usr/local/lib/python3.11/dist-packages (from bertviz) (4.51.3)\n",
            "Requirement already satisfied: torch>=1.0 in /usr/local/lib/python3.11/dist-packages (from bertviz) (2.6.0+cu124)\n",
            "Requirement already satisfied: tqdm in /usr/local/lib/python3.11/dist-packages (from bertviz) (4.67.1)\n",
            "Collecting boto3 (from bertviz)\n",
            "  Downloading boto3-1.38.10-py3-none-any.whl.metadata (6.6 kB)\n",
            "Requirement already satisfied: requests in /usr/local/lib/python3.11/dist-packages (from bertviz) (2.32.3)\n",
            "Requirement already satisfied: regex in /usr/local/lib/python3.11/dist-packages (from bertviz) (2024.11.6)\n",
            "Requirement already satisfied: sentencepiece in /usr/local/lib/python3.11/dist-packages (from bertviz) (0.2.0)\n",
            "Requirement already satisfied: filelock in /usr/local/lib/python3.11/dist-packages (from torch>=1.0->bertviz) (3.18.0)\n",
            "Requirement already satisfied: typing-extensions>=4.10.0 in /usr/local/lib/python3.11/dist-packages (from torch>=1.0->bertviz) (4.13.2)\n",
            "Requirement already satisfied: networkx in /usr/local/lib/python3.11/dist-packages (from torch>=1.0->bertviz) (3.4.2)\n",
            "Requirement already satisfied: jinja2 in /usr/local/lib/python3.11/dist-packages (from torch>=1.0->bertviz) (3.1.6)\n",
            "Requirement already satisfied: fsspec in /usr/local/lib/python3.11/dist-packages (from torch>=1.0->bertviz) (2025.3.0)\n",
            "Requirement already satisfied: nvidia-cuda-nvrtc-cu12==12.4.127 in /usr/local/lib/python3.11/dist-packages (from torch>=1.0->bertviz) (12.4.127)\n",
            "Requirement already satisfied: nvidia-cuda-runtime-cu12==12.4.127 in /usr/local/lib/python3.11/dist-packages (from torch>=1.0->bertviz) (12.4.127)\n",
            "Requirement already satisfied: nvidia-cuda-cupti-cu12==12.4.127 in /usr/local/lib/python3.11/dist-packages (from torch>=1.0->bertviz) (12.4.127)\n",
            "Requirement already satisfied: nvidia-cudnn-cu12==9.1.0.70 in /usr/local/lib/python3.11/dist-packages (from torch>=1.0->bertviz) (9.1.0.70)\n",
            "Requirement already satisfied: nvidia-cublas-cu12==12.4.5.8 in /usr/local/lib/python3.11/dist-packages (from torch>=1.0->bertviz) (12.4.5.8)\n",
            "Requirement already satisfied: nvidia-cufft-cu12==11.2.1.3 in /usr/local/lib/python3.11/dist-packages (from torch>=1.0->bertviz) (11.2.1.3)\n",
            "Requirement already satisfied: nvidia-curand-cu12==10.3.5.147 in /usr/local/lib/python3.11/dist-packages (from torch>=1.0->bertviz) (10.3.5.147)\n",
            "Requirement already satisfied: nvidia-cusolver-cu12==11.6.1.9 in /usr/local/lib/python3.11/dist-packages (from torch>=1.0->bertviz) (11.6.1.9)\n",
            "Requirement already satisfied: nvidia-cusparse-cu12==12.3.1.170 in /usr/local/lib/python3.11/dist-packages (from torch>=1.0->bertviz) (12.3.1.170)\n",
            "Requirement already satisfied: nvidia-cusparselt-cu12==0.6.2 in /usr/local/lib/python3.11/dist-packages (from torch>=1.0->bertviz) (0.6.2)\n",
            "Requirement already satisfied: nvidia-nccl-cu12==2.21.5 in /usr/local/lib/python3.11/dist-packages (from torch>=1.0->bertviz) (2.21.5)\n",
            "Requirement already satisfied: nvidia-nvtx-cu12==12.4.127 in /usr/local/lib/python3.11/dist-packages (from torch>=1.0->bertviz) (12.4.127)\n",
            "Requirement already satisfied: nvidia-nvjitlink-cu12==12.4.127 in /usr/local/lib/python3.11/dist-packages (from torch>=1.0->bertviz) (12.4.127)\n",
            "Requirement already satisfied: triton==3.2.0 in /usr/local/lib/python3.11/dist-packages (from torch>=1.0->bertviz) (3.2.0)\n",
            "Requirement already satisfied: sympy==1.13.1 in /usr/local/lib/python3.11/dist-packages (from torch>=1.0->bertviz) (1.13.1)\n",
            "Requirement already satisfied: mpmath<1.4,>=1.1.0 in /usr/local/lib/python3.11/dist-packages (from sympy==1.13.1->torch>=1.0->bertviz) (1.3.0)\n",
            "Requirement already satisfied: huggingface-hub<1.0,>=0.30.0 in /usr/local/lib/python3.11/dist-packages (from transformers>=2.0->bertviz) (0.30.2)\n",
            "Requirement already satisfied: numpy>=1.17 in /usr/local/lib/python3.11/dist-packages (from transformers>=2.0->bertviz) (2.0.2)\n",
            "Requirement already satisfied: packaging>=20.0 in /usr/local/lib/python3.11/dist-packages (from transformers>=2.0->bertviz) (24.2)\n",
            "Requirement already satisfied: pyyaml>=5.1 in /usr/local/lib/python3.11/dist-packages (from transformers>=2.0->bertviz) (6.0.2)\n",
            "Requirement already satisfied: tokenizers<0.22,>=0.21 in /usr/local/lib/python3.11/dist-packages (from transformers>=2.0->bertviz) (0.21.1)\n",
            "Requirement already satisfied: safetensors>=0.4.3 in /usr/local/lib/python3.11/dist-packages (from transformers>=2.0->bertviz) (0.5.3)\n",
            "Collecting botocore<1.39.0,>=1.38.10 (from boto3->bertviz)\n",
            "  Downloading botocore-1.38.10-py3-none-any.whl.metadata (5.7 kB)\n",
            "Collecting jmespath<2.0.0,>=0.7.1 (from boto3->bertviz)\n",
            "  Downloading jmespath-1.0.1-py3-none-any.whl.metadata (7.6 kB)\n",
            "Collecting s3transfer<0.13.0,>=0.12.0 (from boto3->bertviz)\n",
            "  Downloading s3transfer-0.12.0-py3-none-any.whl.metadata (1.7 kB)\n",
            "Requirement already satisfied: charset-normalizer<4,>=2 in /usr/local/lib/python3.11/dist-packages (from requests->bertviz) (3.4.1)\n",
            "Requirement already satisfied: idna<4,>=2.5 in /usr/local/lib/python3.11/dist-packages (from requests->bertviz) (3.10)\n",
            "Requirement already satisfied: urllib3<3,>=1.21.1 in /usr/local/lib/python3.11/dist-packages (from requests->bertviz) (2.4.0)\n",
            "Requirement already satisfied: certifi>=2017.4.17 in /usr/local/lib/python3.11/dist-packages (from requests->bertviz) (2025.4.26)\n",
            "Requirement already satisfied: python-dateutil<3.0.0,>=2.1 in /usr/local/lib/python3.11/dist-packages (from botocore<1.39.0,>=1.38.10->boto3->bertviz) (2.9.0.post0)\n",
            "Requirement already satisfied: MarkupSafe>=2.0 in /usr/local/lib/python3.11/dist-packages (from jinja2->torch>=1.0->bertviz) (3.0.2)\n",
            "Requirement already satisfied: six>=1.5 in /usr/local/lib/python3.11/dist-packages (from python-dateutil<3.0.0,>=2.1->botocore<1.39.0,>=1.38.10->boto3->bertviz) (1.17.0)\n",
            "Downloading bertviz-1.4.0-py3-none-any.whl (157 kB)\n",
            "\u001b[2K   \u001b[90m━━━━━━━━━━━━━━━━━━━━━━━━━━━━━━━━━━━━━━━━\u001b[0m \u001b[32m157.6/157.6 kB\u001b[0m \u001b[31m4.1 MB/s\u001b[0m eta \u001b[36m0:00:00\u001b[0m\n",
            "\u001b[?25hDownloading boto3-1.38.10-py3-none-any.whl (139 kB)\n",
            "\u001b[2K   \u001b[90m━━━━━━━━━━━━━━━━━━━━━━━━━━━━━━━━━━━━━━━━\u001b[0m \u001b[32m139.9/139.9 kB\u001b[0m \u001b[31m10.5 MB/s\u001b[0m eta \u001b[36m0:00:00\u001b[0m\n",
            "\u001b[?25hDownloading botocore-1.38.10-py3-none-any.whl (13.5 MB)\n",
            "\u001b[2K   \u001b[90m━━━━━━━━━━━━━━━━━━━━━━━━━━━━━━━━━━━━━━━━\u001b[0m \u001b[32m13.5/13.5 MB\u001b[0m \u001b[31m98.2 MB/s\u001b[0m eta \u001b[36m0:00:00\u001b[0m\n",
            "\u001b[?25hDownloading jmespath-1.0.1-py3-none-any.whl (20 kB)\n",
            "Downloading s3transfer-0.12.0-py3-none-any.whl (84 kB)\n",
            "\u001b[2K   \u001b[90m━━━━━━━━━━━━━━━━━━━━━━━━━━━━━━━━━━━━━━━━\u001b[0m \u001b[32m84.8/84.8 kB\u001b[0m \u001b[31m6.3 MB/s\u001b[0m eta \u001b[36m0:00:00\u001b[0m\n",
            "\u001b[?25hInstalling collected packages: jmespath, botocore, s3transfer, boto3, bertviz\n",
            "Successfully installed bertviz-1.4.0 boto3-1.38.10 botocore-1.38.10 jmespath-1.0.1 s3transfer-0.12.0\n",
            "Requirement already satisfied: umap-learn in /usr/local/lib/python3.11/dist-packages (0.5.7)\n",
            "Requirement already satisfied: numpy>=1.17 in /usr/local/lib/python3.11/dist-packages (from umap-learn) (2.0.2)\n",
            "Requirement already satisfied: scipy>=1.3.1 in /usr/local/lib/python3.11/dist-packages (from umap-learn) (1.15.2)\n",
            "Requirement already satisfied: scikit-learn>=0.22 in /usr/local/lib/python3.11/dist-packages (from umap-learn) (1.6.1)\n",
            "Requirement already satisfied: numba>=0.51.2 in /usr/local/lib/python3.11/dist-packages (from umap-learn) (0.60.0)\n",
            "Requirement already satisfied: pynndescent>=0.5 in /usr/local/lib/python3.11/dist-packages (from umap-learn) (0.5.13)\n",
            "Requirement already satisfied: tqdm in /usr/local/lib/python3.11/dist-packages (from umap-learn) (4.67.1)\n",
            "Requirement already satisfied: llvmlite<0.44,>=0.43.0dev0 in /usr/local/lib/python3.11/dist-packages (from numba>=0.51.2->umap-learn) (0.43.0)\n",
            "Requirement already satisfied: joblib>=0.11 in /usr/local/lib/python3.11/dist-packages (from pynndescent>=0.5->umap-learn) (1.4.2)\n",
            "Requirement already satisfied: threadpoolctl>=3.1.0 in /usr/local/lib/python3.11/dist-packages (from scikit-learn>=0.22->umap-learn) (3.6.0)\n",
            "Requirement already satisfied: seaborn in /usr/local/lib/python3.11/dist-packages (0.13.2)\n",
            "Requirement already satisfied: numpy!=1.24.0,>=1.20 in /usr/local/lib/python3.11/dist-packages (from seaborn) (2.0.2)\n",
            "Requirement already satisfied: pandas>=1.2 in /usr/local/lib/python3.11/dist-packages (from seaborn) (2.2.2)\n",
            "Requirement already satisfied: matplotlib!=3.6.1,>=3.4 in /usr/local/lib/python3.11/dist-packages (from seaborn) (3.10.0)\n",
            "Requirement already satisfied: contourpy>=1.0.1 in /usr/local/lib/python3.11/dist-packages (from matplotlib!=3.6.1,>=3.4->seaborn) (1.3.2)\n",
            "Requirement already satisfied: cycler>=0.10 in /usr/local/lib/python3.11/dist-packages (from matplotlib!=3.6.1,>=3.4->seaborn) (0.12.1)\n",
            "Requirement already satisfied: fonttools>=4.22.0 in /usr/local/lib/python3.11/dist-packages (from matplotlib!=3.6.1,>=3.4->seaborn) (4.57.0)\n",
            "Requirement already satisfied: kiwisolver>=1.3.1 in /usr/local/lib/python3.11/dist-packages (from matplotlib!=3.6.1,>=3.4->seaborn) (1.4.8)\n",
            "Requirement already satisfied: packaging>=20.0 in /usr/local/lib/python3.11/dist-packages (from matplotlib!=3.6.1,>=3.4->seaborn) (24.2)\n",
            "Requirement already satisfied: pillow>=8 in /usr/local/lib/python3.11/dist-packages (from matplotlib!=3.6.1,>=3.4->seaborn) (11.2.1)\n",
            "Requirement already satisfied: pyparsing>=2.3.1 in /usr/local/lib/python3.11/dist-packages (from matplotlib!=3.6.1,>=3.4->seaborn) (3.2.3)\n",
            "Requirement already satisfied: python-dateutil>=2.7 in /usr/local/lib/python3.11/dist-packages (from matplotlib!=3.6.1,>=3.4->seaborn) (2.9.0.post0)\n",
            "Requirement already satisfied: pytz>=2020.1 in /usr/local/lib/python3.11/dist-packages (from pandas>=1.2->seaborn) (2025.2)\n",
            "Requirement already satisfied: tzdata>=2022.7 in /usr/local/lib/python3.11/dist-packages (from pandas>=1.2->seaborn) (2025.2)\n",
            "Requirement already satisfied: six>=1.5 in /usr/local/lib/python3.11/dist-packages (from python-dateutil>=2.7->matplotlib!=3.6.1,>=3.4->seaborn) (1.17.0)\n"
          ]
        }
      ],
      "source": [
        "!pip install -U transformers\n",
        "!pip install -U accelerate\n",
        "!pip install -U datasets\n",
        "!pip install -U bertviz\n",
        "!pip install -U umap-learn\n",
        "!pip install seaborn --upgrade"
      ]
    },
    {
      "cell_type": "markdown",
      "source": [
        "## 4. Hugging Faceを使った推論実行"
      ],
      "metadata": {
        "id": "WXVx5DpjaMns"
      }
    },
    {
      "cell_type": "markdown",
      "source": [
        "## 4-1. Text Classification"
      ],
      "metadata": {
        "id": "zhQwuPxUnS5G"
      }
    },
    {
      "cell_type": "code",
      "source": [
        "!pip install -U transformers\n",
        "!pip install -U sentencepiece\n",
        "!pip install -U sacremoses"
      ],
      "metadata": {
        "id": "7AQ0M3oUbynr"
      },
      "execution_count": null,
      "outputs": []
    },
    {
      "cell_type": "code",
      "source": [
        "from transformers import pipeline\n",
        "import pandas as pd"
      ],
      "metadata": {
        "id": "yC-oelLLnNXS"
      },
      "execution_count": null,
      "outputs": []
    },
    {
      "cell_type": "code",
      "source": [
        "classifier = pipeline(\"text-classification\", model = \"SamLowe/roberta-base-go_emotions\")\n",
        "\n",
        "text = \"wow! we have come across this far\"\n",
        "outputs = classifier(text)\n",
        "pd.DataFrame(outputs)"
      ],
      "metadata": {
        "id": "mYqjrOJ7nQP-"
      },
      "execution_count": null,
      "outputs": []
    },
    {
      "cell_type": "markdown",
      "source": [
        "## 4-2. Question Answering"
      ],
      "metadata": {
        "id": "Yx6GBJVOncrg"
      }
    },
    {
      "cell_type": "code",
      "source": [
        "text = \"\"\"\n",
        "Dear Amazon, last week I ordered an Optimus Prime action figure from your\n",
        "online store in India. Unfortunately when I opened the package, I discovered to\n",
        "my horror that I had been sent an action figure of Megatron instead!\n",
        "\"\"\"\n",
        "\n",
        "reader = pipeline(\"question-answering\")\n",
        "question = \"from where did I placed order?\"\n",
        "\n",
        "outputs = reader(question=question, context=text)\n",
        "pd.DataFrame([outputs])"
      ],
      "metadata": {
        "id": "saX5oF5tnjRP"
      },
      "execution_count": null,
      "outputs": []
    },
    {
      "cell_type": "markdown",
      "source": [
        "## 4-3. Translation"
      ],
      "metadata": {
        "id": "RAp6A6BsnucB"
      }
    },
    {
      "cell_type": "code",
      "source": [
        "translator = pipeline(\"translation_en_to_de\", model=\"Helsinki-NLP/opus-mt-en-de\")\n",
        "\n",
        "outputs = translator(text)\n",
        "outputs"
      ],
      "metadata": {
        "id": "j1EvEdrwnmTm"
      },
      "execution_count": null,
      "outputs": []
    },
    {
      "cell_type": "code",
      "source": [],
      "metadata": {
        "id": "j_Mfq_5KnylT"
      },
      "execution_count": null,
      "outputs": []
    },
    {
      "cell_type": "markdown",
      "source": [
        "## 4-4. Text Generation"
      ],
      "metadata": {
        "id": "AHDIm1WRp93j"
      }
    },
    {
      "cell_type": "code",
      "source": [
        "from transformers import set_seed\n",
        "set_seed(0)"
      ],
      "metadata": {
        "id": "4LbpjySmqBfu"
      },
      "execution_count": null,
      "outputs": []
    },
    {
      "cell_type": "code",
      "source": [
        "text"
      ],
      "metadata": {
        "id": "XIdcRMjbqFWG"
      },
      "execution_count": null,
      "outputs": []
    },
    {
      "cell_type": "code",
      "source": [
        "generator = pipeline(\"text-generation\", model=\"gpt2-large\")\n",
        "\n",
        "response = \"I am sorry to hear that your order was mixed up\"\n",
        "\n",
        "# prompt = \"user: \" + text.replace(\"\\n\", \" \") + \" Customer Service Response: \" + response\n",
        "\n",
        "prompt = \"There was a lion \"\n",
        "outputs = generator(prompt, max_length=128)"
      ],
      "metadata": {
        "id": "YcDMQv9pqH8o"
      },
      "execution_count": null,
      "outputs": []
    },
    {
      "cell_type": "code",
      "source": [
        "outputs"
      ],
      "metadata": {
        "id": "jfGgIVx3qMul"
      },
      "execution_count": null,
      "outputs": []
    },
    {
      "cell_type": "markdown",
      "source": [
        "## 5. Hugging Faceを使ったFine Tuning"
      ],
      "metadata": {
        "id": "dDGYqNotUfKM"
      }
    },
    {
      "cell_type": "markdown",
      "source": [
        "## 5-1. データエンジニアリング"
      ],
      "metadata": {
        "id": "XWrxGU0VatMi"
      }
    },
    {
      "cell_type": "code",
      "source": [
        "import pandas as pd\n",
        "\n",
        "df = pd.read_parquet(\"https://datasets-documentation.s3.eu-west-3.amazonaws.com/amazon_reviews/amazon_reviews_2010.snappy.parquet\",columns=[\"star_rating\",\"review_body\"])\n"
      ],
      "metadata": {
        "id": "m-74gRmaz37g"
      },
      "execution_count": null,
      "outputs": []
    },
    {
      "cell_type": "code",
      "source": [
        "for i in range(1,6):\n",
        "    print(\"star_rating: \", i)\n",
        "    print(df[df['star_rating'] == i].count())\n",
        "    print('-------------------------')"
      ],
      "metadata": {
        "colab": {
          "base_uri": "https://localhost:8080/"
        },
        "id": "pdRIbkna-Du7",
        "outputId": "b28ce847-c72a-4e70-c1df-f82a0e7fcfa8"
      },
      "execution_count": null,
      "outputs": [
        {
          "output_type": "stream",
          "name": "stdout",
          "text": [
            "star_rating:  1\n",
            "star_rating    382315\n",
            "review_body    382315\n",
            "dtype: int64\n",
            "-------------------------\n",
            "star_rating:  2\n",
            "star_rating    222957\n",
            "review_body    222957\n",
            "dtype: int64\n",
            "-------------------------\n",
            "star_rating:  3\n",
            "star_rating    333851\n",
            "review_body    333851\n",
            "dtype: int64\n",
            "-------------------------\n",
            "star_rating:  4\n",
            "star_rating    735597\n",
            "review_body    735597\n",
            "dtype: int64\n",
            "-------------------------\n",
            "star_rating:  5\n",
            "star_rating    2193752\n",
            "review_body    2193752\n",
            "dtype: int64\n",
            "-------------------------\n"
          ]
        }
      ]
    },
    {
      "cell_type": "code",
      "source": [
        "for i in range(1,6):\n",
        "    new_df = 'df' + str(i)\n",
        "    globals()[new_df] = df[df['star_rating'] == i].sample(n=2000)"
      ],
      "metadata": {
        "id": "6IHIqIDzGFw6"
      },
      "execution_count": null,
      "outputs": []
    },
    {
      "cell_type": "code",
      "source": [
        "df = pd.concat([df1,df2,df3,df4,df5])\n",
        "df.count()"
      ],
      "metadata": {
        "colab": {
          "base_uri": "https://localhost:8080/",
          "height": 147
        },
        "id": "vr0HXurx-c22",
        "outputId": "3416952b-f0ff-4b4e-e7f0-b376bfdd0214"
      },
      "execution_count": null,
      "outputs": [
        {
          "output_type": "execute_result",
          "data": {
            "text/plain": [
              "star_rating    10000\n",
              "review_body    10000\n",
              "dtype: int64"
            ],
            "text/html": [
              "<div>\n",
              "<style scoped>\n",
              "    .dataframe tbody tr th:only-of-type {\n",
              "        vertical-align: middle;\n",
              "    }\n",
              "\n",
              "    .dataframe tbody tr th {\n",
              "        vertical-align: top;\n",
              "    }\n",
              "\n",
              "    .dataframe thead th {\n",
              "        text-align: right;\n",
              "    }\n",
              "</style>\n",
              "<table border=\"1\" class=\"dataframe\">\n",
              "  <thead>\n",
              "    <tr style=\"text-align: right;\">\n",
              "      <th></th>\n",
              "      <th>0</th>\n",
              "    </tr>\n",
              "  </thead>\n",
              "  <tbody>\n",
              "    <tr>\n",
              "      <th>star_rating</th>\n",
              "      <td>10000</td>\n",
              "    </tr>\n",
              "    <tr>\n",
              "      <th>review_body</th>\n",
              "      <td>10000</td>\n",
              "    </tr>\n",
              "  </tbody>\n",
              "</table>\n",
              "</div><br><label><b>dtype:</b> int64</label>"
            ]
          },
          "metadata": {},
          "execution_count": 5
        }
      ]
    },
    {
      "cell_type": "code",
      "source": [
        "df['review_body'] = df['review_body'].astype(str)\n",
        "df['star_rating'] = df['star_rating'].astype(\"int64\")"
      ],
      "metadata": {
        "id": "ck5mzCqgEBdH"
      },
      "execution_count": null,
      "outputs": []
    },
    {
      "cell_type": "code",
      "source": [
        "df.info()\n",
        "df.isnull().sum()"
      ],
      "metadata": {
        "colab": {
          "base_uri": "https://localhost:8080/",
          "height": 312
        },
        "id": "AfVc93pM1Q-6",
        "outputId": "f7e6e052-072f-44fa-d391-b009decc2768"
      },
      "execution_count": null,
      "outputs": [
        {
          "output_type": "stream",
          "name": "stdout",
          "text": [
            "<class 'pandas.core.frame.DataFrame'>\n",
            "Index: 10000 entries, 3340915 to 1539821\n",
            "Data columns (total 2 columns):\n",
            " #   Column       Non-Null Count  Dtype \n",
            "---  ------       --------------  ----- \n",
            " 0   star_rating  10000 non-null  int64 \n",
            " 1   review_body  10000 non-null  object\n",
            "dtypes: int64(1), object(1)\n",
            "memory usage: 234.4+ KB\n"
          ]
        },
        {
          "output_type": "execute_result",
          "data": {
            "text/plain": [
              "star_rating    0\n",
              "review_body    0\n",
              "dtype: int64"
            ],
            "text/html": [
              "<div>\n",
              "<style scoped>\n",
              "    .dataframe tbody tr th:only-of-type {\n",
              "        vertical-align: middle;\n",
              "    }\n",
              "\n",
              "    .dataframe tbody tr th {\n",
              "        vertical-align: top;\n",
              "    }\n",
              "\n",
              "    .dataframe thead th {\n",
              "        text-align: right;\n",
              "    }\n",
              "</style>\n",
              "<table border=\"1\" class=\"dataframe\">\n",
              "  <thead>\n",
              "    <tr style=\"text-align: right;\">\n",
              "      <th></th>\n",
              "      <th>0</th>\n",
              "    </tr>\n",
              "  </thead>\n",
              "  <tbody>\n",
              "    <tr>\n",
              "      <th>star_rating</th>\n",
              "      <td>0</td>\n",
              "    </tr>\n",
              "    <tr>\n",
              "      <th>review_body</th>\n",
              "      <td>0</td>\n",
              "    </tr>\n",
              "  </tbody>\n",
              "</table>\n",
              "</div><br><label><b>dtype:</b> int64</label>"
            ]
          },
          "metadata": {},
          "execution_count": 7
        }
      ]
    },
    {
      "cell_type": "code",
      "source": [
        "df['review_body']"
      ],
      "metadata": {
        "colab": {
          "base_uri": "https://localhost:8080/",
          "height": 458
        },
        "id": "KCzX7VgAEZ1y",
        "outputId": "5bd92434-7131-4a76-b7d6-1004eb0263cc"
      },
      "execution_count": null,
      "outputs": [
        {
          "output_type": "execute_result",
          "data": {
            "text/plain": [
              "3340915    just got my ring and the 3 stones init are not...\n",
              "418919     I ordered the trilogy here on Amazon after pre...\n",
              "2061372    I just finished The Big Short a few minutes ag...\n",
              "466731     These toys are cute but yet while my chihuahua...\n",
              "3269976    This book was $25. and looked to be copied fro...\n",
              "                                 ...                        \n",
              "2480113    Great experience in cold weather and with heav...\n",
              "1421166    I dare you.  I triple dare you.  Those of you ...\n",
              "2770779    I bought this specifically for a Windows 7 sys...\n",
              "2458325    I own three small dogs and every time someone ...\n",
              "1539821    Alright, so it's been awhile since I last used...\n",
              "Name: review_body, Length: 10000, dtype: object"
            ],
            "text/html": [
              "<div>\n",
              "<style scoped>\n",
              "    .dataframe tbody tr th:only-of-type {\n",
              "        vertical-align: middle;\n",
              "    }\n",
              "\n",
              "    .dataframe tbody tr th {\n",
              "        vertical-align: top;\n",
              "    }\n",
              "\n",
              "    .dataframe thead th {\n",
              "        text-align: right;\n",
              "    }\n",
              "</style>\n",
              "<table border=\"1\" class=\"dataframe\">\n",
              "  <thead>\n",
              "    <tr style=\"text-align: right;\">\n",
              "      <th></th>\n",
              "      <th>review_body</th>\n",
              "    </tr>\n",
              "  </thead>\n",
              "  <tbody>\n",
              "    <tr>\n",
              "      <th>3340915</th>\n",
              "      <td>just got my ring and the 3 stones init are not...</td>\n",
              "    </tr>\n",
              "    <tr>\n",
              "      <th>418919</th>\n",
              "      <td>I ordered the trilogy here on Amazon after pre...</td>\n",
              "    </tr>\n",
              "    <tr>\n",
              "      <th>2061372</th>\n",
              "      <td>I just finished The Big Short a few minutes ag...</td>\n",
              "    </tr>\n",
              "    <tr>\n",
              "      <th>466731</th>\n",
              "      <td>These toys are cute but yet while my chihuahua...</td>\n",
              "    </tr>\n",
              "    <tr>\n",
              "      <th>3269976</th>\n",
              "      <td>This book was $25. and looked to be copied fro...</td>\n",
              "    </tr>\n",
              "    <tr>\n",
              "      <th>...</th>\n",
              "      <td>...</td>\n",
              "    </tr>\n",
              "    <tr>\n",
              "      <th>2480113</th>\n",
              "      <td>Great experience in cold weather and with heav...</td>\n",
              "    </tr>\n",
              "    <tr>\n",
              "      <th>1421166</th>\n",
              "      <td>I dare you.  I triple dare you.  Those of you ...</td>\n",
              "    </tr>\n",
              "    <tr>\n",
              "      <th>2770779</th>\n",
              "      <td>I bought this specifically for a Windows 7 sys...</td>\n",
              "    </tr>\n",
              "    <tr>\n",
              "      <th>2458325</th>\n",
              "      <td>I own three small dogs and every time someone ...</td>\n",
              "    </tr>\n",
              "    <tr>\n",
              "      <th>1539821</th>\n",
              "      <td>Alright, so it's been awhile since I last used...</td>\n",
              "    </tr>\n",
              "  </tbody>\n",
              "</table>\n",
              "<p>10000 rows × 1 columns</p>\n",
              "</div><br><label><b>dtype:</b> object</label>"
            ]
          },
          "metadata": {},
          "execution_count": 8
        }
      ]
    },
    {
      "cell_type": "code",
      "source": [
        "df = df.rename(columns={'review_body': 'text', 'star_rating': 'label'})"
      ],
      "metadata": {
        "id": "7vZ1SkCf4Axl"
      },
      "execution_count": null,
      "outputs": []
    },
    {
      "cell_type": "code",
      "source": [
        "df['text']"
      ],
      "metadata": {
        "colab": {
          "base_uri": "https://localhost:8080/",
          "height": 458
        },
        "id": "SXcWThViDyAV",
        "outputId": "58e3379d-5283-42c4-e7d2-e3c453cff7ff"
      },
      "execution_count": null,
      "outputs": [
        {
          "output_type": "execute_result",
          "data": {
            "text/plain": [
              "3340915    just got my ring and the 3 stones init are not...\n",
              "418919     I ordered the trilogy here on Amazon after pre...\n",
              "2061372    I just finished The Big Short a few minutes ag...\n",
              "466731     These toys are cute but yet while my chihuahua...\n",
              "3269976    This book was $25. and looked to be copied fro...\n",
              "                                 ...                        \n",
              "2480113    Great experience in cold weather and with heav...\n",
              "1421166    I dare you.  I triple dare you.  Those of you ...\n",
              "2770779    I bought this specifically for a Windows 7 sys...\n",
              "2458325    I own three small dogs and every time someone ...\n",
              "1539821    Alright, so it's been awhile since I last used...\n",
              "Name: text, Length: 10000, dtype: object"
            ],
            "text/html": [
              "<div>\n",
              "<style scoped>\n",
              "    .dataframe tbody tr th:only-of-type {\n",
              "        vertical-align: middle;\n",
              "    }\n",
              "\n",
              "    .dataframe tbody tr th {\n",
              "        vertical-align: top;\n",
              "    }\n",
              "\n",
              "    .dataframe thead th {\n",
              "        text-align: right;\n",
              "    }\n",
              "</style>\n",
              "<table border=\"1\" class=\"dataframe\">\n",
              "  <thead>\n",
              "    <tr style=\"text-align: right;\">\n",
              "      <th></th>\n",
              "      <th>text</th>\n",
              "    </tr>\n",
              "  </thead>\n",
              "  <tbody>\n",
              "    <tr>\n",
              "      <th>3340915</th>\n",
              "      <td>just got my ring and the 3 stones init are not...</td>\n",
              "    </tr>\n",
              "    <tr>\n",
              "      <th>418919</th>\n",
              "      <td>I ordered the trilogy here on Amazon after pre...</td>\n",
              "    </tr>\n",
              "    <tr>\n",
              "      <th>2061372</th>\n",
              "      <td>I just finished The Big Short a few minutes ag...</td>\n",
              "    </tr>\n",
              "    <tr>\n",
              "      <th>466731</th>\n",
              "      <td>These toys are cute but yet while my chihuahua...</td>\n",
              "    </tr>\n",
              "    <tr>\n",
              "      <th>3269976</th>\n",
              "      <td>This book was $25. and looked to be copied fro...</td>\n",
              "    </tr>\n",
              "    <tr>\n",
              "      <th>...</th>\n",
              "      <td>...</td>\n",
              "    </tr>\n",
              "    <tr>\n",
              "      <th>2480113</th>\n",
              "      <td>Great experience in cold weather and with heav...</td>\n",
              "    </tr>\n",
              "    <tr>\n",
              "      <th>1421166</th>\n",
              "      <td>I dare you.  I triple dare you.  Those of you ...</td>\n",
              "    </tr>\n",
              "    <tr>\n",
              "      <th>2770779</th>\n",
              "      <td>I bought this specifically for a Windows 7 sys...</td>\n",
              "    </tr>\n",
              "    <tr>\n",
              "      <th>2458325</th>\n",
              "      <td>I own three small dogs and every time someone ...</td>\n",
              "    </tr>\n",
              "    <tr>\n",
              "      <th>1539821</th>\n",
              "      <td>Alright, so it's been awhile since I last used...</td>\n",
              "    </tr>\n",
              "  </tbody>\n",
              "</table>\n",
              "<p>10000 rows × 1 columns</p>\n",
              "</div><br><label><b>dtype:</b> object</label>"
            ]
          },
          "metadata": {},
          "execution_count": 10
        }
      ]
    },
    {
      "cell_type": "code",
      "source": [
        "df.info()"
      ],
      "metadata": {
        "colab": {
          "base_uri": "https://localhost:8080/"
        },
        "id": "GeKRyurl44IH",
        "outputId": "b5a76113-368d-4da0-dc86-df633517b43c"
      },
      "execution_count": null,
      "outputs": [
        {
          "output_type": "stream",
          "name": "stdout",
          "text": [
            "<class 'pandas.core.frame.DataFrame'>\n",
            "Index: 10000 entries, 3340915 to 1539821\n",
            "Data columns (total 2 columns):\n",
            " #   Column  Non-Null Count  Dtype \n",
            "---  ------  --------------  ----- \n",
            " 0   label   10000 non-null  int64 \n",
            " 1   text    10000 non-null  object\n",
            "dtypes: int64(1), object(1)\n",
            "memory usage: 234.4+ KB\n"
          ]
        }
      ]
    },
    {
      "cell_type": "code",
      "source": [
        "df['label'].value_counts()"
      ],
      "metadata": {
        "colab": {
          "base_uri": "https://localhost:8080/",
          "height": 272
        },
        "id": "un4wWhwe5B6R",
        "outputId": "8128b621-8fef-4259-d0a9-f9986b6d0ff0"
      },
      "execution_count": null,
      "outputs": [
        {
          "output_type": "execute_result",
          "data": {
            "text/plain": [
              "label\n",
              "1    2000\n",
              "2    2000\n",
              "3    2000\n",
              "4    2000\n",
              "5    2000\n",
              "Name: count, dtype: int64"
            ],
            "text/html": [
              "<div>\n",
              "<style scoped>\n",
              "    .dataframe tbody tr th:only-of-type {\n",
              "        vertical-align: middle;\n",
              "    }\n",
              "\n",
              "    .dataframe tbody tr th {\n",
              "        vertical-align: top;\n",
              "    }\n",
              "\n",
              "    .dataframe thead th {\n",
              "        text-align: right;\n",
              "    }\n",
              "</style>\n",
              "<table border=\"1\" class=\"dataframe\">\n",
              "  <thead>\n",
              "    <tr style=\"text-align: right;\">\n",
              "      <th></th>\n",
              "      <th>count</th>\n",
              "    </tr>\n",
              "    <tr>\n",
              "      <th>label</th>\n",
              "      <th></th>\n",
              "    </tr>\n",
              "  </thead>\n",
              "  <tbody>\n",
              "    <tr>\n",
              "      <th>1</th>\n",
              "      <td>2000</td>\n",
              "    </tr>\n",
              "    <tr>\n",
              "      <th>2</th>\n",
              "      <td>2000</td>\n",
              "    </tr>\n",
              "    <tr>\n",
              "      <th>3</th>\n",
              "      <td>2000</td>\n",
              "    </tr>\n",
              "    <tr>\n",
              "      <th>4</th>\n",
              "      <td>2000</td>\n",
              "    </tr>\n",
              "    <tr>\n",
              "      <th>5</th>\n",
              "      <td>2000</td>\n",
              "    </tr>\n",
              "  </tbody>\n",
              "</table>\n",
              "</div><br><label><b>dtype:</b> int64</label>"
            ]
          },
          "metadata": {},
          "execution_count": 12
        }
      ]
    },
    {
      "cell_type": "code",
      "source": [
        "df[\"label\"] = df[\"label\"] - 1"
      ],
      "metadata": {
        "id": "wXGMotv6Q0zj"
      },
      "execution_count": null,
      "outputs": []
    },
    {
      "cell_type": "code",
      "source": [
        "import matplotlib.pyplot as plt"
      ],
      "metadata": {
        "id": "xmpVAYjo5MIR"
      },
      "execution_count": null,
      "outputs": []
    },
    {
      "cell_type": "code",
      "source": [
        "label_counts = df['label'].value_counts(ascending=True)\n",
        "label_counts.plot.barh()\n",
        "plt.title(\"Frequency of Classes\")\n",
        "plt.show()"
      ],
      "metadata": {
        "colab": {
          "base_uri": "https://localhost:8080/",
          "height": 452
        },
        "id": "NpQmXnHA5TjA",
        "outputId": "7114f67e-7f61-468e-cd84-0fdcf6ee1023"
      },
      "execution_count": null,
      "outputs": [
        {
          "output_type": "display_data",
          "data": {
            "text/plain": [
              "<Figure size 640x480 with 1 Axes>"
            ],
            "image/png": "[encoded data removed]"
          },
          "metadata": {}
        }
      ]
    },
    {
      "cell_type": "markdown",
      "source": [
        "## 5-2. トークナイザーの定義"
      ],
      "metadata": {
        "id": "Japs3MO0UwUu"
      }
    },
    {
      "cell_type": "code",
      "source": [
        "from transformers import AutoTokenizer\n",
        "\n",
        "base_model = \"bert-base-cased\"\n",
        "tokenizer = AutoTokenizer.from_pretrained(base_model)\n",
        "\n",
        "text = \"This product is very good.\"\n",
        "encoded_text = tokenizer(text)\n",
        "print(encoded_text)"
      ],
      "metadata": {
        "colab": {
          "base_uri": "https://localhost:8080/",
          "height": 294,
          "referenced_widgets": [
            "14512c727ef142cfb0d00503cdc46c21",
            "3ad8fb16d28b45ba9ce569eb54dba242",
            "08b47c26a48a4f889ab4ebbfa13d59b9",
            "395b85d6a3bc4d78babb5df10d02eb3f",
            "6413eaa15e47407881672056cec9fa09",
            "9a5297af7243490aafbb5a8c485f2f13",
            "af9f0e05d4f74de99040f6f5041fc506",
            "71a84c8e75d949aeaa61b3be2a3250c8",
            "451ca94f4788425c9d4c7a6f0cdc4e53",
            "3b1dede7b3464509ac3411ce2ebc3780",
            "3f3c1f3675474876bf5fab54befad93f",
            "17a1e16973994b1da9f7c0e9b2b5aa5c",
            "87d449b2719e4f75a88f9d4b5573d67d",
            "126c4cd659f945c7a0a5eb2f090a9d27",
            "8fe5981014a34fe8aed7a47f22e6f2d0",
            "de61a92931394dbfae808e67f3c0359a",
            "ed8933b15ae7481dab070bcefc278ea0",
            "7e52e12c0ef542e5a797905974427a2e",
            "928c607c7e35487288750e7190b2d117",
            "9b40b2dc27c742869f43d69ab20da667",
            "d5d3fe99771e4fc5892b0a773baa12c8",
            "1da792cf6cee4430b8be55097e8503db",
            "252fa76775394da3b5397008d6803ae9",
            "fae0540a55554b29975089b24a746393",
            "0a25f93317ae4fa89b39224536511b4f",
            "6804132a72ce4e7eaa055b05c24a228f",
            "f9b582895cb24d1699ede444fcfd4fc1",
            "7c511525cd614ea293fe5d1bca033f26",
            "08b5349218044cd88f67a0ed239c7ff2",
            "82dfdd41d904464897d853af9baef8fc",
            "4eb1bd58b9444010bc57199e37022911",
            "c566c24921e04836948e15d08b42b0ce",
            "481b83b02e624dedaff43a0627e59c23",
            "4ef809a60e3d407d8837c05a9ccd1e45",
            "31c0e0bb3a904b69b0eeb7de9f16e96c",
            "cfa9d6ef59794c30aa3a59854b0035c6",
            "c106026b4e0a4f868587dd8df85a350d",
            "81b83cf6837c4313870212b9c15ce973",
            "690a9aedfdbe44838b6aa8a7f09e2813",
            "68cde49770c84f66b6d752f3f5a0ce39",
            "8fac651d70a54d8bb1ffc4d363dd816b",
            "770a443468604d0a98423eab112628f1",
            "e5eac932d9144783ae40fb55493fd387",
            "0fd4b589961644b693b6a2da33bd441b"
          ]
        },
        "id": "g1DKpt_l5ZMD",
        "outputId": "eb957ef6-4539-46ed-db17-24d61033adbf"
      },
      "execution_count": null,
      "outputs": [
        {
          "output_type": "stream",
          "name": "stderr",
          "text": [
            "/usr/local/lib/python3.11/dist-packages/huggingface_hub/utils/_auth.py:94: UserWarning: \n",
            "The secret `HF_TOKEN` does not exist in your Colab secrets.\n",
            "To authenticate with the Hugging Face Hub, create a token in your settings tab (https://huggingface.co/settings/tokens), set it as secret in your Google Colab and restart your session.\n",
            "You will be able to reuse this secret in all of your notebooks.\n",
            "Please note that authentication is recommended but still optional to access public models or datasets.\n",
            "  warnings.warn(\n"
          ]
        },
        {
          "output_type": "display_data",
          "data": {
            "text/plain": [
              "tokenizer_config.json:   0%|          | 0.00/49.0 [00:00<?, ?B/s]"
            ],
            "application/vnd.jupyter.widget-view+json": {
              "version_major": 2,
              "version_minor": 0,
              "model_id": "14512c727ef142cfb0d00503cdc46c21"
            }
          },
          "metadata": {}
        },
        {
          "output_type": "display_data",
          "data": {
            "text/plain": [
              "config.json:   0%|          | 0.00/570 [00:00<?, ?B/s]"
            ],
            "application/vnd.jupyter.widget-view+json": {
              "version_major": 2,
              "version_minor": 0,
              "model_id": "17a1e16973994b1da9f7c0e9b2b5aa5c"
            }
          },
          "metadata": {}
        },
        {
          "output_type": "display_data",
          "data": {
            "text/plain": [
              "vocab.txt:   0%|          | 0.00/213k [00:00<?, ?B/s]"
            ],
            "application/vnd.jupyter.widget-view+json": {
              "version_major": 2,
              "version_minor": 0,
              "model_id": "252fa76775394da3b5397008d6803ae9"
            }
          },
          "metadata": {}
        },
        {
          "output_type": "display_data",
          "data": {
            "text/plain": [
              "tokenizer.json:   0%|          | 0.00/436k [00:00<?, ?B/s]"
            ],
            "application/vnd.jupyter.widget-view+json": {
              "version_major": 2,
              "version_minor": 0,
              "model_id": "4ef809a60e3d407d8837c05a9ccd1e45"
            }
          },
          "metadata": {}
        },
        {
          "output_type": "stream",
          "name": "stdout",
          "text": [
            "{'input_ids': [101, 1188, 3317, 1110, 1304, 1363, 119, 102], 'token_type_ids': [0, 0, 0, 0, 0, 0, 0, 0], 'attention_mask': [1, 1, 1, 1, 1, 1, 1, 1]}\n"
          ]
        }
      ]
    },
    {
      "cell_type": "markdown",
      "source": [
        "## 5-3. データセットの分割"
      ],
      "metadata": {
        "id": "aGatn8OEU7ez"
      }
    },
    {
      "cell_type": "code",
      "source": [
        "from sklearn.model_selection import train_test_split\n",
        "\n",
        "train_df, test_df = train_test_split(df, test_size=0.2, stratify=df['label'])\n",
        "test_df, validation_df = train_test_split(test_df, test_size=0.5, stratify=test_df['label'])\n",
        "\n",
        "train_df.shape, test_df.shape, validation_df.shape"
      ],
      "metadata": {
        "colab": {
          "base_uri": "https://localhost:8080/"
        },
        "id": "5fNEsJ8q50Yx",
        "outputId": "a22a7f47-6065-437c-dd0d-599cabc4d064"
      },
      "execution_count": null,
      "outputs": [
        {
          "output_type": "execute_result",
          "data": {
            "text/plain": [
              "((8000, 2), (1000, 2), (1000, 2))"
            ]
          },
          "metadata": {},
          "execution_count": 17
        }
      ]
    },
    {
      "cell_type": "code",
      "source": [
        "from datasets import Dataset, DatasetDict, Features, Value, ClassLabel\n",
        "\n",
        "dataset = DatasetDict({\n",
        "    'train': Dataset.from_pandas(train_df, preserve_index=False),\n",
        "    'test': Dataset.from_pandas(test_df, preserve_index=False),\n",
        "    'validation': Dataset.from_pandas(validation_df, preserve_index=False)\n",
        "})\n",
        "\n",
        "dataset"
      ],
      "metadata": {
        "colab": {
          "base_uri": "https://localhost:8080/"
        },
        "id": "QxOcCNL46Vkt",
        "outputId": "e852f18b-820f-4cf8-b77f-83c123e0a97f"
      },
      "execution_count": null,
      "outputs": [
        {
          "output_type": "execute_result",
          "data": {
            "text/plain": [
              "DatasetDict({\n",
              "    train: Dataset({\n",
              "        features: ['label', 'text'],\n",
              "        num_rows: 8000\n",
              "    })\n",
              "    test: Dataset({\n",
              "        features: ['label', 'text'],\n",
              "        num_rows: 1000\n",
              "    })\n",
              "    validation: Dataset({\n",
              "        features: ['label', 'text'],\n",
              "        num_rows: 1000\n",
              "    })\n",
              "})"
            ]
          },
          "metadata": {},
          "execution_count": 18
        }
      ]
    },
    {
      "cell_type": "code",
      "source": [
        "dataset['train'].features"
      ],
      "metadata": {
        "colab": {
          "base_uri": "https://localhost:8080/"
        },
        "id": "DMi-T0nUhVnY",
        "outputId": "d18b5e9e-7828-4bd3-eb25-b411e5e00e07"
      },
      "execution_count": null,
      "outputs": [
        {
          "output_type": "execute_result",
          "data": {
            "text/plain": [
              "{'label': Value(dtype='int64', id=None),\n",
              " 'text': Value(dtype='string', id=None)}"
            ]
          },
          "metadata": {},
          "execution_count": 19
        }
      ]
    },
    {
      "cell_type": "code",
      "source": [
        "dataset['train']['label'][:10]"
      ],
      "metadata": {
        "colab": {
          "base_uri": "https://localhost:8080/"
        },
        "id": "WJMQSnFkCqn-",
        "outputId": "7c723686-065f-4e9c-89fe-42ead1da1019"
      },
      "execution_count": null,
      "outputs": [
        {
          "output_type": "execute_result",
          "data": {
            "text/plain": [
              "[3, 2, 0, 0, 0, 0, 4, 2, 0, 1]"
            ]
          },
          "metadata": {},
          "execution_count": 20
        }
      ]
    },
    {
      "cell_type": "markdown",
      "source": [
        "## 5-4. データセットのトークン化"
      ],
      "metadata": {
        "id": "MDg1F9U-VSEf"
      }
    },
    {
      "cell_type": "code",
      "source": [
        "def tokenize(temp):\n",
        "    result = tokenizer(temp['text'], padding=True, truncation=True)\n",
        "    return result\n",
        "\n",
        "print(tokenize(dataset['train'][:2]))"
      ],
      "metadata": {
        "colab": {
          "base_uri": "https://localhost:8080/"
        },
        "id": "9UxFeh_z_HKL",
        "outputId": "5505a694-5b61-4950-f77f-9359674e931a"
      },
      "execution_count": null,
      "outputs": [
        {
          "output_type": "stream",
          "name": "stdout",
          "text": [
            "{'input_ids': [[101, 1422, 1797, 3055, 1454, 124, 1105, 1460, 170, 188, 2528, 26950, 1111, 1123, 5913, 1177, 146, 1458, 170, 10815, 1105, 21910, 1111, 1123, 1106, 4330, 1315, 119, 1153, 1144, 170, 1415, 1246, 1177, 146, 1225, 170, 1974, 1104, 1844, 1113, 9786, 1112, 1242, 1104, 1103, 4321, 118, 16777, 1216, 1112, 1142, 2694, 1103, 10815, 1108, 1113, 1103, 1353, 1334, 119, 1188, 1110, 3264, 1105, 1131, 7871, 3351, 1103, 2072, 1383, 1112, 1122, 2075, 1241, 5656, 1105, 9007, 21910, 1315, 119, 1109, 3945, 1108, 1145, 1632, 119, 102, 0, 0, 0, 0, 0, 0, 0, 0, 0, 0, 0, 0, 0, 0, 0, 0, 0, 0, 0, 0, 0, 0, 0, 0, 0, 0, 0, 0, 0, 0, 0, 0, 0, 0, 0, 0, 0, 0, 0, 0, 0, 0, 0, 0, 0, 0, 0, 0, 0, 0, 0, 0, 0, 0, 0, 0, 0, 0, 0, 0, 0, 0, 0, 0, 0, 0, 0, 0, 0, 0, 0, 0, 0, 0, 0, 0, 0, 0, 0, 0, 0, 0, 0, 0, 0, 0, 0, 0, 0, 0, 0], [101, 146, 1400, 170, 1714, 6876, 1104, 1292, 12237, 1107, 1103, 6346, 170, 1229, 1171, 117, 1105, 3055, 1400, 170, 2640, 1106, 2222, 1172, 1149, 119, 1220, 1250, 10899, 119, 1220, 4218, 10899, 119, 1220, 112, 1231, 1353, 1105, 1107, 7235, 20080, 1596, 8163, 119, 1252, 146, 1169, 112, 189, 4958, 1191, 1103, 1825, 1150, 2011, 1292, 1614, 1108, 2022, 1137, 1198, 2581, 119, 3435, 1113, 117, 19892, 1566, 1775, 106, 1636, 1132, 157, 10964, 23329, 12412, 117, 1136, 1710, 24208, 119, 6682, 1114, 1103, 10509, 5821, 5769, 1105, 7670, 1348, 7416, 119, 146, 2141, 9241, 10672, 21910, 1165, 1152, 1408, 3344, 1143, 1106, 1138, 170, 2816, 1669, 119, 146, 112, 1325, 1138, 3451, 1912, 1104, 1669, 146, 1631, 1176, 1515, 117, 6243, 1128, 1304, 1277, 117, 1105, 1519, 112, 188, 1339, 1122, 117, 1774, 1106, 1294, 170, 1669, 5110, 1105, 4106, 1105, 4348, 1110, 27092, 119, 19984, 1413, 131, 1103, 1178, 1645, 1280, 1111, 158, 1118, 19892, 1566, 1775, 1132, 1103, 6805, 16021, 1152, 112, 1231, 4293, 1107, 117, 1105, 1115, 2762, 112, 189, 2157, 1277, 119, 102]], 'token_type_ids': [[0, 0, 0, 0, 0, 0, 0, 0, 0, 0, 0, 0, 0, 0, 0, 0, 0, 0, 0, 0, 0, 0, 0, 0, 0, 0, 0, 0, 0, 0, 0, 0, 0, 0, 0, 0, 0, 0, 0, 0, 0, 0, 0, 0, 0, 0, 0, 0, 0, 0, 0, 0, 0, 0, 0, 0, 0, 0, 0, 0, 0, 0, 0, 0, 0, 0, 0, 0, 0, 0, 0, 0, 0, 0, 0, 0, 0, 0, 0, 0, 0, 0, 0, 0, 0, 0, 0, 0, 0, 0, 0, 0, 0, 0, 0, 0, 0, 0, 0, 0, 0, 0, 0, 0, 0, 0, 0, 0, 0, 0, 0, 0, 0, 0, 0, 0, 0, 0, 0, 0, 0, 0, 0, 0, 0, 0, 0, 0, 0, 0, 0, 0, 0, 0, 0, 0, 0, 0, 0, 0, 0, 0, 0, 0, 0, 0, 0, 0, 0, 0, 0, 0, 0, 0, 0, 0, 0, 0, 0, 0, 0, 0, 0, 0, 0, 0, 0, 0, 0, 0, 0, 0, 0, 0, 0, 0, 0, 0, 0], [0, 0, 0, 0, 0, 0, 0, 0, 0, 0, 0, 0, 0, 0, 0, 0, 0, 0, 0, 0, 0, 0, 0, 0, 0, 0, 0, 0, 0, 0, 0, 0, 0, 0, 0, 0, 0, 0, 0, 0, 0, 0, 0, 0, 0, 0, 0, 0, 0, 0, 0, 0, 0, 0, 0, 0, 0, 0, 0, 0, 0, 0, 0, 0, 0, 0, 0, 0, 0, 0, 0, 0, 0, 0, 0, 0, 0, 0, 0, 0, 0, 0, 0, 0, 0, 0, 0, 0, 0, 0, 0, 0, 0, 0, 0, 0, 0, 0, 0, 0, 0, 0, 0, 0, 0, 0, 0, 0, 0, 0, 0, 0, 0, 0, 0, 0, 0, 0, 0, 0, 0, 0, 0, 0, 0, 0, 0, 0, 0, 0, 0, 0, 0, 0, 0, 0, 0, 0, 0, 0, 0, 0, 0, 0, 0, 0, 0, 0, 0, 0, 0, 0, 0, 0, 0, 0, 0, 0, 0, 0, 0, 0, 0, 0, 0, 0, 0, 0, 0, 0, 0, 0, 0, 0, 0, 0, 0, 0, 0]], 'attention_mask': [[1, 1, 1, 1, 1, 1, 1, 1, 1, 1, 1, 1, 1, 1, 1, 1, 1, 1, 1, 1, 1, 1, 1, 1, 1, 1, 1, 1, 1, 1, 1, 1, 1, 1, 1, 1, 1, 1, 1, 1, 1, 1, 1, 1, 1, 1, 1, 1, 1, 1, 1, 1, 1, 1, 1, 1, 1, 1, 1, 1, 1, 1, 1, 1, 1, 1, 1, 1, 1, 1, 1, 1, 1, 1, 1, 1, 1, 1, 1, 1, 1, 1, 1, 1, 1, 1, 1, 1, 0, 0, 0, 0, 0, 0, 0, 0, 0, 0, 0, 0, 0, 0, 0, 0, 0, 0, 0, 0, 0, 0, 0, 0, 0, 0, 0, 0, 0, 0, 0, 0, 0, 0, 0, 0, 0, 0, 0, 0, 0, 0, 0, 0, 0, 0, 0, 0, 0, 0, 0, 0, 0, 0, 0, 0, 0, 0, 0, 0, 0, 0, 0, 0, 0, 0, 0, 0, 0, 0, 0, 0, 0, 0, 0, 0, 0, 0, 0, 0, 0, 0, 0, 0, 0, 0, 0, 0, 0, 0, 0], [1, 1, 1, 1, 1, 1, 1, 1, 1, 1, 1, 1, 1, 1, 1, 1, 1, 1, 1, 1, 1, 1, 1, 1, 1, 1, 1, 1, 1, 1, 1, 1, 1, 1, 1, 1, 1, 1, 1, 1, 1, 1, 1, 1, 1, 1, 1, 1, 1, 1, 1, 1, 1, 1, 1, 1, 1, 1, 1, 1, 1, 1, 1, 1, 1, 1, 1, 1, 1, 1, 1, 1, 1, 1, 1, 1, 1, 1, 1, 1, 1, 1, 1, 1, 1, 1, 1, 1, 1, 1, 1, 1, 1, 1, 1, 1, 1, 1, 1, 1, 1, 1, 1, 1, 1, 1, 1, 1, 1, 1, 1, 1, 1, 1, 1, 1, 1, 1, 1, 1, 1, 1, 1, 1, 1, 1, 1, 1, 1, 1, 1, 1, 1, 1, 1, 1, 1, 1, 1, 1, 1, 1, 1, 1, 1, 1, 1, 1, 1, 1, 1, 1, 1, 1, 1, 1, 1, 1, 1, 1, 1, 1, 1, 1, 1, 1, 1, 1, 1, 1, 1, 1, 1, 1, 1, 1, 1, 1, 1]]}\n"
          ]
        }
      ]
    },
    {
      "cell_type": "code",
      "source": [
        "review_encoded = dataset.map(tokenize, batched=True, batch_size=None)"
      ],
      "metadata": {
        "id": "PYlwvCd9_jD4",
        "colab": {
          "base_uri": "https://localhost:8080/",
          "height": 113,
          "referenced_widgets": [
            "cc00e8ce76aa4d83aea51907fbfaef32",
            "eb99cd1c1b164430b25bc3e3a7026eec",
            "03744ddbac804aa6bf1fedd753a54761",
            "f94aaaee34f74f8aaae68f04b9c8bc50",
            "cfb236fcfd0b40659634c0c2d967d3ec",
            "fa7a593ea46144e296356e8f8a2de1ac",
            "4946e4d115174e4fba0a820dc38c53fa",
            "2b6c286ce3c44f3fb00658f32c5d1f7c",
            "82d65be2c1ab407b9286f2dde399278f",
            "7d1b1a97fc7241ccaa62f591736f860b",
            "4a2ec1966c654d0696d71277228ede5b",
            "0df7b9cad3824d6089b4cf5e3d12d9e4",
            "b9e798be26a44bc3bc0c81464a2262d5",
            "8f1eb6ad4d144e7ba7abea2344e65a7d",
            "4cf0eab9d3b34dc1a83713b5561ec0c1",
            "b2da25fc22b84a67ae03f3974696b027",
            "7bf50428e6124fe3be7e6bc0be3dc2f7",
            "75d02645ab404f45aca212e3cf71d3a6",
            "82d15f12d652457c8714c1307f7c5f3f",
            "47d5e6188fe14298b29cfc94e56b0afb",
            "610b08b2387245f681dd1fda8cc5ef8c",
            "bd91bcf141284b1081f5a989e569de59",
            "dd34d74ceac84ec8ab8ec5f553814cf3",
            "c44ab7627f544f6fb031992bc7911a94",
            "1c6c1feeeb404c6da81604bf9ad61159",
            "b84dea675ef846a79334361cfaa2e426",
            "463ed2db9fd141029809af11bb92e4ea",
            "c2e73b4f290e4bbfb96621d7ee6ea8b6",
            "d6be7fe9311f42c3999ec7bc78109e8c",
            "c98468acd8a34328b5a1f27a97e045b9",
            "eefda8d624a34f159056137016a5caaa",
            "fe40733f89544999bd38090b80ec5e31",
            "443f94579f2f41bb836a2be9ca40f7d0"
          ]
        },
        "outputId": "8eab35c0-42fa-4daf-cbb5-7c4147c53ac2"
      },
      "execution_count": null,
      "outputs": [
        {
          "output_type": "display_data",
          "data": {
            "text/plain": [
              "Map:   0%|          | 0/8000 [00:00<?, ? examples/s]"
            ],
            "application/vnd.jupyter.widget-view+json": {
              "version_major": 2,
              "version_minor": 0,
              "model_id": "cc00e8ce76aa4d83aea51907fbfaef32"
            }
          },
          "metadata": {}
        },
        {
          "output_type": "display_data",
          "data": {
            "text/plain": [
              "Map:   0%|          | 0/1000 [00:00<?, ? examples/s]"
            ],
            "application/vnd.jupyter.widget-view+json": {
              "version_major": 2,
              "version_minor": 0,
              "model_id": "0df7b9cad3824d6089b4cf5e3d12d9e4"
            }
          },
          "metadata": {}
        },
        {
          "output_type": "display_data",
          "data": {
            "text/plain": [
              "Map:   0%|          | 0/1000 [00:00<?, ? examples/s]"
            ],
            "application/vnd.jupyter.widget-view+json": {
              "version_major": 2,
              "version_minor": 0,
              "model_id": "dd34d74ceac84ec8ab8ec5f553814cf3"
            }
          },
          "metadata": {}
        }
      ]
    },
    {
      "cell_type": "markdown",
      "source": [
        "## 5-5. ラベルのマッピング"
      ],
      "metadata": {
        "id": "BiE-9Z48Vt0Q"
      }
    },
    {
      "cell_type": "code",
      "source": [
        "# label2id, id2label\n",
        "label2id = {'Excellent' : 4, 'Good' : 3, 'Average' : 2, 'Below Average' : 1, 'Poor' : 0}\n",
        "id2label = {v:k for k,v in label2id.items()}\n",
        "\n",
        "label2id, id2label"
      ],
      "metadata": {
        "colab": {
          "base_uri": "https://localhost:8080/"
        },
        "id": "IUmpfDZFe0FX",
        "outputId": "5bb2b93f-d556-4524-cf94-6b189920e73f"
      },
      "execution_count": null,
      "outputs": [
        {
          "output_type": "execute_result",
          "data": {
            "text/plain": [
              "({'Excellent': 4, 'Good': 3, 'Average': 2, 'Below Average': 1, 'Poor': 0},\n",
              " {4: 'Excellent', 3: 'Good', 2: 'Average', 1: 'Below Average', 0: 'Poor'})"
            ]
          },
          "metadata": {},
          "execution_count": 24
        }
      ]
    },
    {
      "cell_type": "markdown",
      "source": [
        "## 5-6. モデル構築"
      ],
      "metadata": {
        "id": "j7CgtDPnV2N0"
      }
    },
    {
      "cell_type": "code",
      "source": [
        "from transformers import AutoModel\n",
        "import torch"
      ],
      "metadata": {
        "id": "78VebgAWesn3"
      },
      "execution_count": null,
      "outputs": []
    },
    {
      "cell_type": "code",
      "source": [
        "base_model"
      ],
      "metadata": {
        "colab": {
          "base_uri": "https://localhost:8080/",
          "height": 35
        },
        "id": "7vrl6JH5poGi",
        "outputId": "eee6c310-a99c-4315-fb13-5b51c0c02381"
      },
      "execution_count": null,
      "outputs": [
        {
          "output_type": "execute_result",
          "data": {
            "text/plain": [
              "'bert-base-cased'"
            ],
            "application/vnd.google.colaboratory.intrinsic+json": {
              "type": "string"
            }
          },
          "metadata": {},
          "execution_count": 26
        }
      ]
    },
    {
      "cell_type": "code",
      "source": [
        "model = AutoModel.from_pretrained(base_model)"
      ],
      "metadata": {
        "colab": {
          "base_uri": "https://localhost:8080/",
          "height": 106,
          "referenced_widgets": [
            "982fca64bf464250a4fbdd0e5cb33c81",
            "81bd728d36104cae84cdd418d4182e70",
            "ab7088c307924c978e6bb82b9de63061",
            "b61d541b108d4616ad8f1dfe5d9ac2d2",
            "1e7da68ca7ac4f1fb896d391b317ca31",
            "a363b0fd3796482dac357b20ddc299fe",
            "7327d63649844268bbfdd743cef3e140",
            "1c5c6b51f5d54980aa0f451d98498b58",
            "a442b25efb40421eaa96598caea3b54a",
            "60274b55b3254c4d9238836f2da23173",
            "fdc62c743a4749a19fb3a2a4b63dba1e"
          ]
        },
        "id": "9CI9B6s2gEdj",
        "outputId": "d1eb2ca8-f943-44c8-b921-16c4164d07eb"
      },
      "execution_count": null,
      "outputs": [
        {
          "output_type": "stream",
          "name": "stderr",
          "text": [
            "Xet Storage is enabled for this repo, but the 'hf_xet' package is not installed. Falling back to regular HTTP download. For better performance, install the package with: `pip install huggingface_hub[hf_xet]` or `pip install hf_xet`\n",
            "WARNING:huggingface_hub.file_download:Xet Storage is enabled for this repo, but the 'hf_xet' package is not installed. Falling back to regular HTTP download. For better performance, install the package with: `pip install huggingface_hub[hf_xet]` or `pip install hf_xet`\n"
          ]
        },
        {
          "output_type": "display_data",
          "data": {
            "text/plain": [
              "model.safetensors:   0%|          | 0.00/436M [00:00<?, ?B/s]"
            ],
            "application/vnd.jupyter.widget-view+json": {
              "version_major": 2,
              "version_minor": 0,
              "model_id": "982fca64bf464250a4fbdd0e5cb33c81"
            }
          },
          "metadata": {}
        }
      ]
    },
    {
      "cell_type": "code",
      "source": [
        "model"
      ],
      "metadata": {
        "colab": {
          "base_uri": "https://localhost:8080/"
        },
        "id": "RQDmb05q5Foo",
        "outputId": "dad9f301-561c-4270-e14e-de8b3f24d3b3"
      },
      "execution_count": null,
      "outputs": [
        {
          "output_type": "execute_result",
          "data": {
            "text/plain": [
              "BertModel(\n",
              "  (embeddings): BertEmbeddings(\n",
              "    (word_embeddings): Embedding(28996, 768, padding_idx=0)\n",
              "    (position_embeddings): Embedding(512, 768)\n",
              "    (token_type_embeddings): Embedding(2, 768)\n",
              "    (LayerNorm): LayerNorm((768,), eps=1e-12, elementwise_affine=True)\n",
              "    (dropout): Dropout(p=0.1, inplace=False)\n",
              "  )\n",
              "  (encoder): BertEncoder(\n",
              "    (layer): ModuleList(\n",
              "      (0-11): 12 x BertLayer(\n",
              "        (attention): BertAttention(\n",
              "          (self): BertSdpaSelfAttention(\n",
              "            (query): Linear(in_features=768, out_features=768, bias=True)\n",
              "            (key): Linear(in_features=768, out_features=768, bias=True)\n",
              "            (value): Linear(in_features=768, out_features=768, bias=True)\n",
              "            (dropout): Dropout(p=0.1, inplace=False)\n",
              "          )\n",
              "          (output): BertSelfOutput(\n",
              "            (dense): Linear(in_features=768, out_features=768, bias=True)\n",
              "            (LayerNorm): LayerNorm((768,), eps=1e-12, elementwise_affine=True)\n",
              "            (dropout): Dropout(p=0.1, inplace=False)\n",
              "          )\n",
              "        )\n",
              "        (intermediate): BertIntermediate(\n",
              "          (dense): Linear(in_features=768, out_features=3072, bias=True)\n",
              "          (intermediate_act_fn): GELUActivation()\n",
              "        )\n",
              "        (output): BertOutput(\n",
              "          (dense): Linear(in_features=3072, out_features=768, bias=True)\n",
              "          (LayerNorm): LayerNorm((768,), eps=1e-12, elementwise_affine=True)\n",
              "          (dropout): Dropout(p=0.1, inplace=False)\n",
              "        )\n",
              "      )\n",
              "    )\n",
              "  )\n",
              "  (pooler): BertPooler(\n",
              "    (dense): Linear(in_features=768, out_features=768, bias=True)\n",
              "    (activation): Tanh()\n",
              "  )\n",
              ")"
            ]
          },
          "metadata": {},
          "execution_count": 28
        }
      ]
    },
    {
      "cell_type": "code",
      "source": [
        "model.config.id2label"
      ],
      "metadata": {
        "colab": {
          "base_uri": "https://localhost:8080/"
        },
        "id": "MJxBZM-agHuS",
        "outputId": "88c3e521-6bc1-49fb-b134-0fe756ccde67"
      },
      "execution_count": null,
      "outputs": [
        {
          "output_type": "execute_result",
          "data": {
            "text/plain": [
              "{0: 'LABEL_0', 1: 'LABEL_1'}"
            ]
          },
          "metadata": {},
          "execution_count": 29
        }
      ]
    },
    {
      "cell_type": "code",
      "source": [
        "model.config"
      ],
      "metadata": {
        "colab": {
          "base_uri": "https://localhost:8080/"
        },
        "id": "TyTLxBHipz7H",
        "outputId": "a15b194b-5d8f-4e6f-a5e6-9b6283701003"
      },
      "execution_count": null,
      "outputs": [
        {
          "output_type": "execute_result",
          "data": {
            "text/plain": [
              "BertConfig {\n",
              "  \"_attn_implementation_autoset\": true,\n",
              "  \"architectures\": [\n",
              "    \"BertForMaskedLM\"\n",
              "  ],\n",
              "  \"attention_probs_dropout_prob\": 0.1,\n",
              "  \"classifier_dropout\": null,\n",
              "  \"gradient_checkpointing\": false,\n",
              "  \"hidden_act\": \"gelu\",\n",
              "  \"hidden_dropout_prob\": 0.1,\n",
              "  \"hidden_size\": 768,\n",
              "  \"initializer_range\": 0.02,\n",
              "  \"intermediate_size\": 3072,\n",
              "  \"layer_norm_eps\": 1e-12,\n",
              "  \"max_position_embeddings\": 512,\n",
              "  \"model_type\": \"bert\",\n",
              "  \"num_attention_heads\": 12,\n",
              "  \"num_hidden_layers\": 12,\n",
              "  \"pad_token_id\": 0,\n",
              "  \"position_embedding_type\": \"absolute\",\n",
              "  \"torch_dtype\": \"float32\",\n",
              "  \"transformers_version\": \"4.51.3\",\n",
              "  \"type_vocab_size\": 2,\n",
              "  \"use_cache\": true,\n",
              "  \"vocab_size\": 28996\n",
              "}"
            ]
          },
          "metadata": {},
          "execution_count": 30
        }
      ]
    },
    {
      "cell_type": "code",
      "source": [
        "!nvidia-smi"
      ],
      "metadata": {
        "colab": {
          "base_uri": "https://localhost:8080/"
        },
        "id": "kT45f3TciXgP",
        "outputId": "2925bda0-cfb2-4f64-e0f5-112861349cb1"
      },
      "execution_count": null,
      "outputs": [
        {
          "output_type": "stream",
          "name": "stdout",
          "text": [
            "/bin/bash: line 1: nvidia-smi: command not found\n"
          ]
        }
      ]
    },
    {
      "cell_type": "markdown",
      "source": [
        "## 5-7. 分類器を使ったFine Tuning"
      ],
      "metadata": {
        "id": "WVFYUngibfL1"
      }
    },
    {
      "cell_type": "code",
      "source": [
        "from transformers import AutoModelForSequenceClassification, AutoConfig\n",
        "\n",
        "num_labels = len(label2id)\n",
        "device = torch.device(\"cuda\" if torch.cuda.is_available() else \"cpu\")\n",
        "config = AutoConfig.from_pretrained(base_model, label2id=label2id, id2label=id2label)\n",
        "model = AutoModelForSequenceClassification.from_pretrained(base_model, config=config).to(device)"
      ],
      "metadata": {
        "colab": {
          "base_uri": "https://localhost:8080/"
        },
        "id": "4WpDMpkLgvRw",
        "outputId": "ed8cdd7f-80a6-4463-e818-77f4b4e4873c"
      },
      "execution_count": null,
      "outputs": [
        {
          "output_type": "stream",
          "name": "stderr",
          "text": [
            "Some weights of BertForSequenceClassification were not initialized from the model checkpoint at bert-base-cased and are newly initialized: ['classifier.bias', 'classifier.weight']\n",
            "You should probably TRAIN this model on a down-stream task to be able to use it for predictions and inference.\n"
          ]
        }
      ]
    },
    {
      "cell_type": "code",
      "source": [
        "model.config"
      ],
      "metadata": {
        "colab": {
          "base_uri": "https://localhost:8080/"
        },
        "id": "14VVZOgUiSmG",
        "outputId": "816c6e6e-5c79-4e2e-f45a-46ab004c451c"
      },
      "execution_count": null,
      "outputs": [
        {
          "output_type": "execute_result",
          "data": {
            "text/plain": [
              "BertConfig {\n",
              "  \"_attn_implementation_autoset\": true,\n",
              "  \"architectures\": [\n",
              "    \"BertForMaskedLM\"\n",
              "  ],\n",
              "  \"attention_probs_dropout_prob\": 0.1,\n",
              "  \"classifier_dropout\": null,\n",
              "  \"gradient_checkpointing\": false,\n",
              "  \"hidden_act\": \"gelu\",\n",
              "  \"hidden_dropout_prob\": 0.1,\n",
              "  \"hidden_size\": 768,\n",
              "  \"id2label\": {\n",
              "    \"0\": \"Poor\",\n",
              "    \"1\": \"Below Average\",\n",
              "    \"2\": \"Average\",\n",
              "    \"3\": \"Good\",\n",
              "    \"4\": \"Excellent\"\n",
              "  },\n",
              "  \"initializer_range\": 0.02,\n",
              "  \"intermediate_size\": 3072,\n",
              "  \"label2id\": {\n",
              "    \"Average\": 2,\n",
              "    \"Below Average\": 1,\n",
              "    \"Excellent\": 4,\n",
              "    \"Good\": 3,\n",
              "    \"Poor\": 0\n",
              "  },\n",
              "  \"layer_norm_eps\": 1e-12,\n",
              "  \"max_position_embeddings\": 512,\n",
              "  \"model_type\": \"bert\",\n",
              "  \"num_attention_heads\": 12,\n",
              "  \"num_hidden_layers\": 12,\n",
              "  \"pad_token_id\": 0,\n",
              "  \"position_embedding_type\": \"absolute\",\n",
              "  \"torch_dtype\": \"float32\",\n",
              "  \"transformers_version\": \"4.51.3\",\n",
              "  \"type_vocab_size\": 2,\n",
              "  \"use_cache\": true,\n",
              "  \"vocab_size\": 28996\n",
              "}"
            ]
          },
          "metadata": {},
          "execution_count": 34
        }
      ]
    },
    {
      "cell_type": "code",
      "source": [
        "model"
      ],
      "metadata": {
        "colab": {
          "base_uri": "https://localhost:8080/"
        },
        "id": "0JpIxb4yieyN",
        "outputId": "43225b41-9211-402e-c40c-76d70519a4cc"
      },
      "execution_count": null,
      "outputs": [
        {
          "output_type": "execute_result",
          "data": {
            "text/plain": [
              "BertForSequenceClassification(\n",
              "  (bert): BertModel(\n",
              "    (embeddings): BertEmbeddings(\n",
              "      (word_embeddings): Embedding(28996, 768, padding_idx=0)\n",
              "      (position_embeddings): Embedding(512, 768)\n",
              "      (token_type_embeddings): Embedding(2, 768)\n",
              "      (LayerNorm): LayerNorm((768,), eps=1e-12, elementwise_affine=True)\n",
              "      (dropout): Dropout(p=0.1, inplace=False)\n",
              "    )\n",
              "    (encoder): BertEncoder(\n",
              "      (layer): ModuleList(\n",
              "        (0-11): 12 x BertLayer(\n",
              "          (attention): BertAttention(\n",
              "            (self): BertSdpaSelfAttention(\n",
              "              (query): Linear(in_features=768, out_features=768, bias=True)\n",
              "              (key): Linear(in_features=768, out_features=768, bias=True)\n",
              "              (value): Linear(in_features=768, out_features=768, bias=True)\n",
              "              (dropout): Dropout(p=0.1, inplace=False)\n",
              "            )\n",
              "            (output): BertSelfOutput(\n",
              "              (dense): Linear(in_features=768, out_features=768, bias=True)\n",
              "              (LayerNorm): LayerNorm((768,), eps=1e-12, elementwise_affine=True)\n",
              "              (dropout): Dropout(p=0.1, inplace=False)\n",
              "            )\n",
              "          )\n",
              "          (intermediate): BertIntermediate(\n",
              "            (dense): Linear(in_features=768, out_features=3072, bias=True)\n",
              "            (intermediate_act_fn): GELUActivation()\n",
              "          )\n",
              "          (output): BertOutput(\n",
              "            (dense): Linear(in_features=3072, out_features=768, bias=True)\n",
              "            (LayerNorm): LayerNorm((768,), eps=1e-12, elementwise_affine=True)\n",
              "            (dropout): Dropout(p=0.1, inplace=False)\n",
              "          )\n",
              "        )\n",
              "      )\n",
              "    )\n",
              "    (pooler): BertPooler(\n",
              "      (dense): Linear(in_features=768, out_features=768, bias=True)\n",
              "      (activation): Tanh()\n",
              "    )\n",
              "  )\n",
              "  (dropout): Dropout(p=0.1, inplace=False)\n",
              "  (classifier): Linear(in_features=768, out_features=5, bias=True)\n",
              ")"
            ]
          },
          "metadata": {},
          "execution_count": 35
        }
      ]
    },
    {
      "cell_type": "code",
      "source": [
        "from transformers import TrainingArguments\n",
        "\n",
        "batch_size = 32\n",
        "training_dir = \"bert_base_train_dir\"\n",
        "gradient_accumulation_steps = 2\n",
        "\n",
        "training_args = TrainingArguments(\n",
        "    output_dir=training_dir,\n",
        "    overwrite_output_dir = True,\n",
        "    run_name = 'experiment_v1',\n",
        "    num_train_epochs = 1,\n",
        "    learning_rate = 2e-5,\n",
        "    per_device_train_batch_size = batch_size,\n",
        "    per_device_eval_batch_size = batch_size,\n",
        "    weight_decay = 0.01,\n",
        "    eval_strategy = 'no', #'epoch',\n",
        "    disable_tqdm = False,\n",
        "    report_to = 'none'\n",
        ")"
      ],
      "metadata": {
        "id": "-CSJCpKZlFZ9"
      },
      "execution_count": null,
      "outputs": []
    },
    {
      "cell_type": "code",
      "source": [
        "from sklearn.metrics import accuracy_score, f1_score\n",
        "\n",
        "def compute_metrics(pred):\n",
        "    labels = pred.label_ids\n",
        "    preds = pred.predictions.argmax(-1)\n",
        "\n",
        "    f1 = f1_score(labels, preds, average=\"weighted\")\n",
        "    acc = accuracy_score(labels, preds)\n",
        "\n",
        "    return {\"accuracy\": acc, \"f1\": f1}"
      ],
      "metadata": {
        "id": "JCxDW79QlZTt"
      },
      "execution_count": null,
      "outputs": []
    },
    {
      "cell_type": "markdown",
      "source": [
        "## 5-8. モデルの学習"
      ],
      "metadata": {
        "id": "KdaTXFExcAov"
      }
    },
    {
      "cell_type": "code",
      "source": [
        "from transformers import Trainer\n",
        "\n",
        "trainer = Trainer(\n",
        "    model=model, args=training_args,\n",
        "    compute_metrics=compute_metrics,\n",
        "    train_dataset = review_encoded['train'],\n",
        "    eval_dataset = review_encoded['validation'],\n",
        "    tokenizer = tokenizer\n",
        ")"
      ],
      "metadata": {
        "colab": {
          "base_uri": "https://localhost:8080/"
        },
        "id": "q9bzEmTSlupY",
        "outputId": "914c2d01-f982-4d37-d25c-084bc12c216e"
      },
      "execution_count": null,
      "outputs": [
        {
          "output_type": "stream",
          "name": "stderr",
          "text": [
            "<ipython-input-43-ecfbe759161c>:3: FutureWarning: `tokenizer` is deprecated and will be removed in version 5.0.0 for `Trainer.__init__`. Use `processing_class` instead.\n",
            "  trainer = Trainer(\n"
          ]
        }
      ]
    },
    {
      "cell_type": "code",
      "source": [
        "trainer.train()"
      ],
      "metadata": {
        "colab": {
          "base_uri": "https://localhost:8080/",
          "height": 112
        },
        "id": "H-UTXRUol69f",
        "outputId": "ee2765a6-bef2-493f-c7e9-d581cbb80b5b"
      },
      "execution_count": null,
      "outputs": [
        {
          "output_type": "display_data",
          "data": {
            "text/plain": [
              "<IPython.core.display.HTML object>"
            ],
            "text/html": [
              "\n",
              "    <div>\n",
              "      \n",
              "      <progress value='250' max='250' style='width:300px; height:20px; vertical-align: middle;'></progress>\n",
              "      [250/250 12:27, Epoch 1/1]\n",
              "    </div>\n",
              "    <table border=\"1\" class=\"dataframe\">\n",
              "  <thead>\n",
              " <tr style=\"text-align: left;\">\n",
              "      <th>Step</th>\n",
              "      <th>Training Loss</th>\n",
              "    </tr>\n",
              "  </thead>\n",
              "  <tbody>\n",
              "  </tbody>\n",
              "</table><p>"
            ]
          },
          "metadata": {}
        },
        {
          "output_type": "execute_result",
          "data": {
            "text/plain": [
              "TrainOutput(global_step=250, training_loss=1.2820849609375, metrics={'train_runtime': 751.4357, 'train_samples_per_second': 10.646, 'train_steps_per_second': 0.333, 'total_flos': 2104945139712000.0, 'train_loss': 1.2820849609375, 'epoch': 1.0})"
            ]
          },
          "metadata": {},
          "execution_count": 44
        }
      ]
    },
    {
      "cell_type": "markdown",
      "source": [
        "## 5-9. モデルの評価"
      ],
      "metadata": {
        "id": "Al_utvjfcS5Y"
      }
    },
    {
      "cell_type": "code",
      "source": [
        "preds_output = trainer.predict(review_encoded['test'])\n",
        "preds_output.metrics"
      ],
      "metadata": {
        "colab": {
          "base_uri": "https://localhost:8080/",
          "height": 127
        },
        "id": "g0hyVzR7oM0R",
        "outputId": "ff565b8d-9930-4142-912a-19e93c1dd362"
      },
      "execution_count": null,
      "outputs": [
        {
          "output_type": "display_data",
          "data": {
            "text/plain": [
              "<IPython.core.display.HTML object>"
            ],
            "text/html": []
          },
          "metadata": {}
        },
        {
          "output_type": "execute_result",
          "data": {
            "text/plain": [
              "{'test_loss': 1.1016895771026611,\n",
              " 'test_accuracy': 0.521,\n",
              " 'test_f1': 0.50896805898756,\n",
              " 'test_runtime': 32.4963,\n",
              " 'test_samples_per_second': 30.773,\n",
              " 'test_steps_per_second': 0.985}"
            ]
          },
          "metadata": {},
          "execution_count": 45
        }
      ]
    },
    {
      "cell_type": "code",
      "source": [
        "import numpy as np\n",
        "y_pred = np.argmax(preds_output.predictions, axis=1)\n",
        "y_true = review_encoded['test'][:]['label']"
      ],
      "metadata": {
        "id": "9p7dqQCmqm96"
      },
      "execution_count": null,
      "outputs": []
    },
    {
      "cell_type": "code",
      "source": [
        "from sklearn.metrics import classification_report\n",
        "print(classification_report(y_true, y_pred))"
      ],
      "metadata": {
        "colab": {
          "base_uri": "https://localhost:8080/"
        },
        "id": "WCONAmCKxaBJ",
        "outputId": "76051322-98e3-452e-ea59-12055a15761c"
      },
      "execution_count": null,
      "outputs": [
        {
          "output_type": "stream",
          "name": "stdout",
          "text": [
            "              precision    recall  f1-score   support\n",
            "\n",
            "           0       0.58      0.68      0.62       200\n",
            "           1       0.46      0.51      0.49       200\n",
            "           2       0.46      0.35      0.40       200\n",
            "           3       0.46      0.33      0.38       200\n",
            "           4       0.59      0.74      0.66       200\n",
            "\n",
            "    accuracy                           0.52      1000\n",
            "   macro avg       0.51      0.52      0.51      1000\n",
            "weighted avg       0.51      0.52      0.51      1000\n",
            "\n"
          ]
        }
      ]
    },
    {
      "cell_type": "code",
      "source": [
        "label2id"
      ],
      "metadata": {
        "colab": {
          "base_uri": "https://localhost:8080/"
        },
        "id": "R-yF55LKxlE5",
        "outputId": "ae3114ba-ca64-404e-85bf-3bc6d957811d"
      },
      "execution_count": null,
      "outputs": [
        {
          "output_type": "execute_result",
          "data": {
            "text/plain": [
              "{'Excellent': 4, 'Good': 3, 'Average': 2, 'Below Average': 1, 'Poor': 0}"
            ]
          },
          "metadata": {},
          "execution_count": 48
        }
      ]
    },
    {
      "cell_type": "code",
      "source": [
        "# plot confusion matrix\n",
        "import seaborn as sns\n",
        "from sklearn.metrics import confusion_matrix\n",
        "import matplotlib.pyplot as plt"
      ],
      "metadata": {
        "id": "p_JiGi5Lxw88"
      },
      "execution_count": null,
      "outputs": []
    },
    {
      "cell_type": "code",
      "source": [
        "cm = confusion_matrix(y_true, y_pred)\n",
        "\n",
        "plt.figure(figsize=(5,5))\n",
        "sns.heatmap(cm, annot=True, xticklabels=label2id.keys(), yticklabels=label2id.keys(), fmt='d', cbar=False, cmap='Reds')\n",
        "plt.ylabel(\"Actual\")\n",
        "plt.xlabel(\"Predicted\")\n",
        "plt.show()"
      ],
      "metadata": {
        "colab": {
          "base_uri": "https://localhost:8080/",
          "height": 554
        },
        "id": "FbzAghnTx1Bd",
        "outputId": "333cbcf9-3557-4165-eafb-da6f83d33527"
      },
      "execution_count": null,
      "outputs": [
        {
          "output_type": "display_data",
          "data": {
            "text/plain": [
              "<Figure size 500x500 with 1 Axes>"
            ],
            "image/png": "[encoded data removed]"
          },
          "metadata": {}
        }
      ]
    },
    {
      "cell_type": "markdown",
      "source": [
        "## 5-10. モデルの保存"
      ],
      "metadata": {
        "id": "DreQ8exwcXgi"
      }
    },
    {
      "cell_type": "code",
      "source": [
        "trainer.save_model(\"bert-base-uncased-amazon-review-model\")"
      ],
      "metadata": {
        "id": "8zAuJ68yyWHb"
      },
      "execution_count": null,
      "outputs": []
    },
    {
      "cell_type": "markdown",
      "source": [
        "## 5-11. モデルの推論試行"
      ],
      "metadata": {
        "id": "yjRJeYqbcbIK"
      }
    },
    {
      "cell_type": "code",
      "source": [
        "# use pipeline for prediciton\n",
        "from transformers import pipeline\n",
        "\n",
        "classifier = pipeline('text-classification', model= 'bert-base-uncased-amazon-review-model')\n",
        "\n",
        "classifier(\"I like this toy. I recommned this to my friends!\")\n",
        "\n"
      ],
      "metadata": {
        "colab": {
          "base_uri": "https://localhost:8080/"
        },
        "id": "V7B92PyhyfA_",
        "outputId": "137b09ed-61a4-404a-d5b8-5fb6aa68e4a9"
      },
      "execution_count": null,
      "outputs": [
        {
          "output_type": "stream",
          "name": "stderr",
          "text": [
            "Device set to use cuda:0\n"
          ]
        },
        {
          "output_type": "execute_result",
          "data": {
            "text/plain": [
              "[{'label': 'Excellent', 'score': 0.7498204708099365}]"
            ]
          },
          "metadata": {},
          "execution_count": 52
        }
      ]
    },
    {
      "cell_type": "code",
      "source": [
        "classifier(\"Disapointed\")"
      ],
      "metadata": {
        "colab": {
          "base_uri": "https://localhost:8080/"
        },
        "id": "4XOV-zKRy3kd",
        "outputId": "7334d692-4ea9-4b1e-b49c-b3622c52635e"
      },
      "execution_count": null,
      "outputs": [
        {
          "output_type": "execute_result",
          "data": {
            "text/plain": [
              "[{'label': 'Poor', 'score': 0.492951899766922}]"
            ]
          },
          "metadata": {},
          "execution_count": 53
        }
      ]
    },
    {
      "cell_type": "code",
      "source": [],
      "metadata": {
        "id": "cK8NuhVvzxYd"
      },
      "execution_count": null,
      "outputs": []
    }
  ]
}