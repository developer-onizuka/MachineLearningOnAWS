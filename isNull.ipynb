{
 "cells": [
  {
   "cell_type": "code",
   "execution_count": 15,
   "id": "f255ff69-1375-4f96-bf89-ad452101887d",
   "metadata": {},
   "outputs": [],
   "source": [
    "from pyspark.sql.types import *\n",
    "from pyspark.sql.functions import *\n",
    "from pyspark.context import SparkContext\n",
    "from pyspark.sql.session import SparkSession\n",
    "sc = SparkContext.getOrCreate()\n",
    "spark = SparkSession(sc)"
   ]
  },
  {
   "cell_type": "code",
   "execution_count": 16,
   "id": "f37bda05-0338-4c6c-a584-cd1d7cffc84a",
   "metadata": {},
   "outputs": [],
   "source": [
    "df = spark.createDataFrame([('name1','id1',1,None,3),('name2','id2',None,2,5)],['NAME','personID','col1','col2','col3'])"
   ]
  },
  {
   "cell_type": "code",
   "execution_count": 17,
   "id": "ff23a960-8926-4bdb-91a6-ec8a6f0497d8",
   "metadata": {},
   "outputs": [
    {
     "name": "stdout",
     "output_type": "stream",
     "text": [
      "+-----+--------+----+----+----+\n",
      "| NAME|personID|col1|col2|col3|\n",
      "+-----+--------+----+----+----+\n",
      "|name1|     id1|   1|NULL|   3|\n",
      "|name2|     id2|NULL|   2|   5|\n",
      "+-----+--------+----+----+----+\n",
      "\n"
     ]
    }
   ],
   "source": [
    "df.show()"
   ]
  },
  {
   "cell_type": "code",
   "execution_count": 4,
   "id": "f15e5cf9-06ac-49ed-a7a8-70ca7447ab5f",
   "metadata": {},
   "outputs": [
    {
     "name": "stdout",
     "output_type": "stream",
     "text": [
      "+------+----------+------+------+------+\n",
      "|NAME_N|personID_N|col1_N|col2_N|col3_N|\n",
      "+------+----------+------+------+------+\n",
      "|     1|         1|     1|     0|     1|\n",
      "|     1|         1|     0|     1|     1|\n",
      "+------+----------+------+------+------+\n",
      "\n"
     ]
    }
   ],
   "source": [
    "df.select([when(col(c).isNotNull(), 1).otherwise(0).alias(c + '_N') for c in df.columns]).show()"
   ]
  },
  {
   "cell_type": "code",
   "execution_count": 9,
   "id": "2715185c-4d25-420f-ad74-e85acd00e9f4",
   "metadata": {},
   "outputs": [
    {
     "name": "stdout",
     "output_type": "stream",
     "text": [
      "+----+--------+----+----+----+\n",
      "|NAME|personID|col1|col2|col3|\n",
      "+----+--------+----+----+----+\n",
      "|NAME|personID|col1|NULL|col3|\n",
      "|NAME|personID|NULL|col2|col3|\n",
      "+----+--------+----+----+----+\n",
      "\n"
     ]
    }
   ],
   "source": [
    "from pyspark.sql.functions import *\n",
    "df.select([when(col(c).isNull() ,'NULL').otherwise(c).alias(c) for c in df.columns]).show()"
   ]
  },
  {
   "cell_type": "code",
   "execution_count": 18,
   "id": "c6bf19ae-49bd-4bc7-b4d3-a4d411154219",
   "metadata": {},
   "outputs": [
    {
     "name": "stdout",
     "output_type": "stream",
     "text": [
      "+----+--------+----+----+----+\n",
      "|NAME|personID|col1|col2|col3|\n",
      "+----+--------+----+----+----+\n",
      "|   0|       0|   1|   1|   0|\n",
      "+----+--------+----+----+----+\n",
      "\n"
     ]
    }
   ],
   "source": [
    "df.select([count(when(col(c).isNull() ,c)).alias(c) for c in df.columns]).show()"
   ]
  }
 ],
 "metadata": {
  "kernelspec": {
   "display_name": "Python 3 (ipykernel)",
   "language": "python",
   "name": "python3"
  },
  "language_info": {
   "codemirror_mode": {
    "name": "ipython",
    "version": 3
   },
   "file_extension": ".py",
   "mimetype": "text/x-python",
   "name": "python",
   "nbconvert_exporter": "python",
   "pygments_lexer": "ipython3",
   "version": "3.11.6"
  }
 },
 "nbformat": 4,
 "nbformat_minor": 5
}
