{
 "cells": [
  {
   "cell_type": "code",
   "execution_count": 1,
   "id": "090cb7bb",
   "metadata": {
    "scrolled": true
   },
   "outputs": [
    {
     "name": "stdout",
     "output_type": "stream",
     "text": [
      "Requirement already satisfied: transformers in /usr/local/lib/python3.10/dist-packages (4.36.2)\n",
      "Requirement already satisfied: filelock in /usr/local/lib/python3.10/dist-packages (from transformers) (3.13.1)\n",
      "Requirement already satisfied: huggingface-hub<1.0,>=0.19.3 in /usr/local/lib/python3.10/dist-packages (from transformers) (0.20.2)\n",
      "Requirement already satisfied: numpy>=1.17 in /usr/local/lib/python3.10/dist-packages (from transformers) (1.24.4)\n",
      "Requirement already satisfied: packaging>=20.0 in /usr/local/lib/python3.10/dist-packages (from transformers) (23.2)\n",
      "Requirement already satisfied: pyyaml>=5.1 in /usr/local/lib/python3.10/dist-packages (from transformers) (6.0.1)\n",
      "Requirement already satisfied: regex!=2019.12.17 in /usr/local/lib/python3.10/dist-packages (from transformers) (2023.12.25)\n",
      "Requirement already satisfied: requests in /usr/local/lib/python3.10/dist-packages (from transformers) (2.31.0)\n",
      "Requirement already satisfied: tokenizers<0.19,>=0.14 in /usr/local/lib/python3.10/dist-packages (from transformers) (0.15.0)\n",
      "Requirement already satisfied: safetensors>=0.3.1 in /usr/local/lib/python3.10/dist-packages (from transformers) (0.4.1)\n",
      "Requirement already satisfied: tqdm>=4.27 in /usr/local/lib/python3.10/dist-packages (from transformers) (4.66.1)\n",
      "Requirement already satisfied: fsspec>=2023.5.0 in /usr/local/lib/python3.10/dist-packages (from huggingface-hub<1.0,>=0.19.3->transformers) (2023.12.0)\n",
      "Requirement already satisfied: typing-extensions>=3.7.4.3 in /usr/local/lib/python3.10/dist-packages (from huggingface-hub<1.0,>=0.19.3->transformers) (4.8.0)\n",
      "Requirement already satisfied: charset-normalizer<4,>=2 in /usr/local/lib/python3.10/dist-packages (from requests->transformers) (3.3.2)\n",
      "Requirement already satisfied: idna<4,>=2.5 in /usr/local/lib/python3.10/dist-packages (from requests->transformers) (3.6)\n",
      "Requirement already satisfied: urllib3<3,>=1.21.1 in /usr/local/lib/python3.10/dist-packages (from requests->transformers) (1.26.18)\n",
      "Requirement already satisfied: certifi>=2017.4.17 in /usr/local/lib/python3.10/dist-packages (from requests->transformers) (2023.11.17)\n",
      "\u001b[33mWARNING: Running pip as the 'root' user can result in broken permissions and conflicting behaviour with the system package manager. It is recommended to use a virtual environment instead: https://pip.pypa.io/warnings/venv\u001b[0m\u001b[33m\n",
      "\u001b[0m"
     ]
    }
   ],
   "source": [
    "!pip install transformers"
   ]
  },
  {
   "cell_type": "code",
   "execution_count": 2,
   "id": "58c0c8fc",
   "metadata": {
    "scrolled": true
   },
   "outputs": [
    {
     "name": "stdout",
     "output_type": "stream",
     "text": [
      "Found existing installation: matplotlib 3.7.3\n",
      "Uninstalling matplotlib-3.7.3:\n",
      "  Successfully uninstalled matplotlib-3.7.3\n",
      "\u001b[33mWARNING: Running pip as the 'root' user can result in broken permissions and conflicting behaviour with the system package manager. It is recommended to use a virtual environment instead: https://pip.pypa.io/warnings/venv\u001b[0m\u001b[33m\n",
      "\u001b[0mCollecting matplotlib==3.7.3\n",
      "  Using cached matplotlib-3.7.3-cp310-cp310-manylinux_2_17_x86_64.manylinux2014_x86_64.whl.metadata (5.7 kB)\n",
      "Requirement already satisfied: contourpy>=1.0.1 in /usr/local/lib/python3.10/dist-packages (from matplotlib==3.7.3) (1.2.0)\n",
      "Requirement already satisfied: cycler>=0.10 in /usr/local/lib/python3.10/dist-packages (from matplotlib==3.7.3) (0.12.1)\n",
      "Requirement already satisfied: fonttools>=4.22.0 in /usr/local/lib/python3.10/dist-packages (from matplotlib==3.7.3) (4.47.2)\n",
      "Requirement already satisfied: kiwisolver>=1.0.1 in /usr/local/lib/python3.10/dist-packages (from matplotlib==3.7.3) (1.4.5)\n",
      "Requirement already satisfied: numpy<2,>=1.20 in /usr/local/lib/python3.10/dist-packages (from matplotlib==3.7.3) (1.24.4)\n",
      "Requirement already satisfied: packaging>=20.0 in /usr/local/lib/python3.10/dist-packages (from matplotlib==3.7.3) (23.2)\n",
      "Requirement already satisfied: pillow>=6.2.0 in /usr/local/lib/python3.10/dist-packages (from matplotlib==3.7.3) (10.1.0)\n",
      "Requirement already satisfied: pyparsing>=2.3.1 in /usr/local/lib/python3.10/dist-packages (from matplotlib==3.7.3) (3.1.1)\n",
      "Requirement already satisfied: python-dateutil>=2.7 in /usr/local/lib/python3.10/dist-packages (from matplotlib==3.7.3) (2.8.2)\n",
      "Requirement already satisfied: six>=1.5 in /usr/local/lib/python3.10/dist-packages (from python-dateutil>=2.7->matplotlib==3.7.3) (1.16.0)\n",
      "Using cached matplotlib-3.7.3-cp310-cp310-manylinux_2_17_x86_64.manylinux2014_x86_64.whl (11.6 MB)\n",
      "Installing collected packages: matplotlib\n",
      "Successfully installed matplotlib-3.7.3\n",
      "\u001b[33mWARNING: Running pip as the 'root' user can result in broken permissions and conflicting behaviour with the system package manager. It is recommended to use a virtual environment instead: https://pip.pypa.io/warnings/venv\u001b[0m\u001b[33m\n",
      "\u001b[0m"
     ]
    }
   ],
   "source": [
    "!pip uninstall -y matplotlib\n",
    "!pip install matplotlib==3.7.3"
   ]
  },
  {
   "cell_type": "code",
   "execution_count": 3,
   "id": "82e6f70d",
   "metadata": {},
   "outputs": [
    {
     "name": "stderr",
     "output_type": "stream",
     "text": [
      "2024-01-15 23:26:03.433382: E tensorflow/compiler/xla/stream_executor/cuda/cuda_dnn.cc:9360] Unable to register cuDNN factory: Attempting to register factory for plugin cuDNN when one has already been registered\n",
      "2024-01-15 23:26:03.433445: E tensorflow/compiler/xla/stream_executor/cuda/cuda_fft.cc:609] Unable to register cuFFT factory: Attempting to register factory for plugin cuFFT when one has already been registered\n",
      "2024-01-15 23:26:03.433475: E tensorflow/compiler/xla/stream_executor/cuda/cuda_blas.cc:1537] Unable to register cuBLAS factory: Attempting to register factory for plugin cuBLAS when one has already been registered\n",
      "2024-01-15 23:26:03.441403: I tensorflow/core/platform/cpu_feature_guard.cc:183] This TensorFlow binary is optimized to use available CPU instructions in performance-critical operations.\n",
      "To enable the following instructions: SSE3 SSE4.1 SSE4.2 AVX, in other operations, rebuild TensorFlow with the appropriate compiler flags.\n"
     ]
    }
   ],
   "source": [
    "import time\n",
    "import random\n",
    "import pandas as pd\n",
    "from glob import glob\n",
    "import argparse\n",
    "import json\n",
    "import subprocess\n",
    "import sys\n",
    "import os\n",
    "import tensorflow as tf\n",
    "from transformers import DistilBertTokenizer\n",
    "from transformers import TFDistilBertForSequenceClassification\n",
    "from transformers import DistilBertConfig"
   ]
  },
  {
   "cell_type": "code",
   "execution_count": null,
   "id": "775776f4",
   "metadata": {},
   "outputs": [],
   "source": [
    "# Define the connection between Input data and Label"
   ]
  },
  {
   "cell_type": "code",
   "execution_count": 4,
   "id": "a61eed2f",
   "metadata": {},
   "outputs": [],
   "source": [
    "def select_data_and_label_from_record(record):\n",
    "    x = {\n",
    "        \"input_ids\": record[\"input_ids\"],\n",
    "        \"input_mask\": record[\"input_mask\"],\n",
    "    }\n",
    "    y = record[\"label_ids\"]\n",
    "\n",
    "    return (x, y)"
   ]
  },
  {
   "cell_type": "code",
   "execution_count": 5,
   "id": "6545c673",
   "metadata": {},
   "outputs": [],
   "source": [
    "def file_based_input_dataset_builder(channel, input_filenames, max_seq_length, is_training, drop_remainder):\n",
    "    # トレーニング時には並列読み出しとシャッフルを行う。\n",
    "    # 評価時にはシャッフルは行わず、並列読み出しは効果がない。\n",
    "\n",
    "    dataset = tf.data.TFRecordDataset(input_filenames)\n",
    "    dataset = dataset.repeat(100)\n",
    "    dataset = dataset.prefetch(tf.data.experimental.AUTOTUNE)\n",
    "\n",
    "    name_to_features = {\n",
    "        \"input_ids\": tf.io.FixedLenFeature([max_seq_length], tf.int64),\n",
    "        \"input_mask\": tf.io.FixedLenFeature([max_seq_length], tf.int64),\n",
    "        \"label_ids\": tf.io.FixedLenFeature([], tf.int64),\n",
    "    }\n",
    "\n",
    "    def _decode_record(record, name_to_features):\n",
    "        \"\"\"Decodes a record to a TensorFlow example.\"\"\"\n",
    "        return tf.io.parse_single_example(record, name_to_features)\n",
    "\n",
    "    dataset = dataset.apply(\n",
    "        tf.data.experimental.map_and_batch(\n",
    "            lambda record: _decode_record(record, name_to_features),\n",
    "            batch_size=8,\n",
    "            drop_remainder=drop_remainder,\n",
    "            num_parallel_calls=tf.data.experimental.AUTOTUNE,\n",
    "        )\n",
    "    )\n",
    "\n",
    "    dataset.cache()\n",
    "\n",
    "    if is_training:\n",
    "        dataset = dataset.shuffle(seed=42, buffer_size=10, reshuffle_each_iteration=True)\n",
    "\n",
    "    return dataset"
   ]
  },
  {
   "cell_type": "code",
   "execution_count": 6,
   "id": "97b081fc",
   "metadata": {
    "scrolled": true
   },
   "outputs": [
    {
     "name": "stdout",
     "output_type": "stream",
     "text": [
      "train_data_filenames /mnt/train_data_small.tfrecord\n",
      "WARNING:tensorflow:From /tmp/ipykernel_13341/1897154758.py:20: map_and_batch (from tensorflow.python.data.experimental.ops.batching) is deprecated and will be removed in a future version.\n",
      "Instructions for updating:\n",
      "Use `tf.data.Dataset.map(map_func, num_parallel_calls)` followed by `tf.data.Dataset.batch(batch_size, drop_remainder)`. Static tf.data optimizations will take care of using the fused implementation.\n"
     ]
    },
    {
     "name": "stderr",
     "output_type": "stream",
     "text": [
      "2024-01-15 23:26:16.031628: I tensorflow/compiler/xla/stream_executor/cuda/cuda_gpu_executor.cc:880] could not open file to read NUMA node: /sys/bus/pci/devices/0000:01:00.0/numa_node\n",
      "Your kernel may have been built without NUMA support.\n",
      "2024-01-15 23:26:16.038683: I tensorflow/compiler/xla/stream_executor/cuda/cuda_gpu_executor.cc:880] could not open file to read NUMA node: /sys/bus/pci/devices/0000:01:00.0/numa_node\n",
      "Your kernel may have been built without NUMA support.\n",
      "2024-01-15 23:26:16.038730: I tensorflow/compiler/xla/stream_executor/cuda/cuda_gpu_executor.cc:880] could not open file to read NUMA node: /sys/bus/pci/devices/0000:01:00.0/numa_node\n",
      "Your kernel may have been built without NUMA support.\n",
      "2024-01-15 23:26:16.041495: I tensorflow/compiler/xla/stream_executor/cuda/cuda_gpu_executor.cc:880] could not open file to read NUMA node: /sys/bus/pci/devices/0000:01:00.0/numa_node\n",
      "Your kernel may have been built without NUMA support.\n",
      "2024-01-15 23:26:16.041597: I tensorflow/compiler/xla/stream_executor/cuda/cuda_gpu_executor.cc:880] could not open file to read NUMA node: /sys/bus/pci/devices/0000:01:00.0/numa_node\n",
      "Your kernel may have been built without NUMA support.\n",
      "2024-01-15 23:26:16.041632: I tensorflow/compiler/xla/stream_executor/cuda/cuda_gpu_executor.cc:880] could not open file to read NUMA node: /sys/bus/pci/devices/0000:01:00.0/numa_node\n",
      "Your kernel may have been built without NUMA support.\n",
      "2024-01-15 23:26:16.157994: I tensorflow/compiler/xla/stream_executor/cuda/cuda_gpu_executor.cc:880] could not open file to read NUMA node: /sys/bus/pci/devices/0000:01:00.0/numa_node\n",
      "Your kernel may have been built without NUMA support.\n",
      "2024-01-15 23:26:16.158151: I tensorflow/compiler/xla/stream_executor/cuda/cuda_gpu_executor.cc:880] could not open file to read NUMA node: /sys/bus/pci/devices/0000:01:00.0/numa_node\n",
      "Your kernel may have been built without NUMA support.\n",
      "2024-01-15 23:26:16.158162: I tensorflow/core/common_runtime/gpu/gpu_device.cc:1974] Could not identify NUMA node of platform GPU id 0, defaulting to 0.  Your kernel may not have been built with NUMA support.\n",
      "2024-01-15 23:26:16.158212: I tensorflow/compiler/xla/stream_executor/cuda/cuda_gpu_executor.cc:880] could not open file to read NUMA node: /sys/bus/pci/devices/0000:01:00.0/numa_node\n",
      "Your kernel may have been built without NUMA support.\n",
      "2024-01-15 23:26:16.158232: I tensorflow/core/common_runtime/gpu/gpu_device.cc:1883] Created device /job:localhost/replica:0/task:0/device:GPU:0 with 2660 MB memory:  -> device: 0, name: Quadro P1000, pci bus id: 0000:01:00.0, compute capability: 6.1\n"
     ]
    }
   ],
   "source": [
    "# train_data = \"./data-tfrecord/bert-train\"\n",
    "train_data_filenames = \"/mnt/train_data_small.tfrecord\"\n",
    "print(\"train_data_filenames {}\".format(train_data_filenames))\n",
    "\n",
    "train_dataset = file_based_input_dataset_builder(\n",
    "    channel=\"train\", \n",
    "    input_filenames=train_data_filenames, \n",
    "    max_seq_length=64, \n",
    "    is_training=True, \n",
    "    drop_remainder=False\n",
    ").map(select_data_and_label_from_record)"
   ]
  },
  {
   "cell_type": "code",
   "execution_count": 7,
   "id": "782302e1",
   "metadata": {},
   "outputs": [
    {
     "name": "stdout",
     "output_type": "stream",
     "text": [
      "<_MapDataset element_spec=({'input_ids': TensorSpec(shape=(None, 64), dtype=tf.int64, name=None), 'input_mask': TensorSpec(shape=(None, 64), dtype=tf.int64, name=None)}, TensorSpec(shape=(None,), dtype=tf.int64, name=None))>\n"
     ]
    }
   ],
   "source": [
    "print(train_dataset)"
   ]
  },
  {
   "cell_type": "code",
   "execution_count": 8,
   "id": "6da07a0c",
   "metadata": {},
   "outputs": [
    {
     "name": "stdout",
     "output_type": "stream",
     "text": [
      "validation_data_filenames /mnt/validation_data_small.tfrecord\n"
     ]
    }
   ],
   "source": [
    "# validation_data = \"./data-tfrecord/bert-validation\"\n",
    "validation_data_filenames = \"/mnt/validation_data_small.tfrecord\"\n",
    "print(\"validation_data_filenames {}\".format(validation_data_filenames))\n",
    "\n",
    "validation_dataset = file_based_input_dataset_builder(\n",
    "    channel=\"validation\",\n",
    "    input_filenames=validation_data_filenames,\n",
    "    max_seq_length=64,\n",
    "    is_training=False,\n",
    "    drop_remainder=False,\n",
    ").map(select_data_and_label_from_record)"
   ]
  },
  {
   "cell_type": "code",
   "execution_count": 9,
   "id": "9e2bb084",
   "metadata": {},
   "outputs": [],
   "source": [
    "epochs = 1\n",
    "steps_per_epoch = 1\n",
    "validation_steps = 1\n",
    "test_steps = 1\n",
    "freeze_bert_layer = True\n",
    "learning_rate = 3e-5\n",
    "epsilon = 1e-08\n",
    "max_seq_length = 64"
   ]
  },
  {
   "cell_type": "code",
   "execution_count": 10,
   "id": "d885da1a",
   "metadata": {
    "scrolled": true
   },
   "outputs": [
    {
     "name": "stdout",
     "output_type": "stream",
     "text": [
      "DistilBertConfig {\n",
      "  \"activation\": \"gelu\",\n",
      "  \"architectures\": [\n",
      "    \"DistilBertForMaskedLM\"\n",
      "  ],\n",
      "  \"attention_dropout\": 0.1,\n",
      "  \"dim\": 768,\n",
      "  \"dropout\": 0.1,\n",
      "  \"hidden_dim\": 3072,\n",
      "  \"id2label\": {\n",
      "    \"0\": 1,\n",
      "    \"1\": 2,\n",
      "    \"2\": 3,\n",
      "    \"3\": 4,\n",
      "    \"4\": 5\n",
      "  },\n",
      "  \"initializer_range\": 0.02,\n",
      "  \"label2id\": {\n",
      "    \"1\": 0,\n",
      "    \"2\": 1,\n",
      "    \"3\": 2,\n",
      "    \"4\": 3,\n",
      "    \"5\": 4\n",
      "  },\n",
      "  \"max_position_embeddings\": 512,\n",
      "  \"model_type\": \"distilbert\",\n",
      "  \"n_heads\": 12,\n",
      "  \"n_layers\": 6,\n",
      "  \"pad_token_id\": 0,\n",
      "  \"qa_dropout\": 0.1,\n",
      "  \"seq_classif_dropout\": 0.2,\n",
      "  \"sinusoidal_pos_embds\": false,\n",
      "  \"tie_weights_\": true,\n",
      "  \"transformers_version\": \"4.36.2\",\n",
      "  \"vocab_size\": 30522\n",
      "}\n",
      "\n"
     ]
    }
   ],
   "source": [
    "CLASSES = [1, 2, 3, 4, 5]\n",
    "\n",
    "config = DistilBertConfig.from_pretrained(\n",
    "    \"distilbert-base-uncased\",\n",
    "    num_labels=len(CLASSES),\n",
    "    id2label={0: 1, 1: 2, 2: 3, 3: 4, 4: 5},\n",
    "    label2id={1: 0, 2: 1, 3: 2, 4: 3, 5: 4},\n",
    ")\n",
    "print(config)"
   ]
  },
  {
   "cell_type": "code",
   "execution_count": null,
   "id": "b7810d2b",
   "metadata": {},
   "outputs": [],
   "source": [
    "# Adding the layer for fine tuning on BERT"
   ]
  },
  {
   "cell_type": "code",
   "execution_count": 11,
   "id": "eadc4cc8",
   "metadata": {
    "scrolled": true
   },
   "outputs": [
    {
     "name": "stderr",
     "output_type": "stream",
     "text": [
      "Some weights of the PyTorch model were not used when initializing the TF 2.0 model TFDistilBertForSequenceClassification: ['vocab_layer_norm.weight', 'vocab_projector.bias', 'vocab_layer_norm.bias', 'vocab_transform.weight', 'vocab_transform.bias']\n",
      "- This IS expected if you are initializing TFDistilBertForSequenceClassification from a PyTorch model trained on another task or with another architecture (e.g. initializing a TFBertForSequenceClassification model from a BertForPreTraining model).\n",
      "- This IS NOT expected if you are initializing TFDistilBertForSequenceClassification from a PyTorch model that you expect to be exactly identical (e.g. initializing a TFBertForSequenceClassification model from a BertForSequenceClassification model).\n",
      "Some weights or buffers of the TF 2.0 model TFDistilBertForSequenceClassification were not initialized from the PyTorch model and are newly initialized: ['pre_classifier.weight', 'pre_classifier.bias', 'classifier.weight', 'classifier.bias']\n",
      "You should probably TRAIN this model on a down-stream task to be able to use it for predictions and inference.\n"
     ]
    },
    {
     "name": "stdout",
     "output_type": "stream",
     "text": [
      "WARNING:tensorflow:Layer lstm will not use cuDNN kernels since it doesn't meet the criteria. It will use a generic GPU kernel as fallback when running on GPU.\n",
      "WARNING:tensorflow:Layer lstm will not use cuDNN kernels since it doesn't meet the criteria. It will use a generic GPU kernel as fallback when running on GPU.\n",
      "WARNING:tensorflow:Layer lstm will not use cuDNN kernels since it doesn't meet the criteria. It will use a generic GPU kernel as fallback when running on GPU.\n"
     ]
    }
   ],
   "source": [
    "transformer_model = TFDistilBertForSequenceClassification.from_pretrained(\"distilbert-base-uncased\", config=config)\n",
    "\n",
    "input_ids = tf.keras.layers.Input(shape=(max_seq_length,), name=\"input_ids\", dtype=\"int32\")\n",
    "input_mask = tf.keras.layers.Input(shape=(max_seq_length,), name=\"input_mask\", dtype=\"int32\")\n",
    "\n",
    "embedding_layer = transformer_model.distilbert(input_ids, attention_mask=input_mask)[0]\n",
    "X = tf.keras.layers.Bidirectional(tf.keras.layers.LSTM(50, return_sequences=True, dropout=0.1, recurrent_dropout=0.1))(\n",
    "    embedding_layer\n",
    ")\n",
    "X = tf.keras.layers.GlobalMaxPool1D()(X)\n",
    "X = tf.keras.layers.Dense(50, activation=\"relu\")(X)\n",
    "X = tf.keras.layers.Dropout(0.2)(X)\n",
    "X = tf.keras.layers.Dense(len(CLASSES), activation=\"softmax\")(X)\n",
    "\n",
    "model = tf.keras.Model(inputs=[input_ids, input_mask], outputs=X)\n",
    "\n",
    "for layer in model.layers[:3]:\n",
    "    layer.trainable = not freeze_bert_layer"
   ]
  },
  {
   "cell_type": "code",
   "execution_count": null,
   "id": "b457525b",
   "metadata": {},
   "outputs": [],
   "source": [
    "# Set up the custom classifier model"
   ]
  },
  {
   "cell_type": "code",
   "execution_count": 12,
   "id": "1ac81c89",
   "metadata": {
    "scrolled": true
   },
   "outputs": [
    {
     "name": "stdout",
     "output_type": "stream",
     "text": [
      "Model: \"model\"\n",
      "__________________________________________________________________________________________________\n",
      " Layer (type)                Output Shape                 Param #   Connected to                  \n",
      "==================================================================================================\n",
      " input_ids (InputLayer)      [(None, 64)]                 0         []                            \n",
      "                                                                                                  \n",
      " input_mask (InputLayer)     [(None, 64)]                 0         []                            \n",
      "                                                                                                  \n",
      " distilbert (TFDistilBertMa  TFBaseModelOutput(last_hid   6636288   ['input_ids[0][0]',           \n",
      " inLayer)                    den_state=(None, 64, 768),   0          'input_mask[0][0]']          \n",
      "                              hidden_states=None, atten                                           \n",
      "                             tions=None)                                                          \n",
      "                                                                                                  \n",
      " bidirectional (Bidirection  (None, 64, 100)              327600    ['distilbert[0][0]']          \n",
      " al)                                                                                              \n",
      "                                                                                                  \n",
      " global_max_pooling1d (Glob  (None, 100)                  0         ['bidirectional[0][0]']       \n",
      " alMaxPooling1D)                                                                                  \n",
      "                                                                                                  \n",
      " dense (Dense)               (None, 50)                   5050      ['global_max_pooling1d[0][0]']\n",
      "                                                                                                  \n",
      " dropout_20 (Dropout)        (None, 50)                   0         ['dense[0][0]']               \n",
      "                                                                                                  \n",
      " dense_1 (Dense)             (None, 5)                    255       ['dropout_20[0][0]']          \n",
      "                                                                                                  \n",
      "==================================================================================================\n",
      "Total params: 66695785 (254.42 MB)\n",
      "Trainable params: 332905 (1.27 MB)\n",
      "Non-trainable params: 66362880 (253.15 MB)\n",
      "__________________________________________________________________________________________________\n"
     ]
    }
   ],
   "source": [
    "loss = tf.keras.losses.SparseCategoricalCrossentropy(from_logits=True)\n",
    "\n",
    "metric = tf.keras.metrics.SparseCategoricalAccuracy(\"accuracy\")\n",
    "\n",
    "optimizer = tf.keras.optimizers.Adam(learning_rate=learning_rate, epsilon=epsilon)\n",
    "\n",
    "model.compile(optimizer=optimizer, loss=loss, metrics=[metric])\n",
    "\n",
    "model.summary()"
   ]
  },
  {
   "cell_type": "code",
   "execution_count": 13,
   "id": "625622d7",
   "metadata": {},
   "outputs": [
    {
     "data": {
      "image/png": "[encoded data removed]",
      "text/plain": [
       "<IPython.core.display.Image object>"
      ]
     },
     "execution_count": 13,
     "metadata": {},
     "output_type": "execute_result"
    }
   ],
   "source": [
    "from tensorflow.keras.utils import plot_model\n",
    "plot_model(model,show_shapes=True)"
   ]
  },
  {
   "cell_type": "code",
   "execution_count": 14,
   "id": "6cbc2f10",
   "metadata": {},
   "outputs": [],
   "source": [
    "callbacks = []\n",
    "\n",
    "log_dir = \"./tmp/tensorboard/\"\n",
    "tensorboard_callback = tf.keras.callbacks.TensorBoard(log_dir=log_dir)\n",
    "callbacks.append(tensorboard_callback)"
   ]
  },
  {
   "cell_type": "code",
   "execution_count": 15,
   "id": "ba28eb46",
   "metadata": {
    "scrolled": true
   },
   "outputs": [
    {
     "name": "stderr",
     "output_type": "stream",
     "text": [
      "/usr/local/lib/python3.10/dist-packages/keras/src/backend.py:5729: UserWarning: \"`sparse_categorical_crossentropy` received `from_logits=True`, but the `output` argument was produced by a Softmax activation and thus does not represent logits. Was this intended?\n",
      "  output, from_logits = _get_logits(\n",
      "2024-01-15 23:26:55.485483: I tensorflow/compiler/xla/service/service.cc:168] XLA service 0x565313d8f5a0 initialized for platform CUDA (this does not guarantee that XLA will be used). Devices:\n",
      "2024-01-15 23:26:55.485531: I tensorflow/compiler/xla/service/service.cc:176]   StreamExecutor device (0): Quadro P1000, Compute Capability 6.1\n",
      "2024-01-15 23:26:55.491662: I tensorflow/compiler/mlir/tensorflow/utils/dump_mlir_util.cc:269] disabling MLIR crash reproducer, set env var `MLIR_CRASH_REPRODUCER_DIRECTORY` to enable.\n",
      "2024-01-15 23:26:55.508140: I tensorflow/compiler/xla/stream_executor/cuda/cuda_dnn.cc:442] Loaded cuDNN version 8907\n",
      "2024-01-15 23:26:55.574193: I ./tensorflow/compiler/jit/device_compiler.h:186] Compiled cluster using XLA!  This line is logged at most once for the lifetime of the process.\n"
     ]
    },
    {
     "name": "stdout",
     "output_type": "stream",
     "text": [
      "1/1 [==============================] - 16s 16s/step - loss: 1.6040 - accuracy: 0.1250 - val_loss: 1.6759 - val_accuracy: 0.2500\n"
     ]
    }
   ],
   "source": [
    "history = model.fit(\n",
    "    train_dataset,\n",
    "    shuffle=True,\n",
    "    epochs=epochs,\n",
    "    steps_per_epoch=steps_per_epoch,\n",
    "    validation_data=validation_dataset,\n",
    "    validation_steps=validation_steps,\n",
    "    callbacks=callbacks,\n",
    ")"
   ]
  },
  {
   "cell_type": "code",
   "execution_count": 16,
   "id": "190f0aeb",
   "metadata": {},
   "outputs": [],
   "source": [
    "epochs = 256\n",
    "steps_per_epoch = 32\n",
    "validation_steps = 32\n",
    "test_steps = 32\n",
    "freeze_bert_layer = True\n",
    "learning_rate = 3e-3\n",
    "epsilon = 1e-08\n",
    "max_seq_length = 64"
   ]
  },
  {
   "cell_type": "code",
   "execution_count": 17,
   "id": "18a6b2d9",
   "metadata": {},
   "outputs": [
    {
     "name": "stdout",
     "output_type": "stream",
     "text": [
      "Epoch 1/256\n",
      "32/32 [==============================] - 51s 2s/step - loss: 1.6884 - accuracy: 0.1992 - val_loss: 1.6192 - val_accuracy: 0.1953\n",
      "Epoch 2/256\n",
      "32/32 [==============================] - 51s 2s/step - loss: 1.6090 - accuracy: 0.2734 - val_loss: 1.6087 - val_accuracy: 0.2305\n",
      "Epoch 3/256\n",
      "32/32 [==============================] - 50s 2s/step - loss: 1.6079 - accuracy: 0.2266 - val_loss: 1.6010 - val_accuracy: 0.2305\n",
      "Epoch 4/256\n",
      "32/32 [==============================] - 51s 2s/step - loss: 1.6243 - accuracy: 0.2148 - val_loss: 1.5952 - val_accuracy: 0.2305\n",
      "Epoch 5/256\n",
      "32/32 [==============================] - 51s 2s/step - loss: 1.6022 - accuracy: 0.2695 - val_loss: 1.5910 - val_accuracy: 0.2422\n",
      "Epoch 6/256\n",
      "32/32 [==============================] - 51s 2s/step - loss: 1.6067 - accuracy: 0.2617 - val_loss: 1.5878 - val_accuracy: 0.2500\n",
      "Epoch 7/256\n",
      "32/32 [==============================] - 50s 2s/step - loss: 1.6128 - accuracy: 0.2500 - val_loss: 1.5826 - val_accuracy: 0.2500\n",
      "Epoch 8/256\n",
      "32/32 [==============================] - 51s 2s/step - loss: 1.5967 - accuracy: 0.2539 - val_loss: 1.5787 - val_accuracy: 0.2891\n",
      "Epoch 9/256\n",
      "32/32 [==============================] - 51s 2s/step - loss: 1.5736 - accuracy: 0.3008 - val_loss: 1.5769 - val_accuracy: 0.2695\n",
      "Epoch 10/256\n",
      "32/32 [==============================] - 51s 2s/step - loss: 1.5875 - accuracy: 0.2344 - val_loss: 1.5723 - val_accuracy: 0.2695\n",
      "Epoch 11/256\n",
      "32/32 [==============================] - 50s 2s/step - loss: 1.5736 - accuracy: 0.2852 - val_loss: 1.5702 - val_accuracy: 0.2891\n",
      "Epoch 12/256\n",
      "32/32 [==============================] - 51s 2s/step - loss: 1.5940 - accuracy: 0.3047 - val_loss: 1.5639 - val_accuracy: 0.2891\n",
      "Epoch 13/256\n",
      "32/32 [==============================] - 51s 2s/step - loss: 1.5845 - accuracy: 0.2656 - val_loss: 1.5570 - val_accuracy: 0.3320\n",
      "Epoch 14/256\n",
      "32/32 [==============================] - 51s 2s/step - loss: 1.5727 - accuracy: 0.3281 - val_loss: 1.5512 - val_accuracy: 0.3047\n",
      "Epoch 15/256\n",
      "32/32 [==============================] - 51s 2s/step - loss: 1.5643 - accuracy: 0.3320 - val_loss: 1.5459 - val_accuracy: 0.3281\n",
      "Epoch 16/256\n",
      "32/32 [==============================] - 51s 2s/step - loss: 1.5744 - accuracy: 0.2734 - val_loss: 1.5415 - val_accuracy: 0.3281\n",
      "Epoch 17/256\n",
      "32/32 [==============================] - 51s 2s/step - loss: 1.5798 - accuracy: 0.2617 - val_loss: 1.5375 - val_accuracy: 0.3320\n",
      "Epoch 18/256\n",
      "32/32 [==============================] - 51s 2s/step - loss: 1.5632 - accuracy: 0.2773 - val_loss: 1.5327 - val_accuracy: 0.3203\n",
      "Epoch 19/256\n",
      "32/32 [==============================] - 51s 2s/step - loss: 1.5481 - accuracy: 0.3203 - val_loss: 1.5243 - val_accuracy: 0.3359\n",
      "Epoch 20/256\n",
      "32/32 [==============================] - 51s 2s/step - loss: 1.5259 - accuracy: 0.3789 - val_loss: 1.5190 - val_accuracy: 0.3477\n",
      "Epoch 21/256\n",
      "32/32 [==============================] - 51s 2s/step - loss: 1.5383 - accuracy: 0.3320 - val_loss: 1.5146 - val_accuracy: 0.3633\n",
      "Epoch 22/256\n",
      "32/32 [==============================] - 52s 2s/step - loss: 1.5422 - accuracy: 0.3477 - val_loss: 1.5094 - val_accuracy: 0.3555\n",
      "Epoch 23/256\n",
      "32/32 [==============================] - 51s 2s/step - loss: 1.5272 - accuracy: 0.3164 - val_loss: 1.5050 - val_accuracy: 0.3516\n",
      "Epoch 24/256\n",
      "32/32 [==============================] - 51s 2s/step - loss: 1.5380 - accuracy: 0.3008 - val_loss: 1.5010 - val_accuracy: 0.3477\n",
      "Epoch 25/256\n",
      "32/32 [==============================] - 51s 2s/step - loss: 1.4970 - accuracy: 0.3555 - val_loss: 1.4908 - val_accuracy: 0.3516\n",
      "Epoch 26/256\n",
      "32/32 [==============================] - 51s 2s/step - loss: 1.5301 - accuracy: 0.3086 - val_loss: 1.4859 - val_accuracy: 0.3438\n",
      "Epoch 27/256\n",
      "32/32 [==============================] - 51s 2s/step - loss: 1.4944 - accuracy: 0.3281 - val_loss: 1.4822 - val_accuracy: 0.3125\n",
      "Epoch 28/256\n",
      "32/32 [==============================] - 51s 2s/step - loss: 1.4809 - accuracy: 0.3477 - val_loss: 1.4769 - val_accuracy: 0.3281\n",
      "Epoch 29/256\n",
      "32/32 [==============================] - 51s 2s/step - loss: 1.4571 - accuracy: 0.3945 - val_loss: 1.4712 - val_accuracy: 0.3398\n",
      "Epoch 30/256\n",
      "32/32 [==============================] - 52s 2s/step - loss: 1.4752 - accuracy: 0.3750 - val_loss: 1.4656 - val_accuracy: 0.3438\n",
      "Epoch 31/256\n",
      "32/32 [==============================] - 52s 2s/step - loss: 1.4814 - accuracy: 0.3555 - val_loss: 1.4530 - val_accuracy: 0.3633\n",
      "Epoch 32/256\n",
      "32/32 [==============================] - 51s 2s/step - loss: 1.4833 - accuracy: 0.3555 - val_loss: 1.4467 - val_accuracy: 0.3516\n",
      "Epoch 33/256\n",
      "32/32 [==============================] - 51s 2s/step - loss: 1.4405 - accuracy: 0.3789 - val_loss: 1.4428 - val_accuracy: 0.3555\n",
      "Epoch 34/256\n",
      "32/32 [==============================] - 52s 2s/step - loss: 1.5008 - accuracy: 0.3359 - val_loss: 1.4372 - val_accuracy: 0.3438\n",
      "Epoch 35/256\n",
      "32/32 [==============================] - 51s 2s/step - loss: 1.4630 - accuracy: 0.3750 - val_loss: 1.4319 - val_accuracy: 0.3633\n",
      "Epoch 36/256\n",
      "32/32 [==============================] - 51s 2s/step - loss: 1.4776 - accuracy: 0.3398 - val_loss: 1.4267 - val_accuracy: 0.3867\n",
      "Epoch 37/256\n",
      "32/32 [==============================] - 51s 2s/step - loss: 1.4870 - accuracy: 0.3594 - val_loss: 1.4253 - val_accuracy: 0.3789\n",
      "Epoch 38/256\n",
      "32/32 [==============================] - 51s 2s/step - loss: 1.4256 - accuracy: 0.4141 - val_loss: 1.4157 - val_accuracy: 0.3555\n",
      "Epoch 39/256\n",
      "32/32 [==============================] - 51s 2s/step - loss: 1.4703 - accuracy: 0.3086 - val_loss: 1.4129 - val_accuracy: 0.3594\n",
      "Epoch 40/256\n",
      "32/32 [==============================] - 51s 2s/step - loss: 1.4430 - accuracy: 0.3477 - val_loss: 1.4099 - val_accuracy: 0.3359\n",
      "Epoch 41/256\n",
      "32/32 [==============================] - 51s 2s/step - loss: 1.4127 - accuracy: 0.3555 - val_loss: 1.4060 - val_accuracy: 0.3281\n",
      "Epoch 42/256\n",
      "32/32 [==============================] - 52s 2s/step - loss: 1.4649 - accuracy: 0.3438 - val_loss: 1.3989 - val_accuracy: 0.3516\n",
      "Epoch 43/256\n",
      "32/32 [==============================] - 51s 2s/step - loss: 1.4552 - accuracy: 0.3672 - val_loss: 1.3964 - val_accuracy: 0.3750\n",
      "Epoch 44/256\n",
      "32/32 [==============================] - 51s 2s/step - loss: 1.3894 - accuracy: 0.3906 - val_loss: 1.3882 - val_accuracy: 0.3828\n",
      "Epoch 45/256\n",
      "32/32 [==============================] - 51s 2s/step - loss: 1.4130 - accuracy: 0.3945 - val_loss: 1.3801 - val_accuracy: 0.3828\n",
      "Epoch 46/256\n",
      "32/32 [==============================] - 51s 2s/step - loss: 1.4292 - accuracy: 0.3477 - val_loss: 1.3806 - val_accuracy: 0.3750\n",
      "Epoch 47/256\n",
      "32/32 [==============================] - 53s 2s/step - loss: 1.4059 - accuracy: 0.3984 - val_loss: 1.3719 - val_accuracy: 0.3711\n",
      "Epoch 48/256\n",
      "32/32 [==============================] - 52s 2s/step - loss: 1.4100 - accuracy: 0.4062 - val_loss: 1.3658 - val_accuracy: 0.3828\n",
      "Epoch 49/256\n",
      "32/32 [==============================] - 52s 2s/step - loss: 1.4640 - accuracy: 0.3008 - val_loss: 1.3646 - val_accuracy: 0.3750\n",
      "Epoch 50/256\n",
      "32/32 [==============================] - 51s 2s/step - loss: 1.4253 - accuracy: 0.3633 - val_loss: 1.3592 - val_accuracy: 0.3672\n",
      "Epoch 51/256\n",
      "32/32 [==============================] - 51s 2s/step - loss: 1.3306 - accuracy: 0.4492 - val_loss: 1.3546 - val_accuracy: 0.3672\n",
      "Epoch 52/256\n",
      "32/32 [==============================] - 56s 2s/step - loss: 1.3858 - accuracy: 0.4102 - val_loss: 1.3483 - val_accuracy: 0.3594\n",
      "Epoch 53/256\n",
      "32/32 [==============================] - 58s 2s/step - loss: 1.4018 - accuracy: 0.3945 - val_loss: 1.3460 - val_accuracy: 0.3789\n",
      "Epoch 54/256\n",
      "32/32 [==============================] - 51s 2s/step - loss: 1.3647 - accuracy: 0.4062 - val_loss: 1.3432 - val_accuracy: 0.3672\n",
      "Epoch 55/256\n",
      "32/32 [==============================] - 52s 2s/step - loss: 1.3808 - accuracy: 0.3984 - val_loss: 1.3365 - val_accuracy: 0.3789\n",
      "Epoch 56/256\n",
      "32/32 [==============================] - 51s 2s/step - loss: 1.3789 - accuracy: 0.3828 - val_loss: 1.3324 - val_accuracy: 0.3867\n",
      "Epoch 57/256\n",
      "32/32 [==============================] - 52s 2s/step - loss: 1.3813 - accuracy: 0.3828 - val_loss: 1.3278 - val_accuracy: 0.3672\n",
      "Epoch 58/256\n",
      "32/32 [==============================] - 51s 2s/step - loss: 1.3719 - accuracy: 0.3945 - val_loss: 1.3225 - val_accuracy: 0.3984\n"
     ]
    },
    {
     "name": "stdout",
     "output_type": "stream",
     "text": [
      "Epoch 59/256\n",
      "32/32 [==============================] - 51s 2s/step - loss: 1.3910 - accuracy: 0.4102 - val_loss: 1.3209 - val_accuracy: 0.3906\n",
      "Epoch 60/256\n",
      "32/32 [==============================] - 51s 2s/step - loss: 1.3462 - accuracy: 0.4062 - val_loss: 1.3216 - val_accuracy: 0.3984\n",
      "Epoch 61/256\n",
      "32/32 [==============================] - 51s 2s/step - loss: 1.3984 - accuracy: 0.3789 - val_loss: 1.3155 - val_accuracy: 0.3906\n",
      "Epoch 62/256\n",
      "32/32 [==============================] - 52s 2s/step - loss: 1.3440 - accuracy: 0.4258 - val_loss: 1.3140 - val_accuracy: 0.4180\n",
      "Epoch 63/256\n",
      "32/32 [==============================] - 51s 2s/step - loss: 1.3572 - accuracy: 0.3906 - val_loss: 1.3064 - val_accuracy: 0.3945\n",
      "Epoch 64/256\n",
      "32/32 [==============================] - 54s 2s/step - loss: 1.3984 - accuracy: 0.3828 - val_loss: 1.3038 - val_accuracy: 0.3984\n",
      "Epoch 65/256\n",
      "32/32 [==============================] - 56s 2s/step - loss: 1.3759 - accuracy: 0.3867 - val_loss: 1.3035 - val_accuracy: 0.3945\n",
      "Epoch 66/256\n",
      "32/32 [==============================] - 56s 2s/step - loss: 1.3462 - accuracy: 0.4141 - val_loss: 1.3000 - val_accuracy: 0.3945\n",
      "Epoch 67/256\n",
      "32/32 [==============================] - 55s 2s/step - loss: 1.3303 - accuracy: 0.4414 - val_loss: 1.2994 - val_accuracy: 0.4062\n",
      "Epoch 68/256\n",
      "32/32 [==============================] - 53s 2s/step - loss: 1.3888 - accuracy: 0.3555 - val_loss: 1.2963 - val_accuracy: 0.4023\n",
      "Epoch 69/256\n",
      "32/32 [==============================] - 54s 2s/step - loss: 1.3523 - accuracy: 0.3320 - val_loss: 1.2971 - val_accuracy: 0.4219\n",
      "Epoch 70/256\n",
      "32/32 [==============================] - 55s 2s/step - loss: 1.3026 - accuracy: 0.4180 - val_loss: 1.2942 - val_accuracy: 0.4336\n",
      "Epoch 71/256\n",
      "32/32 [==============================] - 54s 2s/step - loss: 1.3529 - accuracy: 0.3867 - val_loss: 1.2947 - val_accuracy: 0.4180\n",
      "Epoch 72/256\n",
      "32/32 [==============================] - 54s 2s/step - loss: 1.3312 - accuracy: 0.4258 - val_loss: 1.2864 - val_accuracy: 0.4297\n",
      "Epoch 73/256\n",
      "32/32 [==============================] - 58s 2s/step - loss: 1.2995 - accuracy: 0.4336 - val_loss: 1.2792 - val_accuracy: 0.4141\n",
      "Epoch 74/256\n",
      "32/32 [==============================] - 52s 2s/step - loss: 1.3305 - accuracy: 0.4219 - val_loss: 1.2775 - val_accuracy: 0.4062\n",
      "Epoch 75/256\n",
      "32/32 [==============================] - 51s 2s/step - loss: 1.3813 - accuracy: 0.3477 - val_loss: 1.2774 - val_accuracy: 0.3984\n",
      "Epoch 76/256\n",
      "32/32 [==============================] - 51s 2s/step - loss: 1.3709 - accuracy: 0.3945 - val_loss: 1.2783 - val_accuracy: 0.4023\n",
      "Epoch 77/256\n",
      "32/32 [==============================] - 52s 2s/step - loss: 1.3418 - accuracy: 0.3984 - val_loss: 1.2809 - val_accuracy: 0.4102\n",
      "Epoch 78/256\n",
      "32/32 [==============================] - 52s 2s/step - loss: 1.3216 - accuracy: 0.4141 - val_loss: 1.2743 - val_accuracy: 0.4258\n",
      "Epoch 79/256\n",
      "32/32 [==============================] - 52s 2s/step - loss: 1.3509 - accuracy: 0.3906 - val_loss: 1.2731 - val_accuracy: 0.4062\n",
      "Epoch 80/256\n",
      "32/32 [==============================] - 51s 2s/step - loss: 1.3362 - accuracy: 0.4492 - val_loss: 1.2829 - val_accuracy: 0.4414\n",
      "Epoch 81/256\n",
      "32/32 [==============================] - 51s 2s/step - loss: 1.3251 - accuracy: 0.4336 - val_loss: 1.2681 - val_accuracy: 0.4180\n",
      "Epoch 82/256\n",
      "32/32 [==============================] - 51s 2s/step - loss: 1.3148 - accuracy: 0.4453 - val_loss: 1.2624 - val_accuracy: 0.4258\n",
      "Epoch 83/256\n",
      "32/32 [==============================] - 55s 2s/step - loss: 1.2936 - accuracy: 0.4492 - val_loss: 1.2616 - val_accuracy: 0.4336\n",
      "Epoch 84/256\n",
      "32/32 [==============================] - 56s 2s/step - loss: 1.3300 - accuracy: 0.4102 - val_loss: 1.2586 - val_accuracy: 0.4258\n",
      "Epoch 85/256\n",
      "32/32 [==============================] - 53s 2s/step - loss: 1.2925 - accuracy: 0.4375 - val_loss: 1.2577 - val_accuracy: 0.4141\n",
      "Epoch 86/256\n",
      "32/32 [==============================] - 63s 2s/step - loss: 1.3020 - accuracy: 0.3906 - val_loss: 1.2571 - val_accuracy: 0.4336\n",
      "Epoch 87/256\n",
      "32/32 [==============================] - 62s 2s/step - loss: 1.3205 - accuracy: 0.4023 - val_loss: 1.2572 - val_accuracy: 0.4414\n",
      "Epoch 88/256\n",
      "32/32 [==============================] - 53s 2s/step - loss: 1.2563 - accuracy: 0.4648 - val_loss: 1.2521 - val_accuracy: 0.4297\n",
      "Epoch 89/256\n",
      "32/32 [==============================] - 52s 2s/step - loss: 1.3677 - accuracy: 0.4102 - val_loss: 1.2541 - val_accuracy: 0.4492\n",
      "Epoch 90/256\n",
      "32/32 [==============================] - 53s 2s/step - loss: 1.3461 - accuracy: 0.4062 - val_loss: 1.2523 - val_accuracy: 0.4297\n",
      "Epoch 91/256\n",
      "32/32 [==============================] - 53s 2s/step - loss: 1.3508 - accuracy: 0.4102 - val_loss: 1.2507 - val_accuracy: 0.4258\n",
      "Epoch 92/256\n",
      "32/32 [==============================] - 51s 2s/step - loss: 1.3666 - accuracy: 0.3633 - val_loss: 1.2522 - val_accuracy: 0.4375\n",
      "Epoch 93/256\n",
      "32/32 [==============================] - 52s 2s/step - loss: 1.2717 - accuracy: 0.4609 - val_loss: 1.2492 - val_accuracy: 0.4375\n",
      "Epoch 94/256\n",
      "32/32 [==============================] - 53s 2s/step - loss: 1.2866 - accuracy: 0.4141 - val_loss: 1.2422 - val_accuracy: 0.4492\n",
      "Epoch 95/256\n",
      "32/32 [==============================] - 54s 2s/step - loss: 1.3337 - accuracy: 0.4453 - val_loss: 1.2447 - val_accuracy: 0.4492\n",
      "Epoch 96/256\n",
      "32/32 [==============================] - 52s 2s/step - loss: 1.2852 - accuracy: 0.4648 - val_loss: 1.2409 - val_accuracy: 0.4414\n",
      "Epoch 97/256\n",
      "32/32 [==============================] - 54s 2s/step - loss: 1.3272 - accuracy: 0.4258 - val_loss: 1.2406 - val_accuracy: 0.4375\n",
      "Epoch 98/256\n",
      "32/32 [==============================] - 52s 2s/step - loss: 1.3246 - accuracy: 0.4336 - val_loss: 1.2417 - val_accuracy: 0.4375\n",
      "Epoch 99/256\n",
      "32/32 [==============================] - 52s 2s/step - loss: 1.3093 - accuracy: 0.4922 - val_loss: 1.2405 - val_accuracy: 0.4297\n",
      "Epoch 100/256\n",
      "32/32 [==============================] - 51s 2s/step - loss: 1.3149 - accuracy: 0.3789 - val_loss: 1.2388 - val_accuracy: 0.4219\n",
      "Epoch 101/256\n",
      "32/32 [==============================] - 52s 2s/step - loss: 1.2762 - accuracy: 0.4375 - val_loss: 1.2357 - val_accuracy: 0.4180\n",
      "Epoch 102/256\n",
      "32/32 [==============================] - 52s 2s/step - loss: 1.2898 - accuracy: 0.4297 - val_loss: 1.2434 - val_accuracy: 0.4141\n",
      "Epoch 103/256\n",
      "32/32 [==============================] - 55s 2s/step - loss: 1.3733 - accuracy: 0.3906 - val_loss: 1.2350 - val_accuracy: 0.4219\n",
      "Epoch 104/256\n",
      "32/32 [==============================] - 56s 2s/step - loss: 1.3024 - accuracy: 0.4023 - val_loss: 1.2328 - val_accuracy: 0.4375\n",
      "Epoch 105/256\n",
      "32/32 [==============================] - 54s 2s/step - loss: 1.2939 - accuracy: 0.4258 - val_loss: 1.2427 - val_accuracy: 0.4688\n",
      "Epoch 106/256\n",
      "32/32 [==============================] - 52s 2s/step - loss: 1.3063 - accuracy: 0.3867 - val_loss: 1.2305 - val_accuracy: 0.4375\n",
      "Epoch 107/256\n",
      "32/32 [==============================] - 51s 2s/step - loss: 1.2761 - accuracy: 0.4297 - val_loss: 1.2327 - val_accuracy: 0.4180\n",
      "Epoch 108/256\n",
      "32/32 [==============================] - 52s 2s/step - loss: 1.2634 - accuracy: 0.4648 - val_loss: 1.2381 - val_accuracy: 0.4180\n",
      "Epoch 109/256\n",
      "32/32 [==============================] - 52s 2s/step - loss: 1.3629 - accuracy: 0.3750 - val_loss: 1.2341 - val_accuracy: 0.4102\n",
      "Epoch 110/256\n",
      "32/32 [==============================] - 53s 2s/step - loss: 1.2779 - accuracy: 0.4609 - val_loss: 1.2326 - val_accuracy: 0.4219\n",
      "Epoch 111/256\n",
      "32/32 [==============================] - 52s 2s/step - loss: 1.3066 - accuracy: 0.4180 - val_loss: 1.2339 - val_accuracy: 0.4297\n",
      "Epoch 112/256\n",
      "32/32 [==============================] - 51s 2s/step - loss: 1.2677 - accuracy: 0.4609 - val_loss: 1.2285 - val_accuracy: 0.4336\n",
      "Epoch 113/256\n",
      "32/32 [==============================] - 52s 2s/step - loss: 1.3052 - accuracy: 0.4570 - val_loss: 1.2239 - val_accuracy: 0.4492\n",
      "Epoch 114/256\n",
      "32/32 [==============================] - 52s 2s/step - loss: 1.2960 - accuracy: 0.4219 - val_loss: 1.2253 - val_accuracy: 0.4453\n",
      "Epoch 115/256\n",
      "32/32 [==============================] - 53s 2s/step - loss: 1.2744 - accuracy: 0.4531 - val_loss: 1.2224 - val_accuracy: 0.4492\n",
      "Epoch 116/256\n"
     ]
    },
    {
     "name": "stdout",
     "output_type": "stream",
     "text": [
      "32/32 [==============================] - 51s 2s/step - loss: 1.2522 - accuracy: 0.4336 - val_loss: 1.2217 - val_accuracy: 0.4531\n",
      "Epoch 117/256\n",
      "32/32 [==============================] - 51s 2s/step - loss: 1.4042 - accuracy: 0.3984 - val_loss: 1.2221 - val_accuracy: 0.4727\n",
      "Epoch 118/256\n",
      "32/32 [==============================] - 53s 2s/step - loss: 1.2459 - accuracy: 0.4648 - val_loss: 1.2210 - val_accuracy: 0.4531\n",
      "Epoch 119/256\n",
      "32/32 [==============================] - 51s 2s/step - loss: 1.2686 - accuracy: 0.4297 - val_loss: 1.2193 - val_accuracy: 0.4609\n",
      "Epoch 120/256\n",
      "32/32 [==============================] - 51s 2s/step - loss: 1.3069 - accuracy: 0.4453 - val_loss: 1.2206 - val_accuracy: 0.4570\n",
      "Epoch 121/256\n",
      "32/32 [==============================] - 51s 2s/step - loss: 1.3008 - accuracy: 0.4258 - val_loss: 1.2188 - val_accuracy: 0.4375\n",
      "Epoch 122/256\n",
      "32/32 [==============================] - 51s 2s/step - loss: 1.3277 - accuracy: 0.4375 - val_loss: 1.2192 - val_accuracy: 0.4141\n",
      "Epoch 123/256\n",
      "32/32 [==============================] - 51s 2s/step - loss: 1.3140 - accuracy: 0.4219 - val_loss: 1.2238 - val_accuracy: 0.4375\n",
      "Epoch 124/256\n",
      "32/32 [==============================] - 51s 2s/step - loss: 1.2569 - accuracy: 0.4141 - val_loss: 1.2182 - val_accuracy: 0.4570\n",
      "Epoch 125/256\n",
      "32/32 [==============================] - 51s 2s/step - loss: 1.3192 - accuracy: 0.3594 - val_loss: 1.2173 - val_accuracy: 0.4688\n",
      "Epoch 126/256\n",
      "32/32 [==============================] - 50s 2s/step - loss: 1.3682 - accuracy: 0.4062 - val_loss: 1.2148 - val_accuracy: 0.4531\n",
      "Epoch 127/256\n",
      "32/32 [==============================] - 52s 2s/step - loss: 1.3183 - accuracy: 0.4180 - val_loss: 1.2263 - val_accuracy: 0.4453\n",
      "Epoch 128/256\n",
      "32/32 [==============================] - 50s 2s/step - loss: 1.3149 - accuracy: 0.4102 - val_loss: 1.2171 - val_accuracy: 0.4453\n",
      "Epoch 129/256\n",
      "32/32 [==============================] - 51s 2s/step - loss: 1.2266 - accuracy: 0.4844 - val_loss: 1.2198 - val_accuracy: 0.4414\n",
      "Epoch 130/256\n",
      "32/32 [==============================] - 51s 2s/step - loss: 1.2472 - accuracy: 0.4375 - val_loss: 1.2146 - val_accuracy: 0.4492\n",
      "Epoch 131/256\n",
      "32/32 [==============================] - 52s 2s/step - loss: 1.3267 - accuracy: 0.3984 - val_loss: 1.2094 - val_accuracy: 0.4648\n",
      "Epoch 132/256\n",
      "32/32 [==============================] - 51s 2s/step - loss: 1.2959 - accuracy: 0.4180 - val_loss: 1.2089 - val_accuracy: 0.4570\n",
      "Epoch 133/256\n",
      "32/32 [==============================] - 55s 2s/step - loss: 1.2734 - accuracy: 0.4102 - val_loss: 1.2069 - val_accuracy: 0.4531\n",
      "Epoch 134/256\n",
      "32/32 [==============================] - 56s 2s/step - loss: 1.3163 - accuracy: 0.4023 - val_loss: 1.2053 - val_accuracy: 0.4688\n",
      "Epoch 135/256\n",
      "32/32 [==============================] - 53s 2s/step - loss: 1.2545 - accuracy: 0.4648 - val_loss: 1.2131 - val_accuracy: 0.4609\n",
      "Epoch 136/256\n",
      "32/32 [==============================] - 55s 2s/step - loss: 1.2773 - accuracy: 0.4453 - val_loss: 1.2096 - val_accuracy: 0.4414\n",
      "Epoch 137/256\n",
      "32/32 [==============================] - 53s 2s/step - loss: 1.2807 - accuracy: 0.4258 - val_loss: 1.2078 - val_accuracy: 0.4492\n",
      "Epoch 138/256\n",
      "32/32 [==============================] - 56s 2s/step - loss: 1.2471 - accuracy: 0.4648 - val_loss: 1.2084 - val_accuracy: 0.4570\n",
      "Epoch 139/256\n",
      "32/32 [==============================] - 53s 2s/step - loss: 1.3177 - accuracy: 0.3867 - val_loss: 1.2042 - val_accuracy: 0.4688\n",
      "Epoch 140/256\n",
      "32/32 [==============================] - 52s 2s/step - loss: 1.2885 - accuracy: 0.4375 - val_loss: 1.2066 - val_accuracy: 0.4766\n",
      "Epoch 141/256\n",
      "32/32 [==============================] - 52s 2s/step - loss: 1.3067 - accuracy: 0.4492 - val_loss: 1.2085 - val_accuracy: 0.4609\n",
      "Epoch 142/256\n",
      "32/32 [==============================] - 52s 2s/step - loss: 1.2897 - accuracy: 0.4492 - val_loss: 1.2083 - val_accuracy: 0.4609\n",
      "Epoch 143/256\n",
      "32/32 [==============================] - 53s 2s/step - loss: 1.2701 - accuracy: 0.4141 - val_loss: 1.2062 - val_accuracy: 0.4609\n",
      "Epoch 144/256\n",
      "32/32 [==============================] - 53s 2s/step - loss: 1.3806 - accuracy: 0.3633 - val_loss: 1.2109 - val_accuracy: 0.4648\n",
      "Epoch 145/256\n",
      "32/32 [==============================] - 52s 2s/step - loss: 1.3318 - accuracy: 0.3477 - val_loss: 1.2152 - val_accuracy: 0.4570\n",
      "Epoch 146/256\n",
      "32/32 [==============================] - 54s 2s/step - loss: 1.2016 - accuracy: 0.4492 - val_loss: 1.2100 - val_accuracy: 0.4844\n",
      "Epoch 147/256\n",
      "32/32 [==============================] - 53s 2s/step - loss: 1.2697 - accuracy: 0.4375 - val_loss: 1.2090 - val_accuracy: 0.4961\n",
      "Epoch 148/256\n",
      "32/32 [==============================] - 52s 2s/step - loss: 1.2498 - accuracy: 0.4609 - val_loss: 1.2067 - val_accuracy: 0.5000\n",
      "Epoch 149/256\n",
      "32/32 [==============================] - 52s 2s/step - loss: 1.3077 - accuracy: 0.4688 - val_loss: 1.2058 - val_accuracy: 0.4922\n",
      "Epoch 150/256\n",
      "32/32 [==============================] - 53s 2s/step - loss: 1.2499 - accuracy: 0.4648 - val_loss: 1.2184 - val_accuracy: 0.4531\n",
      "Epoch 151/256\n",
      "32/32 [==============================] - 52s 2s/step - loss: 1.2800 - accuracy: 0.4062 - val_loss: 1.2073 - val_accuracy: 0.4805\n",
      "Epoch 152/256\n",
      "32/32 [==============================] - 52s 2s/step - loss: 1.2759 - accuracy: 0.4414 - val_loss: 1.2080 - val_accuracy: 0.4648\n",
      "Epoch 153/256\n",
      "32/32 [==============================] - 52s 2s/step - loss: 1.2513 - accuracy: 0.4531 - val_loss: 1.2055 - val_accuracy: 0.4727\n",
      "Epoch 154/256\n",
      "32/32 [==============================] - 53s 2s/step - loss: 1.3133 - accuracy: 0.4141 - val_loss: 1.2043 - val_accuracy: 0.4531\n",
      "Epoch 155/256\n",
      "32/32 [==============================] - 54s 2s/step - loss: 1.3077 - accuracy: 0.4180 - val_loss: 1.2058 - val_accuracy: 0.4609\n",
      "Epoch 156/256\n",
      "32/32 [==============================] - 52s 2s/step - loss: 1.2604 - accuracy: 0.4844 - val_loss: 1.2096 - val_accuracy: 0.4766\n",
      "Epoch 157/256\n",
      "32/32 [==============================] - 53s 2s/step - loss: 1.3399 - accuracy: 0.4336 - val_loss: 1.2018 - val_accuracy: 0.4648\n",
      "Epoch 158/256\n",
      "32/32 [==============================] - 51s 2s/step - loss: 1.1709 - accuracy: 0.4648 - val_loss: 1.1976 - val_accuracy: 0.4805\n",
      "Epoch 159/256\n",
      "32/32 [==============================] - 51s 2s/step - loss: 1.3201 - accuracy: 0.3906 - val_loss: 1.1985 - val_accuracy: 0.4688\n",
      "Epoch 160/256\n",
      "32/32 [==============================] - 51s 2s/step - loss: 1.2774 - accuracy: 0.4219 - val_loss: 1.2026 - val_accuracy: 0.4727\n",
      "Epoch 161/256\n",
      "32/32 [==============================] - 52s 2s/step - loss: 1.2017 - accuracy: 0.4766 - val_loss: 1.2026 - val_accuracy: 0.4492\n",
      "Epoch 162/256\n",
      "32/32 [==============================] - 52s 2s/step - loss: 1.2562 - accuracy: 0.4258 - val_loss: 1.1968 - val_accuracy: 0.4688\n",
      "Epoch 163/256\n",
      "32/32 [==============================] - 53s 2s/step - loss: 1.2433 - accuracy: 0.4922 - val_loss: 1.2016 - val_accuracy: 0.4805\n",
      "Epoch 164/256\n",
      "32/32 [==============================] - 53s 2s/step - loss: 1.2150 - accuracy: 0.4531 - val_loss: 1.1977 - val_accuracy: 0.4570\n",
      "Epoch 165/256\n",
      "32/32 [==============================] - 52s 2s/step - loss: 1.3210 - accuracy: 0.4375 - val_loss: 1.2073 - val_accuracy: 0.4648\n",
      "Epoch 166/256\n",
      "32/32 [==============================] - 52s 2s/step - loss: 1.2525 - accuracy: 0.4336 - val_loss: 1.1976 - val_accuracy: 0.4609\n",
      "Epoch 167/256\n",
      "32/32 [==============================] - 52s 2s/step - loss: 1.2660 - accuracy: 0.4648 - val_loss: 1.1972 - val_accuracy: 0.4609\n",
      "Epoch 168/256\n",
      "32/32 [==============================] - 52s 2s/step - loss: 1.3569 - accuracy: 0.3594 - val_loss: 1.2003 - val_accuracy: 0.4844\n",
      "Epoch 169/256\n",
      "32/32 [==============================] - 51s 2s/step - loss: 1.2739 - accuracy: 0.4336 - val_loss: 1.2029 - val_accuracy: 0.4961\n",
      "Epoch 170/256\n",
      "32/32 [==============================] - 52s 2s/step - loss: 1.2367 - accuracy: 0.4688 - val_loss: 1.1975 - val_accuracy: 0.4844\n",
      "Epoch 171/256\n",
      "32/32 [==============================] - 52s 2s/step - loss: 1.2790 - accuracy: 0.4180 - val_loss: 1.1991 - val_accuracy: 0.4883\n",
      "Epoch 172/256\n",
      "32/32 [==============================] - 52s 2s/step - loss: 1.2965 - accuracy: 0.4062 - val_loss: 1.1973 - val_accuracy: 0.4688\n",
      "Epoch 173/256\n"
     ]
    },
    {
     "name": "stdout",
     "output_type": "stream",
     "text": [
      "32/32 [==============================] - 53s 2s/step - loss: 1.2917 - accuracy: 0.4414 - val_loss: 1.1970 - val_accuracy: 0.4883\n",
      "Epoch 174/256\n",
      "32/32 [==============================] - 52s 2s/step - loss: 1.3185 - accuracy: 0.4219 - val_loss: 1.1973 - val_accuracy: 0.5117\n",
      "Epoch 175/256\n",
      "32/32 [==============================] - 53s 2s/step - loss: 1.3467 - accuracy: 0.4062 - val_loss: 1.2027 - val_accuracy: 0.5039\n",
      "Epoch 176/256\n",
      "32/32 [==============================] - 51s 2s/step - loss: 1.2963 - accuracy: 0.4688 - val_loss: 1.1960 - val_accuracy: 0.5039\n",
      "Epoch 177/256\n",
      "32/32 [==============================] - 52s 2s/step - loss: 1.2626 - accuracy: 0.4336 - val_loss: 1.1948 - val_accuracy: 0.4805\n",
      "Epoch 178/256\n",
      "32/32 [==============================] - 52s 2s/step - loss: 1.2931 - accuracy: 0.4375 - val_loss: 1.1941 - val_accuracy: 0.5039\n",
      "Epoch 179/256\n",
      "32/32 [==============================] - 52s 2s/step - loss: 1.2406 - accuracy: 0.4766 - val_loss: 1.1937 - val_accuracy: 0.4805\n",
      "Epoch 180/256\n",
      "32/32 [==============================] - 52s 2s/step - loss: 1.2564 - accuracy: 0.4531 - val_loss: 1.1945 - val_accuracy: 0.4883\n",
      "Epoch 181/256\n",
      "32/32 [==============================] - 53s 2s/step - loss: 1.3144 - accuracy: 0.4102 - val_loss: 1.1937 - val_accuracy: 0.4766\n",
      "Epoch 182/256\n",
      "32/32 [==============================] - 52s 2s/step - loss: 1.3121 - accuracy: 0.4492 - val_loss: 1.1943 - val_accuracy: 0.4844\n",
      "Epoch 183/256\n",
      "32/32 [==============================] - 52s 2s/step - loss: 1.2175 - accuracy: 0.4180 - val_loss: 1.1897 - val_accuracy: 0.4688\n",
      "Epoch 184/256\n",
      "32/32 [==============================] - 55s 2s/step - loss: 1.3106 - accuracy: 0.3516 - val_loss: 1.1931 - val_accuracy: 0.4688\n",
      "Epoch 185/256\n",
      "32/32 [==============================] - 52s 2s/step - loss: 1.2879 - accuracy: 0.4375 - val_loss: 1.1930 - val_accuracy: 0.5000\n",
      "Epoch 186/256\n",
      "32/32 [==============================] - 52s 2s/step - loss: 1.1576 - accuracy: 0.4805 - val_loss: 1.1899 - val_accuracy: 0.4922\n",
      "Epoch 187/256\n",
      "32/32 [==============================] - 53s 2s/step - loss: 1.2414 - accuracy: 0.4805 - val_loss: 1.1955 - val_accuracy: 0.4766\n",
      "Epoch 188/256\n",
      "32/32 [==============================] - 54s 2s/step - loss: 1.2477 - accuracy: 0.4492 - val_loss: 1.1865 - val_accuracy: 0.4727\n",
      "Epoch 189/256\n",
      "32/32 [==============================] - 55s 2s/step - loss: 1.3062 - accuracy: 0.3984 - val_loss: 1.1902 - val_accuracy: 0.4883\n",
      "Epoch 190/256\n",
      "32/32 [==============================] - 53s 2s/step - loss: 1.2822 - accuracy: 0.4570 - val_loss: 1.1878 - val_accuracy: 0.4844\n",
      "Epoch 191/256\n",
      "32/32 [==============================] - 52s 2s/step - loss: 1.2887 - accuracy: 0.4531 - val_loss: 1.1858 - val_accuracy: 0.4805\n",
      "Epoch 192/256\n",
      "32/32 [==============================] - 54s 2s/step - loss: 1.2496 - accuracy: 0.4453 - val_loss: 1.1849 - val_accuracy: 0.4727\n",
      "Epoch 193/256\n",
      "32/32 [==============================] - 54s 2s/step - loss: 1.2355 - accuracy: 0.4609 - val_loss: 1.1829 - val_accuracy: 0.4648\n",
      "Epoch 194/256\n",
      "32/32 [==============================] - 51s 2s/step - loss: 1.2474 - accuracy: 0.4570 - val_loss: 1.1818 - val_accuracy: 0.4570\n",
      "Epoch 195/256\n",
      "32/32 [==============================] - 50s 2s/step - loss: 1.2501 - accuracy: 0.4844 - val_loss: 1.1839 - val_accuracy: 0.4648\n",
      "Epoch 196/256\n",
      "32/32 [==============================] - 52s 2s/step - loss: 1.2588 - accuracy: 0.4805 - val_loss: 1.1862 - val_accuracy: 0.4727\n",
      "Epoch 197/256\n",
      "32/32 [==============================] - 50s 2s/step - loss: 1.2396 - accuracy: 0.4570 - val_loss: 1.1859 - val_accuracy: 0.4805\n",
      "Epoch 198/256\n",
      "32/32 [==============================] - 54s 2s/step - loss: 1.3828 - accuracy: 0.4062 - val_loss: 1.1814 - val_accuracy: 0.4766\n",
      "Epoch 199/256\n",
      "32/32 [==============================] - 54s 2s/step - loss: 1.2483 - accuracy: 0.4453 - val_loss: 1.1821 - val_accuracy: 0.4805\n",
      "Epoch 200/256\n",
      "32/32 [==============================] - 54s 2s/step - loss: 1.2882 - accuracy: 0.4180 - val_loss: 1.1833 - val_accuracy: 0.4805\n",
      "Epoch 201/256\n",
      "32/32 [==============================] - 53s 2s/step - loss: 1.2423 - accuracy: 0.4805 - val_loss: 1.1814 - val_accuracy: 0.4727\n",
      "Epoch 202/256\n",
      "32/32 [==============================] - 53s 2s/step - loss: 1.2841 - accuracy: 0.4414 - val_loss: 1.1851 - val_accuracy: 0.4805\n",
      "Epoch 203/256\n",
      "32/32 [==============================] - 54s 2s/step - loss: 1.2904 - accuracy: 0.4219 - val_loss: 1.1814 - val_accuracy: 0.4766\n",
      "Epoch 204/256\n",
      "32/32 [==============================] - 55s 2s/step - loss: 1.2585 - accuracy: 0.4180 - val_loss: 1.1811 - val_accuracy: 0.4766\n",
      "Epoch 205/256\n",
      "32/32 [==============================] - 53s 2s/step - loss: 1.2388 - accuracy: 0.4297 - val_loss: 1.1822 - val_accuracy: 0.4883\n",
      "Epoch 206/256\n",
      "32/32 [==============================] - 54s 2s/step - loss: 1.2367 - accuracy: 0.4648 - val_loss: 1.1800 - val_accuracy: 0.4961\n",
      "Epoch 207/256\n",
      "32/32 [==============================] - 54s 2s/step - loss: 1.2351 - accuracy: 0.4648 - val_loss: 1.1804 - val_accuracy: 0.4766\n",
      "Epoch 208/256\n",
      "32/32 [==============================] - 53s 2s/step - loss: 1.2389 - accuracy: 0.4531 - val_loss: 1.1811 - val_accuracy: 0.4844\n",
      "Epoch 209/256\n",
      "32/32 [==============================] - 58s 2s/step - loss: 1.2320 - accuracy: 0.4688 - val_loss: 1.1840 - val_accuracy: 0.4883\n",
      "Epoch 210/256\n",
      "32/32 [==============================] - 56s 2s/step - loss: 1.2768 - accuracy: 0.4766 - val_loss: 1.1803 - val_accuracy: 0.4844\n",
      "Epoch 211/256\n",
      "32/32 [==============================] - 56s 2s/step - loss: 1.2550 - accuracy: 0.4492 - val_loss: 1.1819 - val_accuracy: 0.4805\n",
      "Epoch 212/256\n",
      "32/32 [==============================] - 55s 2s/step - loss: 1.3097 - accuracy: 0.3906 - val_loss: 1.1802 - val_accuracy: 0.4961\n",
      "Epoch 213/256\n",
      "32/32 [==============================] - 55s 2s/step - loss: 1.2053 - accuracy: 0.4805 - val_loss: 1.1778 - val_accuracy: 0.4961\n",
      "Epoch 214/256\n",
      "32/32 [==============================] - 55s 2s/step - loss: 1.1963 - accuracy: 0.4961 - val_loss: 1.1752 - val_accuracy: 0.5000\n",
      "Epoch 215/256\n",
      "32/32 [==============================] - 55s 2s/step - loss: 1.2920 - accuracy: 0.4180 - val_loss: 1.1758 - val_accuracy: 0.4883\n",
      "Epoch 216/256\n",
      "32/32 [==============================] - 56s 2s/step - loss: 1.2258 - accuracy: 0.4062 - val_loss: 1.1790 - val_accuracy: 0.5039\n",
      "Epoch 217/256\n",
      "32/32 [==============================] - 56s 2s/step - loss: 1.2082 - accuracy: 0.4844 - val_loss: 1.1726 - val_accuracy: 0.4727\n",
      "Epoch 218/256\n",
      "32/32 [==============================] - 56s 2s/step - loss: 1.2219 - accuracy: 0.4492 - val_loss: 1.1717 - val_accuracy: 0.5039\n",
      "Epoch 219/256\n",
      "32/32 [==============================] - 55s 2s/step - loss: 1.2974 - accuracy: 0.4570 - val_loss: 1.1699 - val_accuracy: 0.5078\n",
      "Epoch 220/256\n",
      "32/32 [==============================] - 56s 2s/step - loss: 1.2683 - accuracy: 0.4414 - val_loss: 1.1763 - val_accuracy: 0.4844\n",
      "Epoch 221/256\n",
      "32/32 [==============================] - 56s 2s/step - loss: 1.1725 - accuracy: 0.4492 - val_loss: 1.1728 - val_accuracy: 0.4883\n",
      "Epoch 222/256\n",
      "32/32 [==============================] - 57s 2s/step - loss: 1.2571 - accuracy: 0.4297 - val_loss: 1.1682 - val_accuracy: 0.5117\n",
      "Epoch 223/256\n",
      "32/32 [==============================] - 55s 2s/step - loss: 1.3146 - accuracy: 0.4180 - val_loss: 1.1776 - val_accuracy: 0.4922\n",
      "Epoch 224/256\n",
      "32/32 [==============================] - 55s 2s/step - loss: 1.2828 - accuracy: 0.4375 - val_loss: 1.1728 - val_accuracy: 0.5000\n",
      "Epoch 225/256\n",
      "32/32 [==============================] - 56s 2s/step - loss: 1.2798 - accuracy: 0.4531 - val_loss: 1.1721 - val_accuracy: 0.5117\n",
      "Epoch 226/256\n",
      "32/32 [==============================] - 56s 2s/step - loss: 1.2500 - accuracy: 0.4258 - val_loss: 1.1706 - val_accuracy: 0.5078\n",
      "Epoch 227/256\n",
      "32/32 [==============================] - 56s 2s/step - loss: 1.2291 - accuracy: 0.4688 - val_loss: 1.1700 - val_accuracy: 0.5078\n",
      "Epoch 228/256\n",
      "32/32 [==============================] - 56s 2s/step - loss: 1.2431 - accuracy: 0.4102 - val_loss: 1.1692 - val_accuracy: 0.5039\n",
      "Epoch 229/256\n",
      "32/32 [==============================] - 56s 2s/step - loss: 1.2373 - accuracy: 0.4453 - val_loss: 1.1677 - val_accuracy: 0.4805\n",
      "Epoch 230/256\n"
     ]
    },
    {
     "name": "stdout",
     "output_type": "stream",
     "text": [
      "32/32 [==============================] - 56s 2s/step - loss: 1.3063 - accuracy: 0.4180 - val_loss: 1.1699 - val_accuracy: 0.4883\n",
      "Epoch 231/256\n",
      "32/32 [==============================] - 56s 2s/step - loss: 1.2585 - accuracy: 0.4375 - val_loss: 1.1735 - val_accuracy: 0.4961\n",
      "Epoch 232/256\n",
      "32/32 [==============================] - 56s 2s/step - loss: 1.2706 - accuracy: 0.4180 - val_loss: 1.1754 - val_accuracy: 0.5039\n",
      "Epoch 233/256\n",
      "32/32 [==============================] - 56s 2s/step - loss: 1.3189 - accuracy: 0.4062 - val_loss: 1.1809 - val_accuracy: 0.4922\n",
      "Epoch 234/256\n",
      "32/32 [==============================] - 56s 2s/step - loss: 1.2161 - accuracy: 0.4844 - val_loss: 1.1715 - val_accuracy: 0.4922\n",
      "Epoch 235/256\n",
      "32/32 [==============================] - 56s 2s/step - loss: 1.2703 - accuracy: 0.4375 - val_loss: 1.1716 - val_accuracy: 0.4922\n",
      "Epoch 236/256\n",
      "32/32 [==============================] - 56s 2s/step - loss: 1.3127 - accuracy: 0.3789 - val_loss: 1.1755 - val_accuracy: 0.4766\n",
      "Epoch 237/256\n",
      "32/32 [==============================] - 61s 2s/step - loss: 1.2122 - accuracy: 0.4570 - val_loss: 1.1711 - val_accuracy: 0.4727\n",
      "Epoch 238/256\n",
      "32/32 [==============================] - 55s 2s/step - loss: 1.2152 - accuracy: 0.4688 - val_loss: 1.1749 - val_accuracy: 0.4570\n",
      "Epoch 239/256\n",
      "32/32 [==============================] - 54s 2s/step - loss: 1.2070 - accuracy: 0.4883 - val_loss: 1.1822 - val_accuracy: 0.4766\n",
      "Epoch 240/256\n",
      "32/32 [==============================] - 56s 2s/step - loss: 1.1811 - accuracy: 0.4609 - val_loss: 1.1745 - val_accuracy: 0.4961\n",
      "Epoch 241/256\n",
      "32/32 [==============================] - 55s 2s/step - loss: 1.3148 - accuracy: 0.3984 - val_loss: 1.1703 - val_accuracy: 0.5039\n",
      "Epoch 242/256\n",
      "32/32 [==============================] - 53s 2s/step - loss: 1.2758 - accuracy: 0.4375 - val_loss: 1.1696 - val_accuracy: 0.5078\n",
      "Epoch 243/256\n",
      "32/32 [==============================] - 54s 2s/step - loss: 1.2689 - accuracy: 0.4336 - val_loss: 1.1707 - val_accuracy: 0.5039\n",
      "Epoch 244/256\n",
      "32/32 [==============================] - 53s 2s/step - loss: 1.3785 - accuracy: 0.3711 - val_loss: 1.1693 - val_accuracy: 0.5039\n",
      "Epoch 245/256\n",
      "32/32 [==============================] - 52s 2s/step - loss: 1.2269 - accuracy: 0.4727 - val_loss: 1.1690 - val_accuracy: 0.4727\n",
      "Epoch 246/256\n",
      "32/32 [==============================] - 51s 2s/step - loss: 1.2224 - accuracy: 0.4219 - val_loss: 1.1665 - val_accuracy: 0.4883\n",
      "Epoch 247/256\n",
      "32/32 [==============================] - 51s 2s/step - loss: 1.1515 - accuracy: 0.4688 - val_loss: 1.1669 - val_accuracy: 0.4961\n",
      "Epoch 248/256\n",
      "32/32 [==============================] - 51s 2s/step - loss: 1.2133 - accuracy: 0.4531 - val_loss: 1.1675 - val_accuracy: 0.5000\n",
      "Epoch 249/256\n",
      "32/32 [==============================] - 51s 2s/step - loss: 1.2536 - accuracy: 0.4258 - val_loss: 1.1676 - val_accuracy: 0.4922\n",
      "Epoch 250/256\n",
      "32/32 [==============================] - 51s 2s/step - loss: 1.2820 - accuracy: 0.4102 - val_loss: 1.1679 - val_accuracy: 0.4961\n",
      "Epoch 251/256\n",
      "32/32 [==============================] - 52s 2s/step - loss: 1.2249 - accuracy: 0.4844 - val_loss: 1.1688 - val_accuracy: 0.5117\n",
      "Epoch 252/256\n",
      "32/32 [==============================] - 51s 2s/step - loss: 1.2192 - accuracy: 0.4805 - val_loss: 1.1664 - val_accuracy: 0.4922\n",
      "Epoch 253/256\n",
      "32/32 [==============================] - 51s 2s/step - loss: 1.2413 - accuracy: 0.4531 - val_loss: 1.1685 - val_accuracy: 0.4727\n",
      "Epoch 254/256\n",
      "32/32 [==============================] - 51s 2s/step - loss: 1.3095 - accuracy: 0.4570 - val_loss: 1.1648 - val_accuracy: 0.4961\n",
      "Epoch 255/256\n",
      "32/32 [==============================] - 51s 2s/step - loss: 1.2923 - accuracy: 0.4023 - val_loss: 1.1638 - val_accuracy: 0.4961\n",
      "Epoch 256/256\n",
      "32/32 [==============================] - 51s 2s/step - loss: 1.1811 - accuracy: 0.4648 - val_loss: 1.1628 - val_accuracy: 0.5000\n"
     ]
    }
   ],
   "source": [
    "history = model.fit(\n",
    "    train_dataset,\n",
    "    shuffle=True,\n",
    "    epochs=epochs,\n",
    "    steps_per_epoch=steps_per_epoch,\n",
    "    validation_data=validation_dataset,\n",
    "    validation_steps=validation_steps,\n",
    "    callbacks=callbacks,\n",
    ")"
   ]
  },
  {
   "cell_type": "code",
   "execution_count": 18,
   "id": "b484b48f",
   "metadata": {
    "scrolled": true
   },
   "outputs": [
    {
     "name": "stdout",
     "output_type": "stream",
     "text": [
      "{'loss': [1.6883543729782104, 1.6090203523635864, 1.6079075336456299, 1.624314308166504, 1.6022192239761353, 1.60673189163208, 1.612849473953247, 1.5966720581054688, 1.5736130475997925, 1.5875170230865479, 1.573608160018921, 1.5939667224884033, 1.5844537019729614, 1.5726693868637085, 1.564321756362915, 1.5744268894195557, 1.579792857170105, 1.5631985664367676, 1.548126220703125, 1.5259095430374146, 1.538347601890564, 1.5422197580337524, 1.5271753072738647, 1.537987232208252, 1.4969943761825562, 1.530104637145996, 1.494370937347412, 1.480918526649475, 1.457119345664978, 1.475178837776184, 1.4813663959503174, 1.483278512954712, 1.4405059814453125, 1.500794529914856, 1.4630223512649536, 1.4775869846343994, 1.4870367050170898, 1.4256116151809692, 1.470260739326477, 1.4430228471755981, 1.4126503467559814, 1.4649475812911987, 1.4552243947982788, 1.3893605470657349, 1.412950873374939, 1.429192304611206, 1.405860424041748, 1.4099533557891846, 1.4640446901321411, 1.425313115119934, 1.3306068181991577, 1.3858097791671753, 1.4017670154571533, 1.3647007942199707, 1.380843162536621, 1.3789132833480835, 1.381348967552185, 1.3719449043273926, 1.3909956216812134, 1.346206784248352, 1.3983914852142334, 1.3439877033233643, 1.3572263717651367, 1.39839506149292, 1.3759065866470337, 1.3462169170379639, 1.330349087715149, 1.3888455629348755, 1.3523164987564087, 1.3026117086410522, 1.352868914604187, 1.3311922550201416, 1.2994810342788696, 1.3305304050445557, 1.3812702894210815, 1.3709018230438232, 1.3418166637420654, 1.3216497898101807, 1.3508737087249756, 1.3361601829528809, 1.3250998258590698, 1.3147872686386108, 1.293625831604004, 1.3300261497497559, 1.2925225496292114, 1.3020116090774536, 1.320492148399353, 1.2562839984893799, 1.3677177429199219, 1.3460907936096191, 1.3507556915283203, 1.366573452949524, 1.2716503143310547, 1.2866109609603882, 1.333701491355896, 1.2852054834365845, 1.327242136001587, 1.3245575428009033, 1.309291958808899, 1.3149349689483643, 1.2762277126312256, 1.2898494005203247, 1.3733423948287964, 1.3024295568466187, 1.2938708066940308, 1.3063092231750488, 1.2761378288269043, 1.2634375095367432, 1.3629027605056763, 1.2778595685958862, 1.3065690994262695, 1.2676701545715332, 1.305209755897522, 1.2959691286087036, 1.2744271755218506, 1.2521607875823975, 1.40419340133667, 1.245904803276062, 1.2686446905136108, 1.3068528175354004, 1.3007768392562866, 1.3276667594909668, 1.3139796257019043, 1.2568751573562622, 1.3192455768585205, 1.3682481050491333, 1.3182604312896729, 1.3149102926254272, 1.226563811302185, 1.247208833694458, 1.326659917831421, 1.2958590984344482, 1.2733573913574219, 1.3163020610809326, 1.2544838190078735, 1.2773394584655762, 1.2806662321090698, 1.2470954656600952, 1.317684292793274, 1.2884576320648193, 1.306675910949707, 1.289681077003479, 1.2701126337051392, 1.3805887699127197, 1.3317500352859497, 1.201554298400879, 1.2696983814239502, 1.2498362064361572, 1.307694911956787, 1.2499202489852905, 1.2799574136734009, 1.2759277820587158, 1.2512550354003906, 1.3132848739624023, 1.3076882362365723, 1.2603651285171509, 1.339867115020752, 1.1709129810333252, 1.3201048374176025, 1.277353048324585, 1.2016502618789673, 1.2562193870544434, 1.2433186769485474, 1.214957594871521, 1.3210095167160034, 1.2525418996810913, 1.2659549713134766, 1.3569287061691284, 1.2738778591156006, 1.2366979122161865, 1.278977632522583, 1.296513319015503, 1.2916619777679443, 1.3185244798660278, 1.3467037677764893, 1.296306848526001, 1.2625845670700073, 1.2931474447250366, 1.2405949831008911, 1.2563564777374268, 1.3144495487213135, 1.3120840787887573, 1.2174787521362305, 1.3106169700622559, 1.2878639698028564, 1.1576050519943237, 1.241405963897705, 1.2477335929870605, 1.3062388896942139, 1.2822166681289673, 1.288715124130249, 1.249639630317688, 1.2355023622512817, 1.2474361658096313, 1.25010085105896, 1.25883948802948, 1.239586591720581, 1.3828212022781372, 1.2483001947402954, 1.2881808280944824, 1.2423063516616821, 1.284088373184204, 1.290445327758789, 1.2584571838378906, 1.2387738227844238, 1.2366914749145508, 1.2351126670837402, 1.2389485836029053, 1.2319602966308594, 1.2768309116363525, 1.255042314529419, 1.3096643686294556, 1.2053375244140625, 1.1963468790054321, 1.2919782400131226, 1.2257640361785889, 1.2082425355911255, 1.2219210863113403, 1.2974077463150024, 1.2682980298995972, 1.1724563837051392, 1.257062554359436, 1.3145911693572998, 1.282777190208435, 1.279813528060913, 1.250010371208191, 1.2290939092636108, 1.2431212663650513, 1.2372748851776123, 1.3062903881072998, 1.258477807044983, 1.2706109285354614, 1.318920612335205, 1.216148853302002, 1.2702796459197998, 1.3127416372299194, 1.2122241258621216, 1.215211272239685, 1.2070151567459106, 1.181127905845642, 1.3148250579833984, 1.2758485078811646, 1.2688965797424316, 1.3785449266433716, 1.2268952131271362, 1.2224185466766357, 1.1515470743179321, 1.2133398056030273, 1.253636360168457, 1.282046914100647, 1.224913239479065, 1.219221830368042, 1.241323471069336, 1.3095053434371948, 1.2923309803009033, 1.181113839149475], 'accuracy': [0.19921875, 0.2734375, 0.2265625, 0.21484375, 0.26953125, 0.26171875, 0.25, 0.25390625, 0.30078125, 0.234375, 0.28515625, 0.3046875, 0.265625, 0.328125, 0.33203125, 0.2734375, 0.26171875, 0.27734375, 0.3203125, 0.37890625, 0.33203125, 0.34765625, 0.31640625, 0.30078125, 0.35546875, 0.30859375, 0.328125, 0.34765625, 0.39453125, 0.375, 0.35546875, 0.35546875, 0.37890625, 0.3359375, 0.375, 0.33984375, 0.359375, 0.4140625, 0.30859375, 0.34765625, 0.35546875, 0.34375, 0.3671875, 0.390625, 0.39453125, 0.34765625, 0.3984375, 0.40625, 0.30078125, 0.36328125, 0.44921875, 0.41015625, 0.39453125, 0.40625, 0.3984375, 0.3828125, 0.3828125, 0.39453125, 0.41015625, 0.40625, 0.37890625, 0.42578125, 0.390625, 0.3828125, 0.38671875, 0.4140625, 0.44140625, 0.35546875, 0.33203125, 0.41796875, 0.38671875, 0.42578125, 0.43359375, 0.421875, 0.34765625, 0.39453125, 0.3984375, 0.4140625, 0.390625, 0.44921875, 0.43359375, 0.4453125, 0.44921875, 0.41015625, 0.4375, 0.390625, 0.40234375, 0.46484375, 0.41015625, 0.40625, 0.41015625, 0.36328125, 0.4609375, 0.4140625, 0.4453125, 0.46484375, 0.42578125, 0.43359375, 0.4921875, 0.37890625, 0.4375, 0.4296875, 0.390625, 0.40234375, 0.42578125, 0.38671875, 0.4296875, 0.46484375, 0.375, 0.4609375, 0.41796875, 0.4609375, 0.45703125, 0.421875, 0.453125, 0.43359375, 0.3984375, 0.46484375, 0.4296875, 0.4453125, 0.42578125, 0.4375, 0.421875, 0.4140625, 0.359375, 0.40625, 0.41796875, 0.41015625, 0.484375, 0.4375, 0.3984375, 0.41796875, 0.41015625, 0.40234375, 0.46484375, 0.4453125, 0.42578125, 0.46484375, 0.38671875, 0.4375, 0.44921875, 0.44921875, 0.4140625, 0.36328125, 0.34765625, 0.44921875, 0.4375, 0.4609375, 0.46875, 0.46484375, 0.40625, 0.44140625, 0.453125, 0.4140625, 0.41796875, 0.484375, 0.43359375, 0.46484375, 0.390625, 0.421875, 0.4765625, 0.42578125, 0.4921875, 0.453125, 0.4375, 0.43359375, 0.46484375, 0.359375, 0.43359375, 0.46875, 0.41796875, 0.40625, 0.44140625, 0.421875, 0.40625, 0.46875, 0.43359375, 0.4375, 0.4765625, 0.453125, 0.41015625, 0.44921875, 0.41796875, 0.3515625, 0.4375, 0.48046875, 0.48046875, 0.44921875, 0.3984375, 0.45703125, 0.453125, 0.4453125, 0.4609375, 0.45703125, 0.484375, 0.48046875, 0.45703125, 0.40625, 0.4453125, 0.41796875, 0.48046875, 0.44140625, 0.421875, 0.41796875, 0.4296875, 0.46484375, 0.46484375, 0.453125, 0.46875, 0.4765625, 0.44921875, 0.390625, 0.48046875, 0.49609375, 0.41796875, 0.40625, 0.484375, 0.44921875, 0.45703125, 0.44140625, 0.44921875, 0.4296875, 0.41796875, 0.4375, 0.453125, 0.42578125, 0.46875, 0.41015625, 0.4453125, 0.41796875, 0.4375, 0.41796875, 0.40625, 0.484375, 0.4375, 0.37890625, 0.45703125, 0.46875, 0.48828125, 0.4609375, 0.3984375, 0.4375, 0.43359375, 0.37109375, 0.47265625, 0.421875, 0.46875, 0.453125, 0.42578125, 0.41015625, 0.484375, 0.48046875, 0.453125, 0.45703125, 0.40234375, 0.46484375], 'val_loss': [1.6191788911819458, 1.60867178440094, 1.6009551286697388, 1.595236897468567, 1.5909819602966309, 1.58782160282135, 1.5825694799423218, 1.5787005424499512, 1.5768790245056152, 1.57232666015625, 1.5701885223388672, 1.563860535621643, 1.556990385055542, 1.551203966140747, 1.545928716659546, 1.5415185689926147, 1.5374698638916016, 1.532714605331421, 1.524253010749817, 1.5190105438232422, 1.5145668983459473, 1.5093532800674438, 1.5050252676010132, 1.5010312795639038, 1.490766167640686, 1.4859402179718018, 1.4821853637695312, 1.4768881797790527, 1.4711577892303467, 1.4656131267547607, 1.4530210494995117, 1.4467229843139648, 1.4427893161773682, 1.4371620416641235, 1.4319239854812622, 1.4267364740371704, 1.4253026247024536, 1.4156819581985474, 1.4128820896148682, 1.4099231958389282, 1.40595281124115, 1.3988667726516724, 1.396418571472168, 1.3881711959838867, 1.3800605535507202, 1.3805890083312988, 1.3719284534454346, 1.3658390045166016, 1.3646214008331299, 1.3591527938842773, 1.3545897006988525, 1.348253846168518, 1.3459638357162476, 1.3432408571243286, 1.3365137577056885, 1.3323724269866943, 1.3278484344482422, 1.3224878311157227, 1.3209346532821655, 1.3215872049331665, 1.3155064582824707, 1.3139777183532715, 1.3063507080078125, 1.3038465976715088, 1.3035123348236084, 1.2999560832977295, 1.2994439601898193, 1.2962594032287598, 1.297115683555603, 1.2942135334014893, 1.2946677207946777, 1.2863998413085938, 1.279151201248169, 1.2775321006774902, 1.2773568630218506, 1.278253197669983, 1.2808958292007446, 1.27433180809021, 1.2731049060821533, 1.2829453945159912, 1.2681400775909424, 1.2624444961547852, 1.261558175086975, 1.2585848569869995, 1.2576526403427124, 1.257109522819519, 1.2572156190872192, 1.2521427869796753, 1.2541048526763916, 1.2523425817489624, 1.2507456541061401, 1.2522485256195068, 1.249230980873108, 1.2422033548355103, 1.2446521520614624, 1.2408660650253296, 1.2406104803085327, 1.241667628288269, 1.2404590845108032, 1.2388429641723633, 1.2357215881347656, 1.2433528900146484, 1.2349865436553955, 1.2328304052352905, 1.2427442073822021, 1.2305079698562622, 1.232683539390564, 1.2381446361541748, 1.2340857982635498, 1.23261559009552, 1.2339192628860474, 1.2285242080688477, 1.2238855361938477, 1.225345253944397, 1.222351312637329, 1.2216603755950928, 1.222089409828186, 1.2210177183151245, 1.2192846536636353, 1.2206141948699951, 1.2188143730163574, 1.219236135482788, 1.2237663269042969, 1.2181885242462158, 1.2172820568084717, 1.2147630453109741, 1.2263011932373047, 1.217115879058838, 1.2197513580322266, 1.2146250009536743, 1.2093818187713623, 1.2088546752929688, 1.206872820854187, 1.2053172588348389, 1.2131022214889526, 1.209578275680542, 1.207803726196289, 1.208381175994873, 1.2042384147644043, 1.2066015005111694, 1.2085163593292236, 1.2083017826080322, 1.206225037574768, 1.2108572721481323, 1.2151950597763062, 1.2099708318710327, 1.2089908123016357, 1.2067193984985352, 1.2057771682739258, 1.2184406518936157, 1.2073006629943848, 1.208038091659546, 1.2054742574691772, 1.2043355703353882, 1.2058266401290894, 1.209596037864685, 1.2018342018127441, 1.1976007223129272, 1.198516607284546, 1.2026431560516357, 1.2025851011276245, 1.1968189477920532, 1.2016093730926514, 1.1977190971374512, 1.2073125839233398, 1.197618842124939, 1.1971856355667114, 1.2003287076950073, 1.2028963565826416, 1.1974762678146362, 1.1991474628448486, 1.1973001956939697, 1.1969852447509766, 1.1973081827163696, 1.202719807624817, 1.195990800857544, 1.1948131322860718, 1.1940922737121582, 1.193690299987793, 1.1945422887802124, 1.1937166452407837, 1.1943057775497437, 1.189666509628296, 1.1930522918701172, 1.1929537057876587, 1.1898763179779053, 1.1955057382583618, 1.1865155696868896, 1.1901524066925049, 1.1878377199172974, 1.185826301574707, 1.1848667860031128, 1.182923674583435, 1.181753158569336, 1.1838548183441162, 1.1862293481826782, 1.1859290599822998, 1.1813775300979614, 1.1821471452713013, 1.1833149194717407, 1.1813671588897705, 1.1851222515106201, 1.1813576221466064, 1.1811443567276, 1.1821553707122803, 1.1799778938293457, 1.180387020111084, 1.1811045408248901, 1.1840410232543945, 1.1802830696105957, 1.1819230318069458, 1.180174469947815, 1.177790641784668, 1.1752046346664429, 1.1758122444152832, 1.1790214776992798, 1.172634482383728, 1.1716651916503906, 1.16993248462677, 1.1762715578079224, 1.1727745532989502, 1.1681572198867798, 1.1776031255722046, 1.1727566719055176, 1.1720695495605469, 1.1706441640853882, 1.1699607372283936, 1.1691794395446777, 1.1676967144012451, 1.1698875427246094, 1.1735365390777588, 1.1753959655761719, 1.1808555126190186, 1.1715450286865234, 1.1716396808624268, 1.1755143404006958, 1.1711159944534302, 1.1748512983322144, 1.1822140216827393, 1.174461841583252, 1.170293927192688, 1.1696265935897827, 1.170658826828003, 1.169257402420044, 1.1689951419830322, 1.166541337966919, 1.1669023036956787, 1.167527675628662, 1.1675986051559448, 1.1678659915924072, 1.1687521934509277, 1.1663649082183838, 1.1685453653335571, 1.1647980213165283, 1.1637561321258545, 1.1628268957138062], 'val_accuracy': [0.1953125, 0.23046875, 0.23046875, 0.23046875, 0.2421875, 0.25, 0.25, 0.2890625, 0.26953125, 0.26953125, 0.2890625, 0.2890625, 0.33203125, 0.3046875, 0.328125, 0.328125, 0.33203125, 0.3203125, 0.3359375, 0.34765625, 0.36328125, 0.35546875, 0.3515625, 0.34765625, 0.3515625, 0.34375, 0.3125, 0.328125, 0.33984375, 0.34375, 0.36328125, 0.3515625, 0.35546875, 0.34375, 0.36328125, 0.38671875, 0.37890625, 0.35546875, 0.359375, 0.3359375, 0.328125, 0.3515625, 0.375, 0.3828125, 0.3828125, 0.375, 0.37109375, 0.3828125, 0.375, 0.3671875, 0.3671875, 0.359375, 0.37890625, 0.3671875, 0.37890625, 0.38671875, 0.3671875, 0.3984375, 0.390625, 0.3984375, 0.390625, 0.41796875, 0.39453125, 0.3984375, 0.39453125, 0.39453125, 0.40625, 0.40234375, 0.421875, 0.43359375, 0.41796875, 0.4296875, 0.4140625, 0.40625, 0.3984375, 0.40234375, 0.41015625, 0.42578125, 0.40625, 0.44140625, 0.41796875, 0.42578125, 0.43359375, 0.42578125, 0.4140625, 0.43359375, 0.44140625, 0.4296875, 0.44921875, 0.4296875, 0.42578125, 0.4375, 0.4375, 0.44921875, 0.44921875, 0.44140625, 0.4375, 0.4375, 0.4296875, 0.421875, 0.41796875, 0.4140625, 0.421875, 0.4375, 0.46875, 0.4375, 0.41796875, 0.41796875, 0.41015625, 0.421875, 0.4296875, 0.43359375, 0.44921875, 0.4453125, 0.44921875, 0.453125, 0.47265625, 0.453125, 0.4609375, 0.45703125, 0.4375, 0.4140625, 0.4375, 0.45703125, 0.46875, 0.453125, 0.4453125, 0.4453125, 0.44140625, 0.44921875, 0.46484375, 0.45703125, 0.453125, 0.46875, 0.4609375, 0.44140625, 0.44921875, 0.45703125, 0.46875, 0.4765625, 0.4609375, 0.4609375, 0.4609375, 0.46484375, 0.45703125, 0.484375, 0.49609375, 0.5, 0.4921875, 0.453125, 0.48046875, 0.46484375, 0.47265625, 0.453125, 0.4609375, 0.4765625, 0.46484375, 0.48046875, 0.46875, 0.47265625, 0.44921875, 0.46875, 0.48046875, 0.45703125, 0.46484375, 0.4609375, 0.4609375, 0.484375, 0.49609375, 0.484375, 0.48828125, 0.46875, 0.48828125, 0.51171875, 0.50390625, 0.50390625, 0.48046875, 0.50390625, 0.48046875, 0.48828125, 0.4765625, 0.484375, 0.46875, 0.46875, 0.5, 0.4921875, 0.4765625, 0.47265625, 0.48828125, 0.484375, 0.48046875, 0.47265625, 0.46484375, 0.45703125, 0.46484375, 0.47265625, 0.48046875, 0.4765625, 0.48046875, 0.48046875, 0.47265625, 0.48046875, 0.4765625, 0.4765625, 0.48828125, 0.49609375, 0.4765625, 0.484375, 0.48828125, 0.484375, 0.48046875, 0.49609375, 0.49609375, 0.5, 0.48828125, 0.50390625, 0.47265625, 0.50390625, 0.5078125, 0.484375, 0.48828125, 0.51171875, 0.4921875, 0.5, 0.51171875, 0.5078125, 0.5078125, 0.50390625, 0.48046875, 0.48828125, 0.49609375, 0.50390625, 0.4921875, 0.4921875, 0.4921875, 0.4765625, 0.47265625, 0.45703125, 0.4765625, 0.49609375, 0.50390625, 0.5078125, 0.50390625, 0.50390625, 0.47265625, 0.48828125, 0.49609375, 0.5, 0.4921875, 0.49609375, 0.51171875, 0.4921875, 0.47265625, 0.49609375, 0.49609375, 0.5]}\n"
     ]
    }
   ],
   "source": [
    "print(history.history)"
   ]
  },
  {
   "cell_type": "code",
   "execution_count": 19,
   "id": "94dfd7bf",
   "metadata": {},
   "outputs": [],
   "source": [
    "import pandas as pd\n",
    "import numpy as np\n",
    "\n",
    "from transformers import DistilBertTokenizer\n",
    "\n",
    "tokenizer = DistilBertTokenizer.from_pretrained('distilbert-base-uncased')\n",
    "\n",
    "def predict(text):\n",
    "    encode_plus_tokens = tokenizer.encode_plus(\n",
    "                            text,\n",
    "                            pad_to_max_length=True,\n",
    "                            max_length=max_seq_length,\n",
    "                            truncation=True,\n",
    "                            return_tensors='tf')\n",
    "    \n",
    "    input_ids = encode_plus_tokens['input_ids']\n",
    "    input_mask = encode_plus_tokens['attention_mask']\n",
    "    \n",
    "    outputs = model.predict(x=(input_ids,input_mask))\n",
    "    \n",
    "    prediction = [{\"label\":config.id2label[item.argmax()], \\\n",
    "                   \"socre\":item.max().item()} for item in outputs]\n",
    "\n",
    "    return prediction[0]"
   ]
  },
  {
   "cell_type": "code",
   "execution_count": 20,
   "id": "c20cb381",
   "metadata": {},
   "outputs": [],
   "source": [
    "# Adhoc predict"
   ]
  },
  {
   "cell_type": "code",
   "execution_count": 21,
   "id": "97132b6e",
   "metadata": {
    "scrolled": true
   },
   "outputs": [
    {
     "name": "stderr",
     "output_type": "stream",
     "text": [
      "/usr/local/lib/python3.10/dist-packages/transformers/tokenization_utils_base.py:2618: FutureWarning: The `pad_to_max_length` argument is deprecated and will be removed in a future version, use `padding=True` or `padding='longest'` to pad to the longest sequence in the batch, or use `padding='max_length'` to pad to a max length. In this case, you can give a specific length with `max_length` (e.g. `max_length=45`) or leave max_length to None to pad to the maximal input size of the model (e.g. 512 for Bert).\n",
      "  warnings.warn(\n"
     ]
    },
    {
     "name": "stdout",
     "output_type": "stream",
     "text": [
      "1/1 [==============================] - 2s 2s/step\n"
     ]
    },
    {
     "data": {
      "text/plain": [
       "{'label': 5, 'socre': 0.8051944375038147}"
      ]
     },
     "execution_count": 21,
     "metadata": {},
     "output_type": "execute_result"
    }
   ],
   "source": [
    "predict(\"This is great!\")"
   ]
  },
  {
   "cell_type": "code",
   "execution_count": 22,
   "id": "eff5e8c7",
   "metadata": {},
   "outputs": [
    {
     "name": "stdout",
     "output_type": "stream",
     "text": [
      "1/1 [==============================] - 0s 159ms/step\n"
     ]
    },
    {
     "data": {
      "text/plain": [
       "{'label': 5, 'socre': 0.43080174922943115}"
      ]
     },
     "execution_count": 22,
     "metadata": {},
     "output_type": "execute_result"
    }
   ],
   "source": [
    "predict(\"This is cool.\")"
   ]
  },
  {
   "cell_type": "code",
   "execution_count": 23,
   "id": "233039e2",
   "metadata": {},
   "outputs": [
    {
     "name": "stdout",
     "output_type": "stream",
     "text": [
      "1/1 [==============================] - 0s 172ms/step\n"
     ]
    },
    {
     "data": {
      "text/plain": [
       "{'label': 1, 'socre': 0.45273786783218384}"
      ]
     },
     "execution_count": 23,
     "metadata": {},
     "output_type": "execute_result"
    }
   ],
   "source": [
    "predict(\"I don't like this.\")"
   ]
  },
  {
   "cell_type": "code",
   "execution_count": 24,
   "id": "f40ea7bb",
   "metadata": {},
   "outputs": [
    {
     "name": "stdout",
     "output_type": "stream",
     "text": [
      "1/1 [==============================] - 0s 122ms/step\n"
     ]
    },
    {
     "data": {
      "text/plain": [
       "{'label': 3, 'socre': 0.3263733983039856}"
      ]
     },
     "execution_count": 24,
     "metadata": {},
     "output_type": "execute_result"
    }
   ],
   "source": [
    "predict(\"I might buy it again.\")"
   ]
  },
  {
   "cell_type": "code",
   "execution_count": 25,
   "id": "ede03f87",
   "metadata": {},
   "outputs": [
    {
     "name": "stdout",
     "output_type": "stream",
     "text": [
      "1/1 [==============================] - 0s 120ms/step\n"
     ]
    },
    {
     "data": {
      "text/plain": [
       "{'label': 3, 'socre': 0.394609659910202}"
      ]
     },
     "execution_count": 25,
     "metadata": {},
     "output_type": "execute_result"
    }
   ],
   "source": [
    "predict(\"The color is a little bit different from the picture. But it is OK.\")"
   ]
  },
  {
   "cell_type": "code",
   "execution_count": 26,
   "id": "e78f1209",
   "metadata": {},
   "outputs": [],
   "source": [
    "def plot_accracy(history):\n",
    "    import matplotlib.pyplot as plt\n",
    "\n",
    "    # Setting Parameters\n",
    "    acc = history.history['accuracy']\n",
    "    val_acc = history.history['val_accuracy']\n",
    "    loss = history.history['loss']\n",
    "    val_loss = history.history['val_loss']\n",
    "\n",
    "    epochs = range(len(acc))\n",
    "\n",
    "    # 1) Accracy Plt\n",
    "    plt.plot(epochs, acc, 'bo' ,label = 'training accuracy')\n",
    "    plt.plot(epochs, val_acc, 'b' , label= 'validation accuracy')\n",
    "    plt.title('Training and Validation acc')\n",
    "    plt.legend()\n",
    "\n",
    "    plt.figure()\n",
    "\n",
    "    # 2) Loss Plt\n",
    "    plt.plot(epochs, loss, 'bo' ,label = 'training loss')\n",
    "    plt.plot(epochs, val_loss, 'b' , label= 'validation loss')\n",
    "    plt.title('Training and Validation loss')\n",
    "    plt.legend()\n",
    "\n",
    "    plt.show()"
   ]
  },
  {
   "cell_type": "code",
   "execution_count": 27,
   "id": "b315f516",
   "metadata": {},
   "outputs": [
    {
     "data": {
      "image/png": "[encoded data removed]",
      "text/plain": [
       "<Figure size 640x480 with 1 Axes>"
      ]
     },
     "metadata": {},
     "output_type": "display_data"
    },
    {
     "data": {
      "image/png": "[encoded data removed]",
      "text/plain": [
       "<Figure size 640x480 with 1 Axes>"
      ]
     },
     "metadata": {},
     "output_type": "display_data"
    }
   ],
   "source": [
    "from keras import models \n",
    "from keras import layers\n",
    "from keras import optimizers\n",
    "\n",
    "#show Accuracy and Loss History\n",
    "#「loss」と「val_loss」の違いですが、「loss」は学習時のlossの値で、正解と予測の差分です。この値を少なくするように学習を進めます。\n",
    "#「val_loss」は検証用データでlossを計算した値です。\n",
    "# モデルは「loss」の値を少なくするように学習データを使用して学習を進めます。ただし学習データのみを使用して学習するため、学習データのみ \n",
    "# にあてはまり新たなデータでうまく予測できなくなる、いわゆるオーバーフィッティング状態になることがあります。\n",
    "# グラフ上では「loss」が下がっていくのに「val_loss」が上がってしまう状態です。\n",
    "plot_accracy(history)"
   ]
  },
  {
   "cell_type": "code",
   "execution_count": 28,
   "id": "c8243159",
   "metadata": {},
   "outputs": [
    {
     "name": "stdout",
     "output_type": "stream",
     "text": [
      "WARNING:tensorflow:Skipping full serialization of Keras layer <keras.src.layers.regularization.dropout.Dropout object at 0x7f72fe47b8e0>, because it is not built.\n",
      "WARNING:tensorflow:Skipping full serialization of Keras layer <keras.src.layers.regularization.dropout.Dropout object at 0x7f72f6350400>, because it is not built.\n",
      "WARNING:tensorflow:Skipping full serialization of Keras layer <keras.src.layers.regularization.dropout.Dropout object at 0x7f72d515c9a0>, because it is not built.\n",
      "WARNING:tensorflow:Skipping full serialization of Keras layer <keras.src.layers.regularization.dropout.Dropout object at 0x7f72d515f4c0>, because it is not built.\n",
      "WARNING:tensorflow:Skipping full serialization of Keras layer <keras.src.layers.regularization.dropout.Dropout object at 0x7f72d516e020>, because it is not built.\n",
      "WARNING:tensorflow:Skipping full serialization of Keras layer <keras.src.layers.regularization.dropout.Dropout object at 0x7f72d5180b80>, because it is not built.\n",
      "INFO:tensorflow:Assets written to: /mnt/tensorflow_small/assets\n"
     ]
    },
    {
     "name": "stderr",
     "output_type": "stream",
     "text": [
      "INFO:tensorflow:Assets written to: /mnt/tensorflow_small/assets\n"
     ]
    }
   ],
   "source": [
    "model.save('/mnt/tensorflow_small/',save_format='tf')"
   ]
  },
  {
   "cell_type": "code",
   "execution_count": 29,
   "id": "ef5ddca1",
   "metadata": {},
   "outputs": [
    {
     "name": "stdout",
     "output_type": "stream",
     "text": [
      "assets\tfingerprint.pb\tkeras_metadata.pb  saved_model.pb  variables\r\n"
     ]
    }
   ],
   "source": [
    "!ls /mnt/tensorflow_small"
   ]
  },
  {
   "cell_type": "code",
   "execution_count": null,
   "id": "54fc5758",
   "metadata": {},
   "outputs": [],
   "source": [
    "%%html\n",
    "\n",
    "<p><b>Shutting down your kernel for this notebook to release resources.</b></p>\n",
    "<button class=\"sm-command-button\" data-commandlinker-command=\"kernelmenu:shutdown\" style=\"display:none;\">Shutdown Kernel</button>\n",
    "        \n",
    "<script>\n",
    "try {\n",
    "    els = document.getElementsByClassName(\"sm-command-button\");\n",
    "    els[0].click();\n",
    "}\n",
    "catch(err) {\n",
    "    // NoOp\n",
    "}    \n",
    "</script>"
   ]
  },
  {
   "cell_type": "code",
   "execution_count": null,
   "id": "6f76135e",
   "metadata": {},
   "outputs": [],
   "source": []
  }
 ],
 "metadata": {
  "kernelspec": {
   "display_name": "Python 3 (ipykernel)",
   "language": "python",
   "name": "python3"
  },
  "language_info": {
   "codemirror_mode": {
    "name": "ipython",
    "version": 3
   },
   "file_extension": ".py",
   "mimetype": "text/x-python",
   "name": "python",
   "nbconvert_exporter": "python",
   "pygments_lexer": "ipython3",
   "version": "3.10.12"
  }
 },
 "nbformat": 4,
 "nbformat_minor": 5
}
