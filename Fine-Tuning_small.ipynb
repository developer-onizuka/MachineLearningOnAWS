{
 "cells": [
  {
   "cell_type": "code",
   "execution_count": 1,
   "id": "090cb7bb",
   "metadata": {
    "scrolled": true
   },
   "outputs": [
    {
     "name": "stdout",
     "output_type": "stream",
     "text": [
      "Requirement already satisfied: transformers in /usr/local/lib/python3.10/dist-packages (4.36.2)\n",
      "Requirement already satisfied: filelock in /usr/local/lib/python3.10/dist-packages (from transformers) (3.13.1)\n",
      "Requirement already satisfied: huggingface-hub<1.0,>=0.19.3 in /usr/local/lib/python3.10/dist-packages (from transformers) (0.20.2)\n",
      "Requirement already satisfied: numpy>=1.17 in /usr/local/lib/python3.10/dist-packages (from transformers) (1.24.4)\n",
      "Requirement already satisfied: packaging>=20.0 in /usr/local/lib/python3.10/dist-packages (from transformers) (23.2)\n",
      "Requirement already satisfied: pyyaml>=5.1 in /usr/local/lib/python3.10/dist-packages (from transformers) (6.0.1)\n",
      "Requirement already satisfied: regex!=2019.12.17 in /usr/local/lib/python3.10/dist-packages (from transformers) (2023.12.25)\n",
      "Requirement already satisfied: requests in /usr/local/lib/python3.10/dist-packages (from transformers) (2.31.0)\n",
      "Requirement already satisfied: tokenizers<0.19,>=0.14 in /usr/local/lib/python3.10/dist-packages (from transformers) (0.15.0)\n",
      "Requirement already satisfied: safetensors>=0.3.1 in /usr/local/lib/python3.10/dist-packages (from transformers) (0.4.1)\n",
      "Requirement already satisfied: tqdm>=4.27 in /usr/local/lib/python3.10/dist-packages (from transformers) (4.66.1)\n",
      "Requirement already satisfied: fsspec>=2023.5.0 in /usr/local/lib/python3.10/dist-packages (from huggingface-hub<1.0,>=0.19.3->transformers) (2023.12.0)\n",
      "Requirement already satisfied: typing-extensions>=3.7.4.3 in /usr/local/lib/python3.10/dist-packages (from huggingface-hub<1.0,>=0.19.3->transformers) (4.8.0)\n",
      "Requirement already satisfied: charset-normalizer<4,>=2 in /usr/local/lib/python3.10/dist-packages (from requests->transformers) (3.3.2)\n",
      "Requirement already satisfied: idna<4,>=2.5 in /usr/local/lib/python3.10/dist-packages (from requests->transformers) (3.6)\n",
      "Requirement already satisfied: urllib3<3,>=1.21.1 in /usr/local/lib/python3.10/dist-packages (from requests->transformers) (1.26.18)\n",
      "Requirement already satisfied: certifi>=2017.4.17 in /usr/local/lib/python3.10/dist-packages (from requests->transformers) (2023.11.17)\n",
      "\u001b[33mWARNING: Running pip as the 'root' user can result in broken permissions and conflicting behaviour with the system package manager. It is recommended to use a virtual environment instead: https://pip.pypa.io/warnings/venv\u001b[0m\u001b[33m\n",
      "\u001b[0m"
     ]
    }
   ],
   "source": [
    "!pip install transformers"
   ]
  },
  {
   "cell_type": "code",
   "execution_count": 2,
   "id": "58c0c8fc",
   "metadata": {
    "scrolled": true
   },
   "outputs": [
    {
     "name": "stdout",
     "output_type": "stream",
     "text": [
      "Found existing installation: matplotlib 3.7.3\n",
      "Uninstalling matplotlib-3.7.3:\n",
      "  Successfully uninstalled matplotlib-3.7.3\n",
      "\u001b[33mWARNING: Running pip as the 'root' user can result in broken permissions and conflicting behaviour with the system package manager. It is recommended to use a virtual environment instead: https://pip.pypa.io/warnings/venv\u001b[0m\u001b[33m\n",
      "\u001b[0mCollecting matplotlib==3.7.3\n",
      "  Using cached matplotlib-3.7.3-cp310-cp310-manylinux_2_17_x86_64.manylinux2014_x86_64.whl.metadata (5.7 kB)\n",
      "Requirement already satisfied: contourpy>=1.0.1 in /usr/local/lib/python3.10/dist-packages (from matplotlib==3.7.3) (1.2.0)\n",
      "Requirement already satisfied: cycler>=0.10 in /usr/local/lib/python3.10/dist-packages (from matplotlib==3.7.3) (0.12.1)\n",
      "Requirement already satisfied: fonttools>=4.22.0 in /usr/local/lib/python3.10/dist-packages (from matplotlib==3.7.3) (4.47.2)\n",
      "Requirement already satisfied: kiwisolver>=1.0.1 in /usr/local/lib/python3.10/dist-packages (from matplotlib==3.7.3) (1.4.5)\n",
      "Requirement already satisfied: numpy<2,>=1.20 in /usr/local/lib/python3.10/dist-packages (from matplotlib==3.7.3) (1.24.4)\n",
      "Requirement already satisfied: packaging>=20.0 in /usr/local/lib/python3.10/dist-packages (from matplotlib==3.7.3) (23.2)\n",
      "Requirement already satisfied: pillow>=6.2.0 in /usr/local/lib/python3.10/dist-packages (from matplotlib==3.7.3) (10.1.0)\n",
      "Requirement already satisfied: pyparsing>=2.3.1 in /usr/local/lib/python3.10/dist-packages (from matplotlib==3.7.3) (3.1.1)\n",
      "Requirement already satisfied: python-dateutil>=2.7 in /usr/local/lib/python3.10/dist-packages (from matplotlib==3.7.3) (2.8.2)\n",
      "Requirement already satisfied: six>=1.5 in /usr/local/lib/python3.10/dist-packages (from python-dateutil>=2.7->matplotlib==3.7.3) (1.16.0)\n",
      "Using cached matplotlib-3.7.3-cp310-cp310-manylinux_2_17_x86_64.manylinux2014_x86_64.whl (11.6 MB)\n",
      "Installing collected packages: matplotlib\n",
      "Successfully installed matplotlib-3.7.3\n",
      "\u001b[33mWARNING: Running pip as the 'root' user can result in broken permissions and conflicting behaviour with the system package manager. It is recommended to use a virtual environment instead: https://pip.pypa.io/warnings/venv\u001b[0m\u001b[33m\n",
      "\u001b[0m"
     ]
    }
   ],
   "source": [
    "!pip uninstall -y matplotlib\n",
    "!pip install matplotlib==3.7.3"
   ]
  },
  {
   "cell_type": "code",
   "execution_count": 3,
   "id": "82e6f70d",
   "metadata": {},
   "outputs": [
    {
     "name": "stderr",
     "output_type": "stream",
     "text": [
      "2024-01-15 23:26:03.433382: E tensorflow/compiler/xla/stream_executor/cuda/cuda_dnn.cc:9360] Unable to register cuDNN factory: Attempting to register factory for plugin cuDNN when one has already been registered\n",
      "2024-01-15 23:26:03.433445: E tensorflow/compiler/xla/stream_executor/cuda/cuda_fft.cc:609] Unable to register cuFFT factory: Attempting to register factory for plugin cuFFT when one has already been registered\n",
      "2024-01-15 23:26:03.433475: E tensorflow/compiler/xla/stream_executor/cuda/cuda_blas.cc:1537] Unable to register cuBLAS factory: Attempting to register factory for plugin cuBLAS when one has already been registered\n",
      "2024-01-15 23:26:03.441403: I tensorflow/core/platform/cpu_feature_guard.cc:183] This TensorFlow binary is optimized to use available CPU instructions in performance-critical operations.\n",
      "To enable the following instructions: SSE3 SSE4.1 SSE4.2 AVX, in other operations, rebuild TensorFlow with the appropriate compiler flags.\n"
     ]
    }
   ],
   "source": [
    "import time\n",
    "import random\n",
    "import pandas as pd\n",
    "from glob import glob\n",
    "import argparse\n",
    "import json\n",
    "import subprocess\n",
    "import sys\n",
    "import os\n",
    "import tensorflow as tf\n",
    "from transformers import DistilBertTokenizer\n",
    "from transformers import TFDistilBertForSequenceClassification\n",
    "from transformers import DistilBertConfig"
   ]
  },
  {
   "cell_type": "code",
   "execution_count": null,
   "id": "775776f4",
   "metadata": {},
   "outputs": [],
   "source": [
    "# Define the connection between Input data and Label"
   ]
  },
  {
   "cell_type": "code",
   "execution_count": 4,
   "id": "a61eed2f",
   "metadata": {},
   "outputs": [],
   "source": [
    "def select_data_and_label_from_record(record):\n",
    "    x = {\n",
    "        \"input_ids\": record[\"input_ids\"],\n",
    "        \"input_mask\": record[\"input_mask\"],\n",
    "    }\n",
    "    y = record[\"label_ids\"]\n",
    "\n",
    "    return (x, y)"
   ]
  },
  {
   "cell_type": "code",
   "execution_count": 5,
   "id": "6545c673",
   "metadata": {},
   "outputs": [],
   "source": [
    "def file_based_input_dataset_builder(channel, input_filenames, max_seq_length, is_training, drop_remainder):\n",
    "    # トレーニング時には並列読み出しとシャッフルを行う。\n",
    "    # 評価時にはシャッフルは行わず、並列読み出しは効果がない。\n",
    "\n",
    "    dataset = tf.data.TFRecordDataset(input_filenames)\n",
    "    dataset = dataset.repeat(100)\n",
    "    dataset = dataset.prefetch(tf.data.experimental.AUTOTUNE)\n",
    "\n",
    "    name_to_features = {\n",
    "        \"input_ids\": tf.io.FixedLenFeature([max_seq_length], tf.int64),\n",
    "        \"input_mask\": tf.io.FixedLenFeature([max_seq_length], tf.int64),\n",
    "        \"label_ids\": tf.io.FixedLenFeature([], tf.int64),\n",
    "    }\n",
    "\n",
    "    def _decode_record(record, name_to_features):\n",
    "        \"\"\"Decodes a record to a TensorFlow example.\"\"\"\n",
    "        return tf.io.parse_single_example(record, name_to_features)\n",
    "\n",
    "    dataset = dataset.apply(\n",
    "        tf.data.experimental.map_and_batch(\n",
    "            lambda record: _decode_record(record, name_to_features),\n",
    "            batch_size=8,\n",
    "            drop_remainder=drop_remainder,\n",
    "            num_parallel_calls=tf.data.experimental.AUTOTUNE,\n",
    "        )\n",
    "    )\n",
    "\n",
    "    dataset.cache()\n",
    "\n",
    "    if is_training:\n",
    "        dataset = dataset.shuffle(seed=42, buffer_size=10, reshuffle_each_iteration=True)\n",
    "\n",
    "    return dataset"
   ]
  },
  {
   "cell_type": "code",
   "execution_count": 6,
   "id": "97b081fc",
   "metadata": {
    "scrolled": true
   },
   "outputs": [
    {
     "name": "stdout",
     "output_type": "stream",
     "text": [
      "train_data_filenames /mnt/train_data_small.tfrecord\n",
      "WARNING:tensorflow:From /tmp/ipykernel_13341/1897154758.py:20: map_and_batch (from tensorflow.python.data.experimental.ops.batching) is deprecated and will be removed in a future version.\n",
      "Instructions for updating:\n",
      "Use `tf.data.Dataset.map(map_func, num_parallel_calls)` followed by `tf.data.Dataset.batch(batch_size, drop_remainder)`. Static tf.data optimizations will take care of using the fused implementation.\n"
     ]
    },
    {
     "name": "stderr",
     "output_type": "stream",
     "text": [
      "2024-01-15 23:26:16.031628: I tensorflow/compiler/xla/stream_executor/cuda/cuda_gpu_executor.cc:880] could not open file to read NUMA node: /sys/bus/pci/devices/0000:01:00.0/numa_node\n",
      "Your kernel may have been built without NUMA support.\n",
      "2024-01-15 23:26:16.038683: I tensorflow/compiler/xla/stream_executor/cuda/cuda_gpu_executor.cc:880] could not open file to read NUMA node: /sys/bus/pci/devices/0000:01:00.0/numa_node\n",
      "Your kernel may have been built without NUMA support.\n",
      "2024-01-15 23:26:16.038730: I tensorflow/compiler/xla/stream_executor/cuda/cuda_gpu_executor.cc:880] could not open file to read NUMA node: /sys/bus/pci/devices/0000:01:00.0/numa_node\n",
      "Your kernel may have been built without NUMA support.\n",
      "2024-01-15 23:26:16.041495: I tensorflow/compiler/xla/stream_executor/cuda/cuda_gpu_executor.cc:880] could not open file to read NUMA node: /sys/bus/pci/devices/0000:01:00.0/numa_node\n",
      "Your kernel may have been built without NUMA support.\n",
      "2024-01-15 23:26:16.041597: I tensorflow/compiler/xla/stream_executor/cuda/cuda_gpu_executor.cc:880] could not open file to read NUMA node: /sys/bus/pci/devices/0000:01:00.0/numa_node\n",
      "Your kernel may have been built without NUMA support.\n",
      "2024-01-15 23:26:16.041632: I tensorflow/compiler/xla/stream_executor/cuda/cuda_gpu_executor.cc:880] could not open file to read NUMA node: /sys/bus/pci/devices/0000:01:00.0/numa_node\n",
      "Your kernel may have been built without NUMA support.\n",
      "2024-01-15 23:26:16.157994: I tensorflow/compiler/xla/stream_executor/cuda/cuda_gpu_executor.cc:880] could not open file to read NUMA node: /sys/bus/pci/devices/0000:01:00.0/numa_node\n",
      "Your kernel may have been built without NUMA support.\n",
      "2024-01-15 23:26:16.158151: I tensorflow/compiler/xla/stream_executor/cuda/cuda_gpu_executor.cc:880] could not open file to read NUMA node: /sys/bus/pci/devices/0000:01:00.0/numa_node\n",
      "Your kernel may have been built without NUMA support.\n",
      "2024-01-15 23:26:16.158162: I tensorflow/core/common_runtime/gpu/gpu_device.cc:1974] Could not identify NUMA node of platform GPU id 0, defaulting to 0.  Your kernel may not have been built with NUMA support.\n",
      "2024-01-15 23:26:16.158212: I tensorflow/compiler/xla/stream_executor/cuda/cuda_gpu_executor.cc:880] could not open file to read NUMA node: /sys/bus/pci/devices/0000:01:00.0/numa_node\n",
      "Your kernel may have been built without NUMA support.\n",
      "2024-01-15 23:26:16.158232: I tensorflow/core/common_runtime/gpu/gpu_device.cc:1883] Created device /job:localhost/replica:0/task:0/device:GPU:0 with 2660 MB memory:  -> device: 0, name: Quadro P1000, pci bus id: 0000:01:00.0, compute capability: 6.1\n"
     ]
    }
   ],
   "source": [
    "# train_data = \"./data-tfrecord/bert-train\"\n",
    "train_data_filenames = \"/mnt/train_data_small.tfrecord\"\n",
    "print(\"train_data_filenames {}\".format(train_data_filenames))\n",
    "\n",
    "train_dataset = file_based_input_dataset_builder(\n",
    "    channel=\"train\", \n",
    "    input_filenames=train_data_filenames, \n",
    "    max_seq_length=64, \n",
    "    is_training=True, \n",
    "    drop_remainder=False\n",
    ").map(select_data_and_label_from_record)"
   ]
  },
  {
   "cell_type": "code",
   "execution_count": 7,
   "id": "782302e1",
   "metadata": {},
   "outputs": [
    {
     "name": "stdout",
     "output_type": "stream",
     "text": [
      "<_MapDataset element_spec=({'input_ids': TensorSpec(shape=(None, 64), dtype=tf.int64, name=None), 'input_mask': TensorSpec(shape=(None, 64), dtype=tf.int64, name=None)}, TensorSpec(shape=(None,), dtype=tf.int64, name=None))>\n"
     ]
    }
   ],
   "source": [
    "print(train_dataset)"
   ]
  },
  {
   "cell_type": "code",
   "execution_count": 8,
   "id": "6da07a0c",
   "metadata": {},
   "outputs": [
    {
     "name": "stdout",
     "output_type": "stream",
     "text": [
      "validation_data_filenames /mnt/validation_data_small.tfrecord\n"
     ]
    }
   ],
   "source": [
    "# validation_data = \"./data-tfrecord/bert-validation\"\n",
    "validation_data_filenames = \"/mnt/validation_data_small.tfrecord\"\n",
    "print(\"validation_data_filenames {}\".format(validation_data_filenames))\n",
    "\n",
    "validation_dataset = file_based_input_dataset_builder(\n",
    "    channel=\"validation\",\n",
    "    input_filenames=validation_data_filenames,\n",
    "    max_seq_length=64,\n",
    "    is_training=False,\n",
    "    drop_remainder=False,\n",
    ").map(select_data_and_label_from_record)"
   ]
  },
  {
   "cell_type": "code",
   "execution_count": 9,
   "id": "9e2bb084",
   "metadata": {},
   "outputs": [],
   "source": [
    "epochs = 1\n",
    "steps_per_epoch = 1\n",
    "validation_steps = 1\n",
    "test_steps = 1\n",
    "freeze_bert_layer = True\n",
    "learning_rate = 3e-5\n",
    "epsilon = 1e-08\n",
    "max_seq_length = 64"
   ]
  },
  {
   "cell_type": "code",
   "execution_count": 10,
   "id": "d885da1a",
   "metadata": {
    "scrolled": true
   },
   "outputs": [
    {
     "name": "stdout",
     "output_type": "stream",
     "text": [
      "DistilBertConfig {\n",
      "  \"activation\": \"gelu\",\n",
      "  \"architectures\": [\n",
      "    \"DistilBertForMaskedLM\"\n",
      "  ],\n",
      "  \"attention_dropout\": 0.1,\n",
      "  \"dim\": 768,\n",
      "  \"dropout\": 0.1,\n",
      "  \"hidden_dim\": 3072,\n",
      "  \"id2label\": {\n",
      "    \"0\": 1,\n",
      "    \"1\": 2,\n",
      "    \"2\": 3,\n",
      "    \"3\": 4,\n",
      "    \"4\": 5\n",
      "  },\n",
      "  \"initializer_range\": 0.02,\n",
      "  \"label2id\": {\n",
      "    \"1\": 0,\n",
      "    \"2\": 1,\n",
      "    \"3\": 2,\n",
      "    \"4\": 3,\n",
      "    \"5\": 4\n",
      "  },\n",
      "  \"max_position_embeddings\": 512,\n",
      "  \"model_type\": \"distilbert\",\n",
      "  \"n_heads\": 12,\n",
      "  \"n_layers\": 6,\n",
      "  \"pad_token_id\": 0,\n",
      "  \"qa_dropout\": 0.1,\n",
      "  \"seq_classif_dropout\": 0.2,\n",
      "  \"sinusoidal_pos_embds\": false,\n",
      "  \"tie_weights_\": true,\n",
      "  \"transformers_version\": \"4.36.2\",\n",
      "  \"vocab_size\": 30522\n",
      "}\n",
      "\n"
     ]
    }
   ],
   "source": [
    "CLASSES = [1, 2, 3, 4, 5]\n",
    "\n",
    "config = DistilBertConfig.from_pretrained(\n",
    "    \"distilbert-base-uncased\",\n",
    "    num_labels=len(CLASSES),\n",
    "    id2label={0: 1, 1: 2, 2: 3, 3: 4, 4: 5},\n",
    "    label2id={1: 0, 2: 1, 3: 2, 4: 3, 5: 4},\n",
    ")\n",
    "print(config)"
   ]
  },
  {
   "cell_type": "code",
   "execution_count": null,
   "id": "b7810d2b",
   "metadata": {},
   "outputs": [],
   "source": [
    "# Adding the layer for fine tuning on BERT"
   ]
  },
  {
   "cell_type": "code",
   "execution_count": 11,
   "id": "eadc4cc8",
   "metadata": {
    "scrolled": true
   },
   "outputs": [
    {
     "name": "stderr",
     "output_type": "stream",
     "text": [
      "Some weights of the PyTorch model were not used when initializing the TF 2.0 model TFDistilBertForSequenceClassification: ['vocab_layer_norm.weight', 'vocab_projector.bias', 'vocab_layer_norm.bias', 'vocab_transform.weight', 'vocab_transform.bias']\n",
      "- This IS expected if you are initializing TFDistilBertForSequenceClassification from a PyTorch model trained on another task or with another architecture (e.g. initializing a TFBertForSequenceClassification model from a BertForPreTraining model).\n",
      "- This IS NOT expected if you are initializing TFDistilBertForSequenceClassification from a PyTorch model that you expect to be exactly identical (e.g. initializing a TFBertForSequenceClassification model from a BertForSequenceClassification model).\n",
      "Some weights or buffers of the TF 2.0 model TFDistilBertForSequenceClassification were not initialized from the PyTorch model and are newly initialized: ['pre_classifier.weight', 'pre_classifier.bias', 'classifier.weight', 'classifier.bias']\n",
      "You should probably TRAIN this model on a down-stream task to be able to use it for predictions and inference.\n"
     ]
    },
    {
     "name": "stdout",
     "output_type": "stream",
     "text": [
      "WARNING:tensorflow:Layer lstm will not use cuDNN kernels since it doesn't meet the criteria. It will use a generic GPU kernel as fallback when running on GPU.\n",
      "WARNING:tensorflow:Layer lstm will not use cuDNN kernels since it doesn't meet the criteria. It will use a generic GPU kernel as fallback when running on GPU.\n",
      "WARNING:tensorflow:Layer lstm will not use cuDNN kernels since it doesn't meet the criteria. It will use a generic GPU kernel as fallback when running on GPU.\n"
     ]
    }
   ],
   "source": [
    "transformer_model = TFDistilBertForSequenceClassification.from_pretrained(\"distilbert-base-uncased\", config=config)\n",
    "\n",
    "input_ids = tf.keras.layers.Input(shape=(max_seq_length,), name=\"input_ids\", dtype=\"int32\")\n",
    "input_mask = tf.keras.layers.Input(shape=(max_seq_length,), name=\"input_mask\", dtype=\"int32\")\n",
    "\n",
    "embedding_layer = transformer_model.distilbert(input_ids, attention_mask=input_mask)[0]\n",
    "X = tf.keras.layers.Bidirectional(tf.keras.layers.LSTM(50, return_sequences=True, dropout=0.1, recurrent_dropout=0.1))(\n",
    "    embedding_layer\n",
    ")\n",
    "X = tf.keras.layers.GlobalMaxPool1D()(X)\n",
    "X = tf.keras.layers.Dense(50, activation=\"relu\")(X)\n",
    "X = tf.keras.layers.Dropout(0.2)(X)\n",
    "X = tf.keras.layers.Dense(len(CLASSES), activation=\"softmax\")(X)\n",
    "\n",
    "model = tf.keras.Model(inputs=[input_ids, input_mask], outputs=X)\n",
    "\n",
    "for layer in model.layers[:3]:\n",
    "    layer.trainable = not freeze_bert_layer"
   ]
  },
  {
   "cell_type": "code",
   "execution_count": null,
   "id": "b457525b",
   "metadata": {},
   "outputs": [],
   "source": [
    "# Set up the custom classifier model"
   ]
  },
  {
   "cell_type": "code",
   "execution_count": 12,
   "id": "1ac81c89",
   "metadata": {
    "scrolled": true
   },
   "outputs": [
    {
     "name": "stdout",
     "output_type": "stream",
     "text": [
      "Model: \"model\"\n",
      "__________________________________________________________________________________________________\n",
      " Layer (type)                Output Shape                 Param #   Connected to                  \n",
      "==================================================================================================\n",
      " input_ids (InputLayer)      [(None, 64)]                 0         []                            \n",
      "                                                                                                  \n",
      " input_mask (InputLayer)     [(None, 64)]                 0         []                            \n",
      "                                                                                                  \n",
      " distilbert (TFDistilBertMa  TFBaseModelOutput(last_hid   6636288   ['input_ids[0][0]',           \n",
      " inLayer)                    den_state=(None, 64, 768),   0          'input_mask[0][0]']          \n",
      "                              hidden_states=None, atten                                           \n",
      "                             tions=None)                                                          \n",
      "                                                                                                  \n",
      " bidirectional (Bidirection  (None, 64, 100)              327600    ['distilbert[0][0]']          \n",
      " al)                                                                                              \n",
      "                                                                                                  \n",
      " global_max_pooling1d (Glob  (None, 100)                  0         ['bidirectional[0][0]']       \n",
      " alMaxPooling1D)                                                                                  \n",
      "                                                                                                  \n",
      " dense (Dense)               (None, 50)                   5050      ['global_max_pooling1d[0][0]']\n",
      "                                                                                                  \n",
      " dropout_20 (Dropout)        (None, 50)                   0         ['dense[0][0]']               \n",
      "                                                                                                  \n",
      " dense_1 (Dense)             (None, 5)                    255       ['dropout_20[0][0]']          \n",
      "                                                                                                  \n",
      "==================================================================================================\n",
      "Total params: 66695785 (254.42 MB)\n",
      "Trainable params: 332905 (1.27 MB)\n",
      "Non-trainable params: 66362880 (253.15 MB)\n",
      "__________________________________________________________________________________________________\n"
     ]
    }
   ],
   "source": [
    "loss = tf.keras.losses.SparseCategoricalCrossentropy(from_logits=True)\n",
    "\n",
    "metric = tf.keras.metrics.SparseCategoricalAccuracy(\"accuracy\")\n",
    "\n",
    "optimizer = tf.keras.optimizers.Adam(learning_rate=learning_rate, epsilon=epsilon)\n",
    "\n",
    "model.compile(optimizer=optimizer, loss=loss, metrics=[metric])\n",
    "\n",
    "model.summary()"
   ]
  },
  {
   "cell_type": "code",
   "execution_count": 13,
   "id": "625622d7",
   "metadata": {},
   "outputs": [
    {
     "data": {
      "image/png": "[encoded data removed]",
      "text/plain": [
       "<IPython.core.display.Image object>"
      ]
     },
     "execution_count": 13,
     "metadata": {},
     "output_type": "execute_result"
    }
   ],
   "source": [
    "from tensorflow.keras.utils import plot_model\n",
    "plot_model(model,show_shapes=True)"
   ]
  },
  {
   "cell_type": "code",
   "execution_count": 14,
   "id": "6cbc2f10",
   "metadata": {},
   "outputs": [],
   "source": [
    "callbacks = []\n",
    "\n",
    "log_dir = \"./tmp/tensorboard/\"\n",
    "tensorboard_callback = tf.keras.callbacks.TensorBoard(log_dir=log_dir)\n",
    "callbacks.append(tensorboard_callback)"
   ]
  },
  {
   "cell_type": "code",
   "execution_count": 15,
   "id": "ba28eb46",
   "metadata": {
    "scrolled": true
   },
   "outputs": [
    {
     "name": "stderr",
     "output_type": "stream",
     "text": [
      "/usr/local/lib/python3.10/dist-packages/keras/src/backend.py:5729: UserWarning: \"`sparse_categorical_crossentropy` received `from_logits=True`, but the `output` argument was produced by a Softmax activation and thus does not represent logits. Was this intended?\n",
      "  output, from_logits = _get_logits(\n",
      "2024-01-15 23:26:55.485483: I tensorflow/compiler/xla/service/service.cc:168] XLA service 0x565313d8f5a0 initialized for platform CUDA (this does not guarantee that XLA will be used). Devices:\n",
      "2024-01-15 23:26:55.485531: I tensorflow/compiler/xla/service/service.cc:176]   StreamExecutor device (0): Quadro P1000, Compute Capability 6.1\n",
      "2024-01-15 23:26:55.491662: I tensorflow/compiler/mlir/tensorflow/utils/dump_mlir_util.cc:269] disabling MLIR crash reproducer, set env var `MLIR_CRASH_REPRODUCER_DIRECTORY` to enable.\n",
      "2024-01-15 23:26:55.508140: I tensorflow/compiler/xla/stream_executor/cuda/cuda_dnn.cc:442] Loaded cuDNN version 8907\n",
      "2024-01-15 23:26:55.574193: I ./tensorflow/compiler/jit/device_compiler.h:186] Compiled cluster using XLA!  This line is logged at most once for the lifetime of the process.\n"
     ]
    },
    {
     "name": "stdout",
     "output_type": "stream",
     "text": [
      "1/1 [==============================] - 16s 16s/step - loss: 1.6040 - accuracy: 0.1250 - val_loss: 1.6759 - val_accuracy: 0.2500\n"
     ]
    }
   ],
   "source": [
    "history = model.fit(\n",
    "    train_dataset,\n",
    "    shuffle=True,\n",
    "    epochs=epochs,\n",
    "    steps_per_epoch=steps_per_epoch,\n",
    "    validation_data=validation_dataset,\n",
    "    validation_steps=validation_steps,\n",
    "    callbacks=callbacks,\n",
    ")"
   ]
  },
  {
   "cell_type": "code",
   "execution_count": 16,
   "id": "190f0aeb",
   "metadata": {},
   "outputs": [],
   "source": [
    "epochs = 256\n",
    "steps_per_epoch = 32\n",
    "validation_steps = 32\n",
    "test_steps = 32\n",
    "freeze_bert_layer = True\n",
    "learning_rate = 3e-3\n",
    "epsilon = 1e-08\n",
    "max_seq_length = 64"
   ]
  },
  {
   "cell_type": "code",
   "execution_count": null,
   "id": "18a6b2d9",
   "metadata": {},
   "outputs": [
    {
     "name": "stdout",
     "output_type": "stream",
     "text": [
      "Epoch 1/256\n",
      "32/32 [==============================] - 51s 2s/step - loss: 1.6884 - accuracy: 0.1992 - val_loss: 1.6192 - val_accuracy: 0.1953\n",
      "Epoch 2/256\n",
      "32/32 [==============================] - 51s 2s/step - loss: 1.6090 - accuracy: 0.2734 - val_loss: 1.6087 - val_accuracy: 0.2305\n",
      "Epoch 3/256\n",
      "32/32 [==============================] - 50s 2s/step - loss: 1.6079 - accuracy: 0.2266 - val_loss: 1.6010 - val_accuracy: 0.2305\n",
      "Epoch 4/256\n",
      "32/32 [==============================] - 51s 2s/step - loss: 1.6243 - accuracy: 0.2148 - val_loss: 1.5952 - val_accuracy: 0.2305\n",
      "Epoch 5/256\n",
      "32/32 [==============================] - 51s 2s/step - loss: 1.6022 - accuracy: 0.2695 - val_loss: 1.5910 - val_accuracy: 0.2422\n",
      "Epoch 6/256\n",
      "32/32 [==============================] - 51s 2s/step - loss: 1.6067 - accuracy: 0.2617 - val_loss: 1.5878 - val_accuracy: 0.2500\n",
      "Epoch 7/256\n",
      "32/32 [==============================] - 50s 2s/step - loss: 1.6128 - accuracy: 0.2500 - val_loss: 1.5826 - val_accuracy: 0.2500\n",
      "Epoch 8/256\n",
      "32/32 [==============================] - 51s 2s/step - loss: 1.5967 - accuracy: 0.2539 - val_loss: 1.5787 - val_accuracy: 0.2891\n",
      "Epoch 9/256\n",
      "32/32 [==============================] - 51s 2s/step - loss: 1.5736 - accuracy: 0.3008 - val_loss: 1.5769 - val_accuracy: 0.2695\n",
      "Epoch 10/256\n",
      "32/32 [==============================] - 51s 2s/step - loss: 1.5875 - accuracy: 0.2344 - val_loss: 1.5723 - val_accuracy: 0.2695\n",
      "Epoch 11/256\n",
      "32/32 [==============================] - 50s 2s/step - loss: 1.5736 - accuracy: 0.2852 - val_loss: 1.5702 - val_accuracy: 0.2891\n",
      "Epoch 12/256\n",
      "32/32 [==============================] - 51s 2s/step - loss: 1.5940 - accuracy: 0.3047 - val_loss: 1.5639 - val_accuracy: 0.2891\n",
      "Epoch 13/256\n",
      "32/32 [==============================] - 51s 2s/step - loss: 1.5845 - accuracy: 0.2656 - val_loss: 1.5570 - val_accuracy: 0.3320\n",
      "Epoch 14/256\n",
      "32/32 [==============================] - 51s 2s/step - loss: 1.5727 - accuracy: 0.3281 - val_loss: 1.5512 - val_accuracy: 0.3047\n",
      "Epoch 15/256\n",
      "32/32 [==============================] - 51s 2s/step - loss: 1.5643 - accuracy: 0.3320 - val_loss: 1.5459 - val_accuracy: 0.3281\n",
      "Epoch 16/256\n",
      "32/32 [==============================] - 51s 2s/step - loss: 1.5744 - accuracy: 0.2734 - val_loss: 1.5415 - val_accuracy: 0.3281\n",
      "Epoch 17/256\n",
      "32/32 [==============================] - 51s 2s/step - loss: 1.5798 - accuracy: 0.2617 - val_loss: 1.5375 - val_accuracy: 0.3320\n",
      "Epoch 18/256\n",
      "32/32 [==============================] - 51s 2s/step - loss: 1.5632 - accuracy: 0.2773 - val_loss: 1.5327 - val_accuracy: 0.3203\n",
      "Epoch 19/256\n",
      "32/32 [==============================] - 51s 2s/step - loss: 1.5481 - accuracy: 0.3203 - val_loss: 1.5243 - val_accuracy: 0.3359\n",
      "Epoch 20/256\n",
      "32/32 [==============================] - 51s 2s/step - loss: 1.5259 - accuracy: 0.3789 - val_loss: 1.5190 - val_accuracy: 0.3477\n",
      "Epoch 21/256\n",
      "32/32 [==============================] - 51s 2s/step - loss: 1.5383 - accuracy: 0.3320 - val_loss: 1.5146 - val_accuracy: 0.3633\n",
      "Epoch 22/256\n",
      "32/32 [==============================] - 52s 2s/step - loss: 1.5422 - accuracy: 0.3477 - val_loss: 1.5094 - val_accuracy: 0.3555\n",
      "Epoch 23/256\n",
      "32/32 [==============================] - 51s 2s/step - loss: 1.5272 - accuracy: 0.3164 - val_loss: 1.5050 - val_accuracy: 0.3516\n",
      "Epoch 24/256\n",
      "32/32 [==============================] - 51s 2s/step - loss: 1.5380 - accuracy: 0.3008 - val_loss: 1.5010 - val_accuracy: 0.3477\n",
      "Epoch 25/256\n",
      "32/32 [==============================] - 51s 2s/step - loss: 1.4970 - accuracy: 0.3555 - val_loss: 1.4908 - val_accuracy: 0.3516\n",
      "Epoch 26/256\n",
      "32/32 [==============================] - 51s 2s/step - loss: 1.5301 - accuracy: 0.3086 - val_loss: 1.4859 - val_accuracy: 0.3438\n",
      "Epoch 27/256\n",
      "32/32 [==============================] - 51s 2s/step - loss: 1.4944 - accuracy: 0.3281 - val_loss: 1.4822 - val_accuracy: 0.3125\n",
      "Epoch 28/256\n",
      "32/32 [==============================] - 51s 2s/step - loss: 1.4809 - accuracy: 0.3477 - val_loss: 1.4769 - val_accuracy: 0.3281\n",
      "Epoch 29/256\n",
      "32/32 [==============================] - 51s 2s/step - loss: 1.4571 - accuracy: 0.3945 - val_loss: 1.4712 - val_accuracy: 0.3398\n",
      "Epoch 30/256\n",
      "32/32 [==============================] - 52s 2s/step - loss: 1.4752 - accuracy: 0.3750 - val_loss: 1.4656 - val_accuracy: 0.3438\n",
      "Epoch 31/256\n",
      "32/32 [==============================] - 52s 2s/step - loss: 1.4814 - accuracy: 0.3555 - val_loss: 1.4530 - val_accuracy: 0.3633\n",
      "Epoch 32/256\n",
      "32/32 [==============================] - 51s 2s/step - loss: 1.4833 - accuracy: 0.3555 - val_loss: 1.4467 - val_accuracy: 0.3516\n",
      "Epoch 33/256\n",
      "32/32 [==============================] - 51s 2s/step - loss: 1.4405 - accuracy: 0.3789 - val_loss: 1.4428 - val_accuracy: 0.3555\n",
      "Epoch 34/256\n",
      "32/32 [==============================] - 52s 2s/step - loss: 1.5008 - accuracy: 0.3359 - val_loss: 1.4372 - val_accuracy: 0.3438\n",
      "Epoch 35/256\n",
      "32/32 [==============================] - 51s 2s/step - loss: 1.4630 - accuracy: 0.3750 - val_loss: 1.4319 - val_accuracy: 0.3633\n",
      "Epoch 36/256\n",
      "32/32 [==============================] - 51s 2s/step - loss: 1.4776 - accuracy: 0.3398 - val_loss: 1.4267 - val_accuracy: 0.3867\n",
      "Epoch 37/256\n",
      "32/32 [==============================] - 51s 2s/step - loss: 1.4870 - accuracy: 0.3594 - val_loss: 1.4253 - val_accuracy: 0.3789\n",
      "Epoch 38/256\n",
      "32/32 [==============================] - 51s 2s/step - loss: 1.4256 - accuracy: 0.4141 - val_loss: 1.4157 - val_accuracy: 0.3555\n",
      "Epoch 39/256\n",
      "32/32 [==============================] - 51s 2s/step - loss: 1.4703 - accuracy: 0.3086 - val_loss: 1.4129 - val_accuracy: 0.3594\n",
      "Epoch 40/256\n",
      "32/32 [==============================] - 51s 2s/step - loss: 1.4430 - accuracy: 0.3477 - val_loss: 1.4099 - val_accuracy: 0.3359\n",
      "Epoch 41/256\n",
      "32/32 [==============================] - 51s 2s/step - loss: 1.4127 - accuracy: 0.3555 - val_loss: 1.4060 - val_accuracy: 0.3281\n",
      "Epoch 42/256\n",
      "32/32 [==============================] - 52s 2s/step - loss: 1.4649 - accuracy: 0.3438 - val_loss: 1.3989 - val_accuracy: 0.3516\n",
      "Epoch 43/256\n",
      "32/32 [==============================] - 51s 2s/step - loss: 1.4552 - accuracy: 0.3672 - val_loss: 1.3964 - val_accuracy: 0.3750\n",
      "Epoch 44/256\n",
      "32/32 [==============================] - 51s 2s/step - loss: 1.3894 - accuracy: 0.3906 - val_loss: 1.3882 - val_accuracy: 0.3828\n",
      "Epoch 45/256\n",
      "32/32 [==============================] - 51s 2s/step - loss: 1.4130 - accuracy: 0.3945 - val_loss: 1.3801 - val_accuracy: 0.3828\n",
      "Epoch 46/256\n",
      "32/32 [==============================] - 51s 2s/step - loss: 1.4292 - accuracy: 0.3477 - val_loss: 1.3806 - val_accuracy: 0.3750\n",
      "Epoch 47/256\n",
      "32/32 [==============================] - 53s 2s/step - loss: 1.4059 - accuracy: 0.3984 - val_loss: 1.3719 - val_accuracy: 0.3711\n",
      "Epoch 48/256\n",
      "32/32 [==============================] - 52s 2s/step - loss: 1.4100 - accuracy: 0.4062 - val_loss: 1.3658 - val_accuracy: 0.3828\n",
      "Epoch 49/256\n",
      "32/32 [==============================] - 52s 2s/step - loss: 1.4640 - accuracy: 0.3008 - val_loss: 1.3646 - val_accuracy: 0.3750\n",
      "Epoch 50/256\n",
      "32/32 [==============================] - 51s 2s/step - loss: 1.4253 - accuracy: 0.3633 - val_loss: 1.3592 - val_accuracy: 0.3672\n",
      "Epoch 51/256\n",
      "32/32 [==============================] - 51s 2s/step - loss: 1.3306 - accuracy: 0.4492 - val_loss: 1.3546 - val_accuracy: 0.3672\n",
      "Epoch 52/256\n",
      "32/32 [==============================] - 56s 2s/step - loss: 1.3858 - accuracy: 0.4102 - val_loss: 1.3483 - val_accuracy: 0.3594\n",
      "Epoch 53/256\n",
      "32/32 [==============================] - 58s 2s/step - loss: 1.4018 - accuracy: 0.3945 - val_loss: 1.3460 - val_accuracy: 0.3789\n",
      "Epoch 54/256\n",
      "32/32 [==============================] - 51s 2s/step - loss: 1.3647 - accuracy: 0.4062 - val_loss: 1.3432 - val_accuracy: 0.3672\n",
      "Epoch 55/256\n",
      "32/32 [==============================] - 52s 2s/step - loss: 1.3808 - accuracy: 0.3984 - val_loss: 1.3365 - val_accuracy: 0.3789\n",
      "Epoch 56/256\n",
      "32/32 [==============================] - 51s 2s/step - loss: 1.3789 - accuracy: 0.3828 - val_loss: 1.3324 - val_accuracy: 0.3867\n",
      "Epoch 57/256\n",
      "32/32 [==============================] - 52s 2s/step - loss: 1.3813 - accuracy: 0.3828 - val_loss: 1.3278 - val_accuracy: 0.3672\n",
      "Epoch 58/256\n",
      "32/32 [==============================] - 51s 2s/step - loss: 1.3719 - accuracy: 0.3945 - val_loss: 1.3225 - val_accuracy: 0.3984\n"
     ]
    },
    {
     "name": "stdout",
     "output_type": "stream",
     "text": [
      "Epoch 59/256\n",
      "32/32 [==============================] - 51s 2s/step - loss: 1.3910 - accuracy: 0.4102 - val_loss: 1.3209 - val_accuracy: 0.3906\n",
      "Epoch 60/256\n",
      "32/32 [==============================] - 51s 2s/step - loss: 1.3462 - accuracy: 0.4062 - val_loss: 1.3216 - val_accuracy: 0.3984\n",
      "Epoch 61/256\n",
      "32/32 [==============================] - 51s 2s/step - loss: 1.3984 - accuracy: 0.3789 - val_loss: 1.3155 - val_accuracy: 0.3906\n",
      "Epoch 62/256\n",
      "32/32 [==============================] - 52s 2s/step - loss: 1.3440 - accuracy: 0.4258 - val_loss: 1.3140 - val_accuracy: 0.4180\n",
      "Epoch 63/256\n",
      "32/32 [==============================] - 51s 2s/step - loss: 1.3572 - accuracy: 0.3906 - val_loss: 1.3064 - val_accuracy: 0.3945\n",
      "Epoch 64/256\n",
      "32/32 [==============================] - 54s 2s/step - loss: 1.3984 - accuracy: 0.3828 - val_loss: 1.3038 - val_accuracy: 0.3984\n",
      "Epoch 65/256\n",
      "32/32 [==============================] - 56s 2s/step - loss: 1.3759 - accuracy: 0.3867 - val_loss: 1.3035 - val_accuracy: 0.3945\n",
      "Epoch 66/256\n",
      "32/32 [==============================] - 56s 2s/step - loss: 1.3462 - accuracy: 0.4141 - val_loss: 1.3000 - val_accuracy: 0.3945\n",
      "Epoch 67/256\n",
      "32/32 [==============================] - 55s 2s/step - loss: 1.3303 - accuracy: 0.4414 - val_loss: 1.2994 - val_accuracy: 0.4062\n",
      "Epoch 68/256\n",
      "32/32 [==============================] - 53s 2s/step - loss: 1.3888 - accuracy: 0.3555 - val_loss: 1.2963 - val_accuracy: 0.4023\n",
      "Epoch 69/256\n",
      "32/32 [==============================] - 54s 2s/step - loss: 1.3523 - accuracy: 0.3320 - val_loss: 1.2971 - val_accuracy: 0.4219\n",
      "Epoch 70/256\n",
      "32/32 [==============================] - 55s 2s/step - loss: 1.3026 - accuracy: 0.4180 - val_loss: 1.2942 - val_accuracy: 0.4336\n",
      "Epoch 71/256\n",
      "32/32 [==============================] - 54s 2s/step - loss: 1.3529 - accuracy: 0.3867 - val_loss: 1.2947 - val_accuracy: 0.4180\n",
      "Epoch 72/256\n",
      "32/32 [==============================] - 54s 2s/step - loss: 1.3312 - accuracy: 0.4258 - val_loss: 1.2864 - val_accuracy: 0.4297\n",
      "Epoch 73/256\n",
      "32/32 [==============================] - 58s 2s/step - loss: 1.2995 - accuracy: 0.4336 - val_loss: 1.2792 - val_accuracy: 0.4141\n",
      "Epoch 74/256\n",
      "32/32 [==============================] - 52s 2s/step - loss: 1.3305 - accuracy: 0.4219 - val_loss: 1.2775 - val_accuracy: 0.4062\n",
      "Epoch 75/256\n",
      "32/32 [==============================] - 51s 2s/step - loss: 1.3813 - accuracy: 0.3477 - val_loss: 1.2774 - val_accuracy: 0.3984\n",
      "Epoch 76/256\n",
      "32/32 [==============================] - 51s 2s/step - loss: 1.3709 - accuracy: 0.3945 - val_loss: 1.2783 - val_accuracy: 0.4023\n",
      "Epoch 77/256\n",
      "32/32 [==============================] - 52s 2s/step - loss: 1.3418 - accuracy: 0.3984 - val_loss: 1.2809 - val_accuracy: 0.4102\n",
      "Epoch 78/256\n",
      "32/32 [==============================] - 52s 2s/step - loss: 1.3216 - accuracy: 0.4141 - val_loss: 1.2743 - val_accuracy: 0.4258\n",
      "Epoch 79/256\n",
      "32/32 [==============================] - 52s 2s/step - loss: 1.3509 - accuracy: 0.3906 - val_loss: 1.2731 - val_accuracy: 0.4062\n",
      "Epoch 80/256\n",
      "32/32 [==============================] - 51s 2s/step - loss: 1.3362 - accuracy: 0.4492 - val_loss: 1.2829 - val_accuracy: 0.4414\n",
      "Epoch 81/256\n",
      "32/32 [==============================] - 51s 2s/step - loss: 1.3251 - accuracy: 0.4336 - val_loss: 1.2681 - val_accuracy: 0.4180\n",
      "Epoch 82/256\n",
      "32/32 [==============================] - 51s 2s/step - loss: 1.3148 - accuracy: 0.4453 - val_loss: 1.2624 - val_accuracy: 0.4258\n",
      "Epoch 83/256\n",
      "32/32 [==============================] - 55s 2s/step - loss: 1.2936 - accuracy: 0.4492 - val_loss: 1.2616 - val_accuracy: 0.4336\n",
      "Epoch 84/256\n",
      "32/32 [==============================] - 56s 2s/step - loss: 1.3300 - accuracy: 0.4102 - val_loss: 1.2586 - val_accuracy: 0.4258\n",
      "Epoch 85/256\n",
      "32/32 [==============================] - 53s 2s/step - loss: 1.2925 - accuracy: 0.4375 - val_loss: 1.2577 - val_accuracy: 0.4141\n",
      "Epoch 86/256\n",
      "32/32 [==============================] - 63s 2s/step - loss: 1.3020 - accuracy: 0.3906 - val_loss: 1.2571 - val_accuracy: 0.4336\n",
      "Epoch 87/256\n",
      "32/32 [==============================] - 62s 2s/step - loss: 1.3205 - accuracy: 0.4023 - val_loss: 1.2572 - val_accuracy: 0.4414\n",
      "Epoch 88/256\n",
      "32/32 [==============================] - 53s 2s/step - loss: 1.2563 - accuracy: 0.4648 - val_loss: 1.2521 - val_accuracy: 0.4297\n",
      "Epoch 89/256\n",
      "32/32 [==============================] - 52s 2s/step - loss: 1.3677 - accuracy: 0.4102 - val_loss: 1.2541 - val_accuracy: 0.4492\n",
      "Epoch 90/256\n",
      "32/32 [==============================] - 53s 2s/step - loss: 1.3461 - accuracy: 0.4062 - val_loss: 1.2523 - val_accuracy: 0.4297\n",
      "Epoch 91/256\n",
      "32/32 [==============================] - 53s 2s/step - loss: 1.3508 - accuracy: 0.4102 - val_loss: 1.2507 - val_accuracy: 0.4258\n",
      "Epoch 92/256\n",
      "17/32 [==============>...............] - ETA: 21s - loss: 1.3749 - accuracy: 0.3824"
     ]
    }
   ],
   "source": [
    "history = model.fit(\n",
    "    train_dataset,\n",
    "    shuffle=True,\n",
    "    epochs=epochs,\n",
    "    steps_per_epoch=steps_per_epoch,\n",
    "    validation_data=validation_dataset,\n",
    "    validation_steps=validation_steps,\n",
    "    callbacks=callbacks,\n",
    ")"
   ]
  },
  {
   "cell_type": "code",
   "execution_count": null,
   "id": "b484b48f",
   "metadata": {
    "scrolled": true
   },
   "outputs": [],
   "source": [
    "print(history.history)"
   ]
  },
  {
   "cell_type": "code",
   "execution_count": null,
   "id": "94dfd7bf",
   "metadata": {},
   "outputs": [],
   "source": [
    "import pandas as pd\n",
    "import numpy as np\n",
    "\n",
    "from transformers import DistilBertTokenizer\n",
    "\n",
    "tokenizer = DistilBertTokenizer.from_pretrained('distilbert-base-uncased')\n",
    "\n",
    "def predict(text):\n",
    "    encode_plus_tokens = tokenizer.encode_plus(\n",
    "                            text,\n",
    "                            pad_to_max_length=True,\n",
    "                            max_length=max_seq_length,\n",
    "                            truncation=True,\n",
    "                            return_tensors='tf')\n",
    "    \n",
    "    input_ids = encode_plus_tokens['input_ids']\n",
    "    input_mask = encode_plus_tokens['attention_mask']\n",
    "    \n",
    "    outputs = model.predict(x=(input_ids,input_mask))\n",
    "    \n",
    "    prediction = [{\"label\":config.id2label[item.argmax()], \\\n",
    "                   \"socre\":item.max().item()} for item in outputs]\n",
    "\n",
    "    return prediction[0]"
   ]
  },
  {
   "cell_type": "code",
   "execution_count": null,
   "id": "c20cb381",
   "metadata": {},
   "outputs": [],
   "source": [
    "# Adhoc predict"
   ]
  },
  {
   "cell_type": "code",
   "execution_count": null,
   "id": "97132b6e",
   "metadata": {
    "scrolled": true
   },
   "outputs": [],
   "source": [
    "predict(\"This is great!\")"
   ]
  },
  {
   "cell_type": "code",
   "execution_count": null,
   "id": "eff5e8c7",
   "metadata": {},
   "outputs": [],
   "source": [
    "predict(\"This is cool.\")"
   ]
  },
  {
   "cell_type": "code",
   "execution_count": null,
   "id": "233039e2",
   "metadata": {},
   "outputs": [],
   "source": [
    "predict(\"I don't like this.\")"
   ]
  },
  {
   "cell_type": "code",
   "execution_count": null,
   "id": "f40ea7bb",
   "metadata": {},
   "outputs": [],
   "source": [
    "predict(\"I might buy it again.\")"
   ]
  },
  {
   "cell_type": "code",
   "execution_count": null,
   "id": "ede03f87",
   "metadata": {},
   "outputs": [],
   "source": [
    "predict(\"The color is a little bit different from the picture. But it is OK.\")"
   ]
  },
  {
   "cell_type": "code",
   "execution_count": null,
   "id": "e78f1209",
   "metadata": {},
   "outputs": [],
   "source": [
    "def plot_accracy(history):\n",
    "    import matplotlib.pyplot as plt\n",
    "\n",
    "    # Setting Parameters\n",
    "    acc = history.history['accuracy']\n",
    "    val_acc = history.history['val_accuracy']\n",
    "    loss = history.history['loss']\n",
    "    val_loss = history.history['val_loss']\n",
    "\n",
    "    epochs = range(len(acc))\n",
    "\n",
    "    # 1) Accracy Plt\n",
    "    plt.plot(epochs, acc, 'bo' ,label = 'training accuracy')\n",
    "    plt.plot(epochs, val_acc, 'b' , label= 'validation accuracy')\n",
    "    plt.title('Training and Validation acc')\n",
    "    plt.legend()\n",
    "\n",
    "    plt.figure()\n",
    "\n",
    "    # 2) Loss Plt\n",
    "    plt.plot(epochs, loss, 'bo' ,label = 'training loss')\n",
    "    plt.plot(epochs, val_loss, 'b' , label= 'validation loss')\n",
    "    plt.title('Training and Validation loss')\n",
    "    plt.legend()\n",
    "\n",
    "    plt.show()"
   ]
  },
  {
   "cell_type": "code",
   "execution_count": null,
   "id": "b315f516",
   "metadata": {},
   "outputs": [],
   "source": [
    "from keras import models \n",
    "from keras import layers\n",
    "from keras import optimizers\n",
    "\n",
    "#show Accuracy and Loss History\n",
    "#「loss」と「val_loss」の違いですが、「loss」は学習時のlossの値で、正解と予測の差分です。この値を少なくするように学習を進めます。\n",
    "#「val_loss」は検証用データでlossを計算した値です。\n",
    "# モデルは「loss」の値を少なくするように学習データを使用して学習を進めます。ただし学習データのみを使用して学習するため、学習データのみ \n",
    "# にあてはまり新たなデータでうまく予測できなくなる、いわゆるオーバーフィッティング状態になることがあります。\n",
    "# グラフ上では「loss」が下がっていくのに「val_loss」が上がってしまう状態です。\n",
    "plot_accracy(history)"
   ]
  },
  {
   "cell_type": "code",
   "execution_count": null,
   "id": "c8243159",
   "metadata": {},
   "outputs": [],
   "source": [
    "model.save('/mnt/tensorflow_small/',save_format='tf')"
   ]
  },
  {
   "cell_type": "code",
   "execution_count": null,
   "id": "ef5ddca1",
   "metadata": {},
   "outputs": [],
   "source": [
    "!ls /mnt/tensorflow_small"
   ]
  },
  {
   "cell_type": "code",
   "execution_count": null,
   "id": "54fc5758",
   "metadata": {},
   "outputs": [],
   "source": [
    "%%html\n",
    "\n",
    "<p><b>Shutting down your kernel for this notebook to release resources.</b></p>\n",
    "<button class=\"sm-command-button\" data-commandlinker-command=\"kernelmenu:shutdown\" style=\"display:none;\">Shutdown Kernel</button>\n",
    "        \n",
    "<script>\n",
    "try {\n",
    "    els = document.getElementsByClassName(\"sm-command-button\");\n",
    "    els[0].click();\n",
    "}\n",
    "catch(err) {\n",
    "    // NoOp\n",
    "}    \n",
    "</script>"
   ]
  },
  {
   "cell_type": "code",
   "execution_count": null,
   "id": "6f76135e",
   "metadata": {},
   "outputs": [],
   "source": []
  }
 ],
 "metadata": {
  "kernelspec": {
   "display_name": "Python 3 (ipykernel)",
   "language": "python",
   "name": "python3"
  },
  "language_info": {
   "codemirror_mode": {
    "name": "ipython",
    "version": 3
   },
   "file_extension": ".py",
   "mimetype": "text/x-python",
   "name": "python",
   "nbconvert_exporter": "python",
   "pygments_lexer": "ipython3",
   "version": "3.10.12"
  }
 },
 "nbformat": 4,
 "nbformat_minor": 5
}
