{
 "cells": [
  {
   "cell_type": "code",
   "execution_count": 1,
   "id": "090cb7bb",
   "metadata": {
    "scrolled": true
   },
   "outputs": [
    {
     "name": "stdout",
     "output_type": "stream",
     "text": [
      "Requirement already satisfied: transformers in /usr/local/lib/python3.10/dist-packages (4.36.2)\n",
      "Requirement already satisfied: filelock in /usr/local/lib/python3.10/dist-packages (from transformers) (3.13.1)\n",
      "Requirement already satisfied: huggingface-hub<1.0,>=0.19.3 in /usr/local/lib/python3.10/dist-packages (from transformers) (0.20.2)\n",
      "Requirement already satisfied: numpy>=1.17 in /usr/local/lib/python3.10/dist-packages (from transformers) (1.24.4)\n",
      "Requirement already satisfied: packaging>=20.0 in /usr/local/lib/python3.10/dist-packages (from transformers) (23.2)\n",
      "Requirement already satisfied: pyyaml>=5.1 in /usr/local/lib/python3.10/dist-packages (from transformers) (6.0.1)\n",
      "Requirement already satisfied: regex!=2019.12.17 in /usr/local/lib/python3.10/dist-packages (from transformers) (2023.12.25)\n",
      "Requirement already satisfied: requests in /usr/local/lib/python3.10/dist-packages (from transformers) (2.31.0)\n",
      "Requirement already satisfied: tokenizers<0.19,>=0.14 in /usr/local/lib/python3.10/dist-packages (from transformers) (0.15.0)\n",
      "Requirement already satisfied: safetensors>=0.3.1 in /usr/local/lib/python3.10/dist-packages (from transformers) (0.4.1)\n",
      "Requirement already satisfied: tqdm>=4.27 in /usr/local/lib/python3.10/dist-packages (from transformers) (4.66.1)\n",
      "Requirement already satisfied: fsspec>=2023.5.0 in /usr/local/lib/python3.10/dist-packages (from huggingface-hub<1.0,>=0.19.3->transformers) (2023.12.0)\n",
      "Requirement already satisfied: typing-extensions>=3.7.4.3 in /usr/local/lib/python3.10/dist-packages (from huggingface-hub<1.0,>=0.19.3->transformers) (4.8.0)\n",
      "Requirement already satisfied: charset-normalizer<4,>=2 in /usr/local/lib/python3.10/dist-packages (from requests->transformers) (3.3.2)\n",
      "Requirement already satisfied: idna<4,>=2.5 in /usr/local/lib/python3.10/dist-packages (from requests->transformers) (3.6)\n",
      "Requirement already satisfied: urllib3<3,>=1.21.1 in /usr/local/lib/python3.10/dist-packages (from requests->transformers) (1.26.18)\n",
      "Requirement already satisfied: certifi>=2017.4.17 in /usr/local/lib/python3.10/dist-packages (from requests->transformers) (2023.11.17)\n",
      "\u001b[33mWARNING: Running pip as the 'root' user can result in broken permissions and conflicting behaviour with the system package manager. It is recommended to use a virtual environment instead: https://pip.pypa.io/warnings/venv\u001b[0m\u001b[33m\n",
      "\u001b[0m"
     ]
    }
   ],
   "source": [
    "!pip install transformers"
   ]
  },
  {
   "cell_type": "code",
   "execution_count": 2,
   "id": "58c0c8fc",
   "metadata": {
    "scrolled": true
   },
   "outputs": [
    {
     "name": "stdout",
     "output_type": "stream",
     "text": [
      "Found existing installation: matplotlib 3.7.3\n",
      "Uninstalling matplotlib-3.7.3:\n",
      "  Successfully uninstalled matplotlib-3.7.3\n",
      "\u001b[33mWARNING: Running pip as the 'root' user can result in broken permissions and conflicting behaviour with the system package manager. It is recommended to use a virtual environment instead: https://pip.pypa.io/warnings/venv\u001b[0m\u001b[33m\n",
      "\u001b[0mCollecting matplotlib==3.7.3\n",
      "  Using cached matplotlib-3.7.3-cp310-cp310-manylinux_2_17_x86_64.manylinux2014_x86_64.whl.metadata (5.7 kB)\n",
      "Requirement already satisfied: contourpy>=1.0.1 in /usr/local/lib/python3.10/dist-packages (from matplotlib==3.7.3) (1.2.0)\n",
      "Requirement already satisfied: cycler>=0.10 in /usr/local/lib/python3.10/dist-packages (from matplotlib==3.7.3) (0.12.1)\n",
      "Requirement already satisfied: fonttools>=4.22.0 in /usr/local/lib/python3.10/dist-packages (from matplotlib==3.7.3) (4.47.2)\n",
      "Requirement already satisfied: kiwisolver>=1.0.1 in /usr/local/lib/python3.10/dist-packages (from matplotlib==3.7.3) (1.4.5)\n",
      "Requirement already satisfied: numpy<2,>=1.20 in /usr/local/lib/python3.10/dist-packages (from matplotlib==3.7.3) (1.24.4)\n",
      "Requirement already satisfied: packaging>=20.0 in /usr/local/lib/python3.10/dist-packages (from matplotlib==3.7.3) (23.2)\n",
      "Requirement already satisfied: pillow>=6.2.0 in /usr/local/lib/python3.10/dist-packages (from matplotlib==3.7.3) (10.1.0)\n",
      "Requirement already satisfied: pyparsing>=2.3.1 in /usr/local/lib/python3.10/dist-packages (from matplotlib==3.7.3) (3.1.1)\n",
      "Requirement already satisfied: python-dateutil>=2.7 in /usr/local/lib/python3.10/dist-packages (from matplotlib==3.7.3) (2.8.2)\n",
      "Requirement already satisfied: six>=1.5 in /usr/local/lib/python3.10/dist-packages (from python-dateutil>=2.7->matplotlib==3.7.3) (1.16.0)\n",
      "Using cached matplotlib-3.7.3-cp310-cp310-manylinux_2_17_x86_64.manylinux2014_x86_64.whl (11.6 MB)\n",
      "Installing collected packages: matplotlib\n",
      "Successfully installed matplotlib-3.7.3\n",
      "\u001b[33mWARNING: Running pip as the 'root' user can result in broken permissions and conflicting behaviour with the system package manager. It is recommended to use a virtual environment instead: https://pip.pypa.io/warnings/venv\u001b[0m\u001b[33m\n",
      "\u001b[0m"
     ]
    }
   ],
   "source": [
    "!pip uninstall -y matplotlib\n",
    "!pip install matplotlib==3.7.3"
   ]
  },
  {
   "cell_type": "code",
   "execution_count": 3,
   "id": "82e6f70d",
   "metadata": {},
   "outputs": [
    {
     "name": "stderr",
     "output_type": "stream",
     "text": [
      "2024-01-15 10:11:54.997690: E tensorflow/compiler/xla/stream_executor/cuda/cuda_dnn.cc:9360] Unable to register cuDNN factory: Attempting to register factory for plugin cuDNN when one has already been registered\n",
      "2024-01-15 10:11:54.997751: E tensorflow/compiler/xla/stream_executor/cuda/cuda_fft.cc:609] Unable to register cuFFT factory: Attempting to register factory for plugin cuFFT when one has already been registered\n",
      "2024-01-15 10:11:54.997783: E tensorflow/compiler/xla/stream_executor/cuda/cuda_blas.cc:1537] Unable to register cuBLAS factory: Attempting to register factory for plugin cuBLAS when one has already been registered\n",
      "2024-01-15 10:11:55.005570: I tensorflow/core/platform/cpu_feature_guard.cc:183] This TensorFlow binary is optimized to use available CPU instructions in performance-critical operations.\n",
      "To enable the following instructions: SSE3 SSE4.1 SSE4.2 AVX, in other operations, rebuild TensorFlow with the appropriate compiler flags.\n"
     ]
    }
   ],
   "source": [
    "import time\n",
    "import random\n",
    "import pandas as pd\n",
    "from glob import glob\n",
    "import argparse\n",
    "import json\n",
    "import subprocess\n",
    "import sys\n",
    "import os\n",
    "import tensorflow as tf\n",
    "from transformers import DistilBertTokenizer\n",
    "from transformers import TFDistilBertForSequenceClassification\n",
    "from transformers import DistilBertConfig"
   ]
  },
  {
   "cell_type": "code",
   "execution_count": 4,
   "id": "775776f4",
   "metadata": {},
   "outputs": [],
   "source": [
    "# Define the connection between Input data and Label"
   ]
  },
  {
   "cell_type": "code",
   "execution_count": 5,
   "id": "a61eed2f",
   "metadata": {},
   "outputs": [],
   "source": [
    "def select_data_and_label_from_record(record):\n",
    "    x = {\n",
    "        \"input_ids\": record[\"input_ids\"],\n",
    "        \"input_mask\": record[\"input_mask\"],\n",
    "    }\n",
    "    y = record[\"label_ids\"]\n",
    "\n",
    "    return (x, y)"
   ]
  },
  {
   "cell_type": "code",
   "execution_count": 6,
   "id": "6545c673",
   "metadata": {},
   "outputs": [],
   "source": [
    "def file_based_input_dataset_builder(channel, input_filenames, max_seq_length, is_training, drop_remainder):\n",
    "    # トレーニング時には並列読み出しとシャッフルを行う。\n",
    "    # 評価時にはシャッフルは行わず、並列読み出しは効果がない。\n",
    "\n",
    "    dataset = tf.data.TFRecordDataset(input_filenames)\n",
    "    dataset = dataset.repeat(100)\n",
    "    dataset = dataset.prefetch(tf.data.experimental.AUTOTUNE)\n",
    "\n",
    "    name_to_features = {\n",
    "        \"input_ids\": tf.io.FixedLenFeature([max_seq_length], tf.int64),\n",
    "        \"input_mask\": tf.io.FixedLenFeature([max_seq_length], tf.int64),\n",
    "        \"label_ids\": tf.io.FixedLenFeature([], tf.int64),\n",
    "    }\n",
    "\n",
    "    def _decode_record(record, name_to_features):\n",
    "        \"\"\"Decodes a record to a TensorFlow example.\"\"\"\n",
    "        return tf.io.parse_single_example(record, name_to_features)\n",
    "\n",
    "    dataset = dataset.apply(\n",
    "        tf.data.experimental.map_and_batch(\n",
    "            lambda record: _decode_record(record, name_to_features),\n",
    "            batch_size=8,\n",
    "            drop_remainder=drop_remainder,\n",
    "            num_parallel_calls=tf.data.experimental.AUTOTUNE,\n",
    "        )\n",
    "    )\n",
    "\n",
    "    dataset.cache()\n",
    "\n",
    "    if is_training:\n",
    "        dataset = dataset.shuffle(seed=42, buffer_size=10, reshuffle_each_iteration=True)\n",
    "\n",
    "    return dataset"
   ]
  },
  {
   "cell_type": "code",
   "execution_count": 7,
   "id": "97b081fc",
   "metadata": {
    "scrolled": true
   },
   "outputs": [
    {
     "name": "stdout",
     "output_type": "stream",
     "text": [
      "train_data_filenames /mnt/train_small_data.tfrecord\n",
      "WARNING:tensorflow:From /tmp/ipykernel_1491/1897154758.py:20: map_and_batch (from tensorflow.python.data.experimental.ops.batching) is deprecated and will be removed in a future version.\n",
      "Instructions for updating:\n",
      "Use `tf.data.Dataset.map(map_func, num_parallel_calls)` followed by `tf.data.Dataset.batch(batch_size, drop_remainder)`. Static tf.data optimizations will take care of using the fused implementation.\n"
     ]
    },
    {
     "name": "stderr",
     "output_type": "stream",
     "text": [
      "2024-01-15 10:11:57.609976: I tensorflow/compiler/xla/stream_executor/cuda/cuda_gpu_executor.cc:880] could not open file to read NUMA node: /sys/bus/pci/devices/0000:01:00.0/numa_node\n",
      "Your kernel may have been built without NUMA support.\n",
      "2024-01-15 10:11:57.616526: I tensorflow/compiler/xla/stream_executor/cuda/cuda_gpu_executor.cc:880] could not open file to read NUMA node: /sys/bus/pci/devices/0000:01:00.0/numa_node\n",
      "Your kernel may have been built without NUMA support.\n",
      "2024-01-15 10:11:57.616574: I tensorflow/compiler/xla/stream_executor/cuda/cuda_gpu_executor.cc:880] could not open file to read NUMA node: /sys/bus/pci/devices/0000:01:00.0/numa_node\n",
      "Your kernel may have been built without NUMA support.\n",
      "2024-01-15 10:11:57.618820: I tensorflow/compiler/xla/stream_executor/cuda/cuda_gpu_executor.cc:880] could not open file to read NUMA node: /sys/bus/pci/devices/0000:01:00.0/numa_node\n",
      "Your kernel may have been built without NUMA support.\n",
      "2024-01-15 10:11:57.618882: I tensorflow/compiler/xla/stream_executor/cuda/cuda_gpu_executor.cc:880] could not open file to read NUMA node: /sys/bus/pci/devices/0000:01:00.0/numa_node\n",
      "Your kernel may have been built without NUMA support.\n",
      "2024-01-15 10:11:57.618914: I tensorflow/compiler/xla/stream_executor/cuda/cuda_gpu_executor.cc:880] could not open file to read NUMA node: /sys/bus/pci/devices/0000:01:00.0/numa_node\n",
      "Your kernel may have been built without NUMA support.\n",
      "2024-01-15 10:11:57.699410: I tensorflow/compiler/xla/stream_executor/cuda/cuda_gpu_executor.cc:880] could not open file to read NUMA node: /sys/bus/pci/devices/0000:01:00.0/numa_node\n",
      "Your kernel may have been built without NUMA support.\n",
      "2024-01-15 10:11:57.699472: I tensorflow/compiler/xla/stream_executor/cuda/cuda_gpu_executor.cc:880] could not open file to read NUMA node: /sys/bus/pci/devices/0000:01:00.0/numa_node\n",
      "Your kernel may have been built without NUMA support.\n",
      "2024-01-15 10:11:57.699483: I tensorflow/core/common_runtime/gpu/gpu_device.cc:1974] Could not identify NUMA node of platform GPU id 0, defaulting to 0.  Your kernel may not have been built with NUMA support.\n",
      "2024-01-15 10:11:57.699525: I tensorflow/compiler/xla/stream_executor/cuda/cuda_gpu_executor.cc:880] could not open file to read NUMA node: /sys/bus/pci/devices/0000:01:00.0/numa_node\n",
      "Your kernel may have been built without NUMA support.\n",
      "2024-01-15 10:11:57.699545: I tensorflow/core/common_runtime/gpu/gpu_device.cc:1883] Created device /job:localhost/replica:0/task:0/device:GPU:0 with 2660 MB memory:  -> device: 0, name: Quadro P1000, pci bus id: 0000:01:00.0, compute capability: 6.1\n"
     ]
    }
   ],
   "source": [
    "# train_data = \"./data-tfrecord/bert-train\"\n",
    "train_data_filenames = \"/mnt/train_small_data.tfrecord\"\n",
    "print(\"train_data_filenames {}\".format(train_data_filenames))\n",
    "\n",
    "train_dataset = file_based_input_dataset_builder(\n",
    "    channel=\"train\", \n",
    "    input_filenames=train_data_filenames, \n",
    "    max_seq_length=64, \n",
    "    is_training=True, \n",
    "    drop_remainder=False\n",
    ").map(select_data_and_label_from_record)"
   ]
  },
  {
   "cell_type": "code",
   "execution_count": 8,
   "id": "782302e1",
   "metadata": {},
   "outputs": [
    {
     "name": "stdout",
     "output_type": "stream",
     "text": [
      "<_MapDataset element_spec=({'input_ids': TensorSpec(shape=(None, 64), dtype=tf.int64, name=None), 'input_mask': TensorSpec(shape=(None, 64), dtype=tf.int64, name=None)}, TensorSpec(shape=(None,), dtype=tf.int64, name=None))>\n"
     ]
    }
   ],
   "source": [
    "print(train_dataset)"
   ]
  },
  {
   "cell_type": "code",
   "execution_count": 9,
   "id": "6da07a0c",
   "metadata": {},
   "outputs": [
    {
     "name": "stdout",
     "output_type": "stream",
     "text": [
      "validation_data_filenames /mnt/validation_small_data.tfrecord\n"
     ]
    }
   ],
   "source": [
    "# validation_data = \"./data-tfrecord/bert-validation\"\n",
    "validation_data_filenames = \"/mnt/validation_small_data.tfrecord\"\n",
    "print(\"validation_data_filenames {}\".format(validation_data_filenames))\n",
    "\n",
    "validation_dataset = file_based_input_dataset_builder(\n",
    "    channel=\"validation\",\n",
    "    input_filenames=validation_data_filenames,\n",
    "    max_seq_length=64,\n",
    "    is_training=False,\n",
    "    drop_remainder=False,\n",
    ").map(select_data_and_label_from_record)"
   ]
  },
  {
   "cell_type": "code",
   "execution_count": 10,
   "id": "9e2bb084",
   "metadata": {},
   "outputs": [],
   "source": [
    "epochs = 1\n",
    "steps_per_epoch = 1\n",
    "validation_steps = 1\n",
    "test_steps = 1\n",
    "freeze_bert_layer = True\n",
    "learning_rate = 3e-5\n",
    "epsilon = 1e-08\n",
    "max_seq_length = 64"
   ]
  },
  {
   "cell_type": "code",
   "execution_count": 11,
   "id": "d885da1a",
   "metadata": {
    "scrolled": true
   },
   "outputs": [
    {
     "name": "stdout",
     "output_type": "stream",
     "text": [
      "DistilBertConfig {\n",
      "  \"activation\": \"gelu\",\n",
      "  \"architectures\": [\n",
      "    \"DistilBertForMaskedLM\"\n",
      "  ],\n",
      "  \"attention_dropout\": 0.1,\n",
      "  \"dim\": 768,\n",
      "  \"dropout\": 0.1,\n",
      "  \"hidden_dim\": 3072,\n",
      "  \"id2label\": {\n",
      "    \"0\": 1,\n",
      "    \"1\": 2,\n",
      "    \"2\": 3,\n",
      "    \"3\": 4,\n",
      "    \"4\": 5\n",
      "  },\n",
      "  \"initializer_range\": 0.02,\n",
      "  \"label2id\": {\n",
      "    \"1\": 0,\n",
      "    \"2\": 1,\n",
      "    \"3\": 2,\n",
      "    \"4\": 3,\n",
      "    \"5\": 4\n",
      "  },\n",
      "  \"max_position_embeddings\": 512,\n",
      "  \"model_type\": \"distilbert\",\n",
      "  \"n_heads\": 12,\n",
      "  \"n_layers\": 6,\n",
      "  \"pad_token_id\": 0,\n",
      "  \"qa_dropout\": 0.1,\n",
      "  \"seq_classif_dropout\": 0.2,\n",
      "  \"sinusoidal_pos_embds\": false,\n",
      "  \"tie_weights_\": true,\n",
      "  \"transformers_version\": \"4.36.2\",\n",
      "  \"vocab_size\": 30522\n",
      "}\n",
      "\n"
     ]
    }
   ],
   "source": [
    "CLASSES = [1, 2, 3, 4, 5]\n",
    "\n",
    "config = DistilBertConfig.from_pretrained(\n",
    "    \"distilbert-base-uncased\",\n",
    "    num_labels=len(CLASSES),\n",
    "    id2label={0: 1, 1: 2, 2: 3, 3: 4, 4: 5},\n",
    "    label2id={1: 0, 2: 1, 3: 2, 4: 3, 5: 4},\n",
    ")\n",
    "print(config)"
   ]
  },
  {
   "cell_type": "code",
   "execution_count": 12,
   "id": "b7810d2b",
   "metadata": {},
   "outputs": [],
   "source": [
    "# Adding the layer for fine tuning on BERT"
   ]
  },
  {
   "cell_type": "code",
   "execution_count": 13,
   "id": "eadc4cc8",
   "metadata": {
    "scrolled": true
   },
   "outputs": [
    {
     "name": "stderr",
     "output_type": "stream",
     "text": [
      "Some weights of the PyTorch model were not used when initializing the TF 2.0 model TFDistilBertForSequenceClassification: ['vocab_layer_norm.weight', 'vocab_transform.weight', 'vocab_transform.bias', 'vocab_layer_norm.bias', 'vocab_projector.bias']\n",
      "- This IS expected if you are initializing TFDistilBertForSequenceClassification from a PyTorch model trained on another task or with another architecture (e.g. initializing a TFBertForSequenceClassification model from a BertForPreTraining model).\n",
      "- This IS NOT expected if you are initializing TFDistilBertForSequenceClassification from a PyTorch model that you expect to be exactly identical (e.g. initializing a TFBertForSequenceClassification model from a BertForSequenceClassification model).\n",
      "Some weights or buffers of the TF 2.0 model TFDistilBertForSequenceClassification were not initialized from the PyTorch model and are newly initialized: ['pre_classifier.weight', 'pre_classifier.bias', 'classifier.weight', 'classifier.bias']\n",
      "You should probably TRAIN this model on a down-stream task to be able to use it for predictions and inference.\n"
     ]
    },
    {
     "name": "stdout",
     "output_type": "stream",
     "text": [
      "WARNING:tensorflow:Layer lstm will not use cuDNN kernels since it doesn't meet the criteria. It will use a generic GPU kernel as fallback when running on GPU.\n",
      "WARNING:tensorflow:Layer lstm will not use cuDNN kernels since it doesn't meet the criteria. It will use a generic GPU kernel as fallback when running on GPU.\n",
      "WARNING:tensorflow:Layer lstm will not use cuDNN kernels since it doesn't meet the criteria. It will use a generic GPU kernel as fallback when running on GPU.\n"
     ]
    }
   ],
   "source": [
    "transformer_model = TFDistilBertForSequenceClassification.from_pretrained(\"distilbert-base-uncased\", config=config)\n",
    "\n",
    "input_ids = tf.keras.layers.Input(shape=(max_seq_length,), name=\"input_ids\", dtype=\"int32\")\n",
    "input_mask = tf.keras.layers.Input(shape=(max_seq_length,), name=\"input_mask\", dtype=\"int32\")\n",
    "\n",
    "embedding_layer = transformer_model.distilbert(input_ids, attention_mask=input_mask)[0]\n",
    "X = tf.keras.layers.Bidirectional(tf.keras.layers.LSTM(50, return_sequences=True, dropout=0.1, recurrent_dropout=0.1))(\n",
    "    embedding_layer\n",
    ")\n",
    "X = tf.keras.layers.GlobalMaxPool1D()(X)\n",
    "X = tf.keras.layers.Dense(50, activation=\"relu\")(X)\n",
    "X = tf.keras.layers.Dropout(0.2)(X)\n",
    "X = tf.keras.layers.Dense(len(CLASSES), activation=\"softmax\")(X)\n",
    "\n",
    "model = tf.keras.Model(inputs=[input_ids, input_mask], outputs=X)\n",
    "\n",
    "for layer in model.layers[:3]:\n",
    "    layer.trainable = not freeze_bert_layer"
   ]
  },
  {
   "cell_type": "code",
   "execution_count": 14,
   "id": "b457525b",
   "metadata": {},
   "outputs": [],
   "source": [
    "# Set up the custom classifier model"
   ]
  },
  {
   "cell_type": "code",
   "execution_count": 15,
   "id": "1ac81c89",
   "metadata": {
    "scrolled": true
   },
   "outputs": [
    {
     "name": "stdout",
     "output_type": "stream",
     "text": [
      "Model: \"model\"\n",
      "__________________________________________________________________________________________________\n",
      " Layer (type)                Output Shape                 Param #   Connected to                  \n",
      "==================================================================================================\n",
      " input_ids (InputLayer)      [(None, 64)]                 0         []                            \n",
      "                                                                                                  \n",
      " input_mask (InputLayer)     [(None, 64)]                 0         []                            \n",
      "                                                                                                  \n",
      " distilbert (TFDistilBertMa  TFBaseModelOutput(last_hid   6636288   ['input_ids[0][0]',           \n",
      " inLayer)                    den_state=(None, 64, 768),   0          'input_mask[0][0]']          \n",
      "                              hidden_states=None, atten                                           \n",
      "                             tions=None)                                                          \n",
      "                                                                                                  \n",
      " bidirectional (Bidirection  (None, 64, 100)              327600    ['distilbert[0][0]']          \n",
      " al)                                                                                              \n",
      "                                                                                                  \n",
      " global_max_pooling1d (Glob  (None, 100)                  0         ['bidirectional[0][0]']       \n",
      " alMaxPooling1D)                                                                                  \n",
      "                                                                                                  \n",
      " dense (Dense)               (None, 50)                   5050      ['global_max_pooling1d[0][0]']\n",
      "                                                                                                  \n",
      " dropout_20 (Dropout)        (None, 50)                   0         ['dense[0][0]']               \n",
      "                                                                                                  \n",
      " dense_1 (Dense)             (None, 5)                    255       ['dropout_20[0][0]']          \n",
      "                                                                                                  \n",
      "==================================================================================================\n",
      "Total params: 66695785 (254.42 MB)\n",
      "Trainable params: 332905 (1.27 MB)\n",
      "Non-trainable params: 66362880 (253.15 MB)\n",
      "__________________________________________________________________________________________________\n"
     ]
    }
   ],
   "source": [
    "loss = tf.keras.losses.SparseCategoricalCrossentropy(from_logits=True)\n",
    "\n",
    "metric = tf.keras.metrics.SparseCategoricalAccuracy(\"accuracy\")\n",
    "\n",
    "optimizer = tf.keras.optimizers.Adam(learning_rate=learning_rate, epsilon=epsilon)\n",
    "\n",
    "model.compile(optimizer=optimizer, loss=loss, metrics=[metric])\n",
    "\n",
    "model.summary()"
   ]
  },
  {
   "cell_type": "code",
   "execution_count": 16,
   "id": "625622d7",
   "metadata": {},
   "outputs": [
    {
     "data": {
      "image/png": "[encoded data removed]",
      "text/plain": [
       "<IPython.core.display.Image object>"
      ]
     },
     "execution_count": 16,
     "metadata": {},
     "output_type": "execute_result"
    }
   ],
   "source": [
    "from tensorflow.keras.utils import plot_model\n",
    "plot_model(model,show_shapes=True)"
   ]
  },
  {
   "cell_type": "code",
   "execution_count": 17,
   "id": "6cbc2f10",
   "metadata": {},
   "outputs": [],
   "source": [
    "callbacks = []\n",
    "\n",
    "log_dir = \"./tmp/tensorboard/\"\n",
    "tensorboard_callback = tf.keras.callbacks.TensorBoard(log_dir=log_dir)\n",
    "callbacks.append(tensorboard_callback)"
   ]
  },
  {
   "cell_type": "code",
   "execution_count": 18,
   "id": "ba28eb46",
   "metadata": {
    "scrolled": true
   },
   "outputs": [
    {
     "name": "stderr",
     "output_type": "stream",
     "text": [
      "/usr/local/lib/python3.10/dist-packages/keras/src/backend.py:5729: UserWarning: \"`sparse_categorical_crossentropy` received `from_logits=True`, but the `output` argument was produced by a Softmax activation and thus does not represent logits. Was this intended?\n",
      "  output, from_logits = _get_logits(\n",
      "2024-01-15 10:23:23.140563: I tensorflow/compiler/xla/service/service.cc:168] XLA service 0x56458c3fd3a0 initialized for platform CUDA (this does not guarantee that XLA will be used). Devices:\n",
      "2024-01-15 10:23:23.140611: I tensorflow/compiler/xla/service/service.cc:176]   StreamExecutor device (0): Quadro P1000, Compute Capability 6.1\n",
      "2024-01-15 10:23:23.150037: I tensorflow/compiler/mlir/tensorflow/utils/dump_mlir_util.cc:269] disabling MLIR crash reproducer, set env var `MLIR_CRASH_REPRODUCER_DIRECTORY` to enable.\n",
      "2024-01-15 10:23:23.166498: I tensorflow/compiler/xla/stream_executor/cuda/cuda_dnn.cc:442] Loaded cuDNN version 8907\n",
      "2024-01-15 10:23:23.233132: I ./tensorflow/compiler/jit/device_compiler.h:186] Compiled cluster using XLA!  This line is logged at most once for the lifetime of the process.\n"
     ]
    },
    {
     "name": "stdout",
     "output_type": "stream",
     "text": [
      "1/1 [==============================] - 16s 16s/step - loss: 1.7578 - accuracy: 0.1250 - val_loss: 1.6683 - val_accuracy: 0.2500\n"
     ]
    }
   ],
   "source": [
    "history = model.fit(\n",
    "    train_dataset,\n",
    "    shuffle=True,\n",
    "    epochs=epochs,\n",
    "    steps_per_epoch=steps_per_epoch,\n",
    "    validation_data=validation_dataset,\n",
    "    validation_steps=validation_steps,\n",
    "    callbacks=callbacks,\n",
    ")"
   ]
  },
  {
   "cell_type": "code",
   "execution_count": 19,
   "id": "190f0aeb",
   "metadata": {},
   "outputs": [],
   "source": [
    "epochs = 128\n",
    "steps_per_epoch = 32\n",
    "validation_steps = 32\n",
    "test_steps = 32\n",
    "freeze_bert_layer = True\n",
    "learning_rate = 3e-5\n",
    "epsilon = 1e-08\n",
    "max_seq_length = 64"
   ]
  },
  {
   "cell_type": "code",
   "execution_count": 20,
   "id": "18a6b2d9",
   "metadata": {},
   "outputs": [
    {
     "name": "stdout",
     "output_type": "stream",
     "text": [
      "Epoch 1/128\n",
      "32/32 [==============================] - 51s 2s/step - loss: 1.6500 - accuracy: 0.2070 - val_loss: 1.6337 - val_accuracy: 0.1641\n",
      "Epoch 2/128\n",
      "32/32 [==============================] - 51s 2s/step - loss: 1.6336 - accuracy: 0.1719 - val_loss: 1.6185 - val_accuracy: 0.1484\n",
      "Epoch 3/128\n",
      "32/32 [==============================] - 51s 2s/step - loss: 1.6351 - accuracy: 0.1680 - val_loss: 1.6110 - val_accuracy: 0.1758\n",
      "Epoch 4/128\n",
      "32/32 [==============================] - 50s 2s/step - loss: 1.6134 - accuracy: 0.1719 - val_loss: 1.6065 - val_accuracy: 0.1836\n",
      "Epoch 5/128\n",
      "32/32 [==============================] - 51s 2s/step - loss: 1.6127 - accuracy: 0.2539 - val_loss: 1.6034 - val_accuracy: 0.1914\n",
      "Epoch 6/128\n",
      "32/32 [==============================] - 51s 2s/step - loss: 1.6132 - accuracy: 0.1992 - val_loss: 1.6019 - val_accuracy: 0.1992\n",
      "Epoch 7/128\n",
      "32/32 [==============================] - 50s 2s/step - loss: 1.6198 - accuracy: 0.1953 - val_loss: 1.5952 - val_accuracy: 0.2305\n",
      "Epoch 8/128\n",
      "32/32 [==============================] - 50s 2s/step - loss: 1.6072 - accuracy: 0.2109 - val_loss: 1.5896 - val_accuracy: 0.2539\n",
      "Epoch 9/128\n",
      "32/32 [==============================] - 51s 2s/step - loss: 1.5973 - accuracy: 0.2695 - val_loss: 1.5853 - val_accuracy: 0.2578\n",
      "Epoch 10/128\n",
      "32/32 [==============================] - 51s 2s/step - loss: 1.5869 - accuracy: 0.2852 - val_loss: 1.5818 - val_accuracy: 0.2617\n",
      "Epoch 11/128\n",
      "32/32 [==============================] - 51s 2s/step - loss: 1.5835 - accuracy: 0.2852 - val_loss: 1.5784 - val_accuracy: 0.2617\n",
      "Epoch 12/128\n",
      "32/32 [==============================] - 50s 2s/step - loss: 1.5785 - accuracy: 0.2773 - val_loss: 1.5741 - val_accuracy: 0.2695\n",
      "Epoch 13/128\n",
      "32/32 [==============================] - 51s 2s/step - loss: 1.5840 - accuracy: 0.2578 - val_loss: 1.5715 - val_accuracy: 0.2969\n",
      "Epoch 14/128\n",
      "32/32 [==============================] - 51s 2s/step - loss: 1.5764 - accuracy: 0.2422 - val_loss: 1.5694 - val_accuracy: 0.2461\n",
      "Epoch 15/128\n",
      "32/32 [==============================] - 51s 2s/step - loss: 1.5634 - accuracy: 0.2852 - val_loss: 1.5652 - val_accuracy: 0.3047\n",
      "Epoch 16/128\n",
      "32/32 [==============================] - 51s 2s/step - loss: 1.5417 - accuracy: 0.3281 - val_loss: 1.5612 - val_accuracy: 0.3164\n",
      "Epoch 17/128\n",
      "32/32 [==============================] - 52s 2s/step - loss: 1.5612 - accuracy: 0.3086 - val_loss: 1.5568 - val_accuracy: 0.2969\n",
      "Epoch 18/128\n",
      "32/32 [==============================] - 51s 2s/step - loss: 1.5534 - accuracy: 0.3047 - val_loss: 1.5556 - val_accuracy: 0.3008\n",
      "Epoch 19/128\n",
      "32/32 [==============================] - 53s 2s/step - loss: 1.5444 - accuracy: 0.2734 - val_loss: 1.5497 - val_accuracy: 0.3047\n",
      "Epoch 20/128\n",
      "32/32 [==============================] - 51s 2s/step - loss: 1.5576 - accuracy: 0.2773 - val_loss: 1.5461 - val_accuracy: 0.3281\n",
      "Epoch 21/128\n",
      "32/32 [==============================] - 52s 2s/step - loss: 1.5592 - accuracy: 0.2930 - val_loss: 1.5405 - val_accuracy: 0.3125\n",
      "Epoch 22/128\n",
      "32/32 [==============================] - 51s 2s/step - loss: 1.5291 - accuracy: 0.3008 - val_loss: 1.5378 - val_accuracy: 0.2969\n",
      "Epoch 23/128\n",
      "32/32 [==============================] - 51s 2s/step - loss: 1.5396 - accuracy: 0.3125 - val_loss: 1.5313 - val_accuracy: 0.3008\n",
      "Epoch 24/128\n",
      "32/32 [==============================] - 51s 2s/step - loss: 1.5059 - accuracy: 0.3203 - val_loss: 1.5287 - val_accuracy: 0.3125\n",
      "Epoch 25/128\n",
      "32/32 [==============================] - 56s 2s/step - loss: 1.5166 - accuracy: 0.3359 - val_loss: 1.5223 - val_accuracy: 0.3242\n",
      "Epoch 26/128\n",
      "32/32 [==============================] - 50s 2s/step - loss: 1.5094 - accuracy: 0.3438 - val_loss: 1.5180 - val_accuracy: 0.3477\n",
      "Epoch 27/128\n",
      "32/32 [==============================] - 50s 2s/step - loss: 1.5164 - accuracy: 0.3086 - val_loss: 1.5162 - val_accuracy: 0.3594\n",
      "Epoch 28/128\n",
      "32/32 [==============================] - 50s 2s/step - loss: 1.5093 - accuracy: 0.3281 - val_loss: 1.5111 - val_accuracy: 0.3555\n",
      "Epoch 29/128\n",
      "32/32 [==============================] - 50s 2s/step - loss: 1.5375 - accuracy: 0.3164 - val_loss: 1.5069 - val_accuracy: 0.3555\n",
      "Epoch 30/128\n",
      "32/32 [==============================] - 50s 2s/step - loss: 1.5206 - accuracy: 0.3320 - val_loss: 1.5012 - val_accuracy: 0.3477\n",
      "Epoch 31/128\n",
      "32/32 [==============================] - 50s 2s/step - loss: 1.5030 - accuracy: 0.3203 - val_loss: 1.4966 - val_accuracy: 0.3516\n",
      "Epoch 32/128\n",
      "32/32 [==============================] - 50s 2s/step - loss: 1.4897 - accuracy: 0.3633 - val_loss: 1.4911 - val_accuracy: 0.3633\n",
      "Epoch 33/128\n",
      "32/32 [==============================] - 50s 2s/step - loss: 1.5176 - accuracy: 0.2891 - val_loss: 1.4872 - val_accuracy: 0.3555\n",
      "Epoch 34/128\n",
      "32/32 [==============================] - 50s 2s/step - loss: 1.5146 - accuracy: 0.2969 - val_loss: 1.4855 - val_accuracy: 0.3555\n",
      "Epoch 35/128\n",
      "32/32 [==============================] - 50s 2s/step - loss: 1.5014 - accuracy: 0.3359 - val_loss: 1.4791 - val_accuracy: 0.3789\n",
      "Epoch 36/128\n",
      "32/32 [==============================] - 50s 2s/step - loss: 1.5093 - accuracy: 0.2969 - val_loss: 1.4762 - val_accuracy: 0.3750\n",
      "Epoch 37/128\n",
      "32/32 [==============================] - 50s 2s/step - loss: 1.4467 - accuracy: 0.3594 - val_loss: 1.4717 - val_accuracy: 0.3867\n",
      "Epoch 38/128\n",
      "32/32 [==============================] - 50s 2s/step - loss: 1.5094 - accuracy: 0.3125 - val_loss: 1.4665 - val_accuracy: 0.3555\n",
      "Epoch 39/128\n",
      "32/32 [==============================] - 51s 2s/step - loss: 1.4391 - accuracy: 0.4023 - val_loss: 1.4610 - val_accuracy: 0.3789\n",
      "Epoch 40/128\n",
      "32/32 [==============================] - 50s 2s/step - loss: 1.4438 - accuracy: 0.3555 - val_loss: 1.4530 - val_accuracy: 0.3828\n",
      "Epoch 41/128\n",
      "32/32 [==============================] - 56s 2s/step - loss: 1.4524 - accuracy: 0.3438 - val_loss: 1.4509 - val_accuracy: 0.3867\n",
      "Epoch 42/128\n",
      "32/32 [==============================] - 62s 2s/step - loss: 1.4691 - accuracy: 0.3555 - val_loss: 1.4493 - val_accuracy: 0.3828\n",
      "Epoch 43/128\n",
      "32/32 [==============================] - 53s 2s/step - loss: 1.5137 - accuracy: 0.2891 - val_loss: 1.4427 - val_accuracy: 0.3867\n",
      "Epoch 44/128\n",
      "32/32 [==============================] - 60s 2s/step - loss: 1.4689 - accuracy: 0.3672 - val_loss: 1.4373 - val_accuracy: 0.3984\n",
      "Epoch 45/128\n",
      "32/32 [==============================] - 60s 2s/step - loss: 1.4321 - accuracy: 0.3711 - val_loss: 1.4316 - val_accuracy: 0.3867\n",
      "Epoch 46/128\n",
      "32/32 [==============================] - 59s 2s/step - loss: 1.4701 - accuracy: 0.3281 - val_loss: 1.4277 - val_accuracy: 0.4023\n",
      "Epoch 47/128\n",
      "32/32 [==============================] - 60s 2s/step - loss: 1.4545 - accuracy: 0.3438 - val_loss: 1.4203 - val_accuracy: 0.3867\n",
      "Epoch 48/128\n",
      "32/32 [==============================] - 59s 2s/step - loss: 1.4268 - accuracy: 0.3477 - val_loss: 1.4165 - val_accuracy: 0.3906\n",
      "Epoch 49/128\n",
      "32/32 [==============================] - 59s 2s/step - loss: 1.4618 - accuracy: 0.3672 - val_loss: 1.4120 - val_accuracy: 0.3984\n",
      "Epoch 50/128\n",
      "32/32 [==============================] - 59s 2s/step - loss: 1.4334 - accuracy: 0.3516 - val_loss: 1.4077 - val_accuracy: 0.4062\n",
      "Epoch 51/128\n",
      "32/32 [==============================] - 59s 2s/step - loss: 1.3968 - accuracy: 0.4180 - val_loss: 1.4034 - val_accuracy: 0.3711\n",
      "Epoch 52/128\n",
      "32/32 [==============================] - 66s 2s/step - loss: 1.3948 - accuracy: 0.3633 - val_loss: 1.3984 - val_accuracy: 0.3906\n",
      "Epoch 53/128\n",
      "32/32 [==============================] - 66s 2s/step - loss: 1.4188 - accuracy: 0.3633 - val_loss: 1.3926 - val_accuracy: 0.3867\n",
      "Epoch 54/128\n",
      "32/32 [==============================] - 73s 2s/step - loss: 1.4099 - accuracy: 0.3477 - val_loss: 1.3871 - val_accuracy: 0.4062\n",
      "Epoch 55/128\n",
      "32/32 [==============================] - 60s 2s/step - loss: 1.4055 - accuracy: 0.3594 - val_loss: 1.3808 - val_accuracy: 0.4180\n",
      "Epoch 56/128\n",
      "32/32 [==============================] - 60s 2s/step - loss: 1.4253 - accuracy: 0.4258 - val_loss: 1.3772 - val_accuracy: 0.4023\n",
      "Epoch 57/128\n",
      "32/32 [==============================] - 59s 2s/step - loss: 1.4529 - accuracy: 0.2930 - val_loss: 1.3751 - val_accuracy: 0.4180\n",
      "Epoch 58/128\n",
      "32/32 [==============================] - 61s 2s/step - loss: 1.4225 - accuracy: 0.3242 - val_loss: 1.3756 - val_accuracy: 0.4023\n"
     ]
    },
    {
     "name": "stdout",
     "output_type": "stream",
     "text": [
      "Epoch 59/128\n",
      "32/32 [==============================] - 61s 2s/step - loss: 1.4052 - accuracy: 0.3828 - val_loss: 1.3765 - val_accuracy: 0.4023\n",
      "Epoch 60/128\n",
      "32/32 [==============================] - 80s 3s/step - loss: 1.4341 - accuracy: 0.3516 - val_loss: 1.3678 - val_accuracy: 0.3984\n",
      "Epoch 61/128\n",
      "32/32 [==============================] - 76s 2s/step - loss: 1.3968 - accuracy: 0.3984 - val_loss: 1.3629 - val_accuracy: 0.3984\n",
      "Epoch 62/128\n",
      "32/32 [==============================] - 72s 2s/step - loss: 1.3950 - accuracy: 0.4141 - val_loss: 1.3609 - val_accuracy: 0.4023\n",
      "Epoch 63/128\n",
      "32/32 [==============================] - 72s 2s/step - loss: 1.4012 - accuracy: 0.3672 - val_loss: 1.3554 - val_accuracy: 0.4219\n",
      "Epoch 64/128\n",
      "32/32 [==============================] - 74s 2s/step - loss: 1.3989 - accuracy: 0.3672 - val_loss: 1.3537 - val_accuracy: 0.4258\n",
      "Epoch 65/128\n",
      "32/32 [==============================] - 62s 2s/step - loss: 1.3551 - accuracy: 0.3945 - val_loss: 1.3490 - val_accuracy: 0.4375\n",
      "Epoch 66/128\n",
      "32/32 [==============================] - 61s 2s/step - loss: 1.4363 - accuracy: 0.3359 - val_loss: 1.3453 - val_accuracy: 0.4062\n",
      "Epoch 67/128\n",
      "32/32 [==============================] - 68s 2s/step - loss: 1.3758 - accuracy: 0.3984 - val_loss: 1.3475 - val_accuracy: 0.4141\n",
      "Epoch 68/128\n",
      "32/32 [==============================] - 65s 2s/step - loss: 1.3820 - accuracy: 0.3398 - val_loss: 1.3452 - val_accuracy: 0.4141\n",
      "Epoch 69/128\n",
      "32/32 [==============================] - 65s 2s/step - loss: 1.3822 - accuracy: 0.3867 - val_loss: 1.3376 - val_accuracy: 0.4180\n",
      "Epoch 70/128\n",
      "32/32 [==============================] - 64s 2s/step - loss: 1.3930 - accuracy: 0.3320 - val_loss: 1.3344 - val_accuracy: 0.3984\n",
      "Epoch 71/128\n",
      "32/32 [==============================] - 65s 2s/step - loss: 1.4050 - accuracy: 0.3477 - val_loss: 1.3300 - val_accuracy: 0.4219\n",
      "Epoch 72/128\n",
      "32/32 [==============================] - 62s 2s/step - loss: 1.3793 - accuracy: 0.3359 - val_loss: 1.3232 - val_accuracy: 0.4180\n",
      "Epoch 73/128\n",
      "32/32 [==============================] - 51s 2s/step - loss: 1.3248 - accuracy: 0.4023 - val_loss: 1.3231 - val_accuracy: 0.3984\n",
      "Epoch 74/128\n",
      "32/32 [==============================] - 51s 2s/step - loss: 1.3515 - accuracy: 0.3945 - val_loss: 1.3201 - val_accuracy: 0.4102\n",
      "Epoch 75/128\n",
      "32/32 [==============================] - 51s 2s/step - loss: 1.3228 - accuracy: 0.4375 - val_loss: 1.3195 - val_accuracy: 0.4375\n",
      "Epoch 76/128\n",
      "32/32 [==============================] - 52s 2s/step - loss: 1.3799 - accuracy: 0.3438 - val_loss: 1.3155 - val_accuracy: 0.4414\n",
      "Epoch 77/128\n",
      "32/32 [==============================] - 51s 2s/step - loss: 1.3454 - accuracy: 0.4219 - val_loss: 1.3164 - val_accuracy: 0.4375\n",
      "Epoch 78/128\n",
      "32/32 [==============================] - 51s 2s/step - loss: 1.3491 - accuracy: 0.3984 - val_loss: 1.3131 - val_accuracy: 0.4180\n",
      "Epoch 79/128\n",
      "32/32 [==============================] - 51s 2s/step - loss: 1.3355 - accuracy: 0.3867 - val_loss: 1.3148 - val_accuracy: 0.4375\n",
      "Epoch 80/128\n",
      "32/32 [==============================] - 52s 2s/step - loss: 1.3776 - accuracy: 0.3633 - val_loss: 1.3089 - val_accuracy: 0.4219\n",
      "Epoch 81/128\n",
      "32/32 [==============================] - 52s 2s/step - loss: 1.3747 - accuracy: 0.4180 - val_loss: 1.3085 - val_accuracy: 0.4180\n",
      "Epoch 82/128\n",
      "32/32 [==============================] - 52s 2s/step - loss: 1.3337 - accuracy: 0.4336 - val_loss: 1.3060 - val_accuracy: 0.4375\n",
      "Epoch 83/128\n",
      "32/32 [==============================] - 51s 2s/step - loss: 1.3334 - accuracy: 0.3828 - val_loss: 1.3070 - val_accuracy: 0.4453\n",
      "Epoch 84/128\n",
      "32/32 [==============================] - 51s 2s/step - loss: 1.3348 - accuracy: 0.4375 - val_loss: 1.3058 - val_accuracy: 0.4297\n",
      "Epoch 85/128\n",
      "32/32 [==============================] - 52s 2s/step - loss: 1.3740 - accuracy: 0.4023 - val_loss: 1.3004 - val_accuracy: 0.4102\n",
      "Epoch 86/128\n",
      "32/32 [==============================] - 51s 2s/step - loss: 1.3318 - accuracy: 0.4062 - val_loss: 1.2964 - val_accuracy: 0.4219\n",
      "Epoch 87/128\n",
      "32/32 [==============================] - 51s 2s/step - loss: 1.3187 - accuracy: 0.3984 - val_loss: 1.2962 - val_accuracy: 0.4141\n",
      "Epoch 88/128\n",
      "32/32 [==============================] - 52s 2s/step - loss: 1.3086 - accuracy: 0.4062 - val_loss: 1.2924 - val_accuracy: 0.4258\n",
      "Epoch 89/128\n",
      "32/32 [==============================] - 52s 2s/step - loss: 1.3752 - accuracy: 0.3828 - val_loss: 1.2856 - val_accuracy: 0.4219\n",
      "Epoch 90/128\n",
      "32/32 [==============================] - 51s 2s/step - loss: 1.3306 - accuracy: 0.3750 - val_loss: 1.2909 - val_accuracy: 0.4492\n",
      "Epoch 91/128\n",
      "32/32 [==============================] - 51s 2s/step - loss: 1.3444 - accuracy: 0.4258 - val_loss: 1.2894 - val_accuracy: 0.4375\n",
      "Epoch 92/128\n",
      "32/32 [==============================] - 52s 2s/step - loss: 1.3359 - accuracy: 0.4180 - val_loss: 1.2867 - val_accuracy: 0.4492\n",
      "Epoch 93/128\n",
      "32/32 [==============================] - 51s 2s/step - loss: 1.3604 - accuracy: 0.3711 - val_loss: 1.2799 - val_accuracy: 0.4453\n",
      "Epoch 94/128\n",
      "32/32 [==============================] - 52s 2s/step - loss: 1.3009 - accuracy: 0.4570 - val_loss: 1.2812 - val_accuracy: 0.4531\n",
      "Epoch 95/128\n",
      "32/32 [==============================] - 52s 2s/step - loss: 1.3351 - accuracy: 0.3789 - val_loss: 1.2868 - val_accuracy: 0.4492\n",
      "Epoch 96/128\n",
      "32/32 [==============================] - 51s 2s/step - loss: 1.2531 - accuracy: 0.4180 - val_loss: 1.2841 - val_accuracy: 0.4570\n",
      "Epoch 97/128\n",
      "32/32 [==============================] - 52s 2s/step - loss: 1.3195 - accuracy: 0.4492 - val_loss: 1.2837 - val_accuracy: 0.4531\n",
      "Epoch 98/128\n",
      "32/32 [==============================] - 52s 2s/step - loss: 1.3185 - accuracy: 0.3906 - val_loss: 1.2824 - val_accuracy: 0.4297\n",
      "Epoch 99/128\n",
      "32/32 [==============================] - 52s 2s/step - loss: 1.2523 - accuracy: 0.4336 - val_loss: 1.2805 - val_accuracy: 0.4492\n",
      "Epoch 100/128\n",
      "32/32 [==============================] - 52s 2s/step - loss: 1.3712 - accuracy: 0.3789 - val_loss: 1.2738 - val_accuracy: 0.4297\n",
      "Epoch 101/128\n",
      "32/32 [==============================] - 52s 2s/step - loss: 1.3501 - accuracy: 0.4023 - val_loss: 1.2745 - val_accuracy: 0.4375\n",
      "Epoch 102/128\n",
      "32/32 [==============================] - 52s 2s/step - loss: 1.3451 - accuracy: 0.3906 - val_loss: 1.2689 - val_accuracy: 0.4453\n",
      "Epoch 103/128\n",
      "32/32 [==============================] - 52s 2s/step - loss: 1.3050 - accuracy: 0.4062 - val_loss: 1.2662 - val_accuracy: 0.4375\n",
      "Epoch 104/128\n",
      "32/32 [==============================] - 52s 2s/step - loss: 1.2534 - accuracy: 0.4492 - val_loss: 1.2639 - val_accuracy: 0.4453\n",
      "Epoch 105/128\n",
      "32/32 [==============================] - 52s 2s/step - loss: 1.3336 - accuracy: 0.4180 - val_loss: 1.2712 - val_accuracy: 0.4531\n",
      "Epoch 106/128\n",
      "32/32 [==============================] - 51s 2s/step - loss: 1.3146 - accuracy: 0.4180 - val_loss: 1.2674 - val_accuracy: 0.4570\n",
      "Epoch 107/128\n",
      "32/32 [==============================] - 51s 2s/step - loss: 1.2631 - accuracy: 0.4531 - val_loss: 1.2781 - val_accuracy: 0.4531\n",
      "Epoch 108/128\n",
      "32/32 [==============================] - 52s 2s/step - loss: 1.3717 - accuracy: 0.3750 - val_loss: 1.2655 - val_accuracy: 0.4258\n",
      "Epoch 109/128\n",
      "32/32 [==============================] - 51s 2s/step - loss: 1.3707 - accuracy: 0.3945 - val_loss: 1.2666 - val_accuracy: 0.4297\n",
      "Epoch 110/128\n",
      "32/32 [==============================] - 52s 2s/step - loss: 1.3597 - accuracy: 0.3984 - val_loss: 1.2657 - val_accuracy: 0.4336\n",
      "Epoch 111/128\n",
      "32/32 [==============================] - 52s 2s/step - loss: 1.3474 - accuracy: 0.3828 - val_loss: 1.2697 - val_accuracy: 0.4336\n",
      "Epoch 112/128\n",
      "32/32 [==============================] - 52s 2s/step - loss: 1.3343 - accuracy: 0.3906 - val_loss: 1.2684 - val_accuracy: 0.4414\n",
      "Epoch 113/128\n",
      "32/32 [==============================] - 53s 2s/step - loss: 1.3232 - accuracy: 0.4102 - val_loss: 1.2697 - val_accuracy: 0.4531\n",
      "Epoch 114/128\n",
      "32/32 [==============================] - 58s 2s/step - loss: 1.3195 - accuracy: 0.3984 - val_loss: 1.2661 - val_accuracy: 0.4375\n",
      "Epoch 115/128\n",
      "32/32 [==============================] - 53s 2s/step - loss: 1.3029 - accuracy: 0.4180 - val_loss: 1.2633 - val_accuracy: 0.4492\n",
      "Epoch 116/128\n"
     ]
    },
    {
     "name": "stdout",
     "output_type": "stream",
     "text": [
      "32/32 [==============================] - 55s 2s/step - loss: 1.3185 - accuracy: 0.3750 - val_loss: 1.2629 - val_accuracy: 0.4531\n",
      "Epoch 117/128\n",
      "32/32 [==============================] - 53s 2s/step - loss: 1.2919 - accuracy: 0.4375 - val_loss: 1.2621 - val_accuracy: 0.4570\n",
      "Epoch 118/128\n",
      "32/32 [==============================] - 52s 2s/step - loss: 1.3037 - accuracy: 0.4336 - val_loss: 1.2616 - val_accuracy: 0.4648\n",
      "Epoch 119/128\n",
      "32/32 [==============================] - 53s 2s/step - loss: 1.3352 - accuracy: 0.4023 - val_loss: 1.2579 - val_accuracy: 0.4453\n",
      "Epoch 120/128\n",
      "32/32 [==============================] - 53s 2s/step - loss: 1.3136 - accuracy: 0.4453 - val_loss: 1.2613 - val_accuracy: 0.4531\n",
      "Epoch 121/128\n",
      "32/32 [==============================] - 53s 2s/step - loss: 1.2986 - accuracy: 0.4336 - val_loss: 1.2699 - val_accuracy: 0.4648\n",
      "Epoch 122/128\n",
      "32/32 [==============================] - 54s 2s/step - loss: 1.3659 - accuracy: 0.4375 - val_loss: 1.2578 - val_accuracy: 0.4609\n",
      "Epoch 123/128\n",
      "32/32 [==============================] - 54s 2s/step - loss: 1.3043 - accuracy: 0.4492 - val_loss: 1.2543 - val_accuracy: 0.4609\n",
      "Epoch 124/128\n",
      "32/32 [==============================] - 54s 2s/step - loss: 1.3578 - accuracy: 0.3789 - val_loss: 1.2545 - val_accuracy: 0.4648\n",
      "Epoch 125/128\n",
      "32/32 [==============================] - 52s 2s/step - loss: 1.3430 - accuracy: 0.4375 - val_loss: 1.2541 - val_accuracy: 0.4609\n",
      "Epoch 126/128\n",
      "32/32 [==============================] - 53s 2s/step - loss: 1.3213 - accuracy: 0.4141 - val_loss: 1.2540 - val_accuracy: 0.4492\n",
      "Epoch 127/128\n",
      "32/32 [==============================] - 53s 2s/step - loss: 1.3144 - accuracy: 0.3750 - val_loss: 1.2530 - val_accuracy: 0.4609\n",
      "Epoch 128/128\n",
      "32/32 [==============================] - 56s 2s/step - loss: 1.3170 - accuracy: 0.4297 - val_loss: 1.2517 - val_accuracy: 0.4648\n"
     ]
    }
   ],
   "source": [
    "history = model.fit(\n",
    "    train_dataset,\n",
    "    shuffle=True,\n",
    "    epochs=epochs,\n",
    "    steps_per_epoch=steps_per_epoch,\n",
    "    validation_data=validation_dataset,\n",
    "    validation_steps=validation_steps,\n",
    "    callbacks=callbacks,\n",
    ")"
   ]
  },
  {
   "cell_type": "code",
   "execution_count": 21,
   "id": "b484b48f",
   "metadata": {
    "scrolled": true
   },
   "outputs": [
    {
     "name": "stdout",
     "output_type": "stream",
     "text": [
      "{'loss': [1.6499618291854858, 1.6336268186569214, 1.6350650787353516, 1.613440990447998, 1.6126819849014282, 1.613198161125183, 1.6198065280914307, 1.607218861579895, 1.5972667932510376, 1.5868611335754395, 1.583488941192627, 1.5784822702407837, 1.5839840173721313, 1.5763822793960571, 1.5633833408355713, 1.5416709184646606, 1.5611857175827026, 1.5534125566482544, 1.5444014072418213, 1.5575608015060425, 1.5591994524002075, 1.5290998220443726, 1.5395801067352295, 1.5059090852737427, 1.5165787935256958, 1.5093644857406616, 1.5163856744766235, 1.5092809200286865, 1.5375062227249146, 1.5205765962600708, 1.5030381679534912, 1.4896851778030396, 1.5175787210464478, 1.5146329402923584, 1.5013644695281982, 1.5092523097991943, 1.4466876983642578, 1.5094079971313477, 1.4390718936920166, 1.4437791109085083, 1.4524203538894653, 1.4691100120544434, 1.5137006044387817, 1.4689295291900635, 1.4320529699325562, 1.4701265096664429, 1.454493761062622, 1.4267677068710327, 1.4618014097213745, 1.433375597000122, 1.3968325853347778, 1.394811987876892, 1.4188096523284912, 1.4098626375198364, 1.4055153131484985, 1.425337314605713, 1.4528918266296387, 1.4225043058395386, 1.4051802158355713, 1.434130072593689, 1.3968243598937988, 1.3949893712997437, 1.4011701345443726, 1.398910403251648, 1.3550528287887573, 1.4362739324569702, 1.3758281469345093, 1.3820178508758545, 1.3821632862091064, 1.3929765224456787, 1.405038833618164, 1.3792963027954102, 1.3247532844543457, 1.3515263795852661, 1.3227598667144775, 1.3799294233322144, 1.3453876972198486, 1.3491055965423584, 1.335524082183838, 1.3775607347488403, 1.3746918439865112, 1.3337197303771973, 1.3334317207336426, 1.3348320722579956, 1.3740108013153076, 1.3317968845367432, 1.318659782409668, 1.308648705482483, 1.37519371509552, 1.3305559158325195, 1.344377040863037, 1.3359318971633911, 1.3604108095169067, 1.3008811473846436, 1.3350528478622437, 1.253090739250183, 1.319515585899353, 1.3184837102890015, 1.2523235082626343, 1.3712350130081177, 1.350094199180603, 1.3451333045959473, 1.3050090074539185, 1.2533992528915405, 1.333560585975647, 1.3145655393600464, 1.2630892992019653, 1.3717124462127686, 1.3707284927368164, 1.3597275018692017, 1.347421646118164, 1.3343141078948975, 1.3231654167175293, 1.3195323944091797, 1.3029147386550903, 1.3185319900512695, 1.2918912172317505, 1.3037084341049194, 1.3351550102233887, 1.3136018514633179, 1.2986116409301758, 1.365902304649353, 1.304275631904602, 1.3578472137451172, 1.343001127243042, 1.3213493824005127, 1.3144348859786987, 1.317043662071228], 'accuracy': [0.20703125, 0.171875, 0.16796875, 0.171875, 0.25390625, 0.19921875, 0.1953125, 0.2109375, 0.26953125, 0.28515625, 0.28515625, 0.27734375, 0.2578125, 0.2421875, 0.28515625, 0.328125, 0.30859375, 0.3046875, 0.2734375, 0.27734375, 0.29296875, 0.30078125, 0.3125, 0.3203125, 0.3359375, 0.34375, 0.30859375, 0.328125, 0.31640625, 0.33203125, 0.3203125, 0.36328125, 0.2890625, 0.296875, 0.3359375, 0.296875, 0.359375, 0.3125, 0.40234375, 0.35546875, 0.34375, 0.35546875, 0.2890625, 0.3671875, 0.37109375, 0.328125, 0.34375, 0.34765625, 0.3671875, 0.3515625, 0.41796875, 0.36328125, 0.36328125, 0.34765625, 0.359375, 0.42578125, 0.29296875, 0.32421875, 0.3828125, 0.3515625, 0.3984375, 0.4140625, 0.3671875, 0.3671875, 0.39453125, 0.3359375, 0.3984375, 0.33984375, 0.38671875, 0.33203125, 0.34765625, 0.3359375, 0.40234375, 0.39453125, 0.4375, 0.34375, 0.421875, 0.3984375, 0.38671875, 0.36328125, 0.41796875, 0.43359375, 0.3828125, 0.4375, 0.40234375, 0.40625, 0.3984375, 0.40625, 0.3828125, 0.375, 0.42578125, 0.41796875, 0.37109375, 0.45703125, 0.37890625, 0.41796875, 0.44921875, 0.390625, 0.43359375, 0.37890625, 0.40234375, 0.390625, 0.40625, 0.44921875, 0.41796875, 0.41796875, 0.453125, 0.375, 0.39453125, 0.3984375, 0.3828125, 0.390625, 0.41015625, 0.3984375, 0.41796875, 0.375, 0.4375, 0.43359375, 0.40234375, 0.4453125, 0.43359375, 0.4375, 0.44921875, 0.37890625, 0.4375, 0.4140625, 0.375, 0.4296875], 'val_loss': [1.633699655532837, 1.6185308694839478, 1.6109812259674072, 1.6065183877944946, 1.6034069061279297, 1.6019022464752197, 1.5952142477035522, 1.5895884037017822, 1.5852911472320557, 1.5817643404006958, 1.5783921480178833, 1.5740779638290405, 1.5715256929397583, 1.569405198097229, 1.5651763677597046, 1.5612397193908691, 1.5567924976348877, 1.5556446313858032, 1.5496735572814941, 1.5460773706436157, 1.5405222177505493, 1.5377862453460693, 1.5313078165054321, 1.528745412826538, 1.5223149061203003, 1.5179709196090698, 1.5162150859832764, 1.5111132860183716, 1.5069444179534912, 1.5012497901916504, 1.496649980545044, 1.4910542964935303, 1.487187385559082, 1.4855222702026367, 1.4791440963745117, 1.4762020111083984, 1.4717086553573608, 1.4665169715881348, 1.4610193967819214, 1.4530212879180908, 1.450869083404541, 1.4492583274841309, 1.4426599740982056, 1.4373387098312378, 1.4316378831863403, 1.4277348518371582, 1.4202873706817627, 1.416536808013916, 1.412047266960144, 1.4076887369155884, 1.4033753871917725, 1.3984121084213257, 1.392608880996704, 1.3871132135391235, 1.3808181285858154, 1.377245545387268, 1.375099539756775, 1.3756117820739746, 1.3765391111373901, 1.3678420782089233, 1.3629223108291626, 1.3609050512313843, 1.3553721904754639, 1.353689193725586, 1.3489629030227661, 1.3453387022018433, 1.3474953174591064, 1.345231294631958, 1.3376004695892334, 1.3344427347183228, 1.3300071954727173, 1.323179841041565, 1.323105812072754, 1.320119857788086, 1.3194940090179443, 1.3155244588851929, 1.3163970708847046, 1.3131028413772583, 1.314773440361023, 1.3089406490325928, 1.308518409729004, 1.3060314655303955, 1.307023525238037, 1.3057889938354492, 1.3004285097122192, 1.2963998317718506, 1.2961549758911133, 1.292443037033081, 1.285625696182251, 1.2909250259399414, 1.289424180984497, 1.2866920232772827, 1.2798895835876465, 1.2811758518218994, 1.2868075370788574, 1.2841142416000366, 1.283669352531433, 1.282351016998291, 1.2804661989212036, 1.2737903594970703, 1.2744648456573486, 1.268882393836975, 1.2661547660827637, 1.2638905048370361, 1.2712290287017822, 1.2674212455749512, 1.2781022787094116, 1.26553475856781, 1.2665892839431763, 1.265676498413086, 1.2697088718414307, 1.268425703048706, 1.2697216272354126, 1.2660938501358032, 1.263283610343933, 1.2629417181015015, 1.2621076107025146, 1.2616428136825562, 1.257948875427246, 1.261256456375122, 1.2698509693145752, 1.2577965259552002, 1.2542861700057983, 1.2544609308242798, 1.2540667057037354, 1.2539771795272827, 1.2529977560043335, 1.2517168521881104], 'val_accuracy': [0.1640625, 0.1484375, 0.17578125, 0.18359375, 0.19140625, 0.19921875, 0.23046875, 0.25390625, 0.2578125, 0.26171875, 0.26171875, 0.26953125, 0.296875, 0.24609375, 0.3046875, 0.31640625, 0.296875, 0.30078125, 0.3046875, 0.328125, 0.3125, 0.296875, 0.30078125, 0.3125, 0.32421875, 0.34765625, 0.359375, 0.35546875, 0.35546875, 0.34765625, 0.3515625, 0.36328125, 0.35546875, 0.35546875, 0.37890625, 0.375, 0.38671875, 0.35546875, 0.37890625, 0.3828125, 0.38671875, 0.3828125, 0.38671875, 0.3984375, 0.38671875, 0.40234375, 0.38671875, 0.390625, 0.3984375, 0.40625, 0.37109375, 0.390625, 0.38671875, 0.40625, 0.41796875, 0.40234375, 0.41796875, 0.40234375, 0.40234375, 0.3984375, 0.3984375, 0.40234375, 0.421875, 0.42578125, 0.4375, 0.40625, 0.4140625, 0.4140625, 0.41796875, 0.3984375, 0.421875, 0.41796875, 0.3984375, 0.41015625, 0.4375, 0.44140625, 0.4375, 0.41796875, 0.4375, 0.421875, 0.41796875, 0.4375, 0.4453125, 0.4296875, 0.41015625, 0.421875, 0.4140625, 0.42578125, 0.421875, 0.44921875, 0.4375, 0.44921875, 0.4453125, 0.453125, 0.44921875, 0.45703125, 0.453125, 0.4296875, 0.44921875, 0.4296875, 0.4375, 0.4453125, 0.4375, 0.4453125, 0.453125, 0.45703125, 0.453125, 0.42578125, 0.4296875, 0.43359375, 0.43359375, 0.44140625, 0.453125, 0.4375, 0.44921875, 0.453125, 0.45703125, 0.46484375, 0.4453125, 0.453125, 0.46484375, 0.4609375, 0.4609375, 0.46484375, 0.4609375, 0.44921875, 0.4609375, 0.46484375]}\n"
     ]
    }
   ],
   "source": [
    "print(history.history)"
   ]
  },
  {
   "cell_type": "code",
   "execution_count": 22,
   "id": "94dfd7bf",
   "metadata": {},
   "outputs": [],
   "source": [
    "import pandas as pd\n",
    "import numpy as np\n",
    "\n",
    "from transformers import DistilBertTokenizer\n",
    "\n",
    "tokenizer = DistilBertTokenizer.from_pretrained('distilbert-base-uncased')\n",
    "\n",
    "def predict(text):\n",
    "    encode_plus_tokens = tokenizer.encode_plus(\n",
    "                            text,\n",
    "                            pad_to_max_length=True,\n",
    "                            max_length=max_seq_length,\n",
    "                            truncation=True,\n",
    "                            return_tensors='tf')\n",
    "    \n",
    "    input_ids = encode_plus_tokens['input_ids']\n",
    "    input_mask = encode_plus_tokens['attention_mask']\n",
    "    \n",
    "    outputs = model.predict(x=(input_ids,input_mask))\n",
    "    \n",
    "    prediction = [{\"label\":config.id2label[item.argmax()], \\\n",
    "                   \"socre\":item.max().item()} for item in outputs]\n",
    "\n",
    "    return prediction[0]"
   ]
  },
  {
   "cell_type": "code",
   "execution_count": 23,
   "id": "c20cb381",
   "metadata": {},
   "outputs": [],
   "source": [
    "# Adhoc predict"
   ]
  },
  {
   "cell_type": "code",
   "execution_count": 24,
   "id": "97132b6e",
   "metadata": {
    "scrolled": true
   },
   "outputs": [
    {
     "name": "stderr",
     "output_type": "stream",
     "text": [
      "/usr/local/lib/python3.10/dist-packages/transformers/tokenization_utils_base.py:2618: FutureWarning: The `pad_to_max_length` argument is deprecated and will be removed in a future version, use `padding=True` or `padding='longest'` to pad to the longest sequence in the batch, or use `padding='max_length'` to pad to a max length. In this case, you can give a specific length with `max_length` (e.g. `max_length=45`) or leave max_length to None to pad to the maximal input size of the model (e.g. 512 for Bert).\n",
      "  warnings.warn(\n"
     ]
    },
    {
     "name": "stdout",
     "output_type": "stream",
     "text": [
      "1/1 [==============================] - 2s 2s/step\n"
     ]
    },
    {
     "data": {
      "text/plain": [
       "{'label': 5, 'socre': 0.7341577410697937}"
      ]
     },
     "execution_count": 24,
     "metadata": {},
     "output_type": "execute_result"
    }
   ],
   "source": [
    "predict(\"This is great!\")"
   ]
  },
  {
   "cell_type": "code",
   "execution_count": 25,
   "id": "eff5e8c7",
   "metadata": {},
   "outputs": [
    {
     "name": "stdout",
     "output_type": "stream",
     "text": [
      "1/1 [==============================] - 0s 123ms/step\n"
     ]
    },
    {
     "data": {
      "text/plain": [
       "{'label': 5, 'socre': 0.49926650524139404}"
      ]
     },
     "execution_count": 25,
     "metadata": {},
     "output_type": "execute_result"
    }
   ],
   "source": [
    "predict(\"This is cool.\")"
   ]
  },
  {
   "cell_type": "code",
   "execution_count": 26,
   "id": "233039e2",
   "metadata": {},
   "outputs": [
    {
     "name": "stdout",
     "output_type": "stream",
     "text": [
      "1/1 [==============================] - 0s 119ms/step\n"
     ]
    },
    {
     "data": {
      "text/plain": [
       "{'label': 1, 'socre': 0.38419386744499207}"
      ]
     },
     "execution_count": 26,
     "metadata": {},
     "output_type": "execute_result"
    }
   ],
   "source": [
    "predict(\"I don't like this.\")"
   ]
  },
  {
   "cell_type": "code",
   "execution_count": 27,
   "id": "f40ea7bb",
   "metadata": {},
   "outputs": [
    {
     "name": "stdout",
     "output_type": "stream",
     "text": [
      "1/1 [==============================] - 0s 137ms/step\n"
     ]
    },
    {
     "data": {
      "text/plain": [
       "{'label': 2, 'socre': 0.2872925400733948}"
      ]
     },
     "execution_count": 27,
     "metadata": {},
     "output_type": "execute_result"
    }
   ],
   "source": [
    "predict(\"I might buy it again.\")"
   ]
  },
  {
   "cell_type": "code",
   "execution_count": 28,
   "id": "ede03f87",
   "metadata": {},
   "outputs": [
    {
     "name": "stdout",
     "output_type": "stream",
     "text": [
      "1/1 [==============================] - 0s 137ms/step\n"
     ]
    },
    {
     "data": {
      "text/plain": [
       "{'label': 3, 'socre': 0.39895233511924744}"
      ]
     },
     "execution_count": 28,
     "metadata": {},
     "output_type": "execute_result"
    }
   ],
   "source": [
    "predict(\"The color is a little bit different from the picture. But it is OK.\")"
   ]
  },
  {
   "cell_type": "code",
   "execution_count": 29,
   "id": "e78f1209",
   "metadata": {},
   "outputs": [],
   "source": [
    "def plot_accracy(history):\n",
    "    import matplotlib.pyplot as plt\n",
    "\n",
    "    # Setting Parameters\n",
    "    acc = history.history['accuracy']\n",
    "    val_acc = history.history['val_accuracy']\n",
    "    loss = history.history['loss']\n",
    "    val_loss = history.history['val_loss']\n",
    "\n",
    "    epochs = range(len(acc))\n",
    "\n",
    "    # 1) Accracy Plt\n",
    "    plt.plot(epochs, acc, 'bo' ,label = 'training accuracy')\n",
    "    plt.plot(epochs, val_acc, 'b' , label= 'validation accuracy')\n",
    "    plt.title('Training and Validation acc')\n",
    "    plt.legend()\n",
    "\n",
    "    plt.figure()\n",
    "\n",
    "    # 2) Loss Plt\n",
    "    plt.plot(epochs, loss, 'bo' ,label = 'training loss')\n",
    "    plt.plot(epochs, val_loss, 'b' , label= 'validation loss')\n",
    "    plt.title('Training and Validation loss')\n",
    "    plt.legend()\n",
    "\n",
    "    plt.show()"
   ]
  },
  {
   "cell_type": "code",
   "execution_count": 30,
   "id": "b315f516",
   "metadata": {},
   "outputs": [
    {
     "data": {
      "image/png": "[encoded data removed]",
      "text/plain": [
       "<Figure size 640x480 with 1 Axes>"
      ]
     },
     "metadata": {},
     "output_type": "display_data"
    },
    {
     "data": {
      "image/png": "[encoded data removed]",
      "text/plain": [
       "<Figure size 640x480 with 1 Axes>"
      ]
     },
     "metadata": {},
     "output_type": "display_data"
    }
   ],
   "source": [
    "from keras import models \n",
    "from keras import layers\n",
    "from keras import optimizers\n",
    "\n",
    "#show Accuracy and Loss History\n",
    "#「loss」と「val_loss」の違いですが、「loss」は学習時のlossの値で、正解と予測の差分です。この値を少なくするように学習を進めます。\n",
    "#「val_loss」は検証用データでlossを計算した値です。\n",
    "# モデルは「loss」の値を少なくするように学習データを使用して学習を進めます。ただし学習データのみを使用して学習するため、学習データのみ \n",
    "# にあてはまり新たなデータでうまく予測できなくなる、いわゆるオーバーフィッティング状態になることがあります。\n",
    "# グラフ上では「loss」が下がっていくのに「val_loss」が上がってしまう状態です。\n",
    "plot_accracy(history)"
   ]
  },
  {
   "cell_type": "code",
   "execution_count": 32,
   "id": "c8243159",
   "metadata": {},
   "outputs": [
    {
     "name": "stdout",
     "output_type": "stream",
     "text": [
      "WARNING:tensorflow:Skipping full serialization of Keras layer <keras.src.layers.regularization.dropout.Dropout object at 0x7fb102c89e10>, because it is not built.\n"
     ]
    },
    {
     "name": "stderr",
     "output_type": "stream",
     "text": [
      "WARNING:tensorflow:Skipping full serialization of Keras layer <keras.src.layers.regularization.dropout.Dropout object at 0x7fb102c89e10>, because it is not built.\n"
     ]
    },
    {
     "name": "stdout",
     "output_type": "stream",
     "text": [
      "WARNING:tensorflow:Skipping full serialization of Keras layer <keras.src.layers.regularization.dropout.Dropout object at 0x7fb0fab40fa0>, because it is not built.\n"
     ]
    },
    {
     "name": "stderr",
     "output_type": "stream",
     "text": [
      "WARNING:tensorflow:Skipping full serialization of Keras layer <keras.src.layers.regularization.dropout.Dropout object at 0x7fb0fab40fa0>, because it is not built.\n"
     ]
    },
    {
     "name": "stdout",
     "output_type": "stream",
     "text": [
      "WARNING:tensorflow:Skipping full serialization of Keras layer <keras.src.layers.regularization.dropout.Dropout object at 0x7fb0f39690f0>, because it is not built.\n"
     ]
    },
    {
     "name": "stderr",
     "output_type": "stream",
     "text": [
      "WARNING:tensorflow:Skipping full serialization of Keras layer <keras.src.layers.regularization.dropout.Dropout object at 0x7fb0f39690f0>, because it is not built.\n"
     ]
    },
    {
     "name": "stdout",
     "output_type": "stream",
     "text": [
      "WARNING:tensorflow:Skipping full serialization of Keras layer <keras.src.layers.regularization.dropout.Dropout object at 0x7fb0f396bc10>, because it is not built.\n"
     ]
    },
    {
     "name": "stderr",
     "output_type": "stream",
     "text": [
      "WARNING:tensorflow:Skipping full serialization of Keras layer <keras.src.layers.regularization.dropout.Dropout object at 0x7fb0f396bc10>, because it is not built.\n"
     ]
    },
    {
     "name": "stdout",
     "output_type": "stream",
     "text": [
      "WARNING:tensorflow:Skipping full serialization of Keras layer <keras.src.layers.regularization.dropout.Dropout object at 0x7fb0f397a770>, because it is not built.\n"
     ]
    },
    {
     "name": "stderr",
     "output_type": "stream",
     "text": [
      "WARNING:tensorflow:Skipping full serialization of Keras layer <keras.src.layers.regularization.dropout.Dropout object at 0x7fb0f397a770>, because it is not built.\n"
     ]
    },
    {
     "name": "stdout",
     "output_type": "stream",
     "text": [
      "WARNING:tensorflow:Skipping full serialization of Keras layer <keras.src.layers.regularization.dropout.Dropout object at 0x7fb0f39852d0>, because it is not built.\n"
     ]
    },
    {
     "name": "stderr",
     "output_type": "stream",
     "text": [
      "WARNING:tensorflow:Skipping full serialization of Keras layer <keras.src.layers.regularization.dropout.Dropout object at 0x7fb0f39852d0>, because it is not built.\n"
     ]
    },
    {
     "name": "stdout",
     "output_type": "stream",
     "text": [
      "INFO:tensorflow:Assets written to: /mnt/tensorflow_small/assets\n"
     ]
    },
    {
     "name": "stderr",
     "output_type": "stream",
     "text": [
      "INFO:tensorflow:Assets written to: /mnt/tensorflow_small/assets\n"
     ]
    }
   ],
   "source": [
    "model.save('/mnt/tensorflow_small/',save_format='tf')"
   ]
  },
  {
   "cell_type": "code",
   "execution_count": 33,
   "id": "ef5ddca1",
   "metadata": {},
   "outputs": [
    {
     "name": "stdout",
     "output_type": "stream",
     "text": [
      "assets\tfingerprint.pb\tkeras_metadata.pb  saved_model.pb  variables\r\n"
     ]
    }
   ],
   "source": [
    "!ls /mnt/tensorflow_small"
   ]
  },
  {
   "cell_type": "code",
   "execution_count": 34,
   "id": "54fc5758",
   "metadata": {},
   "outputs": [
    {
     "data": {
      "text/html": [
       "\n",
       "<p><b>Shutting down your kernel for this notebook to release resources.</b></p>\n",
       "<button class=\"sm-command-button\" data-commandlinker-command=\"kernelmenu:shutdown\" style=\"display:none;\">Shutdown Kernel</button>\n",
       "        \n",
       "<script>\n",
       "try {\n",
       "    els = document.getElementsByClassName(\"sm-command-button\");\n",
       "    els[0].click();\n",
       "}\n",
       "catch(err) {\n",
       "    // NoOp\n",
       "}    \n",
       "</script>\n"
      ],
      "text/plain": [
       "<IPython.core.display.HTML object>"
      ]
     },
     "metadata": {},
     "output_type": "display_data"
    }
   ],
   "source": [
    "%%html\n",
    "\n",
    "<p><b>Shutting down your kernel for this notebook to release resources.</b></p>\n",
    "<button class=\"sm-command-button\" data-commandlinker-command=\"kernelmenu:shutdown\" style=\"display:none;\">Shutdown Kernel</button>\n",
    "        \n",
    "<script>\n",
    "try {\n",
    "    els = document.getElementsByClassName(\"sm-command-button\");\n",
    "    els[0].click();\n",
    "}\n",
    "catch(err) {\n",
    "    // NoOp\n",
    "}    \n",
    "</script>"
   ]
  },
  {
   "cell_type": "code",
   "execution_count": null,
   "id": "6f76135e",
   "metadata": {},
   "outputs": [],
   "source": []
  }
 ],
 "metadata": {
  "kernelspec": {
   "display_name": "Python 3 (ipykernel)",
   "language": "python",
   "name": "python3"
  },
  "language_info": {
   "codemirror_mode": {
    "name": "ipython",
    "version": 3
   },
   "file_extension": ".py",
   "mimetype": "text/x-python",
   "name": "python",
   "nbconvert_exporter": "python",
   "pygments_lexer": "ipython3",
   "version": "3.10.12"
  }
 },
 "nbformat": 4,
 "nbformat_minor": 5
}
