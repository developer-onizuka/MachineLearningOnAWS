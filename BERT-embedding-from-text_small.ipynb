{
 "cells": [
  {
   "cell_type": "code",
   "execution_count": 1,
   "id": "5f591733",
   "metadata": {},
   "outputs": [],
   "source": [
    "#%autosave 0"
   ]
  },
  {
   "cell_type": "code",
   "execution_count": 2,
   "id": "f882eb96",
   "metadata": {},
   "outputs": [
    {
     "name": "stdout",
     "output_type": "stream",
     "text": [
      "Requirement already satisfied: transformers in /usr/local/lib/python3.10/dist-packages (4.36.2)\n",
      "Requirement already satisfied: filelock in /usr/local/lib/python3.10/dist-packages (from transformers) (3.13.1)\n",
      "Requirement already satisfied: huggingface-hub<1.0,>=0.19.3 in /usr/local/lib/python3.10/dist-packages (from transformers) (0.20.2)\n",
      "Requirement already satisfied: numpy>=1.17 in /usr/local/lib/python3.10/dist-packages (from transformers) (1.24.4)\n",
      "Requirement already satisfied: packaging>=20.0 in /usr/local/lib/python3.10/dist-packages (from transformers) (23.2)\n",
      "Requirement already satisfied: pyyaml>=5.1 in /usr/local/lib/python3.10/dist-packages (from transformers) (6.0.1)\n",
      "Requirement already satisfied: regex!=2019.12.17 in /usr/local/lib/python3.10/dist-packages (from transformers) (2023.12.25)\n",
      "Requirement already satisfied: requests in /usr/local/lib/python3.10/dist-packages (from transformers) (2.31.0)\n",
      "Requirement already satisfied: tokenizers<0.19,>=0.14 in /usr/local/lib/python3.10/dist-packages (from transformers) (0.15.0)\n",
      "Requirement already satisfied: safetensors>=0.3.1 in /usr/local/lib/python3.10/dist-packages (from transformers) (0.4.1)\n",
      "Requirement already satisfied: tqdm>=4.27 in /usr/local/lib/python3.10/dist-packages (from transformers) (4.66.1)\n",
      "Requirement already satisfied: fsspec>=2023.5.0 in /usr/local/lib/python3.10/dist-packages (from huggingface-hub<1.0,>=0.19.3->transformers) (2023.12.0)\n",
      "Requirement already satisfied: typing-extensions>=3.7.4.3 in /usr/local/lib/python3.10/dist-packages (from huggingface-hub<1.0,>=0.19.3->transformers) (4.8.0)\n",
      "Requirement already satisfied: charset-normalizer<4,>=2 in /usr/local/lib/python3.10/dist-packages (from requests->transformers) (3.3.2)\n",
      "Requirement already satisfied: idna<4,>=2.5 in /usr/local/lib/python3.10/dist-packages (from requests->transformers) (3.6)\n",
      "Requirement already satisfied: urllib3<3,>=1.21.1 in /usr/local/lib/python3.10/dist-packages (from requests->transformers) (1.26.18)\n",
      "Requirement already satisfied: certifi>=2017.4.17 in /usr/local/lib/python3.10/dist-packages (from requests->transformers) (2023.11.17)\n",
      "\u001b[33mWARNING: Running pip as the 'root' user can result in broken permissions and conflicting behaviour with the system package manager. It is recommended to use a virtual environment instead: https://pip.pypa.io/warnings/venv\u001b[0m\u001b[33m\n",
      "\u001b[0m"
     ]
    }
   ],
   "source": [
    "!pip install transformers\n",
    " # Transformerは、2017年にGoogleが発表した深層学習モデルで、現在では自然言語処理の分野で最も利用されているモデルの一つです。\n",
    " # このモデルは、大規模なテキストデータを効率的に処理する能力を持っており、多くの応用例が存在します。例えば、チャットボットで\n",
    " # あるChatGPTも、Transformerモデルをベースとしています。Hugging FaceのTransformers ライブラリには、多数の学習済みモデル\n",
    " # が提供されており、これをベースにして、新たなデータセットでの学習や、モデルのパラメータ調整などのタスクを行うことができます。\n"
   ]
  },
  {
   "cell_type": "code",
   "execution_count": 3,
   "id": "1f189e38",
   "metadata": {},
   "outputs": [
    {
     "name": "stdout",
     "output_type": "stream",
     "text": [
      "Requirement already satisfied: ipywidgets in /usr/local/lib/python3.10/dist-packages (8.1.1)\n",
      "Requirement already satisfied: widgetsnbextension in /usr/local/lib/python3.10/dist-packages (4.0.9)\n",
      "Requirement already satisfied: pandas-profiling in /usr/local/lib/python3.10/dist-packages (3.6.6)\n",
      "Requirement already satisfied: comm>=0.1.3 in /usr/local/lib/python3.10/dist-packages (from ipywidgets) (0.2.0)\n",
      "Requirement already satisfied: ipython>=6.1.0 in /usr/local/lib/python3.10/dist-packages (from ipywidgets) (8.18.1)\n",
      "Requirement already satisfied: traitlets>=4.3.1 in /usr/local/lib/python3.10/dist-packages (from ipywidgets) (5.9.0)\n",
      "Requirement already satisfied: jupyterlab-widgets~=3.0.9 in /usr/local/lib/python3.10/dist-packages (from ipywidgets) (3.0.9)\n",
      "Requirement already satisfied: ydata-profiling in /usr/local/lib/python3.10/dist-packages (from pandas-profiling) (4.6.4)\n",
      "Requirement already satisfied: decorator in /usr/local/lib/python3.10/dist-packages (from ipython>=6.1.0->ipywidgets) (5.1.1)\n",
      "Requirement already satisfied: jedi>=0.16 in /usr/local/lib/python3.10/dist-packages (from ipython>=6.1.0->ipywidgets) (0.19.1)\n",
      "Requirement already satisfied: matplotlib-inline in /usr/local/lib/python3.10/dist-packages (from ipython>=6.1.0->ipywidgets) (0.1.6)\n",
      "Requirement already satisfied: prompt-toolkit<3.1.0,>=3.0.41 in /usr/local/lib/python3.10/dist-packages (from ipython>=6.1.0->ipywidgets) (3.0.41)\n",
      "Requirement already satisfied: pygments>=2.4.0 in /usr/local/lib/python3.10/dist-packages (from ipython>=6.1.0->ipywidgets) (2.17.2)\n",
      "Requirement already satisfied: stack-data in /usr/local/lib/python3.10/dist-packages (from ipython>=6.1.0->ipywidgets) (0.6.3)\n",
      "Requirement already satisfied: exceptiongroup in /usr/local/lib/python3.10/dist-packages (from ipython>=6.1.0->ipywidgets) (1.2.0)\n",
      "Requirement already satisfied: pexpect>4.3 in /usr/local/lib/python3.10/dist-packages (from ipython>=6.1.0->ipywidgets) (4.7.0)\n",
      "Requirement already satisfied: scipy<1.12,>=1.4.1 in /usr/local/lib/python3.10/dist-packages (from ydata-profiling->pandas-profiling) (1.11.4)\n",
      "Requirement already satisfied: pandas!=1.4.0,<3,>1.1 in /usr/local/lib/python3.10/dist-packages (from ydata-profiling->pandas-profiling) (1.5.3)\n",
      "Requirement already satisfied: matplotlib<3.9,>=3.2 in /usr/local/lib/python3.10/dist-packages (from ydata-profiling->pandas-profiling) (3.7.3)\n",
      "Requirement already satisfied: pydantic>=2 in /usr/local/lib/python3.10/dist-packages (from ydata-profiling->pandas-profiling) (2.5.2)\n",
      "Requirement already satisfied: PyYAML<6.1,>=5.0.0 in /usr/local/lib/python3.10/dist-packages (from ydata-profiling->pandas-profiling) (6.0.1)\n",
      "Requirement already satisfied: jinja2<3.2,>=2.11.1 in /usr/local/lib/python3.10/dist-packages (from ydata-profiling->pandas-profiling) (3.1.2)\n",
      "Requirement already satisfied: visions==0.7.5 in /usr/local/lib/python3.10/dist-packages (from visions[type_image_path]==0.7.5->ydata-profiling->pandas-profiling) (0.7.5)\n",
      "Requirement already satisfied: numpy<1.26,>=1.16.0 in /usr/local/lib/python3.10/dist-packages (from ydata-profiling->pandas-profiling) (1.24.4)\n",
      "Requirement already satisfied: htmlmin==0.1.12 in /usr/local/lib/python3.10/dist-packages (from ydata-profiling->pandas-profiling) (0.1.12)\n",
      "Requirement already satisfied: phik<0.13,>=0.11.1 in /usr/local/lib/python3.10/dist-packages (from ydata-profiling->pandas-profiling) (0.12.4)\n",
      "Requirement already satisfied: requests<3,>=2.24.0 in /usr/local/lib/python3.10/dist-packages (from ydata-profiling->pandas-profiling) (2.31.0)\n",
      "Requirement already satisfied: tqdm<5,>=4.48.2 in /usr/local/lib/python3.10/dist-packages (from ydata-profiling->pandas-profiling) (4.66.1)\n",
      "Requirement already satisfied: seaborn<0.13,>=0.10.1 in /usr/local/lib/python3.10/dist-packages (from ydata-profiling->pandas-profiling) (0.12.2)\n",
      "Requirement already satisfied: multimethod<2,>=1.4 in /usr/local/lib/python3.10/dist-packages (from ydata-profiling->pandas-profiling) (1.10)\n",
      "Requirement already satisfied: statsmodels<1,>=0.13.2 in /usr/local/lib/python3.10/dist-packages (from ydata-profiling->pandas-profiling) (0.14.1)\n",
      "Requirement already satisfied: typeguard<5,>=4.1.2 in /usr/local/lib/python3.10/dist-packages (from ydata-profiling->pandas-profiling) (4.1.5)\n",
      "Requirement already satisfied: imagehash==4.3.1 in /usr/local/lib/python3.10/dist-packages (from ydata-profiling->pandas-profiling) (4.3.1)\n",
      "Requirement already satisfied: wordcloud>=1.9.1 in /usr/local/lib/python3.10/dist-packages (from ydata-profiling->pandas-profiling) (1.9.3)\n",
      "Requirement already satisfied: dacite>=1.8 in /usr/local/lib/python3.10/dist-packages (from ydata-profiling->pandas-profiling) (1.8.1)\n",
      "Requirement already satisfied: numba<0.59.0,>=0.56.0 in /usr/local/lib/python3.10/dist-packages (from ydata-profiling->pandas-profiling) (0.57.1+1.g4157f3379)\n",
      "Requirement already satisfied: PyWavelets in /usr/local/lib/python3.10/dist-packages (from imagehash==4.3.1->ydata-profiling->pandas-profiling) (1.5.0)\n",
      "Requirement already satisfied: pillow in /usr/local/lib/python3.10/dist-packages (from imagehash==4.3.1->ydata-profiling->pandas-profiling) (10.1.0)\n",
      "Requirement already satisfied: attrs>=19.3.0 in /usr/local/lib/python3.10/dist-packages (from visions==0.7.5->visions[type_image_path]==0.7.5->ydata-profiling->pandas-profiling) (23.1.0)\n",
      "Requirement already satisfied: networkx>=2.4 in /usr/local/lib/python3.10/dist-packages (from visions==0.7.5->visions[type_image_path]==0.7.5->ydata-profiling->pandas-profiling) (3.2.1)\n",
      "Requirement already satisfied: tangled-up-in-unicode>=0.0.4 in /usr/local/lib/python3.10/dist-packages (from visions==0.7.5->visions[type_image_path]==0.7.5->ydata-profiling->pandas-profiling) (0.2.0)\n",
      "\u001b[33mWARNING: visions 0.7.5 does not provide the extra 'type-image-path'\u001b[0m\u001b[33m\n",
      "\u001b[0mRequirement already satisfied: parso<0.9.0,>=0.8.3 in /usr/local/lib/python3.10/dist-packages (from jedi>=0.16->ipython>=6.1.0->ipywidgets) (0.8.3)\n",
      "Requirement already satisfied: MarkupSafe>=2.0 in /usr/local/lib/python3.10/dist-packages (from jinja2<3.2,>=2.11.1->ydata-profiling->pandas-profiling) (2.1.3)\n",
      "Requirement already satisfied: contourpy>=1.0.1 in /usr/local/lib/python3.10/dist-packages (from matplotlib<3.9,>=3.2->ydata-profiling->pandas-profiling) (1.2.0)\n",
      "Requirement already satisfied: cycler>=0.10 in /usr/local/lib/python3.10/dist-packages (from matplotlib<3.9,>=3.2->ydata-profiling->pandas-profiling) (0.12.1)\n",
      "Requirement already satisfied: fonttools>=4.22.0 in /usr/local/lib/python3.10/dist-packages (from matplotlib<3.9,>=3.2->ydata-profiling->pandas-profiling) (4.47.2)\n",
      "Requirement already satisfied: kiwisolver>=1.0.1 in /usr/local/lib/python3.10/dist-packages (from matplotlib<3.9,>=3.2->ydata-profiling->pandas-profiling) (1.4.5)\n",
      "Requirement already satisfied: packaging>=20.0 in /usr/local/lib/python3.10/dist-packages (from matplotlib<3.9,>=3.2->ydata-profiling->pandas-profiling) (23.2)\n",
      "Requirement already satisfied: pyparsing>=2.3.1 in /usr/local/lib/python3.10/dist-packages (from matplotlib<3.9,>=3.2->ydata-profiling->pandas-profiling) (3.1.1)\n",
      "Requirement already satisfied: python-dateutil>=2.7 in /usr/local/lib/python3.10/dist-packages (from matplotlib<3.9,>=3.2->ydata-profiling->pandas-profiling) (2.8.2)\n",
      "Requirement already satisfied: llvmlite<0.41,>=0.40.0dev0 in /usr/local/lib/python3.10/dist-packages (from numba<0.59.0,>=0.56.0->ydata-profiling->pandas-profiling) (0.40.1)\n",
      "Requirement already satisfied: pytz>=2020.1 in /usr/local/lib/python3.10/dist-packages (from pandas!=1.4.0,<3,>1.1->ydata-profiling->pandas-profiling) (2023.3.post1)\n",
      "Requirement already satisfied: ptyprocess>=0.5 in /usr/local/lib/python3.10/dist-packages (from pexpect>4.3->ipython>=6.1.0->ipywidgets) (0.7.0)\n",
      "Requirement already satisfied: joblib>=0.14.1 in /usr/local/lib/python3.10/dist-packages (from phik<0.13,>=0.11.1->ydata-profiling->pandas-profiling) (1.3.2)\n",
      "Requirement already satisfied: wcwidth in /usr/local/lib/python3.10/dist-packages (from prompt-toolkit<3.1.0,>=3.0.41->ipython>=6.1.0->ipywidgets) (0.2.12)\n",
      "Requirement already satisfied: annotated-types>=0.4.0 in /usr/local/lib/python3.10/dist-packages (from pydantic>=2->ydata-profiling->pandas-profiling) (0.6.0)\n",
      "Requirement already satisfied: pydantic-core==2.14.5 in /usr/local/lib/python3.10/dist-packages (from pydantic>=2->ydata-profiling->pandas-profiling) (2.14.5)\n",
      "Requirement already satisfied: typing-extensions>=4.6.1 in /usr/local/lib/python3.10/dist-packages (from pydantic>=2->ydata-profiling->pandas-profiling) (4.8.0)\n"
     ]
    },
    {
     "name": "stdout",
     "output_type": "stream",
     "text": [
      "Requirement already satisfied: charset-normalizer<4,>=2 in /usr/local/lib/python3.10/dist-packages (from requests<3,>=2.24.0->ydata-profiling->pandas-profiling) (3.3.2)\n",
      "Requirement already satisfied: idna<4,>=2.5 in /usr/local/lib/python3.10/dist-packages (from requests<3,>=2.24.0->ydata-profiling->pandas-profiling) (3.6)\n",
      "Requirement already satisfied: urllib3<3,>=1.21.1 in /usr/local/lib/python3.10/dist-packages (from requests<3,>=2.24.0->ydata-profiling->pandas-profiling) (1.26.18)\n",
      "Requirement already satisfied: certifi>=2017.4.17 in /usr/local/lib/python3.10/dist-packages (from requests<3,>=2.24.0->ydata-profiling->pandas-profiling) (2023.11.17)\n",
      "Requirement already satisfied: patsy>=0.5.4 in /usr/local/lib/python3.10/dist-packages (from statsmodels<1,>=0.13.2->ydata-profiling->pandas-profiling) (0.5.6)\n",
      "Requirement already satisfied: executing>=1.2.0 in /usr/local/lib/python3.10/dist-packages (from stack-data->ipython>=6.1.0->ipywidgets) (2.0.1)\n",
      "Requirement already satisfied: asttokens>=2.1.0 in /usr/local/lib/python3.10/dist-packages (from stack-data->ipython>=6.1.0->ipywidgets) (2.4.1)\n",
      "Requirement already satisfied: pure-eval in /usr/local/lib/python3.10/dist-packages (from stack-data->ipython>=6.1.0->ipywidgets) (0.2.2)\n",
      "Requirement already satisfied: six>=1.12.0 in /usr/local/lib/python3.10/dist-packages (from asttokens>=2.1.0->stack-data->ipython>=6.1.0->ipywidgets) (1.16.0)\n",
      "\u001b[33mWARNING: Running pip as the 'root' user can result in broken permissions and conflicting behaviour with the system package manager. It is recommended to use a virtual environment instead: https://pip.pypa.io/warnings/venv\u001b[0m\u001b[33m\n",
      "\u001b[0m"
     ]
    }
   ],
   "source": [
    "!pip install ipywidgets widgetsnbextension pandas-profiling"
   ]
  },
  {
   "cell_type": "code",
   "execution_count": 4,
   "id": "8c394965",
   "metadata": {
    "scrolled": true
   },
   "outputs": [
    {
     "name": "stdout",
     "output_type": "stream",
     "text": [
      "Enabling notebook extension jupyter-js-widgets/extension...\r\n",
      "      - Validating: \u001b[32mOK\u001b[0m\r\n"
     ]
    }
   ],
   "source": [
    "!jupyter nbextension enable --py widgetsnbextension"
   ]
  },
  {
   "cell_type": "code",
   "execution_count": 5,
   "id": "843cbf14",
   "metadata": {},
   "outputs": [
    {
     "name": "stderr",
     "output_type": "stream",
     "text": [
      "2024-01-15 12:42:57.414569: E tensorflow/compiler/xla/stream_executor/cuda/cuda_dnn.cc:9360] Unable to register cuDNN factory: Attempting to register factory for plugin cuDNN when one has already been registered\n",
      "2024-01-15 12:42:57.414634: E tensorflow/compiler/xla/stream_executor/cuda/cuda_fft.cc:609] Unable to register cuFFT factory: Attempting to register factory for plugin cuFFT when one has already been registered\n",
      "2024-01-15 12:42:57.414666: E tensorflow/compiler/xla/stream_executor/cuda/cuda_blas.cc:1537] Unable to register cuBLAS factory: Attempting to register factory for plugin cuBLAS when one has already been registered\n",
      "2024-01-15 12:42:57.422779: I tensorflow/core/platform/cpu_feature_guard.cc:183] This TensorFlow binary is optimized to use available CPU instructions in performance-critical operations.\n",
      "To enable the following instructions: SSE3 SSE4.1 SSE4.2 AVX, in other operations, rebuild TensorFlow with the appropriate compiler flags.\n"
     ]
    }
   ],
   "source": [
    "import tensorflow as tf\n",
    "import collections\n",
    "import json\n",
    "import os\n",
    "import pandas as pd\n",
    "import csv\n",
    "from transformers import DistilBertTokenizer\n",
    "\n",
    "max_seq_length = 64\n",
    "\n",
    "tokenizer = DistilBertTokenizer.from_pretrained(\"distilbert-base-uncased\")\n",
    " # DistilBERTはHuggingface が NeurIPS 2019 に公開したモデルで、名前は「Distilated-BERT」の略となります。\n",
    " # DistilBERTはBERTアーキテクチャをベースにした、小さくて、速くて、軽いTransformerモデルです。\n",
    " # DistilBERTは、BERT-baseよりもパラメータが40%少なく、60%高速に動作し、GLUE Benchmarkで測定されたBERTの\n",
    " # 97%の性能を維持できると言われています。\n",
    " # DistilBERTは、教師と呼ばれる大きなモデルを生徒と呼ばれる小さなモデルに圧縮する技術である知識蒸留を用いて\n",
    " # 訓練されます。BERTを蒸留することで、元のBERTモデルと多くの類似点を持ちながら、より軽量で実行速度が速い\n",
    " # Transformerモデルを得ることができます。\n",
    "\n",
    "REVIEW_BODY_COLUMN = \"review_body\"\n",
    "REVIEW_ID_COLUMN = \"review_id\"\n",
    "\n",
    "LABEL_COLUMN = \"star_rating\"\n",
    "LABEL_VALUES = [1, 2, 3, 4, 5]"
   ]
  },
  {
   "cell_type": "code",
   "execution_count": 6,
   "id": "00f87c14",
   "metadata": {},
   "outputs": [],
   "source": [
    "label_map = {}\n",
    "for (i, label) in enumerate(LABEL_VALUES):\n",
    "    label_map[label] = i"
   ]
  },
  {
   "cell_type": "code",
   "execution_count": 7,
   "id": "5fbfefd2",
   "metadata": {},
   "outputs": [
    {
     "name": "stdout",
     "output_type": "stream",
     "text": [
      "{1: 0, 2: 1, 3: 2, 4: 3, 5: 4}\n"
     ]
    }
   ],
   "source": [
    "print(label_map)"
   ]
  },
  {
   "cell_type": "code",
   "execution_count": 8,
   "id": "e7e32241",
   "metadata": {},
   "outputs": [],
   "source": [
    "class InputFeatures(object):\n",
    "    \"\"\"BERT特徴量ベクトル\"\"\"\n",
    "\n",
    "    def __init__(self, input_ids, input_mask, segment_ids, label_id, review_id, date, label):\n",
    "        self.input_ids = input_ids\n",
    "        self.input_mask = input_mask\n",
    "        self.segment_ids = segment_ids\n",
    "        self.label_id = label_id\n",
    "        self.review_id = review_id\n",
    "        self.date = date\n",
    "        self.label = label"
   ]
  },
  {
   "cell_type": "code",
   "execution_count": 9,
   "id": "a460965c",
   "metadata": {},
   "outputs": [],
   "source": [
    "class Input(object):\n",
    "    \"\"\"シーケンス分類で用いるトレーニング/テストの単一の入力\"\"\"\n",
    "\n",
    "    def __init__(self, text, review_id, date, label=None):\n",
    "        \"\"\"入力のコンストラクタ\n",
    "        Args:\n",
    "          text: 文字列。トークン化されていない一つ目のシーケンスのテキスト。\n",
    "            単一シーケンスのタスクではこのシーケンスのみを指定する。\n",
    "          label: (オプショナル) 文字列。サンプルのラベル。トレーニングや検証用のサンプルでは指定する。\n",
    "            テスト用のサンプルでは指定しない。\n",
    "        \"\"\"\n",
    "        self.text = text\n",
    "        self.review_id = review_id\n",
    "        self.date = date\n",
    "        self.label = label\n"
   ]
  },
  {
   "cell_type": "code",
   "execution_count": 10,
   "id": "b3f9ccb9",
   "metadata": {},
   "outputs": [],
   "source": [
    "def convert_input(the_input, max_seq_length):\n",
    "    # まず、BERTが学習したデータ形式と合うようにデータを前処理する。\n",
    "    # 1. テキストを小文字にする（BERT lowercaseモデルを用いる場合）\n",
    "    # 2. トークン化する（例、\"sally says hi\" -> [\"sally\", \"says\", \"hi\"]）\n",
    "    # 3. 単語をWordPieceに分割（例、\"calling\" -> [\"call\", \"##ing\"]）\n",
    "    #\n",
    "    # この辺りの処理はTransformersライブラリのトークナイザーがまかなってくれます。\n",
    "\n",
    "    tokens = tokenizer.tokenize(the_input.text)\n",
    "    tokens.insert(0, '[CLS]')\n",
    "    tokens.append('[SEP]')\n",
    "    # print(\"**{} tokens**\\n{}\\n\".format(len(tokens), tokens))\n",
    "\n",
    "    encode_plus_tokens = tokenizer.encode_plus(\n",
    "        the_input.text,\n",
    "        pad_to_max_length=True,\n",
    "        max_length=max_seq_length,\n",
    "        truncation=True\n",
    "    )\n",
    "    \n",
    "    # 事前学習済みBERTの語彙ID。トークンを表す。（トークン数が `max_seq_length` 未満であれば0をパディングする）\n",
    "    input_ids = encode_plus_tokens[\"input_ids\"]\n",
    "\n",
    "    # BERTがどのトークンに注目するかを0/1で指定。`input_ids` のパディング部分のベクトル要素には0を割り当てる。\n",
    "    input_mask = encode_plus_tokens[\"attention_mask\"]\n",
    "\n",
    "    # テキスト分類のような単一シーケンスのタスクではセグメントIDは常に0とする。質問回答や次文予測のような2シーケンスタスクの場合は1を割り当てる。\n",
    "    segment_ids = [0] * max_seq_length\n",
    "\n",
    "    # それぞれのトレーニングデータの行のラベル（`star_rating` 1〜5）\n",
    "    label_id = label_map[the_input.label]\n",
    "\n",
    "    features = InputFeatures(\n",
    "        input_ids=input_ids,\n",
    "        input_mask=input_mask,\n",
    "        segment_ids=segment_ids,\n",
    "        label_id=label_id,\n",
    "        review_id=the_input.review_id,\n",
    "        date=the_input.date,\n",
    "        label=the_input.label,\n",
    "    )\n",
    "\n",
    "    # print(\"**{} input_ids**\\n{}\\n\".format(len(features.input_ids), features.input_ids))\n",
    "    # print(\"**{} input_mask**\\n{}\\n\".format(len(features.input_mask), features.input_mask))\n",
    "    # print(\"**{} segment_ids**\\n{}\\n\".format(len(features.segment_ids), features.segment_ids))\n",
    "    # print(\"**label_id**\\n{}\\n\".format(features.label_id))\n",
    "    # print(\"**review_id**\\n{}\\n\".format(features.review_id))\n",
    "    # print(\"**date**\\n{}\\n\".format(features.date))\n",
    "    # print(\"**label**\\n{}\\n\".format(features.label))\n",
    "\n",
    "    return features\n"
   ]
  },
  {
   "cell_type": "code",
   "execution_count": 11,
   "id": "cac05b66",
   "metadata": {},
   "outputs": [],
   "source": [
    "def transform_inputs_to_tfrecord(inputs, output_file, max_seq_length):\n",
    "    # データをBERTが理解できるフォーマットに変換する\n",
    "    records = []\n",
    "    tf_record_writer = tf.io.TFRecordWriter(output_file)\n",
    "\n",
    "    for (input_idx, the_input) in enumerate(inputs):\n",
    "        if input_idx % 10000 == 0:\n",
    "            print(\"Writing input {} of {}\\n\".format(input_idx, len(inputs)))\n",
    "\n",
    "        features = convert_input(the_input, max_seq_length)\n",
    "\n",
    "        all_features = collections.OrderedDict()\n",
    "\n",
    "        # input_ids、input_mask、segment_ids、label_idsを含んだTFRecordを作成\n",
    "        all_features[\"input_ids\"] = tf.train.Feature(int64_list=tf.train.Int64List(value=features.input_ids))\n",
    "        all_features[\"input_mask\"] = tf.train.Feature(int64_list=tf.train.Int64List(value=features.input_mask))\n",
    "        all_features[\"segment_ids\"] = tf.train.Feature(int64_list=tf.train.Int64List(value=features.segment_ids))\n",
    "        all_features[\"label_ids\"] = tf.train.Feature(int64_list=tf.train.Int64List(value=[features.label_id]))\n",
    "\n",
    "        tf_record = tf.train.Example(features=tf.train.Features(feature=all_features))\n",
    "        tf_record_writer.write(tf_record.SerializeToString())\n",
    "\n",
    "        # Feature Storeに格納する、すべての特徴量を含んだレコードを作成\n",
    "        records.append(\n",
    "            {\n",
    "                \"input_ids\": features.input_ids,\n",
    "                \"input_mask\": features.input_mask,\n",
    "                \"segment_ids\": features.segment_ids,\n",
    "                \"label_id\": features.label_id,\n",
    "                \"review_id\": the_input.review_id,\n",
    "                \"date\": the_input.date,\n",
    "                \"label\": features.label,\n",
    "            }\n",
    "        )\n",
    "\n",
    "    tf_record_writer.close()\n",
    "\n",
    "    return records"
   ]
  },
  {
   "cell_type": "code",
   "execution_count": 12,
   "id": "a4a96b80",
   "metadata": {},
   "outputs": [
    {
     "name": "stdout",
     "output_type": "stream",
     "text": [
      "2024-01-15T12:43:07Z\n"
     ]
    }
   ],
   "source": [
    "from datetime import datetime\n",
    "from time import strftime\n",
    "\n",
    "# timestamp = datetime.now().replace(microsecond=0).isoformat()\n",
    "timestamp = datetime.now().strftime(\"%Y-%m-%dT%H:%M:%SZ\")\n",
    "print(timestamp)"
   ]
  },
  {
   "cell_type": "code",
   "execution_count": 13,
   "id": "903d41de",
   "metadata": {},
   "outputs": [],
   "source": [
    "import pandas as pd\n",
    "\n",
    "data = [\n",
    "    [\n",
    "        5,\n",
    "        \"ABCD12345\",\n",
    "        \"\"\"I needed an \"antivirus\" application and know the quality of Norton products.  This was a no brainer for me and I am glad it was so simple to get.\"\"\",\n",
    "    ],\n",
    "    [\n",
    "        3,\n",
    "        \"EFGH12345\",\n",
    "        \"\"\"The problem with ElephantDrive is that it requires the use of Java. Since Java is notorious for security problems I haveit removed from all of my computers. What files I do have stored are photos.\"\"\",\n",
    "    ],\n",
    "    [\n",
    "        1,\n",
    "        \"IJKL2345\",\n",
    "        \"\"\"Terrible, none of my codes worked, and I can't uninstall it.  I think this product IS malware and viruses\"\"\",\n",
    "    ],\n",
    "]\n",
    "\n",
    "df = pd.DataFrame(data, columns=[\"star_rating\", \"review_id\", \"review_body\"])\n",
    "\n",
    "# Input クラスを使用して、データからサンプルを作成する。\n",
    "inputs = df.apply(\n",
    "    lambda x: Input(label=x[LABEL_COLUMN], text=x[REVIEW_BODY_COLUMN], review_id=x[REVIEW_ID_COLUMN], date=timestamp),\n",
    "    axis=1,\n",
    ")"
   ]
  },
  {
   "cell_type": "code",
   "execution_count": 14,
   "id": "56eae43e",
   "metadata": {},
   "outputs": [
    {
     "data": {
      "text/html": [
       "<div>\n",
       "<style scoped>\n",
       "    .dataframe tbody tr th:only-of-type {\n",
       "        vertical-align: middle;\n",
       "    }\n",
       "\n",
       "    .dataframe tbody tr th {\n",
       "        vertical-align: top;\n",
       "    }\n",
       "\n",
       "    .dataframe thead th {\n",
       "        text-align: right;\n",
       "    }\n",
       "</style>\n",
       "<table border=\"1\" class=\"dataframe\">\n",
       "  <thead>\n",
       "    <tr style=\"text-align: right;\">\n",
       "      <th></th>\n",
       "      <th>star_rating</th>\n",
       "      <th>review_id</th>\n",
       "      <th>review_body</th>\n",
       "    </tr>\n",
       "  </thead>\n",
       "  <tbody>\n",
       "    <tr>\n",
       "      <th>0</th>\n",
       "      <td>5</td>\n",
       "      <td>ABCD12345</td>\n",
       "      <td>I needed an \"antivirus\" application and know t...</td>\n",
       "    </tr>\n",
       "    <tr>\n",
       "      <th>1</th>\n",
       "      <td>3</td>\n",
       "      <td>EFGH12345</td>\n",
       "      <td>The problem with ElephantDrive is that it requ...</td>\n",
       "    </tr>\n",
       "    <tr>\n",
       "      <th>2</th>\n",
       "      <td>1</td>\n",
       "      <td>IJKL2345</td>\n",
       "      <td>Terrible, none of my codes worked, and I can't...</td>\n",
       "    </tr>\n",
       "  </tbody>\n",
       "</table>\n",
       "</div>"
      ],
      "text/plain": [
       "   star_rating  review_id                                        review_body\n",
       "0            5  ABCD12345  I needed an \"antivirus\" application and know t...\n",
       "1            3  EFGH12345  The problem with ElephantDrive is that it requ...\n",
       "2            1   IJKL2345  Terrible, none of my codes worked, and I can't..."
      ]
     },
     "execution_count": 14,
     "metadata": {},
     "output_type": "execute_result"
    }
   ],
   "source": [
    "df"
   ]
  },
  {
   "cell_type": "code",
   "execution_count": 15,
   "id": "3649f81a",
   "metadata": {},
   "outputs": [
    {
     "data": {
      "text/plain": [
       "0    <__main__.Input object at 0x7feee5f0e650>\n",
       "1    <__main__.Input object at 0x7feee5f0ec20>\n",
       "2    <__main__.Input object at 0x7feee5f0edd0>\n",
       "dtype: object"
      ]
     },
     "execution_count": 15,
     "metadata": {},
     "output_type": "execute_result"
    }
   ],
   "source": [
    "inputs"
   ]
  },
  {
   "cell_type": "code",
   "execution_count": 16,
   "id": "1092e542",
   "metadata": {},
   "outputs": [
    {
     "name": "stdout",
     "output_type": "stream",
     "text": [
      "2024-01-15T12:43:07Z\n"
     ]
    }
   ],
   "source": [
    "# date が Feature Store の仕様に合わせて ISO-8601 になっていることを確認\n",
    "print(inputs[0].date)"
   ]
  },
  {
   "cell_type": "code",
   "execution_count": 17,
   "id": "40100b4b",
   "metadata": {},
   "outputs": [],
   "source": [
    "output_file = \"./data.tfrecord\""
   ]
  },
  {
   "cell_type": "code",
   "execution_count": 18,
   "id": "c1330704",
   "metadata": {},
   "outputs": [
    {
     "name": "stdout",
     "output_type": "stream",
     "text": [
      "Writing input 0 of 3\n",
      "\n"
     ]
    },
    {
     "name": "stderr",
     "output_type": "stream",
     "text": [
      "/usr/local/lib/python3.10/dist-packages/transformers/tokenization_utils_base.py:2618: FutureWarning: The `pad_to_max_length` argument is deprecated and will be removed in a future version, use `padding=True` or `padding='longest'` to pad to the longest sequence in the batch, or use `padding='max_length'` to pad to a max length. In this case, you can give a specific length with `max_length` (e.g. `max_length=45`) or leave max_length to None to pad to the maximal input size of the model (e.g. 512 for Bert).\n",
      "  warnings.warn(\n"
     ]
    }
   ],
   "source": [
    "records = transform_inputs_to_tfrecord(inputs, output_file, max_seq_length)"
   ]
  },
  {
   "cell_type": "code",
   "execution_count": 19,
   "id": "b1e3ff18",
   "metadata": {},
   "outputs": [
    {
     "name": "stdout",
     "output_type": "stream",
     "text": [
      "[101, 1045, 2734, 2019, 1000, 3424, 23350, 1000, 4646, 1998, 2113, 1996, 3737, 1997, 10770, 3688, 1012, 2023, 2001, 1037, 2053, 4167, 2121, 2005, 2033, 1998, 1045, 2572, 5580, 2009, 2001, 2061, 3722, 2000, 2131, 1012, 102, 0, 0, 0, 0, 0, 0, 0, 0, 0, 0, 0, 0, 0, 0, 0, 0, 0, 0, 0, 0, 0, 0, 0, 0, 0, 0, 0]\n"
     ]
    }
   ],
   "source": [
    "print(records[0]['input_ids'])"
   ]
  },
  {
   "cell_type": "code",
   "execution_count": 20,
   "id": "a50d807d",
   "metadata": {},
   "outputs": [],
   "source": [
    "import pandas as pd"
   ]
  },
  {
   "cell_type": "code",
   "execution_count": 21,
   "id": "c41204a7",
   "metadata": {},
   "outputs": [],
   "source": [
    "df = pd.read_parquet(\"/mnt/amazon_reviews_2015_small.snappy.parquet\",columns=[\"star_rating\",\"review_id\",\"review_body\"])"
   ]
  },
  {
   "cell_type": "code",
   "execution_count": 22,
   "id": "1965036f",
   "metadata": {},
   "outputs": [
    {
     "name": "stdout",
     "output_type": "stream",
     "text": [
      "star_rating:  1\n",
      "star_rating    36844\n",
      "review_id      36844\n",
      "review_body    36844\n",
      "dtype: int64\n",
      "-------------------------\n",
      "star_rating:  2\n",
      "star_rating    22482\n",
      "review_id      22482\n",
      "review_body    22482\n",
      "dtype: int64\n",
      "-------------------------\n",
      "star_rating:  3\n",
      "star_rating    37827\n",
      "review_id      37827\n",
      "review_body    37827\n",
      "dtype: int64\n",
      "-------------------------\n",
      "star_rating:  4\n",
      "star_rating    77271\n",
      "review_id      77271\n",
      "review_body    77271\n",
      "dtype: int64\n",
      "-------------------------\n",
      "star_rating:  5\n",
      "star_rating    325576\n",
      "review_id      325576\n",
      "review_body    325576\n",
      "dtype: int64\n",
      "-------------------------\n"
     ]
    }
   ],
   "source": [
    "for i in range(1,6):\n",
    "    print(\"star_rating: \", i)\n",
    "    print(df[df['star_rating'] == i].count())\n",
    "    print('-------------------------')"
   ]
  },
  {
   "cell_type": "code",
   "execution_count": 23,
   "id": "9dda3a8f",
   "metadata": {},
   "outputs": [],
   "source": [
    "for i in range(1,6):\n",
    "    new_df = 'df' + str(i)\n",
    "    globals()[new_df] = df[df['star_rating'] == i].sample(n=22482)"
   ]
  },
  {
   "cell_type": "code",
   "execution_count": 24,
   "id": "44e11d40",
   "metadata": {},
   "outputs": [
    {
     "data": {
      "text/html": [
       "<div>\n",
       "<style scoped>\n",
       "    .dataframe tbody tr th:only-of-type {\n",
       "        vertical-align: middle;\n",
       "    }\n",
       "\n",
       "    .dataframe tbody tr th {\n",
       "        vertical-align: top;\n",
       "    }\n",
       "\n",
       "    .dataframe thead th {\n",
       "        text-align: right;\n",
       "    }\n",
       "</style>\n",
       "<table border=\"1\" class=\"dataframe\">\n",
       "  <thead>\n",
       "    <tr style=\"text-align: right;\">\n",
       "      <th></th>\n",
       "      <th>star_rating</th>\n",
       "      <th>review_id</th>\n",
       "      <th>review_body</th>\n",
       "    </tr>\n",
       "  </thead>\n",
       "  <tbody>\n",
       "    <tr>\n",
       "      <th>225295</th>\n",
       "      <td>1</td>\n",
       "      <td>R2WAFFM8QVWKE1</td>\n",
       "      <td>I'm not sure why anyone would put artificial f...</td>\n",
       "    </tr>\n",
       "    <tr>\n",
       "      <th>246235</th>\n",
       "      <td>1</td>\n",
       "      <td>R3PBKVRSYGPQ2N</td>\n",
       "      <td>They are flimsy and difficult to get on cans.</td>\n",
       "    </tr>\n",
       "    <tr>\n",
       "      <th>436857</th>\n",
       "      <td>1</td>\n",
       "      <td>RSIX4RVWQUXLL</td>\n",
       "      <td>Horrible. Didn't do anything for me. Not effec...</td>\n",
       "    </tr>\n",
       "    <tr>\n",
       "      <th>242550</th>\n",
       "      <td>1</td>\n",
       "      <td>R2A1FCYJG2ER6N</td>\n",
       "      <td>Horrible absolutely useless very disappointed</td>\n",
       "    </tr>\n",
       "    <tr>\n",
       "      <th>269039</th>\n",
       "      <td>1</td>\n",
       "      <td>R2ZZH38SS81DQV</td>\n",
       "      <td>This is absolute junk.  I have purchase two of...</td>\n",
       "    </tr>\n",
       "    <tr>\n",
       "      <th>...</th>\n",
       "      <td>...</td>\n",
       "      <td>...</td>\n",
       "      <td>...</td>\n",
       "    </tr>\n",
       "    <tr>\n",
       "      <th>497115</th>\n",
       "      <td>1</td>\n",
       "      <td>R3BFS3EA7ZS7TS</td>\n",
       "      <td>This powder has very unpleasant taste.  It mad...</td>\n",
       "    </tr>\n",
       "    <tr>\n",
       "      <th>84338</th>\n",
       "      <td>1</td>\n",
       "      <td>R29D6ZJLKJ1BHT</td>\n",
       "      <td>I was very disappointed cuz it was little and ...</td>\n",
       "    </tr>\n",
       "    <tr>\n",
       "      <th>186060</th>\n",
       "      <td>1</td>\n",
       "      <td>R20B2NEPP6U13E</td>\n",
       "      <td>Received quickly and no issue with the seller....</td>\n",
       "    </tr>\n",
       "    <tr>\n",
       "      <th>147190</th>\n",
       "      <td>1</td>\n",
       "      <td>R2FXYFB5X7R96J</td>\n",
       "      <td>Was just ok</td>\n",
       "    </tr>\n",
       "    <tr>\n",
       "      <th>5170</th>\n",
       "      <td>1</td>\n",
       "      <td>R1ALTPBNY40IAO</td>\n",
       "      <td>I get a different reading if done back to back...</td>\n",
       "    </tr>\n",
       "  </tbody>\n",
       "</table>\n",
       "<p>22482 rows × 3 columns</p>\n",
       "</div>"
      ],
      "text/plain": [
       "        star_rating       review_id  \\\n",
       "225295            1  R2WAFFM8QVWKE1   \n",
       "246235            1  R3PBKVRSYGPQ2N   \n",
       "436857            1   RSIX4RVWQUXLL   \n",
       "242550            1  R2A1FCYJG2ER6N   \n",
       "269039            1  R2ZZH38SS81DQV   \n",
       "...             ...             ...   \n",
       "497115            1  R3BFS3EA7ZS7TS   \n",
       "84338             1  R29D6ZJLKJ1BHT   \n",
       "186060            1  R20B2NEPP6U13E   \n",
       "147190            1  R2FXYFB5X7R96J   \n",
       "5170              1  R1ALTPBNY40IAO   \n",
       "\n",
       "                                              review_body  \n",
       "225295  I'm not sure why anyone would put artificial f...  \n",
       "246235      They are flimsy and difficult to get on cans.  \n",
       "436857  Horrible. Didn't do anything for me. Not effec...  \n",
       "242550      Horrible absolutely useless very disappointed  \n",
       "269039  This is absolute junk.  I have purchase two of...  \n",
       "...                                                   ...  \n",
       "497115  This powder has very unpleasant taste.  It mad...  \n",
       "84338   I was very disappointed cuz it was little and ...  \n",
       "186060  Received quickly and no issue with the seller....  \n",
       "147190                                        Was just ok  \n",
       "5170    I get a different reading if done back to back...  \n",
       "\n",
       "[22482 rows x 3 columns]"
      ]
     },
     "execution_count": 24,
     "metadata": {},
     "output_type": "execute_result"
    }
   ],
   "source": [
    "df1"
   ]
  },
  {
   "cell_type": "code",
   "execution_count": 25,
   "id": "9fae69e0",
   "metadata": {},
   "outputs": [
    {
     "data": {
      "text/html": [
       "<div>\n",
       "<style scoped>\n",
       "    .dataframe tbody tr th:only-of-type {\n",
       "        vertical-align: middle;\n",
       "    }\n",
       "\n",
       "    .dataframe tbody tr th {\n",
       "        vertical-align: top;\n",
       "    }\n",
       "\n",
       "    .dataframe thead th {\n",
       "        text-align: right;\n",
       "    }\n",
       "</style>\n",
       "<table border=\"1\" class=\"dataframe\">\n",
       "  <thead>\n",
       "    <tr style=\"text-align: right;\">\n",
       "      <th></th>\n",
       "      <th>star_rating</th>\n",
       "      <th>review_id</th>\n",
       "      <th>review_body</th>\n",
       "    </tr>\n",
       "  </thead>\n",
       "  <tbody>\n",
       "    <tr>\n",
       "      <th>53145</th>\n",
       "      <td>2</td>\n",
       "      <td>RYUP37NGSV511</td>\n",
       "      <td>Bad water taste after only a month in use</td>\n",
       "    </tr>\n",
       "    <tr>\n",
       "      <th>45953</th>\n",
       "      <td>2</td>\n",
       "      <td>R3FL1BEFOYYD9Q</td>\n",
       "      <td>Not enough good songs to keep my interest...</td>\n",
       "    </tr>\n",
       "    <tr>\n",
       "      <th>372387</th>\n",
       "      <td>2</td>\n",
       "      <td>R3509DBMSURHKP</td>\n",
       "      <td>Way too small. Had to return it. Seems to me, ...</td>\n",
       "    </tr>\n",
       "    <tr>\n",
       "      <th>248170</th>\n",
       "      <td>2</td>\n",
       "      <td>R2HI8EZHQ7K42M</td>\n",
       "      <td>the string broke off the first time I played w...</td>\n",
       "    </tr>\n",
       "    <tr>\n",
       "      <th>314619</th>\n",
       "      <td>2</td>\n",
       "      <td>RSWY7Y40EC9U1</td>\n",
       "      <td>So I wanted an app so I could learn a song and...</td>\n",
       "    </tr>\n",
       "    <tr>\n",
       "      <th>...</th>\n",
       "      <td>...</td>\n",
       "      <td>...</td>\n",
       "      <td>...</td>\n",
       "    </tr>\n",
       "    <tr>\n",
       "      <th>170664</th>\n",
       "      <td>2</td>\n",
       "      <td>R3KA3WNBRXFQOC</td>\n",
       "      <td>i was very disappointed with these gloves. the...</td>\n",
       "    </tr>\n",
       "    <tr>\n",
       "      <th>400492</th>\n",
       "      <td>2</td>\n",
       "      <td>R7T7D44MY93C3</td>\n",
       "      <td>This outfit runs too small for the size.</td>\n",
       "    </tr>\n",
       "    <tr>\n",
       "      <th>144463</th>\n",
       "      <td>2</td>\n",
       "      <td>RCBI6ZHLDM28J</td>\n",
       "      <td>Well, it comes on and does it's thing as descr...</td>\n",
       "    </tr>\n",
       "    <tr>\n",
       "      <th>56633</th>\n",
       "      <td>2</td>\n",
       "      <td>R2IC2BGXAIE500</td>\n",
       "      <td>i was not expecting the tier to be so small. I...</td>\n",
       "    </tr>\n",
       "    <tr>\n",
       "      <th>215815</th>\n",
       "      <td>2</td>\n",
       "      <td>R1HJKLC4ZD01P5</td>\n",
       "      <td>When it worked, it was great. The cold option ...</td>\n",
       "    </tr>\n",
       "  </tbody>\n",
       "</table>\n",
       "<p>22482 rows × 3 columns</p>\n",
       "</div>"
      ],
      "text/plain": [
       "        star_rating       review_id  \\\n",
       "53145             2   RYUP37NGSV511   \n",
       "45953             2  R3FL1BEFOYYD9Q   \n",
       "372387            2  R3509DBMSURHKP   \n",
       "248170            2  R2HI8EZHQ7K42M   \n",
       "314619            2   RSWY7Y40EC9U1   \n",
       "...             ...             ...   \n",
       "170664            2  R3KA3WNBRXFQOC   \n",
       "400492            2   R7T7D44MY93C3   \n",
       "144463            2   RCBI6ZHLDM28J   \n",
       "56633             2  R2IC2BGXAIE500   \n",
       "215815            2  R1HJKLC4ZD01P5   \n",
       "\n",
       "                                              review_body  \n",
       "53145           Bad water taste after only a month in use  \n",
       "45953        Not enough good songs to keep my interest...  \n",
       "372387  Way too small. Had to return it. Seems to me, ...  \n",
       "248170  the string broke off the first time I played w...  \n",
       "314619  So I wanted an app so I could learn a song and...  \n",
       "...                                                   ...  \n",
       "170664  i was very disappointed with these gloves. the...  \n",
       "400492           This outfit runs too small for the size.  \n",
       "144463  Well, it comes on and does it's thing as descr...  \n",
       "56633   i was not expecting the tier to be so small. I...  \n",
       "215815  When it worked, it was great. The cold option ...  \n",
       "\n",
       "[22482 rows x 3 columns]"
      ]
     },
     "execution_count": 25,
     "metadata": {},
     "output_type": "execute_result"
    }
   ],
   "source": [
    "df2"
   ]
  },
  {
   "cell_type": "code",
   "execution_count": 26,
   "id": "fc2fc282",
   "metadata": {},
   "outputs": [
    {
     "data": {
      "text/html": [
       "<div>\n",
       "<style scoped>\n",
       "    .dataframe tbody tr th:only-of-type {\n",
       "        vertical-align: middle;\n",
       "    }\n",
       "\n",
       "    .dataframe tbody tr th {\n",
       "        vertical-align: top;\n",
       "    }\n",
       "\n",
       "    .dataframe thead th {\n",
       "        text-align: right;\n",
       "    }\n",
       "</style>\n",
       "<table border=\"1\" class=\"dataframe\">\n",
       "  <thead>\n",
       "    <tr style=\"text-align: right;\">\n",
       "      <th></th>\n",
       "      <th>star_rating</th>\n",
       "      <th>review_id</th>\n",
       "      <th>review_body</th>\n",
       "    </tr>\n",
       "  </thead>\n",
       "  <tbody>\n",
       "    <tr>\n",
       "      <th>470498</th>\n",
       "      <td>3</td>\n",
       "      <td>RTAWBC13XDWPO</td>\n",
       "      <td>Not the best quality but okay.</td>\n",
       "    </tr>\n",
       "    <tr>\n",
       "      <th>229419</th>\n",
       "      <td>3</td>\n",
       "      <td>R3SAQZKUZQZZZ2</td>\n",
       "      <td>I should've read all the reviews a little clos...</td>\n",
       "    </tr>\n",
       "    <tr>\n",
       "      <th>32447</th>\n",
       "      <td>3</td>\n",
       "      <td>R2UN5M26K5UCG8</td>\n",
       "      <td>I had purchased a similar product elsewhere an...</td>\n",
       "    </tr>\n",
       "    <tr>\n",
       "      <th>147691</th>\n",
       "      <td>3</td>\n",
       "      <td>R3HSDMA9JVXRKF</td>\n",
       "      <td>I can only trust that the program works as it ...</td>\n",
       "    </tr>\n",
       "    <tr>\n",
       "      <th>270525</th>\n",
       "      <td>3</td>\n",
       "      <td>RYKDD8YV88AG0</td>\n",
       "      <td>The only flaw I can find with this machine is ...</td>\n",
       "    </tr>\n",
       "    <tr>\n",
       "      <th>...</th>\n",
       "      <td>...</td>\n",
       "      <td>...</td>\n",
       "      <td>...</td>\n",
       "    </tr>\n",
       "    <tr>\n",
       "      <th>460332</th>\n",
       "      <td>3</td>\n",
       "      <td>R1WFSDY4XV8LU3</td>\n",
       "      <td>This book was just okay.  I guess because Maya...</td>\n",
       "    </tr>\n",
       "    <tr>\n",
       "      <th>11532</th>\n",
       "      <td>3</td>\n",
       "      <td>R3AVDQL50E6TGR</td>\n",
       "      <td>I'm actually very surprised how highly rated t...</td>\n",
       "    </tr>\n",
       "    <tr>\n",
       "      <th>273304</th>\n",
       "      <td>3</td>\n",
       "      <td>R22RHTX1GSSEAZ</td>\n",
       "      <td>have use it yet, but seams to be of good quali...</td>\n",
       "    </tr>\n",
       "    <tr>\n",
       "      <th>337530</th>\n",
       "      <td>3</td>\n",
       "      <td>R1R6N60B2OBVBQ</td>\n",
       "      <td>Pros:&lt;br /&gt;LATCH system.&lt;br /&gt;Comfortable cush...</td>\n",
       "    </tr>\n",
       "    <tr>\n",
       "      <th>6927</th>\n",
       "      <td>3</td>\n",
       "      <td>R32QJRK0PCD609</td>\n",
       "      <td>So apparently you can get a box of 900 from Co...</td>\n",
       "    </tr>\n",
       "  </tbody>\n",
       "</table>\n",
       "<p>22482 rows × 3 columns</p>\n",
       "</div>"
      ],
      "text/plain": [
       "        star_rating       review_id  \\\n",
       "470498            3   RTAWBC13XDWPO   \n",
       "229419            3  R3SAQZKUZQZZZ2   \n",
       "32447             3  R2UN5M26K5UCG8   \n",
       "147691            3  R3HSDMA9JVXRKF   \n",
       "270525            3   RYKDD8YV88AG0   \n",
       "...             ...             ...   \n",
       "460332            3  R1WFSDY4XV8LU3   \n",
       "11532             3  R3AVDQL50E6TGR   \n",
       "273304            3  R22RHTX1GSSEAZ   \n",
       "337530            3  R1R6N60B2OBVBQ   \n",
       "6927              3  R32QJRK0PCD609   \n",
       "\n",
       "                                              review_body  \n",
       "470498                     Not the best quality but okay.  \n",
       "229419  I should've read all the reviews a little clos...  \n",
       "32447   I had purchased a similar product elsewhere an...  \n",
       "147691  I can only trust that the program works as it ...  \n",
       "270525  The only flaw I can find with this machine is ...  \n",
       "...                                                   ...  \n",
       "460332  This book was just okay.  I guess because Maya...  \n",
       "11532   I'm actually very surprised how highly rated t...  \n",
       "273304  have use it yet, but seams to be of good quali...  \n",
       "337530  Pros:<br />LATCH system.<br />Comfortable cush...  \n",
       "6927    So apparently you can get a box of 900 from Co...  \n",
       "\n",
       "[22482 rows x 3 columns]"
      ]
     },
     "execution_count": 26,
     "metadata": {},
     "output_type": "execute_result"
    }
   ],
   "source": [
    "df3"
   ]
  },
  {
   "cell_type": "code",
   "execution_count": 27,
   "id": "a0d536cd",
   "metadata": {},
   "outputs": [
    {
     "data": {
      "text/html": [
       "<div>\n",
       "<style scoped>\n",
       "    .dataframe tbody tr th:only-of-type {\n",
       "        vertical-align: middle;\n",
       "    }\n",
       "\n",
       "    .dataframe tbody tr th {\n",
       "        vertical-align: top;\n",
       "    }\n",
       "\n",
       "    .dataframe thead th {\n",
       "        text-align: right;\n",
       "    }\n",
       "</style>\n",
       "<table border=\"1\" class=\"dataframe\">\n",
       "  <thead>\n",
       "    <tr style=\"text-align: right;\">\n",
       "      <th></th>\n",
       "      <th>star_rating</th>\n",
       "      <th>review_id</th>\n",
       "      <th>review_body</th>\n",
       "    </tr>\n",
       "  </thead>\n",
       "  <tbody>\n",
       "    <tr>\n",
       "      <th>124105</th>\n",
       "      <td>4</td>\n",
       "      <td>R2UX0BSW1HPRAT</td>\n",
       "      <td>**Spoiler Alert** Sexually Graphic not suitabl...</td>\n",
       "    </tr>\n",
       "    <tr>\n",
       "      <th>417113</th>\n",
       "      <td>4</td>\n",
       "      <td>R39KH16WVFYKFE</td>\n",
       "      <td>This would be SOOO much better if there was a ...</td>\n",
       "    </tr>\n",
       "    <tr>\n",
       "      <th>214602</th>\n",
       "      <td>4</td>\n",
       "      <td>R33LJCEF13D650</td>\n",
       "      <td>Totally convincing. I took this on a cruise, a...</td>\n",
       "    </tr>\n",
       "    <tr>\n",
       "      <th>39891</th>\n",
       "      <td>4</td>\n",
       "      <td>R3S4NUJZGSCJKF</td>\n",
       "      <td>Yup. good bang for the buck.</td>\n",
       "    </tr>\n",
       "    <tr>\n",
       "      <th>402497</th>\n",
       "      <td>4</td>\n",
       "      <td>R1DPQYWDBFXH3Y</td>\n",
       "      <td>what is there to review ,this song is hopping</td>\n",
       "    </tr>\n",
       "    <tr>\n",
       "      <th>...</th>\n",
       "      <td>...</td>\n",
       "      <td>...</td>\n",
       "      <td>...</td>\n",
       "    </tr>\n",
       "    <tr>\n",
       "      <th>449418</th>\n",
       "      <td>4</td>\n",
       "      <td>R1GVLZB6A87I0N</td>\n",
       "      <td>Nice and warm!</td>\n",
       "    </tr>\n",
       "    <tr>\n",
       "      <th>137837</th>\n",
       "      <td>4</td>\n",
       "      <td>R2OZ29ZNHCXYO1</td>\n",
       "      <td>Very nice and am very interested in this</td>\n",
       "    </tr>\n",
       "    <tr>\n",
       "      <th>152578</th>\n",
       "      <td>4</td>\n",
       "      <td>R2BED30B3JJMQ1</td>\n",
       "      <td>It is quite good for the price.</td>\n",
       "    </tr>\n",
       "    <tr>\n",
       "      <th>303191</th>\n",
       "      <td>4</td>\n",
       "      <td>RPY9E13IQN7LF</td>\n",
       "      <td>Good but no foxes in it.</td>\n",
       "    </tr>\n",
       "    <tr>\n",
       "      <th>234532</th>\n",
       "      <td>4</td>\n",
       "      <td>R1DXNO1LP1Z3S9</td>\n",
       "      <td>perfectly good. boils water like a tea kettle ...</td>\n",
       "    </tr>\n",
       "  </tbody>\n",
       "</table>\n",
       "<p>22482 rows × 3 columns</p>\n",
       "</div>"
      ],
      "text/plain": [
       "        star_rating       review_id  \\\n",
       "124105            4  R2UX0BSW1HPRAT   \n",
       "417113            4  R39KH16WVFYKFE   \n",
       "214602            4  R33LJCEF13D650   \n",
       "39891             4  R3S4NUJZGSCJKF   \n",
       "402497            4  R1DPQYWDBFXH3Y   \n",
       "...             ...             ...   \n",
       "449418            4  R1GVLZB6A87I0N   \n",
       "137837            4  R2OZ29ZNHCXYO1   \n",
       "152578            4  R2BED30B3JJMQ1   \n",
       "303191            4   RPY9E13IQN7LF   \n",
       "234532            4  R1DXNO1LP1Z3S9   \n",
       "\n",
       "                                              review_body  \n",
       "124105  **Spoiler Alert** Sexually Graphic not suitabl...  \n",
       "417113  This would be SOOO much better if there was a ...  \n",
       "214602  Totally convincing. I took this on a cruise, a...  \n",
       "39891                        Yup. good bang for the buck.  \n",
       "402497      what is there to review ,this song is hopping  \n",
       "...                                                   ...  \n",
       "449418                                     Nice and warm!  \n",
       "137837           Very nice and am very interested in this  \n",
       "152578                    It is quite good for the price.  \n",
       "303191                           Good but no foxes in it.  \n",
       "234532  perfectly good. boils water like a tea kettle ...  \n",
       "\n",
       "[22482 rows x 3 columns]"
      ]
     },
     "execution_count": 27,
     "metadata": {},
     "output_type": "execute_result"
    }
   ],
   "source": [
    "df4"
   ]
  },
  {
   "cell_type": "code",
   "execution_count": 28,
   "id": "9ecd3d1c",
   "metadata": {},
   "outputs": [
    {
     "data": {
      "text/html": [
       "<div>\n",
       "<style scoped>\n",
       "    .dataframe tbody tr th:only-of-type {\n",
       "        vertical-align: middle;\n",
       "    }\n",
       "\n",
       "    .dataframe tbody tr th {\n",
       "        vertical-align: top;\n",
       "    }\n",
       "\n",
       "    .dataframe thead th {\n",
       "        text-align: right;\n",
       "    }\n",
       "</style>\n",
       "<table border=\"1\" class=\"dataframe\">\n",
       "  <thead>\n",
       "    <tr style=\"text-align: right;\">\n",
       "      <th></th>\n",
       "      <th>star_rating</th>\n",
       "      <th>review_id</th>\n",
       "      <th>review_body</th>\n",
       "    </tr>\n",
       "  </thead>\n",
       "  <tbody>\n",
       "    <tr>\n",
       "      <th>112124</th>\n",
       "      <td>5</td>\n",
       "      <td>R2LQZI7JR932JJ</td>\n",
       "      <td>Washed and ironed beautifully.  I folded them ...</td>\n",
       "    </tr>\n",
       "    <tr>\n",
       "      <th>167159</th>\n",
       "      <td>5</td>\n",
       "      <td>R6DZV1J88E76A</td>\n",
       "      <td>I really have not worn any yet but they look good</td>\n",
       "    </tr>\n",
       "    <tr>\n",
       "      <th>97650</th>\n",
       "      <td>5</td>\n",
       "      <td>R3TRZRHOX54MBM</td>\n",
       "      <td>Easy to use fun to play free app im just typin...</td>\n",
       "    </tr>\n",
       "    <tr>\n",
       "      <th>432347</th>\n",
       "      <td>5</td>\n",
       "      <td>RHJZUJRAXH9T6</td>\n",
       "      <td>Received, great shape</td>\n",
       "    </tr>\n",
       "    <tr>\n",
       "      <th>241992</th>\n",
       "      <td>5</td>\n",
       "      <td>R1H7DTHXKVO0LV</td>\n",
       "      <td>I love the product. The color is vibrant and l...</td>\n",
       "    </tr>\n",
       "    <tr>\n",
       "      <th>...</th>\n",
       "      <td>...</td>\n",
       "      <td>...</td>\n",
       "      <td>...</td>\n",
       "    </tr>\n",
       "    <tr>\n",
       "      <th>484244</th>\n",
       "      <td>5</td>\n",
       "      <td>RM69MHWP3ON37</td>\n",
       "      <td>Like it.</td>\n",
       "    </tr>\n",
       "    <tr>\n",
       "      <th>147442</th>\n",
       "      <td>5</td>\n",
       "      <td>R2NCNDCAS7P1DF</td>\n",
       "      <td>This games is fun and addicting! I recommend t...</td>\n",
       "    </tr>\n",
       "    <tr>\n",
       "      <th>44075</th>\n",
       "      <td>5</td>\n",
       "      <td>R10XE92TUO3BXC</td>\n",
       "      <td>This is very cool!!!</td>\n",
       "    </tr>\n",
       "    <tr>\n",
       "      <th>234687</th>\n",
       "      <td>5</td>\n",
       "      <td>R2Y2NIBNU50Z4Q</td>\n",
       "      <td>Love em' so far. They seem like they are well ...</td>\n",
       "    </tr>\n",
       "    <tr>\n",
       "      <th>467907</th>\n",
       "      <td>5</td>\n",
       "      <td>R1LO3YGJMGLGSF</td>\n",
       "      <td>I JUST GOT THESE CUTE WEATHER TEAMED SOCKS TOD...</td>\n",
       "    </tr>\n",
       "  </tbody>\n",
       "</table>\n",
       "<p>22482 rows × 3 columns</p>\n",
       "</div>"
      ],
      "text/plain": [
       "        star_rating       review_id  \\\n",
       "112124            5  R2LQZI7JR932JJ   \n",
       "167159            5   R6DZV1J88E76A   \n",
       "97650             5  R3TRZRHOX54MBM   \n",
       "432347            5   RHJZUJRAXH9T6   \n",
       "241992            5  R1H7DTHXKVO0LV   \n",
       "...             ...             ...   \n",
       "484244            5   RM69MHWP3ON37   \n",
       "147442            5  R2NCNDCAS7P1DF   \n",
       "44075             5  R10XE92TUO3BXC   \n",
       "234687            5  R2Y2NIBNU50Z4Q   \n",
       "467907            5  R1LO3YGJMGLGSF   \n",
       "\n",
       "                                              review_body  \n",
       "112124  Washed and ironed beautifully.  I folded them ...  \n",
       "167159  I really have not worn any yet but they look good  \n",
       "97650   Easy to use fun to play free app im just typin...  \n",
       "432347                              Received, great shape  \n",
       "241992  I love the product. The color is vibrant and l...  \n",
       "...                                                   ...  \n",
       "484244                                           Like it.  \n",
       "147442  This games is fun and addicting! I recommend t...  \n",
       "44075                                This is very cool!!!  \n",
       "234687  Love em' so far. They seem like they are well ...  \n",
       "467907  I JUST GOT THESE CUTE WEATHER TEAMED SOCKS TOD...  \n",
       "\n",
       "[22482 rows x 3 columns]"
      ]
     },
     "execution_count": 28,
     "metadata": {},
     "output_type": "execute_result"
    }
   ],
   "source": [
    "df5"
   ]
  },
  {
   "cell_type": "code",
   "execution_count": 29,
   "id": "43048a2f",
   "metadata": {},
   "outputs": [],
   "source": [
    "df_temp = pd.concat([df1,df2,df3,df4,df5])"
   ]
  },
  {
   "cell_type": "code",
   "execution_count": 30,
   "id": "15e77a3c",
   "metadata": {},
   "outputs": [
    {
     "data": {
      "text/plain": [
       "star_rating    112410\n",
       "review_id      112410\n",
       "review_body    112410\n",
       "dtype: int64"
      ]
     },
     "execution_count": 30,
     "metadata": {},
     "output_type": "execute_result"
    }
   ],
   "source": [
    "df_temp.count()"
   ]
  },
  {
   "cell_type": "code",
   "execution_count": 31,
   "id": "e5c7d4b4",
   "metadata": {},
   "outputs": [],
   "source": [
    "df_shaffle = df_temp.sample(100000)"
   ]
  },
  {
   "cell_type": "code",
   "execution_count": 32,
   "id": "ceb0b8e7",
   "metadata": {},
   "outputs": [],
   "source": [
    "df_head = df_shaffle.head(80000)\n",
    "df_tail = df_shaffle.tail(20000)"
   ]
  },
  {
   "cell_type": "code",
   "execution_count": 33,
   "id": "a51cd1e1",
   "metadata": {},
   "outputs": [],
   "source": [
    "df_head.to_parquet(\"/mnt/amazon_reviews_2015_small_head.snappy.parquet\")\n",
    "df_tail.to_parquet(\"/mnt/amazon_reviews_2015_small_tail.snappy.parquet\")"
   ]
  },
  {
   "cell_type": "code",
   "execution_count": 34,
   "id": "621b7119",
   "metadata": {},
   "outputs": [
    {
     "data": {
      "text/html": [
       "<div>\n",
       "<style scoped>\n",
       "    .dataframe tbody tr th:only-of-type {\n",
       "        vertical-align: middle;\n",
       "    }\n",
       "\n",
       "    .dataframe tbody tr th {\n",
       "        vertical-align: top;\n",
       "    }\n",
       "\n",
       "    .dataframe thead th {\n",
       "        text-align: right;\n",
       "    }\n",
       "</style>\n",
       "<table border=\"1\" class=\"dataframe\">\n",
       "  <thead>\n",
       "    <tr style=\"text-align: right;\">\n",
       "      <th></th>\n",
       "      <th>star_rating</th>\n",
       "      <th>review_id</th>\n",
       "      <th>review_body</th>\n",
       "    </tr>\n",
       "  </thead>\n",
       "  <tbody>\n",
       "    <tr>\n",
       "      <th>490796</th>\n",
       "      <td>3</td>\n",
       "      <td>RLZADDLF207LO</td>\n",
       "      <td>It is moisturizing but I haven't noticed any i...</td>\n",
       "    </tr>\n",
       "    <tr>\n",
       "      <th>241513</th>\n",
       "      <td>5</td>\n",
       "      <td>R2PLJZVKTED5M1</td>\n",
       "      <td>Really great product for dry skin.  A little t...</td>\n",
       "    </tr>\n",
       "    <tr>\n",
       "      <th>19001</th>\n",
       "      <td>1</td>\n",
       "      <td>R3TLB69YYK6N2C</td>\n",
       "      <td>Decent, but the madnetic button doesn't work a...</td>\n",
       "    </tr>\n",
       "    <tr>\n",
       "      <th>485196</th>\n",
       "      <td>4</td>\n",
       "      <td>RH7QMQNXJ7NE7</td>\n",
       "      <td>Fit my dryer well.</td>\n",
       "    </tr>\n",
       "    <tr>\n",
       "      <th>187423</th>\n",
       "      <td>2</td>\n",
       "      <td>R295XHUX70JO3X</td>\n",
       "      <td>I us bought 2 of these sleeping bags for campi...</td>\n",
       "    </tr>\n",
       "    <tr>\n",
       "      <th>...</th>\n",
       "      <td>...</td>\n",
       "      <td>...</td>\n",
       "      <td>...</td>\n",
       "    </tr>\n",
       "    <tr>\n",
       "      <th>431267</th>\n",
       "      <td>5</td>\n",
       "      <td>R36YLWFQQ8R108</td>\n",
       "      <td>good information to know, I do not totally agr...</td>\n",
       "    </tr>\n",
       "    <tr>\n",
       "      <th>18505</th>\n",
       "      <td>2</td>\n",
       "      <td>R1DHAFIS7FE9LF</td>\n",
       "      <td>The individual floating shaving heads are held...</td>\n",
       "    </tr>\n",
       "    <tr>\n",
       "      <th>243446</th>\n",
       "      <td>2</td>\n",
       "      <td>RJYS1N8PWMXRJ</td>\n",
       "      <td>Not worth the trouble!! Doesn't shave very clo...</td>\n",
       "    </tr>\n",
       "    <tr>\n",
       "      <th>329286</th>\n",
       "      <td>3</td>\n",
       "      <td>RERN4ZWC3XR0O</td>\n",
       "      <td>Very trendy look and material was amazing.But ...</td>\n",
       "    </tr>\n",
       "    <tr>\n",
       "      <th>222631</th>\n",
       "      <td>2</td>\n",
       "      <td>R1HUZUI6M5X039</td>\n",
       "      <td>The product came with two labels but with both...</td>\n",
       "    </tr>\n",
       "  </tbody>\n",
       "</table>\n",
       "<p>80000 rows × 3 columns</p>\n",
       "</div>"
      ],
      "text/plain": [
       "        star_rating       review_id  \\\n",
       "490796            3   RLZADDLF207LO   \n",
       "241513            5  R2PLJZVKTED5M1   \n",
       "19001             1  R3TLB69YYK6N2C   \n",
       "485196            4   RH7QMQNXJ7NE7   \n",
       "187423            2  R295XHUX70JO3X   \n",
       "...             ...             ...   \n",
       "431267            5  R36YLWFQQ8R108   \n",
       "18505             2  R1DHAFIS7FE9LF   \n",
       "243446            2   RJYS1N8PWMXRJ   \n",
       "329286            3   RERN4ZWC3XR0O   \n",
       "222631            2  R1HUZUI6M5X039   \n",
       "\n",
       "                                              review_body  \n",
       "490796  It is moisturizing but I haven't noticed any i...  \n",
       "241513  Really great product for dry skin.  A little t...  \n",
       "19001   Decent, but the madnetic button doesn't work a...  \n",
       "485196                                 Fit my dryer well.  \n",
       "187423  I us bought 2 of these sleeping bags for campi...  \n",
       "...                                                   ...  \n",
       "431267  good information to know, I do not totally agr...  \n",
       "18505   The individual floating shaving heads are held...  \n",
       "243446  Not worth the trouble!! Doesn't shave very clo...  \n",
       "329286  Very trendy look and material was amazing.But ...  \n",
       "222631  The product came with two labels but with both...  \n",
       "\n",
       "[80000 rows x 3 columns]"
      ]
     },
     "execution_count": 34,
     "metadata": {},
     "output_type": "execute_result"
    }
   ],
   "source": [
    "train_df = df_head.sample(n=80000)\n",
    "train_df"
   ]
  },
  {
   "cell_type": "code",
   "execution_count": 35,
   "id": "d3b3ec30",
   "metadata": {},
   "outputs": [
    {
     "data": {
      "text/html": [
       "<div>\n",
       "<style scoped>\n",
       "    .dataframe tbody tr th:only-of-type {\n",
       "        vertical-align: middle;\n",
       "    }\n",
       "\n",
       "    .dataframe tbody tr th {\n",
       "        vertical-align: top;\n",
       "    }\n",
       "\n",
       "    .dataframe thead th {\n",
       "        text-align: right;\n",
       "    }\n",
       "</style>\n",
       "<table border=\"1\" class=\"dataframe\">\n",
       "  <thead>\n",
       "    <tr style=\"text-align: right;\">\n",
       "      <th></th>\n",
       "      <th>star_rating</th>\n",
       "      <th>review_id</th>\n",
       "      <th>review_body</th>\n",
       "    </tr>\n",
       "  </thead>\n",
       "  <tbody>\n",
       "    <tr>\n",
       "      <th>420604</th>\n",
       "      <td>5</td>\n",
       "      <td>R1CRPVY253Y7NS</td>\n",
       "      <td>These are the only pet blankets we will use fo...</td>\n",
       "    </tr>\n",
       "    <tr>\n",
       "      <th>101752</th>\n",
       "      <td>5</td>\n",
       "      <td>RN2FSD3R56ZTA</td>\n",
       "      <td>Our 9 year old dog loves it. We went to the we...</td>\n",
       "    </tr>\n",
       "    <tr>\n",
       "      <th>390680</th>\n",
       "      <td>3</td>\n",
       "      <td>R385VVPZ8KHKHJ</td>\n",
       "      <td>The package was damaged and the toy was a dirt...</td>\n",
       "    </tr>\n",
       "    <tr>\n",
       "      <th>337584</th>\n",
       "      <td>1</td>\n",
       "      <td>RA7C8RBB8UQVR</td>\n",
       "      <td>Arrived broken</td>\n",
       "    </tr>\n",
       "    <tr>\n",
       "      <th>2184</th>\n",
       "      <td>2</td>\n",
       "      <td>R1V3A7UVWF7RO6</td>\n",
       "      <td>Falls off a lot.. And doesn't absorb</td>\n",
       "    </tr>\n",
       "    <tr>\n",
       "      <th>...</th>\n",
       "      <td>...</td>\n",
       "      <td>...</td>\n",
       "      <td>...</td>\n",
       "    </tr>\n",
       "    <tr>\n",
       "      <th>245975</th>\n",
       "      <td>1</td>\n",
       "      <td>R37P8FSRDJF7F2</td>\n",
       "      <td>CHIHUAHUA REVIEW:&lt;br /&gt;&lt;br /&gt;Our Chihuahua is ...</td>\n",
       "    </tr>\n",
       "    <tr>\n",
       "      <th>261787</th>\n",
       "      <td>4</td>\n",
       "      <td>RLOD2FPQKQ0FX</td>\n",
       "      <td>They work well with my phone, and they're nice...</td>\n",
       "    </tr>\n",
       "    <tr>\n",
       "      <th>126557</th>\n",
       "      <td>3</td>\n",
       "      <td>R2IBICCIHKL620</td>\n",
       "      <td>This book was kind of&lt;br /&gt;hard to stay into f...</td>\n",
       "    </tr>\n",
       "    <tr>\n",
       "      <th>10417</th>\n",
       "      <td>2</td>\n",
       "      <td>RB1XVC52FPM20</td>\n",
       "      <td>It notably slowed down my computer.</td>\n",
       "    </tr>\n",
       "    <tr>\n",
       "      <th>68071</th>\n",
       "      <td>2</td>\n",
       "      <td>RBTJGJKPEOWBX</td>\n",
       "      <td>This story could have been so good! But the he...</td>\n",
       "    </tr>\n",
       "  </tbody>\n",
       "</table>\n",
       "<p>20000 rows × 3 columns</p>\n",
       "</div>"
      ],
      "text/plain": [
       "        star_rating       review_id  \\\n",
       "420604            5  R1CRPVY253Y7NS   \n",
       "101752            5   RN2FSD3R56ZTA   \n",
       "390680            3  R385VVPZ8KHKHJ   \n",
       "337584            1   RA7C8RBB8UQVR   \n",
       "2184              2  R1V3A7UVWF7RO6   \n",
       "...             ...             ...   \n",
       "245975            1  R37P8FSRDJF7F2   \n",
       "261787            4   RLOD2FPQKQ0FX   \n",
       "126557            3  R2IBICCIHKL620   \n",
       "10417             2   RB1XVC52FPM20   \n",
       "68071             2   RBTJGJKPEOWBX   \n",
       "\n",
       "                                              review_body  \n",
       "420604  These are the only pet blankets we will use fo...  \n",
       "101752  Our 9 year old dog loves it. We went to the we...  \n",
       "390680  The package was damaged and the toy was a dirt...  \n",
       "337584                                     Arrived broken  \n",
       "2184                 Falls off a lot.. And doesn't absorb  \n",
       "...                                                   ...  \n",
       "245975  CHIHUAHUA REVIEW:<br /><br />Our Chihuahua is ...  \n",
       "261787  They work well with my phone, and they're nice...  \n",
       "126557  This book was kind of<br />hard to stay into f...  \n",
       "10417                 It notably slowed down my computer.  \n",
       "68071   This story could have been so good! But the he...  \n",
       "\n",
       "[20000 rows x 3 columns]"
      ]
     },
     "execution_count": 35,
     "metadata": {},
     "output_type": "execute_result"
    }
   ],
   "source": [
    "validation_df = df_tail.sample(n=20000)\n",
    "validation_df"
   ]
  },
  {
   "cell_type": "code",
   "execution_count": 36,
   "id": "f15b84a4",
   "metadata": {},
   "outputs": [
    {
     "name": "stdout",
     "output_type": "stream",
     "text": [
      "df Memory Usage: 0.1716369530186057 GB\n"
     ]
    }
   ],
   "source": [
    "print(f\"df Memory Usage: {df.memory_usage(deep=True).sum() / 1024**3} GB\")"
   ]
  },
  {
   "cell_type": "code",
   "execution_count": 37,
   "id": "51a983f8",
   "metadata": {},
   "outputs": [],
   "source": [
    "# Input クラスを使用して、データからサンプルを作成する。\n",
    "train_inputs = train_df.apply(\n",
    "    lambda x: Input(label=x[LABEL_COLUMN], text=x[REVIEW_BODY_COLUMN], review_id=x[REVIEW_ID_COLUMN], date=timestamp),\n",
    "    axis=1,\n",
    ")"
   ]
  },
  {
   "cell_type": "code",
   "execution_count": 38,
   "id": "bd1179aa",
   "metadata": {},
   "outputs": [],
   "source": [
    "# Input クラスを使用して、データからサンプルを作成する。\n",
    "validation_inputs = validation_df.apply(\n",
    "    lambda x: Input(label=x[LABEL_COLUMN], text=x[REVIEW_BODY_COLUMN], review_id=x[REVIEW_ID_COLUMN], date=timestamp),\n",
    "    axis=1,\n",
    ")"
   ]
  },
  {
   "cell_type": "code",
   "execution_count": 39,
   "id": "4bdf40b4",
   "metadata": {},
   "outputs": [],
   "source": [
    "# !pip install pandarallel"
   ]
  },
  {
   "cell_type": "code",
   "execution_count": 40,
   "id": "4d54c904",
   "metadata": {},
   "outputs": [],
   "source": [
    "# from pandarallel import pandarallel\n",
    "# import os\n",
    "# os.environ['JOBLIB_TEMP_FOLDER'] = '/tmp'\n",
    "# !pip3 install --no-cache-dir accelerate\n",
    "# pandarallel.initialize(nb_workers=2, progress_bar=True, use_memory_fs=False)"
   ]
  },
  {
   "cell_type": "code",
   "execution_count": 41,
   "id": "950c1893",
   "metadata": {},
   "outputs": [],
   "source": [
    "#def func(x):\n",
    "#    return lambda x: Input(label=x[LABEL_COLUMN], text=x[REVIEW_BODY_COLUMN], review_id=x[REVIEW_ID_COLUMN], date=timestamp)\n",
    "\n",
    "# inputs = df.parallel_apply(\n",
    "#     lambda x: Input(label=x[LABEL_COLUMN], text=x[REVIEW_BODY_COLUMN], review_id=x[REVIEW_ID_COLUMN], date=timestamp),\n",
    "#     axis=1\n",
    "# )"
   ]
  },
  {
   "cell_type": "code",
   "execution_count": 42,
   "id": "f049d6e7",
   "metadata": {},
   "outputs": [
    {
     "data": {
      "text/plain": [
       "490796    <__main__.Input object at 0x7feea6286b00>\n",
       "241513    <__main__.Input object at 0x7feea6284f10>\n",
       "19001     <__main__.Input object at 0x7feea62864a0>\n",
       "485196    <__main__.Input object at 0x7feea6285de0>\n",
       "187423    <__main__.Input object at 0x7feea6286380>\n",
       "                            ...                    \n",
       "431267    <__main__.Input object at 0x7feea56879d0>\n",
       "18505     <__main__.Input object at 0x7feea5687a30>\n",
       "243446    <__main__.Input object at 0x7feea5687a90>\n",
       "329286    <__main__.Input object at 0x7feea5687af0>\n",
       "222631    <__main__.Input object at 0x7feea5687b50>\n",
       "Length: 80000, dtype: object"
      ]
     },
     "execution_count": 42,
     "metadata": {},
     "output_type": "execute_result"
    }
   ],
   "source": [
    "train_inputs"
   ]
  },
  {
   "cell_type": "code",
   "execution_count": 43,
   "id": "aea980b4",
   "metadata": {},
   "outputs": [],
   "source": [
    "train_output_file = \"/mnt/train_data_small.tfrecord\""
   ]
  },
  {
   "cell_type": "code",
   "execution_count": 44,
   "id": "40830e0f",
   "metadata": {},
   "outputs": [],
   "source": [
    "validation_output_file = \"/mnt/validation_data_small.tfrecord\""
   ]
  },
  {
   "cell_type": "code",
   "execution_count": 45,
   "id": "db4f28f2",
   "metadata": {},
   "outputs": [],
   "source": [
    "# date が Feature Store の仕様に合わせて ISO-8601 になっていることを確認\n",
    "# print(train_inputs[0].date)"
   ]
  },
  {
   "cell_type": "code",
   "execution_count": 46,
   "id": "4675747c",
   "metadata": {},
   "outputs": [
    {
     "name": "stdout",
     "output_type": "stream",
     "text": [
      "Writing input 0 of 80000\n",
      "\n"
     ]
    },
    {
     "name": "stderr",
     "output_type": "stream",
     "text": [
      "/usr/local/lib/python3.10/dist-packages/transformers/tokenization_utils_base.py:2618: FutureWarning: The `pad_to_max_length` argument is deprecated and will be removed in a future version, use `padding=True` or `padding='longest'` to pad to the longest sequence in the batch, or use `padding='max_length'` to pad to a max length. In this case, you can give a specific length with `max_length` (e.g. `max_length=45`) or leave max_length to None to pad to the maximal input size of the model (e.g. 512 for Bert).\n",
      "  warnings.warn(\n"
     ]
    },
    {
     "name": "stdout",
     "output_type": "stream",
     "text": [
      "Writing input 10000 of 80000\n",
      "\n",
      "Writing input 20000 of 80000\n",
      "\n",
      "Writing input 30000 of 80000\n",
      "\n",
      "Writing input 40000 of 80000\n",
      "\n",
      "Writing input 50000 of 80000\n",
      "\n",
      "Writing input 60000 of 80000\n",
      "\n",
      "Writing input 70000 of 80000\n",
      "\n"
     ]
    }
   ],
   "source": [
    "train_records = transform_inputs_to_tfrecord(train_inputs, train_output_file, max_seq_length)"
   ]
  },
  {
   "cell_type": "code",
   "execution_count": 47,
   "id": "e4135685",
   "metadata": {},
   "outputs": [
    {
     "name": "stdout",
     "output_type": "stream",
     "text": [
      "Writing input 0 of 20000\n",
      "\n",
      "Writing input 10000 of 20000\n",
      "\n"
     ]
    }
   ],
   "source": [
    "validation_records = transform_inputs_to_tfrecord(validation_inputs, validation_output_file, max_seq_length)"
   ]
  },
  {
   "cell_type": "code",
   "execution_count": 48,
   "id": "a2c5796a",
   "metadata": {},
   "outputs": [
    {
     "data": {
      "text/html": [
       "\n",
       "<p><b>Shutting down your kernel for this notebook to release resources.</b></p>\n",
       "<button class=\"sm-command-button\" data-commandlinker-command=\"kernelmenu:shutdown\" style=\"display:none;\">Shutdown Kernel</button>\n",
       "        \n",
       "<script>\n",
       "try {\n",
       "    els = document.getElementsByClassName(\"sm-command-button\");\n",
       "    els[0].click();\n",
       "}\n",
       "catch(err) {\n",
       "    // NoOp\n",
       "}    \n",
       "</script>\n"
      ],
      "text/plain": [
       "<IPython.core.display.HTML object>"
      ]
     },
     "metadata": {},
     "output_type": "display_data"
    }
   ],
   "source": [
    "%%html\n",
    "\n",
    "<p><b>Shutting down your kernel for this notebook to release resources.</b></p>\n",
    "<button class=\"sm-command-button\" data-commandlinker-command=\"kernelmenu:shutdown\" style=\"display:none;\">Shutdown Kernel</button>\n",
    "        \n",
    "<script>\n",
    "try {\n",
    "    els = document.getElementsByClassName(\"sm-command-button\");\n",
    "    els[0].click();\n",
    "}\n",
    "catch(err) {\n",
    "    // NoOp\n",
    "}    \n",
    "</script>"
   ]
  },
  {
   "cell_type": "code",
   "execution_count": null,
   "id": "85b936df",
   "metadata": {},
   "outputs": [],
   "source": []
  }
 ],
 "metadata": {
  "kernelspec": {
   "display_name": "Python 3 (ipykernel)",
   "language": "python",
   "name": "python3"
  },
  "language_info": {
   "codemirror_mode": {
    "name": "ipython",
    "version": 3
   },
   "file_extension": ".py",
   "mimetype": "text/x-python",
   "name": "python",
   "nbconvert_exporter": "python",
   "pygments_lexer": "ipython3",
   "version": "3.10.12"
  }
 },
 "nbformat": 4,
 "nbformat_minor": 5
}
