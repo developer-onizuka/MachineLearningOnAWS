{
 "cells": [
  {
   "cell_type": "code",
   "execution_count": 1,
   "id": "5f591733",
   "metadata": {},
   "outputs": [],
   "source": [
    "#%autosave 0"
   ]
  },
  {
   "cell_type": "code",
   "execution_count": 2,
   "id": "f882eb96",
   "metadata": {},
   "outputs": [
    {
     "name": "stdout",
     "output_type": "stream",
     "text": [
      "Requirement already satisfied: transformers in /usr/local/lib/python3.10/dist-packages (4.36.2)\n",
      "Requirement already satisfied: filelock in /usr/local/lib/python3.10/dist-packages (from transformers) (3.13.1)\n",
      "Requirement already satisfied: huggingface-hub<1.0,>=0.19.3 in /usr/local/lib/python3.10/dist-packages (from transformers) (0.20.2)\n",
      "Requirement already satisfied: numpy>=1.17 in /usr/local/lib/python3.10/dist-packages (from transformers) (1.24.4)\n",
      "Requirement already satisfied: packaging>=20.0 in /usr/local/lib/python3.10/dist-packages (from transformers) (23.2)\n",
      "Requirement already satisfied: pyyaml>=5.1 in /usr/local/lib/python3.10/dist-packages (from transformers) (6.0.1)\n",
      "Requirement already satisfied: regex!=2019.12.17 in /usr/local/lib/python3.10/dist-packages (from transformers) (2023.12.25)\n",
      "Requirement already satisfied: requests in /usr/local/lib/python3.10/dist-packages (from transformers) (2.31.0)\n",
      "Requirement already satisfied: tokenizers<0.19,>=0.14 in /usr/local/lib/python3.10/dist-packages (from transformers) (0.15.0)\n",
      "Requirement already satisfied: safetensors>=0.3.1 in /usr/local/lib/python3.10/dist-packages (from transformers) (0.4.1)\n",
      "Requirement already satisfied: tqdm>=4.27 in /usr/local/lib/python3.10/dist-packages (from transformers) (4.66.1)\n",
      "Requirement already satisfied: fsspec>=2023.5.0 in /usr/local/lib/python3.10/dist-packages (from huggingface-hub<1.0,>=0.19.3->transformers) (2023.12.0)\n",
      "Requirement already satisfied: typing-extensions>=3.7.4.3 in /usr/local/lib/python3.10/dist-packages (from huggingface-hub<1.0,>=0.19.3->transformers) (4.8.0)\n",
      "Requirement already satisfied: charset-normalizer<4,>=2 in /usr/local/lib/python3.10/dist-packages (from requests->transformers) (3.3.2)\n",
      "Requirement already satisfied: idna<4,>=2.5 in /usr/local/lib/python3.10/dist-packages (from requests->transformers) (3.6)\n",
      "Requirement already satisfied: urllib3<3,>=1.21.1 in /usr/local/lib/python3.10/dist-packages (from requests->transformers) (1.26.18)\n",
      "Requirement already satisfied: certifi>=2017.4.17 in /usr/local/lib/python3.10/dist-packages (from requests->transformers) (2023.11.17)\n",
      "\u001b[33mWARNING: Running pip as the 'root' user can result in broken permissions and conflicting behaviour with the system package manager. It is recommended to use a virtual environment instead: https://pip.pypa.io/warnings/venv\u001b[0m\u001b[33m\n",
      "\u001b[0m"
     ]
    }
   ],
   "source": [
    "!pip install transformers"
   ]
  },
  {
   "cell_type": "code",
   "execution_count": 3,
   "id": "1f189e38",
   "metadata": {},
   "outputs": [
    {
     "name": "stdout",
     "output_type": "stream",
     "text": [
      "Collecting ipywidgets\n",
      "  Downloading ipywidgets-8.1.1-py3-none-any.whl.metadata (2.4 kB)\n",
      "Collecting widgetsnbextension\n",
      "  Downloading widgetsnbextension-4.0.9-py3-none-any.whl.metadata (1.6 kB)\n",
      "Collecting pandas-profiling\n",
      "  Downloading pandas_profiling-3.6.6-py2.py3-none-any.whl (324 kB)\n",
      "\u001b[2K     \u001b[90m━━━━━━━━━━━━━━━━━━━━━━━━━━━━━━━━━━━━━━━\u001b[0m \u001b[32m324.4/324.4 kB\u001b[0m \u001b[31m8.9 MB/s\u001b[0m eta \u001b[36m0:00:00\u001b[0m00:01\u001b[0m\n",
      "\u001b[?25hRequirement already satisfied: comm>=0.1.3 in /usr/local/lib/python3.10/dist-packages (from ipywidgets) (0.2.0)\n",
      "Requirement already satisfied: ipython>=6.1.0 in /usr/local/lib/python3.10/dist-packages (from ipywidgets) (8.18.1)\n",
      "Requirement already satisfied: traitlets>=4.3.1 in /usr/local/lib/python3.10/dist-packages (from ipywidgets) (5.9.0)\n",
      "Collecting jupyterlab-widgets~=3.0.9 (from ipywidgets)\n",
      "  Downloading jupyterlab_widgets-3.0.9-py3-none-any.whl.metadata (4.1 kB)\n",
      "Collecting ydata-profiling (from pandas-profiling)\n",
      "  Downloading ydata_profiling-4.6.4-py2.py3-none-any.whl.metadata (20 kB)\n",
      "Requirement already satisfied: decorator in /usr/local/lib/python3.10/dist-packages (from ipython>=6.1.0->ipywidgets) (5.1.1)\n",
      "Requirement already satisfied: jedi>=0.16 in /usr/local/lib/python3.10/dist-packages (from ipython>=6.1.0->ipywidgets) (0.19.1)\n",
      "Requirement already satisfied: matplotlib-inline in /usr/local/lib/python3.10/dist-packages (from ipython>=6.1.0->ipywidgets) (0.1.6)\n",
      "Requirement already satisfied: prompt-toolkit<3.1.0,>=3.0.41 in /usr/local/lib/python3.10/dist-packages (from ipython>=6.1.0->ipywidgets) (3.0.41)\n",
      "Requirement already satisfied: pygments>=2.4.0 in /usr/local/lib/python3.10/dist-packages (from ipython>=6.1.0->ipywidgets) (2.17.2)\n",
      "Requirement already satisfied: stack-data in /usr/local/lib/python3.10/dist-packages (from ipython>=6.1.0->ipywidgets) (0.6.3)\n",
      "Requirement already satisfied: exceptiongroup in /usr/local/lib/python3.10/dist-packages (from ipython>=6.1.0->ipywidgets) (1.2.0)\n",
      "Requirement already satisfied: pexpect>4.3 in /usr/local/lib/python3.10/dist-packages (from ipython>=6.1.0->ipywidgets) (4.7.0)\n",
      "Requirement already satisfied: scipy<1.12,>=1.4.1 in /usr/local/lib/python3.10/dist-packages (from ydata-profiling->pandas-profiling) (1.11.4)\n",
      "Requirement already satisfied: pandas!=1.4.0,<3,>1.1 in /usr/local/lib/python3.10/dist-packages (from ydata-profiling->pandas-profiling) (1.5.3)\n",
      "Requirement already satisfied: matplotlib<3.9,>=3.2 in /usr/local/lib/python3.10/dist-packages (from ydata-profiling->pandas-profiling) (3.7.3)\n",
      "Requirement already satisfied: pydantic>=2 in /usr/local/lib/python3.10/dist-packages (from ydata-profiling->pandas-profiling) (2.5.2)\n",
      "Requirement already satisfied: PyYAML<6.1,>=5.0.0 in /usr/local/lib/python3.10/dist-packages (from ydata-profiling->pandas-profiling) (6.0.1)\n",
      "Requirement already satisfied: jinja2<3.2,>=2.11.1 in /usr/local/lib/python3.10/dist-packages (from ydata-profiling->pandas-profiling) (3.1.2)\n",
      "Collecting visions==0.7.5 (from visions[type_image_path]==0.7.5->ydata-profiling->pandas-profiling)\n",
      "  Downloading visions-0.7.5-py3-none-any.whl (102 kB)\n",
      "\u001b[2K     \u001b[90m━━━━━━━━━━━━━━━━━━━━━━━━━━━━━━━━━━━━━━━\u001b[0m \u001b[32m102.7/102.7 kB\u001b[0m \u001b[31m7.4 MB/s\u001b[0m eta \u001b[36m0:00:00\u001b[0m\n",
      "\u001b[?25hRequirement already satisfied: numpy<1.26,>=1.16.0 in /usr/local/lib/python3.10/dist-packages (from ydata-profiling->pandas-profiling) (1.24.4)\n",
      "Collecting htmlmin==0.1.12 (from ydata-profiling->pandas-profiling)\n",
      "  Downloading htmlmin-0.1.12.tar.gz (19 kB)\n",
      "  Preparing metadata (setup.py) ... \u001b[?25ldone\n",
      "\u001b[?25hCollecting phik<0.13,>=0.11.1 (from ydata-profiling->pandas-profiling)\n",
      "  Downloading phik-0.12.4-cp310-cp310-manylinux_2_17_x86_64.manylinux2014_x86_64.whl.metadata (5.6 kB)\n",
      "Requirement already satisfied: requests<3,>=2.24.0 in /usr/local/lib/python3.10/dist-packages (from ydata-profiling->pandas-profiling) (2.31.0)\n",
      "Requirement already satisfied: tqdm<5,>=4.48.2 in /usr/local/lib/python3.10/dist-packages (from ydata-profiling->pandas-profiling) (4.66.1)\n",
      "Collecting seaborn<0.13,>=0.10.1 (from ydata-profiling->pandas-profiling)\n",
      "  Downloading seaborn-0.12.2-py3-none-any.whl (293 kB)\n",
      "\u001b[2K     \u001b[90m━━━━━━━━━━━━━━━━━━━━━━━━━━━━━━━━━━━━━━\u001b[0m \u001b[32m293.3/293.3 kB\u001b[0m \u001b[31m21.3 MB/s\u001b[0m eta \u001b[36m0:00:00\u001b[0m\n",
      "\u001b[?25hCollecting multimethod<2,>=1.4 (from ydata-profiling->pandas-profiling)\n",
      "  Downloading multimethod-1.10-py3-none-any.whl.metadata (8.2 kB)\n",
      "Collecting statsmodels<1,>=0.13.2 (from ydata-profiling->pandas-profiling)\n",
      "  Downloading statsmodels-0.14.1-cp310-cp310-manylinux_2_17_x86_64.manylinux2014_x86_64.whl.metadata (9.5 kB)\n",
      "Collecting typeguard<5,>=4.1.2 (from ydata-profiling->pandas-profiling)\n",
      "  Downloading typeguard-4.1.5-py3-none-any.whl.metadata (3.7 kB)\n",
      "Collecting imagehash==4.3.1 (from ydata-profiling->pandas-profiling)\n",
      "  Downloading ImageHash-4.3.1-py2.py3-none-any.whl (296 kB)\n",
      "\u001b[2K     \u001b[90m━━━━━━━━━━━━━━━━━━━━━━━━━━━━━━━━━━━━━━\u001b[0m \u001b[32m296.5/296.5 kB\u001b[0m \u001b[31m24.0 MB/s\u001b[0m eta \u001b[36m0:00:00\u001b[0m\n",
      "\u001b[?25hCollecting wordcloud>=1.9.1 (from ydata-profiling->pandas-profiling)\n",
      "  Downloading wordcloud-1.9.3-cp310-cp310-manylinux_2_17_x86_64.manylinux2014_x86_64.whl.metadata (3.4 kB)\n",
      "Collecting dacite>=1.8 (from ydata-profiling->pandas-profiling)\n",
      "  Downloading dacite-1.8.1-py3-none-any.whl.metadata (15 kB)\n",
      "Requirement already satisfied: numba<0.59.0,>=0.56.0 in /usr/local/lib/python3.10/dist-packages (from ydata-profiling->pandas-profiling) (0.57.1+1.g4157f3379)\n",
      "Collecting PyWavelets (from imagehash==4.3.1->ydata-profiling->pandas-profiling)\n",
      "  Downloading pywavelets-1.5.0-cp310-cp310-manylinux_2_17_x86_64.manylinux2014_x86_64.whl.metadata (9.0 kB)\n",
      "Requirement already satisfied: pillow in /usr/local/lib/python3.10/dist-packages (from imagehash==4.3.1->ydata-profiling->pandas-profiling) (10.1.0)\n",
      "Requirement already satisfied: attrs>=19.3.0 in /usr/local/lib/python3.10/dist-packages (from visions==0.7.5->visions[type_image_path]==0.7.5->ydata-profiling->pandas-profiling) (23.1.0)\n",
      "Requirement already satisfied: networkx>=2.4 in /usr/local/lib/python3.10/dist-packages (from visions==0.7.5->visions[type_image_path]==0.7.5->ydata-profiling->pandas-profiling) (3.2.1)\n",
      "Collecting tangled-up-in-unicode>=0.0.4 (from visions==0.7.5->visions[type_image_path]==0.7.5->ydata-profiling->pandas-profiling)\n",
      "  Downloading tangled_up_in_unicode-0.2.0-py3-none-any.whl (4.7 MB)\n",
      "\u001b[2K     \u001b[90m━━━━━━━━━━━━━━━━━━━━━━━━━━━━━━━━━━━━━━━━\u001b[0m \u001b[32m4.7/4.7 MB\u001b[0m \u001b[31m47.4 MB/s\u001b[0m eta \u001b[36m0:00:00\u001b[0ma \u001b[36m0:00:01\u001b[0m\n",
      "\u001b[?25h\u001b[33mWARNING: visions 0.7.5 does not provide the extra 'type-image-path'\u001b[0m\u001b[33m\n",
      "\u001b[0mRequirement already satisfied: parso<0.9.0,>=0.8.3 in /usr/local/lib/python3.10/dist-packages (from jedi>=0.16->ipython>=6.1.0->ipywidgets) (0.8.3)\n",
      "Requirement already satisfied: MarkupSafe>=2.0 in /usr/local/lib/python3.10/dist-packages (from jinja2<3.2,>=2.11.1->ydata-profiling->pandas-profiling) (2.1.3)\n",
      "Requirement already satisfied: contourpy>=1.0.1 in /usr/local/lib/python3.10/dist-packages (from matplotlib<3.9,>=3.2->ydata-profiling->pandas-profiling) (1.2.0)\n",
      "Requirement already satisfied: cycler>=0.10 in /usr/local/lib/python3.10/dist-packages (from matplotlib<3.9,>=3.2->ydata-profiling->pandas-profiling) (0.12.1)\n",
      "Requirement already satisfied: fonttools>=4.22.0 in /usr/local/lib/python3.10/dist-packages (from matplotlib<3.9,>=3.2->ydata-profiling->pandas-profiling) (4.47.2)\n",
      "Requirement already satisfied: kiwisolver>=1.0.1 in /usr/local/lib/python3.10/dist-packages (from matplotlib<3.9,>=3.2->ydata-profiling->pandas-profiling) (1.4.5)\n",
      "Requirement already satisfied: packaging>=20.0 in /usr/local/lib/python3.10/dist-packages (from matplotlib<3.9,>=3.2->ydata-profiling->pandas-profiling) (23.2)\n",
      "Requirement already satisfied: pyparsing>=2.3.1 in /usr/local/lib/python3.10/dist-packages (from matplotlib<3.9,>=3.2->ydata-profiling->pandas-profiling) (3.1.1)\n",
      "Requirement already satisfied: python-dateutil>=2.7 in /usr/local/lib/python3.10/dist-packages (from matplotlib<3.9,>=3.2->ydata-profiling->pandas-profiling) (2.8.2)\n",
      "Requirement already satisfied: llvmlite<0.41,>=0.40.0dev0 in /usr/local/lib/python3.10/dist-packages (from numba<0.59.0,>=0.56.0->ydata-profiling->pandas-profiling) (0.40.1)\n",
      "Requirement already satisfied: pytz>=2020.1 in /usr/local/lib/python3.10/dist-packages (from pandas!=1.4.0,<3,>1.1->ydata-profiling->pandas-profiling) (2023.3.post1)\n",
      "Requirement already satisfied: ptyprocess>=0.5 in /usr/local/lib/python3.10/dist-packages (from pexpect>4.3->ipython>=6.1.0->ipywidgets) (0.7.0)\n",
      "Requirement already satisfied: joblib>=0.14.1 in /usr/local/lib/python3.10/dist-packages (from phik<0.13,>=0.11.1->ydata-profiling->pandas-profiling) (1.3.2)\n",
      "Requirement already satisfied: wcwidth in /usr/local/lib/python3.10/dist-packages (from prompt-toolkit<3.1.0,>=3.0.41->ipython>=6.1.0->ipywidgets) (0.2.12)\n",
      "Requirement already satisfied: annotated-types>=0.4.0 in /usr/local/lib/python3.10/dist-packages (from pydantic>=2->ydata-profiling->pandas-profiling) (0.6.0)\n",
      "Requirement already satisfied: pydantic-core==2.14.5 in /usr/local/lib/python3.10/dist-packages (from pydantic>=2->ydata-profiling->pandas-profiling) (2.14.5)\n",
      "Requirement already satisfied: typing-extensions>=4.6.1 in /usr/local/lib/python3.10/dist-packages (from pydantic>=2->ydata-profiling->pandas-profiling) (4.8.0)\n"
     ]
    },
    {
     "name": "stdout",
     "output_type": "stream",
     "text": [
      "Requirement already satisfied: charset-normalizer<4,>=2 in /usr/local/lib/python3.10/dist-packages (from requests<3,>=2.24.0->ydata-profiling->pandas-profiling) (3.3.2)\n",
      "Requirement already satisfied: idna<4,>=2.5 in /usr/local/lib/python3.10/dist-packages (from requests<3,>=2.24.0->ydata-profiling->pandas-profiling) (3.6)\n",
      "Requirement already satisfied: urllib3<3,>=1.21.1 in /usr/local/lib/python3.10/dist-packages (from requests<3,>=2.24.0->ydata-profiling->pandas-profiling) (1.26.18)\n",
      "Requirement already satisfied: certifi>=2017.4.17 in /usr/local/lib/python3.10/dist-packages (from requests<3,>=2.24.0->ydata-profiling->pandas-profiling) (2023.11.17)\n",
      "Collecting patsy>=0.5.4 (from statsmodels<1,>=0.13.2->ydata-profiling->pandas-profiling)\n",
      "  Downloading patsy-0.5.6-py2.py3-none-any.whl.metadata (3.5 kB)\n",
      "Requirement already satisfied: executing>=1.2.0 in /usr/local/lib/python3.10/dist-packages (from stack-data->ipython>=6.1.0->ipywidgets) (2.0.1)\n",
      "Requirement already satisfied: asttokens>=2.1.0 in /usr/local/lib/python3.10/dist-packages (from stack-data->ipython>=6.1.0->ipywidgets) (2.4.1)\n",
      "Requirement already satisfied: pure-eval in /usr/local/lib/python3.10/dist-packages (from stack-data->ipython>=6.1.0->ipywidgets) (0.2.2)\n",
      "Requirement already satisfied: six>=1.12.0 in /usr/local/lib/python3.10/dist-packages (from asttokens>=2.1.0->stack-data->ipython>=6.1.0->ipywidgets) (1.16.0)\n",
      "Downloading ipywidgets-8.1.1-py3-none-any.whl (139 kB)\n",
      "\u001b[2K   \u001b[90m━━━━━━━━━━━━━━━━━━━━━━━━━━━━━━━━━━━━━━━━\u001b[0m \u001b[32m139.4/139.4 kB\u001b[0m \u001b[31m12.6 MB/s\u001b[0m eta \u001b[36m0:00:00\u001b[0m\n",
      "\u001b[?25hDownloading widgetsnbextension-4.0.9-py3-none-any.whl (2.3 MB)\n",
      "\u001b[2K   \u001b[90m━━━━━━━━━━━━━━━━━━━━━━━━━━━━━━━━━━━━━━━━\u001b[0m \u001b[32m2.3/2.3 MB\u001b[0m \u001b[31m51.0 MB/s\u001b[0m eta \u001b[36m0:00:00\u001b[0m00:01\u001b[0m\n",
      "\u001b[?25hDownloading jupyterlab_widgets-3.0.9-py3-none-any.whl (214 kB)\n",
      "\u001b[2K   \u001b[90m━━━━━━━━━━━━━━━━━━━━━━━━━━━━━━━━━━━━━━━━\u001b[0m \u001b[32m214.9/214.9 kB\u001b[0m \u001b[31m27.6 MB/s\u001b[0m eta \u001b[36m0:00:00\u001b[0m\n",
      "\u001b[?25hDownloading ydata_profiling-4.6.4-py2.py3-none-any.whl (357 kB)\n",
      "\u001b[2K   \u001b[90m━━━━━━━━━━━━━━━━━━━━━━━━━━━━━━━━━━━━━━━━\u001b[0m \u001b[32m357.8/357.8 kB\u001b[0m \u001b[31m28.8 MB/s\u001b[0m eta \u001b[36m0:00:00\u001b[0m\n",
      "\u001b[?25hDownloading dacite-1.8.1-py3-none-any.whl (14 kB)\n",
      "Downloading multimethod-1.10-py3-none-any.whl (9.9 kB)\n",
      "Downloading phik-0.12.4-cp310-cp310-manylinux_2_17_x86_64.manylinux2014_x86_64.whl (686 kB)\n",
      "\u001b[2K   \u001b[90m━━━━━━━━━━━━━━━━━━━━━━━━━━━━━━━━━━━━━━━━\u001b[0m \u001b[32m686.1/686.1 kB\u001b[0m \u001b[31m43.9 MB/s\u001b[0m eta \u001b[36m0:00:00\u001b[0m\n",
      "\u001b[?25hDownloading statsmodels-0.14.1-cp310-cp310-manylinux_2_17_x86_64.manylinux2014_x86_64.whl (10.8 MB)\n",
      "\u001b[2K   \u001b[90m━━━━━━━━━━━━━━━━━━━━━━━━━━━━━━━━━━━━━━━━\u001b[0m \u001b[32m10.8/10.8 MB\u001b[0m \u001b[31m81.0 MB/s\u001b[0m eta \u001b[36m0:00:00\u001b[0m:00:01\u001b[0m0:01\u001b[0m\n",
      "\u001b[?25hDownloading typeguard-4.1.5-py3-none-any.whl (34 kB)\n",
      "Downloading wordcloud-1.9.3-cp310-cp310-manylinux_2_17_x86_64.manylinux2014_x86_64.whl (511 kB)\n",
      "\u001b[2K   \u001b[90m━━━━━━━━━━━━━━━━━━━━━━━━━━━━━━━━━━━━━━━━\u001b[0m \u001b[32m511.1/511.1 kB\u001b[0m \u001b[31m57.1 MB/s\u001b[0m eta \u001b[36m0:00:00\u001b[0m\n",
      "\u001b[?25hDownloading patsy-0.5.6-py2.py3-none-any.whl (233 kB)\n",
      "\u001b[2K   \u001b[90m━━━━━━━━━━━━━━━━━━━━━━━━━━━━━━━━━━━━━━━━\u001b[0m \u001b[32m233.9/233.9 kB\u001b[0m \u001b[31m23.3 MB/s\u001b[0m eta \u001b[36m0:00:00\u001b[0m\n",
      "\u001b[?25hDownloading pywavelets-1.5.0-cp310-cp310-manylinux_2_17_x86_64.manylinux2014_x86_64.whl (4.5 MB)\n",
      "\u001b[2K   \u001b[90m━━━━━━━━━━━━━━━━━━━━━━━━━━━━━━━━━━━━━━━━\u001b[0m \u001b[32m4.5/4.5 MB\u001b[0m \u001b[31m85.2 MB/s\u001b[0m eta \u001b[36m0:00:00\u001b[0mta \u001b[36m0:00:01\u001b[0m\n",
      "\u001b[?25hBuilding wheels for collected packages: htmlmin\n",
      "  Building wheel for htmlmin (setup.py) ... \u001b[?25ldone\n",
      "\u001b[?25h  Created wheel for htmlmin: filename=htmlmin-0.1.12-py3-none-any.whl size=27081 sha256=b152a40c0a741c6cf0146deccce6b5783742b5a2f4725c68262847bd0deb1db1\n",
      "  Stored in directory: /root/.cache/pip/wheels/dd/91/29/a79cecb328d01739e64017b6fb9a1ab9d8cb1853098ec5966d\n",
      "Successfully built htmlmin\n",
      "Installing collected packages: htmlmin, widgetsnbextension, typeguard, tangled-up-in-unicode, PyWavelets, patsy, multimethod, jupyterlab-widgets, dacite, imagehash, wordcloud, visions, statsmodels, seaborn, phik, ipywidgets, ydata-profiling, pandas-profiling\n",
      "  Attempting uninstall: typeguard\n",
      "    Found existing installation: typeguard 2.13.3\n",
      "    Uninstalling typeguard-2.13.3:\n",
      "      Successfully uninstalled typeguard-2.13.3\n",
      "\u001b[31mERROR: pip's dependency resolver does not currently take into account all the packages that are installed. This behaviour is the source of the following dependency conflicts.\n",
      "tensorflow-addons 0.22.0 requires typeguard<3.0.0,>=2.7, but you have typeguard 4.1.5 which is incompatible.\u001b[0m\u001b[31m\n",
      "\u001b[0mSuccessfully installed PyWavelets-1.5.0 dacite-1.8.1 htmlmin-0.1.12 imagehash-4.3.1 ipywidgets-8.1.1 jupyterlab-widgets-3.0.9 multimethod-1.10 pandas-profiling-3.6.6 patsy-0.5.6 phik-0.12.4 seaborn-0.12.2 statsmodels-0.14.1 tangled-up-in-unicode-0.2.0 typeguard-4.1.5 visions-0.7.5 widgetsnbextension-4.0.9 wordcloud-1.9.3 ydata-profiling-4.6.4\n",
      "\u001b[33mWARNING: Running pip as the 'root' user can result in broken permissions and conflicting behaviour with the system package manager. It is recommended to use a virtual environment instead: https://pip.pypa.io/warnings/venv\u001b[0m\u001b[33m\n",
      "\u001b[0m"
     ]
    }
   ],
   "source": [
    "!pip install ipywidgets widgetsnbextension pandas-profiling"
   ]
  },
  {
   "cell_type": "code",
   "execution_count": 5,
   "id": "8c394965",
   "metadata": {
    "scrolled": true
   },
   "outputs": [
    {
     "name": "stdout",
     "output_type": "stream",
     "text": [
      "Enabling notebook extension jupyter-js-widgets/extension...\r\n",
      "      - Validating: \u001b[32mOK\u001b[0m\r\n"
     ]
    }
   ],
   "source": [
    "!jupyter nbextension enable --py widgetsnbextension"
   ]
  },
  {
   "cell_type": "code",
   "execution_count": 6,
   "id": "843cbf14",
   "metadata": {},
   "outputs": [
    {
     "name": "stderr",
     "output_type": "stream",
     "text": [
      "2024-01-15 09:26:25.725220: E tensorflow/compiler/xla/stream_executor/cuda/cuda_dnn.cc:9360] Unable to register cuDNN factory: Attempting to register factory for plugin cuDNN when one has already been registered\n",
      "2024-01-15 09:26:25.725284: E tensorflow/compiler/xla/stream_executor/cuda/cuda_fft.cc:609] Unable to register cuFFT factory: Attempting to register factory for plugin cuFFT when one has already been registered\n",
      "2024-01-15 09:26:25.725315: E tensorflow/compiler/xla/stream_executor/cuda/cuda_blas.cc:1537] Unable to register cuBLAS factory: Attempting to register factory for plugin cuBLAS when one has already been registered\n",
      "2024-01-15 09:26:25.732970: I tensorflow/core/platform/cpu_feature_guard.cc:183] This TensorFlow binary is optimized to use available CPU instructions in performance-critical operations.\n",
      "To enable the following instructions: SSE3 SSE4.1 SSE4.2 AVX, in other operations, rebuild TensorFlow with the appropriate compiler flags.\n"
     ]
    },
    {
     "data": {
      "application/vnd.jupyter.widget-view+json": {
       "model_id": "134fa9d756894fab84fd505a4a5b4ebd",
       "version_major": 2,
       "version_minor": 0
      },
      "text/plain": [
       "tokenizer_config.json:   0%|          | 0.00/28.0 [00:00<?, ?B/s]"
      ]
     },
     "metadata": {},
     "output_type": "display_data"
    },
    {
     "data": {
      "application/vnd.jupyter.widget-view+json": {
       "model_id": "2903c880a0254f40b6d828c2f92e28f7",
       "version_major": 2,
       "version_minor": 0
      },
      "text/plain": [
       "vocab.txt:   0%|          | 0.00/232k [00:00<?, ?B/s]"
      ]
     },
     "metadata": {},
     "output_type": "display_data"
    },
    {
     "data": {
      "application/vnd.jupyter.widget-view+json": {
       "model_id": "a3e64b8e11184f40a4569f559e53936a",
       "version_major": 2,
       "version_minor": 0
      },
      "text/plain": [
       "tokenizer.json:   0%|          | 0.00/466k [00:00<?, ?B/s]"
      ]
     },
     "metadata": {},
     "output_type": "display_data"
    },
    {
     "data": {
      "application/vnd.jupyter.widget-view+json": {
       "model_id": "0b438c4b544345dd93680dfc62811648",
       "version_major": 2,
       "version_minor": 0
      },
      "text/plain": [
       "config.json:   0%|          | 0.00/483 [00:00<?, ?B/s]"
      ]
     },
     "metadata": {},
     "output_type": "display_data"
    }
   ],
   "source": [
    "import tensorflow as tf\n",
    "import collections\n",
    "import json\n",
    "import os\n",
    "import pandas as pd\n",
    "import csv\n",
    "from transformers import DistilBertTokenizer\n",
    "\n",
    "max_seq_length = 64\n",
    "\n",
    "tokenizer = DistilBertTokenizer.from_pretrained(\"distilbert-base-uncased\")\n",
    "\n",
    "REVIEW_BODY_COLUMN = \"review_body\"\n",
    "REVIEW_ID_COLUMN = \"review_id\"\n",
    "\n",
    "LABEL_COLUMN = \"star_rating\"\n",
    "LABEL_VALUES = [1, 2, 3, 4, 5]"
   ]
  },
  {
   "cell_type": "code",
   "execution_count": 7,
   "id": "00f87c14",
   "metadata": {},
   "outputs": [],
   "source": [
    "label_map = {}\n",
    "for (i, label) in enumerate(LABEL_VALUES):\n",
    "    label_map[label] = i"
   ]
  },
  {
   "cell_type": "code",
   "execution_count": 8,
   "id": "5fbfefd2",
   "metadata": {},
   "outputs": [
    {
     "name": "stdout",
     "output_type": "stream",
     "text": [
      "{1: 0, 2: 1, 3: 2, 4: 3, 5: 4}\n"
     ]
    }
   ],
   "source": [
    "print(label_map)"
   ]
  },
  {
   "cell_type": "code",
   "execution_count": 9,
   "id": "e7e32241",
   "metadata": {},
   "outputs": [],
   "source": [
    "class InputFeatures(object):\n",
    "    \"\"\"BERT特徴量ベクトル\"\"\"\n",
    "\n",
    "    def __init__(self, input_ids, input_mask, segment_ids, label_id, review_id, date, label):\n",
    "        self.input_ids = input_ids\n",
    "        self.input_mask = input_mask\n",
    "        self.segment_ids = segment_ids\n",
    "        self.label_id = label_id\n",
    "        self.review_id = review_id\n",
    "        self.date = date\n",
    "        self.label = label"
   ]
  },
  {
   "cell_type": "code",
   "execution_count": 10,
   "id": "a460965c",
   "metadata": {},
   "outputs": [],
   "source": [
    "class Input(object):\n",
    "    \"\"\"シーケンス分類で用いるトレーニング/テストの単一の入力\"\"\"\n",
    "\n",
    "    def __init__(self, text, review_id, date, label=None):\n",
    "        \"\"\"入力のコンストラクタ\n",
    "        Args:\n",
    "          text: 文字列。トークン化されていない一つ目のシーケンスのテキスト。\n",
    "            単一シーケンスのタスクではこのシーケンスのみを指定する。\n",
    "          label: (オプショナル) 文字列。サンプルのラベル。トレーニングや検証用のサンプルでは指定する。\n",
    "            テスト用のサンプルでは指定しない。\n",
    "        \"\"\"\n",
    "        self.text = text\n",
    "        self.review_id = review_id\n",
    "        self.date = date\n",
    "        self.label = label\n"
   ]
  },
  {
   "cell_type": "code",
   "execution_count": 11,
   "id": "b3f9ccb9",
   "metadata": {},
   "outputs": [],
   "source": [
    "def convert_input(the_input, max_seq_length):\n",
    "    # まず、BERTが学習したデータ形式と合うようにデータを前処理する。\n",
    "    # 1. テキストを小文字にする（BERT lowercaseモデルを用いる場合）\n",
    "    # 2. トークン化する（例、\"sally says hi\" -> [\"sally\", \"says\", \"hi\"]）\n",
    "    # 3. 単語をWordPieceに分割（例、\"calling\" -> [\"call\", \"##ing\"]）\n",
    "    #\n",
    "    # この辺りの処理はTransformersライブラリのトークナイザーがまかなってくれます。\n",
    "\n",
    "    tokens = tokenizer.tokenize(the_input.text)\n",
    "    tokens.insert(0, '[CLS]')\n",
    "    tokens.append('[SEP]')\n",
    "    # print(\"**{} tokens**\\n{}\\n\".format(len(tokens), tokens))\n",
    "\n",
    "    encode_plus_tokens = tokenizer.encode_plus(\n",
    "        the_input.text,\n",
    "        pad_to_max_length=True,\n",
    "        max_length=max_seq_length,\n",
    "        truncation=True\n",
    "    )\n",
    "    \n",
    "    # 事前学習済みBERTの語彙ID。トークンを表す。（トークン数が `max_seq_length` 未満であれば0をパディングする）\n",
    "    input_ids = encode_plus_tokens[\"input_ids\"]\n",
    "\n",
    "    # BERTがどのトークンに注目するかを0/1で指定。`input_ids` のパディング部分のベクトル要素には0を割り当てる。\n",
    "    input_mask = encode_plus_tokens[\"attention_mask\"]\n",
    "\n",
    "    # テキスト分類のような単一シーケンスのタスクではセグメントIDは常に0とする。質問回答や次文予測のような2シーケンスタスクの場合は1を割り当てる。\n",
    "    segment_ids = [0] * max_seq_length\n",
    "\n",
    "    # それぞれのトレーニングデータの行のラベル（`star_rating` 1〜5）\n",
    "    label_id = label_map[the_input.label]\n",
    "\n",
    "    features = InputFeatures(\n",
    "        input_ids=input_ids,\n",
    "        input_mask=input_mask,\n",
    "        segment_ids=segment_ids,\n",
    "        label_id=label_id,\n",
    "        review_id=the_input.review_id,\n",
    "        date=the_input.date,\n",
    "        label=the_input.label,\n",
    "    )\n",
    "\n",
    "    # print(\"**{} input_ids**\\n{}\\n\".format(len(features.input_ids), features.input_ids))\n",
    "    # print(\"**{} input_mask**\\n{}\\n\".format(len(features.input_mask), features.input_mask))\n",
    "    # print(\"**{} segment_ids**\\n{}\\n\".format(len(features.segment_ids), features.segment_ids))\n",
    "    # print(\"**label_id**\\n{}\\n\".format(features.label_id))\n",
    "    # print(\"**review_id**\\n{}\\n\".format(features.review_id))\n",
    "    # print(\"**date**\\n{}\\n\".format(features.date))\n",
    "    # print(\"**label**\\n{}\\n\".format(features.label))\n",
    "\n",
    "    return features\n"
   ]
  },
  {
   "cell_type": "code",
   "execution_count": 12,
   "id": "cac05b66",
   "metadata": {},
   "outputs": [],
   "source": [
    "def transform_inputs_to_tfrecord(inputs, output_file, max_seq_length):\n",
    "    # データをBERTが理解できるフォーマットに変換する\n",
    "    records = []\n",
    "    tf_record_writer = tf.io.TFRecordWriter(output_file)\n",
    "\n",
    "    for (input_idx, the_input) in enumerate(inputs):\n",
    "        if input_idx % 10000 == 0:\n",
    "            print(\"Writing input {} of {}\\n\".format(input_idx, len(inputs)))\n",
    "\n",
    "        features = convert_input(the_input, max_seq_length)\n",
    "\n",
    "        all_features = collections.OrderedDict()\n",
    "\n",
    "        # input_ids、input_mask、segment_ids、label_idsを含んだTFRecordを作成\n",
    "        all_features[\"input_ids\"] = tf.train.Feature(int64_list=tf.train.Int64List(value=features.input_ids))\n",
    "        all_features[\"input_mask\"] = tf.train.Feature(int64_list=tf.train.Int64List(value=features.input_mask))\n",
    "        all_features[\"segment_ids\"] = tf.train.Feature(int64_list=tf.train.Int64List(value=features.segment_ids))\n",
    "        all_features[\"label_ids\"] = tf.train.Feature(int64_list=tf.train.Int64List(value=[features.label_id]))\n",
    "\n",
    "        tf_record = tf.train.Example(features=tf.train.Features(feature=all_features))\n",
    "        tf_record_writer.write(tf_record.SerializeToString())\n",
    "\n",
    "        # Feature Storeに格納する、すべての特徴量を含んだレコードを作成\n",
    "        records.append(\n",
    "            {\n",
    "                \"input_ids\": features.input_ids,\n",
    "                \"input_mask\": features.input_mask,\n",
    "                \"segment_ids\": features.segment_ids,\n",
    "                \"label_id\": features.label_id,\n",
    "                \"review_id\": the_input.review_id,\n",
    "                \"date\": the_input.date,\n",
    "                \"label\": features.label,\n",
    "            }\n",
    "        )\n",
    "\n",
    "    tf_record_writer.close()\n",
    "\n",
    "    return records"
   ]
  },
  {
   "cell_type": "code",
   "execution_count": 13,
   "id": "a4a96b80",
   "metadata": {},
   "outputs": [
    {
     "name": "stdout",
     "output_type": "stream",
     "text": [
      "2024-01-15T09:26:42Z\n"
     ]
    }
   ],
   "source": [
    "from datetime import datetime\n",
    "from time import strftime\n",
    "\n",
    "# timestamp = datetime.now().replace(microsecond=0).isoformat()\n",
    "timestamp = datetime.now().strftime(\"%Y-%m-%dT%H:%M:%SZ\")\n",
    "print(timestamp)"
   ]
  },
  {
   "cell_type": "code",
   "execution_count": 14,
   "id": "903d41de",
   "metadata": {},
   "outputs": [],
   "source": [
    "import pandas as pd\n",
    "\n",
    "data = [\n",
    "    [\n",
    "        5,\n",
    "        \"ABCD12345\",\n",
    "        \"\"\"I needed an \"antivirus\" application and know the quality of Norton products.  This was a no brainer for me and I am glad it was so simple to get.\"\"\",\n",
    "    ],\n",
    "    [\n",
    "        3,\n",
    "        \"EFGH12345\",\n",
    "        \"\"\"The problem with ElephantDrive is that it requires the use of Java. Since Java is notorious for security problems I haveit removed from all of my computers. What files I do have stored are photos.\"\"\",\n",
    "    ],\n",
    "    [\n",
    "        1,\n",
    "        \"IJKL2345\",\n",
    "        \"\"\"Terrible, none of my codes worked, and I can't uninstall it.  I think this product IS malware and viruses\"\"\",\n",
    "    ],\n",
    "]\n",
    "\n",
    "df = pd.DataFrame(data, columns=[\"star_rating\", \"review_id\", \"review_body\"])\n",
    "\n",
    "# Input クラスを使用して、データからサンプルを作成する。\n",
    "inputs = df.apply(\n",
    "    lambda x: Input(label=x[LABEL_COLUMN], text=x[REVIEW_BODY_COLUMN], review_id=x[REVIEW_ID_COLUMN], date=timestamp),\n",
    "    axis=1,\n",
    ")"
   ]
  },
  {
   "cell_type": "code",
   "execution_count": 15,
   "id": "56eae43e",
   "metadata": {},
   "outputs": [
    {
     "data": {
      "text/html": [
       "<div>\n",
       "<style scoped>\n",
       "    .dataframe tbody tr th:only-of-type {\n",
       "        vertical-align: middle;\n",
       "    }\n",
       "\n",
       "    .dataframe tbody tr th {\n",
       "        vertical-align: top;\n",
       "    }\n",
       "\n",
       "    .dataframe thead th {\n",
       "        text-align: right;\n",
       "    }\n",
       "</style>\n",
       "<table border=\"1\" class=\"dataframe\">\n",
       "  <thead>\n",
       "    <tr style=\"text-align: right;\">\n",
       "      <th></th>\n",
       "      <th>star_rating</th>\n",
       "      <th>review_id</th>\n",
       "      <th>review_body</th>\n",
       "    </tr>\n",
       "  </thead>\n",
       "  <tbody>\n",
       "    <tr>\n",
       "      <th>0</th>\n",
       "      <td>5</td>\n",
       "      <td>ABCD12345</td>\n",
       "      <td>I needed an \"antivirus\" application and know t...</td>\n",
       "    </tr>\n",
       "    <tr>\n",
       "      <th>1</th>\n",
       "      <td>3</td>\n",
       "      <td>EFGH12345</td>\n",
       "      <td>The problem with ElephantDrive is that it requ...</td>\n",
       "    </tr>\n",
       "    <tr>\n",
       "      <th>2</th>\n",
       "      <td>1</td>\n",
       "      <td>IJKL2345</td>\n",
       "      <td>Terrible, none of my codes worked, and I can't...</td>\n",
       "    </tr>\n",
       "  </tbody>\n",
       "</table>\n",
       "</div>"
      ],
      "text/plain": [
       "   star_rating  review_id                                        review_body\n",
       "0            5  ABCD12345  I needed an \"antivirus\" application and know t...\n",
       "1            3  EFGH12345  The problem with ElephantDrive is that it requ...\n",
       "2            1   IJKL2345  Terrible, none of my codes worked, and I can't..."
      ]
     },
     "execution_count": 15,
     "metadata": {},
     "output_type": "execute_result"
    }
   ],
   "source": [
    "df"
   ]
  },
  {
   "cell_type": "code",
   "execution_count": 16,
   "id": "3649f81a",
   "metadata": {},
   "outputs": [
    {
     "data": {
      "text/plain": [
       "0    <__main__.Input object at 0x7f0dd9b01960>\n",
       "1    <__main__.Input object at 0x7f0dd9b01a80>\n",
       "2    <__main__.Input object at 0x7f0dd9b016c0>\n",
       "dtype: object"
      ]
     },
     "execution_count": 16,
     "metadata": {},
     "output_type": "execute_result"
    }
   ],
   "source": [
    "inputs"
   ]
  },
  {
   "cell_type": "code",
   "execution_count": 17,
   "id": "1092e542",
   "metadata": {},
   "outputs": [
    {
     "name": "stdout",
     "output_type": "stream",
     "text": [
      "2024-01-15T09:26:42Z\n"
     ]
    }
   ],
   "source": [
    "# date が Feature Store の仕様に合わせて ISO-8601 になっていることを確認\n",
    "print(inputs[0].date)"
   ]
  },
  {
   "cell_type": "code",
   "execution_count": 18,
   "id": "40100b4b",
   "metadata": {},
   "outputs": [],
   "source": [
    "output_file = \"./data.tfrecord\""
   ]
  },
  {
   "cell_type": "code",
   "execution_count": 19,
   "id": "c1330704",
   "metadata": {},
   "outputs": [
    {
     "name": "stdout",
     "output_type": "stream",
     "text": [
      "Writing input 0 of 3\n",
      "\n"
     ]
    },
    {
     "name": "stderr",
     "output_type": "stream",
     "text": [
      "/usr/local/lib/python3.10/dist-packages/transformers/tokenization_utils_base.py:2618: FutureWarning: The `pad_to_max_length` argument is deprecated and will be removed in a future version, use `padding=True` or `padding='longest'` to pad to the longest sequence in the batch, or use `padding='max_length'` to pad to a max length. In this case, you can give a specific length with `max_length` (e.g. `max_length=45`) or leave max_length to None to pad to the maximal input size of the model (e.g. 512 for Bert).\n",
      "  warnings.warn(\n"
     ]
    }
   ],
   "source": [
    "records = transform_inputs_to_tfrecord(inputs, output_file, max_seq_length)"
   ]
  },
  {
   "cell_type": "code",
   "execution_count": 20,
   "id": "b1e3ff18",
   "metadata": {},
   "outputs": [
    {
     "name": "stdout",
     "output_type": "stream",
     "text": [
      "[101, 1045, 2734, 2019, 1000, 3424, 23350, 1000, 4646, 1998, 2113, 1996, 3737, 1997, 10770, 3688, 1012, 2023, 2001, 1037, 2053, 4167, 2121, 2005, 2033, 1998, 1045, 2572, 5580, 2009, 2001, 2061, 3722, 2000, 2131, 1012, 102, 0, 0, 0, 0, 0, 0, 0, 0, 0, 0, 0, 0, 0, 0, 0, 0, 0, 0, 0, 0, 0, 0, 0, 0, 0, 0, 0]\n"
     ]
    }
   ],
   "source": [
    "print(records[0]['input_ids'])"
   ]
  },
  {
   "cell_type": "code",
   "execution_count": 20,
   "id": "a50d807d",
   "metadata": {},
   "outputs": [],
   "source": [
    "import pandas as pd"
   ]
  },
  {
   "cell_type": "code",
   "execution_count": 21,
   "id": "c41204a7",
   "metadata": {},
   "outputs": [],
   "source": [
    "df = pd.read_parquet(\"/mnt/amazon_reviews_2015_small.snappy.parquet\",columns=[\"star_rating\",\"review_id\",\"review_body\"])"
   ]
  },
  {
   "cell_type": "code",
   "execution_count": 22,
   "id": "1965036f",
   "metadata": {},
   "outputs": [
    {
     "name": "stdout",
     "output_type": "stream",
     "text": [
      "star_rating:  1\n",
      "star_rating    36844\n",
      "review_id      36844\n",
      "review_body    36844\n",
      "dtype: int64\n",
      "-------------------------\n",
      "star_rating:  2\n",
      "star_rating    22482\n",
      "review_id      22482\n",
      "review_body    22482\n",
      "dtype: int64\n",
      "-------------------------\n",
      "star_rating:  3\n",
      "star_rating    37827\n",
      "review_id      37827\n",
      "review_body    37827\n",
      "dtype: int64\n",
      "-------------------------\n",
      "star_rating:  4\n",
      "star_rating    77271\n",
      "review_id      77271\n",
      "review_body    77271\n",
      "dtype: int64\n",
      "-------------------------\n",
      "star_rating:  5\n",
      "star_rating    325576\n",
      "review_id      325576\n",
      "review_body    325576\n",
      "dtype: int64\n",
      "-------------------------\n"
     ]
    }
   ],
   "source": [
    "for i in range(1,6):\n",
    "    print(\"star_rating: \", i)\n",
    "    print(df[df['star_rating'] == i].count())\n",
    "    print('-------------------------')"
   ]
  },
  {
   "cell_type": "code",
   "execution_count": 23,
   "id": "9dda3a8f",
   "metadata": {},
   "outputs": [],
   "source": [
    "for i in range(1,6):\n",
    "    new_df = 'df' + str(i)\n",
    "    globals()[new_df] = df[df['star_rating'] == i].sample(n=22482)"
   ]
  },
  {
   "cell_type": "code",
   "execution_count": 24,
   "id": "44e11d40",
   "metadata": {},
   "outputs": [
    {
     "data": {
      "text/html": [
       "<div>\n",
       "<style scoped>\n",
       "    .dataframe tbody tr th:only-of-type {\n",
       "        vertical-align: middle;\n",
       "    }\n",
       "\n",
       "    .dataframe tbody tr th {\n",
       "        vertical-align: top;\n",
       "    }\n",
       "\n",
       "    .dataframe thead th {\n",
       "        text-align: right;\n",
       "    }\n",
       "</style>\n",
       "<table border=\"1\" class=\"dataframe\">\n",
       "  <thead>\n",
       "    <tr style=\"text-align: right;\">\n",
       "      <th></th>\n",
       "      <th>star_rating</th>\n",
       "      <th>review_id</th>\n",
       "      <th>review_body</th>\n",
       "    </tr>\n",
       "  </thead>\n",
       "  <tbody>\n",
       "    <tr>\n",
       "      <th>469830</th>\n",
       "      <td>1</td>\n",
       "      <td>R2N50EVZBQ82B0</td>\n",
       "      <td>Too small and fits weird not flattering at all...</td>\n",
       "    </tr>\n",
       "    <tr>\n",
       "      <th>208163</th>\n",
       "      <td>1</td>\n",
       "      <td>R1372MRPSX29ET</td>\n",
       "      <td>Wasn't good</td>\n",
       "    </tr>\n",
       "    <tr>\n",
       "      <th>101708</th>\n",
       "      <td>1</td>\n",
       "      <td>RBZK0V7QCM3EJ</td>\n",
       "      <td>Runs too small. I ordered a large for my Boxer...</td>\n",
       "    </tr>\n",
       "    <tr>\n",
       "      <th>424283</th>\n",
       "      <td>1</td>\n",
       "      <td>R3TD70NF071DOW</td>\n",
       "      <td>It is NOTHING like the picture showed. I EXPEC...</td>\n",
       "    </tr>\n",
       "    <tr>\n",
       "      <th>244037</th>\n",
       "      <td>1</td>\n",
       "      <td>R39DSQK0FPD4ZA</td>\n",
       "      <td>This gave me allergies :(</td>\n",
       "    </tr>\n",
       "    <tr>\n",
       "      <th>...</th>\n",
       "      <td>...</td>\n",
       "      <td>...</td>\n",
       "      <td>...</td>\n",
       "    </tr>\n",
       "    <tr>\n",
       "      <th>34192</th>\n",
       "      <td>1</td>\n",
       "      <td>R348TX7UIKY9O6</td>\n",
       "      <td>We did not receive the correct poster. My son ...</td>\n",
       "    </tr>\n",
       "    <tr>\n",
       "      <th>497268</th>\n",
       "      <td>1</td>\n",
       "      <td>RPLLNRIQ96JGJ</td>\n",
       "      <td>Very dangerous !!!!  They got so hot on my cli...</td>\n",
       "    </tr>\n",
       "    <tr>\n",
       "      <th>422215</th>\n",
       "      <td>1</td>\n",
       "      <td>R16PSWBUDMSQM1</td>\n",
       "      <td>Buyers beware! This product did not contain ca...</td>\n",
       "    </tr>\n",
       "    <tr>\n",
       "      <th>481150</th>\n",
       "      <td>1</td>\n",
       "      <td>R1VNKSGFFJND2I</td>\n",
       "      <td>So, not being a musician and just trying to ge...</td>\n",
       "    </tr>\n",
       "    <tr>\n",
       "      <th>79741</th>\n",
       "      <td>1</td>\n",
       "      <td>R7XX1N60BPB3V</td>\n",
       "      <td>I was never able to get this to work.  It sits...</td>\n",
       "    </tr>\n",
       "  </tbody>\n",
       "</table>\n",
       "<p>22482 rows × 3 columns</p>\n",
       "</div>"
      ],
      "text/plain": [
       "        star_rating       review_id  \\\n",
       "469830            1  R2N50EVZBQ82B0   \n",
       "208163            1  R1372MRPSX29ET   \n",
       "101708            1   RBZK0V7QCM3EJ   \n",
       "424283            1  R3TD70NF071DOW   \n",
       "244037            1  R39DSQK0FPD4ZA   \n",
       "...             ...             ...   \n",
       "34192             1  R348TX7UIKY9O6   \n",
       "497268            1   RPLLNRIQ96JGJ   \n",
       "422215            1  R16PSWBUDMSQM1   \n",
       "481150            1  R1VNKSGFFJND2I   \n",
       "79741             1   R7XX1N60BPB3V   \n",
       "\n",
       "                                              review_body  \n",
       "469830  Too small and fits weird not flattering at all...  \n",
       "208163                                        Wasn't good  \n",
       "101708  Runs too small. I ordered a large for my Boxer...  \n",
       "424283  It is NOTHING like the picture showed. I EXPEC...  \n",
       "244037                          This gave me allergies :(  \n",
       "...                                                   ...  \n",
       "34192   We did not receive the correct poster. My son ...  \n",
       "497268  Very dangerous !!!!  They got so hot on my cli...  \n",
       "422215  Buyers beware! This product did not contain ca...  \n",
       "481150  So, not being a musician and just trying to ge...  \n",
       "79741   I was never able to get this to work.  It sits...  \n",
       "\n",
       "[22482 rows x 3 columns]"
      ]
     },
     "execution_count": 24,
     "metadata": {},
     "output_type": "execute_result"
    }
   ],
   "source": [
    "df1"
   ]
  },
  {
   "cell_type": "code",
   "execution_count": 25,
   "id": "9fae69e0",
   "metadata": {},
   "outputs": [
    {
     "data": {
      "text/html": [
       "<div>\n",
       "<style scoped>\n",
       "    .dataframe tbody tr th:only-of-type {\n",
       "        vertical-align: middle;\n",
       "    }\n",
       "\n",
       "    .dataframe tbody tr th {\n",
       "        vertical-align: top;\n",
       "    }\n",
       "\n",
       "    .dataframe thead th {\n",
       "        text-align: right;\n",
       "    }\n",
       "</style>\n",
       "<table border=\"1\" class=\"dataframe\">\n",
       "  <thead>\n",
       "    <tr style=\"text-align: right;\">\n",
       "      <th></th>\n",
       "      <th>star_rating</th>\n",
       "      <th>review_id</th>\n",
       "      <th>review_body</th>\n",
       "    </tr>\n",
       "  </thead>\n",
       "  <tbody>\n",
       "    <tr>\n",
       "      <th>227551</th>\n",
       "      <td>2</td>\n",
       "      <td>R6T1JUMAZJZ8U</td>\n",
       "      <td>I ordered several pictures of Marilyn Monroe. ...</td>\n",
       "    </tr>\n",
       "    <tr>\n",
       "      <th>165992</th>\n",
       "      <td>2</td>\n",
       "      <td>R1QVZ11HMK4HLA</td>\n",
       "      <td>I wish I had bought another one and velcrowed ...</td>\n",
       "    </tr>\n",
       "    <tr>\n",
       "      <th>173146</th>\n",
       "      <td>2</td>\n",
       "      <td>R26Z3JHIAHZBH3</td>\n",
       "      <td>I gave it two stars because I was able to fini...</td>\n",
       "    </tr>\n",
       "    <tr>\n",
       "      <th>90470</th>\n",
       "      <td>2</td>\n",
       "      <td>RLP69BJ93751X</td>\n",
       "      <td>These are not Gripstix and I felt they did not...</td>\n",
       "    </tr>\n",
       "    <tr>\n",
       "      <th>357659</th>\n",
       "      <td>2</td>\n",
       "      <td>R30OY4QU6BR40A</td>\n",
       "      <td>the listing said is white but it come peach pi...</td>\n",
       "    </tr>\n",
       "    <tr>\n",
       "      <th>...</th>\n",
       "      <td>...</td>\n",
       "      <td>...</td>\n",
       "      <td>...</td>\n",
       "    </tr>\n",
       "    <tr>\n",
       "      <th>107423</th>\n",
       "      <td>2</td>\n",
       "      <td>R3MDAKOPLISTVR</td>\n",
       "      <td>did not like the product it had a chalky taste...</td>\n",
       "    </tr>\n",
       "    <tr>\n",
       "      <th>288731</th>\n",
       "      <td>2</td>\n",
       "      <td>R1VFVYGPGWH7PT</td>\n",
       "      <td>Cheap material, great for a Halloween costume.</td>\n",
       "    </tr>\n",
       "    <tr>\n",
       "      <th>14959</th>\n",
       "      <td>2</td>\n",
       "      <td>R35C8TYMDG1NPA</td>\n",
       "      <td>Bought this for my mother in-laws house which ...</td>\n",
       "    </tr>\n",
       "    <tr>\n",
       "      <th>458646</th>\n",
       "      <td>2</td>\n",
       "      <td>RMVIY683NVQGB</td>\n",
       "      <td>It was okay. The story was very drawn out and ...</td>\n",
       "    </tr>\n",
       "    <tr>\n",
       "      <th>768</th>\n",
       "      <td>2</td>\n",
       "      <td>RJQFLXV7L4HMM</td>\n",
       "      <td>not good at all.</td>\n",
       "    </tr>\n",
       "  </tbody>\n",
       "</table>\n",
       "<p>22482 rows × 3 columns</p>\n",
       "</div>"
      ],
      "text/plain": [
       "        star_rating       review_id  \\\n",
       "227551            2   R6T1JUMAZJZ8U   \n",
       "165992            2  R1QVZ11HMK4HLA   \n",
       "173146            2  R26Z3JHIAHZBH3   \n",
       "90470             2   RLP69BJ93751X   \n",
       "357659            2  R30OY4QU6BR40A   \n",
       "...             ...             ...   \n",
       "107423            2  R3MDAKOPLISTVR   \n",
       "288731            2  R1VFVYGPGWH7PT   \n",
       "14959             2  R35C8TYMDG1NPA   \n",
       "458646            2   RMVIY683NVQGB   \n",
       "768               2   RJQFLXV7L4HMM   \n",
       "\n",
       "                                              review_body  \n",
       "227551  I ordered several pictures of Marilyn Monroe. ...  \n",
       "165992  I wish I had bought another one and velcrowed ...  \n",
       "173146  I gave it two stars because I was able to fini...  \n",
       "90470   These are not Gripstix and I felt they did not...  \n",
       "357659  the listing said is white but it come peach pi...  \n",
       "...                                                   ...  \n",
       "107423  did not like the product it had a chalky taste...  \n",
       "288731     Cheap material, great for a Halloween costume.  \n",
       "14959   Bought this for my mother in-laws house which ...  \n",
       "458646  It was okay. The story was very drawn out and ...  \n",
       "768                                      not good at all.  \n",
       "\n",
       "[22482 rows x 3 columns]"
      ]
     },
     "execution_count": 25,
     "metadata": {},
     "output_type": "execute_result"
    }
   ],
   "source": [
    "df2"
   ]
  },
  {
   "cell_type": "code",
   "execution_count": 26,
   "id": "fc2fc282",
   "metadata": {},
   "outputs": [
    {
     "data": {
      "text/html": [
       "<div>\n",
       "<style scoped>\n",
       "    .dataframe tbody tr th:only-of-type {\n",
       "        vertical-align: middle;\n",
       "    }\n",
       "\n",
       "    .dataframe tbody tr th {\n",
       "        vertical-align: top;\n",
       "    }\n",
       "\n",
       "    .dataframe thead th {\n",
       "        text-align: right;\n",
       "    }\n",
       "</style>\n",
       "<table border=\"1\" class=\"dataframe\">\n",
       "  <thead>\n",
       "    <tr style=\"text-align: right;\">\n",
       "      <th></th>\n",
       "      <th>star_rating</th>\n",
       "      <th>review_id</th>\n",
       "      <th>review_body</th>\n",
       "    </tr>\n",
       "  </thead>\n",
       "  <tbody>\n",
       "    <tr>\n",
       "      <th>265403</th>\n",
       "      <td>3</td>\n",
       "      <td>R1NF492BOUS62L</td>\n",
       "      <td>Picture was not crisp on the shirt. Poor quali...</td>\n",
       "    </tr>\n",
       "    <tr>\n",
       "      <th>130395</th>\n",
       "      <td>3</td>\n",
       "      <td>R16G3YYWZ3B9RT</td>\n",
       "      <td>This movie was pretty stupid, right? Well, it ...</td>\n",
       "    </tr>\n",
       "    <tr>\n",
       "      <th>180536</th>\n",
       "      <td>3</td>\n",
       "      <td>RA08OJ37VP3P9</td>\n",
       "      <td>I only really cared for one song</td>\n",
       "    </tr>\n",
       "    <tr>\n",
       "      <th>226149</th>\n",
       "      <td>3</td>\n",
       "      <td>R2OOZOAZO65HT3</td>\n",
       "      <td>Be careful to measure properly for this item. ...</td>\n",
       "    </tr>\n",
       "    <tr>\n",
       "      <th>239154</th>\n",
       "      <td>3</td>\n",
       "      <td>R17B37J3EKHQZN</td>\n",
       "      <td>I bought this stroller because a toddler and a...</td>\n",
       "    </tr>\n",
       "    <tr>\n",
       "      <th>...</th>\n",
       "      <td>...</td>\n",
       "      <td>...</td>\n",
       "      <td>...</td>\n",
       "    </tr>\n",
       "    <tr>\n",
       "      <th>445658</th>\n",
       "      <td>3</td>\n",
       "      <td>R39FI0CHJNF1N6</td>\n",
       "      <td>I ordered a small then asked for a medium they...</td>\n",
       "    </tr>\n",
       "    <tr>\n",
       "      <th>116238</th>\n",
       "      <td>3</td>\n",
       "      <td>R38FGHC45ILYVV</td>\n",
       "      <td>Good picture is the best I can say about this ...</td>\n",
       "    </tr>\n",
       "    <tr>\n",
       "      <th>492086</th>\n",
       "      <td>3</td>\n",
       "      <td>RS894B72X4GVX</td>\n",
       "      <td>Essentially just applesauce with other flavors...</td>\n",
       "    </tr>\n",
       "    <tr>\n",
       "      <th>80739</th>\n",
       "      <td>3</td>\n",
       "      <td>R2F2T70HGK3IWR</td>\n",
       "      <td>Cup is a little small but shipped within a wee...</td>\n",
       "    </tr>\n",
       "    <tr>\n",
       "      <th>490708</th>\n",
       "      <td>3</td>\n",
       "      <td>R29RX7GRXBXLKY</td>\n",
       "      <td>Didn't see any improvement--</td>\n",
       "    </tr>\n",
       "  </tbody>\n",
       "</table>\n",
       "<p>22482 rows × 3 columns</p>\n",
       "</div>"
      ],
      "text/plain": [
       "        star_rating       review_id  \\\n",
       "265403            3  R1NF492BOUS62L   \n",
       "130395            3  R16G3YYWZ3B9RT   \n",
       "180536            3   RA08OJ37VP3P9   \n",
       "226149            3  R2OOZOAZO65HT3   \n",
       "239154            3  R17B37J3EKHQZN   \n",
       "...             ...             ...   \n",
       "445658            3  R39FI0CHJNF1N6   \n",
       "116238            3  R38FGHC45ILYVV   \n",
       "492086            3   RS894B72X4GVX   \n",
       "80739             3  R2F2T70HGK3IWR   \n",
       "490708            3  R29RX7GRXBXLKY   \n",
       "\n",
       "                                              review_body  \n",
       "265403  Picture was not crisp on the shirt. Poor quali...  \n",
       "130395  This movie was pretty stupid, right? Well, it ...  \n",
       "180536                   I only really cared for one song  \n",
       "226149  Be careful to measure properly for this item. ...  \n",
       "239154  I bought this stroller because a toddler and a...  \n",
       "...                                                   ...  \n",
       "445658  I ordered a small then asked for a medium they...  \n",
       "116238  Good picture is the best I can say about this ...  \n",
       "492086  Essentially just applesauce with other flavors...  \n",
       "80739   Cup is a little small but shipped within a wee...  \n",
       "490708                       Didn't see any improvement--  \n",
       "\n",
       "[22482 rows x 3 columns]"
      ]
     },
     "execution_count": 26,
     "metadata": {},
     "output_type": "execute_result"
    }
   ],
   "source": [
    "df3"
   ]
  },
  {
   "cell_type": "code",
   "execution_count": 27,
   "id": "a0d536cd",
   "metadata": {},
   "outputs": [
    {
     "data": {
      "text/html": [
       "<div>\n",
       "<style scoped>\n",
       "    .dataframe tbody tr th:only-of-type {\n",
       "        vertical-align: middle;\n",
       "    }\n",
       "\n",
       "    .dataframe tbody tr th {\n",
       "        vertical-align: top;\n",
       "    }\n",
       "\n",
       "    .dataframe thead th {\n",
       "        text-align: right;\n",
       "    }\n",
       "</style>\n",
       "<table border=\"1\" class=\"dataframe\">\n",
       "  <thead>\n",
       "    <tr style=\"text-align: right;\">\n",
       "      <th></th>\n",
       "      <th>star_rating</th>\n",
       "      <th>review_id</th>\n",
       "      <th>review_body</th>\n",
       "    </tr>\n",
       "  </thead>\n",
       "  <tbody>\n",
       "    <tr>\n",
       "      <th>137861</th>\n",
       "      <td>4</td>\n",
       "      <td>RQ6JQN5K0LDA6</td>\n",
       "      <td>I was quite impressed with this game, which is...</td>\n",
       "    </tr>\n",
       "    <tr>\n",
       "      <th>158825</th>\n",
       "      <td>4</td>\n",
       "      <td>RSFL9G7I3LAOA</td>\n",
       "      <td>A reasonable substitute for gold leaf.  It is ...</td>\n",
       "    </tr>\n",
       "    <tr>\n",
       "      <th>424226</th>\n",
       "      <td>4</td>\n",
       "      <td>R237SGCE8BEGGU</td>\n",
       "      <td>So, comfortable. Love them.</td>\n",
       "    </tr>\n",
       "    <tr>\n",
       "      <th>69033</th>\n",
       "      <td>4</td>\n",
       "      <td>R1H4RRKDT0AC93</td>\n",
       "      <td>Gave it a 4 star because it still had to much ...</td>\n",
       "    </tr>\n",
       "    <tr>\n",
       "      <th>136188</th>\n",
       "      <td>4</td>\n",
       "      <td>R2JRPQAHCIQVOR</td>\n",
       "      <td>i have enjoyed playing this game. i didnt give...</td>\n",
       "    </tr>\n",
       "    <tr>\n",
       "      <th>...</th>\n",
       "      <td>...</td>\n",
       "      <td>...</td>\n",
       "      <td>...</td>\n",
       "    </tr>\n",
       "    <tr>\n",
       "      <th>246474</th>\n",
       "      <td>4</td>\n",
       "      <td>RF6GYWR5P6EJU</td>\n",
       "      <td>I've had this for @5 months now and Toby, my 1...</td>\n",
       "    </tr>\n",
       "    <tr>\n",
       "      <th>125784</th>\n",
       "      <td>4</td>\n",
       "      <td>R2M981BTXXZ9TL</td>\n",
       "      <td>This book encourages the reader to believe she...</td>\n",
       "    </tr>\n",
       "    <tr>\n",
       "      <th>239225</th>\n",
       "      <td>4</td>\n",
       "      <td>R11FB74F1WS67Q</td>\n",
       "      <td>We purchased the ottoman glider to go with the...</td>\n",
       "    </tr>\n",
       "    <tr>\n",
       "      <th>347354</th>\n",
       "      <td>4</td>\n",
       "      <td>R3J2Y4OC7TEA2A</td>\n",
       "      <td>Great sound...good quality.</td>\n",
       "    </tr>\n",
       "    <tr>\n",
       "      <th>136525</th>\n",
       "      <td>4</td>\n",
       "      <td>R2GRDG4RG94HOZ</td>\n",
       "      <td>app</td>\n",
       "    </tr>\n",
       "  </tbody>\n",
       "</table>\n",
       "<p>22482 rows × 3 columns</p>\n",
       "</div>"
      ],
      "text/plain": [
       "        star_rating       review_id  \\\n",
       "137861            4   RQ6JQN5K0LDA6   \n",
       "158825            4   RSFL9G7I3LAOA   \n",
       "424226            4  R237SGCE8BEGGU   \n",
       "69033             4  R1H4RRKDT0AC93   \n",
       "136188            4  R2JRPQAHCIQVOR   \n",
       "...             ...             ...   \n",
       "246474            4   RF6GYWR5P6EJU   \n",
       "125784            4  R2M981BTXXZ9TL   \n",
       "239225            4  R11FB74F1WS67Q   \n",
       "347354            4  R3J2Y4OC7TEA2A   \n",
       "136525            4  R2GRDG4RG94HOZ   \n",
       "\n",
       "                                              review_body  \n",
       "137861  I was quite impressed with this game, which is...  \n",
       "158825  A reasonable substitute for gold leaf.  It is ...  \n",
       "424226                        So, comfortable. Love them.  \n",
       "69033   Gave it a 4 star because it still had to much ...  \n",
       "136188  i have enjoyed playing this game. i didnt give...  \n",
       "...                                                   ...  \n",
       "246474  I've had this for @5 months now and Toby, my 1...  \n",
       "125784  This book encourages the reader to believe she...  \n",
       "239225  We purchased the ottoman glider to go with the...  \n",
       "347354                        Great sound...good quality.  \n",
       "136525                                                app  \n",
       "\n",
       "[22482 rows x 3 columns]"
      ]
     },
     "execution_count": 27,
     "metadata": {},
     "output_type": "execute_result"
    }
   ],
   "source": [
    "df4"
   ]
  },
  {
   "cell_type": "code",
   "execution_count": 28,
   "id": "9ecd3d1c",
   "metadata": {},
   "outputs": [
    {
     "data": {
      "text/html": [
       "<div>\n",
       "<style scoped>\n",
       "    .dataframe tbody tr th:only-of-type {\n",
       "        vertical-align: middle;\n",
       "    }\n",
       "\n",
       "    .dataframe tbody tr th {\n",
       "        vertical-align: top;\n",
       "    }\n",
       "\n",
       "    .dataframe thead th {\n",
       "        text-align: right;\n",
       "    }\n",
       "</style>\n",
       "<table border=\"1\" class=\"dataframe\">\n",
       "  <thead>\n",
       "    <tr style=\"text-align: right;\">\n",
       "      <th></th>\n",
       "      <th>star_rating</th>\n",
       "      <th>review_id</th>\n",
       "      <th>review_body</th>\n",
       "    </tr>\n",
       "  </thead>\n",
       "  <tbody>\n",
       "    <tr>\n",
       "      <th>340558</th>\n",
       "      <td>5</td>\n",
       "      <td>R15XFI81K6C5HA</td>\n",
       "      <td>I'm happy with my purchase the wig was exactly...</td>\n",
       "    </tr>\n",
       "    <tr>\n",
       "      <th>65728</th>\n",
       "      <td>5</td>\n",
       "      <td>R1B56HISMEPDCE</td>\n",
       "      <td>I had been using a Sigma 18-250mm lens as a wa...</td>\n",
       "    </tr>\n",
       "    <tr>\n",
       "      <th>93178</th>\n",
       "      <td>5</td>\n",
       "      <td>REOAP9J8Q6UF6</td>\n",
       "      <td>Best thing ever for making sallad. Staffan</td>\n",
       "    </tr>\n",
       "    <tr>\n",
       "      <th>156695</th>\n",
       "      <td>5</td>\n",
       "      <td>R3KRZ6CGL415RV</td>\n",
       "      <td>Super comfortable!</td>\n",
       "    </tr>\n",
       "    <tr>\n",
       "      <th>459620</th>\n",
       "      <td>5</td>\n",
       "      <td>R2WJYHB1OJ0498</td>\n",
       "      <td>Great story as all of yours are.  They are bes...</td>\n",
       "    </tr>\n",
       "    <tr>\n",
       "      <th>...</th>\n",
       "      <td>...</td>\n",
       "      <td>...</td>\n",
       "      <td>...</td>\n",
       "    </tr>\n",
       "    <tr>\n",
       "      <th>436505</th>\n",
       "      <td>5</td>\n",
       "      <td>RXBCN0ADOZFIH</td>\n",
       "      <td>great product.</td>\n",
       "    </tr>\n",
       "    <tr>\n",
       "      <th>80993</th>\n",
       "      <td>5</td>\n",
       "      <td>R39KQ4UEM7REZ0</td>\n",
       "      <td>It's perfect. It's well made. And exactly what...</td>\n",
       "    </tr>\n",
       "    <tr>\n",
       "      <th>237543</th>\n",
       "      <td>5</td>\n",
       "      <td>R2G502Y62EPEW4</td>\n",
       "      <td>Lots of fun to make and all my workmates have ...</td>\n",
       "    </tr>\n",
       "    <tr>\n",
       "      <th>179510</th>\n",
       "      <td>5</td>\n",
       "      <td>R1HYWHMABJX1HF</td>\n",
       "      <td>loveed....</td>\n",
       "    </tr>\n",
       "    <tr>\n",
       "      <th>429706</th>\n",
       "      <td>5</td>\n",
       "      <td>R35HS8RFIUVHIP</td>\n",
       "      <td>Definitely useful if you use safety razors in ...</td>\n",
       "    </tr>\n",
       "  </tbody>\n",
       "</table>\n",
       "<p>22482 rows × 3 columns</p>\n",
       "</div>"
      ],
      "text/plain": [
       "        star_rating       review_id  \\\n",
       "340558            5  R15XFI81K6C5HA   \n",
       "65728             5  R1B56HISMEPDCE   \n",
       "93178             5   REOAP9J8Q6UF6   \n",
       "156695            5  R3KRZ6CGL415RV   \n",
       "459620            5  R2WJYHB1OJ0498   \n",
       "...             ...             ...   \n",
       "436505            5   RXBCN0ADOZFIH   \n",
       "80993             5  R39KQ4UEM7REZ0   \n",
       "237543            5  R2G502Y62EPEW4   \n",
       "179510            5  R1HYWHMABJX1HF   \n",
       "429706            5  R35HS8RFIUVHIP   \n",
       "\n",
       "                                              review_body  \n",
       "340558  I'm happy with my purchase the wig was exactly...  \n",
       "65728   I had been using a Sigma 18-250mm lens as a wa...  \n",
       "93178          Best thing ever for making sallad. Staffan  \n",
       "156695                                 Super comfortable!  \n",
       "459620  Great story as all of yours are.  They are bes...  \n",
       "...                                                   ...  \n",
       "436505                                     great product.  \n",
       "80993   It's perfect. It's well made. And exactly what...  \n",
       "237543  Lots of fun to make and all my workmates have ...  \n",
       "179510                                         loveed....  \n",
       "429706  Definitely useful if you use safety razors in ...  \n",
       "\n",
       "[22482 rows x 3 columns]"
      ]
     },
     "execution_count": 28,
     "metadata": {},
     "output_type": "execute_result"
    }
   ],
   "source": [
    "df5"
   ]
  },
  {
   "cell_type": "code",
   "execution_count": 29,
   "id": "43048a2f",
   "metadata": {},
   "outputs": [],
   "source": [
    "df_temp = pd.concat([df1,df2,df3,df4,df5])"
   ]
  },
  {
   "cell_type": "code",
   "execution_count": 30,
   "id": "15e77a3c",
   "metadata": {},
   "outputs": [
    {
     "data": {
      "text/plain": [
       "star_rating    112410\n",
       "review_id      112410\n",
       "review_body    112410\n",
       "dtype: int64"
      ]
     },
     "execution_count": 30,
     "metadata": {},
     "output_type": "execute_result"
    }
   ],
   "source": [
    "df_temp.count()"
   ]
  },
  {
   "cell_type": "code",
   "execution_count": 31,
   "id": "e5c7d4b4",
   "metadata": {},
   "outputs": [],
   "source": [
    "df_shaffle = df_temp.sample(100000)"
   ]
  },
  {
   "cell_type": "code",
   "execution_count": 32,
   "id": "ceb0b8e7",
   "metadata": {},
   "outputs": [],
   "source": [
    "df_head = df_shaffle.head(80000)\n",
    "df_tail = df_shaffle.tail(20000)"
   ]
  },
  {
   "cell_type": "code",
   "execution_count": 33,
   "id": "a51cd1e1",
   "metadata": {},
   "outputs": [],
   "source": [
    "df_head.to_parquet(\"/mnt/amazon_reviews_2015_small_head.snappy.parquet\")\n",
    "df_tail.to_parquet(\"/mnt/amazon_reviews_2015_small_tail.snappy.parquet\")"
   ]
  },
  {
   "cell_type": "code",
   "execution_count": 45,
   "id": "621b7119",
   "metadata": {},
   "outputs": [
    {
     "data": {
      "text/html": [
       "<div>\n",
       "<style scoped>\n",
       "    .dataframe tbody tr th:only-of-type {\n",
       "        vertical-align: middle;\n",
       "    }\n",
       "\n",
       "    .dataframe tbody tr th {\n",
       "        vertical-align: top;\n",
       "    }\n",
       "\n",
       "    .dataframe thead th {\n",
       "        text-align: right;\n",
       "    }\n",
       "</style>\n",
       "<table border=\"1\" class=\"dataframe\">\n",
       "  <thead>\n",
       "    <tr style=\"text-align: right;\">\n",
       "      <th></th>\n",
       "      <th>star_rating</th>\n",
       "      <th>review_id</th>\n",
       "      <th>review_body</th>\n",
       "    </tr>\n",
       "  </thead>\n",
       "  <tbody>\n",
       "    <tr>\n",
       "      <th>281907</th>\n",
       "      <td>1</td>\n",
       "      <td>ROH3DDWBARFXN</td>\n",
       "      <td>Don't buy, go hard wire.</td>\n",
       "    </tr>\n",
       "    <tr>\n",
       "      <th>177049</th>\n",
       "      <td>1</td>\n",
       "      <td>R1C3TFQ3ADRXVK</td>\n",
       "      <td>Terrible quality. Sending these back. We bough...</td>\n",
       "    </tr>\n",
       "    <tr>\n",
       "      <th>426701</th>\n",
       "      <td>1</td>\n",
       "      <td>R1ZFP81ABZS8VQ</td>\n",
       "      <td>Not for my Very thick Very curly hair!</td>\n",
       "    </tr>\n",
       "    <tr>\n",
       "      <th>252421</th>\n",
       "      <td>2</td>\n",
       "      <td>RT68PXU8WXDEA</td>\n",
       "      <td>Did not fit my daughter. She liked the design,...</td>\n",
       "    </tr>\n",
       "    <tr>\n",
       "      <th>212122</th>\n",
       "      <td>4</td>\n",
       "      <td>RF4V44C27PMMW</td>\n",
       "      <td>I've only had this for a couple of days but so...</td>\n",
       "    </tr>\n",
       "    <tr>\n",
       "      <th>...</th>\n",
       "      <td>...</td>\n",
       "      <td>...</td>\n",
       "      <td>...</td>\n",
       "    </tr>\n",
       "    <tr>\n",
       "      <th>198778</th>\n",
       "      <td>5</td>\n",
       "      <td>R1R1IY9TYMUEP6</td>\n",
       "      <td>I started with 35mm many years ago, and made a...</td>\n",
       "    </tr>\n",
       "    <tr>\n",
       "      <th>41828</th>\n",
       "      <td>3</td>\n",
       "      <td>R5OE879KLMQSL</td>\n",
       "      <td>The price is exactly right. But the features a...</td>\n",
       "    </tr>\n",
       "    <tr>\n",
       "      <th>499297</th>\n",
       "      <td>1</td>\n",
       "      <td>R1VA0NWPFJF3G</td>\n",
       "      <td>This gizmo is all plastic. The place where it ...</td>\n",
       "    </tr>\n",
       "    <tr>\n",
       "      <th>340956</th>\n",
       "      <td>4</td>\n",
       "      <td>R3SO6DY5LZE7L2</td>\n",
       "      <td>I generally like the Olay products and this on...</td>\n",
       "    </tr>\n",
       "    <tr>\n",
       "      <th>328466</th>\n",
       "      <td>5</td>\n",
       "      <td>R12XFN0X4AH8QW</td>\n",
       "      <td>I bought this jacket in a different color two ...</td>\n",
       "    </tr>\n",
       "  </tbody>\n",
       "</table>\n",
       "<p>80000 rows × 3 columns</p>\n",
       "</div>"
      ],
      "text/plain": [
       "        star_rating       review_id  \\\n",
       "281907            1   ROH3DDWBARFXN   \n",
       "177049            1  R1C3TFQ3ADRXVK   \n",
       "426701            1  R1ZFP81ABZS8VQ   \n",
       "252421            2   RT68PXU8WXDEA   \n",
       "212122            4   RF4V44C27PMMW   \n",
       "...             ...             ...   \n",
       "198778            5  R1R1IY9TYMUEP6   \n",
       "41828             3   R5OE879KLMQSL   \n",
       "499297            1   R1VA0NWPFJF3G   \n",
       "340956            4  R3SO6DY5LZE7L2   \n",
       "328466            5  R12XFN0X4AH8QW   \n",
       "\n",
       "                                              review_body  \n",
       "281907                           Don't buy, go hard wire.  \n",
       "177049  Terrible quality. Sending these back. We bough...  \n",
       "426701             Not for my Very thick Very curly hair!  \n",
       "252421  Did not fit my daughter. She liked the design,...  \n",
       "212122  I've only had this for a couple of days but so...  \n",
       "...                                                   ...  \n",
       "198778  I started with 35mm many years ago, and made a...  \n",
       "41828   The price is exactly right. But the features a...  \n",
       "499297  This gizmo is all plastic. The place where it ...  \n",
       "340956  I generally like the Olay products and this on...  \n",
       "328466  I bought this jacket in a different color two ...  \n",
       "\n",
       "[80000 rows x 3 columns]"
      ]
     },
     "execution_count": 45,
     "metadata": {},
     "output_type": "execute_result"
    }
   ],
   "source": [
    "train_df = df_head.sample(n=80000)\n",
    "train_df"
   ]
  },
  {
   "cell_type": "code",
   "execution_count": 46,
   "id": "d3b3ec30",
   "metadata": {},
   "outputs": [
    {
     "data": {
      "text/html": [
       "<div>\n",
       "<style scoped>\n",
       "    .dataframe tbody tr th:only-of-type {\n",
       "        vertical-align: middle;\n",
       "    }\n",
       "\n",
       "    .dataframe tbody tr th {\n",
       "        vertical-align: top;\n",
       "    }\n",
       "\n",
       "    .dataframe thead th {\n",
       "        text-align: right;\n",
       "    }\n",
       "</style>\n",
       "<table border=\"1\" class=\"dataframe\">\n",
       "  <thead>\n",
       "    <tr style=\"text-align: right;\">\n",
       "      <th></th>\n",
       "      <th>star_rating</th>\n",
       "      <th>review_id</th>\n",
       "      <th>review_body</th>\n",
       "    </tr>\n",
       "  </thead>\n",
       "  <tbody>\n",
       "    <tr>\n",
       "      <th>483850</th>\n",
       "      <td>5</td>\n",
       "      <td>R5R2L29XK3J2W</td>\n",
       "      <td>This is a total life saver!  I was about ready...</td>\n",
       "    </tr>\n",
       "    <tr>\n",
       "      <th>448516</th>\n",
       "      <td>2</td>\n",
       "      <td>R2A5Q17WV771A5</td>\n",
       "      <td>Get a bigger size that your usual, got a small...</td>\n",
       "    </tr>\n",
       "    <tr>\n",
       "      <th>225318</th>\n",
       "      <td>2</td>\n",
       "      <td>R198LNCNL0VFCA</td>\n",
       "      <td>These don't last the night like Breathe Right ...</td>\n",
       "    </tr>\n",
       "    <tr>\n",
       "      <th>250618</th>\n",
       "      <td>1</td>\n",
       "      <td>R3TEWST14UGTS0</td>\n",
       "      <td>Didn't like them at all. I ordered this bootie...</td>\n",
       "    </tr>\n",
       "    <tr>\n",
       "      <th>279638</th>\n",
       "      <td>1</td>\n",
       "      <td>R1W7VN593A9UW</td>\n",
       "      <td>Good</td>\n",
       "    </tr>\n",
       "    <tr>\n",
       "      <th>...</th>\n",
       "      <td>...</td>\n",
       "      <td>...</td>\n",
       "      <td>...</td>\n",
       "    </tr>\n",
       "    <tr>\n",
       "      <th>288774</th>\n",
       "      <td>2</td>\n",
       "      <td>R1TY7NVTLLUGJJ</td>\n",
       "      <td>It is cute but somewhat opaque (you can see yo...</td>\n",
       "    </tr>\n",
       "    <tr>\n",
       "      <th>315281</th>\n",
       "      <td>1</td>\n",
       "      <td>R1SQHHLWRMQMPD</td>\n",
       "      <td>This is a stupid game</td>\n",
       "    </tr>\n",
       "    <tr>\n",
       "      <th>378662</th>\n",
       "      <td>4</td>\n",
       "      <td>R3VCNWMXZ5S7GY</td>\n",
       "      <td>Midnight is the typical southern small town. T...</td>\n",
       "    </tr>\n",
       "    <tr>\n",
       "      <th>323005</th>\n",
       "      <td>1</td>\n",
       "      <td>R3NJK69DSNS8E0</td>\n",
       "      <td>I couldn't get it to grow.</td>\n",
       "    </tr>\n",
       "    <tr>\n",
       "      <th>640</th>\n",
       "      <td>5</td>\n",
       "      <td>R36IGBM0PYHEM7</td>\n",
       "      <td>They work and are as inconspicuous as can be e...</td>\n",
       "    </tr>\n",
       "  </tbody>\n",
       "</table>\n",
       "<p>20000 rows × 3 columns</p>\n",
       "</div>"
      ],
      "text/plain": [
       "        star_rating       review_id  \\\n",
       "483850            5   R5R2L29XK3J2W   \n",
       "448516            2  R2A5Q17WV771A5   \n",
       "225318            2  R198LNCNL0VFCA   \n",
       "250618            1  R3TEWST14UGTS0   \n",
       "279638            1   R1W7VN593A9UW   \n",
       "...             ...             ...   \n",
       "288774            2  R1TY7NVTLLUGJJ   \n",
       "315281            1  R1SQHHLWRMQMPD   \n",
       "378662            4  R3VCNWMXZ5S7GY   \n",
       "323005            1  R3NJK69DSNS8E0   \n",
       "640               5  R36IGBM0PYHEM7   \n",
       "\n",
       "                                              review_body  \n",
       "483850  This is a total life saver!  I was about ready...  \n",
       "448516  Get a bigger size that your usual, got a small...  \n",
       "225318  These don't last the night like Breathe Right ...  \n",
       "250618  Didn't like them at all. I ordered this bootie...  \n",
       "279638                                               Good  \n",
       "...                                                   ...  \n",
       "288774  It is cute but somewhat opaque (you can see yo...  \n",
       "315281                              This is a stupid game  \n",
       "378662  Midnight is the typical southern small town. T...  \n",
       "323005                         I couldn't get it to grow.  \n",
       "640     They work and are as inconspicuous as can be e...  \n",
       "\n",
       "[20000 rows x 3 columns]"
      ]
     },
     "execution_count": 46,
     "metadata": {},
     "output_type": "execute_result"
    }
   ],
   "source": [
    "validation_df = df_tail.sample(n=20000)\n",
    "validation_df"
   ]
  },
  {
   "cell_type": "code",
   "execution_count": 47,
   "id": "f15b84a4",
   "metadata": {},
   "outputs": [
    {
     "name": "stdout",
     "output_type": "stream",
     "text": [
      "df Memory Usage: 0.17162852175533772 GB\n"
     ]
    }
   ],
   "source": [
    "print(f\"df Memory Usage: {df.memory_usage(deep=True).sum() / 1024**3} GB\")"
   ]
  },
  {
   "cell_type": "code",
   "execution_count": 48,
   "id": "51a983f8",
   "metadata": {},
   "outputs": [],
   "source": [
    "# Input クラスを使用して、データからサンプルを作成する。\n",
    "train_inputs = train_df.apply(\n",
    "    lambda x: Input(label=x[LABEL_COLUMN], text=x[REVIEW_BODY_COLUMN], review_id=x[REVIEW_ID_COLUMN], date=timestamp),\n",
    "    axis=1,\n",
    ")"
   ]
  },
  {
   "cell_type": "code",
   "execution_count": 49,
   "id": "bd1179aa",
   "metadata": {},
   "outputs": [],
   "source": [
    "# Input クラスを使用して、データからサンプルを作成する。\n",
    "validation_inputs = validation_df.apply(\n",
    "    lambda x: Input(label=x[LABEL_COLUMN], text=x[REVIEW_BODY_COLUMN], review_id=x[REVIEW_ID_COLUMN], date=timestamp),\n",
    "    axis=1,\n",
    ")"
   ]
  },
  {
   "cell_type": "code",
   "execution_count": null,
   "id": "4bdf40b4",
   "metadata": {},
   "outputs": [],
   "source": [
    "# !pip install pandarallel"
   ]
  },
  {
   "cell_type": "code",
   "execution_count": null,
   "id": "4d54c904",
   "metadata": {},
   "outputs": [],
   "source": [
    "# from pandarallel import pandarallel\n",
    "# import os\n",
    "# os.environ['JOBLIB_TEMP_FOLDER'] = '/tmp'\n",
    "# !pip3 install --no-cache-dir accelerate\n",
    "# pandarallel.initialize(nb_workers=2, progress_bar=True, use_memory_fs=False)"
   ]
  },
  {
   "cell_type": "code",
   "execution_count": null,
   "id": "950c1893",
   "metadata": {},
   "outputs": [],
   "source": [
    "#def func(x):\n",
    "#    return lambda x: Input(label=x[LABEL_COLUMN], text=x[REVIEW_BODY_COLUMN], review_id=x[REVIEW_ID_COLUMN], date=timestamp)\n",
    "\n",
    "# inputs = df.parallel_apply(\n",
    "#     lambda x: Input(label=x[LABEL_COLUMN], text=x[REVIEW_BODY_COLUMN], review_id=x[REVIEW_ID_COLUMN], date=timestamp),\n",
    "#     axis=1\n",
    "# )"
   ]
  },
  {
   "cell_type": "code",
   "execution_count": 50,
   "id": "f049d6e7",
   "metadata": {},
   "outputs": [
    {
     "data": {
      "text/plain": [
       "281907    <__main__.Input object at 0x7f0dd9bc6da0>\n",
       "177049    <__main__.Input object at 0x7f0dd9bc7190>\n",
       "426701    <__main__.Input object at 0x7f0dad4334f0>\n",
       "252421    <__main__.Input object at 0x7f0dad424e20>\n",
       "212122    <__main__.Input object at 0x7f0dad424dc0>\n",
       "                            ...                    \n",
       "198778    <__main__.Input object at 0x7f0dac679570>\n",
       "41828     <__main__.Input object at 0x7f0dac6795d0>\n",
       "499297    <__main__.Input object at 0x7f0dac679630>\n",
       "340956    <__main__.Input object at 0x7f0dac679690>\n",
       "328466    <__main__.Input object at 0x7f0dac6796f0>\n",
       "Length: 80000, dtype: object"
      ]
     },
     "execution_count": 50,
     "metadata": {},
     "output_type": "execute_result"
    }
   ],
   "source": [
    "train_inputs"
   ]
  },
  {
   "cell_type": "code",
   "execution_count": 51,
   "id": "aea980b4",
   "metadata": {},
   "outputs": [],
   "source": [
    "train_output_file = \"/mnt/train_small_data.tfrecord\""
   ]
  },
  {
   "cell_type": "code",
   "execution_count": 52,
   "id": "40830e0f",
   "metadata": {},
   "outputs": [],
   "source": [
    "validation_output_file = \"/mnt/validation_small_data.tfrecord\""
   ]
  },
  {
   "cell_type": "code",
   "execution_count": 51,
   "id": "db4f28f2",
   "metadata": {},
   "outputs": [],
   "source": [
    "# date が Feature Store の仕様に合わせて ISO-8601 になっていることを確認\n",
    "# print(train_inputs[0].date)"
   ]
  },
  {
   "cell_type": "code",
   "execution_count": 53,
   "id": "4675747c",
   "metadata": {},
   "outputs": [
    {
     "name": "stdout",
     "output_type": "stream",
     "text": [
      "Writing input 0 of 80000\n",
      "\n"
     ]
    },
    {
     "name": "stderr",
     "output_type": "stream",
     "text": [
      "/usr/local/lib/python3.10/dist-packages/transformers/tokenization_utils_base.py:2618: FutureWarning: The `pad_to_max_length` argument is deprecated and will be removed in a future version, use `padding=True` or `padding='longest'` to pad to the longest sequence in the batch, or use `padding='max_length'` to pad to a max length. In this case, you can give a specific length with `max_length` (e.g. `max_length=45`) or leave max_length to None to pad to the maximal input size of the model (e.g. 512 for Bert).\n",
      "  warnings.warn(\n"
     ]
    },
    {
     "name": "stdout",
     "output_type": "stream",
     "text": [
      "Writing input 10000 of 80000\n",
      "\n",
      "Writing input 20000 of 80000\n",
      "\n",
      "Writing input 30000 of 80000\n",
      "\n",
      "Writing input 40000 of 80000\n",
      "\n",
      "Writing input 50000 of 80000\n",
      "\n",
      "Writing input 60000 of 80000\n",
      "\n",
      "Writing input 70000 of 80000\n",
      "\n"
     ]
    }
   ],
   "source": [
    "train_records = transform_inputs_to_tfrecord(train_inputs, train_output_file, max_seq_length)"
   ]
  },
  {
   "cell_type": "code",
   "execution_count": 54,
   "id": "e4135685",
   "metadata": {},
   "outputs": [
    {
     "name": "stdout",
     "output_type": "stream",
     "text": [
      "Writing input 0 of 20000\n",
      "\n",
      "Writing input 10000 of 20000\n",
      "\n"
     ]
    }
   ],
   "source": [
    "validation_records = transform_inputs_to_tfrecord(validation_inputs, validation_output_file, max_seq_length)"
   ]
  },
  {
   "cell_type": "code",
   "execution_count": 54,
   "id": "a2c5796a",
   "metadata": {},
   "outputs": [
    {
     "data": {
      "text/html": [
       "\n",
       "<p><b>Shutting down your kernel for this notebook to release resources.</b></p>\n",
       "<button class=\"sm-command-button\" data-commandlinker-command=\"kernelmenu:shutdown\" style=\"display:none;\">Shutdown Kernel</button>\n",
       "        \n",
       "<script>\n",
       "try {\n",
       "    els = document.getElementsByClassName(\"sm-command-button\");\n",
       "    els[0].click();\n",
       "}\n",
       "catch(err) {\n",
       "    // NoOp\n",
       "}    \n",
       "</script>\n"
      ],
      "text/plain": [
       "<IPython.core.display.HTML object>"
      ]
     },
     "metadata": {},
     "output_type": "display_data"
    }
   ],
   "source": [
    "%%html\n",
    "\n",
    "<p><b>Shutting down your kernel for this notebook to release resources.</b></p>\n",
    "<button class=\"sm-command-button\" data-commandlinker-command=\"kernelmenu:shutdown\" style=\"display:none;\">Shutdown Kernel</button>\n",
    "        \n",
    "<script>\n",
    "try {\n",
    "    els = document.getElementsByClassName(\"sm-command-button\");\n",
    "    els[0].click();\n",
    "}\n",
    "catch(err) {\n",
    "    // NoOp\n",
    "}    \n",
    "</script>"
   ]
  },
  {
   "cell_type": "code",
   "execution_count": null,
   "id": "85b936df",
   "metadata": {},
   "outputs": [],
   "source": []
  }
 ],
 "metadata": {
  "kernelspec": {
   "display_name": "Python 3 (ipykernel)",
   "language": "python",
   "name": "python3"
  },
  "language_info": {
   "codemirror_mode": {
    "name": "ipython",
    "version": 3
   },
   "file_extension": ".py",
   "mimetype": "text/x-python",
   "name": "python",
   "nbconvert_exporter": "python",
   "pygments_lexer": "ipython3",
   "version": "3.10.12"
  }
 },
 "nbformat": 4,
 "nbformat_minor": 5
}
