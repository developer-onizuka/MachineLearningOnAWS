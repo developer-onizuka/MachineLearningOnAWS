{
 "cells": [
  {
   "cell_type": "code",
   "execution_count": 1,
   "id": "090cb7bb",
   "metadata": {
    "scrolled": true
   },
   "outputs": [
    {
     "name": "stdout",
     "output_type": "stream",
     "text": [
      "Requirement already satisfied: transformers in /usr/local/lib/python3.10/dist-packages (4.36.2)\n",
      "Requirement already satisfied: filelock in /usr/local/lib/python3.10/dist-packages (from transformers) (3.13.1)\n",
      "Requirement already satisfied: huggingface-hub<1.0,>=0.19.3 in /usr/local/lib/python3.10/dist-packages (from transformers) (0.20.2)\n",
      "Requirement already satisfied: numpy>=1.17 in /usr/local/lib/python3.10/dist-packages (from transformers) (1.24.4)\n",
      "Requirement already satisfied: packaging>=20.0 in /usr/local/lib/python3.10/dist-packages (from transformers) (23.1)\n",
      "Requirement already satisfied: pyyaml>=5.1 in /usr/local/lib/python3.10/dist-packages (from transformers) (6.0)\n",
      "Requirement already satisfied: regex!=2019.12.17 in /usr/local/lib/python3.10/dist-packages (from transformers) (2023.12.25)\n",
      "Requirement already satisfied: requests in /usr/local/lib/python3.10/dist-packages (from transformers) (2.31.0)\n",
      "Requirement already satisfied: tokenizers<0.19,>=0.14 in /usr/local/lib/python3.10/dist-packages (from transformers) (0.15.0)\n",
      "Requirement already satisfied: safetensors>=0.3.1 in /usr/local/lib/python3.10/dist-packages (from transformers) (0.4.1)\n",
      "Requirement already satisfied: tqdm>=4.27 in /usr/local/lib/python3.10/dist-packages (from transformers) (4.66.1)\n",
      "Requirement already satisfied: fsspec>=2023.5.0 in /usr/local/lib/python3.10/dist-packages (from huggingface-hub<1.0,>=0.19.3->transformers) (2023.6.0)\n",
      "Requirement already satisfied: typing-extensions>=3.7.4.3 in /usr/local/lib/python3.10/dist-packages (from huggingface-hub<1.0,>=0.19.3->transformers) (4.7.1)\n",
      "Requirement already satisfied: charset-normalizer<4,>=2 in /usr/local/lib/python3.10/dist-packages (from requests->transformers) (3.1.0)\n",
      "Requirement already satisfied: idna<4,>=2.5 in /usr/local/lib/python3.10/dist-packages (from requests->transformers) (3.4)\n",
      "Requirement already satisfied: urllib3<3,>=1.21.1 in /usr/local/lib/python3.10/dist-packages (from requests->transformers) (1.26.16)\n",
      "Requirement already satisfied: certifi>=2017.4.17 in /usr/local/lib/python3.10/dist-packages (from requests->transformers) (2023.5.7)\n",
      "\u001b[33mWARNING: Running pip as the 'root' user can result in broken permissions and conflicting behaviour with the system package manager. It is recommended to use a virtual environment instead: https://pip.pypa.io/warnings/venv\u001b[0m\u001b[33m\n",
      "\u001b[0m"
     ]
    }
   ],
   "source": [
    "!pip install transformers"
   ]
  },
  {
   "cell_type": "code",
   "execution_count": 2,
   "id": "58c0c8fc",
   "metadata": {
    "scrolled": true
   },
   "outputs": [
    {
     "name": "stdout",
     "output_type": "stream",
     "text": [
      "Found existing installation: matplotlib 3.7.3\n",
      "Uninstalling matplotlib-3.7.3:\n",
      "  Successfully uninstalled matplotlib-3.7.3\n",
      "\u001b[33mWARNING: Running pip as the 'root' user can result in broken permissions and conflicting behaviour with the system package manager. It is recommended to use a virtual environment instead: https://pip.pypa.io/warnings/venv\u001b[0m\u001b[33m\n",
      "\u001b[0mCollecting matplotlib==3.7.3\n",
      "  Using cached matplotlib-3.7.3-cp310-cp310-manylinux_2_17_x86_64.manylinux2014_x86_64.whl (11.6 MB)\n",
      "Requirement already satisfied: contourpy>=1.0.1 in /usr/local/lib/python3.10/dist-packages (from matplotlib==3.7.3) (1.2.0)\n",
      "Requirement already satisfied: cycler>=0.10 in /usr/local/lib/python3.10/dist-packages (from matplotlib==3.7.3) (0.12.1)\n",
      "Requirement already satisfied: fonttools>=4.22.0 in /usr/local/lib/python3.10/dist-packages (from matplotlib==3.7.3) (4.47.2)\n",
      "Requirement already satisfied: kiwisolver>=1.0.1 in /usr/local/lib/python3.10/dist-packages (from matplotlib==3.7.3) (1.4.5)\n",
      "Requirement already satisfied: numpy<2,>=1.20 in /usr/local/lib/python3.10/dist-packages (from matplotlib==3.7.3) (1.24.4)\n",
      "Requirement already satisfied: packaging>=20.0 in /usr/local/lib/python3.10/dist-packages (from matplotlib==3.7.3) (23.1)\n",
      "Requirement already satisfied: pillow>=6.2.0 in /usr/local/lib/python3.10/dist-packages (from matplotlib==3.7.3) (9.5.0)\n",
      "Requirement already satisfied: pyparsing>=2.3.1 in /usr/local/lib/python3.10/dist-packages (from matplotlib==3.7.3) (3.1.0)\n",
      "Requirement already satisfied: python-dateutil>=2.7 in /usr/local/lib/python3.10/dist-packages (from matplotlib==3.7.3) (2.8.2)\n",
      "Requirement already satisfied: six>=1.5 in /usr/local/lib/python3.10/dist-packages (from python-dateutil>=2.7->matplotlib==3.7.3) (1.16.0)\n",
      "Installing collected packages: matplotlib\n",
      "Successfully installed matplotlib-3.7.3\n",
      "\u001b[33mWARNING: Running pip as the 'root' user can result in broken permissions and conflicting behaviour with the system package manager. It is recommended to use a virtual environment instead: https://pip.pypa.io/warnings/venv\u001b[0m\u001b[33m\n",
      "\u001b[0m"
     ]
    }
   ],
   "source": [
    "!pip uninstall -y matplotlib\n",
    "!pip install matplotlib==3.7.3"
   ]
  },
  {
   "cell_type": "code",
   "execution_count": 3,
   "id": "82e6f70d",
   "metadata": {},
   "outputs": [
    {
     "name": "stderr",
     "output_type": "stream",
     "text": [
      "2024-01-13 23:45:54.670673: I tensorflow/core/platform/cpu_feature_guard.cc:183] This TensorFlow binary is optimized to use available CPU instructions in performance-critical operations.\n",
      "To enable the following instructions: SSE3 SSE4.1 SSE4.2 AVX, in other operations, rebuild TensorFlow with the appropriate compiler flags.\n"
     ]
    }
   ],
   "source": [
    "import time\n",
    "import random\n",
    "import pandas as pd\n",
    "from glob import glob\n",
    "import argparse\n",
    "import json\n",
    "import subprocess\n",
    "import sys\n",
    "import os\n",
    "import tensorflow as tf\n",
    "from transformers import DistilBertTokenizer\n",
    "from transformers import TFDistilBertForSequenceClassification\n",
    "from transformers import DistilBertConfig"
   ]
  },
  {
   "cell_type": "code",
   "execution_count": 4,
   "id": "775776f4",
   "metadata": {},
   "outputs": [],
   "source": [
    "# Define the connection between Input data and Label"
   ]
  },
  {
   "cell_type": "code",
   "execution_count": 5,
   "id": "a61eed2f",
   "metadata": {},
   "outputs": [],
   "source": [
    "def select_data_and_label_from_record(record):\n",
    "    x = {\n",
    "        \"input_ids\": record[\"input_ids\"],\n",
    "        \"input_mask\": record[\"input_mask\"],\n",
    "    }\n",
    "    y = record[\"label_ids\"]\n",
    "\n",
    "    return (x, y)"
   ]
  },
  {
   "cell_type": "code",
   "execution_count": 6,
   "id": "6545c673",
   "metadata": {},
   "outputs": [],
   "source": [
    "def file_based_input_dataset_builder(channel, input_filenames, max_seq_length, is_training, drop_remainder):\n",
    "    # トレーニング時には並列読み出しとシャッフルを行う。\n",
    "    # 評価時にはシャッフルは行わず、並列読み出しは効果がない。\n",
    "\n",
    "    dataset = tf.data.TFRecordDataset(input_filenames)\n",
    "    dataset = dataset.repeat(100)\n",
    "    dataset = dataset.prefetch(tf.data.experimental.AUTOTUNE)\n",
    "\n",
    "    name_to_features = {\n",
    "        \"input_ids\": tf.io.FixedLenFeature([max_seq_length], tf.int64),\n",
    "        \"input_mask\": tf.io.FixedLenFeature([max_seq_length], tf.int64),\n",
    "        \"label_ids\": tf.io.FixedLenFeature([], tf.int64),\n",
    "    }\n",
    "\n",
    "    def _decode_record(record, name_to_features):\n",
    "        \"\"\"Decodes a record to a TensorFlow example.\"\"\"\n",
    "        return tf.io.parse_single_example(record, name_to_features)\n",
    "\n",
    "    dataset = dataset.apply(\n",
    "        tf.data.experimental.map_and_batch(\n",
    "            lambda record: _decode_record(record, name_to_features),\n",
    "            batch_size=8,\n",
    "            drop_remainder=drop_remainder,\n",
    "            num_parallel_calls=tf.data.experimental.AUTOTUNE,\n",
    "        )\n",
    "    )\n",
    "\n",
    "    dataset.cache()\n",
    "\n",
    "    if is_training:\n",
    "        dataset = dataset.shuffle(seed=42, buffer_size=10, reshuffle_each_iteration=True)\n",
    "\n",
    "    return dataset"
   ]
  },
  {
   "cell_type": "code",
   "execution_count": 7,
   "id": "97b081fc",
   "metadata": {
    "scrolled": true
   },
   "outputs": [
    {
     "name": "stdout",
     "output_type": "stream",
     "text": [
      "train_data_filenames /mnt/train_data.tfrecord\n",
      "WARNING:tensorflow:From /tmp/ipykernel_2401/1897154758.py:20: map_and_batch (from tensorflow.python.data.experimental.ops.batching) is deprecated and will be removed in a future version.\n",
      "Instructions for updating:\n",
      "Use `tf.data.Dataset.map(map_func, num_parallel_calls)` followed by `tf.data.Dataset.batch(batch_size, drop_remainder)`. Static tf.data optimizations will take care of using the fused implementation.\n"
     ]
    },
    {
     "name": "stderr",
     "output_type": "stream",
     "text": [
      "2024-01-13 23:45:57.023423: I tensorflow/compiler/xla/stream_executor/cuda/cuda_gpu_executor.cc:1013] successful NUMA node read from SysFS had negative value (-1), but there must be at least one NUMA node, so returning NUMA node zero. See more at https://github.com/torvalds/linux/blob/v6.0/Documentation/ABI/testing/sysfs-bus-pci#L344-L355\n",
      "2024-01-13 23:45:57.044890: I tensorflow/compiler/xla/stream_executor/cuda/cuda_gpu_executor.cc:1013] successful NUMA node read from SysFS had negative value (-1), but there must be at least one NUMA node, so returning NUMA node zero. See more at https://github.com/torvalds/linux/blob/v6.0/Documentation/ABI/testing/sysfs-bus-pci#L344-L355\n",
      "2024-01-13 23:45:57.045261: I tensorflow/compiler/xla/stream_executor/cuda/cuda_gpu_executor.cc:1013] successful NUMA node read from SysFS had negative value (-1), but there must be at least one NUMA node, so returning NUMA node zero. See more at https://github.com/torvalds/linux/blob/v6.0/Documentation/ABI/testing/sysfs-bus-pci#L344-L355\n",
      "2024-01-13 23:45:57.047310: I tensorflow/compiler/xla/stream_executor/cuda/cuda_gpu_executor.cc:1013] successful NUMA node read from SysFS had negative value (-1), but there must be at least one NUMA node, so returning NUMA node zero. See more at https://github.com/torvalds/linux/blob/v6.0/Documentation/ABI/testing/sysfs-bus-pci#L344-L355\n",
      "2024-01-13 23:45:57.047593: I tensorflow/compiler/xla/stream_executor/cuda/cuda_gpu_executor.cc:1013] successful NUMA node read from SysFS had negative value (-1), but there must be at least one NUMA node, so returning NUMA node zero. See more at https://github.com/torvalds/linux/blob/v6.0/Documentation/ABI/testing/sysfs-bus-pci#L344-L355\n",
      "2024-01-13 23:45:57.047830: I tensorflow/compiler/xla/stream_executor/cuda/cuda_gpu_executor.cc:1013] successful NUMA node read from SysFS had negative value (-1), but there must be at least one NUMA node, so returning NUMA node zero. See more at https://github.com/torvalds/linux/blob/v6.0/Documentation/ABI/testing/sysfs-bus-pci#L344-L355\n",
      "2024-01-13 23:45:57.126881: I tensorflow/compiler/xla/stream_executor/cuda/cuda_gpu_executor.cc:1013] successful NUMA node read from SysFS had negative value (-1), but there must be at least one NUMA node, so returning NUMA node zero. See more at https://github.com/torvalds/linux/blob/v6.0/Documentation/ABI/testing/sysfs-bus-pci#L344-L355\n",
      "2024-01-13 23:45:57.127063: I tensorflow/compiler/xla/stream_executor/cuda/cuda_gpu_executor.cc:1013] successful NUMA node read from SysFS had negative value (-1), but there must be at least one NUMA node, so returning NUMA node zero. See more at https://github.com/torvalds/linux/blob/v6.0/Documentation/ABI/testing/sysfs-bus-pci#L344-L355\n",
      "2024-01-13 23:45:57.127233: I tensorflow/compiler/xla/stream_executor/cuda/cuda_gpu_executor.cc:1013] successful NUMA node read from SysFS had negative value (-1), but there must be at least one NUMA node, so returning NUMA node zero. See more at https://github.com/torvalds/linux/blob/v6.0/Documentation/ABI/testing/sysfs-bus-pci#L344-L355\n",
      "2024-01-13 23:45:57.127348: I tensorflow/core/common_runtime/gpu/gpu_device.cc:1638] Created device /job:localhost/replica:0/task:0/device:GPU:0 with 7316 MB memory:  -> device: 0, name: Quadro P4000, pci bus id: 0000:03:00.0, compute capability: 6.1\n"
     ]
    }
   ],
   "source": [
    "# train_data = \"./data-tfrecord/bert-train\"\n",
    "train_data_filenames = \"/mnt/train_data.tfrecord\"\n",
    "print(\"train_data_filenames {}\".format(train_data_filenames))\n",
    "\n",
    "train_dataset = file_based_input_dataset_builder(\n",
    "    channel=\"train\", \n",
    "    input_filenames=train_data_filenames, \n",
    "    max_seq_length=64, \n",
    "    is_training=True, \n",
    "    drop_remainder=False\n",
    ").map(select_data_and_label_from_record)"
   ]
  },
  {
   "cell_type": "code",
   "execution_count": 8,
   "id": "782302e1",
   "metadata": {},
   "outputs": [
    {
     "name": "stdout",
     "output_type": "stream",
     "text": [
      "<_MapDataset element_spec=({'input_ids': TensorSpec(shape=(None, 64), dtype=tf.int64, name=None), 'input_mask': TensorSpec(shape=(None, 64), dtype=tf.int64, name=None)}, TensorSpec(shape=(None,), dtype=tf.int64, name=None))>\n"
     ]
    }
   ],
   "source": [
    "print(train_dataset)"
   ]
  },
  {
   "cell_type": "code",
   "execution_count": 9,
   "id": "6da07a0c",
   "metadata": {},
   "outputs": [
    {
     "name": "stdout",
     "output_type": "stream",
     "text": [
      "validation_data_filenames /mnt/validation_data.tfrecord\n"
     ]
    }
   ],
   "source": [
    "# validation_data = \"./data-tfrecord/bert-validation\"\n",
    "validation_data_filenames = \"/mnt/validation_data.tfrecord\"\n",
    "print(\"validation_data_filenames {}\".format(validation_data_filenames))\n",
    "\n",
    "validation_dataset = file_based_input_dataset_builder(\n",
    "    channel=\"validation\",\n",
    "    input_filenames=validation_data_filenames,\n",
    "    max_seq_length=64,\n",
    "    is_training=False,\n",
    "    drop_remainder=False,\n",
    ").map(select_data_and_label_from_record)"
   ]
  },
  {
   "cell_type": "code",
   "execution_count": 10,
   "id": "9e2bb084",
   "metadata": {},
   "outputs": [],
   "source": [
    "epochs = 1\n",
    "steps_per_epoch = 1\n",
    "validation_steps = 1\n",
    "test_steps = 1\n",
    "freeze_bert_layer = True\n",
    "learning_rate = 3e-5\n",
    "epsilon = 1e-08\n",
    "max_seq_length = 64"
   ]
  },
  {
   "cell_type": "code",
   "execution_count": 11,
   "id": "d885da1a",
   "metadata": {
    "scrolled": true
   },
   "outputs": [
    {
     "name": "stdout",
     "output_type": "stream",
     "text": [
      "DistilBertConfig {\n",
      "  \"activation\": \"gelu\",\n",
      "  \"architectures\": [\n",
      "    \"DistilBertForMaskedLM\"\n",
      "  ],\n",
      "  \"attention_dropout\": 0.1,\n",
      "  \"dim\": 768,\n",
      "  \"dropout\": 0.1,\n",
      "  \"hidden_dim\": 3072,\n",
      "  \"id2label\": {\n",
      "    \"0\": 1,\n",
      "    \"1\": 2,\n",
      "    \"2\": 3,\n",
      "    \"3\": 4,\n",
      "    \"4\": 5\n",
      "  },\n",
      "  \"initializer_range\": 0.02,\n",
      "  \"label2id\": {\n",
      "    \"1\": 0,\n",
      "    \"2\": 1,\n",
      "    \"3\": 2,\n",
      "    \"4\": 3,\n",
      "    \"5\": 4\n",
      "  },\n",
      "  \"max_position_embeddings\": 512,\n",
      "  \"model_type\": \"distilbert\",\n",
      "  \"n_heads\": 12,\n",
      "  \"n_layers\": 6,\n",
      "  \"pad_token_id\": 0,\n",
      "  \"qa_dropout\": 0.1,\n",
      "  \"seq_classif_dropout\": 0.2,\n",
      "  \"sinusoidal_pos_embds\": false,\n",
      "  \"tie_weights_\": true,\n",
      "  \"transformers_version\": \"4.36.2\",\n",
      "  \"vocab_size\": 30522\n",
      "}\n",
      "\n"
     ]
    }
   ],
   "source": [
    "CLASSES = [1, 2, 3, 4, 5]\n",
    "\n",
    "config = DistilBertConfig.from_pretrained(\n",
    "    \"distilbert-base-uncased\",\n",
    "    num_labels=len(CLASSES),\n",
    "    id2label={0: 1, 1: 2, 2: 3, 3: 4, 4: 5},\n",
    "    label2id={1: 0, 2: 1, 3: 2, 4: 3, 5: 4},\n",
    ")\n",
    "print(config)"
   ]
  },
  {
   "cell_type": "code",
   "execution_count": 12,
   "id": "b7810d2b",
   "metadata": {},
   "outputs": [],
   "source": [
    "# Adding the layer for fine tuning on BERT"
   ]
  },
  {
   "cell_type": "code",
   "execution_count": 13,
   "id": "eadc4cc8",
   "metadata": {
    "scrolled": true
   },
   "outputs": [
    {
     "name": "stderr",
     "output_type": "stream",
     "text": [
      "Some weights of the PyTorch model were not used when initializing the TF 2.0 model TFDistilBertForSequenceClassification: ['vocab_layer_norm.weight', 'vocab_transform.bias', 'vocab_layer_norm.bias', 'vocab_projector.bias', 'vocab_transform.weight']\n",
      "- This IS expected if you are initializing TFDistilBertForSequenceClassification from a PyTorch model trained on another task or with another architecture (e.g. initializing a TFBertForSequenceClassification model from a BertForPreTraining model).\n",
      "- This IS NOT expected if you are initializing TFDistilBertForSequenceClassification from a PyTorch model that you expect to be exactly identical (e.g. initializing a TFBertForSequenceClassification model from a BertForSequenceClassification model).\n",
      "Some weights or buffers of the TF 2.0 model TFDistilBertForSequenceClassification were not initialized from the PyTorch model and are newly initialized: ['pre_classifier.weight', 'pre_classifier.bias', 'classifier.weight', 'classifier.bias']\n",
      "You should probably TRAIN this model on a down-stream task to be able to use it for predictions and inference.\n"
     ]
    },
    {
     "name": "stdout",
     "output_type": "stream",
     "text": [
      "WARNING:tensorflow:Layer lstm will not use cuDNN kernels since it doesn't meet the criteria. It will use a generic GPU kernel as fallback when running on GPU.\n",
      "WARNING:tensorflow:Layer lstm will not use cuDNN kernels since it doesn't meet the criteria. It will use a generic GPU kernel as fallback when running on GPU.\n",
      "WARNING:tensorflow:Layer lstm will not use cuDNN kernels since it doesn't meet the criteria. It will use a generic GPU kernel as fallback when running on GPU.\n"
     ]
    }
   ],
   "source": [
    "transformer_model = TFDistilBertForSequenceClassification.from_pretrained(\"distilbert-base-uncased\", config=config)\n",
    "\n",
    "input_ids = tf.keras.layers.Input(shape=(max_seq_length,), name=\"input_ids\", dtype=\"int32\")\n",
    "input_mask = tf.keras.layers.Input(shape=(max_seq_length,), name=\"input_mask\", dtype=\"int32\")\n",
    "\n",
    "embedding_layer = transformer_model.distilbert(input_ids, attention_mask=input_mask)[0]\n",
    "X = tf.keras.layers.Bidirectional(tf.keras.layers.LSTM(50, return_sequences=True, dropout=0.1, recurrent_dropout=0.1))(\n",
    "    embedding_layer\n",
    ")\n",
    "X = tf.keras.layers.GlobalMaxPool1D()(X)\n",
    "X = tf.keras.layers.Dense(50, activation=\"relu\")(X)\n",
    "X = tf.keras.layers.Dropout(0.2)(X)\n",
    "X = tf.keras.layers.Dense(len(CLASSES), activation=\"softmax\")(X)\n",
    "\n",
    "model = tf.keras.Model(inputs=[input_ids, input_mask], outputs=X)\n",
    "\n",
    "for layer in model.layers[:3]:\n",
    "    layer.trainable = not freeze_bert_layer"
   ]
  },
  {
   "cell_type": "code",
   "execution_count": 14,
   "id": "b457525b",
   "metadata": {},
   "outputs": [],
   "source": [
    "# Set up the custom classifier model"
   ]
  },
  {
   "cell_type": "code",
   "execution_count": 15,
   "id": "1ac81c89",
   "metadata": {
    "scrolled": true
   },
   "outputs": [
    {
     "name": "stdout",
     "output_type": "stream",
     "text": [
      "Model: \"model\"\n",
      "__________________________________________________________________________________________________\n",
      " Layer (type)                   Output Shape         Param #     Connected to                     \n",
      "==================================================================================================\n",
      " input_ids (InputLayer)         [(None, 64)]         0           []                               \n",
      "                                                                                                  \n",
      " input_mask (InputLayer)        [(None, 64)]         0           []                               \n",
      "                                                                                                  \n",
      " distilbert (TFDistilBertMainLa  TFBaseModelOutput(l  66362880   ['input_ids[0][0]',              \n",
      " yer)                           ast_hidden_state=(N               'input_mask[0][0]']             \n",
      "                                one, 64, 768),                                                    \n",
      "                                 hidden_states=None                                               \n",
      "                                , attentions=None)                                                \n",
      "                                                                                                  \n",
      " bidirectional (Bidirectional)  (None, 64, 100)      327600      ['distilbert[0][0]']             \n",
      "                                                                                                  \n",
      " global_max_pooling1d (GlobalMa  (None, 100)         0           ['bidirectional[0][0]']          \n",
      " xPooling1D)                                                                                      \n",
      "                                                                                                  \n",
      " dense (Dense)                  (None, 50)           5050        ['global_max_pooling1d[0][0]']   \n",
      "                                                                                                  \n",
      " dropout_20 (Dropout)           (None, 50)           0           ['dense[0][0]']                  \n",
      "                                                                                                  \n",
      " dense_1 (Dense)                (None, 5)            255         ['dropout_20[0][0]']             \n",
      "                                                                                                  \n",
      "==================================================================================================\n",
      "Total params: 66,695,785\n",
      "Trainable params: 332,905\n",
      "Non-trainable params: 66,362,880\n",
      "__________________________________________________________________________________________________\n"
     ]
    }
   ],
   "source": [
    "loss = tf.keras.losses.SparseCategoricalCrossentropy(from_logits=True)\n",
    "\n",
    "metric = tf.keras.metrics.SparseCategoricalAccuracy(\"accuracy\")\n",
    "\n",
    "optimizer = tf.keras.optimizers.Adam(learning_rate=learning_rate, epsilon=epsilon)\n",
    "\n",
    "model.compile(optimizer=optimizer, loss=loss, metrics=[metric])\n",
    "\n",
    "model.summary()"
   ]
  },
  {
   "cell_type": "code",
   "execution_count": 16,
   "id": "625622d7",
   "metadata": {},
   "outputs": [
    {
     "data": {
      "image/png": "[encoded data removed]",
      "text/plain": [
       "<IPython.core.display.Image object>"
      ]
     },
     "execution_count": 16,
     "metadata": {},
     "output_type": "execute_result"
    }
   ],
   "source": [
    "from tensorflow.keras.utils import plot_model\n",
    "plot_model(model,show_shapes=True)"
   ]
  },
  {
   "cell_type": "code",
   "execution_count": 17,
   "id": "6cbc2f10",
   "metadata": {},
   "outputs": [],
   "source": [
    "callbacks = []\n",
    "\n",
    "log_dir = \"./tmp/tensorboard/\"\n",
    "tensorboard_callback = tf.keras.callbacks.TensorBoard(log_dir=log_dir)\n",
    "callbacks.append(tensorboard_callback)"
   ]
  },
  {
   "cell_type": "code",
   "execution_count": 18,
   "id": "ba28eb46",
   "metadata": {
    "scrolled": true
   },
   "outputs": [
    {
     "name": "stderr",
     "output_type": "stream",
     "text": [
      "2024-01-13 23:46:02.305919: I tensorflow/core/common_runtime/executor.cc:1209] [/device:CPU:0] (DEBUG INFO) Executor start aborting (this does not indicate an error and you can ignore this message): INVALID_ARGUMENT: You must feed a value for placeholder tensor 'Placeholder/_0' with dtype string and shape [1]\n",
      "\t [[{{node Placeholder/_0}}]]\n",
      "2024-01-13 23:46:02.306220: I tensorflow/core/common_runtime/executor.cc:1209] [/device:CPU:0] (DEBUG INFO) Executor start aborting (this does not indicate an error and you can ignore this message): INVALID_ARGUMENT: You must feed a value for placeholder tensor 'Placeholder/_0' with dtype string and shape [1]\n",
      "\t [[{{node Placeholder/_0}}]]\n",
      "/usr/local/lib/python3.10/dist-packages/keras/backend.py:5612: UserWarning: \"`sparse_categorical_crossentropy` received `from_logits=True`, but the `output` argument was produced by a Softmax activation and thus does not represent logits. Was this intended?\n",
      "  output, from_logits = _get_logits(\n",
      "2024-01-13 23:46:11.618376: I tensorflow/compiler/xla/service/service.cc:169] XLA service 0x55a5c00617d0 initialized for platform CUDA (this does not guarantee that XLA will be used). Devices:\n",
      "2024-01-13 23:46:11.618429: I tensorflow/compiler/xla/service/service.cc:177]   StreamExecutor device (0): Quadro P4000, Compute Capability 6.1\n",
      "2024-01-13 23:46:11.627169: I tensorflow/compiler/mlir/tensorflow/utils/dump_mlir_util.cc:269] disabling MLIR crash reproducer, set env var `MLIR_CRASH_REPRODUCER_DIRECTORY` to enable.\n",
      "2024-01-13 23:46:11.646174: I tensorflow/compiler/xla/stream_executor/cuda/cuda_dnn.cc:424] Loaded cuDNN version 8903\n",
      "2024-01-13 23:46:11.773625: I ./tensorflow/compiler/jit/device_compiler.h:180] Compiled cluster using XLA!  This line is logged at most once for the lifetime of the process.\n"
     ]
    },
    {
     "name": "stdout",
     "output_type": "stream",
     "text": [
      "\r",
      "1/1 [==============================] - ETA: 0s - loss: 1.9425 - accuracy: 0.0000e+00"
     ]
    },
    {
     "name": "stderr",
     "output_type": "stream",
     "text": [
      "2024-01-13 23:46:13.125209: I tensorflow/core/common_runtime/executor.cc:1209] [/device:CPU:0] (DEBUG INFO) Executor start aborting (this does not indicate an error and you can ignore this message): INVALID_ARGUMENT: You must feed a value for placeholder tensor 'Placeholder/_0' with dtype string and shape [1]\n",
      "\t [[{{node Placeholder/_0}}]]\n",
      "2024-01-13 23:46:13.125466: I tensorflow/core/common_runtime/executor.cc:1209] [/device:CPU:0] (DEBUG INFO) Executor start aborting (this does not indicate an error and you can ignore this message): INVALID_ARGUMENT: You must feed a value for placeholder tensor 'Placeholder/_0' with dtype string and shape [1]\n",
      "\t [[{{node Placeholder/_0}}]]\n"
     ]
    },
    {
     "name": "stdout",
     "output_type": "stream",
     "text": [
      "\b\b\b\b\b\b\b\b\b\b\b\b\b\b\b\b\b\b\b\b\b\b\b\b\b\b\b\b\b\b\b\b\b\b\b\b\b\b\b\b\b\b\b\b\b\b\b\b\b\b\b\b\b\b\b\b\b\b\b\b\b\b\b\b\b\b\b\b\b\b\b\b\b\b\b\b\b\b\b\b\b\b\b\b\r",
      "1/1 [==============================] - 12s 12s/step - loss: 1.9425 - accuracy: 0.0000e+00 - val_loss: 1.9017 - val_accuracy: 0.0000e+00\n"
     ]
    }
   ],
   "source": [
    "history = model.fit(\n",
    "    train_dataset,\n",
    "    shuffle=True,\n",
    "    epochs=epochs,\n",
    "    steps_per_epoch=steps_per_epoch,\n",
    "    validation_data=validation_dataset,\n",
    "    validation_steps=validation_steps,\n",
    "    callbacks=callbacks,\n",
    ")"
   ]
  },
  {
   "cell_type": "code",
   "execution_count": 19,
   "id": "190f0aeb",
   "metadata": {},
   "outputs": [],
   "source": [
    "epochs = 128\n",
    "steps_per_epoch = 512\n",
    "validation_steps = 32\n",
    "test_steps = 32\n",
    "freeze_bert_layer = True\n",
    "learning_rate = 3e-5\n",
    "epsilon = 1e-08\n",
    "max_seq_length = 64"
   ]
  },
  {
   "cell_type": "code",
   "execution_count": 20,
   "id": "18a6b2d9",
   "metadata": {},
   "outputs": [
    {
     "name": "stdout",
     "output_type": "stream",
     "text": [
      "Epoch 1/128\n",
      "512/512 [==============================] - 203s 396ms/step - loss: 1.5800 - accuracy: 0.2651 - val_loss: 1.5341 - val_accuracy: 0.3477\n",
      "Epoch 2/128\n",
      "512/512 [==============================] - 200s 390ms/step - loss: 1.4791 - accuracy: 0.3494 - val_loss: 1.4540 - val_accuracy: 0.3555\n",
      "Epoch 3/128\n",
      "512/512 [==============================] - 200s 390ms/step - loss: 1.3878 - accuracy: 0.3831 - val_loss: 1.3829 - val_accuracy: 0.3516\n",
      "Epoch 4/128\n",
      "512/512 [==============================] - 200s 391ms/step - loss: 1.3393 - accuracy: 0.3994 - val_loss: 1.3304 - val_accuracy: 0.4102\n",
      "Epoch 5/128\n",
      "512/512 [==============================] - 199s 390ms/step - loss: 1.3117 - accuracy: 0.4128 - val_loss: 1.2990 - val_accuracy: 0.4258\n",
      "Epoch 6/128\n",
      "512/512 [==============================] - 200s 390ms/step - loss: 1.3085 - accuracy: 0.4192 - val_loss: 1.2906 - val_accuracy: 0.4180\n",
      "Epoch 7/128\n",
      "512/512 [==============================] - 200s 391ms/step - loss: 1.2801 - accuracy: 0.4299 - val_loss: 1.2686 - val_accuracy: 0.4297\n",
      "Epoch 8/128\n",
      "512/512 [==============================] - 203s 397ms/step - loss: 1.2740 - accuracy: 0.4355 - val_loss: 1.2687 - val_accuracy: 0.4375\n",
      "Epoch 9/128\n",
      "512/512 [==============================] - 201s 393ms/step - loss: 1.2719 - accuracy: 0.4377 - val_loss: 1.2577 - val_accuracy: 0.4688\n",
      "Epoch 10/128\n",
      "512/512 [==============================] - 203s 395ms/step - loss: 1.2682 - accuracy: 0.4326 - val_loss: 1.2507 - val_accuracy: 0.4531\n",
      "Epoch 11/128\n",
      "512/512 [==============================] - 201s 393ms/step - loss: 1.2612 - accuracy: 0.4390 - val_loss: 1.2396 - val_accuracy: 0.4844\n",
      "Epoch 12/128\n",
      "512/512 [==============================] - 202s 394ms/step - loss: 1.2275 - accuracy: 0.4600 - val_loss: 1.2333 - val_accuracy: 0.4844\n",
      "Epoch 13/128\n",
      "512/512 [==============================] - 200s 391ms/step - loss: 1.2425 - accuracy: 0.4595 - val_loss: 1.2256 - val_accuracy: 0.4961\n",
      "Epoch 14/128\n",
      "512/512 [==============================] - 203s 397ms/step - loss: 1.2395 - accuracy: 0.4478 - val_loss: 1.2266 - val_accuracy: 0.4922\n",
      "Epoch 15/128\n",
      "512/512 [==============================] - 200s 390ms/step - loss: 1.2415 - accuracy: 0.4495 - val_loss: 1.2286 - val_accuracy: 0.4570\n",
      "Epoch 16/128\n",
      "512/512 [==============================] - 198s 388ms/step - loss: 1.2291 - accuracy: 0.4490 - val_loss: 1.2174 - val_accuracy: 0.5000\n",
      "Epoch 17/128\n",
      "512/512 [==============================] - 200s 391ms/step - loss: 1.2491 - accuracy: 0.4521 - val_loss: 1.2104 - val_accuracy: 0.4844\n",
      "Epoch 18/128\n",
      "512/512 [==============================] - 201s 392ms/step - loss: 1.2296 - accuracy: 0.4636 - val_loss: 1.2100 - val_accuracy: 0.4883\n",
      "Epoch 19/128\n",
      "512/512 [==============================] - 200s 391ms/step - loss: 1.1955 - accuracy: 0.4763 - val_loss: 1.1999 - val_accuracy: 0.4688\n",
      "Epoch 20/128\n",
      "512/512 [==============================] - 201s 392ms/step - loss: 1.2323 - accuracy: 0.4521 - val_loss: 1.2011 - val_accuracy: 0.5039\n",
      "Epoch 21/128\n",
      "512/512 [==============================] - 200s 391ms/step - loss: 1.2329 - accuracy: 0.4580 - val_loss: 1.1973 - val_accuracy: 0.4961\n",
      "Epoch 22/128\n",
      "512/512 [==============================] - 199s 389ms/step - loss: 1.2052 - accuracy: 0.4612 - val_loss: 1.2097 - val_accuracy: 0.4883\n",
      "Epoch 23/128\n",
      "512/512 [==============================] - 199s 388ms/step - loss: 1.2284 - accuracy: 0.4556 - val_loss: 1.2052 - val_accuracy: 0.4844\n",
      "Epoch 24/128\n",
      "512/512 [==============================] - 200s 391ms/step - loss: 1.2151 - accuracy: 0.4568 - val_loss: 1.1945 - val_accuracy: 0.5000\n",
      "Epoch 25/128\n",
      "512/512 [==============================] - 198s 387ms/step - loss: 1.1986 - accuracy: 0.4795 - val_loss: 1.1837 - val_accuracy: 0.5156\n",
      "Epoch 26/128\n",
      "512/512 [==============================] - 196s 383ms/step - loss: 1.2110 - accuracy: 0.4778 - val_loss: 1.1809 - val_accuracy: 0.4961\n",
      "Epoch 27/128\n",
      "512/512 [==============================] - 200s 390ms/step - loss: 1.1970 - accuracy: 0.4727 - val_loss: 1.1819 - val_accuracy: 0.5078\n",
      "Epoch 28/128\n",
      "512/512 [==============================] - 199s 388ms/step - loss: 1.2022 - accuracy: 0.4668 - val_loss: 1.1888 - val_accuracy: 0.5039\n",
      "Epoch 29/128\n",
      "512/512 [==============================] - 202s 395ms/step - loss: 1.1821 - accuracy: 0.4814 - val_loss: 1.1955 - val_accuracy: 0.5078\n",
      "Epoch 30/128\n",
      "512/512 [==============================] - 198s 387ms/step - loss: 1.1964 - accuracy: 0.4717 - val_loss: 1.1868 - val_accuracy: 0.5039\n",
      "Epoch 31/128\n",
      "512/512 [==============================] - 197s 384ms/step - loss: 1.2137 - accuracy: 0.4648 - val_loss: 1.1896 - val_accuracy: 0.5078\n",
      "Epoch 32/128\n",
      "512/512 [==============================] - 199s 389ms/step - loss: 1.1975 - accuracy: 0.4751 - val_loss: 1.1960 - val_accuracy: 0.4766\n",
      "Epoch 33/128\n",
      "512/512 [==============================] - 200s 391ms/step - loss: 1.1868 - accuracy: 0.4883 - val_loss: 1.1850 - val_accuracy: 0.5117\n",
      "Epoch 34/128\n",
      "512/512 [==============================] - 197s 386ms/step - loss: 1.1889 - accuracy: 0.4792 - val_loss: 1.1854 - val_accuracy: 0.5078\n",
      "Epoch 35/128\n",
      "512/512 [==============================] - 197s 386ms/step - loss: 1.1999 - accuracy: 0.4619 - val_loss: 1.1796 - val_accuracy: 0.5078\n",
      "Epoch 36/128\n",
      "512/512 [==============================] - 201s 393ms/step - loss: 1.2089 - accuracy: 0.4702 - val_loss: 1.1750 - val_accuracy: 0.5234\n",
      "Epoch 37/128\n",
      "512/512 [==============================] - 199s 388ms/step - loss: 1.1909 - accuracy: 0.4741 - val_loss: 1.1829 - val_accuracy: 0.5039\n",
      "Epoch 38/128\n",
      "512/512 [==============================] - 199s 388ms/step - loss: 1.2076 - accuracy: 0.4790 - val_loss: 1.1836 - val_accuracy: 0.4883\n",
      "Epoch 39/128\n",
      "512/512 [==============================] - 201s 392ms/step - loss: 1.1911 - accuracy: 0.4797 - val_loss: 1.1695 - val_accuracy: 0.5078\n",
      "Epoch 40/128\n",
      "512/512 [==============================] - 198s 388ms/step - loss: 1.1883 - accuracy: 0.4744 - val_loss: 1.1718 - val_accuracy: 0.5078\n",
      "Epoch 41/128\n",
      "512/512 [==============================] - 203s 396ms/step - loss: 1.1725 - accuracy: 0.4878 - val_loss: 1.1700 - val_accuracy: 0.5156\n",
      "Epoch 42/128\n",
      "512/512 [==============================] - 201s 392ms/step - loss: 1.1888 - accuracy: 0.4771 - val_loss: 1.1643 - val_accuracy: 0.5234\n",
      "Epoch 43/128\n",
      "512/512 [==============================] - 199s 389ms/step - loss: 1.1770 - accuracy: 0.4795 - val_loss: 1.1623 - val_accuracy: 0.5195\n",
      "Epoch 44/128\n",
      "512/512 [==============================] - 199s 389ms/step - loss: 1.1816 - accuracy: 0.4827 - val_loss: 1.1625 - val_accuracy: 0.5117\n",
      "Epoch 45/128\n",
      "512/512 [==============================] - 197s 386ms/step - loss: 1.1837 - accuracy: 0.4810 - val_loss: 1.1666 - val_accuracy: 0.5078\n",
      "Epoch 46/128\n",
      "512/512 [==============================] - 199s 389ms/step - loss: 1.1781 - accuracy: 0.4856 - val_loss: 1.1537 - val_accuracy: 0.5195\n",
      "Epoch 47/128\n",
      "512/512 [==============================] - 197s 385ms/step - loss: 1.1612 - accuracy: 0.4792 - val_loss: 1.1700 - val_accuracy: 0.5000\n",
      "Epoch 48/128\n",
      "512/512 [==============================] - 200s 391ms/step - loss: 1.1729 - accuracy: 0.4912 - val_loss: 1.1603 - val_accuracy: 0.5078\n",
      "Epoch 49/128\n",
      "512/512 [==============================] - 198s 386ms/step - loss: 1.1849 - accuracy: 0.4868 - val_loss: 1.1593 - val_accuracy: 0.5078\n",
      "Epoch 50/128\n",
      "512/512 [==============================] - 200s 390ms/step - loss: 1.1631 - accuracy: 0.4861 - val_loss: 1.1530 - val_accuracy: 0.5312\n",
      "Epoch 51/128\n",
      "512/512 [==============================] - 200s 390ms/step - loss: 1.1792 - accuracy: 0.4719 - val_loss: 1.1533 - val_accuracy: 0.5156\n",
      "Epoch 52/128\n",
      "512/512 [==============================] - 203s 396ms/step - loss: 1.1743 - accuracy: 0.4858 - val_loss: 1.1484 - val_accuracy: 0.5234\n",
      "Epoch 53/128\n",
      "512/512 [==============================] - 202s 394ms/step - loss: 1.1889 - accuracy: 0.4863 - val_loss: 1.1526 - val_accuracy: 0.5078\n",
      "Epoch 54/128\n",
      "512/512 [==============================] - 198s 387ms/step - loss: 1.1702 - accuracy: 0.4836 - val_loss: 1.1547 - val_accuracy: 0.5156\n",
      "Epoch 55/128\n",
      "512/512 [==============================] - 199s 388ms/step - loss: 1.1715 - accuracy: 0.5007 - val_loss: 1.1555 - val_accuracy: 0.5234\n",
      "Epoch 56/128\n",
      "512/512 [==============================] - 197s 385ms/step - loss: 1.1612 - accuracy: 0.4880 - val_loss: 1.1505 - val_accuracy: 0.4961\n",
      "Epoch 57/128\n",
      "512/512 [==============================] - 195s 381ms/step - loss: 1.1631 - accuracy: 0.4993 - val_loss: 1.1509 - val_accuracy: 0.5117\n",
      "Epoch 58/128\n",
      "512/512 [==============================] - 194s 378ms/step - loss: 1.1622 - accuracy: 0.4993 - val_loss: 1.1502 - val_accuracy: 0.4961\n",
      "Epoch 59/128\n",
      "512/512 [==============================] - 193s 376ms/step - loss: 1.1593 - accuracy: 0.4915 - val_loss: 1.1464 - val_accuracy: 0.5039\n",
      "Epoch 60/128\n",
      "512/512 [==============================] - 193s 378ms/step - loss: 1.1693 - accuracy: 0.4771 - val_loss: 1.1397 - val_accuracy: 0.4961\n",
      "Epoch 61/128\n",
      "512/512 [==============================] - 194s 379ms/step - loss: 1.1476 - accuracy: 0.4937 - val_loss: 1.1382 - val_accuracy: 0.5195\n",
      "Epoch 62/128\n",
      "512/512 [==============================] - 192s 374ms/step - loss: 1.1543 - accuracy: 0.4946 - val_loss: 1.1360 - val_accuracy: 0.5078\n",
      "Epoch 63/128\n",
      "512/512 [==============================] - 199s 388ms/step - loss: 1.1490 - accuracy: 0.4983 - val_loss: 1.1322 - val_accuracy: 0.5156\n",
      "Epoch 64/128\n",
      "512/512 [==============================] - 198s 388ms/step - loss: 1.1517 - accuracy: 0.4978 - val_loss: 1.1370 - val_accuracy: 0.5234\n",
      "Epoch 65/128\n",
      "512/512 [==============================] - 200s 390ms/step - loss: 1.1628 - accuracy: 0.4866 - val_loss: 1.1273 - val_accuracy: 0.5195\n",
      "Epoch 66/128\n",
      "512/512 [==============================] - 201s 393ms/step - loss: 1.1607 - accuracy: 0.4839 - val_loss: 1.1388 - val_accuracy: 0.5273\n",
      "Epoch 67/128\n",
      "512/512 [==============================] - 198s 387ms/step - loss: 1.1448 - accuracy: 0.4993 - val_loss: 1.1392 - val_accuracy: 0.5039\n",
      "Epoch 68/128\n",
      "512/512 [==============================] - 201s 392ms/step - loss: 1.1577 - accuracy: 0.4910 - val_loss: 1.1347 - val_accuracy: 0.5156\n",
      "Epoch 69/128\n",
      "512/512 [==============================] - 201s 392ms/step - loss: 1.1485 - accuracy: 0.4941 - val_loss: 1.1292 - val_accuracy: 0.5234\n",
      "Epoch 70/128\n",
      "512/512 [==============================] - 199s 389ms/step - loss: 1.1671 - accuracy: 0.4929 - val_loss: 1.1287 - val_accuracy: 0.5273\n",
      "Epoch 71/128\n",
      "512/512 [==============================] - 200s 390ms/step - loss: 1.1634 - accuracy: 0.4919 - val_loss: 1.1284 - val_accuracy: 0.5273\n",
      "Epoch 72/128\n",
      "512/512 [==============================] - 200s 392ms/step - loss: 1.1505 - accuracy: 0.5002 - val_loss: 1.1351 - val_accuracy: 0.5352\n",
      "Epoch 73/128\n",
      "512/512 [==============================] - 198s 387ms/step - loss: 1.1488 - accuracy: 0.5042 - val_loss: 1.1310 - val_accuracy: 0.5352\n",
      "Epoch 74/128\n",
      "512/512 [==============================] - 201s 393ms/step - loss: 1.1660 - accuracy: 0.4924 - val_loss: 1.1270 - val_accuracy: 0.5391\n",
      "Epoch 75/128\n",
      "512/512 [==============================] - 200s 390ms/step - loss: 1.1500 - accuracy: 0.4905 - val_loss: 1.1241 - val_accuracy: 0.5195\n",
      "Epoch 76/128\n",
      "512/512 [==============================] - 200s 390ms/step - loss: 1.1662 - accuracy: 0.4890 - val_loss: 1.1243 - val_accuracy: 0.5078\n",
      "Epoch 77/128\n",
      "512/512 [==============================] - 200s 390ms/step - loss: 1.1541 - accuracy: 0.4966 - val_loss: 1.1256 - val_accuracy: 0.5156\n",
      "Epoch 78/128\n",
      "512/512 [==============================] - 200s 391ms/step - loss: 1.1619 - accuracy: 0.4885 - val_loss: 1.1167 - val_accuracy: 0.5312\n",
      "Epoch 79/128\n",
      "512/512 [==============================] - 198s 386ms/step - loss: 1.1630 - accuracy: 0.4878 - val_loss: 1.1146 - val_accuracy: 0.5312\n",
      "Epoch 80/128\n",
      "512/512 [==============================] - 201s 393ms/step - loss: 1.1404 - accuracy: 0.5012 - val_loss: 1.1209 - val_accuracy: 0.5234\n",
      "Epoch 81/128\n",
      "512/512 [==============================] - 201s 392ms/step - loss: 1.1556 - accuracy: 0.4922 - val_loss: 1.1187 - val_accuracy: 0.5195\n",
      "Epoch 82/128\n",
      "512/512 [==============================] - 197s 385ms/step - loss: 1.1603 - accuracy: 0.4844 - val_loss: 1.1156 - val_accuracy: 0.5273\n",
      "Epoch 83/128\n",
      "512/512 [==============================] - 199s 388ms/step - loss: 1.1564 - accuracy: 0.4971 - val_loss: 1.1174 - val_accuracy: 0.5391\n",
      "Epoch 84/128\n",
      "512/512 [==============================] - 203s 397ms/step - loss: 1.1588 - accuracy: 0.5078 - val_loss: 1.1119 - val_accuracy: 0.5000\n",
      "Epoch 85/128\n",
      "512/512 [==============================] - 199s 388ms/step - loss: 1.1516 - accuracy: 0.4900 - val_loss: 1.1155 - val_accuracy: 0.5078\n",
      "Epoch 86/128\n",
      "512/512 [==============================] - 202s 395ms/step - loss: 1.1660 - accuracy: 0.4790 - val_loss: 1.1200 - val_accuracy: 0.5195\n",
      "Epoch 87/128\n",
      "512/512 [==============================] - 200s 390ms/step - loss: 1.1464 - accuracy: 0.4993 - val_loss: 1.1075 - val_accuracy: 0.4961\n",
      "Epoch 88/128\n",
      "512/512 [==============================] - 199s 389ms/step - loss: 1.1508 - accuracy: 0.5073 - val_loss: 1.1100 - val_accuracy: 0.5469\n",
      "Epoch 89/128\n",
      "512/512 [==============================] - 199s 390ms/step - loss: 1.1666 - accuracy: 0.4980 - val_loss: 1.1081 - val_accuracy: 0.5312\n",
      "Epoch 90/128\n",
      "512/512 [==============================] - 200s 392ms/step - loss: 1.1550 - accuracy: 0.4980 - val_loss: 1.1065 - val_accuracy: 0.5273\n",
      "Epoch 91/128\n",
      "512/512 [==============================] - 200s 391ms/step - loss: 1.1479 - accuracy: 0.4807 - val_loss: 1.1056 - val_accuracy: 0.5352\n",
      "Epoch 92/128\n",
      "512/512 [==============================] - 199s 389ms/step - loss: 1.1363 - accuracy: 0.5005 - val_loss: 1.1039 - val_accuracy: 0.5078\n",
      "Epoch 93/128\n",
      "512/512 [==============================] - 200s 390ms/step - loss: 1.1547 - accuracy: 0.4927 - val_loss: 1.1137 - val_accuracy: 0.5117\n",
      "Epoch 94/128\n",
      "512/512 [==============================] - 197s 386ms/step - loss: 1.1451 - accuracy: 0.4951 - val_loss: 1.1116 - val_accuracy: 0.5156\n",
      "Epoch 95/128\n",
      "512/512 [==============================] - 200s 392ms/step - loss: 1.1542 - accuracy: 0.4851 - val_loss: 1.1113 - val_accuracy: 0.5312\n",
      "Epoch 96/128\n",
      "512/512 [==============================] - 201s 392ms/step - loss: 1.1587 - accuracy: 0.5024 - val_loss: 1.1033 - val_accuracy: 0.5273\n",
      "Epoch 97/128\n",
      "512/512 [==============================] - 200s 391ms/step - loss: 1.1349 - accuracy: 0.4973 - val_loss: 1.1013 - val_accuracy: 0.5195\n",
      "Epoch 98/128\n",
      "512/512 [==============================] - 202s 394ms/step - loss: 1.1248 - accuracy: 0.4963 - val_loss: 1.0997 - val_accuracy: 0.5156\n",
      "Epoch 99/128\n",
      "512/512 [==============================] - 199s 390ms/step - loss: 1.1269 - accuracy: 0.5034 - val_loss: 1.1014 - val_accuracy: 0.5352\n",
      "Epoch 100/128\n",
      "512/512 [==============================] - 199s 389ms/step - loss: 1.1469 - accuracy: 0.5042 - val_loss: 1.1016 - val_accuracy: 0.5273\n",
      "Epoch 101/128\n",
      "512/512 [==============================] - 198s 387ms/step - loss: 1.1461 - accuracy: 0.4988 - val_loss: 1.1071 - val_accuracy: 0.5195\n",
      "Epoch 102/128\n",
      "512/512 [==============================] - 204s 398ms/step - loss: 1.1375 - accuracy: 0.5059 - val_loss: 1.1100 - val_accuracy: 0.5156\n",
      "Epoch 103/128\n",
      "512/512 [==============================] - 199s 389ms/step - loss: 1.1249 - accuracy: 0.5032 - val_loss: 1.1033 - val_accuracy: 0.5078\n",
      "Epoch 104/128\n",
      "512/512 [==============================] - 201s 393ms/step - loss: 1.1176 - accuracy: 0.5100 - val_loss: 1.1065 - val_accuracy: 0.5352\n",
      "Epoch 105/128\n",
      "512/512 [==============================] - 201s 392ms/step - loss: 1.1370 - accuracy: 0.5115 - val_loss: 1.1027 - val_accuracy: 0.5195\n",
      "Epoch 106/128\n",
      "512/512 [==============================] - 200s 391ms/step - loss: 1.1332 - accuracy: 0.5017 - val_loss: 1.1183 - val_accuracy: 0.5312\n",
      "Epoch 107/128\n",
      "512/512 [==============================] - 201s 392ms/step - loss: 1.1341 - accuracy: 0.5032 - val_loss: 1.1029 - val_accuracy: 0.5195\n",
      "Epoch 108/128\n",
      "512/512 [==============================] - 202s 395ms/step - loss: 1.1262 - accuracy: 0.5100 - val_loss: 1.0974 - val_accuracy: 0.5273\n",
      "Epoch 109/128\n",
      "512/512 [==============================] - 201s 393ms/step - loss: 1.1347 - accuracy: 0.4980 - val_loss: 1.0985 - val_accuracy: 0.5195\n",
      "Epoch 110/128\n",
      "512/512 [==============================] - 201s 393ms/step - loss: 1.1407 - accuracy: 0.4902 - val_loss: 1.0968 - val_accuracy: 0.5430\n",
      "Epoch 111/128\n"
     ]
    },
    {
     "name": "stdout",
     "output_type": "stream",
     "text": [
      "512/512 [==============================] - 196s 383ms/step - loss: 1.1144 - accuracy: 0.5134 - val_loss: 1.0962 - val_accuracy: 0.5312\n",
      "Epoch 112/128\n",
      "512/512 [==============================] - 198s 386ms/step - loss: 1.1343 - accuracy: 0.5159 - val_loss: 1.1000 - val_accuracy: 0.5117\n",
      "Epoch 113/128\n",
      "512/512 [==============================] - 199s 388ms/step - loss: 1.1324 - accuracy: 0.4915 - val_loss: 1.1015 - val_accuracy: 0.5430\n",
      "Epoch 114/128\n",
      "512/512 [==============================] - 199s 389ms/step - loss: 1.1471 - accuracy: 0.4866 - val_loss: 1.0880 - val_accuracy: 0.5195\n",
      "Epoch 115/128\n",
      "512/512 [==============================] - 198s 386ms/step - loss: 1.1312 - accuracy: 0.5059 - val_loss: 1.1056 - val_accuracy: 0.5508\n",
      "Epoch 116/128\n",
      "512/512 [==============================] - 197s 384ms/step - loss: 1.1302 - accuracy: 0.5093 - val_loss: 1.0945 - val_accuracy: 0.5195\n",
      "Epoch 117/128\n",
      "512/512 [==============================] - 200s 390ms/step - loss: 1.1253 - accuracy: 0.5024 - val_loss: 1.0976 - val_accuracy: 0.5195\n",
      "Epoch 118/128\n",
      "512/512 [==============================] - 198s 386ms/step - loss: 1.1416 - accuracy: 0.4978 - val_loss: 1.0931 - val_accuracy: 0.5586\n",
      "Epoch 119/128\n",
      "512/512 [==============================] - 198s 387ms/step - loss: 1.1225 - accuracy: 0.5183 - val_loss: 1.0890 - val_accuracy: 0.5117\n",
      "Epoch 120/128\n",
      "512/512 [==============================] - 202s 395ms/step - loss: 1.1150 - accuracy: 0.5188 - val_loss: 1.0746 - val_accuracy: 0.5469\n",
      "Epoch 121/128\n",
      "512/512 [==============================] - 201s 393ms/step - loss: 1.1353 - accuracy: 0.4971 - val_loss: 1.0814 - val_accuracy: 0.5273\n",
      "Epoch 122/128\n",
      "512/512 [==============================] - 201s 393ms/step - loss: 1.1494 - accuracy: 0.4958 - val_loss: 1.0887 - val_accuracy: 0.5469\n",
      "Epoch 123/128\n",
      "512/512 [==============================] - 203s 396ms/step - loss: 1.1262 - accuracy: 0.5122 - val_loss: 1.0858 - val_accuracy: 0.5391\n",
      "Epoch 124/128\n",
      "512/512 [==============================] - 198s 388ms/step - loss: 1.1223 - accuracy: 0.5063 - val_loss: 1.0839 - val_accuracy: 0.5156\n",
      "Epoch 125/128\n",
      "512/512 [==============================] - 201s 392ms/step - loss: 1.1069 - accuracy: 0.5115 - val_loss: 1.0843 - val_accuracy: 0.5352\n",
      "Epoch 126/128\n",
      "512/512 [==============================] - 200s 390ms/step - loss: 1.0947 - accuracy: 0.5298 - val_loss: 1.0825 - val_accuracy: 0.5508\n",
      "Epoch 127/128\n",
      "512/512 [==============================] - 212s 414ms/step - loss: 1.1468 - accuracy: 0.4976 - val_loss: 1.0898 - val_accuracy: 0.5469\n",
      "Epoch 128/128\n",
      "512/512 [==============================] - 202s 395ms/step - loss: 1.1201 - accuracy: 0.5146 - val_loss: 1.0861 - val_accuracy: 0.5234\n"
     ]
    }
   ],
   "source": [
    "history = model.fit(\n",
    "    train_dataset,\n",
    "    shuffle=True,\n",
    "    epochs=epochs,\n",
    "    steps_per_epoch=steps_per_epoch,\n",
    "    validation_data=validation_dataset,\n",
    "    validation_steps=validation_steps,\n",
    "    callbacks=callbacks,\n",
    ")"
   ]
  },
  {
   "cell_type": "code",
   "execution_count": 21,
   "id": "b484b48f",
   "metadata": {
    "scrolled": true
   },
   "outputs": [
    {
     "name": "stdout",
     "output_type": "stream",
     "text": [
      "{'loss': [1.5800129175186157, 1.4791240692138672, 1.387776494026184, 1.3393380641937256, 1.3117406368255615, 1.3085341453552246, 1.2801347970962524, 1.2739921808242798, 1.2719078063964844, 1.2681957483291626, 1.2612495422363281, 1.22745943069458, 1.2424509525299072, 1.2394601106643677, 1.2415084838867188, 1.2290533781051636, 1.2491153478622437, 1.2295960187911987, 1.1955138444900513, 1.2322630882263184, 1.232860803604126, 1.2052092552185059, 1.2284129858016968, 1.2151345014572144, 1.1985766887664795, 1.2109590768814087, 1.196954607963562, 1.202168345451355, 1.1821136474609375, 1.1963516473770142, 1.213700771331787, 1.1974735260009766, 1.1867793798446655, 1.18890380859375, 1.1999249458312988, 1.2088550329208374, 1.19089674949646, 1.207588791847229, 1.1910665035247803, 1.1883341073989868, 1.1725012063980103, 1.1887664794921875, 1.1769652366638184, 1.1815632581710815, 1.1837120056152344, 1.178061842918396, 1.161159873008728, 1.1728768348693848, 1.1848994493484497, 1.1631048917770386, 1.1792359352111816, 1.1742582321166992, 1.1888614892959595, 1.1701858043670654, 1.17152738571167, 1.1612271070480347, 1.1631280183792114, 1.1622148752212524, 1.1592726707458496, 1.1692639589309692, 1.1476060152053833, 1.1542737483978271, 1.1490379571914673, 1.1517236232757568, 1.1628162860870361, 1.1607224941253662, 1.1448321342468262, 1.1577470302581787, 1.1485443115234375, 1.1671180725097656, 1.1634256839752197, 1.150511622428894, 1.1488484144210815, 1.1660016775131226, 1.1499645709991455, 1.1661850214004517, 1.1540954113006592, 1.161945104598999, 1.162980079650879, 1.1404069662094116, 1.1555731296539307, 1.1603282690048218, 1.1564016342163086, 1.1588393449783325, 1.1516324281692505, 1.1660382747650146, 1.1463606357574463, 1.150750994682312, 1.1666299104690552, 1.1550344228744507, 1.1479438543319702, 1.1362553834915161, 1.1546683311462402, 1.1451317071914673, 1.1542205810546875, 1.1586812734603882, 1.1348693370819092, 1.1247656345367432, 1.1268527507781982, 1.146930456161499, 1.1460936069488525, 1.137460708618164, 1.1249414682388306, 1.1176202297210693, 1.137020468711853, 1.1331902742385864, 1.1341454982757568, 1.1262342929840088, 1.1347036361694336, 1.140707015991211, 1.114383339881897, 1.1343101263046265, 1.1323521137237549, 1.1470706462860107, 1.1312487125396729, 1.1302329301834106, 1.1252870559692383, 1.1416159868240356, 1.1224689483642578, 1.1150270700454712, 1.1353360414505005, 1.1494393348693848, 1.1261799335479736, 1.1222820281982422, 1.1069129705429077, 1.0947153568267822, 1.146761417388916, 1.120124101638794], 'accuracy': [0.26513671875, 0.349365234375, 0.383056640625, 0.3994140625, 0.412841796875, 0.419189453125, 0.429931640625, 0.435546875, 0.437744140625, 0.4326171875, 0.43896484375, 0.4599609375, 0.45947265625, 0.44775390625, 0.449462890625, 0.448974609375, 0.4521484375, 0.463623046875, 0.476318359375, 0.4521484375, 0.4580078125, 0.461181640625, 0.45556640625, 0.456787109375, 0.4794921875, 0.477783203125, 0.47265625, 0.466796875, 0.4814453125, 0.4716796875, 0.46484375, 0.47509765625, 0.48828125, 0.479248046875, 0.4619140625, 0.47021484375, 0.47412109375, 0.47900390625, 0.479736328125, 0.474365234375, 0.48779296875, 0.47705078125, 0.4794921875, 0.482666015625, 0.48095703125, 0.485595703125, 0.479248046875, 0.4912109375, 0.48681640625, 0.486083984375, 0.471923828125, 0.48583984375, 0.486328125, 0.483642578125, 0.500732421875, 0.488037109375, 0.499267578125, 0.499267578125, 0.491455078125, 0.47705078125, 0.49365234375, 0.49462890625, 0.498291015625, 0.497802734375, 0.486572265625, 0.48388671875, 0.499267578125, 0.490966796875, 0.494140625, 0.492919921875, 0.491943359375, 0.500244140625, 0.504150390625, 0.492431640625, 0.490478515625, 0.489013671875, 0.49658203125, 0.488525390625, 0.48779296875, 0.501220703125, 0.4921875, 0.484375, 0.4970703125, 0.5078125, 0.489990234375, 0.47900390625, 0.499267578125, 0.50732421875, 0.498046875, 0.498046875, 0.480712890625, 0.50048828125, 0.49267578125, 0.4951171875, 0.485107421875, 0.50244140625, 0.497314453125, 0.496337890625, 0.50341796875, 0.504150390625, 0.498779296875, 0.505859375, 0.503173828125, 0.510009765625, 0.511474609375, 0.501708984375, 0.503173828125, 0.510009765625, 0.498046875, 0.490234375, 0.513427734375, 0.515869140625, 0.491455078125, 0.486572265625, 0.505859375, 0.50927734375, 0.50244140625, 0.497802734375, 0.518310546875, 0.518798828125, 0.4970703125, 0.495849609375, 0.51220703125, 0.50634765625, 0.511474609375, 0.52978515625, 0.49755859375, 0.5146484375], 'val_loss': [1.5340604782104492, 1.4539967775344849, 1.3829206228256226, 1.3303678035736084, 1.2989912033081055, 1.2905741930007935, 1.2685962915420532, 1.2687318325042725, 1.2576812505722046, 1.250738501548767, 1.2395528554916382, 1.2333402633666992, 1.2255516052246094, 1.2265956401824951, 1.2285889387130737, 1.217435598373413, 1.2103854417800903, 1.2099863290786743, 1.1999061107635498, 1.2010878324508667, 1.1973029375076294, 1.2096813917160034, 1.2051862478256226, 1.194481611251831, 1.1836715936660767, 1.180908203125, 1.1819071769714355, 1.1887630224227905, 1.1955301761627197, 1.1868098974227905, 1.189600944519043, 1.1959924697875977, 1.185036540031433, 1.185389518737793, 1.1796027421951294, 1.1750268936157227, 1.1829204559326172, 1.1836355924606323, 1.1694519519805908, 1.1717618703842163, 1.1699656248092651, 1.1642504930496216, 1.1623153686523438, 1.1624677181243896, 1.1666231155395508, 1.1536617279052734, 1.1700071096420288, 1.1603200435638428, 1.1593210697174072, 1.1529508829116821, 1.153272271156311, 1.1483579874038696, 1.1525602340698242, 1.154722809791565, 1.1554722785949707, 1.1505385637283325, 1.1508969068527222, 1.1501675844192505, 1.146425485610962, 1.1396995782852173, 1.1382230520248413, 1.1360399723052979, 1.1322002410888672, 1.1369726657867432, 1.1273012161254883, 1.1387901306152344, 1.13917076587677, 1.1346650123596191, 1.1292133331298828, 1.128736972808838, 1.1283782720565796, 1.1350849866867065, 1.1310391426086426, 1.1270420551300049, 1.1240793466567993, 1.1243115663528442, 1.125612735748291, 1.1166945695877075, 1.114561676979065, 1.1208592653274536, 1.1187161207199097, 1.115622878074646, 1.1174299716949463, 1.1119056940078735, 1.1155036687850952, 1.1200329065322876, 1.1075361967086792, 1.1100103855133057, 1.1081172227859497, 1.106476902961731, 1.1055630445480347, 1.103873610496521, 1.11371648311615, 1.1116231679916382, 1.111311674118042, 1.1033142805099487, 1.1012636423110962, 1.0996500253677368, 1.1013708114624023, 1.1016414165496826, 1.1070717573165894, 1.1100045442581177, 1.103318214416504, 1.1064766645431519, 1.102696418762207, 1.1183085441589355, 1.1029186248779297, 1.0974371433258057, 1.098467230796814, 1.0967516899108887, 1.0962430238723755, 1.0999846458435059, 1.1014541387557983, 1.087964415550232, 1.1056127548217773, 1.094457983970642, 1.0975983142852783, 1.093119502067566, 1.0890419483184814, 1.0745617151260376, 1.0814450979232788, 1.0887020826339722, 1.085820198059082, 1.0838851928710938, 1.0842921733856201, 1.082529067993164, 1.0898470878601074, 1.0860987901687622], 'val_accuracy': [0.34765625, 0.35546875, 0.3515625, 0.41015625, 0.42578125, 0.41796875, 0.4296875, 0.4375, 0.46875, 0.453125, 0.484375, 0.484375, 0.49609375, 0.4921875, 0.45703125, 0.5, 0.484375, 0.48828125, 0.46875, 0.50390625, 0.49609375, 0.48828125, 0.484375, 0.5, 0.515625, 0.49609375, 0.5078125, 0.50390625, 0.5078125, 0.50390625, 0.5078125, 0.4765625, 0.51171875, 0.5078125, 0.5078125, 0.5234375, 0.50390625, 0.48828125, 0.5078125, 0.5078125, 0.515625, 0.5234375, 0.51953125, 0.51171875, 0.5078125, 0.51953125, 0.5, 0.5078125, 0.5078125, 0.53125, 0.515625, 0.5234375, 0.5078125, 0.515625, 0.5234375, 0.49609375, 0.51171875, 0.49609375, 0.50390625, 0.49609375, 0.51953125, 0.5078125, 0.515625, 0.5234375, 0.51953125, 0.52734375, 0.50390625, 0.515625, 0.5234375, 0.52734375, 0.52734375, 0.53515625, 0.53515625, 0.5390625, 0.51953125, 0.5078125, 0.515625, 0.53125, 0.53125, 0.5234375, 0.51953125, 0.52734375, 0.5390625, 0.5, 0.5078125, 0.51953125, 0.49609375, 0.546875, 0.53125, 0.52734375, 0.53515625, 0.5078125, 0.51171875, 0.515625, 0.53125, 0.52734375, 0.51953125, 0.515625, 0.53515625, 0.52734375, 0.51953125, 0.515625, 0.5078125, 0.53515625, 0.51953125, 0.53125, 0.51953125, 0.52734375, 0.51953125, 0.54296875, 0.53125, 0.51171875, 0.54296875, 0.51953125, 0.55078125, 0.51953125, 0.51953125, 0.55859375, 0.51171875, 0.546875, 0.52734375, 0.546875, 0.5390625, 0.515625, 0.53515625, 0.55078125, 0.546875, 0.5234375]}\n"
     ]
    }
   ],
   "source": [
    "print(history.history)"
   ]
  },
  {
   "cell_type": "code",
   "execution_count": 22,
   "id": "94dfd7bf",
   "metadata": {},
   "outputs": [],
   "source": [
    "import pandas as pd\n",
    "import numpy as np\n",
    "\n",
    "from transformers import DistilBertTokenizer\n",
    "\n",
    "tokenizer = DistilBertTokenizer.from_pretrained('distilbert-base-uncased')\n",
    "\n",
    "def predict(text):\n",
    "    encode_plus_tokens = tokenizer.encode_plus(\n",
    "                            text,\n",
    "                            pad_to_max_length=True,\n",
    "                            max_length=max_seq_length,\n",
    "                            truncation=True,\n",
    "                            return_tensors='tf')\n",
    "    \n",
    "    input_ids = encode_plus_tokens['input_ids']\n",
    "    input_mask = encode_plus_tokens['attention_mask']\n",
    "    \n",
    "    outputs = model.predict(x=(input_ids,input_mask))\n",
    "    \n",
    "    prediction = [{\"label\":config.id2label[item.argmax()], \\\n",
    "                   \"socre\":item.max().item()} for item in outputs]\n",
    "\n",
    "    return prediction[0]"
   ]
  },
  {
   "cell_type": "code",
   "execution_count": 23,
   "id": "c20cb381",
   "metadata": {},
   "outputs": [],
   "source": [
    "# Adhoc predict"
   ]
  },
  {
   "cell_type": "code",
   "execution_count": 24,
   "id": "97132b6e",
   "metadata": {
    "scrolled": true
   },
   "outputs": [
    {
     "name": "stderr",
     "output_type": "stream",
     "text": [
      "/usr/local/lib/python3.10/dist-packages/transformers/tokenization_utils_base.py:2618: FutureWarning: The `pad_to_max_length` argument is deprecated and will be removed in a future version, use `padding=True` or `padding='longest'` to pad to the longest sequence in the batch, or use `padding='max_length'` to pad to a max length. In this case, you can give a specific length with `max_length` (e.g. `max_length=45`) or leave max_length to None to pad to the maximal input size of the model (e.g. 512 for Bert).\n",
      "  warnings.warn(\n"
     ]
    },
    {
     "name": "stdout",
     "output_type": "stream",
     "text": [
      "1/1 [==============================] - 2s 2s/step\n"
     ]
    },
    {
     "data": {
      "text/plain": [
       "{'label': 5, 'socre': 0.855778157711029}"
      ]
     },
     "execution_count": 24,
     "metadata": {},
     "output_type": "execute_result"
    }
   ],
   "source": [
    "predict(\"This is great!\")"
   ]
  },
  {
   "cell_type": "code",
   "execution_count": 25,
   "id": "eff5e8c7",
   "metadata": {},
   "outputs": [
    {
     "name": "stdout",
     "output_type": "stream",
     "text": [
      "1/1 [==============================] - 0s 71ms/step\n"
     ]
    },
    {
     "data": {
      "text/plain": [
       "{'label': 5, 'socre': 0.3878937065601349}"
      ]
     },
     "execution_count": 25,
     "metadata": {},
     "output_type": "execute_result"
    }
   ],
   "source": [
    "predict(\"This is cool.\")"
   ]
  },
  {
   "cell_type": "code",
   "execution_count": 26,
   "id": "233039e2",
   "metadata": {},
   "outputs": [
    {
     "name": "stdout",
     "output_type": "stream",
     "text": [
      "1/1 [==============================] - 0s 75ms/step\n"
     ]
    },
    {
     "data": {
      "text/plain": [
       "{'label': 1, 'socre': 0.4990326464176178}"
      ]
     },
     "execution_count": 26,
     "metadata": {},
     "output_type": "execute_result"
    }
   ],
   "source": [
    "predict(\"I don't like this.\")"
   ]
  },
  {
   "cell_type": "code",
   "execution_count": 27,
   "id": "f40ea7bb",
   "metadata": {},
   "outputs": [
    {
     "name": "stdout",
     "output_type": "stream",
     "text": [
      "1/1 [==============================] - 0s 74ms/step\n"
     ]
    },
    {
     "data": {
      "text/plain": [
       "{'label': 3, 'socre': 0.33516672253608704}"
      ]
     },
     "execution_count": 27,
     "metadata": {},
     "output_type": "execute_result"
    }
   ],
   "source": [
    "predict(\"I might buy it again.\")"
   ]
  },
  {
   "cell_type": "code",
   "execution_count": 28,
   "id": "ede03f87",
   "metadata": {},
   "outputs": [
    {
     "name": "stdout",
     "output_type": "stream",
     "text": [
      "1/1 [==============================] - 0s 85ms/step\n"
     ]
    },
    {
     "data": {
      "text/plain": [
       "{'label': 3, 'socre': 0.6050379872322083}"
      ]
     },
     "execution_count": 28,
     "metadata": {},
     "output_type": "execute_result"
    }
   ],
   "source": [
    "predict(\"The color is a little bit different from the picture. But it is OK.\")"
   ]
  },
  {
   "cell_type": "code",
   "execution_count": 29,
   "id": "e78f1209",
   "metadata": {},
   "outputs": [],
   "source": [
    "def plot_accracy(history):\n",
    "    import matplotlib.pyplot as plt\n",
    "\n",
    "    # Setting Parameters\n",
    "    acc = history.history['accuracy']\n",
    "    val_acc = history.history['val_accuracy']\n",
    "    loss = history.history['loss']\n",
    "    val_loss = history.history['val_loss']\n",
    "\n",
    "    epochs = range(len(acc))\n",
    "\n",
    "    # 1) Accracy Plt\n",
    "    plt.plot(epochs, acc, 'bo' ,label = 'training accuracy')\n",
    "    plt.plot(epochs, val_acc, 'b' , label= 'validation accuracy')\n",
    "    plt.title('Training and Validation acc')\n",
    "    plt.legend()\n",
    "\n",
    "    plt.figure()\n",
    "\n",
    "    # 2) Loss Plt\n",
    "    plt.plot(epochs, loss, 'bo' ,label = 'training loss')\n",
    "    plt.plot(epochs, val_loss, 'b' , label= 'validation loss')\n",
    "    plt.title('Training and Validation loss')\n",
    "    plt.legend()\n",
    "\n",
    "    plt.show()"
   ]
  },
  {
   "cell_type": "code",
   "execution_count": 30,
   "id": "b315f516",
   "metadata": {},
   "outputs": [
    {
     "data": {
      "image/png": "[encoded data removed]",
      "text/plain": [
       "<Figure size 640x480 with 1 Axes>"
      ]
     },
     "metadata": {},
     "output_type": "display_data"
    },
    {
     "data": {
      "image/png": "[encoded data removed]",
      "text/plain": [
       "<Figure size 640x480 with 1 Axes>"
      ]
     },
     "metadata": {},
     "output_type": "display_data"
    }
   ],
   "source": [
    "from keras import models \n",
    "from keras import layers\n",
    "from keras import optimizers\n",
    "\n",
    "#show Accuracy and Loss History\n",
    "#「loss」と「val_loss」の違いですが、「loss」は学習時のlossの値で、正解と予測の差分です。この値を少なくするように学習を進めます。\n",
    "#「val_loss」は検証用データでlossを計算した値です。\n",
    "# モデルは「loss」の値を少なくするように学習データを使用して学習を進めます。ただし学習データのみを使用して学習するため、学習データのみ \n",
    "# にあてはまり新たなデータでうまく予測できなくなる、いわゆるオーバーフィッティング状態になることがあります。\n",
    "# グラフ上では「loss」が下がっていくのに「val_loss」が上がってしまう状態です。\n",
    "plot_accracy(history)"
   ]
  },
  {
   "cell_type": "code",
   "execution_count": 47,
   "id": "c8243159",
   "metadata": {},
   "outputs": [
    {
     "name": "stdout",
     "output_type": "stream",
     "text": [
      "WARNING:tensorflow:Skipping full serialization of Keras layer <keras.layers.regularization.dropout.Dropout object at 0x7f8fa75cd960>, because it is not built.\n",
      "WARNING:tensorflow:Skipping full serialization of Keras layer <keras.layers.regularization.dropout.Dropout object at 0x7f8fa762a860>, because it is not built.\n",
      "WARNING:tensorflow:Skipping full serialization of Keras layer <keras.layers.regularization.dropout.Dropout object at 0x7f8fa0b39c30>, because it is not built.\n",
      "WARNING:tensorflow:Skipping full serialization of Keras layer <keras.layers.regularization.dropout.Dropout object at 0x7f8fa0b44880>, because it is not built.\n",
      "WARNING:tensorflow:Skipping full serialization of Keras layer <keras.layers.regularization.dropout.Dropout object at 0x7f8fa0b474c0>, because it is not built.\n",
      "WARNING:tensorflow:Skipping full serialization of Keras layer <keras.layers.regularization.dropout.Dropout object at 0x7f8fa0b52140>, because it is not built.\n"
     ]
    },
    {
     "name": "stderr",
     "output_type": "stream",
     "text": [
      "2024-01-14 06:54:52.232542: I tensorflow/core/common_runtime/executor.cc:1209] [/device:CPU:0] (DEBUG INFO) Executor start aborting (this does not indicate an error and you can ignore this message): INVALID_ARGUMENT: You must feed a value for placeholder tensor 'while/Placeholder_2' with dtype float and shape [?,50]\n",
      "\t [[{{node while/Placeholder_2}}]]\n",
      "2024-01-14 06:54:52.330777: I tensorflow/core/common_runtime/executor.cc:1209] [/device:CPU:0] (DEBUG INFO) Executor start aborting (this does not indicate an error and you can ignore this message): INVALID_ARGUMENT: You must feed a value for placeholder tensor 'while/Placeholder_2' with dtype float and shape [?,50]\n",
      "\t [[{{node while/Placeholder_2}}]]\n",
      "2024-01-14 06:54:52.362483: I tensorflow/core/common_runtime/executor.cc:1209] [/device:CPU:0] (DEBUG INFO) Executor start aborting (this does not indicate an error and you can ignore this message): INVALID_ARGUMENT: You must feed a value for placeholder tensor 'inputs' with dtype float and shape [?,?,768]\n",
      "\t [[{{node inputs}}]]\n",
      "2024-01-14 06:54:52.373973: I tensorflow/core/common_runtime/executor.cc:1209] [/device:CPU:0] (DEBUG INFO) Executor start aborting (this does not indicate an error and you can ignore this message): INVALID_ARGUMENT: You must feed a value for placeholder tensor 'inputs' with dtype float and shape [?,?,768]\n",
      "\t [[{{node inputs}}]]\n",
      "2024-01-14 06:54:52.385863: I tensorflow/core/common_runtime/executor.cc:1209] [/device:CPU:0] (DEBUG INFO) Executor start aborting (this does not indicate an error and you can ignore this message): INVALID_ARGUMENT: You must feed a value for placeholder tensor 'inputs' with dtype float and shape [?,768]\n",
      "\t [[{{node inputs}}]]\n",
      "2024-01-14 06:54:52.386052: I tensorflow/core/common_runtime/executor.cc:1209] [/device:CPU:0] (DEBUG INFO) Executor start aborting (this does not indicate an error and you can ignore this message): INVALID_ARGUMENT: You must feed a value for placeholder tensor 'states' with dtype float and shape [?,50]\n",
      "\t [[{{node states}}]]\n",
      "2024-01-14 06:54:52.396812: I tensorflow/core/common_runtime/executor.cc:1209] [/device:CPU:0] (DEBUG INFO) Executor start aborting (this does not indicate an error and you can ignore this message): INVALID_ARGUMENT: You must feed a value for placeholder tensor 'inputs' with dtype float and shape [?,768]\n",
      "\t [[{{node inputs}}]]\n",
      "2024-01-14 06:54:52.396994: I tensorflow/core/common_runtime/executor.cc:1209] [/device:CPU:0] (DEBUG INFO) Executor start aborting (this does not indicate an error and you can ignore this message): INVALID_ARGUMENT: You must feed a value for placeholder tensor 'states' with dtype float and shape [?,50]\n",
      "\t [[{{node states}}]]\n",
      "2024-01-14 06:54:52.541711: I tensorflow/core/common_runtime/executor.cc:1209] [/device:CPU:0] (DEBUG INFO) Executor start aborting (this does not indicate an error and you can ignore this message): INVALID_ARGUMENT: You must feed a value for placeholder tensor 'while/Placeholder_2' with dtype float and shape [?,50]\n",
      "\t [[{{node while/Placeholder_2}}]]\n",
      "2024-01-14 06:54:52.635928: I tensorflow/core/common_runtime/executor.cc:1209] [/device:CPU:0] (DEBUG INFO) Executor start aborting (this does not indicate an error and you can ignore this message): INVALID_ARGUMENT: You must feed a value for placeholder tensor 'while/Placeholder_2' with dtype float and shape [?,50]\n",
      "\t [[{{node while/Placeholder_2}}]]\n",
      "2024-01-14 06:54:52.666123: I tensorflow/core/common_runtime/executor.cc:1209] [/device:CPU:0] (DEBUG INFO) Executor start aborting (this does not indicate an error and you can ignore this message): INVALID_ARGUMENT: You must feed a value for placeholder tensor 'inputs' with dtype float and shape [?,?,768]\n",
      "\t [[{{node inputs}}]]\n",
      "2024-01-14 06:54:52.676895: I tensorflow/core/common_runtime/executor.cc:1209] [/device:CPU:0] (DEBUG INFO) Executor start aborting (this does not indicate an error and you can ignore this message): INVALID_ARGUMENT: You must feed a value for placeholder tensor 'inputs' with dtype float and shape [?,?,768]\n",
      "\t [[{{node inputs}}]]\n",
      "2024-01-14 06:54:52.687429: I tensorflow/core/common_runtime/executor.cc:1209] [/device:CPU:0] (DEBUG INFO) Executor start aborting (this does not indicate an error and you can ignore this message): INVALID_ARGUMENT: You must feed a value for placeholder tensor 'inputs' with dtype float and shape [?,768]\n",
      "\t [[{{node inputs}}]]\n",
      "2024-01-14 06:54:52.687589: I tensorflow/core/common_runtime/executor.cc:1209] [/device:CPU:0] (DEBUG INFO) Executor start aborting (this does not indicate an error and you can ignore this message): INVALID_ARGUMENT: You must feed a value for placeholder tensor 'states' with dtype float and shape [?,50]\n",
      "\t [[{{node states}}]]\n",
      "2024-01-14 06:54:52.698287: I tensorflow/core/common_runtime/executor.cc:1209] [/device:CPU:0] (DEBUG INFO) Executor start aborting (this does not indicate an error and you can ignore this message): INVALID_ARGUMENT: You must feed a value for placeholder tensor 'inputs' with dtype float and shape [?,768]\n",
      "\t [[{{node inputs}}]]\n",
      "2024-01-14 06:54:52.698453: I tensorflow/core/common_runtime/executor.cc:1209] [/device:CPU:0] (DEBUG INFO) Executor start aborting (this does not indicate an error and you can ignore this message): INVALID_ARGUMENT: You must feed a value for placeholder tensor 'states' with dtype float and shape [?,50]\n",
      "\t [[{{node states}}]]\n",
      "2024-01-14 06:54:52.915418: I tensorflow/core/common_runtime/executor.cc:1209] [/device:CPU:0] (DEBUG INFO) Executor start aborting (this does not indicate an error and you can ignore this message): INVALID_ARGUMENT: You must feed a value for placeholder tensor 'inputs' with dtype float and shape [?,?,?]\n",
      "\t [[{{node inputs}}]]\n",
      "2024-01-14 06:54:53.095797: I tensorflow/core/common_runtime/executor.cc:1209] [/device:CPU:0] (DEBUG INFO) Executor start aborting (this does not indicate an error and you can ignore this message): INVALID_ARGUMENT: You must feed a value for placeholder tensor 'inputs' with dtype float and shape [?,?,?]\n",
      "\t [[{{node inputs}}]]\n",
      "2024-01-14 06:54:53.236394: I tensorflow/core/common_runtime/executor.cc:1209] [/device:CPU:0] (DEBUG INFO) Executor start aborting (this does not indicate an error and you can ignore this message): INVALID_ARGUMENT: You must feed a value for placeholder tensor 'inputs' with dtype float and shape [?,?,?]\n",
      "\t [[{{node inputs}}]]\n",
      "2024-01-14 06:54:53.352174: I tensorflow/core/common_runtime/executor.cc:1209] [/device:CPU:0] (DEBUG INFO) Executor start aborting (this does not indicate an error and you can ignore this message): INVALID_ARGUMENT: You must feed a value for placeholder tensor 'inputs' with dtype float and shape [?,?,?]\n",
      "\t [[{{node inputs}}]]\n",
      "2024-01-14 06:54:53.368493: I tensorflow/core/common_runtime/executor.cc:1209] [/device:CPU:0] (DEBUG INFO) Executor start aborting (this does not indicate an error and you can ignore this message): INVALID_ARGUMENT: You must feed a value for placeholder tensor 'inputs' with dtype float and shape [?,?,?]\n",
      "\t [[{{node inputs}}]]\n",
      "2024-01-14 06:54:53.380652: I tensorflow/core/common_runtime/executor.cc:1209] [/device:CPU:0] (DEBUG INFO) Executor start aborting (this does not indicate an error and you can ignore this message): INVALID_ARGUMENT: You must feed a value for placeholder tensor 'inputs' with dtype float and shape [?,?,?]\n",
      "\t [[{{node inputs}}]]\n",
      "2024-01-14 06:54:53.390676: I tensorflow/core/common_runtime/executor.cc:1209] [/device:CPU:0] (DEBUG INFO) Executor start aborting (this does not indicate an error and you can ignore this message): INVALID_ARGUMENT: You must feed a value for placeholder tensor 'inputs' with dtype float and shape [?,?,?]\n",
      "\t [[{{node inputs}}]]\n",
      "2024-01-14 06:54:53.398544: I tensorflow/core/common_runtime/executor.cc:1209] [/device:CPU:0] (DEBUG INFO) Executor start aborting (this does not indicate an error and you can ignore this message): INVALID_ARGUMENT: You must feed a value for placeholder tensor 'inputs' with dtype float and shape [?,?,?]\n",
      "\t [[{{node inputs}}]]\n",
      "2024-01-14 06:54:53.408440: I tensorflow/core/common_runtime/executor.cc:1209] [/device:CPU:0] (DEBUG INFO) Executor start aborting (this does not indicate an error and you can ignore this message): INVALID_ARGUMENT: You must feed a value for placeholder tensor 'inputs' with dtype float and shape [?,?,?]\n",
      "\t [[{{node inputs}}]]\n",
      "2024-01-14 06:54:53.416152: I tensorflow/core/common_runtime/executor.cc:1209] [/device:CPU:0] (DEBUG INFO) Executor start aborting (this does not indicate an error and you can ignore this message): INVALID_ARGUMENT: You must feed a value for placeholder tensor 'inputs' with dtype float and shape [?,?,?]\n",
      "\t [[{{node inputs}}]]\n"
     ]
    },
    {
     "name": "stderr",
     "output_type": "stream",
     "text": [
      "2024-01-14 06:54:56.396135: I tensorflow/core/common_runtime/executor.cc:1209] [/device:CPU:0] (DEBUG INFO) Executor start aborting (this does not indicate an error and you can ignore this message): INVALID_ARGUMENT: You must feed a value for placeholder tensor 'inputs' with dtype float and shape [?,64,768]\n",
      "\t [[{{node inputs}}]]\n",
      "2024-01-14 06:54:56.407161: I tensorflow/core/common_runtime/executor.cc:1209] [/device:CPU:0] (DEBUG INFO) Executor start aborting (this does not indicate an error and you can ignore this message): INVALID_ARGUMENT: You must feed a value for placeholder tensor 'inputs' with dtype float and shape [?,64,768]\n",
      "\t [[{{node inputs}}]]\n",
      "2024-01-14 06:54:56.418560: I tensorflow/core/common_runtime/executor.cc:1209] [/device:CPU:0] (DEBUG INFO) Executor start aborting (this does not indicate an error and you can ignore this message): INVALID_ARGUMENT: You must feed a value for placeholder tensor 'inputs' with dtype float and shape [?,50]\n",
      "\t [[{{node inputs}}]]\n",
      "2024-01-14 06:55:01.381137: I tensorflow/core/common_runtime/executor.cc:1209] [/device:CPU:0] (DEBUG INFO) Executor start aborting (this does not indicate an error and you can ignore this message): INVALID_ARGUMENT: You must feed a value for placeholder tensor 'inputs_0' with dtype float and shape [?,?,?]\n",
      "\t [[{{node inputs_0}}]]\n",
      "2024-01-14 06:55:01.392853: I tensorflow/core/common_runtime/executor.cc:1209] [/device:CPU:0] (DEBUG INFO) Executor start aborting (this does not indicate an error and you can ignore this message): INVALID_ARGUMENT: You must feed a value for placeholder tensor 'inputs_0' with dtype float and shape [?,?,?]\n",
      "\t [[{{node inputs_0}}]]\n",
      "2024-01-14 06:55:01.406131: I tensorflow/core/common_runtime/executor.cc:1209] [/device:CPU:0] (DEBUG INFO) Executor start aborting (this does not indicate an error and you can ignore this message): INVALID_ARGUMENT: You must feed a value for placeholder tensor 'inputs' with dtype float and shape [?,64,768]\n",
      "\t [[{{node inputs}}]]\n",
      "2024-01-14 06:55:01.417360: I tensorflow/core/common_runtime/executor.cc:1209] [/device:CPU:0] (DEBUG INFO) Executor start aborting (this does not indicate an error and you can ignore this message): INVALID_ARGUMENT: You must feed a value for placeholder tensor 'inputs' with dtype float and shape [?,64,768]\n",
      "\t [[{{node inputs}}]]\n",
      "2024-01-14 06:55:02.565563: I tensorflow/core/common_runtime/executor.cc:1209] [/device:CPU:0] (DEBUG INFO) Executor start aborting (this does not indicate an error and you can ignore this message): INVALID_ARGUMENT: You must feed a value for placeholder tensor 'inputs' with dtype float and shape [?,50]\n",
      "\t [[{{node inputs}}]]\n",
      "2024-01-14 06:55:02.616655: I tensorflow/core/common_runtime/executor.cc:1209] [/device:CPU:0] (DEBUG INFO) Executor start aborting (this does not indicate an error and you can ignore this message): INVALID_ARGUMENT: You must feed a value for placeholder tensor 'inputs_0' with dtype float and shape [?,?,768]\n",
      "\t [[{{node inputs_0}}]]\n",
      "2024-01-14 06:55:02.625124: I tensorflow/core/common_runtime/executor.cc:1209] [/device:CPU:0] (DEBUG INFO) Executor start aborting (this does not indicate an error and you can ignore this message): INVALID_ARGUMENT: You must feed a value for placeholder tensor 'inputs_0' with dtype float and shape [?,?,768]\n",
      "\t [[{{node inputs_0}}]]\n",
      "2024-01-14 06:55:02.634775: I tensorflow/core/common_runtime/executor.cc:1209] [/device:CPU:0] (DEBUG INFO) Executor start aborting (this does not indicate an error and you can ignore this message): INVALID_ARGUMENT: You must feed a value for placeholder tensor 'inputs' with dtype float and shape [?,?,?]\n",
      "\t [[{{node inputs}}]]\n",
      "2024-01-14 06:55:02.642842: I tensorflow/core/common_runtime/executor.cc:1209] [/device:CPU:0] (DEBUG INFO) Executor start aborting (this does not indicate an error and you can ignore this message): INVALID_ARGUMENT: You must feed a value for placeholder tensor 'inputs' with dtype float and shape [?,?,?]\n",
      "\t [[{{node inputs}}]]\n",
      "2024-01-14 06:55:03.214929: I tensorflow/core/common_runtime/executor.cc:1209] [/device:CPU:0] (DEBUG INFO) Executor start aborting (this does not indicate an error and you can ignore this message): INVALID_ARGUMENT: You must feed a value for placeholder tensor 'inputs_0' with dtype float and shape [?,?,768]\n",
      "\t [[{{node inputs_0}}]]\n",
      "2024-01-14 06:55:03.224083: I tensorflow/core/common_runtime/executor.cc:1209] [/device:CPU:0] (DEBUG INFO) Executor start aborting (this does not indicate an error and you can ignore this message): INVALID_ARGUMENT: You must feed a value for placeholder tensor 'inputs_0' with dtype float and shape [?,?,768]\n",
      "\t [[{{node inputs_0}}]]\n",
      "2024-01-14 06:55:03.234170: I tensorflow/core/common_runtime/executor.cc:1209] [/device:CPU:0] (DEBUG INFO) Executor start aborting (this does not indicate an error and you can ignore this message): INVALID_ARGUMENT: You must feed a value for placeholder tensor 'inputs' with dtype float and shape [?,?,?]\n",
      "\t [[{{node inputs}}]]\n",
      "2024-01-14 06:55:03.242782: I tensorflow/core/common_runtime/executor.cc:1209] [/device:CPU:0] (DEBUG INFO) Executor start aborting (this does not indicate an error and you can ignore this message): INVALID_ARGUMENT: You must feed a value for placeholder tensor 'inputs' with dtype float and shape [?,?,?]\n",
      "\t [[{{node inputs}}]]\n",
      "2024-01-14 06:55:03.860449: I tensorflow/core/common_runtime/executor.cc:1209] [/device:CPU:0] (DEBUG INFO) Executor start aborting (this does not indicate an error and you can ignore this message): INVALID_ARGUMENT: You must feed a value for placeholder tensor 'inputs' with dtype float and shape [?,768]\n",
      "\t [[{{node inputs}}]]\n",
      "2024-01-14 06:55:03.860662: I tensorflow/core/common_runtime/executor.cc:1209] [/device:CPU:0] (DEBUG INFO) Executor start aborting (this does not indicate an error and you can ignore this message): INVALID_ARGUMENT: You must feed a value for placeholder tensor 'states_0' with dtype float and shape [?,50]\n",
      "\t [[{{node states_0}}]]\n",
      "2024-01-14 06:55:03.870556: I tensorflow/core/common_runtime/executor.cc:1209] [/device:CPU:0] (DEBUG INFO) Executor start aborting (this does not indicate an error and you can ignore this message): INVALID_ARGUMENT: You must feed a value for placeholder tensor 'inputs' with dtype float and shape [?,768]\n",
      "\t [[{{node inputs}}]]\n",
      "2024-01-14 06:55:03.870706: I tensorflow/core/common_runtime/executor.cc:1209] [/device:CPU:0] (DEBUG INFO) Executor start aborting (this does not indicate an error and you can ignore this message): INVALID_ARGUMENT: You must feed a value for placeholder tensor 'states_0' with dtype float and shape [?,50]\n",
      "\t [[{{node states_0}}]]\n",
      "2024-01-14 06:55:03.989267: I tensorflow/core/common_runtime/executor.cc:1209] [/device:CPU:0] (DEBUG INFO) Executor start aborting (this does not indicate an error and you can ignore this message): INVALID_ARGUMENT: You must feed a value for placeholder tensor 'inputs' with dtype float and shape [?,768]\n",
      "\t [[{{node inputs}}]]\n",
      "2024-01-14 06:55:03.989426: I tensorflow/core/common_runtime/executor.cc:1209] [/device:CPU:0] (DEBUG INFO) Executor start aborting (this does not indicate an error and you can ignore this message): INVALID_ARGUMENT: You must feed a value for placeholder tensor 'states_0' with dtype float and shape [?,50]\n",
      "\t [[{{node states_0}}]]\n",
      "2024-01-14 06:55:03.997726: I tensorflow/core/common_runtime/executor.cc:1209] [/device:CPU:0] (DEBUG INFO) Executor start aborting (this does not indicate an error and you can ignore this message): INVALID_ARGUMENT: You must feed a value for placeholder tensor 'inputs' with dtype float and shape [?,768]\n",
      "\t [[{{node inputs}}]]\n",
      "2024-01-14 06:55:03.997873: I tensorflow/core/common_runtime/executor.cc:1209] [/device:CPU:0] (DEBUG INFO) Executor start aborting (this does not indicate an error and you can ignore this message): INVALID_ARGUMENT: You must feed a value for placeholder tensor 'states_0' with dtype float and shape [?,50]\n",
      "\t [[{{node states_0}}]]\n",
      "WARNING:absl:Found untraced functions such as embeddings_layer_call_fn, embeddings_layer_call_and_return_conditional_losses, transformer_layer_call_fn, transformer_layer_call_and_return_conditional_losses, LayerNorm_layer_call_fn while saving (showing 5 of 164). These functions will not be directly callable after loading.\n"
     ]
    },
    {
     "name": "stdout",
     "output_type": "stream",
     "text": [
      "INFO:tensorflow:Assets written to: /mnt/tensorflow/assets\n"
     ]
    },
    {
     "name": "stderr",
     "output_type": "stream",
     "text": [
      "INFO:tensorflow:Assets written to: /mnt/tensorflow/assets\n"
     ]
    }
   ],
   "source": [
    "model.save('/mnt/tensorflow/',save_format='tf')"
   ]
  },
  {
   "cell_type": "code",
   "execution_count": 49,
   "id": "54fc5758",
   "metadata": {},
   "outputs": [
    {
     "data": {
      "text/html": [
       "\n",
       "<p><b>Shutting down your kernel for this notebook to release resources.</b></p>\n",
       "<button class=\"sm-command-button\" data-commandlinker-command=\"kernelmenu:shutdown\" style=\"display:none;\">Shutdown Kernel</button>\n",
       "        \n",
       "<script>\n",
       "try {\n",
       "    els = document.getElementsByClassName(\"sm-command-button\");\n",
       "    els[0].click();\n",
       "}\n",
       "catch(err) {\n",
       "    // NoOp\n",
       "}    \n",
       "</script>\n"
      ],
      "text/plain": [
       "<IPython.core.display.HTML object>"
      ]
     },
     "metadata": {},
     "output_type": "display_data"
    }
   ],
   "source": [
    "%%html\n",
    "\n",
    "<p><b>Shutting down your kernel for this notebook to release resources.</b></p>\n",
    "<button class=\"sm-command-button\" data-commandlinker-command=\"kernelmenu:shutdown\" style=\"display:none;\">Shutdown Kernel</button>\n",
    "        \n",
    "<script>\n",
    "try {\n",
    "    els = document.getElementsByClassName(\"sm-command-button\");\n",
    "    els[0].click();\n",
    "}\n",
    "catch(err) {\n",
    "    // NoOp\n",
    "}    \n",
    "</script>"
   ]
  },
  {
   "cell_type": "code",
   "execution_count": null,
   "id": "9c6ae082",
   "metadata": {},
   "outputs": [],
   "source": []
  }
 ],
 "metadata": {
  "kernelspec": {
   "display_name": "Python 3 (ipykernel)",
   "language": "python",
   "name": "python3"
  },
  "language_info": {
   "codemirror_mode": {
    "name": "ipython",
    "version": 3
   },
   "file_extension": ".py",
   "mimetype": "text/x-python",
   "name": "python",
   "nbconvert_exporter": "python",
   "pygments_lexer": "ipython3",
   "version": "3.10.6"
  }
 },
 "nbformat": 4,
 "nbformat_minor": 5
}
