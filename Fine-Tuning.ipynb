{
 "cells": [
  {
   "cell_type": "code",
   "execution_count": 1,
   "id": "090cb7bb",
   "metadata": {},
   "outputs": [
    {
     "name": "stdout",
     "output_type": "stream",
     "text": [
      "Requirement already satisfied: transformers in /usr/local/lib/python3.10/dist-packages (4.36.2)\n",
      "Requirement already satisfied: filelock in /usr/local/lib/python3.10/dist-packages (from transformers) (3.13.1)\n",
      "Requirement already satisfied: huggingface-hub<1.0,>=0.19.3 in /usr/local/lib/python3.10/dist-packages (from transformers) (0.20.2)\n",
      "Requirement already satisfied: numpy>=1.17 in /usr/local/lib/python3.10/dist-packages (from transformers) (1.24.4)\n",
      "Requirement already satisfied: packaging>=20.0 in /usr/local/lib/python3.10/dist-packages (from transformers) (23.1)\n",
      "Requirement already satisfied: pyyaml>=5.1 in /usr/local/lib/python3.10/dist-packages (from transformers) (6.0)\n",
      "Requirement already satisfied: regex!=2019.12.17 in /usr/local/lib/python3.10/dist-packages (from transformers) (2023.12.25)\n",
      "Requirement already satisfied: requests in /usr/local/lib/python3.10/dist-packages (from transformers) (2.31.0)\n",
      "Requirement already satisfied: tokenizers<0.19,>=0.14 in /usr/local/lib/python3.10/dist-packages (from transformers) (0.15.0)\n",
      "Requirement already satisfied: safetensors>=0.3.1 in /usr/local/lib/python3.10/dist-packages (from transformers) (0.4.1)\n",
      "Requirement already satisfied: tqdm>=4.27 in /usr/local/lib/python3.10/dist-packages (from transformers) (4.66.1)\n",
      "Requirement already satisfied: fsspec>=2023.5.0 in /usr/local/lib/python3.10/dist-packages (from huggingface-hub<1.0,>=0.19.3->transformers) (2023.6.0)\n",
      "Requirement already satisfied: typing-extensions>=3.7.4.3 in /usr/local/lib/python3.10/dist-packages (from huggingface-hub<1.0,>=0.19.3->transformers) (4.7.1)\n",
      "Requirement already satisfied: charset-normalizer<4,>=2 in /usr/local/lib/python3.10/dist-packages (from requests->transformers) (3.1.0)\n",
      "Requirement already satisfied: idna<4,>=2.5 in /usr/local/lib/python3.10/dist-packages (from requests->transformers) (3.4)\n",
      "Requirement already satisfied: urllib3<3,>=1.21.1 in /usr/local/lib/python3.10/dist-packages (from requests->transformers) (1.26.16)\n",
      "Requirement already satisfied: certifi>=2017.4.17 in /usr/local/lib/python3.10/dist-packages (from requests->transformers) (2023.5.7)\n",
      "\u001b[33mWARNING: Running pip as the 'root' user can result in broken permissions and conflicting behaviour with the system package manager. It is recommended to use a virtual environment instead: https://pip.pypa.io/warnings/venv\u001b[0m\u001b[33m\n",
      "\u001b[0m"
     ]
    }
   ],
   "source": [
    "!pip install transformers"
   ]
  },
  {
   "cell_type": "code",
   "execution_count": 2,
   "id": "82e6f70d",
   "metadata": {},
   "outputs": [
    {
     "name": "stderr",
     "output_type": "stream",
     "text": [
      "2024-01-08 13:06:28.012094: I tensorflow/core/platform/cpu_feature_guard.cc:183] This TensorFlow binary is optimized to use available CPU instructions in performance-critical operations.\n",
      "To enable the following instructions: SSE3 SSE4.1 SSE4.2 AVX, in other operations, rebuild TensorFlow with the appropriate compiler flags.\n"
     ]
    }
   ],
   "source": [
    "import time\n",
    "import random\n",
    "import pandas as pd\n",
    "from glob import glob\n",
    "import argparse\n",
    "import json\n",
    "import subprocess\n",
    "import sys\n",
    "import os\n",
    "import tensorflow as tf\n",
    "from transformers import DistilBertTokenizer\n",
    "from transformers import TFDistilBertForSequenceClassification\n",
    "from transformers import DistilBertConfig"
   ]
  },
  {
   "cell_type": "code",
   "execution_count": null,
   "id": "775776f4",
   "metadata": {},
   "outputs": [],
   "source": [
    "# Define the connection between Input data and Label"
   ]
  },
  {
   "cell_type": "code",
   "execution_count": 3,
   "id": "a61eed2f",
   "metadata": {},
   "outputs": [],
   "source": [
    "def select_data_and_label_from_record(record):\n",
    "    x = {\n",
    "        \"input_ids\": record[\"input_ids\"],\n",
    "        \"input_mask\": record[\"input_mask\"],\n",
    "    }\n",
    "    y = record[\"label_ids\"]\n",
    "\n",
    "    return (x, y)"
   ]
  },
  {
   "cell_type": "code",
   "execution_count": 4,
   "id": "6545c673",
   "metadata": {},
   "outputs": [],
   "source": [
    "def file_based_input_dataset_builder(channel, input_filenames, max_seq_length, is_training, drop_remainder):\n",
    "    # トレーニング時には並列読み出しとシャッフルを行う。\n",
    "    # 評価時にはシャッフルは行わず、並列読み出しは効果がない。\n",
    "\n",
    "    dataset = tf.data.TFRecordDataset(input_filenames)\n",
    "    dataset = dataset.repeat(100)\n",
    "    dataset = dataset.prefetch(tf.data.experimental.AUTOTUNE)\n",
    "\n",
    "    name_to_features = {\n",
    "        \"input_ids\": tf.io.FixedLenFeature([max_seq_length], tf.int64),\n",
    "        \"input_mask\": tf.io.FixedLenFeature([max_seq_length], tf.int64),\n",
    "        \"label_ids\": tf.io.FixedLenFeature([], tf.int64),\n",
    "    }\n",
    "\n",
    "    def _decode_record(record, name_to_features):\n",
    "        \"\"\"Decodes a record to a TensorFlow example.\"\"\"\n",
    "        return tf.io.parse_single_example(record, name_to_features)\n",
    "\n",
    "    dataset = dataset.apply(\n",
    "        tf.data.experimental.map_and_batch(\n",
    "            lambda record: _decode_record(record, name_to_features),\n",
    "            batch_size=8,\n",
    "            drop_remainder=drop_remainder,\n",
    "            num_parallel_calls=tf.data.experimental.AUTOTUNE,\n",
    "        )\n",
    "    )\n",
    "\n",
    "    dataset.cache()\n",
    "\n",
    "    if is_training:\n",
    "        dataset = dataset.shuffle(seed=42, buffer_size=10, reshuffle_each_iteration=True)\n",
    "\n",
    "    return dataset"
   ]
  },
  {
   "cell_type": "code",
   "execution_count": 5,
   "id": "97b081fc",
   "metadata": {},
   "outputs": [
    {
     "name": "stdout",
     "output_type": "stream",
     "text": [
      "train_data_filenames /mnt/train_data.tfrecord\n",
      "WARNING:tensorflow:From /tmp/ipykernel_496/1897154758.py:20: map_and_batch (from tensorflow.python.data.experimental.ops.batching) is deprecated and will be removed in a future version.\n",
      "Instructions for updating:\n",
      "Use `tf.data.Dataset.map(map_func, num_parallel_calls)` followed by `tf.data.Dataset.batch(batch_size, drop_remainder)`. Static tf.data optimizations will take care of using the fused implementation.\n"
     ]
    },
    {
     "name": "stderr",
     "output_type": "stream",
     "text": [
      "2024-01-08 13:06:36.819830: I tensorflow/compiler/xla/stream_executor/cuda/cuda_gpu_executor.cc:1013] successful NUMA node read from SysFS had negative value (-1), but there must be at least one NUMA node, so returning NUMA node zero. See more at https://github.com/torvalds/linux/blob/v6.0/Documentation/ABI/testing/sysfs-bus-pci#L344-L355\n",
      "2024-01-08 13:06:36.905893: I tensorflow/compiler/xla/stream_executor/cuda/cuda_gpu_executor.cc:1013] successful NUMA node read from SysFS had negative value (-1), but there must be at least one NUMA node, so returning NUMA node zero. See more at https://github.com/torvalds/linux/blob/v6.0/Documentation/ABI/testing/sysfs-bus-pci#L344-L355\n",
      "2024-01-08 13:06:36.906119: I tensorflow/compiler/xla/stream_executor/cuda/cuda_gpu_executor.cc:1013] successful NUMA node read from SysFS had negative value (-1), but there must be at least one NUMA node, so returning NUMA node zero. See more at https://github.com/torvalds/linux/blob/v6.0/Documentation/ABI/testing/sysfs-bus-pci#L344-L355\n",
      "2024-01-08 13:06:36.908209: I tensorflow/compiler/xla/stream_executor/cuda/cuda_gpu_executor.cc:1013] successful NUMA node read from SysFS had negative value (-1), but there must be at least one NUMA node, so returning NUMA node zero. See more at https://github.com/torvalds/linux/blob/v6.0/Documentation/ABI/testing/sysfs-bus-pci#L344-L355\n",
      "2024-01-08 13:06:36.908383: I tensorflow/compiler/xla/stream_executor/cuda/cuda_gpu_executor.cc:1013] successful NUMA node read from SysFS had negative value (-1), but there must be at least one NUMA node, so returning NUMA node zero. See more at https://github.com/torvalds/linux/blob/v6.0/Documentation/ABI/testing/sysfs-bus-pci#L344-L355\n",
      "2024-01-08 13:06:36.908522: I tensorflow/compiler/xla/stream_executor/cuda/cuda_gpu_executor.cc:1013] successful NUMA node read from SysFS had negative value (-1), but there must be at least one NUMA node, so returning NUMA node zero. See more at https://github.com/torvalds/linux/blob/v6.0/Documentation/ABI/testing/sysfs-bus-pci#L344-L355\n",
      "2024-01-08 13:06:36.987769: I tensorflow/compiler/xla/stream_executor/cuda/cuda_gpu_executor.cc:1013] successful NUMA node read from SysFS had negative value (-1), but there must be at least one NUMA node, so returning NUMA node zero. See more at https://github.com/torvalds/linux/blob/v6.0/Documentation/ABI/testing/sysfs-bus-pci#L344-L355\n",
      "2024-01-08 13:06:36.987978: I tensorflow/compiler/xla/stream_executor/cuda/cuda_gpu_executor.cc:1013] successful NUMA node read from SysFS had negative value (-1), but there must be at least one NUMA node, so returning NUMA node zero. See more at https://github.com/torvalds/linux/blob/v6.0/Documentation/ABI/testing/sysfs-bus-pci#L344-L355\n",
      "2024-01-08 13:06:36.988125: I tensorflow/compiler/xla/stream_executor/cuda/cuda_gpu_executor.cc:1013] successful NUMA node read from SysFS had negative value (-1), but there must be at least one NUMA node, so returning NUMA node zero. See more at https://github.com/torvalds/linux/blob/v6.0/Documentation/ABI/testing/sysfs-bus-pci#L344-L355\n",
      "2024-01-08 13:06:36.988266: I tensorflow/core/common_runtime/gpu/gpu_device.cc:1638] Created device /job:localhost/replica:0/task:0/device:GPU:0 with 7316 MB memory:  -> device: 0, name: Quadro P4000, pci bus id: 0000:03:00.0, compute capability: 6.1\n"
     ]
    }
   ],
   "source": [
    "# train_data = \"./data-tfrecord/bert-train\"\n",
    "train_data_filenames = \"/mnt/train_data.tfrecord\"\n",
    "print(\"train_data_filenames {}\".format(train_data_filenames))\n",
    "\n",
    "train_dataset = file_based_input_dataset_builder(\n",
    "    channel=\"train\", \n",
    "    input_filenames=train_data_filenames, \n",
    "    max_seq_length=64, \n",
    "    is_training=True, \n",
    "    drop_remainder=False\n",
    ").map(select_data_and_label_from_record)"
   ]
  },
  {
   "cell_type": "code",
   "execution_count": 17,
   "id": "782302e1",
   "metadata": {},
   "outputs": [
    {
     "name": "stdout",
     "output_type": "stream",
     "text": [
      "<_MapDataset element_spec=({'input_ids': TensorSpec(shape=(None, 64), dtype=tf.int64, name=None), 'input_mask': TensorSpec(shape=(None, 64), dtype=tf.int64, name=None)}, TensorSpec(shape=(None,), dtype=tf.int64, name=None))>\n"
     ]
    }
   ],
   "source": [
    "print(train_dataset)"
   ]
  },
  {
   "cell_type": "code",
   "execution_count": 6,
   "id": "6da07a0c",
   "metadata": {},
   "outputs": [
    {
     "name": "stdout",
     "output_type": "stream",
     "text": [
      "validation_data_filenames /mnt/validation_data.tfrecord\n"
     ]
    }
   ],
   "source": [
    "# validation_data = \"./data-tfrecord/bert-validation\"\n",
    "validation_data_filenames = \"/mnt/validation_data.tfrecord\"\n",
    "print(\"validation_data_filenames {}\".format(validation_data_filenames))\n",
    "\n",
    "validation_dataset = file_based_input_dataset_builder(\n",
    "    channel=\"validation\",\n",
    "    input_filenames=validation_data_filenames,\n",
    "    max_seq_length=64,\n",
    "    is_training=False,\n",
    "    drop_remainder=False,\n",
    ").map(select_data_and_label_from_record)"
   ]
  },
  {
   "cell_type": "code",
   "execution_count": 7,
   "id": "9e2bb084",
   "metadata": {},
   "outputs": [],
   "source": [
    "epochs = 1\n",
    "steps_per_epoch = 1\n",
    "validation_steps = 1\n",
    "test_steps = 1\n",
    "freeze_bert_layer = True\n",
    "learning_rate = 3e-5\n",
    "epsilon = 1e-08\n",
    "max_seq_length = 64"
   ]
  },
  {
   "cell_type": "code",
   "execution_count": 8,
   "id": "d885da1a",
   "metadata": {},
   "outputs": [
    {
     "name": "stdout",
     "output_type": "stream",
     "text": [
      "DistilBertConfig {\n",
      "  \"activation\": \"gelu\",\n",
      "  \"architectures\": [\n",
      "    \"DistilBertForMaskedLM\"\n",
      "  ],\n",
      "  \"attention_dropout\": 0.1,\n",
      "  \"dim\": 768,\n",
      "  \"dropout\": 0.1,\n",
      "  \"hidden_dim\": 3072,\n",
      "  \"id2label\": {\n",
      "    \"0\": 1,\n",
      "    \"1\": 2,\n",
      "    \"2\": 3,\n",
      "    \"3\": 4,\n",
      "    \"4\": 5\n",
      "  },\n",
      "  \"initializer_range\": 0.02,\n",
      "  \"label2id\": {\n",
      "    \"1\": 0,\n",
      "    \"2\": 1,\n",
      "    \"3\": 2,\n",
      "    \"4\": 3,\n",
      "    \"5\": 4\n",
      "  },\n",
      "  \"max_position_embeddings\": 512,\n",
      "  \"model_type\": \"distilbert\",\n",
      "  \"n_heads\": 12,\n",
      "  \"n_layers\": 6,\n",
      "  \"pad_token_id\": 0,\n",
      "  \"qa_dropout\": 0.1,\n",
      "  \"seq_classif_dropout\": 0.2,\n",
      "  \"sinusoidal_pos_embds\": false,\n",
      "  \"tie_weights_\": true,\n",
      "  \"transformers_version\": \"4.36.2\",\n",
      "  \"vocab_size\": 30522\n",
      "}\n",
      "\n"
     ]
    }
   ],
   "source": [
    "CLASSES = [1, 2, 3, 4, 5]\n",
    "\n",
    "config = DistilBertConfig.from_pretrained(\n",
    "    \"distilbert-base-uncased\",\n",
    "    num_labels=len(CLASSES),\n",
    "    id2label={0: 1, 1: 2, 2: 3, 3: 4, 4: 5},\n",
    "    label2id={1: 0, 2: 1, 3: 2, 4: 3, 5: 4},\n",
    ")\n",
    "print(config)"
   ]
  },
  {
   "cell_type": "code",
   "execution_count": null,
   "id": "b7810d2b",
   "metadata": {},
   "outputs": [],
   "source": [
    "# Adding the layer for fine tuning on BERT"
   ]
  },
  {
   "cell_type": "code",
   "execution_count": 9,
   "id": "eadc4cc8",
   "metadata": {},
   "outputs": [
    {
     "data": {
      "application/vnd.jupyter.widget-view+json": {
       "model_id": "510018e4fca343b1b1829fc43c1e4059",
       "version_major": 2,
       "version_minor": 0
      },
      "text/plain": [
       "model.safetensors:   0%|          | 0.00/268M [00:00<?, ?B/s]"
      ]
     },
     "metadata": {},
     "output_type": "display_data"
    },
    {
     "name": "stderr",
     "output_type": "stream",
     "text": [
      "Some weights of the PyTorch model were not used when initializing the TF 2.0 model TFDistilBertForSequenceClassification: ['vocab_projector.bias', 'vocab_transform.bias', 'vocab_layer_norm.weight', 'vocab_transform.weight', 'vocab_layer_norm.bias']\n",
      "- This IS expected if you are initializing TFDistilBertForSequenceClassification from a PyTorch model trained on another task or with another architecture (e.g. initializing a TFBertForSequenceClassification model from a BertForPreTraining model).\n",
      "- This IS NOT expected if you are initializing TFDistilBertForSequenceClassification from a PyTorch model that you expect to be exactly identical (e.g. initializing a TFBertForSequenceClassification model from a BertForSequenceClassification model).\n",
      "Some weights or buffers of the TF 2.0 model TFDistilBertForSequenceClassification were not initialized from the PyTorch model and are newly initialized: ['pre_classifier.weight', 'pre_classifier.bias', 'classifier.weight', 'classifier.bias']\n",
      "You should probably TRAIN this model on a down-stream task to be able to use it for predictions and inference.\n"
     ]
    },
    {
     "name": "stdout",
     "output_type": "stream",
     "text": [
      "WARNING:tensorflow:Layer lstm will not use cuDNN kernels since it doesn't meet the criteria. It will use a generic GPU kernel as fallback when running on GPU.\n",
      "WARNING:tensorflow:Layer lstm will not use cuDNN kernels since it doesn't meet the criteria. It will use a generic GPU kernel as fallback when running on GPU.\n",
      "WARNING:tensorflow:Layer lstm will not use cuDNN kernels since it doesn't meet the criteria. It will use a generic GPU kernel as fallback when running on GPU.\n"
     ]
    }
   ],
   "source": [
    "transformer_model = TFDistilBertForSequenceClassification.from_pretrained(\"distilbert-base-uncased\", config=config)\n",
    "\n",
    "input_ids = tf.keras.layers.Input(shape=(max_seq_length,), name=\"input_ids\", dtype=\"int32\")\n",
    "input_mask = tf.keras.layers.Input(shape=(max_seq_length,), name=\"input_mask\", dtype=\"int32\")\n",
    "\n",
    "embedding_layer = transformer_model.distilbert(input_ids, attention_mask=input_mask)[0]\n",
    "X = tf.keras.layers.Bidirectional(tf.keras.layers.LSTM(50, return_sequences=True, dropout=0.1, recurrent_dropout=0.1))(\n",
    "    embedding_layer\n",
    ")\n",
    "X = tf.keras.layers.GlobalMaxPool1D()(X)\n",
    "X = tf.keras.layers.Dense(50, activation=\"relu\")(X)\n",
    "X = tf.keras.layers.Dropout(0.2)(X)\n",
    "X = tf.keras.layers.Dense(len(CLASSES), activation=\"softmax\")(X)\n",
    "\n",
    "model = tf.keras.Model(inputs=[input_ids, input_mask], outputs=X)\n",
    "\n",
    "for layer in model.layers[:3]:\n",
    "    layer.trainable = not freeze_bert_layer"
   ]
  },
  {
   "cell_type": "code",
   "execution_count": null,
   "id": "b457525b",
   "metadata": {},
   "outputs": [],
   "source": [
    "# Set up the custom classifier model"
   ]
  },
  {
   "cell_type": "code",
   "execution_count": 10,
   "id": "1ac81c89",
   "metadata": {},
   "outputs": [
    {
     "name": "stdout",
     "output_type": "stream",
     "text": [
      "Model: \"model\"\n",
      "__________________________________________________________________________________________________\n",
      " Layer (type)                   Output Shape         Param #     Connected to                     \n",
      "==================================================================================================\n",
      " input_ids (InputLayer)         [(None, 64)]         0           []                               \n",
      "                                                                                                  \n",
      " input_mask (InputLayer)        [(None, 64)]         0           []                               \n",
      "                                                                                                  \n",
      " distilbert (TFDistilBertMainLa  TFBaseModelOutput(l  66362880   ['input_ids[0][0]',              \n",
      " yer)                           ast_hidden_state=(N               'input_mask[0][0]']             \n",
      "                                one, 64, 768),                                                    \n",
      "                                 hidden_states=None                                               \n",
      "                                , attentions=None)                                                \n",
      "                                                                                                  \n",
      " bidirectional (Bidirectional)  (None, 64, 100)      327600      ['distilbert[0][0]']             \n",
      "                                                                                                  \n",
      " global_max_pooling1d (GlobalMa  (None, 100)         0           ['bidirectional[0][0]']          \n",
      " xPooling1D)                                                                                      \n",
      "                                                                                                  \n",
      " dense (Dense)                  (None, 50)           5050        ['global_max_pooling1d[0][0]']   \n",
      "                                                                                                  \n",
      " dropout_20 (Dropout)           (None, 50)           0           ['dense[0][0]']                  \n",
      "                                                                                                  \n",
      " dense_1 (Dense)                (None, 5)            255         ['dropout_20[0][0]']             \n",
      "                                                                                                  \n",
      "==================================================================================================\n",
      "Total params: 66,695,785\n",
      "Trainable params: 332,905\n",
      "Non-trainable params: 66,362,880\n",
      "__________________________________________________________________________________________________\n"
     ]
    }
   ],
   "source": [
    "loss = tf.keras.losses.SparseCategoricalCrossentropy(from_logits=True)\n",
    "\n",
    "metric = tf.keras.metrics.SparseCategoricalAccuracy(\"accuracy\")\n",
    "\n",
    "optimizer = tf.keras.optimizers.Adam(learning_rate=learning_rate, epsilon=epsilon)\n",
    "\n",
    "model.compile(optimizer=optimizer, loss=loss, metrics=[metric])\n",
    "\n",
    "model.summary()"
   ]
  },
  {
   "cell_type": "code",
   "execution_count": 11,
   "id": "6cbc2f10",
   "metadata": {},
   "outputs": [],
   "source": [
    "callbacks = []\n",
    "\n",
    "log_dir = \"./tmp/tensorboard/\"\n",
    "tensorboard_callback = tf.keras.callbacks.TensorBoard(log_dir=log_dir)\n",
    "callbacks.append(tensorboard_callback)"
   ]
  },
  {
   "cell_type": "code",
   "execution_count": 12,
   "id": "ba28eb46",
   "metadata": {},
   "outputs": [
    {
     "name": "stderr",
     "output_type": "stream",
     "text": [
      "2024-01-08 13:07:43.762872: I tensorflow/core/common_runtime/executor.cc:1209] [/device:CPU:0] (DEBUG INFO) Executor start aborting (this does not indicate an error and you can ignore this message): INVALID_ARGUMENT: You must feed a value for placeholder tensor 'Placeholder/_0' with dtype string and shape [1]\n",
      "\t [[{{node Placeholder/_0}}]]\n",
      "2024-01-08 13:07:43.763477: I tensorflow/core/common_runtime/executor.cc:1209] [/device:CPU:0] (DEBUG INFO) Executor start aborting (this does not indicate an error and you can ignore this message): INVALID_ARGUMENT: You must feed a value for placeholder tensor 'Placeholder/_0' with dtype string and shape [1]\n",
      "\t [[{{node Placeholder/_0}}]]\n",
      "/usr/local/lib/python3.10/dist-packages/keras/backend.py:5612: UserWarning: \"`sparse_categorical_crossentropy` received `from_logits=True`, but the `output` argument was produced by a Softmax activation and thus does not represent logits. Was this intended?\n",
      "  output, from_logits = _get_logits(\n",
      "2024-01-08 13:07:53.297603: I tensorflow/compiler/xla/service/service.cc:169] XLA service 0x55919a4437a0 initialized for platform CUDA (this does not guarantee that XLA will be used). Devices:\n",
      "2024-01-08 13:07:53.297656: I tensorflow/compiler/xla/service/service.cc:177]   StreamExecutor device (0): Quadro P4000, Compute Capability 6.1\n",
      "2024-01-08 13:07:53.321084: I tensorflow/compiler/mlir/tensorflow/utils/dump_mlir_util.cc:269] disabling MLIR crash reproducer, set env var `MLIR_CRASH_REPRODUCER_DIRECTORY` to enable.\n",
      "2024-01-08 13:07:53.370033: I tensorflow/compiler/xla/stream_executor/cuda/cuda_dnn.cc:424] Loaded cuDNN version 8903\n",
      "2024-01-08 13:07:53.636575: I ./tensorflow/compiler/jit/device_compiler.h:180] Compiled cluster using XLA!  This line is logged at most once for the lifetime of the process.\n"
     ]
    },
    {
     "name": "stdout",
     "output_type": "stream",
     "text": [
      "\r",
      "1/1 [==============================] - ETA: 0s - loss: 1.7890 - accuracy: 0.0000e+00"
     ]
    },
    {
     "name": "stderr",
     "output_type": "stream",
     "text": [
      "2024-01-08 13:07:59.191340: I tensorflow/core/common_runtime/executor.cc:1209] [/device:CPU:0] (DEBUG INFO) Executor start aborting (this does not indicate an error and you can ignore this message): INVALID_ARGUMENT: You must feed a value for placeholder tensor 'Placeholder/_0' with dtype string and shape [1]\n",
      "\t [[{{node Placeholder/_0}}]]\n",
      "2024-01-08 13:07:59.192558: I tensorflow/core/common_runtime/executor.cc:1209] [/device:CPU:0] (DEBUG INFO) Executor start aborting (this does not indicate an error and you can ignore this message): INVALID_ARGUMENT: You must feed a value for placeholder tensor 'Placeholder/_0' with dtype string and shape [1]\n",
      "\t [[{{node Placeholder/_0}}]]\n"
     ]
    },
    {
     "name": "stdout",
     "output_type": "stream",
     "text": [
      "\b\b\b\b\b\b\b\b\b\b\b\b\b\b\b\b\b\b\b\b\b\b\b\b\b\b\b\b\b\b\b\b\b\b\b\b\b\b\b\b\b\b\b\b\b\b\b\b\b\b\b\b\b\b\b\b\b\b\b\b\b\b\b\b\b\b\b\b\b\b\b\b\b\b\b\b\b\b\b\b\b\b\b\b\r",
      "1/1 [==============================] - 17s 17s/step - loss: 1.7890 - accuracy: 0.0000e+00 - val_loss: 1.6932 - val_accuracy: 0.2500\n"
     ]
    }
   ],
   "source": [
    "history = model.fit(\n",
    "    train_dataset,\n",
    "    shuffle=True,\n",
    "    epochs=epochs,\n",
    "    steps_per_epoch=steps_per_epoch,\n",
    "    validation_data=validation_dataset,\n",
    "    validation_steps=validation_steps,\n",
    "    callbacks=callbacks,\n",
    ")"
   ]
  },
  {
   "cell_type": "code",
   "execution_count": 13,
   "id": "190f0aeb",
   "metadata": {},
   "outputs": [],
   "source": [
    "epochs = 100\n",
    "steps_per_epoch = 128\n",
    "validation_steps = 32\n",
    "test_steps = 32\n",
    "freeze_bert_layer = True\n",
    "learning_rate = 3e-5\n",
    "epsilon = 1e-08\n",
    "max_seq_length = 64"
   ]
  },
  {
   "cell_type": "code",
   "execution_count": 14,
   "id": "18a6b2d9",
   "metadata": {},
   "outputs": [
    {
     "name": "stdout",
     "output_type": "stream",
     "text": [
      "Epoch 1/100\n",
      "128/128 [==============================] - 54s 419ms/step - loss: 1.3623 - accuracy: 0.4824 - val_loss: 1.2327 - val_accuracy: 0.5820\n",
      "Epoch 2/100\n",
      "128/128 [==============================] - 54s 420ms/step - loss: 1.0941 - accuracy: 0.6748 - val_loss: 1.1896 - val_accuracy: 0.5820\n",
      "Epoch 3/100\n",
      "128/128 [==============================] - 53s 414ms/step - loss: 1.0127 - accuracy: 0.6895 - val_loss: 1.1556 - val_accuracy: 0.5820\n",
      "Epoch 4/100\n",
      "128/128 [==============================] - 51s 396ms/step - loss: 1.0371 - accuracy: 0.6611 - val_loss: 1.1134 - val_accuracy: 0.5820\n",
      "Epoch 5/100\n",
      "128/128 [==============================] - 51s 401ms/step - loss: 0.9856 - accuracy: 0.6777 - val_loss: 1.0940 - val_accuracy: 0.5820\n",
      "Epoch 6/100\n",
      "128/128 [==============================] - 53s 416ms/step - loss: 1.0144 - accuracy: 0.6426 - val_loss: 1.0610 - val_accuracy: 0.5820\n",
      "Epoch 7/100\n",
      "128/128 [==============================] - 52s 408ms/step - loss: 1.0247 - accuracy: 0.6299 - val_loss: 1.0376 - val_accuracy: 0.5859\n",
      "Epoch 8/100\n",
      "128/128 [==============================] - 52s 403ms/step - loss: 0.9605 - accuracy: 0.6699 - val_loss: 1.0196 - val_accuracy: 0.5898\n",
      "Epoch 9/100\n",
      "128/128 [==============================] - 51s 401ms/step - loss: 0.9572 - accuracy: 0.6602 - val_loss: 1.0021 - val_accuracy: 0.6094\n",
      "Epoch 10/100\n",
      "128/128 [==============================] - 53s 410ms/step - loss: 0.9418 - accuracy: 0.6748 - val_loss: 1.0033 - val_accuracy: 0.6055\n",
      "Epoch 11/100\n",
      "128/128 [==============================] - 51s 395ms/step - loss: 0.8925 - accuracy: 0.6875 - val_loss: 0.9922 - val_accuracy: 0.6133\n",
      "Epoch 12/100\n",
      "128/128 [==============================] - 52s 405ms/step - loss: 0.9255 - accuracy: 0.6611 - val_loss: 0.9649 - val_accuracy: 0.6289\n",
      "Epoch 13/100\n",
      "128/128 [==============================] - 51s 397ms/step - loss: 0.9010 - accuracy: 0.6777 - val_loss: 0.9641 - val_accuracy: 0.6172\n",
      "Epoch 14/100\n",
      "128/128 [==============================] - 51s 397ms/step - loss: 0.9363 - accuracy: 0.6475 - val_loss: 0.9470 - val_accuracy: 0.6172\n",
      "Epoch 15/100\n",
      "128/128 [==============================] - 52s 404ms/step - loss: 0.8757 - accuracy: 0.6924 - val_loss: 0.9467 - val_accuracy: 0.6211\n",
      "Epoch 16/100\n",
      "128/128 [==============================] - 51s 396ms/step - loss: 0.9350 - accuracy: 0.6572 - val_loss: 0.9335 - val_accuracy: 0.6172\n",
      "Epoch 17/100\n",
      "128/128 [==============================] - 53s 417ms/step - loss: 0.8961 - accuracy: 0.6797 - val_loss: 0.9267 - val_accuracy: 0.6133\n",
      "Epoch 18/100\n",
      "128/128 [==============================] - 51s 397ms/step - loss: 0.9018 - accuracy: 0.6719 - val_loss: 0.9240 - val_accuracy: 0.6250\n",
      "Epoch 19/100\n",
      "128/128 [==============================] - 51s 397ms/step - loss: 0.8991 - accuracy: 0.6494 - val_loss: 0.9116 - val_accuracy: 0.6367\n",
      "Epoch 20/100\n",
      "128/128 [==============================] - 50s 392ms/step - loss: 0.9300 - accuracy: 0.6621 - val_loss: 0.9120 - val_accuracy: 0.6367\n",
      "Epoch 21/100\n",
      "128/128 [==============================] - 53s 411ms/step - loss: 0.9091 - accuracy: 0.6787 - val_loss: 0.9131 - val_accuracy: 0.6328\n",
      "Epoch 22/100\n",
      "128/128 [==============================] - 53s 414ms/step - loss: 0.8649 - accuracy: 0.6865 - val_loss: 0.9122 - val_accuracy: 0.6445\n",
      "Epoch 23/100\n",
      "128/128 [==============================] - 55s 426ms/step - loss: 0.9346 - accuracy: 0.6416 - val_loss: 0.8983 - val_accuracy: 0.6523\n",
      "Epoch 24/100\n",
      "128/128 [==============================] - 53s 415ms/step - loss: 0.8636 - accuracy: 0.6973 - val_loss: 0.8943 - val_accuracy: 0.6406\n",
      "Epoch 25/100\n",
      "128/128 [==============================] - 55s 429ms/step - loss: 0.8952 - accuracy: 0.6768 - val_loss: 0.8886 - val_accuracy: 0.6328\n",
      "Epoch 26/100\n",
      "128/128 [==============================] - 53s 415ms/step - loss: 0.8963 - accuracy: 0.6709 - val_loss: 0.8889 - val_accuracy: 0.6406\n",
      "Epoch 27/100\n",
      "128/128 [==============================] - 51s 402ms/step - loss: 0.7884 - accuracy: 0.7188 - val_loss: 0.8960 - val_accuracy: 0.6406\n",
      "Epoch 28/100\n",
      "128/128 [==============================] - 51s 400ms/step - loss: 0.8295 - accuracy: 0.6914 - val_loss: 0.8934 - val_accuracy: 0.6445\n",
      "Epoch 29/100\n",
      "128/128 [==============================] - 52s 406ms/step - loss: 0.8866 - accuracy: 0.6797 - val_loss: 0.8872 - val_accuracy: 0.6328\n",
      "Epoch 30/100\n",
      "128/128 [==============================] - 52s 410ms/step - loss: 0.8386 - accuracy: 0.6992 - val_loss: 0.8848 - val_accuracy: 0.6328\n",
      "Epoch 31/100\n",
      "128/128 [==============================] - 51s 401ms/step - loss: 0.8708 - accuracy: 0.6943 - val_loss: 0.8788 - val_accuracy: 0.6367\n",
      "Epoch 32/100\n",
      "128/128 [==============================] - 54s 425ms/step - loss: 0.8661 - accuracy: 0.6748 - val_loss: 0.8697 - val_accuracy: 0.6484\n",
      "Epoch 33/100\n",
      "128/128 [==============================] - 57s 443ms/step - loss: 0.8507 - accuracy: 0.6973 - val_loss: 0.8741 - val_accuracy: 0.6406\n",
      "Epoch 34/100\n",
      "128/128 [==============================] - 52s 404ms/step - loss: 0.8573 - accuracy: 0.6875 - val_loss: 0.8740 - val_accuracy: 0.6406\n",
      "Epoch 35/100\n",
      "128/128 [==============================] - 51s 398ms/step - loss: 0.8530 - accuracy: 0.6846 - val_loss: 0.8701 - val_accuracy: 0.6445\n",
      "Epoch 36/100\n",
      "128/128 [==============================] - 51s 401ms/step - loss: 0.9056 - accuracy: 0.6641 - val_loss: 0.8608 - val_accuracy: 0.6328\n",
      "Epoch 37/100\n",
      "128/128 [==============================] - 53s 417ms/step - loss: 0.8716 - accuracy: 0.6660 - val_loss: 0.8623 - val_accuracy: 0.6445\n",
      "Epoch 38/100\n",
      "128/128 [==============================] - 52s 402ms/step - loss: 0.8232 - accuracy: 0.6973 - val_loss: 0.8600 - val_accuracy: 0.6484\n",
      "Epoch 39/100\n",
      "128/128 [==============================] - 53s 415ms/step - loss: 0.8401 - accuracy: 0.6934 - val_loss: 0.8678 - val_accuracy: 0.6406\n",
      "Epoch 40/100\n",
      "128/128 [==============================] - 52s 407ms/step - loss: 0.8315 - accuracy: 0.6963 - val_loss: 0.8628 - val_accuracy: 0.6367\n",
      "Epoch 41/100\n",
      "128/128 [==============================] - 51s 398ms/step - loss: 0.8477 - accuracy: 0.6826 - val_loss: 0.8613 - val_accuracy: 0.6484\n",
      "Epoch 42/100\n",
      "128/128 [==============================] - 52s 408ms/step - loss: 0.8333 - accuracy: 0.7031 - val_loss: 0.8515 - val_accuracy: 0.6367\n",
      "Epoch 43/100\n",
      "128/128 [==============================] - 52s 409ms/step - loss: 0.7650 - accuracy: 0.7207 - val_loss: 0.8522 - val_accuracy: 0.6289\n",
      "Epoch 44/100\n",
      "128/128 [==============================] - 53s 413ms/step - loss: 0.7939 - accuracy: 0.7012 - val_loss: 0.8531 - val_accuracy: 0.6445\n",
      "Epoch 45/100\n",
      "128/128 [==============================] - 51s 396ms/step - loss: 0.8803 - accuracy: 0.6680 - val_loss: 0.8568 - val_accuracy: 0.6445\n",
      "Epoch 46/100\n",
      "128/128 [==============================] - 51s 402ms/step - loss: 0.9119 - accuracy: 0.6738 - val_loss: 0.8518 - val_accuracy: 0.6250\n",
      "Epoch 47/100\n",
      "128/128 [==============================] - 51s 396ms/step - loss: 0.8087 - accuracy: 0.7070 - val_loss: 0.8524 - val_accuracy: 0.6445\n",
      "Epoch 48/100\n",
      "128/128 [==============================] - 51s 398ms/step - loss: 0.8124 - accuracy: 0.7090 - val_loss: 0.8471 - val_accuracy: 0.6406\n",
      "Epoch 49/100\n",
      "128/128 [==============================] - 53s 412ms/step - loss: 0.8318 - accuracy: 0.6963 - val_loss: 0.8453 - val_accuracy: 0.6523\n",
      "Epoch 50/100\n",
      "128/128 [==============================] - 50s 393ms/step - loss: 0.8685 - accuracy: 0.6689 - val_loss: 0.8496 - val_accuracy: 0.6484\n",
      "Epoch 51/100\n",
      "128/128 [==============================] - 52s 407ms/step - loss: 0.8526 - accuracy: 0.6943 - val_loss: 0.8527 - val_accuracy: 0.6445\n",
      "Epoch 52/100\n",
      "128/128 [==============================] - 52s 408ms/step - loss: 0.8443 - accuracy: 0.6953 - val_loss: 0.8490 - val_accuracy: 0.6445\n",
      "Epoch 53/100\n",
      "128/128 [==============================] - 51s 400ms/step - loss: 0.8595 - accuracy: 0.6650 - val_loss: 0.8423 - val_accuracy: 0.6484\n",
      "Epoch 54/100\n",
      "128/128 [==============================] - 52s 409ms/step - loss: 0.7889 - accuracy: 0.7158 - val_loss: 0.8494 - val_accuracy: 0.6445\n",
      "Epoch 55/100\n",
      "128/128 [==============================] - 53s 411ms/step - loss: 0.8150 - accuracy: 0.7090 - val_loss: 0.8517 - val_accuracy: 0.6445\n",
      "Epoch 56/100\n",
      "128/128 [==============================] - 52s 403ms/step - loss: 0.8263 - accuracy: 0.7061 - val_loss: 0.8440 - val_accuracy: 0.6562\n"
     ]
    },
    {
     "name": "stdout",
     "output_type": "stream",
     "text": [
      "Epoch 57/100\n",
      "128/128 [==============================] - 51s 400ms/step - loss: 0.8265 - accuracy: 0.6855 - val_loss: 0.8520 - val_accuracy: 0.6367\n",
      "Epoch 58/100\n",
      "128/128 [==============================] - 52s 407ms/step - loss: 0.7855 - accuracy: 0.7090 - val_loss: 0.8440 - val_accuracy: 0.6602\n",
      "Epoch 59/100\n",
      "128/128 [==============================] - 53s 416ms/step - loss: 0.8472 - accuracy: 0.6738 - val_loss: 0.8422 - val_accuracy: 0.6523\n",
      "Epoch 60/100\n",
      "128/128 [==============================] - 54s 419ms/step - loss: 0.8767 - accuracy: 0.6650 - val_loss: 0.8452 - val_accuracy: 0.6523\n",
      "Epoch 61/100\n",
      "128/128 [==============================] - 53s 414ms/step - loss: 0.8187 - accuracy: 0.6885 - val_loss: 0.8468 - val_accuracy: 0.6562\n",
      "Epoch 62/100\n",
      "128/128 [==============================] - 54s 421ms/step - loss: 0.8273 - accuracy: 0.6924 - val_loss: 0.8534 - val_accuracy: 0.6602\n",
      "Epoch 63/100\n",
      "128/128 [==============================] - 53s 416ms/step - loss: 0.8169 - accuracy: 0.7070 - val_loss: 0.8449 - val_accuracy: 0.6484\n",
      "Epoch 64/100\n",
      "128/128 [==============================] - 52s 406ms/step - loss: 0.8032 - accuracy: 0.7002 - val_loss: 0.8406 - val_accuracy: 0.6523\n",
      "Epoch 65/100\n",
      "128/128 [==============================] - 52s 403ms/step - loss: 0.8469 - accuracy: 0.6768 - val_loss: 0.8420 - val_accuracy: 0.6602\n",
      "Epoch 66/100\n",
      "128/128 [==============================] - 53s 417ms/step - loss: 0.8283 - accuracy: 0.6973 - val_loss: 0.8360 - val_accuracy: 0.6484\n",
      "Epoch 67/100\n",
      "128/128 [==============================] - 55s 426ms/step - loss: 0.8528 - accuracy: 0.6797 - val_loss: 0.8341 - val_accuracy: 0.6406\n",
      "Epoch 68/100\n",
      "128/128 [==============================] - 54s 419ms/step - loss: 0.7991 - accuracy: 0.7100 - val_loss: 0.8309 - val_accuracy: 0.6445\n",
      "Epoch 69/100\n",
      "128/128 [==============================] - 52s 409ms/step - loss: 0.8614 - accuracy: 0.6758 - val_loss: 0.8326 - val_accuracy: 0.6523\n",
      "Epoch 70/100\n",
      "128/128 [==============================] - 53s 412ms/step - loss: 0.7964 - accuracy: 0.6963 - val_loss: 0.8373 - val_accuracy: 0.6641\n",
      "Epoch 71/100\n",
      "128/128 [==============================] - 51s 398ms/step - loss: 0.8409 - accuracy: 0.6953 - val_loss: 0.8491 - val_accuracy: 0.6445\n",
      "Epoch 72/100\n",
      "128/128 [==============================] - 51s 397ms/step - loss: 0.8723 - accuracy: 0.6533 - val_loss: 0.8381 - val_accuracy: 0.6406\n",
      "Epoch 73/100\n",
      "128/128 [==============================] - 50s 391ms/step - loss: 0.8420 - accuracy: 0.6895 - val_loss: 0.8375 - val_accuracy: 0.6406\n",
      "Epoch 74/100\n",
      "128/128 [==============================] - 51s 399ms/step - loss: 0.8219 - accuracy: 0.6934 - val_loss: 0.8431 - val_accuracy: 0.6445\n",
      "Epoch 75/100\n",
      "128/128 [==============================] - 52s 404ms/step - loss: 0.8228 - accuracy: 0.6914 - val_loss: 0.8358 - val_accuracy: 0.6406\n",
      "Epoch 76/100\n",
      "128/128 [==============================] - 54s 423ms/step - loss: 0.7996 - accuracy: 0.7031 - val_loss: 0.8417 - val_accuracy: 0.6445\n",
      "Epoch 77/100\n",
      "128/128 [==============================] - 53s 416ms/step - loss: 0.8352 - accuracy: 0.6904 - val_loss: 0.8351 - val_accuracy: 0.6406\n",
      "Epoch 78/100\n",
      "128/128 [==============================] - 50s 394ms/step - loss: 0.8078 - accuracy: 0.7002 - val_loss: 0.8331 - val_accuracy: 0.6406\n",
      "Epoch 79/100\n",
      "128/128 [==============================] - 51s 400ms/step - loss: 0.8070 - accuracy: 0.6934 - val_loss: 0.8320 - val_accuracy: 0.6445\n",
      "Epoch 80/100\n",
      "128/128 [==============================] - 53s 411ms/step - loss: 0.8224 - accuracy: 0.7275 - val_loss: 0.8367 - val_accuracy: 0.6445\n",
      "Epoch 81/100\n",
      "128/128 [==============================] - 58s 457ms/step - loss: 0.8076 - accuracy: 0.7070 - val_loss: 0.8312 - val_accuracy: 0.6445\n",
      "Epoch 82/100\n",
      "128/128 [==============================] - 56s 438ms/step - loss: 0.7555 - accuracy: 0.7246 - val_loss: 0.8321 - val_accuracy: 0.6406\n",
      "Epoch 83/100\n",
      "128/128 [==============================] - 52s 403ms/step - loss: 0.8232 - accuracy: 0.6855 - val_loss: 0.8299 - val_accuracy: 0.6562\n",
      "Epoch 84/100\n",
      "128/128 [==============================] - 53s 415ms/step - loss: 0.8162 - accuracy: 0.6924 - val_loss: 0.8257 - val_accuracy: 0.6484\n",
      "Epoch 85/100\n",
      "128/128 [==============================] - 51s 401ms/step - loss: 0.8256 - accuracy: 0.6982 - val_loss: 0.8388 - val_accuracy: 0.6484\n",
      "Epoch 86/100\n",
      "128/128 [==============================] - 52s 406ms/step - loss: 0.7777 - accuracy: 0.7178 - val_loss: 0.8331 - val_accuracy: 0.6445\n",
      "Epoch 87/100\n",
      "128/128 [==============================] - 52s 406ms/step - loss: 0.8792 - accuracy: 0.6729 - val_loss: 0.8305 - val_accuracy: 0.6523\n",
      "Epoch 88/100\n",
      "128/128 [==============================] - 51s 401ms/step - loss: 0.8336 - accuracy: 0.6924 - val_loss: 0.8363 - val_accuracy: 0.6562\n",
      "Epoch 89/100\n",
      "128/128 [==============================] - 52s 408ms/step - loss: 0.7972 - accuracy: 0.7041 - val_loss: 0.8273 - val_accuracy: 0.6523\n",
      "Epoch 90/100\n",
      "128/128 [==============================] - 51s 398ms/step - loss: 0.8007 - accuracy: 0.7100 - val_loss: 0.8282 - val_accuracy: 0.6562\n",
      "Epoch 91/100\n",
      "128/128 [==============================] - 51s 399ms/step - loss: 0.8217 - accuracy: 0.7041 - val_loss: 0.8301 - val_accuracy: 0.6523\n",
      "Epoch 92/100\n",
      "128/128 [==============================] - 52s 404ms/step - loss: 0.8280 - accuracy: 0.6963 - val_loss: 0.8295 - val_accuracy: 0.6562\n",
      "Epoch 93/100\n",
      "128/128 [==============================] - 52s 403ms/step - loss: 0.8004 - accuracy: 0.7266 - val_loss: 0.8327 - val_accuracy: 0.6406\n",
      "Epoch 94/100\n",
      "128/128 [==============================] - 51s 397ms/step - loss: 0.8083 - accuracy: 0.7021 - val_loss: 0.8314 - val_accuracy: 0.6445\n",
      "Epoch 95/100\n",
      "128/128 [==============================] - 51s 401ms/step - loss: 0.7997 - accuracy: 0.6982 - val_loss: 0.8376 - val_accuracy: 0.6484\n",
      "Epoch 96/100\n",
      "128/128 [==============================] - 52s 409ms/step - loss: 0.7819 - accuracy: 0.6934 - val_loss: 0.8316 - val_accuracy: 0.6523\n",
      "Epoch 97/100\n",
      "128/128 [==============================] - 53s 417ms/step - loss: 0.7705 - accuracy: 0.7168 - val_loss: 0.8392 - val_accuracy: 0.6445\n",
      "Epoch 98/100\n",
      "128/128 [==============================] - 53s 411ms/step - loss: 0.8466 - accuracy: 0.6816 - val_loss: 0.8372 - val_accuracy: 0.6484\n",
      "Epoch 99/100\n",
      "128/128 [==============================] - 53s 412ms/step - loss: 0.7796 - accuracy: 0.7061 - val_loss: 0.8358 - val_accuracy: 0.6484\n",
      "Epoch 100/100\n",
      "128/128 [==============================] - 53s 411ms/step - loss: 0.7837 - accuracy: 0.7119 - val_loss: 0.8291 - val_accuracy: 0.6680\n"
     ]
    }
   ],
   "source": [
    "history = model.fit(\n",
    "    train_dataset,\n",
    "    shuffle=True,\n",
    "    epochs=epochs,\n",
    "    steps_per_epoch=steps_per_epoch,\n",
    "    validation_data=validation_dataset,\n",
    "    validation_steps=validation_steps,\n",
    "    callbacks=callbacks,\n",
    ")"
   ]
  },
  {
   "cell_type": "code",
   "execution_count": 15,
   "id": "b484b48f",
   "metadata": {},
   "outputs": [
    {
     "name": "stdout",
     "output_type": "stream",
     "text": [
      "<keras.callbacks.History object at 0x7f831129bf70>\n"
     ]
    }
   ],
   "source": [
    "print(history)"
   ]
  },
  {
   "cell_type": "code",
   "execution_count": 18,
   "id": "94dfd7bf",
   "metadata": {},
   "outputs": [],
   "source": [
    "import pandas as pd\n",
    "import numpy as np\n",
    "\n",
    "from transformers import DistilBertTokenizer\n",
    "\n",
    "tokenizer = DistilBertTokenizer.from_pretrained('distilbert-base-uncased')\n",
    "\n",
    "def predict(text):\n",
    "    encode_plus_tokens = tokenizer.encode_plus(\n",
    "                            text,\n",
    "                            pad_to_max_length=True,\n",
    "                            max_length=max_seq_length,\n",
    "                            truncation=True,\n",
    "                            return_tensors='tf')\n",
    "    \n",
    "    input_ids = encode_plus_tokens['input_ids']\n",
    "    input_mask = encode_plus_tokens['attention_mask']\n",
    "    \n",
    "    outputs = model.predict(x=(input_ids,input_mask))\n",
    "    \n",
    "    prediction = [{\"label\":config.id2label[item.argmax()], \\\n",
    "                   \"socre\":item.max().item()} for item in outputs]\n",
    "\n",
    "    return prediction[0]"
   ]
  },
  {
   "cell_type": "code",
   "execution_count": null,
   "id": "c20cb381",
   "metadata": {},
   "outputs": [],
   "source": [
    "# Adhoc predict"
   ]
  },
  {
   "cell_type": "code",
   "execution_count": 19,
   "id": "97132b6e",
   "metadata": {},
   "outputs": [
    {
     "name": "stderr",
     "output_type": "stream",
     "text": [
      "/usr/local/lib/python3.10/dist-packages/transformers/tokenization_utils_base.py:2618: FutureWarning: The `pad_to_max_length` argument is deprecated and will be removed in a future version, use `padding=True` or `padding='longest'` to pad to the longest sequence in the batch, or use `padding='max_length'` to pad to a max length. In this case, you can give a specific length with `max_length` (e.g. `max_length=45`) or leave max_length to None to pad to the maximal input size of the model (e.g. 512 for Bert).\n",
      "  warnings.warn(\n"
     ]
    },
    {
     "name": "stdout",
     "output_type": "stream",
     "text": [
      "1/1 [==============================] - 2s 2s/step\n"
     ]
    },
    {
     "data": {
      "text/plain": [
       "{'label': 5, 'socre': 0.965910017490387}"
      ]
     },
     "execution_count": 19,
     "metadata": {},
     "output_type": "execute_result"
    }
   ],
   "source": [
    "predict(\"This is great!\")"
   ]
  },
  {
   "cell_type": "code",
   "execution_count": 20,
   "id": "eff5e8c7",
   "metadata": {},
   "outputs": [
    {
     "name": "stdout",
     "output_type": "stream",
     "text": [
      "1/1 [==============================] - 0s 62ms/step\n"
     ]
    },
    {
     "data": {
      "text/plain": [
       "{'label': 5, 'socre': 0.8241320848464966}"
      ]
     },
     "execution_count": 20,
     "metadata": {},
     "output_type": "execute_result"
    }
   ],
   "source": [
    "predict(\"This is cool.\")"
   ]
  },
  {
   "cell_type": "code",
   "execution_count": 21,
   "id": "233039e2",
   "metadata": {},
   "outputs": [
    {
     "name": "stdout",
     "output_type": "stream",
     "text": [
      "1/1 [==============================] - 0s 66ms/step\n"
     ]
    },
    {
     "data": {
      "text/plain": [
       "{'label': 1, 'socre': 0.5494773983955383}"
      ]
     },
     "execution_count": 21,
     "metadata": {},
     "output_type": "execute_result"
    }
   ],
   "source": [
    "predict(\"I don't like this.\")"
   ]
  },
  {
   "cell_type": "code",
   "execution_count": 22,
   "id": "f40ea7bb",
   "metadata": {},
   "outputs": [
    {
     "name": "stdout",
     "output_type": "stream",
     "text": [
      "1/1 [==============================] - 0s 58ms/step\n"
     ]
    },
    {
     "data": {
      "text/plain": [
       "{'label': 1, 'socre': 0.7059336304664612}"
      ]
     },
     "execution_count": 22,
     "metadata": {},
     "output_type": "execute_result"
    }
   ],
   "source": [
    "predict(\"This is stupid.\")"
   ]
  },
  {
   "cell_type": "code",
   "execution_count": 23,
   "id": "ede03f87",
   "metadata": {},
   "outputs": [
    {
     "name": "stdout",
     "output_type": "stream",
     "text": [
      "1/1 [==============================] - 0s 55ms/step\n"
     ]
    },
    {
     "data": {
      "text/plain": [
       "{'label': 3, 'socre': 0.38448843359947205}"
      ]
     },
     "execution_count": 23,
     "metadata": {},
     "output_type": "execute_result"
    }
   ],
   "source": [
    "predict(\"The color is a little bit different from the picture. But it is OK.\")"
   ]
  },
  {
   "cell_type": "code",
   "execution_count": 24,
   "id": "c8243159",
   "metadata": {},
   "outputs": [
    {
     "name": "stdout",
     "output_type": "stream",
     "text": [
      "WARNING:tensorflow:Skipping full serialization of Keras layer <keras.layers.regularization.dropout.Dropout object at 0x7f83152360b0>, because it is not built.\n",
      "WARNING:tensorflow:Skipping full serialization of Keras layer <keras.layers.regularization.dropout.Dropout object at 0x7f8315252d70>, because it is not built.\n",
      "WARNING:tensorflow:Skipping full serialization of Keras layer <keras.layers.regularization.dropout.Dropout object at 0x7f831197d150>, because it is not built.\n",
      "WARNING:tensorflow:Skipping full serialization of Keras layer <keras.layers.regularization.dropout.Dropout object at 0x7f831197fd90>, because it is not built.\n",
      "WARNING:tensorflow:Skipping full serialization of Keras layer <keras.layers.regularization.dropout.Dropout object at 0x7f831198aa10>, because it is not built.\n",
      "WARNING:tensorflow:Skipping full serialization of Keras layer <keras.layers.regularization.dropout.Dropout object at 0x7f831199d690>, because it is not built.\n"
     ]
    },
    {
     "name": "stderr",
     "output_type": "stream",
     "text": [
      "2024-01-08 14:39:41.993343: I tensorflow/core/common_runtime/executor.cc:1209] [/device:CPU:0] (DEBUG INFO) Executor start aborting (this does not indicate an error and you can ignore this message): INVALID_ARGUMENT: You must feed a value for placeholder tensor 'while/Placeholder_2' with dtype float and shape [?,50]\n",
      "\t [[{{node while/Placeholder_2}}]]\n",
      "2024-01-08 14:39:42.079179: I tensorflow/core/common_runtime/executor.cc:1209] [/device:CPU:0] (DEBUG INFO) Executor start aborting (this does not indicate an error and you can ignore this message): INVALID_ARGUMENT: You must feed a value for placeholder tensor 'while/Placeholder_2' with dtype float and shape [?,50]\n",
      "\t [[{{node while/Placeholder_2}}]]\n",
      "2024-01-08 14:39:42.104273: I tensorflow/core/common_runtime/executor.cc:1209] [/device:CPU:0] (DEBUG INFO) Executor start aborting (this does not indicate an error and you can ignore this message): INVALID_ARGUMENT: You must feed a value for placeholder tensor 'inputs' with dtype float and shape [?,?,768]\n",
      "\t [[{{node inputs}}]]\n",
      "2024-01-08 14:39:42.113222: I tensorflow/core/common_runtime/executor.cc:1209] [/device:CPU:0] (DEBUG INFO) Executor start aborting (this does not indicate an error and you can ignore this message): INVALID_ARGUMENT: You must feed a value for placeholder tensor 'inputs' with dtype float and shape [?,?,768]\n",
      "\t [[{{node inputs}}]]\n",
      "2024-01-08 14:39:42.122577: I tensorflow/core/common_runtime/executor.cc:1209] [/device:CPU:0] (DEBUG INFO) Executor start aborting (this does not indicate an error and you can ignore this message): INVALID_ARGUMENT: You must feed a value for placeholder tensor 'inputs' with dtype float and shape [?,768]\n",
      "\t [[{{node inputs}}]]\n",
      "2024-01-08 14:39:42.122726: I tensorflow/core/common_runtime/executor.cc:1209] [/device:CPU:0] (DEBUG INFO) Executor start aborting (this does not indicate an error and you can ignore this message): INVALID_ARGUMENT: You must feed a value for placeholder tensor 'states' with dtype float and shape [?,50]\n",
      "\t [[{{node states}}]]\n",
      "2024-01-08 14:39:42.131429: I tensorflow/core/common_runtime/executor.cc:1209] [/device:CPU:0] (DEBUG INFO) Executor start aborting (this does not indicate an error and you can ignore this message): INVALID_ARGUMENT: You must feed a value for placeholder tensor 'inputs' with dtype float and shape [?,768]\n",
      "\t [[{{node inputs}}]]\n",
      "2024-01-08 14:39:42.131574: I tensorflow/core/common_runtime/executor.cc:1209] [/device:CPU:0] (DEBUG INFO) Executor start aborting (this does not indicate an error and you can ignore this message): INVALID_ARGUMENT: You must feed a value for placeholder tensor 'states' with dtype float and shape [?,50]\n",
      "\t [[{{node states}}]]\n",
      "2024-01-08 14:39:42.270098: I tensorflow/core/common_runtime/executor.cc:1209] [/device:CPU:0] (DEBUG INFO) Executor start aborting (this does not indicate an error and you can ignore this message): INVALID_ARGUMENT: You must feed a value for placeholder tensor 'while/Placeholder_2' with dtype float and shape [?,50]\n",
      "\t [[{{node while/Placeholder_2}}]]\n",
      "2024-01-08 14:39:42.355951: I tensorflow/core/common_runtime/executor.cc:1209] [/device:CPU:0] (DEBUG INFO) Executor start aborting (this does not indicate an error and you can ignore this message): INVALID_ARGUMENT: You must feed a value for placeholder tensor 'while/Placeholder_2' with dtype float and shape [?,50]\n",
      "\t [[{{node while/Placeholder_2}}]]\n",
      "2024-01-08 14:39:42.381102: I tensorflow/core/common_runtime/executor.cc:1209] [/device:CPU:0] (DEBUG INFO) Executor start aborting (this does not indicate an error and you can ignore this message): INVALID_ARGUMENT: You must feed a value for placeholder tensor 'inputs' with dtype float and shape [?,?,768]\n",
      "\t [[{{node inputs}}]]\n",
      "2024-01-08 14:39:42.389623: I tensorflow/core/common_runtime/executor.cc:1209] [/device:CPU:0] (DEBUG INFO) Executor start aborting (this does not indicate an error and you can ignore this message): INVALID_ARGUMENT: You must feed a value for placeholder tensor 'inputs' with dtype float and shape [?,?,768]\n",
      "\t [[{{node inputs}}]]\n",
      "2024-01-08 14:39:42.398580: I tensorflow/core/common_runtime/executor.cc:1209] [/device:CPU:0] (DEBUG INFO) Executor start aborting (this does not indicate an error and you can ignore this message): INVALID_ARGUMENT: You must feed a value for placeholder tensor 'inputs' with dtype float and shape [?,768]\n",
      "\t [[{{node inputs}}]]\n",
      "2024-01-08 14:39:42.398729: I tensorflow/core/common_runtime/executor.cc:1209] [/device:CPU:0] (DEBUG INFO) Executor start aborting (this does not indicate an error and you can ignore this message): INVALID_ARGUMENT: You must feed a value for placeholder tensor 'states' with dtype float and shape [?,50]\n",
      "\t [[{{node states}}]]\n",
      "2024-01-08 14:39:42.407432: I tensorflow/core/common_runtime/executor.cc:1209] [/device:CPU:0] (DEBUG INFO) Executor start aborting (this does not indicate an error and you can ignore this message): INVALID_ARGUMENT: You must feed a value for placeholder tensor 'inputs' with dtype float and shape [?,768]\n",
      "\t [[{{node inputs}}]]\n",
      "2024-01-08 14:39:42.407579: I tensorflow/core/common_runtime/executor.cc:1209] [/device:CPU:0] (DEBUG INFO) Executor start aborting (this does not indicate an error and you can ignore this message): INVALID_ARGUMENT: You must feed a value for placeholder tensor 'states' with dtype float and shape [?,50]\n",
      "\t [[{{node states}}]]\n",
      "2024-01-08 14:39:42.638707: I tensorflow/core/common_runtime/executor.cc:1209] [/device:CPU:0] (DEBUG INFO) Executor start aborting (this does not indicate an error and you can ignore this message): INVALID_ARGUMENT: You must feed a value for placeholder tensor 'inputs' with dtype float and shape [?,?,?]\n",
      "\t [[{{node inputs}}]]\n",
      "2024-01-08 14:39:42.825449: I tensorflow/core/common_runtime/executor.cc:1209] [/device:CPU:0] (DEBUG INFO) Executor start aborting (this does not indicate an error and you can ignore this message): INVALID_ARGUMENT: You must feed a value for placeholder tensor 'inputs' with dtype float and shape [?,?,?]\n",
      "\t [[{{node inputs}}]]\n",
      "2024-01-08 14:39:42.971771: I tensorflow/core/common_runtime/executor.cc:1209] [/device:CPU:0] (DEBUG INFO) Executor start aborting (this does not indicate an error and you can ignore this message): INVALID_ARGUMENT: You must feed a value for placeholder tensor 'inputs' with dtype float and shape [?,?,?]\n",
      "\t [[{{node inputs}}]]\n",
      "2024-01-08 14:39:43.095067: I tensorflow/core/common_runtime/executor.cc:1209] [/device:CPU:0] (DEBUG INFO) Executor start aborting (this does not indicate an error and you can ignore this message): INVALID_ARGUMENT: You must feed a value for placeholder tensor 'inputs' with dtype float and shape [?,?,?]\n",
      "\t [[{{node inputs}}]]\n",
      "2024-01-08 14:39:43.111286: I tensorflow/core/common_runtime/executor.cc:1209] [/device:CPU:0] (DEBUG INFO) Executor start aborting (this does not indicate an error and you can ignore this message): INVALID_ARGUMENT: You must feed a value for placeholder tensor 'inputs' with dtype float and shape [?,?,?]\n",
      "\t [[{{node inputs}}]]\n",
      "2024-01-08 14:39:43.123867: I tensorflow/core/common_runtime/executor.cc:1209] [/device:CPU:0] (DEBUG INFO) Executor start aborting (this does not indicate an error and you can ignore this message): INVALID_ARGUMENT: You must feed a value for placeholder tensor 'inputs' with dtype float and shape [?,?,?]\n",
      "\t [[{{node inputs}}]]\n",
      "2024-01-08 14:39:43.134271: I tensorflow/core/common_runtime/executor.cc:1209] [/device:CPU:0] (DEBUG INFO) Executor start aborting (this does not indicate an error and you can ignore this message): INVALID_ARGUMENT: You must feed a value for placeholder tensor 'inputs' with dtype float and shape [?,?,?]\n",
      "\t [[{{node inputs}}]]\n",
      "2024-01-08 14:39:43.142875: I tensorflow/core/common_runtime/executor.cc:1209] [/device:CPU:0] (DEBUG INFO) Executor start aborting (this does not indicate an error and you can ignore this message): INVALID_ARGUMENT: You must feed a value for placeholder tensor 'inputs' with dtype float and shape [?,?,?]\n",
      "\t [[{{node inputs}}]]\n",
      "2024-01-08 14:39:43.153526: I tensorflow/core/common_runtime/executor.cc:1209] [/device:CPU:0] (DEBUG INFO) Executor start aborting (this does not indicate an error and you can ignore this message): INVALID_ARGUMENT: You must feed a value for placeholder tensor 'inputs' with dtype float and shape [?,?,?]\n",
      "\t [[{{node inputs}}]]\n",
      "2024-01-08 14:39:43.161788: I tensorflow/core/common_runtime/executor.cc:1209] [/device:CPU:0] (DEBUG INFO) Executor start aborting (this does not indicate an error and you can ignore this message): INVALID_ARGUMENT: You must feed a value for placeholder tensor 'inputs' with dtype float and shape [?,?,?]\n",
      "\t [[{{node inputs}}]]\n"
     ]
    },
    {
     "name": "stderr",
     "output_type": "stream",
     "text": [
      "2024-01-08 14:39:46.952418: I tensorflow/core/common_runtime/executor.cc:1209] [/device:CPU:0] (DEBUG INFO) Executor start aborting (this does not indicate an error and you can ignore this message): INVALID_ARGUMENT: You must feed a value for placeholder tensor 'inputs' with dtype float and shape [?,64,768]\n",
      "\t [[{{node inputs}}]]\n",
      "2024-01-08 14:39:46.963843: I tensorflow/core/common_runtime/executor.cc:1209] [/device:CPU:0] (DEBUG INFO) Executor start aborting (this does not indicate an error and you can ignore this message): INVALID_ARGUMENT: You must feed a value for placeholder tensor 'inputs' with dtype float and shape [?,64,768]\n",
      "\t [[{{node inputs}}]]\n",
      "2024-01-08 14:39:46.975999: I tensorflow/core/common_runtime/executor.cc:1209] [/device:CPU:0] (DEBUG INFO) Executor start aborting (this does not indicate an error and you can ignore this message): INVALID_ARGUMENT: You must feed a value for placeholder tensor 'inputs' with dtype float and shape [?,50]\n",
      "\t [[{{node inputs}}]]\n",
      "2024-01-08 14:39:52.728521: I tensorflow/core/common_runtime/executor.cc:1209] [/device:CPU:0] (DEBUG INFO) Executor start aborting (this does not indicate an error and you can ignore this message): INVALID_ARGUMENT: You must feed a value for placeholder tensor 'inputs_0' with dtype float and shape [?,?,?]\n",
      "\t [[{{node inputs_0}}]]\n",
      "2024-01-08 14:39:52.740004: I tensorflow/core/common_runtime/executor.cc:1209] [/device:CPU:0] (DEBUG INFO) Executor start aborting (this does not indicate an error and you can ignore this message): INVALID_ARGUMENT: You must feed a value for placeholder tensor 'inputs_0' with dtype float and shape [?,?,?]\n",
      "\t [[{{node inputs_0}}]]\n",
      "2024-01-08 14:39:52.753171: I tensorflow/core/common_runtime/executor.cc:1209] [/device:CPU:0] (DEBUG INFO) Executor start aborting (this does not indicate an error and you can ignore this message): INVALID_ARGUMENT: You must feed a value for placeholder tensor 'inputs' with dtype float and shape [?,64,768]\n",
      "\t [[{{node inputs}}]]\n",
      "2024-01-08 14:39:52.765585: I tensorflow/core/common_runtime/executor.cc:1209] [/device:CPU:0] (DEBUG INFO) Executor start aborting (this does not indicate an error and you can ignore this message): INVALID_ARGUMENT: You must feed a value for placeholder tensor 'inputs' with dtype float and shape [?,64,768]\n",
      "\t [[{{node inputs}}]]\n",
      "2024-01-08 14:39:53.957628: I tensorflow/core/common_runtime/executor.cc:1209] [/device:CPU:0] (DEBUG INFO) Executor start aborting (this does not indicate an error and you can ignore this message): INVALID_ARGUMENT: You must feed a value for placeholder tensor 'inputs' with dtype float and shape [?,50]\n",
      "\t [[{{node inputs}}]]\n",
      "2024-01-08 14:39:54.007031: I tensorflow/core/common_runtime/executor.cc:1209] [/device:CPU:0] (DEBUG INFO) Executor start aborting (this does not indicate an error and you can ignore this message): INVALID_ARGUMENT: You must feed a value for placeholder tensor 'inputs_0' with dtype float and shape [?,?,768]\n",
      "\t [[{{node inputs_0}}]]\n",
      "2024-01-08 14:39:54.014940: I tensorflow/core/common_runtime/executor.cc:1209] [/device:CPU:0] (DEBUG INFO) Executor start aborting (this does not indicate an error and you can ignore this message): INVALID_ARGUMENT: You must feed a value for placeholder tensor 'inputs_0' with dtype float and shape [?,?,768]\n",
      "\t [[{{node inputs_0}}]]\n",
      "2024-01-08 14:39:54.023783: I tensorflow/core/common_runtime/executor.cc:1209] [/device:CPU:0] (DEBUG INFO) Executor start aborting (this does not indicate an error and you can ignore this message): INVALID_ARGUMENT: You must feed a value for placeholder tensor 'inputs' with dtype float and shape [?,?,?]\n",
      "\t [[{{node inputs}}]]\n",
      "2024-01-08 14:39:54.031663: I tensorflow/core/common_runtime/executor.cc:1209] [/device:CPU:0] (DEBUG INFO) Executor start aborting (this does not indicate an error and you can ignore this message): INVALID_ARGUMENT: You must feed a value for placeholder tensor 'inputs' with dtype float and shape [?,?,?]\n",
      "\t [[{{node inputs}}]]\n",
      "2024-01-08 14:39:54.615478: I tensorflow/core/common_runtime/executor.cc:1209] [/device:CPU:0] (DEBUG INFO) Executor start aborting (this does not indicate an error and you can ignore this message): INVALID_ARGUMENT: You must feed a value for placeholder tensor 'inputs_0' with dtype float and shape [?,?,768]\n",
      "\t [[{{node inputs_0}}]]\n",
      "2024-01-08 14:39:54.624144: I tensorflow/core/common_runtime/executor.cc:1209] [/device:CPU:0] (DEBUG INFO) Executor start aborting (this does not indicate an error and you can ignore this message): INVALID_ARGUMENT: You must feed a value for placeholder tensor 'inputs_0' with dtype float and shape [?,?,768]\n",
      "\t [[{{node inputs_0}}]]\n",
      "2024-01-08 14:39:54.867463: I tensorflow/core/common_runtime/executor.cc:1209] [/device:CPU:0] (DEBUG INFO) Executor start aborting (this does not indicate an error and you can ignore this message): INVALID_ARGUMENT: You must feed a value for placeholder tensor 'inputs' with dtype float and shape [?,?,?]\n",
      "\t [[{{node inputs}}]]\n",
      "2024-01-08 14:39:54.887046: I tensorflow/core/common_runtime/executor.cc:1209] [/device:CPU:0] (DEBUG INFO) Executor start aborting (this does not indicate an error and you can ignore this message): INVALID_ARGUMENT: You must feed a value for placeholder tensor 'inputs' with dtype float and shape [?,?,?]\n",
      "\t [[{{node inputs}}]]\n",
      "2024-01-08 14:39:55.508195: I tensorflow/core/common_runtime/executor.cc:1209] [/device:CPU:0] (DEBUG INFO) Executor start aborting (this does not indicate an error and you can ignore this message): INVALID_ARGUMENT: You must feed a value for placeholder tensor 'inputs' with dtype float and shape [?,768]\n",
      "\t [[{{node inputs}}]]\n",
      "2024-01-08 14:39:55.508400: I tensorflow/core/common_runtime/executor.cc:1209] [/device:CPU:0] (DEBUG INFO) Executor start aborting (this does not indicate an error and you can ignore this message): INVALID_ARGUMENT: You must feed a value for placeholder tensor 'states_0' with dtype float and shape [?,50]\n",
      "\t [[{{node states_0}}]]\n",
      "2024-01-08 14:39:55.516940: I tensorflow/core/common_runtime/executor.cc:1209] [/device:CPU:0] (DEBUG INFO) Executor start aborting (this does not indicate an error and you can ignore this message): INVALID_ARGUMENT: You must feed a value for placeholder tensor 'inputs' with dtype float and shape [?,768]\n",
      "\t [[{{node inputs}}]]\n",
      "2024-01-08 14:39:55.517088: I tensorflow/core/common_runtime/executor.cc:1209] [/device:CPU:0] (DEBUG INFO) Executor start aborting (this does not indicate an error and you can ignore this message): INVALID_ARGUMENT: You must feed a value for placeholder tensor 'states_0' with dtype float and shape [?,50]\n",
      "\t [[{{node states_0}}]]\n",
      "2024-01-08 14:39:55.634737: I tensorflow/core/common_runtime/executor.cc:1209] [/device:CPU:0] (DEBUG INFO) Executor start aborting (this does not indicate an error and you can ignore this message): INVALID_ARGUMENT: You must feed a value for placeholder tensor 'inputs' with dtype float and shape [?,768]\n",
      "\t [[{{node inputs}}]]\n",
      "2024-01-08 14:39:55.634887: I tensorflow/core/common_runtime/executor.cc:1209] [/device:CPU:0] (DEBUG INFO) Executor start aborting (this does not indicate an error and you can ignore this message): INVALID_ARGUMENT: You must feed a value for placeholder tensor 'states_0' with dtype float and shape [?,50]\n",
      "\t [[{{node states_0}}]]\n",
      "2024-01-08 14:39:55.642916: I tensorflow/core/common_runtime/executor.cc:1209] [/device:CPU:0] (DEBUG INFO) Executor start aborting (this does not indicate an error and you can ignore this message): INVALID_ARGUMENT: You must feed a value for placeholder tensor 'inputs' with dtype float and shape [?,768]\n",
      "\t [[{{node inputs}}]]\n",
      "2024-01-08 14:39:55.643061: I tensorflow/core/common_runtime/executor.cc:1209] [/device:CPU:0] (DEBUG INFO) Executor start aborting (this does not indicate an error and you can ignore this message): INVALID_ARGUMENT: You must feed a value for placeholder tensor 'states_0' with dtype float and shape [?,50]\n",
      "\t [[{{node states_0}}]]\n",
      "WARNING:absl:Found untraced functions such as embeddings_layer_call_fn, embeddings_layer_call_and_return_conditional_losses, transformer_layer_call_fn, transformer_layer_call_and_return_conditional_losses, LayerNorm_layer_call_fn while saving (showing 5 of 164). These functions will not be directly callable after loading.\n"
     ]
    },
    {
     "name": "stdout",
     "output_type": "stream",
     "text": [
      "INFO:tensorflow:Assets written to: /mnt/tensorflow/assets\n"
     ]
    },
    {
     "name": "stderr",
     "output_type": "stream",
     "text": [
      "INFO:tensorflow:Assets written to: /mnt/tensorflow/assets\n"
     ]
    }
   ],
   "source": [
    "model.save('/mnt/tensorflow/',save_format='tf')"
   ]
  },
  {
   "cell_type": "code",
   "execution_count": 25,
   "id": "8c3f5a49",
   "metadata": {},
   "outputs": [
    {
     "name": "stdout",
     "output_type": "stream",
     "text": [
      "total 4912\r\n",
      "drwxr-xr-x 2 root root    4096 Jan  8 14:39 assets\r\n",
      "-rw-r--r-- 1 root root      56 Jan  8 14:39 fingerprint.pb\r\n",
      "-rw-r--r-- 1 root root   98619 Jan  8 14:40 keras_metadata.pb\r\n",
      "-rw-r--r-- 1 root root 4914311 Jan  8 14:39 saved_model.pb\r\n",
      "drwxr-xr-x 2 root root    4096 Jan  8 14:39 variables\r\n"
     ]
    }
   ],
   "source": [
    "!ls -l /mnt/tensorflow"
   ]
  },
  {
   "cell_type": "code",
   "execution_count": null,
   "id": "54fc5758",
   "metadata": {},
   "outputs": [],
   "source": [
    "%%html\n",
    "\n",
    "<p><b>Shutting down your kernel for this notebook to release resources.</b></p>\n",
    "<button class=\"sm-command-button\" data-commandlinker-command=\"kernelmenu:shutdown\" style=\"display:none;\">Shutdown Kernel</button>\n",
    "        \n",
    "<script>\n",
    "try {\n",
    "    els = document.getElementsByClassName(\"sm-command-button\");\n",
    "    els[0].click();\n",
    "}\n",
    "catch(err) {\n",
    "    // NoOp\n",
    "}    \n",
    "</script>"
   ]
  },
  {
   "cell_type": "code",
   "execution_count": null,
   "id": "9c6ae082",
   "metadata": {},
   "outputs": [],
   "source": []
  }
 ],
 "metadata": {
  "kernelspec": {
   "display_name": "Python 3 (ipykernel)",
   "language": "python",
   "name": "python3"
  },
  "language_info": {
   "codemirror_mode": {
    "name": "ipython",
    "version": 3
   },
   "file_extension": ".py",
   "mimetype": "text/x-python",
   "name": "python",
   "nbconvert_exporter": "python",
   "pygments_lexer": "ipython3",
   "version": "3.10.6"
  }
 },
 "nbformat": 4,
 "nbformat_minor": 5
}
