{
 "cells": [
  {
   "cell_type": "code",
   "execution_count": 1,
   "id": "090cb7bb",
   "metadata": {
    "scrolled": true
   },
   "outputs": [
    {
     "name": "stdout",
     "output_type": "stream",
     "text": [
      "Collecting transformers\n",
      "  Downloading transformers-4.36.2-py3-none-any.whl (8.2 MB)\n",
      "\u001b[2K     \u001b[90m━━━━━━━━━━━━━━━━━━━━━━━━━━━━━━━━━━━━━━━━\u001b[0m \u001b[32m8.2/8.2 MB\u001b[0m \u001b[31m49.6 MB/s\u001b[0m eta \u001b[36m0:00:00\u001b[0m00:01\u001b[0m00:01\u001b[0m\n",
      "\u001b[?25hCollecting filelock (from transformers)\n",
      "  Downloading filelock-3.13.1-py3-none-any.whl (11 kB)\n",
      "Collecting huggingface-hub<1.0,>=0.19.3 (from transformers)\n",
      "  Downloading huggingface_hub-0.20.2-py3-none-any.whl (330 kB)\n",
      "\u001b[2K     \u001b[90m━━━━━━━━━━━━━━━━━━━━━━━━━━━━━━━━━━━━━━\u001b[0m \u001b[32m330.3/330.3 kB\u001b[0m \u001b[31m51.3 MB/s\u001b[0m eta \u001b[36m0:00:00\u001b[0m\n",
      "\u001b[?25hRequirement already satisfied: numpy>=1.17 in /usr/local/lib/python3.10/dist-packages (from transformers) (1.22.2)\n",
      "Requirement already satisfied: packaging>=20.0 in /usr/local/lib/python3.10/dist-packages (from transformers) (23.1)\n",
      "Requirement already satisfied: pyyaml>=5.1 in /usr/local/lib/python3.10/dist-packages (from transformers) (6.0)\n",
      "Collecting regex!=2019.12.17 (from transformers)\n",
      "  Downloading regex-2023.12.25-cp310-cp310-manylinux_2_17_x86_64.manylinux2014_x86_64.whl (773 kB)\n",
      "\u001b[2K     \u001b[90m━━━━━━━━━━━━━━━━━━━━━━━━━━━━━━━━━━━━━━\u001b[0m \u001b[32m774.0/774.0 kB\u001b[0m \u001b[31m90.7 MB/s\u001b[0m eta \u001b[36m0:00:00\u001b[0m\n",
      "\u001b[?25hRequirement already satisfied: requests in /usr/local/lib/python3.10/dist-packages (from transformers) (2.31.0)\n",
      "Collecting tokenizers<0.19,>=0.14 (from transformers)\n",
      "  Downloading tokenizers-0.15.0-cp310-cp310-manylinux_2_17_x86_64.manylinux2014_x86_64.whl (3.8 MB)\n",
      "\u001b[2K     \u001b[90m━━━━━━━━━━━━━━━━━━━━━━━━━━━━━━━━━━━━━━━━\u001b[0m \u001b[32m3.8/3.8 MB\u001b[0m \u001b[31m77.8 MB/s\u001b[0m eta \u001b[36m0:00:00\u001b[0m:00:01\u001b[0m\n",
      "\u001b[?25hCollecting safetensors>=0.3.1 (from transformers)\n",
      "  Downloading safetensors-0.4.1-cp310-cp310-manylinux_2_17_x86_64.manylinux2014_x86_64.whl (1.3 MB)\n",
      "\u001b[2K     \u001b[90m━━━━━━━━━━━━━━━━━━━━━━━━━━━━━━━━━━━━━━━━\u001b[0m \u001b[32m1.3/1.3 MB\u001b[0m \u001b[31m100.8 MB/s\u001b[0m eta \u001b[36m0:00:00\u001b[0m\n",
      "\u001b[?25hCollecting tqdm>=4.27 (from transformers)\n",
      "  Downloading tqdm-4.66.1-py3-none-any.whl (78 kB)\n",
      "\u001b[2K     \u001b[90m━━━━━━━━━━━━━━━━━━━━━━━━━━━━━━━━━━━━━━━━\u001b[0m \u001b[32m78.3/78.3 kB\u001b[0m \u001b[31m24.6 MB/s\u001b[0m eta \u001b[36m0:00:00\u001b[0m\n",
      "\u001b[?25hRequirement already satisfied: fsspec>=2023.5.0 in /usr/local/lib/python3.10/dist-packages (from huggingface-hub<1.0,>=0.19.3->transformers) (2023.6.0)\n",
      "Requirement already satisfied: typing-extensions>=3.7.4.3 in /usr/local/lib/python3.10/dist-packages (from huggingface-hub<1.0,>=0.19.3->transformers) (4.7.1)\n",
      "Requirement already satisfied: charset-normalizer<4,>=2 in /usr/local/lib/python3.10/dist-packages (from requests->transformers) (3.1.0)\n",
      "Requirement already satisfied: idna<4,>=2.5 in /usr/local/lib/python3.10/dist-packages (from requests->transformers) (3.4)\n",
      "Requirement already satisfied: urllib3<3,>=1.21.1 in /usr/local/lib/python3.10/dist-packages (from requests->transformers) (1.26.16)\n",
      "Requirement already satisfied: certifi>=2017.4.17 in /usr/local/lib/python3.10/dist-packages (from requests->transformers) (2023.5.7)\n",
      "Installing collected packages: tqdm, safetensors, regex, filelock, huggingface-hub, tokenizers, transformers\n",
      "Successfully installed filelock-3.13.1 huggingface-hub-0.20.2 regex-2023.12.25 safetensors-0.4.1 tokenizers-0.15.0 tqdm-4.66.1 transformers-4.36.2\n",
      "\u001b[33mWARNING: Running pip as the 'root' user can result in broken permissions and conflicting behaviour with the system package manager. It is recommended to use a virtual environment instead: https://pip.pypa.io/warnings/venv\u001b[0m\u001b[33m\n",
      "\u001b[0m"
     ]
    }
   ],
   "source": [
    "!pip install transformers"
   ]
  },
  {
   "cell_type": "code",
   "execution_count": 2,
   "id": "58c0c8fc",
   "metadata": {
    "scrolled": true
   },
   "outputs": [
    {
     "name": "stdout",
     "output_type": "stream",
     "text": [
      "\u001b[33mWARNING: Skipping matplotlib as it is not installed.\u001b[0m\u001b[33m\n",
      "\u001b[0m\u001b[33mWARNING: Running pip as the 'root' user can result in broken permissions and conflicting behaviour with the system package manager. It is recommended to use a virtual environment instead: https://pip.pypa.io/warnings/venv\u001b[0m\u001b[33m\n",
      "\u001b[0mCollecting matplotlib==3.7.3\n",
      "  Downloading matplotlib-3.7.3-cp310-cp310-manylinux_2_17_x86_64.manylinux2014_x86_64.whl (11.6 MB)\n",
      "\u001b[2K     \u001b[90m━━━━━━━━━━━━━━━━━━━━━━━━━━━━━━━━━━━━━━━━\u001b[0m \u001b[32m11.6/11.6 MB\u001b[0m \u001b[31m59.2 MB/s\u001b[0m eta \u001b[36m0:00:00\u001b[0m00:01\u001b[0m0:01\u001b[0m\n",
      "\u001b[?25hCollecting contourpy>=1.0.1 (from matplotlib==3.7.3)\n",
      "  Downloading contourpy-1.2.0-cp310-cp310-manylinux_2_17_x86_64.manylinux2014_x86_64.whl (310 kB)\n",
      "\u001b[2K     \u001b[90m━━━━━━━━━━━━━━━━━━━━━━━━━━━━━━━━━━━━━━\u001b[0m \u001b[32m310.7/310.7 kB\u001b[0m \u001b[31m61.0 MB/s\u001b[0m eta \u001b[36m0:00:00\u001b[0m\n",
      "\u001b[?25hCollecting cycler>=0.10 (from matplotlib==3.7.3)\n",
      "  Downloading cycler-0.12.1-py3-none-any.whl (8.3 kB)\n",
      "Collecting fonttools>=4.22.0 (from matplotlib==3.7.3)\n",
      "  Downloading fonttools-4.47.2-cp310-cp310-manylinux_2_17_x86_64.manylinux2014_x86_64.whl (4.6 MB)\n",
      "\u001b[2K     \u001b[90m━━━━━━━━━━━━━━━━━━━━━━━━━━━━━━━━━━━━━━━━\u001b[0m \u001b[32m4.6/4.6 MB\u001b[0m \u001b[31m79.2 MB/s\u001b[0m eta \u001b[36m0:00:00\u001b[0mta \u001b[36m0:00:01\u001b[0m\n",
      "\u001b[?25hCollecting kiwisolver>=1.0.1 (from matplotlib==3.7.3)\n",
      "  Downloading kiwisolver-1.4.5-cp310-cp310-manylinux_2_12_x86_64.manylinux2010_x86_64.whl (1.6 MB)\n",
      "\u001b[2K     \u001b[90m━━━━━━━━━━━━━━━━━━━━━━━━━━━━━━━━━━━━━━━━\u001b[0m \u001b[32m1.6/1.6 MB\u001b[0m \u001b[31m85.0 MB/s\u001b[0m eta \u001b[36m0:00:00\u001b[0m\n",
      "\u001b[?25hRequirement already satisfied: numpy<2,>=1.20 in /usr/local/lib/python3.10/dist-packages (from matplotlib==3.7.3) (1.22.2)\n",
      "Requirement already satisfied: packaging>=20.0 in /usr/local/lib/python3.10/dist-packages (from matplotlib==3.7.3) (23.1)\n",
      "Requirement already satisfied: pillow>=6.2.0 in /usr/local/lib/python3.10/dist-packages (from matplotlib==3.7.3) (9.5.0)\n",
      "Requirement already satisfied: pyparsing>=2.3.1 in /usr/local/lib/python3.10/dist-packages (from matplotlib==3.7.3) (3.1.0)\n",
      "Requirement already satisfied: python-dateutil>=2.7 in /usr/local/lib/python3.10/dist-packages (from matplotlib==3.7.3) (2.8.2)\n",
      "Requirement already satisfied: six>=1.5 in /usr/local/lib/python3.10/dist-packages (from python-dateutil>=2.7->matplotlib==3.7.3) (1.16.0)\n",
      "Installing collected packages: kiwisolver, fonttools, cycler, contourpy, matplotlib\n",
      "Successfully installed contourpy-1.2.0 cycler-0.12.1 fonttools-4.47.2 kiwisolver-1.4.5 matplotlib-3.7.3\n",
      "\u001b[33mWARNING: Running pip as the 'root' user can result in broken permissions and conflicting behaviour with the system package manager. It is recommended to use a virtual environment instead: https://pip.pypa.io/warnings/venv\u001b[0m\u001b[33m\n",
      "\u001b[0m"
     ]
    }
   ],
   "source": [
    "!pip uninstall -y matplotlib\n",
    "!pip install matplotlib==3.7.3"
   ]
  },
  {
   "cell_type": "code",
   "execution_count": 3,
   "id": "82e6f70d",
   "metadata": {},
   "outputs": [
    {
     "name": "stderr",
     "output_type": "stream",
     "text": [
      "2024-01-14 11:31:26.844674: I tensorflow/core/platform/cpu_feature_guard.cc:183] This TensorFlow binary is optimized to use available CPU instructions in performance-critical operations.\n",
      "To enable the following instructions: SSE3 SSE4.1 SSE4.2 AVX, in other operations, rebuild TensorFlow with the appropriate compiler flags.\n",
      "/usr/local/lib/python3.10/dist-packages/tqdm/auto.py:21: TqdmWarning: IProgress not found. Please update jupyter and ipywidgets. See https://ipywidgets.readthedocs.io/en/stable/user_install.html\n",
      "  from .autonotebook import tqdm as notebook_tqdm\n"
     ]
    }
   ],
   "source": [
    "import time\n",
    "import random\n",
    "import pandas as pd\n",
    "from glob import glob\n",
    "import argparse\n",
    "import json\n",
    "import subprocess\n",
    "import sys\n",
    "import os\n",
    "import tensorflow as tf\n",
    "from transformers import DistilBertTokenizer\n",
    "from transformers import TFDistilBertForSequenceClassification\n",
    "from transformers import DistilBertConfig"
   ]
  },
  {
   "cell_type": "code",
   "execution_count": 4,
   "id": "775776f4",
   "metadata": {},
   "outputs": [],
   "source": [
    "# Define the connection between Input data and Label"
   ]
  },
  {
   "cell_type": "code",
   "execution_count": 5,
   "id": "a61eed2f",
   "metadata": {},
   "outputs": [],
   "source": [
    "def select_data_and_label_from_record(record):\n",
    "    x = {\n",
    "        \"input_ids\": record[\"input_ids\"],\n",
    "        \"input_mask\": record[\"input_mask\"],\n",
    "    }\n",
    "    y = record[\"label_ids\"]\n",
    "\n",
    "    return (x, y)"
   ]
  },
  {
   "cell_type": "code",
   "execution_count": 6,
   "id": "6545c673",
   "metadata": {},
   "outputs": [],
   "source": [
    "def file_based_input_dataset_builder(channel, input_filenames, max_seq_length, is_training, drop_remainder):\n",
    "    # トレーニング時には並列読み出しとシャッフルを行う。\n",
    "    # 評価時にはシャッフルは行わず、並列読み出しは効果がない。\n",
    "\n",
    "    dataset = tf.data.TFRecordDataset(input_filenames)\n",
    "    dataset = dataset.repeat(100)\n",
    "    dataset = dataset.prefetch(tf.data.experimental.AUTOTUNE)\n",
    "\n",
    "    name_to_features = {\n",
    "        \"input_ids\": tf.io.FixedLenFeature([max_seq_length], tf.int64),\n",
    "        \"input_mask\": tf.io.FixedLenFeature([max_seq_length], tf.int64),\n",
    "        \"label_ids\": tf.io.FixedLenFeature([], tf.int64),\n",
    "    }\n",
    "\n",
    "    def _decode_record(record, name_to_features):\n",
    "        \"\"\"Decodes a record to a TensorFlow example.\"\"\"\n",
    "        return tf.io.parse_single_example(record, name_to_features)\n",
    "\n",
    "    dataset = dataset.apply(\n",
    "        tf.data.experimental.map_and_batch(\n",
    "            lambda record: _decode_record(record, name_to_features),\n",
    "            batch_size=8,\n",
    "            drop_remainder=drop_remainder,\n",
    "            num_parallel_calls=tf.data.experimental.AUTOTUNE,\n",
    "        )\n",
    "    )\n",
    "\n",
    "    dataset.cache()\n",
    "\n",
    "    if is_training:\n",
    "        dataset = dataset.shuffle(seed=42, buffer_size=10, reshuffle_each_iteration=True)\n",
    "\n",
    "    return dataset"
   ]
  },
  {
   "cell_type": "code",
   "execution_count": 7,
   "id": "97b081fc",
   "metadata": {
    "scrolled": true
   },
   "outputs": [
    {
     "name": "stdout",
     "output_type": "stream",
     "text": [
      "train_data_filenames /mnt/train_data.tfrecord\n",
      "WARNING:tensorflow:From /tmp/ipykernel_418/1897154758.py:20: map_and_batch (from tensorflow.python.data.experimental.ops.batching) is deprecated and will be removed in a future version.\n",
      "Instructions for updating:\n",
      "Use `tf.data.Dataset.map(map_func, num_parallel_calls)` followed by `tf.data.Dataset.batch(batch_size, drop_remainder)`. Static tf.data optimizations will take care of using the fused implementation.\n"
     ]
    },
    {
     "name": "stderr",
     "output_type": "stream",
     "text": [
      "2024-01-14 11:31:30.249014: I tensorflow/compiler/xla/stream_executor/cuda/cuda_gpu_executor.cc:1013] successful NUMA node read from SysFS had negative value (-1), but there must be at least one NUMA node, so returning NUMA node zero. See more at https://github.com/torvalds/linux/blob/v6.0/Documentation/ABI/testing/sysfs-bus-pci#L344-L355\n",
      "2024-01-14 11:31:30.306495: I tensorflow/compiler/xla/stream_executor/cuda/cuda_gpu_executor.cc:1013] successful NUMA node read from SysFS had negative value (-1), but there must be at least one NUMA node, so returning NUMA node zero. See more at https://github.com/torvalds/linux/blob/v6.0/Documentation/ABI/testing/sysfs-bus-pci#L344-L355\n",
      "2024-01-14 11:31:30.306729: I tensorflow/compiler/xla/stream_executor/cuda/cuda_gpu_executor.cc:1013] successful NUMA node read from SysFS had negative value (-1), but there must be at least one NUMA node, so returning NUMA node zero. See more at https://github.com/torvalds/linux/blob/v6.0/Documentation/ABI/testing/sysfs-bus-pci#L344-L355\n",
      "2024-01-14 11:31:30.308842: I tensorflow/compiler/xla/stream_executor/cuda/cuda_gpu_executor.cc:1013] successful NUMA node read from SysFS had negative value (-1), but there must be at least one NUMA node, so returning NUMA node zero. See more at https://github.com/torvalds/linux/blob/v6.0/Documentation/ABI/testing/sysfs-bus-pci#L344-L355\n",
      "2024-01-14 11:31:30.309031: I tensorflow/compiler/xla/stream_executor/cuda/cuda_gpu_executor.cc:1013] successful NUMA node read from SysFS had negative value (-1), but there must be at least one NUMA node, so returning NUMA node zero. See more at https://github.com/torvalds/linux/blob/v6.0/Documentation/ABI/testing/sysfs-bus-pci#L344-L355\n",
      "2024-01-14 11:31:30.309171: I tensorflow/compiler/xla/stream_executor/cuda/cuda_gpu_executor.cc:1013] successful NUMA node read from SysFS had negative value (-1), but there must be at least one NUMA node, so returning NUMA node zero. See more at https://github.com/torvalds/linux/blob/v6.0/Documentation/ABI/testing/sysfs-bus-pci#L344-L355\n",
      "2024-01-14 11:31:30.384381: I tensorflow/compiler/xla/stream_executor/cuda/cuda_gpu_executor.cc:1013] successful NUMA node read from SysFS had negative value (-1), but there must be at least one NUMA node, so returning NUMA node zero. See more at https://github.com/torvalds/linux/blob/v6.0/Documentation/ABI/testing/sysfs-bus-pci#L344-L355\n",
      "2024-01-14 11:31:30.384578: I tensorflow/compiler/xla/stream_executor/cuda/cuda_gpu_executor.cc:1013] successful NUMA node read from SysFS had negative value (-1), but there must be at least one NUMA node, so returning NUMA node zero. See more at https://github.com/torvalds/linux/blob/v6.0/Documentation/ABI/testing/sysfs-bus-pci#L344-L355\n",
      "2024-01-14 11:31:30.384714: I tensorflow/compiler/xla/stream_executor/cuda/cuda_gpu_executor.cc:1013] successful NUMA node read from SysFS had negative value (-1), but there must be at least one NUMA node, so returning NUMA node zero. See more at https://github.com/torvalds/linux/blob/v6.0/Documentation/ABI/testing/sysfs-bus-pci#L344-L355\n",
      "2024-01-14 11:31:30.384880: I tensorflow/core/common_runtime/gpu/gpu_device.cc:1638] Created device /job:localhost/replica:0/task:0/device:GPU:0 with 7316 MB memory:  -> device: 0, name: Quadro P4000, pci bus id: 0000:03:00.0, compute capability: 6.1\n"
     ]
    }
   ],
   "source": [
    "# train_data = \"./data-tfrecord/bert-train\"\n",
    "train_data_filenames = \"/mnt/train_data.tfrecord\"\n",
    "print(\"train_data_filenames {}\".format(train_data_filenames))\n",
    "\n",
    "train_dataset = file_based_input_dataset_builder(\n",
    "    channel=\"train\", \n",
    "    input_filenames=train_data_filenames, \n",
    "    max_seq_length=64, \n",
    "    is_training=True, \n",
    "    drop_remainder=False\n",
    ").map(select_data_and_label_from_record)"
   ]
  },
  {
   "cell_type": "code",
   "execution_count": 8,
   "id": "782302e1",
   "metadata": {},
   "outputs": [
    {
     "name": "stdout",
     "output_type": "stream",
     "text": [
      "<_MapDataset element_spec=({'input_ids': TensorSpec(shape=(None, 64), dtype=tf.int64, name=None), 'input_mask': TensorSpec(shape=(None, 64), dtype=tf.int64, name=None)}, TensorSpec(shape=(None,), dtype=tf.int64, name=None))>\n"
     ]
    }
   ],
   "source": [
    "print(train_dataset)"
   ]
  },
  {
   "cell_type": "code",
   "execution_count": 9,
   "id": "6da07a0c",
   "metadata": {},
   "outputs": [
    {
     "name": "stdout",
     "output_type": "stream",
     "text": [
      "validation_data_filenames /mnt/validation_data.tfrecord\n"
     ]
    }
   ],
   "source": [
    "# validation_data = \"./data-tfrecord/bert-validation\"\n",
    "validation_data_filenames = \"/mnt/validation_data.tfrecord\"\n",
    "print(\"validation_data_filenames {}\".format(validation_data_filenames))\n",
    "\n",
    "validation_dataset = file_based_input_dataset_builder(\n",
    "    channel=\"validation\",\n",
    "    input_filenames=validation_data_filenames,\n",
    "    max_seq_length=64,\n",
    "    is_training=False,\n",
    "    drop_remainder=False,\n",
    ").map(select_data_and_label_from_record)"
   ]
  },
  {
   "cell_type": "code",
   "execution_count": 10,
   "id": "9e2bb084",
   "metadata": {},
   "outputs": [],
   "source": [
    "epochs = 1\n",
    "steps_per_epoch = 1\n",
    "validation_steps = 1\n",
    "test_steps = 1\n",
    "freeze_bert_layer = True\n",
    "learning_rate = 3e-5\n",
    "epsilon = 1e-08\n",
    "max_seq_length = 64"
   ]
  },
  {
   "cell_type": "code",
   "execution_count": 11,
   "id": "d885da1a",
   "metadata": {
    "scrolled": true
   },
   "outputs": [
    {
     "name": "stderr",
     "output_type": "stream",
     "text": [
      "config.json: 100%|█████████████████████████████████████████████████████████████████████| 483/483 [00:00<00:00, 1.49MB/s]"
     ]
    },
    {
     "name": "stdout",
     "output_type": "stream",
     "text": [
      "DistilBertConfig {\n",
      "  \"activation\": \"gelu\",\n",
      "  \"architectures\": [\n",
      "    \"DistilBertForMaskedLM\"\n",
      "  ],\n",
      "  \"attention_dropout\": 0.1,\n",
      "  \"dim\": 768,\n",
      "  \"dropout\": 0.1,\n",
      "  \"hidden_dim\": 3072,\n",
      "  \"id2label\": {\n",
      "    \"0\": 1,\n",
      "    \"1\": 2,\n",
      "    \"2\": 3,\n",
      "    \"3\": 4,\n",
      "    \"4\": 5\n",
      "  },\n",
      "  \"initializer_range\": 0.02,\n",
      "  \"label2id\": {\n",
      "    \"1\": 0,\n",
      "    \"2\": 1,\n",
      "    \"3\": 2,\n",
      "    \"4\": 3,\n",
      "    \"5\": 4\n",
      "  },\n",
      "  \"max_position_embeddings\": 512,\n",
      "  \"model_type\": \"distilbert\",\n",
      "  \"n_heads\": 12,\n",
      "  \"n_layers\": 6,\n",
      "  \"pad_token_id\": 0,\n",
      "  \"qa_dropout\": 0.1,\n",
      "  \"seq_classif_dropout\": 0.2,\n",
      "  \"sinusoidal_pos_embds\": false,\n",
      "  \"tie_weights_\": true,\n",
      "  \"transformers_version\": \"4.36.2\",\n",
      "  \"vocab_size\": 30522\n",
      "}\n",
      "\n"
     ]
    },
    {
     "name": "stderr",
     "output_type": "stream",
     "text": [
      "\n"
     ]
    }
   ],
   "source": [
    "CLASSES = [1, 2, 3, 4, 5]\n",
    "\n",
    "config = DistilBertConfig.from_pretrained(\n",
    "    \"distilbert-base-uncased\",\n",
    "    num_labels=len(CLASSES),\n",
    "    id2label={0: 1, 1: 2, 2: 3, 3: 4, 4: 5},\n",
    "    label2id={1: 0, 2: 1, 3: 2, 4: 3, 5: 4},\n",
    ")\n",
    "print(config)"
   ]
  },
  {
   "cell_type": "code",
   "execution_count": 12,
   "id": "b7810d2b",
   "metadata": {},
   "outputs": [],
   "source": [
    "# Adding the layer for fine tuning on BERT"
   ]
  },
  {
   "cell_type": "code",
   "execution_count": 13,
   "id": "eadc4cc8",
   "metadata": {
    "scrolled": true
   },
   "outputs": [
    {
     "name": "stderr",
     "output_type": "stream",
     "text": [
      "model.safetensors: 100%|██████████████████████████████████████████████████████████████| 268M/268M [00:02<00:00, 106MB/s]\n",
      "Some weights of the PyTorch model were not used when initializing the TF 2.0 model TFDistilBertForSequenceClassification: ['vocab_layer_norm.bias', 'vocab_layer_norm.weight', 'vocab_projector.bias', 'vocab_transform.weight', 'vocab_transform.bias']\n",
      "- This IS expected if you are initializing TFDistilBertForSequenceClassification from a PyTorch model trained on another task or with another architecture (e.g. initializing a TFBertForSequenceClassification model from a BertForPreTraining model).\n",
      "- This IS NOT expected if you are initializing TFDistilBertForSequenceClassification from a PyTorch model that you expect to be exactly identical (e.g. initializing a TFBertForSequenceClassification model from a BertForSequenceClassification model).\n",
      "Some weights or buffers of the TF 2.0 model TFDistilBertForSequenceClassification were not initialized from the PyTorch model and are newly initialized: ['pre_classifier.weight', 'pre_classifier.bias', 'classifier.weight', 'classifier.bias']\n",
      "You should probably TRAIN this model on a down-stream task to be able to use it for predictions and inference.\n"
     ]
    },
    {
     "name": "stdout",
     "output_type": "stream",
     "text": [
      "WARNING:tensorflow:Layer lstm will not use cuDNN kernels since it doesn't meet the criteria. It will use a generic GPU kernel as fallback when running on GPU.\n",
      "WARNING:tensorflow:Layer lstm will not use cuDNN kernels since it doesn't meet the criteria. It will use a generic GPU kernel as fallback when running on GPU.\n",
      "WARNING:tensorflow:Layer lstm will not use cuDNN kernels since it doesn't meet the criteria. It will use a generic GPU kernel as fallback when running on GPU.\n"
     ]
    }
   ],
   "source": [
    "transformer_model = TFDistilBertForSequenceClassification.from_pretrained(\"distilbert-base-uncased\", config=config)\n",
    "\n",
    "input_ids = tf.keras.layers.Input(shape=(max_seq_length,), name=\"input_ids\", dtype=\"int32\")\n",
    "input_mask = tf.keras.layers.Input(shape=(max_seq_length,), name=\"input_mask\", dtype=\"int32\")\n",
    "\n",
    "embedding_layer = transformer_model.distilbert(input_ids, attention_mask=input_mask)[0]\n",
    "X = tf.keras.layers.Bidirectional(tf.keras.layers.LSTM(50, return_sequences=True, dropout=0.1, recurrent_dropout=0.1))(\n",
    "    embedding_layer\n",
    ")\n",
    "X = tf.keras.layers.GlobalMaxPool1D()(X)\n",
    "X = tf.keras.layers.Dense(50, activation=\"relu\")(X)\n",
    "X = tf.keras.layers.Dropout(0.2)(X)\n",
    "X = tf.keras.layers.Dense(len(CLASSES), activation=\"softmax\")(X)\n",
    "\n",
    "model = tf.keras.Model(inputs=[input_ids, input_mask], outputs=X)\n",
    "\n",
    "for layer in model.layers[:3]:\n",
    "    layer.trainable = not freeze_bert_layer"
   ]
  },
  {
   "cell_type": "code",
   "execution_count": 14,
   "id": "b457525b",
   "metadata": {},
   "outputs": [],
   "source": [
    "# Set up the custom classifier model"
   ]
  },
  {
   "cell_type": "code",
   "execution_count": 15,
   "id": "1ac81c89",
   "metadata": {
    "scrolled": true
   },
   "outputs": [
    {
     "name": "stdout",
     "output_type": "stream",
     "text": [
      "Model: \"model\"\n",
      "__________________________________________________________________________________________________\n",
      " Layer (type)                   Output Shape         Param #     Connected to                     \n",
      "==================================================================================================\n",
      " input_ids (InputLayer)         [(None, 64)]         0           []                               \n",
      "                                                                                                  \n",
      " input_mask (InputLayer)        [(None, 64)]         0           []                               \n",
      "                                                                                                  \n",
      " distilbert (TFDistilBertMainLa  TFBaseModelOutput(l  66362880   ['input_ids[0][0]',              \n",
      " yer)                           ast_hidden_state=(N               'input_mask[0][0]']             \n",
      "                                one, 64, 768),                                                    \n",
      "                                 hidden_states=None                                               \n",
      "                                , attentions=None)                                                \n",
      "                                                                                                  \n",
      " bidirectional (Bidirectional)  (None, 64, 100)      327600      ['distilbert[0][0]']             \n",
      "                                                                                                  \n",
      " global_max_pooling1d (GlobalMa  (None, 100)         0           ['bidirectional[0][0]']          \n",
      " xPooling1D)                                                                                      \n",
      "                                                                                                  \n",
      " dense (Dense)                  (None, 50)           5050        ['global_max_pooling1d[0][0]']   \n",
      "                                                                                                  \n",
      " dropout_20 (Dropout)           (None, 50)           0           ['dense[0][0]']                  \n",
      "                                                                                                  \n",
      " dense_1 (Dense)                (None, 5)            255         ['dropout_20[0][0]']             \n",
      "                                                                                                  \n",
      "==================================================================================================\n",
      "Total params: 66,695,785\n",
      "Trainable params: 332,905\n",
      "Non-trainable params: 66,362,880\n",
      "__________________________________________________________________________________________________\n"
     ]
    }
   ],
   "source": [
    "loss = tf.keras.losses.SparseCategoricalCrossentropy(from_logits=True)\n",
    "\n",
    "metric = tf.keras.metrics.SparseCategoricalAccuracy(\"accuracy\")\n",
    "\n",
    "optimizer = tf.keras.optimizers.Adam(learning_rate=learning_rate, epsilon=epsilon)\n",
    "\n",
    "model.compile(optimizer=optimizer, loss=loss, metrics=[metric])\n",
    "\n",
    "model.summary()"
   ]
  },
  {
   "cell_type": "code",
   "execution_count": 16,
   "id": "625622d7",
   "metadata": {},
   "outputs": [
    {
     "data": {
      "image/png": "[encoded data removed]",
      "text/plain": [
       "<IPython.core.display.Image object>"
      ]
     },
     "execution_count": 16,
     "metadata": {},
     "output_type": "execute_result"
    }
   ],
   "source": [
    "from tensorflow.keras.utils import plot_model\n",
    "plot_model(model,show_shapes=True)"
   ]
  },
  {
   "cell_type": "code",
   "execution_count": 17,
   "id": "6cbc2f10",
   "metadata": {},
   "outputs": [],
   "source": [
    "callbacks = []\n",
    "\n",
    "log_dir = \"./tmp/tensorboard/\"\n",
    "tensorboard_callback = tf.keras.callbacks.TensorBoard(log_dir=log_dir)\n",
    "callbacks.append(tensorboard_callback)"
   ]
  },
  {
   "cell_type": "code",
   "execution_count": 18,
   "id": "ba28eb46",
   "metadata": {
    "scrolled": true
   },
   "outputs": [
    {
     "name": "stderr",
     "output_type": "stream",
     "text": [
      "2024-01-14 11:32:58.404025: I tensorflow/core/common_runtime/executor.cc:1209] [/device:CPU:0] (DEBUG INFO) Executor start aborting (this does not indicate an error and you can ignore this message): INVALID_ARGUMENT: You must feed a value for placeholder tensor 'Placeholder/_0' with dtype string and shape [1]\n",
      "\t [[{{node Placeholder/_0}}]]\n",
      "2024-01-14 11:32:58.405162: I tensorflow/core/common_runtime/executor.cc:1209] [/device:CPU:0] (DEBUG INFO) Executor start aborting (this does not indicate an error and you can ignore this message): INVALID_ARGUMENT: You must feed a value for placeholder tensor 'Placeholder/_0' with dtype string and shape [1]\n",
      "\t [[{{node Placeholder/_0}}]]\n",
      "/usr/local/lib/python3.10/dist-packages/keras/backend.py:5612: UserWarning: \"`sparse_categorical_crossentropy` received `from_logits=True`, but the `output` argument was produced by a Softmax activation and thus does not represent logits. Was this intended?\n",
      "  output, from_logits = _get_logits(\n",
      "2024-01-14 11:33:07.930065: I tensorflow/compiler/xla/service/service.cc:169] XLA service 0x557937969180 initialized for platform CUDA (this does not guarantee that XLA will be used). Devices:\n",
      "2024-01-14 11:33:07.930116: I tensorflow/compiler/xla/service/service.cc:177]   StreamExecutor device (0): Quadro P4000, Compute Capability 6.1\n",
      "2024-01-14 11:33:07.952718: I tensorflow/compiler/mlir/tensorflow/utils/dump_mlir_util.cc:269] disabling MLIR crash reproducer, set env var `MLIR_CRASH_REPRODUCER_DIRECTORY` to enable.\n",
      "2024-01-14 11:33:07.997380: I tensorflow/compiler/xla/stream_executor/cuda/cuda_dnn.cc:424] Loaded cuDNN version 8903\n",
      "2024-01-14 11:33:08.205291: I ./tensorflow/compiler/jit/device_compiler.h:180] Compiled cluster using XLA!  This line is logged at most once for the lifetime of the process.\n"
     ]
    },
    {
     "name": "stdout",
     "output_type": "stream",
     "text": [
      "\r",
      "1/1 [==============================] - ETA: 0s - loss: 1.5868 - accuracy: 0.2500"
     ]
    },
    {
     "name": "stderr",
     "output_type": "stream",
     "text": [
      "2024-01-14 11:33:09.610225: I tensorflow/core/common_runtime/executor.cc:1209] [/device:CPU:0] (DEBUG INFO) Executor start aborting (this does not indicate an error and you can ignore this message): INVALID_ARGUMENT: You must feed a value for placeholder tensor 'Placeholder/_0' with dtype string and shape [1]\n",
      "\t [[{{node Placeholder/_0}}]]\n",
      "2024-01-14 11:33:09.610651: I tensorflow/core/common_runtime/executor.cc:1209] [/device:CPU:0] (DEBUG INFO) Executor start aborting (this does not indicate an error and you can ignore this message): INVALID_ARGUMENT: You must feed a value for placeholder tensor 'Placeholder/_0' with dtype string and shape [1]\n",
      "\t [[{{node Placeholder/_0}}]]\n"
     ]
    },
    {
     "name": "stdout",
     "output_type": "stream",
     "text": [
      "\b\b\b\b\b\b\b\b\b\b\b\b\b\b\b\b\b\b\b\b\b\b\b\b\b\b\b\b\b\b\b\b\b\b\b\b\b\b\b\b\b\b\b\b\b\b\b\b\b\b\b\b\b\b\b\b\b\b\b\b\b\b\b\b\b\b\b\b\b\b\b\b\b\b\b\b\b\b\b\b\r",
      "1/1 [==============================] - 13s 13s/step - loss: 1.5868 - accuracy: 0.2500 - val_loss: 1.5253 - val_accuracy: 0.5000\n"
     ]
    }
   ],
   "source": [
    "history = model.fit(\n",
    "    train_dataset,\n",
    "    shuffle=True,\n",
    "    epochs=epochs,\n",
    "    steps_per_epoch=steps_per_epoch,\n",
    "    validation_data=validation_dataset,\n",
    "    validation_steps=validation_steps,\n",
    "    callbacks=callbacks,\n",
    ")"
   ]
  },
  {
   "cell_type": "code",
   "execution_count": 19,
   "id": "190f0aeb",
   "metadata": {},
   "outputs": [],
   "source": [
    "epochs = 256\n",
    "steps_per_epoch = 512\n",
    "validation_steps = 32\n",
    "test_steps = 32\n",
    "freeze_bert_layer = True\n",
    "learning_rate = 3e-5\n",
    "epsilon = 1e-08\n",
    "max_seq_length = 64"
   ]
  },
  {
   "cell_type": "code",
   "execution_count": 20,
   "id": "18a6b2d9",
   "metadata": {},
   "outputs": [
    {
     "name": "stdout",
     "output_type": "stream",
     "text": [
      "Epoch 1/256\n",
      "512/512 [==============================] - 200s 389ms/step - loss: 1.6048 - accuracy: 0.2393 - val_loss: 1.5418 - val_accuracy: 0.3281\n",
      "Epoch 2/256\n",
      "512/512 [==============================] - 202s 395ms/step - loss: 1.5367 - accuracy: 0.3135 - val_loss: 1.4701 - val_accuracy: 0.4141\n",
      "Epoch 3/256\n",
      "512/512 [==============================] - 199s 388ms/step - loss: 1.4625 - accuracy: 0.3633 - val_loss: 1.4005 - val_accuracy: 0.4062\n",
      "Epoch 4/256\n",
      "512/512 [==============================] - 200s 391ms/step - loss: 1.3988 - accuracy: 0.3948 - val_loss: 1.3312 - val_accuracy: 0.4297\n",
      "Epoch 5/256\n",
      "512/512 [==============================] - 202s 394ms/step - loss: 1.3281 - accuracy: 0.4150 - val_loss: 1.3266 - val_accuracy: 0.4453\n",
      "Epoch 6/256\n",
      "512/512 [==============================] - 199s 389ms/step - loss: 1.3232 - accuracy: 0.4111 - val_loss: 1.2700 - val_accuracy: 0.4336\n",
      "Epoch 7/256\n",
      "512/512 [==============================] - 201s 392ms/step - loss: 1.2914 - accuracy: 0.4314 - val_loss: 1.2686 - val_accuracy: 0.4648\n",
      "Epoch 8/256\n",
      "512/512 [==============================] - 199s 389ms/step - loss: 1.2988 - accuracy: 0.4199 - val_loss: 1.2464 - val_accuracy: 0.4375\n",
      "Epoch 9/256\n",
      "512/512 [==============================] - 199s 389ms/step - loss: 1.3030 - accuracy: 0.4175 - val_loss: 1.2408 - val_accuracy: 0.4570\n",
      "Epoch 10/256\n",
      "512/512 [==============================] - 199s 389ms/step - loss: 1.2758 - accuracy: 0.4355 - val_loss: 1.2400 - val_accuracy: 0.4609\n",
      "Epoch 11/256\n",
      "512/512 [==============================] - 200s 390ms/step - loss: 1.2764 - accuracy: 0.4336 - val_loss: 1.2359 - val_accuracy: 0.4570\n",
      "Epoch 12/256\n",
      "512/512 [==============================] - 203s 396ms/step - loss: 1.2649 - accuracy: 0.4392 - val_loss: 1.2192 - val_accuracy: 0.4453\n",
      "Epoch 13/256\n",
      "512/512 [==============================] - 200s 390ms/step - loss: 1.2265 - accuracy: 0.4519 - val_loss: 1.2193 - val_accuracy: 0.4453\n",
      "Epoch 14/256\n",
      "512/512 [==============================] - 198s 387ms/step - loss: 1.2384 - accuracy: 0.4541 - val_loss: 1.2147 - val_accuracy: 0.4453\n",
      "Epoch 15/256\n",
      "512/512 [==============================] - 199s 388ms/step - loss: 1.2317 - accuracy: 0.4578 - val_loss: 1.2190 - val_accuracy: 0.4609\n",
      "Epoch 16/256\n",
      "512/512 [==============================] - 201s 393ms/step - loss: 1.2482 - accuracy: 0.4443 - val_loss: 1.2079 - val_accuracy: 0.4648\n",
      "Epoch 17/256\n",
      "512/512 [==============================] - 200s 392ms/step - loss: 1.2398 - accuracy: 0.4658 - val_loss: 1.2136 - val_accuracy: 0.4805\n",
      "Epoch 18/256\n",
      "512/512 [==============================] - 199s 389ms/step - loss: 1.2271 - accuracy: 0.4553 - val_loss: 1.2258 - val_accuracy: 0.4688\n",
      "Epoch 19/256\n",
      "512/512 [==============================] - 202s 395ms/step - loss: 1.2226 - accuracy: 0.4580 - val_loss: 1.1993 - val_accuracy: 0.4570\n",
      "Epoch 20/256\n",
      "512/512 [==============================] - 196s 382ms/step - loss: 1.2353 - accuracy: 0.4563 - val_loss: 1.1910 - val_accuracy: 0.4766\n",
      "Epoch 21/256\n",
      "512/512 [==============================] - 197s 385ms/step - loss: 1.2377 - accuracy: 0.4580 - val_loss: 1.1932 - val_accuracy: 0.4531\n",
      "Epoch 22/256\n",
      "512/512 [==============================] - 197s 385ms/step - loss: 1.2182 - accuracy: 0.4700 - val_loss: 1.2085 - val_accuracy: 0.4727\n",
      "Epoch 23/256\n",
      "512/512 [==============================] - 202s 394ms/step - loss: 1.2055 - accuracy: 0.4678 - val_loss: 1.1965 - val_accuracy: 0.4609\n",
      "Epoch 24/256\n",
      "512/512 [==============================] - 200s 391ms/step - loss: 1.2150 - accuracy: 0.4639 - val_loss: 1.2087 - val_accuracy: 0.4492\n",
      "Epoch 25/256\n",
      "512/512 [==============================] - 200s 391ms/step - loss: 1.2198 - accuracy: 0.4553 - val_loss: 1.2016 - val_accuracy: 0.4648\n",
      "Epoch 26/256\n",
      "512/512 [==============================] - 201s 393ms/step - loss: 1.2069 - accuracy: 0.4661 - val_loss: 1.1913 - val_accuracy: 0.4453\n",
      "Epoch 27/256\n",
      "512/512 [==============================] - 199s 390ms/step - loss: 1.2107 - accuracy: 0.4763 - val_loss: 1.2020 - val_accuracy: 0.4492\n",
      "Epoch 28/256\n",
      "512/512 [==============================] - 200s 392ms/step - loss: 1.2088 - accuracy: 0.4641 - val_loss: 1.1933 - val_accuracy: 0.4648\n",
      "Epoch 29/256\n",
      "512/512 [==============================] - 201s 392ms/step - loss: 1.2155 - accuracy: 0.4651 - val_loss: 1.1895 - val_accuracy: 0.4609\n",
      "Epoch 30/256\n",
      "512/512 [==============================] - 199s 388ms/step - loss: 1.2046 - accuracy: 0.4666 - val_loss: 1.1910 - val_accuracy: 0.4609\n",
      "Epoch 31/256\n",
      "512/512 [==============================] - 198s 386ms/step - loss: 1.2065 - accuracy: 0.4688 - val_loss: 1.1946 - val_accuracy: 0.4648\n",
      "Epoch 32/256\n",
      "512/512 [==============================] - 202s 394ms/step - loss: 1.2016 - accuracy: 0.4756 - val_loss: 1.1947 - val_accuracy: 0.4688\n",
      "Epoch 33/256\n",
      "512/512 [==============================] - 198s 387ms/step - loss: 1.1824 - accuracy: 0.4817 - val_loss: 1.1948 - val_accuracy: 0.4648\n",
      "Epoch 34/256\n",
      "512/512 [==============================] - 200s 391ms/step - loss: 1.1833 - accuracy: 0.4788 - val_loss: 1.1865 - val_accuracy: 0.4609\n",
      "Epoch 35/256\n",
      "512/512 [==============================] - 200s 391ms/step - loss: 1.2003 - accuracy: 0.4656 - val_loss: 1.2074 - val_accuracy: 0.4688\n",
      "Epoch 36/256\n",
      "512/512 [==============================] - 196s 382ms/step - loss: 1.1865 - accuracy: 0.4712 - val_loss: 1.1826 - val_accuracy: 0.4766\n",
      "Epoch 37/256\n",
      "512/512 [==============================] - 195s 381ms/step - loss: 1.1865 - accuracy: 0.4856 - val_loss: 1.1969 - val_accuracy: 0.4609\n",
      "Epoch 38/256\n",
      "512/512 [==============================] - 196s 383ms/step - loss: 1.1936 - accuracy: 0.4739 - val_loss: 1.1924 - val_accuracy: 0.4727\n",
      "Epoch 39/256\n",
      "512/512 [==============================] - 194s 380ms/step - loss: 1.1875 - accuracy: 0.4827 - val_loss: 1.1698 - val_accuracy: 0.4805\n",
      "Epoch 40/256\n",
      "512/512 [==============================] - 194s 379ms/step - loss: 1.1912 - accuracy: 0.4719 - val_loss: 1.1794 - val_accuracy: 0.4844\n",
      "Epoch 41/256\n",
      "512/512 [==============================] - 194s 379ms/step - loss: 1.1858 - accuracy: 0.4819 - val_loss: 1.1709 - val_accuracy: 0.4727\n",
      "Epoch 42/256\n",
      "512/512 [==============================] - 194s 380ms/step - loss: 1.1824 - accuracy: 0.4731 - val_loss: 1.1694 - val_accuracy: 0.4805\n",
      "Epoch 43/256\n",
      "512/512 [==============================] - 194s 379ms/step - loss: 1.1875 - accuracy: 0.4814 - val_loss: 1.1761 - val_accuracy: 0.4648\n",
      "Epoch 44/256\n",
      "512/512 [==============================] - 195s 382ms/step - loss: 1.1696 - accuracy: 0.4858 - val_loss: 1.1957 - val_accuracy: 0.4688\n",
      "Epoch 45/256\n",
      "512/512 [==============================] - 195s 381ms/step - loss: 1.1759 - accuracy: 0.4805 - val_loss: 1.1721 - val_accuracy: 0.4766\n",
      "Epoch 46/256\n",
      "512/512 [==============================] - 196s 382ms/step - loss: 1.1722 - accuracy: 0.4927 - val_loss: 1.1669 - val_accuracy: 0.4727\n",
      "Epoch 47/256\n",
      "512/512 [==============================] - 196s 383ms/step - loss: 1.1636 - accuracy: 0.4893 - val_loss: 1.1718 - val_accuracy: 0.4531\n",
      "Epoch 48/256\n",
      "512/512 [==============================] - 192s 375ms/step - loss: 1.1823 - accuracy: 0.4836 - val_loss: 1.1687 - val_accuracy: 0.4609\n",
      "Epoch 49/256\n",
      "512/512 [==============================] - 194s 378ms/step - loss: 1.1664 - accuracy: 0.4863 - val_loss: 1.1721 - val_accuracy: 0.4570\n",
      "Epoch 50/256\n",
      "512/512 [==============================] - 195s 382ms/step - loss: 1.1793 - accuracy: 0.4746 - val_loss: 1.1709 - val_accuracy: 0.4688\n",
      "Epoch 51/256\n",
      "512/512 [==============================] - 195s 380ms/step - loss: 1.1769 - accuracy: 0.4792 - val_loss: 1.1614 - val_accuracy: 0.4727\n",
      "Epoch 52/256\n",
      "512/512 [==============================] - 194s 378ms/step - loss: 1.1567 - accuracy: 0.4917 - val_loss: 1.1633 - val_accuracy: 0.4727\n",
      "Epoch 53/256\n",
      "512/512 [==============================] - 195s 381ms/step - loss: 1.1731 - accuracy: 0.4802 - val_loss: 1.1646 - val_accuracy: 0.4844\n",
      "Epoch 54/256\n",
      "512/512 [==============================] - 196s 384ms/step - loss: 1.1697 - accuracy: 0.4844 - val_loss: 1.1586 - val_accuracy: 0.4766\n",
      "Epoch 55/256\n",
      "512/512 [==============================] - 195s 381ms/step - loss: 1.1805 - accuracy: 0.4893 - val_loss: 1.1650 - val_accuracy: 0.4805\n",
      "Epoch 56/256\n"
     ]
    },
    {
     "name": "stdout",
     "output_type": "stream",
     "text": [
      "512/512 [==============================] - 195s 380ms/step - loss: 1.1690 - accuracy: 0.4939 - val_loss: 1.1712 - val_accuracy: 0.4883\n",
      "Epoch 57/256\n",
      "512/512 [==============================] - 196s 382ms/step - loss: 1.1543 - accuracy: 0.4880 - val_loss: 1.1683 - val_accuracy: 0.4648\n",
      "Epoch 58/256\n",
      "512/512 [==============================] - 196s 383ms/step - loss: 1.1608 - accuracy: 0.4856 - val_loss: 1.1668 - val_accuracy: 0.4883\n",
      "Epoch 59/256\n",
      "512/512 [==============================] - 194s 378ms/step - loss: 1.1608 - accuracy: 0.4978 - val_loss: 1.1742 - val_accuracy: 0.4766\n",
      "Epoch 60/256\n",
      "512/512 [==============================] - 198s 386ms/step - loss: 1.1547 - accuracy: 0.4937 - val_loss: 1.1700 - val_accuracy: 0.4805\n",
      "Epoch 61/256\n",
      "512/512 [==============================] - 196s 383ms/step - loss: 1.1596 - accuracy: 0.4932 - val_loss: 1.1638 - val_accuracy: 0.4688\n",
      "Epoch 62/256\n",
      "512/512 [==============================] - 193s 377ms/step - loss: 1.1641 - accuracy: 0.4858 - val_loss: 1.1686 - val_accuracy: 0.4883\n",
      "Epoch 63/256\n",
      "512/512 [==============================] - 197s 385ms/step - loss: 1.1682 - accuracy: 0.4941 - val_loss: 1.1639 - val_accuracy: 0.4805\n",
      "Epoch 64/256\n",
      "512/512 [==============================] - 194s 379ms/step - loss: 1.1503 - accuracy: 0.4846 - val_loss: 1.1738 - val_accuracy: 0.4688\n",
      "Epoch 65/256\n",
      "512/512 [==============================] - 194s 378ms/step - loss: 1.1641 - accuracy: 0.4922 - val_loss: 1.1641 - val_accuracy: 0.4648\n",
      "Epoch 66/256\n",
      "512/512 [==============================] - 196s 382ms/step - loss: 1.1725 - accuracy: 0.4807 - val_loss: 1.1519 - val_accuracy: 0.4844\n",
      "Epoch 67/256\n",
      "512/512 [==============================] - 197s 385ms/step - loss: 1.1640 - accuracy: 0.4875 - val_loss: 1.1494 - val_accuracy: 0.4688\n",
      "Epoch 68/256\n",
      "512/512 [==============================] - 194s 378ms/step - loss: 1.1637 - accuracy: 0.4917 - val_loss: 1.1505 - val_accuracy: 0.5039\n",
      "Epoch 69/256\n",
      "512/512 [==============================] - 197s 385ms/step - loss: 1.1497 - accuracy: 0.4941 - val_loss: 1.1511 - val_accuracy: 0.4844\n",
      "Epoch 70/256\n",
      "512/512 [==============================] - 196s 382ms/step - loss: 1.1631 - accuracy: 0.4802 - val_loss: 1.1417 - val_accuracy: 0.5000\n",
      "Epoch 71/256\n",
      "512/512 [==============================] - 198s 386ms/step - loss: 1.1656 - accuracy: 0.4812 - val_loss: 1.1414 - val_accuracy: 0.4727\n",
      "Epoch 72/256\n",
      "512/512 [==============================] - 197s 384ms/step - loss: 1.1458 - accuracy: 0.4973 - val_loss: 1.1434 - val_accuracy: 0.4648\n",
      "Epoch 73/256\n",
      "512/512 [==============================] - 195s 381ms/step - loss: 1.1605 - accuracy: 0.4854 - val_loss: 1.1550 - val_accuracy: 0.4492\n",
      "Epoch 74/256\n",
      "512/512 [==============================] - 194s 379ms/step - loss: 1.1673 - accuracy: 0.4751 - val_loss: 1.1547 - val_accuracy: 0.4727\n",
      "Epoch 75/256\n",
      "512/512 [==============================] - 195s 381ms/step - loss: 1.1406 - accuracy: 0.4951 - val_loss: 1.1459 - val_accuracy: 0.4570\n",
      "Epoch 76/256\n",
      "512/512 [==============================] - 194s 379ms/step - loss: 1.1700 - accuracy: 0.4834 - val_loss: 1.1420 - val_accuracy: 0.4805\n",
      "Epoch 77/256\n",
      "512/512 [==============================] - 195s 381ms/step - loss: 1.1468 - accuracy: 0.5012 - val_loss: 1.1348 - val_accuracy: 0.4922\n",
      "Epoch 78/256\n",
      "512/512 [==============================] - 194s 379ms/step - loss: 1.1533 - accuracy: 0.4941 - val_loss: 1.1536 - val_accuracy: 0.4688\n",
      "Epoch 79/256\n",
      "512/512 [==============================] - 194s 380ms/step - loss: 1.1514 - accuracy: 0.4932 - val_loss: 1.1626 - val_accuracy: 0.4844\n",
      "Epoch 80/256\n",
      "512/512 [==============================] - 196s 382ms/step - loss: 1.1568 - accuracy: 0.4846 - val_loss: 1.1382 - val_accuracy: 0.4609\n",
      "Epoch 81/256\n",
      "512/512 [==============================] - 197s 384ms/step - loss: 1.1344 - accuracy: 0.5027 - val_loss: 1.1372 - val_accuracy: 0.5156\n",
      "Epoch 82/256\n",
      "512/512 [==============================] - 195s 380ms/step - loss: 1.1795 - accuracy: 0.4768 - val_loss: 1.1564 - val_accuracy: 0.4805\n",
      "Epoch 83/256\n",
      "512/512 [==============================] - 194s 380ms/step - loss: 1.1529 - accuracy: 0.4929 - val_loss: 1.1453 - val_accuracy: 0.4609\n",
      "Epoch 84/256\n",
      "512/512 [==============================] - 193s 376ms/step - loss: 1.1342 - accuracy: 0.4980 - val_loss: 1.1621 - val_accuracy: 0.4609\n",
      "Epoch 85/256\n",
      "512/512 [==============================] - 196s 384ms/step - loss: 1.1329 - accuracy: 0.4912 - val_loss: 1.1511 - val_accuracy: 0.4727\n",
      "Epoch 86/256\n",
      "512/512 [==============================] - 195s 381ms/step - loss: 1.1545 - accuracy: 0.4885 - val_loss: 1.1350 - val_accuracy: 0.4883\n",
      "Epoch 87/256\n",
      "512/512 [==============================] - 195s 381ms/step - loss: 1.1547 - accuracy: 0.5015 - val_loss: 1.1411 - val_accuracy: 0.4727\n",
      "Epoch 88/256\n",
      "512/512 [==============================] - 193s 378ms/step - loss: 1.1545 - accuracy: 0.4827 - val_loss: 1.1527 - val_accuracy: 0.4805\n",
      "Epoch 89/256\n",
      "512/512 [==============================] - 194s 379ms/step - loss: 1.1750 - accuracy: 0.4832 - val_loss: 1.1524 - val_accuracy: 0.4844\n",
      "Epoch 90/256\n",
      "512/512 [==============================] - 194s 378ms/step - loss: 1.1173 - accuracy: 0.5242 - val_loss: 1.1431 - val_accuracy: 0.4766\n",
      "Epoch 91/256\n",
      "512/512 [==============================] - 193s 377ms/step - loss: 1.1544 - accuracy: 0.4888 - val_loss: 1.1361 - val_accuracy: 0.5117\n",
      "Epoch 92/256\n",
      "512/512 [==============================] - 194s 378ms/step - loss: 1.1448 - accuracy: 0.4980 - val_loss: 1.1385 - val_accuracy: 0.4961\n",
      "Epoch 93/256\n",
      "512/512 [==============================] - 194s 380ms/step - loss: 1.1314 - accuracy: 0.4893 - val_loss: 1.1345 - val_accuracy: 0.4727\n",
      "Epoch 94/256\n",
      "512/512 [==============================] - 196s 382ms/step - loss: 1.1443 - accuracy: 0.5020 - val_loss: 1.1597 - val_accuracy: 0.4844\n",
      "Epoch 95/256\n",
      "512/512 [==============================] - 198s 387ms/step - loss: 1.1328 - accuracy: 0.5054 - val_loss: 1.1280 - val_accuracy: 0.4805\n",
      "Epoch 96/256\n",
      "512/512 [==============================] - 196s 382ms/step - loss: 1.1491 - accuracy: 0.5017 - val_loss: 1.1321 - val_accuracy: 0.4883\n",
      "Epoch 97/256\n",
      "512/512 [==============================] - 194s 379ms/step - loss: 1.1264 - accuracy: 0.5042 - val_loss: 1.1407 - val_accuracy: 0.4922\n",
      "Epoch 98/256\n",
      "512/512 [==============================] - 195s 381ms/step - loss: 1.1268 - accuracy: 0.5042 - val_loss: 1.1452 - val_accuracy: 0.4688\n",
      "Epoch 99/256\n",
      "512/512 [==============================] - 195s 382ms/step - loss: 1.1495 - accuracy: 0.4851 - val_loss: 1.1375 - val_accuracy: 0.5000\n",
      "Epoch 100/256\n",
      "512/512 [==============================] - 195s 381ms/step - loss: 1.1345 - accuracy: 0.5068 - val_loss: 1.1368 - val_accuracy: 0.4922\n",
      "Epoch 101/256\n",
      "512/512 [==============================] - 195s 380ms/step - loss: 1.1461 - accuracy: 0.4980 - val_loss: 1.1430 - val_accuracy: 0.5000\n",
      "Epoch 102/256\n",
      "512/512 [==============================] - 195s 381ms/step - loss: 1.1434 - accuracy: 0.5007 - val_loss: 1.1336 - val_accuracy: 0.4922\n",
      "Epoch 103/256\n",
      "512/512 [==============================] - 196s 382ms/step - loss: 1.1451 - accuracy: 0.5044 - val_loss: 1.1352 - val_accuracy: 0.4922\n",
      "Epoch 104/256\n",
      "512/512 [==============================] - 193s 377ms/step - loss: 1.1348 - accuracy: 0.5112 - val_loss: 1.1389 - val_accuracy: 0.4883\n",
      "Epoch 105/256\n",
      "512/512 [==============================] - 194s 379ms/step - loss: 1.1435 - accuracy: 0.4966 - val_loss: 1.1328 - val_accuracy: 0.4883\n",
      "Epoch 106/256\n",
      "512/512 [==============================] - 196s 382ms/step - loss: 1.1100 - accuracy: 0.5142 - val_loss: 1.1384 - val_accuracy: 0.5000\n",
      "Epoch 107/256\n",
      "512/512 [==============================] - 197s 385ms/step - loss: 1.1228 - accuracy: 0.5122 - val_loss: 1.1426 - val_accuracy: 0.4727\n",
      "Epoch 108/256\n",
      "512/512 [==============================] - 197s 384ms/step - loss: 1.1383 - accuracy: 0.5105 - val_loss: 1.1190 - val_accuracy: 0.5273\n",
      "Epoch 109/256\n",
      "512/512 [==============================] - 194s 380ms/step - loss: 1.1249 - accuracy: 0.5188 - val_loss: 1.1386 - val_accuracy: 0.4844\n",
      "Epoch 110/256\n",
      "512/512 [==============================] - 195s 381ms/step - loss: 1.1465 - accuracy: 0.4968 - val_loss: 1.1178 - val_accuracy: 0.5078\n",
      "Epoch 111/256\n"
     ]
    },
    {
     "name": "stdout",
     "output_type": "stream",
     "text": [
      "512/512 [==============================] - 196s 384ms/step - loss: 1.1460 - accuracy: 0.5134 - val_loss: 1.1233 - val_accuracy: 0.5078\n",
      "Epoch 112/256\n",
      "512/512 [==============================] - 194s 379ms/step - loss: 1.1323 - accuracy: 0.5032 - val_loss: 1.1486 - val_accuracy: 0.4688\n",
      "Epoch 113/256\n",
      "512/512 [==============================] - 197s 385ms/step - loss: 1.1098 - accuracy: 0.5176 - val_loss: 1.1176 - val_accuracy: 0.5234\n",
      "Epoch 114/256\n",
      "512/512 [==============================] - 195s 380ms/step - loss: 1.1335 - accuracy: 0.5044 - val_loss: 1.1214 - val_accuracy: 0.5469\n",
      "Epoch 115/256\n",
      "512/512 [==============================] - 194s 379ms/step - loss: 1.1359 - accuracy: 0.5020 - val_loss: 1.1155 - val_accuracy: 0.5156\n",
      "Epoch 116/256\n",
      "512/512 [==============================] - 196s 382ms/step - loss: 1.1428 - accuracy: 0.5051 - val_loss: 1.1257 - val_accuracy: 0.4961\n",
      "Epoch 117/256\n",
      "512/512 [==============================] - 194s 378ms/step - loss: 1.1204 - accuracy: 0.5015 - val_loss: 1.1271 - val_accuracy: 0.5156\n",
      "Epoch 118/256\n",
      "512/512 [==============================] - 196s 383ms/step - loss: 1.1094 - accuracy: 0.5098 - val_loss: 1.1257 - val_accuracy: 0.5078\n",
      "Epoch 119/256\n",
      "512/512 [==============================] - 195s 382ms/step - loss: 1.1510 - accuracy: 0.4919 - val_loss: 1.1199 - val_accuracy: 0.5234\n",
      "Epoch 120/256\n",
      "512/512 [==============================] - 193s 378ms/step - loss: 1.1104 - accuracy: 0.5056 - val_loss: 1.1313 - val_accuracy: 0.5000\n",
      "Epoch 121/256\n",
      "512/512 [==============================] - 194s 379ms/step - loss: 1.1332 - accuracy: 0.5093 - val_loss: 1.1239 - val_accuracy: 0.4961\n",
      "Epoch 122/256\n",
      "512/512 [==============================] - 192s 374ms/step - loss: 1.1212 - accuracy: 0.5212 - val_loss: 1.1231 - val_accuracy: 0.5312\n",
      "Epoch 123/256\n",
      "512/512 [==============================] - 195s 381ms/step - loss: 1.1263 - accuracy: 0.5171 - val_loss: 1.1175 - val_accuracy: 0.5273\n",
      "Epoch 124/256\n",
      "512/512 [==============================] - 199s 389ms/step - loss: 1.1275 - accuracy: 0.5115 - val_loss: 1.1068 - val_accuracy: 0.5234\n",
      "Epoch 125/256\n",
      "512/512 [==============================] - 198s 386ms/step - loss: 1.1256 - accuracy: 0.4968 - val_loss: 1.1133 - val_accuracy: 0.5195\n",
      "Epoch 126/256\n",
      "512/512 [==============================] - 196s 383ms/step - loss: 1.1373 - accuracy: 0.5015 - val_loss: 1.1171 - val_accuracy: 0.5273\n",
      "Epoch 127/256\n",
      "512/512 [==============================] - 196s 383ms/step - loss: 1.1131 - accuracy: 0.5066 - val_loss: 1.1076 - val_accuracy: 0.5312\n",
      "Epoch 128/256\n",
      "512/512 [==============================] - 197s 384ms/step - loss: 1.1035 - accuracy: 0.5254 - val_loss: 1.1056 - val_accuracy: 0.5430\n",
      "Epoch 129/256\n",
      "512/512 [==============================] - 196s 383ms/step - loss: 1.1297 - accuracy: 0.5110 - val_loss: 1.1156 - val_accuracy: 0.5078\n",
      "Epoch 130/256\n",
      "512/512 [==============================] - 197s 385ms/step - loss: 1.1124 - accuracy: 0.5149 - val_loss: 1.1105 - val_accuracy: 0.5273\n",
      "Epoch 131/256\n",
      "512/512 [==============================] - 198s 388ms/step - loss: 1.1120 - accuracy: 0.5125 - val_loss: 1.1197 - val_accuracy: 0.5000\n",
      "Epoch 132/256\n",
      "512/512 [==============================] - 195s 381ms/step - loss: 1.1148 - accuracy: 0.5244 - val_loss: 1.1131 - val_accuracy: 0.5117\n",
      "Epoch 133/256\n",
      "512/512 [==============================] - 196s 383ms/step - loss: 1.1235 - accuracy: 0.5117 - val_loss: 1.1041 - val_accuracy: 0.5195\n",
      "Epoch 134/256\n",
      "512/512 [==============================] - 199s 388ms/step - loss: 1.1348 - accuracy: 0.5159 - val_loss: 1.1158 - val_accuracy: 0.4961\n",
      "Epoch 135/256\n",
      "512/512 [==============================] - 197s 385ms/step - loss: 1.1275 - accuracy: 0.5032 - val_loss: 1.1062 - val_accuracy: 0.4961\n",
      "Epoch 136/256\n",
      "512/512 [==============================] - 199s 389ms/step - loss: 1.1199 - accuracy: 0.5127 - val_loss: 1.1164 - val_accuracy: 0.5156\n",
      "Epoch 137/256\n",
      "512/512 [==============================] - 197s 384ms/step - loss: 1.1216 - accuracy: 0.5020 - val_loss: 1.1067 - val_accuracy: 0.5078\n",
      "Epoch 138/256\n",
      "512/512 [==============================] - 197s 385ms/step - loss: 1.1261 - accuracy: 0.5144 - val_loss: 1.1074 - val_accuracy: 0.5117\n",
      "Epoch 139/256\n",
      "512/512 [==============================] - 194s 379ms/step - loss: 1.1084 - accuracy: 0.5232 - val_loss: 1.1139 - val_accuracy: 0.4883\n",
      "Epoch 140/256\n",
      "512/512 [==============================] - 199s 388ms/step - loss: 1.1262 - accuracy: 0.5054 - val_loss: 1.1063 - val_accuracy: 0.5234\n",
      "Epoch 141/256\n",
      "512/512 [==============================] - 198s 386ms/step - loss: 1.1181 - accuracy: 0.5020 - val_loss: 1.1022 - val_accuracy: 0.5156\n",
      "Epoch 142/256\n",
      "512/512 [==============================] - 198s 387ms/step - loss: 1.1248 - accuracy: 0.5059 - val_loss: 1.1101 - val_accuracy: 0.5156\n",
      "Epoch 143/256\n",
      "512/512 [==============================] - 196s 383ms/step - loss: 1.1271 - accuracy: 0.4983 - val_loss: 1.1027 - val_accuracy: 0.5195\n",
      "Epoch 144/256\n",
      "512/512 [==============================] - 197s 384ms/step - loss: 1.1196 - accuracy: 0.5164 - val_loss: 1.1064 - val_accuracy: 0.5234\n",
      "Epoch 145/256\n",
      "512/512 [==============================] - 197s 385ms/step - loss: 1.1040 - accuracy: 0.5186 - val_loss: 1.1141 - val_accuracy: 0.5156\n",
      "Epoch 146/256\n",
      "512/512 [==============================] - 198s 387ms/step - loss: 1.1383 - accuracy: 0.5061 - val_loss: 1.1065 - val_accuracy: 0.5234\n",
      "Epoch 147/256\n",
      "512/512 [==============================] - 198s 387ms/step - loss: 1.1074 - accuracy: 0.5198 - val_loss: 1.1111 - val_accuracy: 0.5195\n",
      "Epoch 148/256\n",
      "512/512 [==============================] - 197s 385ms/step - loss: 1.1052 - accuracy: 0.5193 - val_loss: 1.0919 - val_accuracy: 0.5430\n",
      "Epoch 149/256\n",
      "512/512 [==============================] - 197s 385ms/step - loss: 1.1293 - accuracy: 0.5034 - val_loss: 1.1062 - val_accuracy: 0.5000\n",
      "Epoch 150/256\n",
      "512/512 [==============================] - 196s 383ms/step - loss: 1.1245 - accuracy: 0.5095 - val_loss: 1.1180 - val_accuracy: 0.4922\n",
      "Epoch 151/256\n",
      "512/512 [==============================] - 199s 389ms/step - loss: 1.1183 - accuracy: 0.5083 - val_loss: 1.1116 - val_accuracy: 0.4961\n",
      "Epoch 152/256\n",
      "512/512 [==============================] - 198s 387ms/step - loss: 1.1070 - accuracy: 0.5117 - val_loss: 1.1105 - val_accuracy: 0.5195\n",
      "Epoch 153/256\n",
      "512/512 [==============================] - 196s 382ms/step - loss: 1.1092 - accuracy: 0.5173 - val_loss: 1.1192 - val_accuracy: 0.5078\n",
      "Epoch 154/256\n",
      "512/512 [==============================] - 198s 387ms/step - loss: 1.1070 - accuracy: 0.5107 - val_loss: 1.1059 - val_accuracy: 0.5156\n",
      "Epoch 155/256\n",
      "512/512 [==============================] - 197s 385ms/step - loss: 1.1049 - accuracy: 0.5154 - val_loss: 1.1041 - val_accuracy: 0.5156\n",
      "Epoch 156/256\n",
      "512/512 [==============================] - 198s 387ms/step - loss: 1.1290 - accuracy: 0.4976 - val_loss: 1.1176 - val_accuracy: 0.5156\n",
      "Epoch 157/256\n",
      "512/512 [==============================] - 197s 384ms/step - loss: 1.1006 - accuracy: 0.5276 - val_loss: 1.1076 - val_accuracy: 0.5117\n",
      "Epoch 158/256\n",
      "512/512 [==============================] - 197s 385ms/step - loss: 1.1033 - accuracy: 0.5273 - val_loss: 1.1151 - val_accuracy: 0.5234\n",
      "Epoch 159/256\n",
      "512/512 [==============================] - 196s 382ms/step - loss: 1.0865 - accuracy: 0.5234 - val_loss: 1.1003 - val_accuracy: 0.5117\n",
      "Epoch 160/256\n",
      "512/512 [==============================] - 200s 391ms/step - loss: 1.1234 - accuracy: 0.5056 - val_loss: 1.0980 - val_accuracy: 0.5547\n",
      "Epoch 161/256\n",
      "512/512 [==============================] - 197s 385ms/step - loss: 1.1118 - accuracy: 0.5125 - val_loss: 1.0956 - val_accuracy: 0.5234\n",
      "Epoch 162/256\n",
      "512/512 [==============================] - 199s 389ms/step - loss: 1.0994 - accuracy: 0.5183 - val_loss: 1.1101 - val_accuracy: 0.5234\n",
      "Epoch 163/256\n",
      "512/512 [==============================] - 199s 388ms/step - loss: 1.1314 - accuracy: 0.5044 - val_loss: 1.1053 - val_accuracy: 0.5117\n",
      "Epoch 164/256\n",
      "512/512 [==============================] - 201s 393ms/step - loss: 1.1125 - accuracy: 0.5081 - val_loss: 1.1072 - val_accuracy: 0.4922\n",
      "Epoch 165/256\n",
      "512/512 [==============================] - 197s 384ms/step - loss: 1.1201 - accuracy: 0.5166 - val_loss: 1.0984 - val_accuracy: 0.4961\n",
      "Epoch 166/256\n"
     ]
    },
    {
     "name": "stdout",
     "output_type": "stream",
     "text": [
      "512/512 [==============================] - 199s 388ms/step - loss: 1.1047 - accuracy: 0.5129 - val_loss: 1.1016 - val_accuracy: 0.5117\n",
      "Epoch 167/256\n",
      "512/512 [==============================] - 198s 386ms/step - loss: 1.1179 - accuracy: 0.5181 - val_loss: 1.1036 - val_accuracy: 0.5195\n",
      "Epoch 168/256\n",
      "512/512 [==============================] - 196s 383ms/step - loss: 1.1014 - accuracy: 0.5181 - val_loss: 1.0989 - val_accuracy: 0.5273\n",
      "Epoch 169/256\n",
      "512/512 [==============================] - 199s 388ms/step - loss: 1.1257 - accuracy: 0.5002 - val_loss: 1.1007 - val_accuracy: 0.5117\n",
      "Epoch 170/256\n",
      "512/512 [==============================] - 197s 384ms/step - loss: 1.0831 - accuracy: 0.5266 - val_loss: 1.0964 - val_accuracy: 0.5156\n",
      "Epoch 171/256\n",
      "512/512 [==============================] - 199s 388ms/step - loss: 1.0946 - accuracy: 0.5173 - val_loss: 1.1086 - val_accuracy: 0.5117\n",
      "Epoch 172/256\n",
      "512/512 [==============================] - 197s 385ms/step - loss: 1.1108 - accuracy: 0.5205 - val_loss: 1.1050 - val_accuracy: 0.4961\n",
      "Epoch 173/256\n",
      "512/512 [==============================] - 196s 384ms/step - loss: 1.1044 - accuracy: 0.5168 - val_loss: 1.0958 - val_accuracy: 0.4844\n",
      "Epoch 174/256\n",
      "512/512 [==============================] - 199s 388ms/step - loss: 1.1038 - accuracy: 0.5137 - val_loss: 1.0988 - val_accuracy: 0.5000\n",
      "Epoch 175/256\n",
      "512/512 [==============================] - 199s 388ms/step - loss: 1.1249 - accuracy: 0.5181 - val_loss: 1.0921 - val_accuracy: 0.5039\n",
      "Epoch 176/256\n",
      "512/512 [==============================] - 197s 386ms/step - loss: 1.1025 - accuracy: 0.5232 - val_loss: 1.1009 - val_accuracy: 0.5195\n",
      "Epoch 177/256\n",
      "512/512 [==============================] - 197s 385ms/step - loss: 1.0925 - accuracy: 0.5264 - val_loss: 1.0989 - val_accuracy: 0.5156\n",
      "Epoch 178/256\n",
      "512/512 [==============================] - 197s 385ms/step - loss: 1.1213 - accuracy: 0.5042 - val_loss: 1.0920 - val_accuracy: 0.5234\n",
      "Epoch 179/256\n",
      "512/512 [==============================] - 196s 382ms/step - loss: 1.0972 - accuracy: 0.5244 - val_loss: 1.0928 - val_accuracy: 0.5117\n",
      "Epoch 180/256\n",
      "512/512 [==============================] - 197s 386ms/step - loss: 1.0941 - accuracy: 0.5090 - val_loss: 1.1050 - val_accuracy: 0.5117\n",
      "Epoch 181/256\n",
      "512/512 [==============================] - 197s 385ms/step - loss: 1.1085 - accuracy: 0.5264 - val_loss: 1.0941 - val_accuracy: 0.5273\n",
      "Epoch 182/256\n",
      "512/512 [==============================] - 199s 390ms/step - loss: 1.1048 - accuracy: 0.5222 - val_loss: 1.0884 - val_accuracy: 0.5352\n",
      "Epoch 183/256\n",
      "512/512 [==============================] - 197s 386ms/step - loss: 1.1055 - accuracy: 0.5225 - val_loss: 1.0952 - val_accuracy: 0.5156\n",
      "Epoch 184/256\n",
      "512/512 [==============================] - 198s 386ms/step - loss: 1.1082 - accuracy: 0.5081 - val_loss: 1.0945 - val_accuracy: 0.5195\n",
      "Epoch 185/256\n",
      "512/512 [==============================] - 197s 386ms/step - loss: 1.1075 - accuracy: 0.5071 - val_loss: 1.0906 - val_accuracy: 0.5078\n",
      "Epoch 186/256\n",
      "512/512 [==============================] - 196s 382ms/step - loss: 1.1089 - accuracy: 0.5198 - val_loss: 1.0940 - val_accuracy: 0.5156\n",
      "Epoch 187/256\n",
      "512/512 [==============================] - 196s 383ms/step - loss: 1.0934 - accuracy: 0.5305 - val_loss: 1.0803 - val_accuracy: 0.5195\n",
      "Epoch 188/256\n",
      "512/512 [==============================] - 197s 386ms/step - loss: 1.1038 - accuracy: 0.5193 - val_loss: 1.0794 - val_accuracy: 0.5117\n",
      "Epoch 189/256\n",
      "512/512 [==============================] - 197s 385ms/step - loss: 1.0885 - accuracy: 0.5227 - val_loss: 1.0881 - val_accuracy: 0.5156\n",
      "Epoch 190/256\n",
      "512/512 [==============================] - 198s 386ms/step - loss: 1.1062 - accuracy: 0.5203 - val_loss: 1.0844 - val_accuracy: 0.5156\n",
      "Epoch 191/256\n",
      "512/512 [==============================] - 197s 384ms/step - loss: 1.0968 - accuracy: 0.5061 - val_loss: 1.0909 - val_accuracy: 0.5117\n",
      "Epoch 192/256\n",
      "512/512 [==============================] - 198s 386ms/step - loss: 1.0997 - accuracy: 0.5247 - val_loss: 1.0822 - val_accuracy: 0.5234\n",
      "Epoch 193/256\n",
      "512/512 [==============================] - 198s 387ms/step - loss: 1.1143 - accuracy: 0.5122 - val_loss: 1.0848 - val_accuracy: 0.5273\n",
      "Epoch 194/256\n",
      "512/512 [==============================] - 198s 387ms/step - loss: 1.1095 - accuracy: 0.5232 - val_loss: 1.0827 - val_accuracy: 0.5117\n",
      "Epoch 195/256\n",
      "512/512 [==============================] - 197s 386ms/step - loss: 1.1091 - accuracy: 0.5134 - val_loss: 1.0893 - val_accuracy: 0.4844\n",
      "Epoch 196/256\n",
      "512/512 [==============================] - 198s 386ms/step - loss: 1.1001 - accuracy: 0.5129 - val_loss: 1.0852 - val_accuracy: 0.4961\n",
      "Epoch 197/256\n",
      "512/512 [==============================] - 196s 382ms/step - loss: 1.1172 - accuracy: 0.5232 - val_loss: 1.0874 - val_accuracy: 0.5000\n",
      "Epoch 198/256\n",
      "512/512 [==============================] - 199s 389ms/step - loss: 1.0798 - accuracy: 0.5291 - val_loss: 1.0906 - val_accuracy: 0.5117\n",
      "Epoch 199/256\n",
      "512/512 [==============================] - 198s 387ms/step - loss: 1.0873 - accuracy: 0.5203 - val_loss: 1.0927 - val_accuracy: 0.5273\n",
      "Epoch 200/256\n",
      "512/512 [==============================] - 198s 387ms/step - loss: 1.1075 - accuracy: 0.5181 - val_loss: 1.0909 - val_accuracy: 0.5117\n",
      "Epoch 201/256\n",
      "512/512 [==============================] - 199s 390ms/step - loss: 1.0933 - accuracy: 0.5325 - val_loss: 1.0885 - val_accuracy: 0.5117\n",
      "Epoch 202/256\n",
      "512/512 [==============================] - 194s 379ms/step - loss: 1.1060 - accuracy: 0.5227 - val_loss: 1.1102 - val_accuracy: 0.4961\n",
      "Epoch 203/256\n",
      "512/512 [==============================] - 196s 383ms/step - loss: 1.0949 - accuracy: 0.5273 - val_loss: 1.0902 - val_accuracy: 0.5078\n",
      "Epoch 204/256\n",
      "512/512 [==============================] - 196s 383ms/step - loss: 1.1058 - accuracy: 0.5171 - val_loss: 1.0966 - val_accuracy: 0.5039\n",
      "Epoch 205/256\n",
      "512/512 [==============================] - 198s 387ms/step - loss: 1.1213 - accuracy: 0.5076 - val_loss: 1.0846 - val_accuracy: 0.5273\n",
      "Epoch 206/256\n",
      "512/512 [==============================] - 197s 385ms/step - loss: 1.1044 - accuracy: 0.5161 - val_loss: 1.0824 - val_accuracy: 0.5391\n",
      "Epoch 207/256\n",
      "512/512 [==============================] - 198s 387ms/step - loss: 1.0912 - accuracy: 0.5193 - val_loss: 1.0818 - val_accuracy: 0.5312\n",
      "Epoch 208/256\n",
      "512/512 [==============================] - 198s 387ms/step - loss: 1.0938 - accuracy: 0.5217 - val_loss: 1.0867 - val_accuracy: 0.5391\n",
      "Epoch 209/256\n",
      "512/512 [==============================] - 196s 383ms/step - loss: 1.0839 - accuracy: 0.5269 - val_loss: 1.0843 - val_accuracy: 0.5234\n",
      "Epoch 210/256\n",
      "512/512 [==============================] - 197s 384ms/step - loss: 1.0947 - accuracy: 0.5261 - val_loss: 1.0931 - val_accuracy: 0.5078\n",
      "Epoch 211/256\n",
      "512/512 [==============================] - 196s 382ms/step - loss: 1.0915 - accuracy: 0.5220 - val_loss: 1.0893 - val_accuracy: 0.4922\n",
      "Epoch 212/256\n",
      "512/512 [==============================] - 196s 382ms/step - loss: 1.0948 - accuracy: 0.5232 - val_loss: 1.0812 - val_accuracy: 0.5195\n",
      "Epoch 213/256\n",
      "512/512 [==============================] - 196s 384ms/step - loss: 1.1024 - accuracy: 0.5183 - val_loss: 1.0838 - val_accuracy: 0.5156\n",
      "Epoch 214/256\n",
      "512/512 [==============================] - 197s 385ms/step - loss: 1.1168 - accuracy: 0.5112 - val_loss: 1.0971 - val_accuracy: 0.5195\n",
      "Epoch 215/256\n",
      "512/512 [==============================] - 196s 382ms/step - loss: 1.1044 - accuracy: 0.5142 - val_loss: 1.0875 - val_accuracy: 0.5078\n",
      "Epoch 216/256\n",
      "512/512 [==============================] - 196s 383ms/step - loss: 1.0993 - accuracy: 0.5142 - val_loss: 1.0957 - val_accuracy: 0.5273\n",
      "Epoch 217/256\n",
      "512/512 [==============================] - 202s 395ms/step - loss: 1.0952 - accuracy: 0.5278 - val_loss: 1.0902 - val_accuracy: 0.5039\n",
      "Epoch 218/256\n",
      "512/512 [==============================] - 202s 394ms/step - loss: 1.0975 - accuracy: 0.5186 - val_loss: 1.0946 - val_accuracy: 0.5000\n",
      "Epoch 219/256\n",
      "512/512 [==============================] - 201s 392ms/step - loss: 1.1109 - accuracy: 0.5193 - val_loss: 1.0944 - val_accuracy: 0.5117\n",
      "Epoch 220/256\n",
      "512/512 [==============================] - 202s 394ms/step - loss: 1.0989 - accuracy: 0.5232 - val_loss: 1.0980 - val_accuracy: 0.5078\n",
      "Epoch 221/256\n"
     ]
    },
    {
     "name": "stdout",
     "output_type": "stream",
     "text": [
      "512/512 [==============================] - 198s 387ms/step - loss: 1.0896 - accuracy: 0.5186 - val_loss: 1.0958 - val_accuracy: 0.5078\n",
      "Epoch 222/256\n",
      "512/512 [==============================] - 196s 384ms/step - loss: 1.0908 - accuracy: 0.5215 - val_loss: 1.0915 - val_accuracy: 0.5430\n",
      "Epoch 223/256\n",
      "512/512 [==============================] - 199s 388ms/step - loss: 1.0956 - accuracy: 0.5132 - val_loss: 1.0976 - val_accuracy: 0.5195\n",
      "Epoch 224/256\n",
      "512/512 [==============================] - 198s 387ms/step - loss: 1.0939 - accuracy: 0.5134 - val_loss: 1.0901 - val_accuracy: 0.5391\n",
      "Epoch 225/256\n",
      "512/512 [==============================] - 200s 390ms/step - loss: 1.0600 - accuracy: 0.5449 - val_loss: 1.0827 - val_accuracy: 0.5352\n",
      "Epoch 226/256\n",
      "512/512 [==============================] - 201s 392ms/step - loss: 1.0940 - accuracy: 0.5164 - val_loss: 1.0830 - val_accuracy: 0.5117\n",
      "Epoch 227/256\n",
      "512/512 [==============================] - 200s 391ms/step - loss: 1.1016 - accuracy: 0.5178 - val_loss: 1.0866 - val_accuracy: 0.5273\n",
      "Epoch 228/256\n",
      "512/512 [==============================] - 201s 393ms/step - loss: 1.0934 - accuracy: 0.5195 - val_loss: 1.0824 - val_accuracy: 0.5195\n",
      "Epoch 229/256\n",
      "512/512 [==============================] - 199s 388ms/step - loss: 1.0873 - accuracy: 0.5366 - val_loss: 1.0800 - val_accuracy: 0.5273\n",
      "Epoch 230/256\n",
      "512/512 [==============================] - 202s 394ms/step - loss: 1.0989 - accuracy: 0.5229 - val_loss: 1.0867 - val_accuracy: 0.5156\n",
      "Epoch 231/256\n",
      "512/512 [==============================] - 199s 389ms/step - loss: 1.0729 - accuracy: 0.5398 - val_loss: 1.0829 - val_accuracy: 0.5312\n",
      "Epoch 232/256\n",
      "512/512 [==============================] - 201s 393ms/step - loss: 1.0623 - accuracy: 0.5376 - val_loss: 1.0998 - val_accuracy: 0.5234\n",
      "Epoch 233/256\n",
      "512/512 [==============================] - 202s 395ms/step - loss: 1.0913 - accuracy: 0.5142 - val_loss: 1.0769 - val_accuracy: 0.5195\n",
      "Epoch 234/256\n",
      "512/512 [==============================] - 202s 394ms/step - loss: 1.1003 - accuracy: 0.5181 - val_loss: 1.0731 - val_accuracy: 0.5391\n",
      "Epoch 235/256\n",
      "512/512 [==============================] - 200s 390ms/step - loss: 1.1136 - accuracy: 0.5312 - val_loss: 1.0726 - val_accuracy: 0.5391\n",
      "Epoch 236/256\n",
      "512/512 [==============================] - 202s 395ms/step - loss: 1.0885 - accuracy: 0.5239 - val_loss: 1.0818 - val_accuracy: 0.5273\n",
      "Epoch 237/256\n",
      "512/512 [==============================] - 201s 393ms/step - loss: 1.0959 - accuracy: 0.5193 - val_loss: 1.0767 - val_accuracy: 0.5273\n",
      "Epoch 238/256\n",
      "512/512 [==============================] - 200s 392ms/step - loss: 1.0881 - accuracy: 0.5264 - val_loss: 1.0756 - val_accuracy: 0.5312\n",
      "Epoch 239/256\n",
      "512/512 [==============================] - 203s 396ms/step - loss: 1.0893 - accuracy: 0.5256 - val_loss: 1.0900 - val_accuracy: 0.5430\n",
      "Epoch 240/256\n",
      "512/512 [==============================] - 202s 394ms/step - loss: 1.0990 - accuracy: 0.5195 - val_loss: 1.0831 - val_accuracy: 0.5156\n",
      "Epoch 241/256\n",
      "512/512 [==============================] - 201s 392ms/step - loss: 1.1102 - accuracy: 0.4980 - val_loss: 1.0738 - val_accuracy: 0.5391\n",
      "Epoch 242/256\n",
      "512/512 [==============================] - 201s 392ms/step - loss: 1.0866 - accuracy: 0.5303 - val_loss: 1.0765 - val_accuracy: 0.5352\n",
      "Epoch 243/256\n",
      "512/512 [==============================] - 202s 394ms/step - loss: 1.0890 - accuracy: 0.5176 - val_loss: 1.0796 - val_accuracy: 0.5195\n",
      "Epoch 244/256\n",
      "512/512 [==============================] - 202s 395ms/step - loss: 1.0953 - accuracy: 0.5239 - val_loss: 1.0717 - val_accuracy: 0.5352\n",
      "Epoch 245/256\n",
      "512/512 [==============================] - 202s 394ms/step - loss: 1.0748 - accuracy: 0.5342 - val_loss: 1.0781 - val_accuracy: 0.5273\n",
      "Epoch 246/256\n",
      "512/512 [==============================] - 201s 393ms/step - loss: 1.0694 - accuracy: 0.5356 - val_loss: 1.0882 - val_accuracy: 0.5078\n",
      "Epoch 247/256\n",
      "512/512 [==============================] - 198s 387ms/step - loss: 1.0958 - accuracy: 0.5195 - val_loss: 1.0749 - val_accuracy: 0.5352\n",
      "Epoch 248/256\n",
      "512/512 [==============================] - 200s 391ms/step - loss: 1.0875 - accuracy: 0.5190 - val_loss: 1.0797 - val_accuracy: 0.5156\n",
      "Epoch 249/256\n",
      "512/512 [==============================] - 201s 393ms/step - loss: 1.0763 - accuracy: 0.5366 - val_loss: 1.0826 - val_accuracy: 0.4922\n",
      "Epoch 250/256\n",
      "512/512 [==============================] - 202s 394ms/step - loss: 1.0667 - accuracy: 0.5325 - val_loss: 1.0794 - val_accuracy: 0.5195\n",
      "Epoch 251/256\n",
      "512/512 [==============================] - 200s 391ms/step - loss: 1.0955 - accuracy: 0.5298 - val_loss: 1.0771 - val_accuracy: 0.5312\n",
      "Epoch 252/256\n",
      "512/512 [==============================] - 202s 395ms/step - loss: 1.0647 - accuracy: 0.5325 - val_loss: 1.0750 - val_accuracy: 0.5508\n",
      "Epoch 253/256\n",
      "512/512 [==============================] - 200s 390ms/step - loss: 1.0886 - accuracy: 0.5317 - val_loss: 1.0756 - val_accuracy: 0.5508\n",
      "Epoch 254/256\n",
      "512/512 [==============================] - 202s 394ms/step - loss: 1.0912 - accuracy: 0.5334 - val_loss: 1.0740 - val_accuracy: 0.5430\n",
      "Epoch 255/256\n",
      "512/512 [==============================] - 204s 398ms/step - loss: 1.0899 - accuracy: 0.5354 - val_loss: 1.0883 - val_accuracy: 0.5195\n",
      "Epoch 256/256\n",
      "512/512 [==============================] - 202s 394ms/step - loss: 1.0890 - accuracy: 0.5254 - val_loss: 1.0760 - val_accuracy: 0.5352\n"
     ]
    }
   ],
   "source": [
    "history = model.fit(\n",
    "    train_dataset,\n",
    "    shuffle=True,\n",
    "    epochs=epochs,\n",
    "    steps_per_epoch=steps_per_epoch,\n",
    "    validation_data=validation_dataset,\n",
    "    validation_steps=validation_steps,\n",
    "    callbacks=callbacks,\n",
    ")"
   ]
  },
  {
   "cell_type": "code",
   "execution_count": 21,
   "id": "b484b48f",
   "metadata": {
    "scrolled": true
   },
   "outputs": [
    {
     "name": "stdout",
     "output_type": "stream",
     "text": [
      "{'loss': [1.6048336029052734, 1.5366772413253784, 1.4625357389450073, 1.3987500667572021, 1.3280514478683472, 1.3232420682907104, 1.2913539409637451, 1.2987799644470215, 1.3030401468276978, 1.275808572769165, 1.276410698890686, 1.2649024724960327, 1.2264832258224487, 1.2383559942245483, 1.2317051887512207, 1.2482105493545532, 1.239807367324829, 1.227082371711731, 1.2226362228393555, 1.235274314880371, 1.2376794815063477, 1.2182117700576782, 1.2054709196090698, 1.215003252029419, 1.219797968864441, 1.2069392204284668, 1.210744857788086, 1.2088464498519897, 1.215495228767395, 1.2045987844467163, 1.2065365314483643, 1.2015632390975952, 1.1823968887329102, 1.1832588911056519, 1.2003463506698608, 1.1865431070327759, 1.1865077018737793, 1.1936216354370117, 1.1875174045562744, 1.19121253490448, 1.185779094696045, 1.1823517084121704, 1.187535047531128, 1.1695976257324219, 1.1758778095245361, 1.1722384691238403, 1.1636325120925903, 1.182317852973938, 1.1663775444030762, 1.1792832612991333, 1.1768746376037598, 1.1567389965057373, 1.1731115579605103, 1.1696763038635254, 1.1804542541503906, 1.1690399646759033, 1.1543161869049072, 1.160808801651001, 1.1607890129089355, 1.1547468900680542, 1.1596319675445557, 1.1641411781311035, 1.168247103691101, 1.150267243385315, 1.164117693901062, 1.172457218170166, 1.164018988609314, 1.1636883020401, 1.1497268676757812, 1.1631156206130981, 1.1655550003051758, 1.1458455324172974, 1.1604907512664795, 1.1672968864440918, 1.1405633687973022, 1.1699843406677246, 1.1467500925064087, 1.1532515287399292, 1.1513856649398804, 1.1568148136138916, 1.1344139575958252, 1.1795371770858765, 1.1528592109680176, 1.1342180967330933, 1.1328662633895874, 1.1545166969299316, 1.1547037363052368, 1.1545298099517822, 1.175015926361084, 1.1173405647277832, 1.1543910503387451, 1.1448297500610352, 1.1313940286636353, 1.1443345546722412, 1.1328413486480713, 1.1491070985794067, 1.1264302730560303, 1.126821517944336, 1.149502158164978, 1.1344974040985107, 1.146106243133545, 1.143418550491333, 1.1451267004013062, 1.134757161140442, 1.1434884071350098, 1.1100428104400635, 1.1228411197662354, 1.1383020877838135, 1.1248552799224854, 1.146488904953003, 1.1460331678390503, 1.132299542427063, 1.109848976135254, 1.1335214376449585, 1.1359299421310425, 1.1428205966949463, 1.1203527450561523, 1.1093581914901733, 1.1510406732559204, 1.1103870868682861, 1.133150339126587, 1.12115478515625, 1.1262964010238647, 1.127547264099121, 1.125612735748291, 1.1372677087783813, 1.1131012439727783, 1.1035120487213135, 1.1296780109405518, 1.1123942136764526, 1.1119787693023682, 1.1148232221603394, 1.1234652996063232, 1.1348490715026855, 1.1275092363357544, 1.1199138164520264, 1.121593952178955, 1.1260616779327393, 1.1083989143371582, 1.1261701583862305, 1.1180998086929321, 1.1248085498809814, 1.1271291971206665, 1.1196039915084839, 1.103999137878418, 1.1383236646652222, 1.1074498891830444, 1.1052169799804688, 1.129265308380127, 1.1245094537734985, 1.1183360815048218, 1.1069966554641724, 1.1091936826705933, 1.1069810390472412, 1.1048599481582642, 1.1289528608322144, 1.1006258726119995, 1.103331446647644, 1.0865473747253418, 1.1233619451522827, 1.1117709875106812, 1.0994311571121216, 1.1314324140548706, 1.1124565601348877, 1.120103359222412, 1.1046829223632812, 1.1179323196411133, 1.1014010906219482, 1.125690221786499, 1.0830522775650024, 1.0946282148361206, 1.1108016967773438, 1.1044490337371826, 1.103840708732605, 1.124876856803894, 1.1024914979934692, 1.0925315618515015, 1.1212794780731201, 1.0971617698669434, 1.0941263437271118, 1.1084743738174438, 1.1047627925872803, 1.1054736375808716, 1.1081764698028564, 1.107466459274292, 1.1088992357254028, 1.0934034585952759, 1.1037545204162598, 1.0885380506515503, 1.1062010526657104, 1.096760630607605, 1.0996779203414917, 1.1142666339874268, 1.1094757318496704, 1.1091067790985107, 1.1001468896865845, 1.1172080039978027, 1.0798072814941406, 1.0872647762298584, 1.107485294342041, 1.093308448791504, 1.1059763431549072, 1.0948935747146606, 1.1057873964309692, 1.1212985515594482, 1.104438304901123, 1.0912225246429443, 1.093759536743164, 1.0839180946350098, 1.0946992635726929, 1.0914835929870605, 1.0947881937026978, 1.1023856401443481, 1.1167951822280884, 1.1044286489486694, 1.099288821220398, 1.0952199697494507, 1.09745192527771, 1.1108784675598145, 1.098880410194397, 1.0895956754684448, 1.0908045768737793, 1.0956288576126099, 1.0938829183578491, 1.0599713325500488, 1.0939702987670898, 1.1016291379928589, 1.0933923721313477, 1.0872541666030884, 1.0989048480987549, 1.0728815793991089, 1.0623241662979126, 1.0913362503051758, 1.1003358364105225, 1.1135891675949097, 1.0884991884231567, 1.095949649810791, 1.0881177186965942, 1.0893371105194092, 1.0990476608276367, 1.1102293729782104, 1.0866222381591797, 1.088971495628357, 1.0952788591384888, 1.0748164653778076, 1.0693693161010742, 1.0957809686660767, 1.0874885320663452, 1.076271891593933, 1.0666736364364624, 1.095456838607788, 1.064745545387268, 1.0886486768722534, 1.0911930799484253, 1.0898725986480713, 1.089005708694458], 'accuracy': [0.2392578125, 0.3134765625, 0.36328125, 0.394775390625, 0.4150390625, 0.4111328125, 0.431396484375, 0.419921875, 0.41748046875, 0.435546875, 0.43359375, 0.439208984375, 0.451904296875, 0.4541015625, 0.457763671875, 0.4443359375, 0.4658203125, 0.455322265625, 0.4580078125, 0.456298828125, 0.4580078125, 0.469970703125, 0.4677734375, 0.4638671875, 0.455322265625, 0.466064453125, 0.476318359375, 0.464111328125, 0.465087890625, 0.466552734375, 0.46875, 0.4755859375, 0.481689453125, 0.478759765625, 0.465576171875, 0.47119140625, 0.485595703125, 0.473876953125, 0.482666015625, 0.471923828125, 0.48193359375, 0.47314453125, 0.4814453125, 0.48583984375, 0.48046875, 0.49267578125, 0.4892578125, 0.483642578125, 0.486328125, 0.474609375, 0.479248046875, 0.49169921875, 0.480224609375, 0.484375, 0.4892578125, 0.493896484375, 0.488037109375, 0.485595703125, 0.497802734375, 0.49365234375, 0.4931640625, 0.48583984375, 0.494140625, 0.484619140625, 0.4921875, 0.480712890625, 0.487548828125, 0.49169921875, 0.494140625, 0.480224609375, 0.481201171875, 0.497314453125, 0.4853515625, 0.47509765625, 0.4951171875, 0.4833984375, 0.501220703125, 0.494140625, 0.4931640625, 0.484619140625, 0.502685546875, 0.476806640625, 0.492919921875, 0.498046875, 0.4912109375, 0.488525390625, 0.50146484375, 0.482666015625, 0.483154296875, 0.524169921875, 0.48876953125, 0.498046875, 0.4892578125, 0.501953125, 0.50537109375, 0.501708984375, 0.504150390625, 0.504150390625, 0.485107421875, 0.5068359375, 0.498046875, 0.500732421875, 0.50439453125, 0.51123046875, 0.49658203125, 0.51416015625, 0.51220703125, 0.510498046875, 0.518798828125, 0.496826171875, 0.513427734375, 0.503173828125, 0.517578125, 0.50439453125, 0.501953125, 0.505126953125, 0.50146484375, 0.509765625, 0.491943359375, 0.505615234375, 0.50927734375, 0.521240234375, 0.51708984375, 0.511474609375, 0.496826171875, 0.50146484375, 0.506591796875, 0.525390625, 0.510986328125, 0.514892578125, 0.512451171875, 0.5244140625, 0.51171875, 0.515869140625, 0.503173828125, 0.5126953125, 0.501953125, 0.514404296875, 0.523193359375, 0.50537109375, 0.501953125, 0.505859375, 0.498291015625, 0.516357421875, 0.5185546875, 0.506103515625, 0.519775390625, 0.519287109375, 0.50341796875, 0.509521484375, 0.50830078125, 0.51171875, 0.517333984375, 0.5107421875, 0.515380859375, 0.49755859375, 0.527587890625, 0.52734375, 0.5234375, 0.505615234375, 0.512451171875, 0.518310546875, 0.50439453125, 0.508056640625, 0.5166015625, 0.512939453125, 0.51806640625, 0.51806640625, 0.500244140625, 0.526611328125, 0.517333984375, 0.5205078125, 0.516845703125, 0.513671875, 0.51806640625, 0.523193359375, 0.5263671875, 0.504150390625, 0.5244140625, 0.509033203125, 0.5263671875, 0.522216796875, 0.5224609375, 0.508056640625, 0.507080078125, 0.519775390625, 0.530517578125, 0.519287109375, 0.522705078125, 0.520263671875, 0.506103515625, 0.524658203125, 0.51220703125, 0.523193359375, 0.513427734375, 0.512939453125, 0.523193359375, 0.529052734375, 0.520263671875, 0.51806640625, 0.532470703125, 0.522705078125, 0.52734375, 0.51708984375, 0.507568359375, 0.51611328125, 0.519287109375, 0.521728515625, 0.52685546875, 0.526123046875, 0.52197265625, 0.523193359375, 0.518310546875, 0.51123046875, 0.51416015625, 0.51416015625, 0.52783203125, 0.5185546875, 0.519287109375, 0.523193359375, 0.5185546875, 0.521484375, 0.51318359375, 0.513427734375, 0.544921875, 0.516357421875, 0.517822265625, 0.51953125, 0.53662109375, 0.52294921875, 0.539794921875, 0.53759765625, 0.51416015625, 0.51806640625, 0.53125, 0.52392578125, 0.519287109375, 0.5263671875, 0.525634765625, 0.51953125, 0.498046875, 0.5302734375, 0.517578125, 0.52392578125, 0.5341796875, 0.53564453125, 0.51953125, 0.51904296875, 0.53662109375, 0.532470703125, 0.52978515625, 0.532470703125, 0.53173828125, 0.533447265625, 0.535400390625, 0.525390625], 'val_loss': [1.541827917098999, 1.4701168537139893, 1.4004911184310913, 1.331217885017395, 1.3265769481658936, 1.2700002193450928, 1.268649697303772, 1.246364951133728, 1.2408058643341064, 1.2400492429733276, 1.2359024286270142, 1.219231367111206, 1.2192856073379517, 1.2147058248519897, 1.2189956903457642, 1.2078890800476074, 1.2135934829711914, 1.2257755994796753, 1.1992757320404053, 1.191029667854309, 1.1932376623153687, 1.2084578275680542, 1.1964728832244873, 1.208668828010559, 1.2015684843063354, 1.1913392543792725, 1.202004313468933, 1.1932927370071411, 1.189530372619629, 1.1909713745117188, 1.1945745944976807, 1.1947270631790161, 1.1947637796401978, 1.186538815498352, 1.2073605060577393, 1.1826074123382568, 1.19687819480896, 1.1923669576644897, 1.1697965860366821, 1.1793891191482544, 1.1708605289459229, 1.1694080829620361, 1.1760644912719727, 1.1956819295883179, 1.1720561981201172, 1.1668503284454346, 1.1717560291290283, 1.168718934059143, 1.1720799207687378, 1.1708539724349976, 1.1613848209381104, 1.1633179187774658, 1.1645946502685547, 1.158573031425476, 1.164974331855774, 1.1712470054626465, 1.1683299541473389, 1.1668052673339844, 1.1741994619369507, 1.169980525970459, 1.1637734174728394, 1.168595552444458, 1.1638708114624023, 1.1737703084945679, 1.1640645265579224, 1.1518762111663818, 1.1493542194366455, 1.1505112648010254, 1.1511098146438599, 1.1416923999786377, 1.1413776874542236, 1.1433501243591309, 1.1550434827804565, 1.1546984910964966, 1.1459331512451172, 1.1419987678527832, 1.134811282157898, 1.1536483764648438, 1.1626077890396118, 1.138189673423767, 1.1372144222259521, 1.1564254760742188, 1.1452710628509521, 1.1620863676071167, 1.1511236429214478, 1.1350221633911133, 1.1410974264144897, 1.1527155637741089, 1.15236234664917, 1.1431372165679932, 1.1361489295959473, 1.1384598016738892, 1.1345430612564087, 1.1597477197647095, 1.1279717683792114, 1.1321132183074951, 1.1406948566436768, 1.145218849182129, 1.1375316381454468, 1.1368058919906616, 1.1430456638336182, 1.1336443424224854, 1.1352289915084839, 1.1388840675354004, 1.1327919960021973, 1.1383963823318481, 1.1426454782485962, 1.1190061569213867, 1.1385914087295532, 1.117780327796936, 1.123280644416809, 1.1485925912857056, 1.1175751686096191, 1.1214042901992798, 1.1154801845550537, 1.1256619691848755, 1.1271182298660278, 1.1256706714630127, 1.1199007034301758, 1.131287693977356, 1.1239341497421265, 1.1231465339660645, 1.1174875497817993, 1.1068249940872192, 1.1132546663284302, 1.1171013116836548, 1.1076414585113525, 1.1056475639343262, 1.1155930757522583, 1.1104910373687744, 1.119722604751587, 1.1130897998809814, 1.104149341583252, 1.1157697439193726, 1.1061608791351318, 1.1163692474365234, 1.1066830158233643, 1.107380747795105, 1.11391019821167, 1.1063381433486938, 1.10220205783844, 1.1100950241088867, 1.1027346849441528, 1.1063787937164307, 1.1141130924224854, 1.1065231561660767, 1.1111499071121216, 1.0919007062911987, 1.1062251329421997, 1.1179856061935425, 1.1116143465042114, 1.1105273962020874, 1.11916184425354, 1.1059143543243408, 1.104050636291504, 1.1175769567489624, 1.107627511024475, 1.1151186227798462, 1.1003203392028809, 1.0979585647583008, 1.0956414937973022, 1.1100783348083496, 1.105307698249817, 1.1072028875350952, 1.0984066724777222, 1.1015697717666626, 1.1036044359207153, 1.098899006843567, 1.100689172744751, 1.0964266061782837, 1.1085731983184814, 1.105002522468567, 1.0958484411239624, 1.0987523794174194, 1.092105746269226, 1.1008508205413818, 1.0988856554031372, 1.0920171737670898, 1.092785358428955, 1.1049892902374268, 1.09406578540802, 1.0883737802505493, 1.095238447189331, 1.0945366621017456, 1.0905914306640625, 1.0940289497375488, 1.0802977085113525, 1.0793654918670654, 1.0881272554397583, 1.0843690633773804, 1.0908814668655396, 1.0822334289550781, 1.0847841501235962, 1.0827183723449707, 1.0893012285232544, 1.0852261781692505, 1.0873640775680542, 1.0905970335006714, 1.0926836729049683, 1.0908946990966797, 1.0885459184646606, 1.1101784706115723, 1.0902119874954224, 1.0965602397918701, 1.0845762491226196, 1.0823736190795898, 1.0817867517471313, 1.0866785049438477, 1.084289789199829, 1.0930602550506592, 1.089255452156067, 1.0811997652053833, 1.0837777853012085, 1.0970618724822998, 1.087511420249939, 1.0957260131835938, 1.0901894569396973, 1.0946040153503418, 1.0943959951400757, 1.0979520082473755, 1.09577214717865, 1.0914565324783325, 1.0976343154907227, 1.0901224613189697, 1.0826963186264038, 1.0829683542251587, 1.086594820022583, 1.0823681354522705, 1.0800457000732422, 1.0866612195968628, 1.0829265117645264, 1.099779486656189, 1.076879858970642, 1.0731137990951538, 1.072614312171936, 1.0817657709121704, 1.076721429824829, 1.0755857229232788, 1.0899765491485596, 1.0830628871917725, 1.0737942457199097, 1.0765252113342285, 1.0795868635177612, 1.0716960430145264, 1.0781160593032837, 1.0882312059402466, 1.0748900175094604, 1.079749345779419, 1.0826196670532227, 1.0794486999511719, 1.0771011114120483, 1.0749716758728027, 1.0756105184555054, 1.073961853981018, 1.088318109512329, 1.0760068893432617], 'val_accuracy': [0.328125, 0.4140625, 0.40625, 0.4296875, 0.4453125, 0.43359375, 0.46484375, 0.4375, 0.45703125, 0.4609375, 0.45703125, 0.4453125, 0.4453125, 0.4453125, 0.4609375, 0.46484375, 0.48046875, 0.46875, 0.45703125, 0.4765625, 0.453125, 0.47265625, 0.4609375, 0.44921875, 0.46484375, 0.4453125, 0.44921875, 0.46484375, 0.4609375, 0.4609375, 0.46484375, 0.46875, 0.46484375, 0.4609375, 0.46875, 0.4765625, 0.4609375, 0.47265625, 0.48046875, 0.484375, 0.47265625, 0.48046875, 0.46484375, 0.46875, 0.4765625, 0.47265625, 0.453125, 0.4609375, 0.45703125, 0.46875, 0.47265625, 0.47265625, 0.484375, 0.4765625, 0.48046875, 0.48828125, 0.46484375, 0.48828125, 0.4765625, 0.48046875, 0.46875, 0.48828125, 0.48046875, 0.46875, 0.46484375, 0.484375, 0.46875, 0.50390625, 0.484375, 0.5, 0.47265625, 0.46484375, 0.44921875, 0.47265625, 0.45703125, 0.48046875, 0.4921875, 0.46875, 0.484375, 0.4609375, 0.515625, 0.48046875, 0.4609375, 0.4609375, 0.47265625, 0.48828125, 0.47265625, 0.48046875, 0.484375, 0.4765625, 0.51171875, 0.49609375, 0.47265625, 0.484375, 0.48046875, 0.48828125, 0.4921875, 0.46875, 0.5, 0.4921875, 0.5, 0.4921875, 0.4921875, 0.48828125, 0.48828125, 0.5, 0.47265625, 0.52734375, 0.484375, 0.5078125, 0.5078125, 0.46875, 0.5234375, 0.546875, 0.515625, 0.49609375, 0.515625, 0.5078125, 0.5234375, 0.5, 0.49609375, 0.53125, 0.52734375, 0.5234375, 0.51953125, 0.52734375, 0.53125, 0.54296875, 0.5078125, 0.52734375, 0.5, 0.51171875, 0.51953125, 0.49609375, 0.49609375, 0.515625, 0.5078125, 0.51171875, 0.48828125, 0.5234375, 0.515625, 0.515625, 0.51953125, 0.5234375, 0.515625, 0.5234375, 0.51953125, 0.54296875, 0.5, 0.4921875, 0.49609375, 0.51953125, 0.5078125, 0.515625, 0.515625, 0.515625, 0.51171875, 0.5234375, 0.51171875, 0.5546875, 0.5234375, 0.5234375, 0.51171875, 0.4921875, 0.49609375, 0.51171875, 0.51953125, 0.52734375, 0.51171875, 0.515625, 0.51171875, 0.49609375, 0.484375, 0.5, 0.50390625, 0.51953125, 0.515625, 0.5234375, 0.51171875, 0.51171875, 0.52734375, 0.53515625, 0.515625, 0.51953125, 0.5078125, 0.515625, 0.51953125, 0.51171875, 0.515625, 0.515625, 0.51171875, 0.5234375, 0.52734375, 0.51171875, 0.484375, 0.49609375, 0.5, 0.51171875, 0.52734375, 0.51171875, 0.51171875, 0.49609375, 0.5078125, 0.50390625, 0.52734375, 0.5390625, 0.53125, 0.5390625, 0.5234375, 0.5078125, 0.4921875, 0.51953125, 0.515625, 0.51953125, 0.5078125, 0.52734375, 0.50390625, 0.5, 0.51171875, 0.5078125, 0.5078125, 0.54296875, 0.51953125, 0.5390625, 0.53515625, 0.51171875, 0.52734375, 0.51953125, 0.52734375, 0.515625, 0.53125, 0.5234375, 0.51953125, 0.5390625, 0.5390625, 0.52734375, 0.52734375, 0.53125, 0.54296875, 0.515625, 0.5390625, 0.53515625, 0.51953125, 0.53515625, 0.52734375, 0.5078125, 0.53515625, 0.515625, 0.4921875, 0.51953125, 0.53125, 0.55078125, 0.55078125, 0.54296875, 0.51953125, 0.53515625]}\n"
     ]
    }
   ],
   "source": [
    "print(history.history)"
   ]
  },
  {
   "cell_type": "code",
   "execution_count": 22,
   "id": "94dfd7bf",
   "metadata": {},
   "outputs": [
    {
     "name": "stderr",
     "output_type": "stream",
     "text": [
      "tokenizer_config.json: 100%|█████████████████████████████████████████████████████████| 28.0/28.0 [00:00<00:00, 61.2kB/s]\n",
      "vocab.txt: 100%|██████████████████████████████████████████████████████████████████████| 232k/232k [00:00<00:00, 528kB/s]\n",
      "tokenizer.json: 100%|████████████████████████████████████████████████████████████████| 466k/466k [00:00<00:00, 5.53MB/s]\n"
     ]
    }
   ],
   "source": [
    "import pandas as pd\n",
    "import numpy as np\n",
    "\n",
    "from transformers import DistilBertTokenizer\n",
    "\n",
    "tokenizer = DistilBertTokenizer.from_pretrained('distilbert-base-uncased')\n",
    "\n",
    "def predict(text):\n",
    "    encode_plus_tokens = tokenizer.encode_plus(\n",
    "                            text,\n",
    "                            pad_to_max_length=True,\n",
    "                            max_length=max_seq_length,\n",
    "                            truncation=True,\n",
    "                            return_tensors='tf')\n",
    "    \n",
    "    input_ids = encode_plus_tokens['input_ids']\n",
    "    input_mask = encode_plus_tokens['attention_mask']\n",
    "    \n",
    "    outputs = model.predict(x=(input_ids,input_mask))\n",
    "    \n",
    "    prediction = [{\"label\":config.id2label[item.argmax()], \\\n",
    "                   \"socre\":item.max().item()} for item in outputs]\n",
    "\n",
    "    return prediction[0]"
   ]
  },
  {
   "cell_type": "code",
   "execution_count": 23,
   "id": "c20cb381",
   "metadata": {},
   "outputs": [],
   "source": [
    "# Adhoc predict"
   ]
  },
  {
   "cell_type": "code",
   "execution_count": 24,
   "id": "97132b6e",
   "metadata": {
    "scrolled": true
   },
   "outputs": [
    {
     "name": "stderr",
     "output_type": "stream",
     "text": [
      "/usr/local/lib/python3.10/dist-packages/transformers/tokenization_utils_base.py:2618: FutureWarning: The `pad_to_max_length` argument is deprecated and will be removed in a future version, use `padding=True` or `padding='longest'` to pad to the longest sequence in the batch, or use `padding='max_length'` to pad to a max length. In this case, you can give a specific length with `max_length` (e.g. `max_length=45`) or leave max_length to None to pad to the maximal input size of the model (e.g. 512 for Bert).\n",
      "  warnings.warn(\n"
     ]
    },
    {
     "name": "stdout",
     "output_type": "stream",
     "text": [
      "1/1 [==============================] - 2s 2s/step\n"
     ]
    },
    {
     "data": {
      "text/plain": [
       "{'label': 5, 'socre': 0.8344945311546326}"
      ]
     },
     "execution_count": 24,
     "metadata": {},
     "output_type": "execute_result"
    }
   ],
   "source": [
    "predict(\"This is great!\")"
   ]
  },
  {
   "cell_type": "code",
   "execution_count": 25,
   "id": "eff5e8c7",
   "metadata": {},
   "outputs": [
    {
     "name": "stdout",
     "output_type": "stream",
     "text": [
      "1/1 [==============================] - 0s 57ms/step\n"
     ]
    },
    {
     "data": {
      "text/plain": [
       "{'label': 5, 'socre': 0.45766350626945496}"
      ]
     },
     "execution_count": 25,
     "metadata": {},
     "output_type": "execute_result"
    }
   ],
   "source": [
    "predict(\"This is cool.\")"
   ]
  },
  {
   "cell_type": "code",
   "execution_count": 26,
   "id": "233039e2",
   "metadata": {},
   "outputs": [
    {
     "name": "stdout",
     "output_type": "stream",
     "text": [
      "1/1 [==============================] - 0s 57ms/step\n"
     ]
    },
    {
     "data": {
      "text/plain": [
       "{'label': 1, 'socre': 0.5914115309715271}"
      ]
     },
     "execution_count": 26,
     "metadata": {},
     "output_type": "execute_result"
    }
   ],
   "source": [
    "predict(\"I don't like this.\")"
   ]
  },
  {
   "cell_type": "code",
   "execution_count": 27,
   "id": "f40ea7bb",
   "metadata": {},
   "outputs": [
    {
     "name": "stdout",
     "output_type": "stream",
     "text": [
      "1/1 [==============================] - 0s 56ms/step\n"
     ]
    },
    {
     "data": {
      "text/plain": [
       "{'label': 2, 'socre': 0.3141213357448578}"
      ]
     },
     "execution_count": 27,
     "metadata": {},
     "output_type": "execute_result"
    }
   ],
   "source": [
    "predict(\"I might buy it again.\")"
   ]
  },
  {
   "cell_type": "code",
   "execution_count": 28,
   "id": "ede03f87",
   "metadata": {},
   "outputs": [
    {
     "name": "stdout",
     "output_type": "stream",
     "text": [
      "1/1 [==============================] - 0s 65ms/step\n"
     ]
    },
    {
     "data": {
      "text/plain": [
       "{'label': 3, 'socre': 0.5854071378707886}"
      ]
     },
     "execution_count": 28,
     "metadata": {},
     "output_type": "execute_result"
    }
   ],
   "source": [
    "predict(\"The color is a little bit different from the picture. But it is OK.\")"
   ]
  },
  {
   "cell_type": "code",
   "execution_count": 29,
   "id": "e78f1209",
   "metadata": {},
   "outputs": [],
   "source": [
    "def plot_accracy(history):\n",
    "    import matplotlib.pyplot as plt\n",
    "\n",
    "    # Setting Parameters\n",
    "    acc = history.history['accuracy']\n",
    "    val_acc = history.history['val_accuracy']\n",
    "    loss = history.history['loss']\n",
    "    val_loss = history.history['val_loss']\n",
    "\n",
    "    epochs = range(len(acc))\n",
    "\n",
    "    # 1) Accracy Plt\n",
    "    plt.plot(epochs, acc, 'bo' ,label = 'training accuracy')\n",
    "    plt.plot(epochs, val_acc, 'b' , label= 'validation accuracy')\n",
    "    plt.title('Training and Validation acc')\n",
    "    plt.legend()\n",
    "\n",
    "    plt.figure()\n",
    "\n",
    "    # 2) Loss Plt\n",
    "    plt.plot(epochs, loss, 'bo' ,label = 'training loss')\n",
    "    plt.plot(epochs, val_loss, 'b' , label= 'validation loss')\n",
    "    plt.title('Training and Validation loss')\n",
    "    plt.legend()\n",
    "\n",
    "    plt.show()"
   ]
  },
  {
   "cell_type": "code",
   "execution_count": 30,
   "id": "b315f516",
   "metadata": {},
   "outputs": [
    {
     "data": {
      "image/png": "[encoded data removed]",
      "text/plain": [
       "<Figure size 640x480 with 1 Axes>"
      ]
     },
     "metadata": {},
     "output_type": "display_data"
    },
    {
     "data": {
      "image/png": "[encoded data removed]",
      "text/plain": [
       "<Figure size 640x480 with 1 Axes>"
      ]
     },
     "metadata": {},
     "output_type": "display_data"
    }
   ],
   "source": [
    "from keras import models \n",
    "from keras import layers\n",
    "from keras import optimizers\n",
    "\n",
    "#show Accuracy and Loss History\n",
    "#「loss」と「val_loss」の違いですが、「loss」は学習時のlossの値で、正解と予測の差分です。この値を少なくするように学習を進めます。\n",
    "#「val_loss」は検証用データでlossを計算した値です。\n",
    "# モデルは「loss」の値を少なくするように学習データを使用して学習を進めます。ただし学習データのみを使用して学習するため、学習データのみ \n",
    "# にあてはまり新たなデータでうまく予測できなくなる、いわゆるオーバーフィッティング状態になることがあります。\n",
    "# グラフ上では「loss」が下がっていくのに「val_loss」が上がってしまう状態です。\n",
    "plot_accracy(history)"
   ]
  },
  {
   "cell_type": "code",
   "execution_count": 31,
   "id": "c8243159",
   "metadata": {},
   "outputs": [
    {
     "name": "stdout",
     "output_type": "stream",
     "text": [
      "WARNING:tensorflow:Skipping full serialization of Keras layer <keras.layers.regularization.dropout.Dropout object at 0x7fe3b14fe050>, because it is not built.\n",
      "WARNING:tensorflow:Skipping full serialization of Keras layer <keras.layers.regularization.dropout.Dropout object at 0x7fe3b1515480>, because it is not built.\n",
      "WARNING:tensorflow:Skipping full serialization of Keras layer <keras.layers.regularization.dropout.Dropout object at 0x7fe3c870a1a0>, because it is not built.\n",
      "WARNING:tensorflow:Skipping full serialization of Keras layer <keras.layers.regularization.dropout.Dropout object at 0x7fe3b1429cc0>, because it is not built.\n",
      "WARNING:tensorflow:Skipping full serialization of Keras layer <keras.layers.regularization.dropout.Dropout object at 0x7fe3b1434850>, because it is not built.\n",
      "WARNING:tensorflow:Skipping full serialization of Keras layer <keras.layers.regularization.dropout.Dropout object at 0x7fe3b14373d0>, because it is not built.\n"
     ]
    },
    {
     "name": "stderr",
     "output_type": "stream",
     "text": [
      "2024-01-15 01:49:40.227056: I tensorflow/core/common_runtime/executor.cc:1209] [/device:CPU:0] (DEBUG INFO) Executor start aborting (this does not indicate an error and you can ignore this message): INVALID_ARGUMENT: You must feed a value for placeholder tensor 'while/Placeholder_2' with dtype float and shape [?,50]\n",
      "\t [[{{node while/Placeholder_2}}]]\n",
      "2024-01-15 01:49:40.309344: I tensorflow/core/common_runtime/executor.cc:1209] [/device:CPU:0] (DEBUG INFO) Executor start aborting (this does not indicate an error and you can ignore this message): INVALID_ARGUMENT: You must feed a value for placeholder tensor 'while/Placeholder_2' with dtype float and shape [?,50]\n",
      "\t [[{{node while/Placeholder_2}}]]\n",
      "2024-01-15 01:49:40.332854: I tensorflow/core/common_runtime/executor.cc:1209] [/device:CPU:0] (DEBUG INFO) Executor start aborting (this does not indicate an error and you can ignore this message): INVALID_ARGUMENT: You must feed a value for placeholder tensor 'inputs' with dtype float and shape [?,?,768]\n",
      "\t [[{{node inputs}}]]\n",
      "2024-01-15 01:49:40.342633: I tensorflow/core/common_runtime/executor.cc:1209] [/device:CPU:0] (DEBUG INFO) Executor start aborting (this does not indicate an error and you can ignore this message): INVALID_ARGUMENT: You must feed a value for placeholder tensor 'inputs' with dtype float and shape [?,?,768]\n",
      "\t [[{{node inputs}}]]\n",
      "2024-01-15 01:49:40.353472: I tensorflow/core/common_runtime/executor.cc:1209] [/device:CPU:0] (DEBUG INFO) Executor start aborting (this does not indicate an error and you can ignore this message): INVALID_ARGUMENT: You must feed a value for placeholder tensor 'inputs' with dtype float and shape [?,768]\n",
      "\t [[{{node inputs}}]]\n",
      "2024-01-15 01:49:40.353637: I tensorflow/core/common_runtime/executor.cc:1209] [/device:CPU:0] (DEBUG INFO) Executor start aborting (this does not indicate an error and you can ignore this message): INVALID_ARGUMENT: You must feed a value for placeholder tensor 'states' with dtype float and shape [?,50]\n",
      "\t [[{{node states}}]]\n",
      "2024-01-15 01:49:40.362387: I tensorflow/core/common_runtime/executor.cc:1209] [/device:CPU:0] (DEBUG INFO) Executor start aborting (this does not indicate an error and you can ignore this message): INVALID_ARGUMENT: You must feed a value for placeholder tensor 'inputs' with dtype float and shape [?,768]\n",
      "\t [[{{node inputs}}]]\n",
      "2024-01-15 01:49:40.362553: I tensorflow/core/common_runtime/executor.cc:1209] [/device:CPU:0] (DEBUG INFO) Executor start aborting (this does not indicate an error and you can ignore this message): INVALID_ARGUMENT: You must feed a value for placeholder tensor 'states' with dtype float and shape [?,50]\n",
      "\t [[{{node states}}]]\n",
      "2024-01-15 01:49:40.500342: I tensorflow/core/common_runtime/executor.cc:1209] [/device:CPU:0] (DEBUG INFO) Executor start aborting (this does not indicate an error and you can ignore this message): INVALID_ARGUMENT: You must feed a value for placeholder tensor 'while/Placeholder_2' with dtype float and shape [?,50]\n",
      "\t [[{{node while/Placeholder_2}}]]\n",
      "2024-01-15 01:49:40.586289: I tensorflow/core/common_runtime/executor.cc:1209] [/device:CPU:0] (DEBUG INFO) Executor start aborting (this does not indicate an error and you can ignore this message): INVALID_ARGUMENT: You must feed a value for placeholder tensor 'while/Placeholder_2' with dtype float and shape [?,50]\n",
      "\t [[{{node while/Placeholder_2}}]]\n",
      "2024-01-15 01:49:40.610644: I tensorflow/core/common_runtime/executor.cc:1209] [/device:CPU:0] (DEBUG INFO) Executor start aborting (this does not indicate an error and you can ignore this message): INVALID_ARGUMENT: You must feed a value for placeholder tensor 'inputs' with dtype float and shape [?,?,768]\n",
      "\t [[{{node inputs}}]]\n",
      "2024-01-15 01:49:40.619425: I tensorflow/core/common_runtime/executor.cc:1209] [/device:CPU:0] (DEBUG INFO) Executor start aborting (this does not indicate an error and you can ignore this message): INVALID_ARGUMENT: You must feed a value for placeholder tensor 'inputs' with dtype float and shape [?,?,768]\n",
      "\t [[{{node inputs}}]]\n",
      "2024-01-15 01:49:40.628323: I tensorflow/core/common_runtime/executor.cc:1209] [/device:CPU:0] (DEBUG INFO) Executor start aborting (this does not indicate an error and you can ignore this message): INVALID_ARGUMENT: You must feed a value for placeholder tensor 'inputs' with dtype float and shape [?,768]\n",
      "\t [[{{node inputs}}]]\n",
      "2024-01-15 01:49:40.628427: I tensorflow/core/common_runtime/executor.cc:1209] [/device:CPU:0] (DEBUG INFO) Executor start aborting (this does not indicate an error and you can ignore this message): INVALID_ARGUMENT: You must feed a value for placeholder tensor 'states' with dtype float and shape [?,50]\n",
      "\t [[{{node states}}]]\n",
      "2024-01-15 01:49:40.637036: I tensorflow/core/common_runtime/executor.cc:1209] [/device:CPU:0] (DEBUG INFO) Executor start aborting (this does not indicate an error and you can ignore this message): INVALID_ARGUMENT: You must feed a value for placeholder tensor 'inputs' with dtype float and shape [?,768]\n",
      "\t [[{{node inputs}}]]\n",
      "2024-01-15 01:49:40.637135: I tensorflow/core/common_runtime/executor.cc:1209] [/device:CPU:0] (DEBUG INFO) Executor start aborting (this does not indicate an error and you can ignore this message): INVALID_ARGUMENT: You must feed a value for placeholder tensor 'states' with dtype float and shape [?,50]\n",
      "\t [[{{node states}}]]\n",
      "2024-01-15 01:49:40.839292: I tensorflow/core/common_runtime/executor.cc:1209] [/device:CPU:0] (DEBUG INFO) Executor start aborting (this does not indicate an error and you can ignore this message): INVALID_ARGUMENT: You must feed a value for placeholder tensor 'inputs' with dtype float and shape [?,?,?]\n",
      "\t [[{{node inputs}}]]\n",
      "2024-01-15 01:49:41.008413: I tensorflow/core/common_runtime/executor.cc:1209] [/device:CPU:0] (DEBUG INFO) Executor start aborting (this does not indicate an error and you can ignore this message): INVALID_ARGUMENT: You must feed a value for placeholder tensor 'inputs' with dtype float and shape [?,?,?]\n",
      "\t [[{{node inputs}}]]\n",
      "2024-01-15 01:49:41.144195: I tensorflow/core/common_runtime/executor.cc:1209] [/device:CPU:0] (DEBUG INFO) Executor start aborting (this does not indicate an error and you can ignore this message): INVALID_ARGUMENT: You must feed a value for placeholder tensor 'inputs' with dtype float and shape [?,?,?]\n",
      "\t [[{{node inputs}}]]\n",
      "2024-01-15 01:49:41.254816: I tensorflow/core/common_runtime/executor.cc:1209] [/device:CPU:0] (DEBUG INFO) Executor start aborting (this does not indicate an error and you can ignore this message): INVALID_ARGUMENT: You must feed a value for placeholder tensor 'inputs' with dtype float and shape [?,?,?]\n",
      "\t [[{{node inputs}}]]\n",
      "2024-01-15 01:49:41.270348: I tensorflow/core/common_runtime/executor.cc:1209] [/device:CPU:0] (DEBUG INFO) Executor start aborting (this does not indicate an error and you can ignore this message): INVALID_ARGUMENT: You must feed a value for placeholder tensor 'inputs' with dtype float and shape [?,?,?]\n",
      "\t [[{{node inputs}}]]\n",
      "2024-01-15 01:49:41.282404: I tensorflow/core/common_runtime/executor.cc:1209] [/device:CPU:0] (DEBUG INFO) Executor start aborting (this does not indicate an error and you can ignore this message): INVALID_ARGUMENT: You must feed a value for placeholder tensor 'inputs' with dtype float and shape [?,?,?]\n",
      "\t [[{{node inputs}}]]\n",
      "2024-01-15 01:49:41.292490: I tensorflow/core/common_runtime/executor.cc:1209] [/device:CPU:0] (DEBUG INFO) Executor start aborting (this does not indicate an error and you can ignore this message): INVALID_ARGUMENT: You must feed a value for placeholder tensor 'inputs' with dtype float and shape [?,?,?]\n",
      "\t [[{{node inputs}}]]\n",
      "2024-01-15 01:49:41.300335: I tensorflow/core/common_runtime/executor.cc:1209] [/device:CPU:0] (DEBUG INFO) Executor start aborting (this does not indicate an error and you can ignore this message): INVALID_ARGUMENT: You must feed a value for placeholder tensor 'inputs' with dtype float and shape [?,?,?]\n",
      "\t [[{{node inputs}}]]\n",
      "2024-01-15 01:49:41.309663: I tensorflow/core/common_runtime/executor.cc:1209] [/device:CPU:0] (DEBUG INFO) Executor start aborting (this does not indicate an error and you can ignore this message): INVALID_ARGUMENT: You must feed a value for placeholder tensor 'inputs' with dtype float and shape [?,?,?]\n",
      "\t [[{{node inputs}}]]\n",
      "2024-01-15 01:49:41.317577: I tensorflow/core/common_runtime/executor.cc:1209] [/device:CPU:0] (DEBUG INFO) Executor start aborting (this does not indicate an error and you can ignore this message): INVALID_ARGUMENT: You must feed a value for placeholder tensor 'inputs' with dtype float and shape [?,?,?]\n",
      "\t [[{{node inputs}}]]\n"
     ]
    },
    {
     "name": "stderr",
     "output_type": "stream",
     "text": [
      "2024-01-15 01:49:44.583558: I tensorflow/core/common_runtime/executor.cc:1209] [/device:CPU:0] (DEBUG INFO) Executor start aborting (this does not indicate an error and you can ignore this message): INVALID_ARGUMENT: You must feed a value for placeholder tensor 'inputs' with dtype float and shape [?,64,768]\n",
      "\t [[{{node inputs}}]]\n",
      "2024-01-15 01:49:44.594575: I tensorflow/core/common_runtime/executor.cc:1209] [/device:CPU:0] (DEBUG INFO) Executor start aborting (this does not indicate an error and you can ignore this message): INVALID_ARGUMENT: You must feed a value for placeholder tensor 'inputs' with dtype float and shape [?,64,768]\n",
      "\t [[{{node inputs}}]]\n",
      "2024-01-15 01:49:44.605814: I tensorflow/core/common_runtime/executor.cc:1209] [/device:CPU:0] (DEBUG INFO) Executor start aborting (this does not indicate an error and you can ignore this message): INVALID_ARGUMENT: You must feed a value for placeholder tensor 'inputs' with dtype float and shape [?,50]\n",
      "\t [[{{node inputs}}]]\n",
      "2024-01-15 01:49:49.667551: I tensorflow/core/common_runtime/executor.cc:1209] [/device:CPU:0] (DEBUG INFO) Executor start aborting (this does not indicate an error and you can ignore this message): INVALID_ARGUMENT: You must feed a value for placeholder tensor 'inputs_0' with dtype float and shape [?,?,?]\n",
      "\t [[{{node inputs_0}}]]\n",
      "2024-01-15 01:49:49.680853: I tensorflow/core/common_runtime/executor.cc:1209] [/device:CPU:0] (DEBUG INFO) Executor start aborting (this does not indicate an error and you can ignore this message): INVALID_ARGUMENT: You must feed a value for placeholder tensor 'inputs_0' with dtype float and shape [?,?,?]\n",
      "\t [[{{node inputs_0}}]]\n",
      "2024-01-15 01:49:49.694971: I tensorflow/core/common_runtime/executor.cc:1209] [/device:CPU:0] (DEBUG INFO) Executor start aborting (this does not indicate an error and you can ignore this message): INVALID_ARGUMENT: You must feed a value for placeholder tensor 'inputs' with dtype float and shape [?,64,768]\n",
      "\t [[{{node inputs}}]]\n",
      "2024-01-15 01:49:49.707320: I tensorflow/core/common_runtime/executor.cc:1209] [/device:CPU:0] (DEBUG INFO) Executor start aborting (this does not indicate an error and you can ignore this message): INVALID_ARGUMENT: You must feed a value for placeholder tensor 'inputs' with dtype float and shape [?,64,768]\n",
      "\t [[{{node inputs}}]]\n",
      "2024-01-15 01:49:50.885314: I tensorflow/core/common_runtime/executor.cc:1209] [/device:CPU:0] (DEBUG INFO) Executor start aborting (this does not indicate an error and you can ignore this message): INVALID_ARGUMENT: You must feed a value for placeholder tensor 'inputs' with dtype float and shape [?,50]\n",
      "\t [[{{node inputs}}]]\n",
      "2024-01-15 01:49:50.934597: I tensorflow/core/common_runtime/executor.cc:1209] [/device:CPU:0] (DEBUG INFO) Executor start aborting (this does not indicate an error and you can ignore this message): INVALID_ARGUMENT: You must feed a value for placeholder tensor 'inputs_0' with dtype float and shape [?,?,768]\n",
      "\t [[{{node inputs_0}}]]\n",
      "2024-01-15 01:49:50.943402: I tensorflow/core/common_runtime/executor.cc:1209] [/device:CPU:0] (DEBUG INFO) Executor start aborting (this does not indicate an error and you can ignore this message): INVALID_ARGUMENT: You must feed a value for placeholder tensor 'inputs_0' with dtype float and shape [?,?,768]\n",
      "\t [[{{node inputs_0}}]]\n",
      "2024-01-15 01:49:50.952509: I tensorflow/core/common_runtime/executor.cc:1209] [/device:CPU:0] (DEBUG INFO) Executor start aborting (this does not indicate an error and you can ignore this message): INVALID_ARGUMENT: You must feed a value for placeholder tensor 'inputs' with dtype float and shape [?,?,?]\n",
      "\t [[{{node inputs}}]]\n",
      "2024-01-15 01:49:50.960313: I tensorflow/core/common_runtime/executor.cc:1209] [/device:CPU:0] (DEBUG INFO) Executor start aborting (this does not indicate an error and you can ignore this message): INVALID_ARGUMENT: You must feed a value for placeholder tensor 'inputs' with dtype float and shape [?,?,?]\n",
      "\t [[{{node inputs}}]]\n",
      "2024-01-15 01:49:51.528091: I tensorflow/core/common_runtime/executor.cc:1209] [/device:CPU:0] (DEBUG INFO) Executor start aborting (this does not indicate an error and you can ignore this message): INVALID_ARGUMENT: You must feed a value for placeholder tensor 'inputs_0' with dtype float and shape [?,?,768]\n",
      "\t [[{{node inputs_0}}]]\n",
      "2024-01-15 01:49:51.538246: I tensorflow/core/common_runtime/executor.cc:1209] [/device:CPU:0] (DEBUG INFO) Executor start aborting (this does not indicate an error and you can ignore this message): INVALID_ARGUMENT: You must feed a value for placeholder tensor 'inputs_0' with dtype float and shape [?,?,768]\n",
      "\t [[{{node inputs_0}}]]\n",
      "2024-01-15 01:49:51.548504: I tensorflow/core/common_runtime/executor.cc:1209] [/device:CPU:0] (DEBUG INFO) Executor start aborting (this does not indicate an error and you can ignore this message): INVALID_ARGUMENT: You must feed a value for placeholder tensor 'inputs' with dtype float and shape [?,?,?]\n",
      "\t [[{{node inputs}}]]\n",
      "2024-01-15 01:49:51.557754: I tensorflow/core/common_runtime/executor.cc:1209] [/device:CPU:0] (DEBUG INFO) Executor start aborting (this does not indicate an error and you can ignore this message): INVALID_ARGUMENT: You must feed a value for placeholder tensor 'inputs' with dtype float and shape [?,?,?]\n",
      "\t [[{{node inputs}}]]\n",
      "2024-01-15 01:49:52.174038: I tensorflow/core/common_runtime/executor.cc:1209] [/device:CPU:0] (DEBUG INFO) Executor start aborting (this does not indicate an error and you can ignore this message): INVALID_ARGUMENT: You must feed a value for placeholder tensor 'inputs' with dtype float and shape [?,768]\n",
      "\t [[{{node inputs}}]]\n",
      "2024-01-15 01:49:52.174142: I tensorflow/core/common_runtime/executor.cc:1209] [/device:CPU:0] (DEBUG INFO) Executor start aborting (this does not indicate an error and you can ignore this message): INVALID_ARGUMENT: You must feed a value for placeholder tensor 'states_0' with dtype float and shape [?,50]\n",
      "\t [[{{node states_0}}]]\n",
      "2024-01-15 01:49:52.183432: I tensorflow/core/common_runtime/executor.cc:1209] [/device:CPU:0] (DEBUG INFO) Executor start aborting (this does not indicate an error and you can ignore this message): INVALID_ARGUMENT: You must feed a value for placeholder tensor 'inputs' with dtype float and shape [?,768]\n",
      "\t [[{{node inputs}}]]\n",
      "2024-01-15 01:49:52.183534: I tensorflow/core/common_runtime/executor.cc:1209] [/device:CPU:0] (DEBUG INFO) Executor start aborting (this does not indicate an error and you can ignore this message): INVALID_ARGUMENT: You must feed a value for placeholder tensor 'states_0' with dtype float and shape [?,50]\n",
      "\t [[{{node states_0}}]]\n",
      "2024-01-15 01:49:52.299013: I tensorflow/core/common_runtime/executor.cc:1209] [/device:CPU:0] (DEBUG INFO) Executor start aborting (this does not indicate an error and you can ignore this message): INVALID_ARGUMENT: You must feed a value for placeholder tensor 'inputs' with dtype float and shape [?,768]\n",
      "\t [[{{node inputs}}]]\n",
      "2024-01-15 01:49:52.299117: I tensorflow/core/common_runtime/executor.cc:1209] [/device:CPU:0] (DEBUG INFO) Executor start aborting (this does not indicate an error and you can ignore this message): INVALID_ARGUMENT: You must feed a value for placeholder tensor 'states_0' with dtype float and shape [?,50]\n",
      "\t [[{{node states_0}}]]\n",
      "2024-01-15 01:49:52.308517: I tensorflow/core/common_runtime/executor.cc:1209] [/device:CPU:0] (DEBUG INFO) Executor start aborting (this does not indicate an error and you can ignore this message): INVALID_ARGUMENT: You must feed a value for placeholder tensor 'inputs' with dtype float and shape [?,768]\n",
      "\t [[{{node inputs}}]]\n",
      "2024-01-15 01:49:52.308619: I tensorflow/core/common_runtime/executor.cc:1209] [/device:CPU:0] (DEBUG INFO) Executor start aborting (this does not indicate an error and you can ignore this message): INVALID_ARGUMENT: You must feed a value for placeholder tensor 'states_0' with dtype float and shape [?,50]\n",
      "\t [[{{node states_0}}]]\n",
      "WARNING:absl:Found untraced functions such as embeddings_layer_call_fn, embeddings_layer_call_and_return_conditional_losses, transformer_layer_call_fn, transformer_layer_call_and_return_conditional_losses, LayerNorm_layer_call_fn while saving (showing 5 of 164). These functions will not be directly callable after loading.\n"
     ]
    },
    {
     "name": "stdout",
     "output_type": "stream",
     "text": [
      "INFO:tensorflow:Assets written to: /mnt/tensorflow/assets\n"
     ]
    },
    {
     "name": "stderr",
     "output_type": "stream",
     "text": [
      "INFO:tensorflow:Assets written to: /mnt/tensorflow/assets\n"
     ]
    }
   ],
   "source": [
    "model.save('/mnt/tensorflow/',save_format='tf')"
   ]
  },
  {
   "cell_type": "code",
   "execution_count": 32,
   "id": "ef5ddca1",
   "metadata": {},
   "outputs": [
    {
     "name": "stdout",
     "output_type": "stream",
     "text": [
      "assets\tfingerprint.pb\tkeras_metadata.pb  saved_model.pb  variables\r\n"
     ]
    }
   ],
   "source": [
    "!ls /mnt/tensorflow"
   ]
  },
  {
   "cell_type": "code",
   "execution_count": 33,
   "id": "54fc5758",
   "metadata": {},
   "outputs": [
    {
     "data": {
      "text/html": [
       "\n",
       "<p><b>Shutting down your kernel for this notebook to release resources.</b></p>\n",
       "<button class=\"sm-command-button\" data-commandlinker-command=\"kernelmenu:shutdown\" style=\"display:none;\">Shutdown Kernel</button>\n",
       "        \n",
       "<script>\n",
       "try {\n",
       "    els = document.getElementsByClassName(\"sm-command-button\");\n",
       "    els[0].click();\n",
       "}\n",
       "catch(err) {\n",
       "    // NoOp\n",
       "}    \n",
       "</script>\n"
      ],
      "text/plain": [
       "<IPython.core.display.HTML object>"
      ]
     },
     "metadata": {},
     "output_type": "display_data"
    }
   ],
   "source": [
    "%%html\n",
    "\n",
    "<p><b>Shutting down your kernel for this notebook to release resources.</b></p>\n",
    "<button class=\"sm-command-button\" data-commandlinker-command=\"kernelmenu:shutdown\" style=\"display:none;\">Shutdown Kernel</button>\n",
    "        \n",
    "<script>\n",
    "try {\n",
    "    els = document.getElementsByClassName(\"sm-command-button\");\n",
    "    els[0].click();\n",
    "}\n",
    "catch(err) {\n",
    "    // NoOp\n",
    "}    \n",
    "</script>"
   ]
  }
 ],
 "metadata": {
  "kernelspec": {
   "display_name": "Python 3 (ipykernel)",
   "language": "python",
   "name": "python3"
  },
  "language_info": {
   "codemirror_mode": {
    "name": "ipython",
    "version": 3
   },
   "file_extension": ".py",
   "mimetype": "text/x-python",
   "name": "python",
   "nbconvert_exporter": "python",
   "pygments_lexer": "ipython3",
   "version": "3.10.6"
  }
 },
 "nbformat": 4,
 "nbformat_minor": 5
}
