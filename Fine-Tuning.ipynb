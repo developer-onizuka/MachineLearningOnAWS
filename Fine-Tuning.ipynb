{
 "cells": [
  {
   "cell_type": "code",
   "execution_count": 1,
   "id": "090cb7bb",
   "metadata": {},
   "outputs": [
    {
     "name": "stdout",
     "output_type": "stream",
     "text": [
      "Collecting transformers\n",
      "  Downloading transformers-4.36.2-py3-none-any.whl (8.2 MB)\n",
      "\u001b[2K     \u001b[90m━━━━━━━━━━━━━━━━━━━━━━━━━━━━━━━━━━━━━━━━\u001b[0m \u001b[32m8.2/8.2 MB\u001b[0m \u001b[31m48.8 MB/s\u001b[0m eta \u001b[36m0:00:00\u001b[0m00:01\u001b[0m00:01\u001b[0m\n",
      "\u001b[?25hCollecting filelock (from transformers)\n",
      "  Downloading filelock-3.13.1-py3-none-any.whl (11 kB)\n",
      "Collecting huggingface-hub<1.0,>=0.19.3 (from transformers)\n",
      "  Downloading huggingface_hub-0.20.2-py3-none-any.whl (330 kB)\n",
      "\u001b[2K     \u001b[90m━━━━━━━━━━━━━━━━━━━━━━━━━━━━━━━━━━━━━━\u001b[0m \u001b[32m330.3/330.3 kB\u001b[0m \u001b[31m58.1 MB/s\u001b[0m eta \u001b[36m0:00:00\u001b[0m\n",
      "\u001b[?25hRequirement already satisfied: numpy>=1.17 in /usr/local/lib/python3.10/dist-packages (from transformers) (1.22.2)\n",
      "Requirement already satisfied: packaging>=20.0 in /usr/local/lib/python3.10/dist-packages (from transformers) (23.1)\n",
      "Requirement already satisfied: pyyaml>=5.1 in /usr/local/lib/python3.10/dist-packages (from transformers) (6.0)\n",
      "Collecting regex!=2019.12.17 (from transformers)\n",
      "  Downloading regex-2023.12.25-cp310-cp310-manylinux_2_17_x86_64.manylinux2014_x86_64.whl (773 kB)\n",
      "\u001b[2K     \u001b[90m━━━━━━━━━━━━━━━━━━━━━━━━━━━━━━━━━━━━━━\u001b[0m \u001b[32m774.0/774.0 kB\u001b[0m \u001b[31m64.3 MB/s\u001b[0m eta \u001b[36m0:00:00\u001b[0m\n",
      "\u001b[?25hRequirement already satisfied: requests in /usr/local/lib/python3.10/dist-packages (from transformers) (2.31.0)\n",
      "Collecting tokenizers<0.19,>=0.14 (from transformers)\n",
      "  Downloading tokenizers-0.15.0-cp310-cp310-manylinux_2_17_x86_64.manylinux2014_x86_64.whl (3.8 MB)\n",
      "\u001b[2K     \u001b[90m━━━━━━━━━━━━━━━━━━━━━━━━━━━━━━━━━━━━━━━━\u001b[0m \u001b[32m3.8/3.8 MB\u001b[0m \u001b[31m80.0 MB/s\u001b[0m eta \u001b[36m0:00:00\u001b[0m:00:01\u001b[0m\n",
      "\u001b[?25hCollecting safetensors>=0.3.1 (from transformers)\n",
      "  Downloading safetensors-0.4.1-cp310-cp310-manylinux_2_17_x86_64.manylinux2014_x86_64.whl (1.3 MB)\n",
      "\u001b[2K     \u001b[90m━━━━━━━━━━━━━━━━━━━━━━━━━━━━━━━━━━━━━━━━\u001b[0m \u001b[32m1.3/1.3 MB\u001b[0m \u001b[31m84.7 MB/s\u001b[0m eta \u001b[36m0:00:00\u001b[0m\n",
      "\u001b[?25hCollecting tqdm>=4.27 (from transformers)\n",
      "  Downloading tqdm-4.66.1-py3-none-any.whl (78 kB)\n",
      "\u001b[2K     \u001b[90m━━━━━━━━━━━━━━━━━━━━━━━━━━━━━━━━━━━━━━━━\u001b[0m \u001b[32m78.3/78.3 kB\u001b[0m \u001b[31m19.1 MB/s\u001b[0m eta \u001b[36m0:00:00\u001b[0m\n",
      "\u001b[?25hRequirement already satisfied: fsspec>=2023.5.0 in /usr/local/lib/python3.10/dist-packages (from huggingface-hub<1.0,>=0.19.3->transformers) (2023.6.0)\n",
      "Requirement already satisfied: typing-extensions>=3.7.4.3 in /usr/local/lib/python3.10/dist-packages (from huggingface-hub<1.0,>=0.19.3->transformers) (4.7.1)\n",
      "Requirement already satisfied: charset-normalizer<4,>=2 in /usr/local/lib/python3.10/dist-packages (from requests->transformers) (3.1.0)\n",
      "Requirement already satisfied: idna<4,>=2.5 in /usr/local/lib/python3.10/dist-packages (from requests->transformers) (3.4)\n",
      "Requirement already satisfied: urllib3<3,>=1.21.1 in /usr/local/lib/python3.10/dist-packages (from requests->transformers) (1.26.16)\n",
      "Requirement already satisfied: certifi>=2017.4.17 in /usr/local/lib/python3.10/dist-packages (from requests->transformers) (2023.5.7)\n",
      "Installing collected packages: tqdm, safetensors, regex, filelock, huggingface-hub, tokenizers, transformers\n",
      "Successfully installed filelock-3.13.1 huggingface-hub-0.20.2 regex-2023.12.25 safetensors-0.4.1 tokenizers-0.15.0 tqdm-4.66.1 transformers-4.36.2\n",
      "\u001b[33mWARNING: Running pip as the 'root' user can result in broken permissions and conflicting behaviour with the system package manager. It is recommended to use a virtual environment instead: https://pip.pypa.io/warnings/venv\u001b[0m\u001b[33m\n",
      "\u001b[0m"
     ]
    }
   ],
   "source": [
    "!pip install transformers"
   ]
  },
  {
   "cell_type": "code",
   "execution_count": 2,
   "id": "82e6f70d",
   "metadata": {},
   "outputs": [
    {
     "name": "stderr",
     "output_type": "stream",
     "text": [
      "2024-01-08 06:04:49.540650: I tensorflow/core/platform/cpu_feature_guard.cc:183] This TensorFlow binary is optimized to use available CPU instructions in performance-critical operations.\n",
      "To enable the following instructions: SSE3 SSE4.1 SSE4.2 AVX, in other operations, rebuild TensorFlow with the appropriate compiler flags.\n",
      "/usr/local/lib/python3.10/dist-packages/tqdm/auto.py:21: TqdmWarning: IProgress not found. Please update jupyter and ipywidgets. See https://ipywidgets.readthedocs.io/en/stable/user_install.html\n",
      "  from .autonotebook import tqdm as notebook_tqdm\n"
     ]
    }
   ],
   "source": [
    "import time\n",
    "import random\n",
    "import pandas as pd\n",
    "from glob import glob\n",
    "import argparse\n",
    "import json\n",
    "import subprocess\n",
    "import sys\n",
    "import os\n",
    "import tensorflow as tf\n",
    "from transformers import DistilBertTokenizer\n",
    "from transformers import TFDistilBertForSequenceClassification\n",
    "from transformers import DistilBertConfig"
   ]
  },
  {
   "cell_type": "code",
   "execution_count": null,
   "id": "775776f4",
   "metadata": {},
   "outputs": [],
   "source": [
    "# Define the connection between Input data and Label"
   ]
  },
  {
   "cell_type": "code",
   "execution_count": 3,
   "id": "a61eed2f",
   "metadata": {},
   "outputs": [],
   "source": [
    "def select_data_and_label_from_record(record):\n",
    "    x = {\n",
    "        \"input_ids\": record[\"input_ids\"],\n",
    "        \"input_mask\": record[\"input_mask\"],\n",
    "    }\n",
    "    y = record[\"label_ids\"]\n",
    "\n",
    "    return (x, y)"
   ]
  },
  {
   "cell_type": "code",
   "execution_count": 4,
   "id": "6545c673",
   "metadata": {},
   "outputs": [],
   "source": [
    "def file_based_input_dataset_builder(channel, input_filenames, max_seq_length, is_training, drop_remainder):\n",
    "    # トレーニング時には並列読み出しとシャッフルを行う。\n",
    "    # 評価時にはシャッフルは行わず、並列読み出しは効果がない。\n",
    "\n",
    "    dataset = tf.data.TFRecordDataset(input_filenames)\n",
    "    dataset = dataset.repeat(100)\n",
    "    dataset = dataset.prefetch(tf.data.experimental.AUTOTUNE)\n",
    "\n",
    "    name_to_features = {\n",
    "        \"input_ids\": tf.io.FixedLenFeature([max_seq_length], tf.int64),\n",
    "        \"input_mask\": tf.io.FixedLenFeature([max_seq_length], tf.int64),\n",
    "        \"label_ids\": tf.io.FixedLenFeature([], tf.int64),\n",
    "    }\n",
    "\n",
    "    def _decode_record(record, name_to_features):\n",
    "        \"\"\"Decodes a record to a TensorFlow example.\"\"\"\n",
    "        return tf.io.parse_single_example(record, name_to_features)\n",
    "\n",
    "    dataset = dataset.apply(\n",
    "        tf.data.experimental.map_and_batch(\n",
    "            lambda record: _decode_record(record, name_to_features),\n",
    "            batch_size=8,\n",
    "            drop_remainder=drop_remainder,\n",
    "            num_parallel_calls=tf.data.experimental.AUTOTUNE,\n",
    "        )\n",
    "    )\n",
    "\n",
    "    dataset.cache()\n",
    "\n",
    "    if is_training:\n",
    "        dataset = dataset.shuffle(seed=42, buffer_size=10, reshuffle_each_iteration=True)\n",
    "\n",
    "    return dataset"
   ]
  },
  {
   "cell_type": "code",
   "execution_count": 21,
   "id": "97b081fc",
   "metadata": {},
   "outputs": [
    {
     "name": "stdout",
     "output_type": "stream",
     "text": [
      "train_data_filenames /mnt/data.tfrecord\n"
     ]
    }
   ],
   "source": [
    "# train_data = \"./data-tfrecord/bert-train\"\n",
    "train_data_filenames = \"/mnt/train_data.tfrecord\"\n",
    "print(\"train_data_filenames {}\".format(train_data_filenames))\n",
    "\n",
    "train_dataset = file_based_input_dataset_builder(\n",
    "    channel=\"train\", \n",
    "    input_filenames=train_data_filenames, \n",
    "    max_seq_length=64, \n",
    "    is_training=True, \n",
    "    drop_remainder=False\n",
    ").map(select_data_and_label_from_record)"
   ]
  },
  {
   "cell_type": "code",
   "execution_count": 22,
   "id": "6da07a0c",
   "metadata": {},
   "outputs": [
    {
     "name": "stdout",
     "output_type": "stream",
     "text": [
      "validation_data_filenames /mnt/data2.tfrecord\n"
     ]
    }
   ],
   "source": [
    "# validation_data = \"./data-tfrecord/bert-validation\"\n",
    "validation_data_filenames = \"/mnt/validation_data.tfrecord\"\n",
    "print(\"validation_data_filenames {}\".format(validation_data_filenames))\n",
    "\n",
    "validation_dataset = file_based_input_dataset_builder(\n",
    "    channel=\"validation\",\n",
    "    input_filenames=validation_data_filenames,\n",
    "    max_seq_length=64,\n",
    "    is_training=False,\n",
    "    drop_remainder=False,\n",
    ").map(select_data_and_label_from_record)"
   ]
  },
  {
   "cell_type": "code",
   "execution_count": 7,
   "id": "9e2bb084",
   "metadata": {},
   "outputs": [],
   "source": [
    "epochs = 1\n",
    "steps_per_epoch = 1\n",
    "validation_steps = 1\n",
    "test_steps = 1\n",
    "freeze_bert_layer = True\n",
    "learning_rate = 3e-5\n",
    "epsilon = 1e-08\n",
    "max_seq_length = 64"
   ]
  },
  {
   "cell_type": "code",
   "execution_count": 8,
   "id": "d885da1a",
   "metadata": {},
   "outputs": [
    {
     "name": "stderr",
     "output_type": "stream",
     "text": [
      "config.json: 100%|██████████████████████████████████████████████████████████████████████| 483/483 [00:00<00:00, 811kB/s]"
     ]
    },
    {
     "name": "stdout",
     "output_type": "stream",
     "text": [
      "DistilBertConfig {\n",
      "  \"activation\": \"gelu\",\n",
      "  \"architectures\": [\n",
      "    \"DistilBertForMaskedLM\"\n",
      "  ],\n",
      "  \"attention_dropout\": 0.1,\n",
      "  \"dim\": 768,\n",
      "  \"dropout\": 0.1,\n",
      "  \"hidden_dim\": 3072,\n",
      "  \"id2label\": {\n",
      "    \"0\": 1,\n",
      "    \"1\": 2,\n",
      "    \"2\": 3,\n",
      "    \"3\": 4,\n",
      "    \"4\": 5\n",
      "  },\n",
      "  \"initializer_range\": 0.02,\n",
      "  \"label2id\": {\n",
      "    \"1\": 0,\n",
      "    \"2\": 1,\n",
      "    \"3\": 2,\n",
      "    \"4\": 3,\n",
      "    \"5\": 4\n",
      "  },\n",
      "  \"max_position_embeddings\": 512,\n",
      "  \"model_type\": \"distilbert\",\n",
      "  \"n_heads\": 12,\n",
      "  \"n_layers\": 6,\n",
      "  \"pad_token_id\": 0,\n",
      "  \"qa_dropout\": 0.1,\n",
      "  \"seq_classif_dropout\": 0.2,\n",
      "  \"sinusoidal_pos_embds\": false,\n",
      "  \"tie_weights_\": true,\n",
      "  \"transformers_version\": \"4.36.2\",\n",
      "  \"vocab_size\": 30522\n",
      "}\n",
      "\n"
     ]
    },
    {
     "name": "stderr",
     "output_type": "stream",
     "text": [
      "\n"
     ]
    }
   ],
   "source": [
    "CLASSES = [1, 2, 3, 4, 5]\n",
    "\n",
    "config = DistilBertConfig.from_pretrained(\n",
    "    \"distilbert-base-uncased\",\n",
    "    num_labels=len(CLASSES),\n",
    "    id2label={0: 1, 1: 2, 2: 3, 3: 4, 4: 5},\n",
    "    label2id={1: 0, 2: 1, 3: 2, 4: 3, 5: 4},\n",
    ")\n",
    "print(config)"
   ]
  },
  {
   "cell_type": "code",
   "execution_count": null,
   "id": "b7810d2b",
   "metadata": {},
   "outputs": [],
   "source": [
    "# Adding the layer for fine tuning on BERT"
   ]
  },
  {
   "cell_type": "code",
   "execution_count": 15,
   "id": "eadc4cc8",
   "metadata": {},
   "outputs": [
    {
     "name": "stderr",
     "output_type": "stream",
     "text": [
      "Some weights of the PyTorch model were not used when initializing the TF 2.0 model TFDistilBertForSequenceClassification: ['vocab_projector.bias', 'vocab_layer_norm.weight', 'vocab_transform.bias', 'vocab_transform.weight', 'vocab_layer_norm.bias']\n",
      "- This IS expected if you are initializing TFDistilBertForSequenceClassification from a PyTorch model trained on another task or with another architecture (e.g. initializing a TFBertForSequenceClassification model from a BertForPreTraining model).\n",
      "- This IS NOT expected if you are initializing TFDistilBertForSequenceClassification from a PyTorch model that you expect to be exactly identical (e.g. initializing a TFBertForSequenceClassification model from a BertForSequenceClassification model).\n",
      "Some weights or buffers of the TF 2.0 model TFDistilBertForSequenceClassification were not initialized from the PyTorch model and are newly initialized: ['pre_classifier.weight', 'pre_classifier.bias', 'classifier.weight', 'classifier.bias']\n",
      "You should probably TRAIN this model on a down-stream task to be able to use it for predictions and inference.\n"
     ]
    },
    {
     "name": "stdout",
     "output_type": "stream",
     "text": [
      "WARNING:tensorflow:Layer lstm_1 will not use cuDNN kernels since it doesn't meet the criteria. It will use a generic GPU kernel as fallback when running on GPU.\n",
      "WARNING:tensorflow:Layer lstm_1 will not use cuDNN kernels since it doesn't meet the criteria. It will use a generic GPU kernel as fallback when running on GPU.\n",
      "WARNING:tensorflow:Layer lstm_1 will not use cuDNN kernels since it doesn't meet the criteria. It will use a generic GPU kernel as fallback when running on GPU.\n"
     ]
    }
   ],
   "source": [
    "transformer_model = TFDistilBertForSequenceClassification.from_pretrained(\"distilbert-base-uncased\", config=config)\n",
    "\n",
    "input_ids = tf.keras.layers.Input(shape=(max_seq_length,), name=\"input_ids\", dtype=\"int32\")\n",
    "input_mask = tf.keras.layers.Input(shape=(max_seq_length,), name=\"input_mask\", dtype=\"int32\")\n",
    "\n",
    "embedding_layer = transformer_model.distilbert(input_ids, attention_mask=input_mask)[0]\n",
    "X = tf.keras.layers.Bidirectional(tf.keras.layers.LSTM(50, return_sequences=True, dropout=0.1, recurrent_dropout=0.1))(\n",
    "    embedding_layer\n",
    ")\n",
    "X = tf.keras.layers.GlobalMaxPool1D()(X)\n",
    "X = tf.keras.layers.Dense(50, activation=\"relu\")(X)\n",
    "X = tf.keras.layers.Dropout(0.2)(X)\n",
    "X = tf.keras.layers.Dense(len(CLASSES), activation=\"softmax\")(X)\n",
    "\n",
    "model = tf.keras.Model(inputs=[input_ids, input_mask], outputs=X)\n",
    "\n",
    "for layer in model.layers[:3]:\n",
    "    layer.trainable = not freeze_bert_layer"
   ]
  },
  {
   "cell_type": "code",
   "execution_count": null,
   "id": "b457525b",
   "metadata": {},
   "outputs": [],
   "source": [
    "# Set up the custom classifier model"
   ]
  },
  {
   "cell_type": "code",
   "execution_count": 16,
   "id": "1ac81c89",
   "metadata": {},
   "outputs": [
    {
     "name": "stdout",
     "output_type": "stream",
     "text": [
      "Model: \"model_1\"\n",
      "__________________________________________________________________________________________________\n",
      " Layer (type)                   Output Shape         Param #     Connected to                     \n",
      "==================================================================================================\n",
      " input_ids (InputLayer)         [(None, 64)]         0           []                               \n",
      "                                                                                                  \n",
      " input_mask (InputLayer)        [(None, 64)]         0           []                               \n",
      "                                                                                                  \n",
      " distilbert (TFDistilBertMainLa  TFBaseModelOutput(l  66362880   ['input_ids[0][0]',              \n",
      " yer)                           ast_hidden_state=(N               'input_mask[0][0]']             \n",
      "                                one, 64, 768),                                                    \n",
      "                                 hidden_states=None                                               \n",
      "                                , attentions=None)                                                \n",
      "                                                                                                  \n",
      " bidirectional_1 (Bidirectional  (None, 64, 100)     327600      ['distilbert[0][0]']             \n",
      " )                                                                                                \n",
      "                                                                                                  \n",
      " global_max_pooling1d_1 (Global  (None, 100)         0           ['bidirectional_1[0][0]']        \n",
      " MaxPooling1D)                                                                                    \n",
      "                                                                                                  \n",
      " dense_2 (Dense)                (None, 50)           5050        ['global_max_pooling1d_1[0][0]'] \n",
      "                                                                                                  \n",
      " dropout_41 (Dropout)           (None, 50)           0           ['dense_2[0][0]']                \n",
      "                                                                                                  \n",
      " dense_3 (Dense)                (None, 5)            255         ['dropout_41[0][0]']             \n",
      "                                                                                                  \n",
      "==================================================================================================\n",
      "Total params: 66,695,785\n",
      "Trainable params: 332,905\n",
      "Non-trainable params: 66,362,880\n",
      "__________________________________________________________________________________________________\n"
     ]
    }
   ],
   "source": [
    "loss = tf.keras.losses.SparseCategoricalCrossentropy(from_logits=True)\n",
    "\n",
    "metric = tf.keras.metrics.SparseCategoricalAccuracy(\"accuracy\")\n",
    "\n",
    "optimizer = tf.keras.optimizers.Adam(learning_rate=learning_rate, epsilon=epsilon)\n",
    "\n",
    "model.compile(optimizer=optimizer, loss=loss, metrics=[metric])\n",
    "\n",
    "model.summary()"
   ]
  },
  {
   "cell_type": "code",
   "execution_count": 17,
   "id": "6cbc2f10",
   "metadata": {},
   "outputs": [],
   "source": [
    "callbacks = []\n",
    "\n",
    "log_dir = \"./tmp/tensorboard/\"\n",
    "tensorboard_callback = tf.keras.callbacks.TensorBoard(log_dir=log_dir)\n",
    "callbacks.append(tensorboard_callback)"
   ]
  },
  {
   "cell_type": "code",
   "execution_count": 24,
   "id": "ba28eb46",
   "metadata": {},
   "outputs": [
    {
     "name": "stdout",
     "output_type": "stream",
     "text": [
      "1/1 [==============================] - 1s 785ms/step - loss: 1.6922 - accuracy: 0.2500 - val_loss: 1.8673 - val_accuracy: 0.0000e+00\n"
     ]
    }
   ],
   "source": [
    "history = model.fit(\n",
    "    train_dataset,\n",
    "    shuffle=True,\n",
    "    epochs=epochs,\n",
    "    steps_per_epoch=steps_per_epoch,\n",
    "    validation_data=validation_dataset,\n",
    "    validation_steps=validation_steps,\n",
    "    callbacks=callbacks,\n",
    ")"
   ]
  },
  {
   "cell_type": "code",
   "execution_count": 43,
   "id": "190f0aeb",
   "metadata": {},
   "outputs": [],
   "source": [
    "epochs = 100\n",
    "steps_per_epoch = 128\n",
    "validation_steps = 32\n",
    "test_steps = 32\n",
    "freeze_bert_layer = True\n",
    "learning_rate = 3e-5\n",
    "epsilon = 1e-08\n",
    "max_seq_length = 64"
   ]
  },
  {
   "cell_type": "code",
   "execution_count": 44,
   "id": "18a6b2d9",
   "metadata": {},
   "outputs": [
    {
     "name": "stdout",
     "output_type": "stream",
     "text": [
      "Epoch 1/100\n",
      "128/128 [==============================] - 61s 472ms/step - loss: 0.7357 - accuracy: 0.7441 - val_loss: 0.8653 - val_accuracy: 0.6406\n",
      "Epoch 2/100\n",
      "128/128 [==============================] - 55s 428ms/step - loss: 0.7684 - accuracy: 0.7305 - val_loss: 0.8571 - val_accuracy: 0.6484\n",
      "Epoch 3/100\n",
      "128/128 [==============================] - 56s 436ms/step - loss: 0.7612 - accuracy: 0.7393 - val_loss: 0.8523 - val_accuracy: 0.6641\n",
      "Epoch 4/100\n",
      "128/128 [==============================] - 55s 433ms/step - loss: 0.8510 - accuracy: 0.6895 - val_loss: 0.8398 - val_accuracy: 0.6484\n",
      "Epoch 5/100\n",
      "128/128 [==============================] - 54s 424ms/step - loss: 0.8105 - accuracy: 0.7197 - val_loss: 0.8539 - val_accuracy: 0.6562\n",
      "Epoch 6/100\n",
      "128/128 [==============================] - 57s 442ms/step - loss: 0.8416 - accuracy: 0.7129 - val_loss: 0.8613 - val_accuracy: 0.6680\n",
      "Epoch 7/100\n",
      "128/128 [==============================] - 55s 433ms/step - loss: 0.7971 - accuracy: 0.7139 - val_loss: 0.8409 - val_accuracy: 0.6680\n",
      "Epoch 8/100\n",
      "128/128 [==============================] - 55s 431ms/step - loss: 0.8615 - accuracy: 0.6895 - val_loss: 0.8362 - val_accuracy: 0.6758\n",
      "Epoch 9/100\n",
      "128/128 [==============================] - 54s 425ms/step - loss: 0.9033 - accuracy: 0.6631 - val_loss: 0.8253 - val_accuracy: 0.6641\n",
      "Epoch 10/100\n",
      "128/128 [==============================] - 52s 407ms/step - loss: 0.6213 - accuracy: 0.7812 - val_loss: 0.8401 - val_accuracy: 0.6602\n",
      "Epoch 11/100\n",
      "128/128 [==============================] - 53s 416ms/step - loss: 0.9004 - accuracy: 0.6865 - val_loss: 0.8176 - val_accuracy: 0.6758\n",
      "Epoch 12/100\n",
      "128/128 [==============================] - 51s 399ms/step - loss: 0.8247 - accuracy: 0.7100 - val_loss: 0.8195 - val_accuracy: 0.6758\n",
      "Epoch 13/100\n",
      "128/128 [==============================] - 52s 406ms/step - loss: 0.8637 - accuracy: 0.6963 - val_loss: 0.8181 - val_accuracy: 0.6641\n",
      "Epoch 14/100\n",
      "128/128 [==============================] - 52s 405ms/step - loss: 0.8696 - accuracy: 0.6729 - val_loss: 0.8169 - val_accuracy: 0.6562\n",
      "Epoch 15/100\n",
      "128/128 [==============================] - 51s 401ms/step - loss: 0.8218 - accuracy: 0.6963 - val_loss: 0.8158 - val_accuracy: 0.6602\n",
      "Epoch 16/100\n",
      "128/128 [==============================] - 51s 401ms/step - loss: 0.8610 - accuracy: 0.6670 - val_loss: 0.8083 - val_accuracy: 0.6719\n",
      "Epoch 17/100\n",
      "128/128 [==============================] - 54s 423ms/step - loss: 0.7657 - accuracy: 0.7246 - val_loss: 0.8339 - val_accuracy: 0.6836\n",
      "Epoch 18/100\n",
      "128/128 [==============================] - 53s 415ms/step - loss: 0.7370 - accuracy: 0.7402 - val_loss: 0.8426 - val_accuracy: 0.6875\n",
      "Epoch 19/100\n",
      "128/128 [==============================] - 52s 404ms/step - loss: 0.8141 - accuracy: 0.7158 - val_loss: 0.8202 - val_accuracy: 0.6914\n",
      "Epoch 20/100\n",
      "128/128 [==============================] - 52s 407ms/step - loss: 0.8162 - accuracy: 0.7012 - val_loss: 0.8146 - val_accuracy: 0.6836\n",
      "Epoch 21/100\n",
      "128/128 [==============================] - 53s 412ms/step - loss: 0.8044 - accuracy: 0.7051 - val_loss: 0.8037 - val_accuracy: 0.6914\n",
      "Epoch 22/100\n",
      "128/128 [==============================] - 52s 407ms/step - loss: 0.8357 - accuracy: 0.6992 - val_loss: 0.8192 - val_accuracy: 0.6680\n",
      "Epoch 23/100\n",
      "128/128 [==============================] - 53s 415ms/step - loss: 0.7949 - accuracy: 0.7139 - val_loss: 0.8206 - val_accuracy: 0.6758\n",
      "Epoch 24/100\n",
      "128/128 [==============================] - 52s 403ms/step - loss: 0.8172 - accuracy: 0.7148 - val_loss: 0.8387 - val_accuracy: 0.6562\n",
      "Epoch 25/100\n",
      "128/128 [==============================] - 52s 410ms/step - loss: 0.7876 - accuracy: 0.7207 - val_loss: 0.8273 - val_accuracy: 0.6602\n",
      "Epoch 26/100\n",
      "128/128 [==============================] - 52s 409ms/step - loss: 0.7969 - accuracy: 0.7090 - val_loss: 0.8157 - val_accuracy: 0.6719\n",
      "Epoch 27/100\n",
      "128/128 [==============================] - 52s 403ms/step - loss: 0.7740 - accuracy: 0.7178 - val_loss: 0.8119 - val_accuracy: 0.6719\n",
      "Epoch 28/100\n",
      "128/128 [==============================] - 53s 410ms/step - loss: 0.7676 - accuracy: 0.7217 - val_loss: 0.8143 - val_accuracy: 0.6562\n",
      "Epoch 29/100\n",
      "128/128 [==============================] - 53s 412ms/step - loss: 0.7863 - accuracy: 0.7100 - val_loss: 0.8152 - val_accuracy: 0.6602\n",
      "Epoch 30/100\n",
      "128/128 [==============================] - 52s 407ms/step - loss: 0.7665 - accuracy: 0.7256 - val_loss: 0.8069 - val_accuracy: 0.6758\n",
      "Epoch 31/100\n",
      "128/128 [==============================] - 53s 415ms/step - loss: 0.7616 - accuracy: 0.7266 - val_loss: 0.8159 - val_accuracy: 0.6758\n",
      "Epoch 32/100\n",
      "128/128 [==============================] - 54s 420ms/step - loss: 0.7709 - accuracy: 0.7207 - val_loss: 0.8126 - val_accuracy: 0.6719\n",
      "Epoch 33/100\n",
      "128/128 [==============================] - 52s 409ms/step - loss: 0.7851 - accuracy: 0.7041 - val_loss: 0.8172 - val_accuracy: 0.6758\n",
      "Epoch 34/100\n",
      "128/128 [==============================] - 51s 401ms/step - loss: 0.7933 - accuracy: 0.7158 - val_loss: 0.8025 - val_accuracy: 0.6836\n",
      "Epoch 35/100\n",
      "128/128 [==============================] - 56s 437ms/step - loss: 0.7442 - accuracy: 0.7363 - val_loss: 0.8266 - val_accuracy: 0.6641\n",
      "Epoch 36/100\n",
      "128/128 [==============================] - 52s 403ms/step - loss: 0.8750 - accuracy: 0.6748 - val_loss: 0.7954 - val_accuracy: 0.6719\n",
      "Epoch 37/100\n",
      "128/128 [==============================] - 53s 414ms/step - loss: 0.8087 - accuracy: 0.6953 - val_loss: 0.8365 - val_accuracy: 0.6641\n",
      "Epoch 38/100\n",
      "128/128 [==============================] - 54s 421ms/step - loss: 0.8374 - accuracy: 0.7080 - val_loss: 0.8109 - val_accuracy: 0.6641\n",
      "Epoch 39/100\n",
      "128/128 [==============================] - 54s 418ms/step - loss: 0.7967 - accuracy: 0.7217 - val_loss: 0.8186 - val_accuracy: 0.6641\n",
      "Epoch 40/100\n",
      "128/128 [==============================] - 52s 409ms/step - loss: 0.7675 - accuracy: 0.7129 - val_loss: 0.8209 - val_accuracy: 0.6680\n",
      "Epoch 41/100\n",
      "128/128 [==============================] - 52s 409ms/step - loss: 0.9089 - accuracy: 0.6709 - val_loss: 0.8013 - val_accuracy: 0.6836\n",
      "Epoch 42/100\n",
      "128/128 [==============================] - 51s 401ms/step - loss: 0.9444 - accuracy: 0.6357 - val_loss: 0.7945 - val_accuracy: 0.6836\n",
      "Epoch 43/100\n",
      "128/128 [==============================] - 52s 409ms/step - loss: 0.8832 - accuracy: 0.6602 - val_loss: 0.8017 - val_accuracy: 0.6719\n",
      "Epoch 44/100\n",
      "128/128 [==============================] - 52s 402ms/step - loss: 0.6428 - accuracy: 0.7900 - val_loss: 0.8044 - val_accuracy: 0.6719\n",
      "Epoch 45/100\n",
      "128/128 [==============================] - 52s 403ms/step - loss: 0.6540 - accuracy: 0.7812 - val_loss: 0.7988 - val_accuracy: 0.6719\n",
      "Epoch 46/100\n",
      "128/128 [==============================] - 53s 412ms/step - loss: 0.7288 - accuracy: 0.7383 - val_loss: 0.8282 - val_accuracy: 0.6523\n",
      "Epoch 47/100\n",
      "128/128 [==============================] - 52s 402ms/step - loss: 0.7953 - accuracy: 0.6953 - val_loss: 0.8118 - val_accuracy: 0.6719\n",
      "Epoch 48/100\n",
      "128/128 [==============================] - 52s 407ms/step - loss: 0.7796 - accuracy: 0.6982 - val_loss: 0.8078 - val_accuracy: 0.6758\n",
      "Epoch 49/100\n",
      "128/128 [==============================] - 57s 446ms/step - loss: 0.8218 - accuracy: 0.6992 - val_loss: 0.8079 - val_accuracy: 0.6719\n",
      "Epoch 50/100\n",
      "128/128 [==============================] - 52s 407ms/step - loss: 0.8221 - accuracy: 0.6973 - val_loss: 0.8290 - val_accuracy: 0.6562\n",
      "Epoch 51/100\n",
      "128/128 [==============================] - 56s 442ms/step - loss: 0.7787 - accuracy: 0.7148 - val_loss: 0.8262 - val_accuracy: 0.6719\n",
      "Epoch 52/100\n",
      "128/128 [==============================] - 51s 399ms/step - loss: 0.8218 - accuracy: 0.6992 - val_loss: 0.8154 - val_accuracy: 0.6641\n",
      "Epoch 53/100\n",
      "128/128 [==============================] - 52s 407ms/step - loss: 0.6789 - accuracy: 0.7471 - val_loss: 0.8182 - val_accuracy: 0.6719\n",
      "Epoch 54/100\n",
      "128/128 [==============================] - 52s 408ms/step - loss: 0.7197 - accuracy: 0.7363 - val_loss: 0.8069 - val_accuracy: 0.6758\n",
      "Epoch 55/100\n",
      "128/128 [==============================] - 53s 418ms/step - loss: 0.7571 - accuracy: 0.7139 - val_loss: 0.7851 - val_accuracy: 0.6875\n",
      "Epoch 56/100\n",
      "128/128 [==============================] - 53s 417ms/step - loss: 0.7337 - accuracy: 0.7314 - val_loss: 0.7998 - val_accuracy: 0.6836\n"
     ]
    },
    {
     "name": "stdout",
     "output_type": "stream",
     "text": [
      "Epoch 57/100\n",
      "128/128 [==============================] - 54s 424ms/step - loss: 0.7965 - accuracy: 0.7070 - val_loss: 0.7979 - val_accuracy: 0.6875\n",
      "Epoch 58/100\n",
      "128/128 [==============================] - 54s 425ms/step - loss: 0.6657 - accuracy: 0.7744 - val_loss: 0.8141 - val_accuracy: 0.6719\n",
      "Epoch 59/100\n",
      "128/128 [==============================] - 53s 412ms/step - loss: 0.7607 - accuracy: 0.7236 - val_loss: 0.7966 - val_accuracy: 0.6719\n",
      "Epoch 60/100\n",
      "128/128 [==============================] - 53s 416ms/step - loss: 0.6885 - accuracy: 0.7666 - val_loss: 0.7931 - val_accuracy: 0.6719\n",
      "Epoch 61/100\n",
      "128/128 [==============================] - 57s 447ms/step - loss: 0.7467 - accuracy: 0.7236 - val_loss: 0.8064 - val_accuracy: 0.6641\n",
      "Epoch 62/100\n",
      "128/128 [==============================] - 55s 428ms/step - loss: 0.8273 - accuracy: 0.6953 - val_loss: 0.7914 - val_accuracy: 0.6641\n",
      "Epoch 63/100\n",
      "128/128 [==============================] - 52s 406ms/step - loss: 0.8276 - accuracy: 0.6982 - val_loss: 0.7961 - val_accuracy: 0.6953\n",
      "Epoch 64/100\n",
      "128/128 [==============================] - 55s 427ms/step - loss: 0.8015 - accuracy: 0.7236 - val_loss: 0.7988 - val_accuracy: 0.6719\n",
      "Epoch 65/100\n",
      "128/128 [==============================] - 52s 408ms/step - loss: 0.8454 - accuracy: 0.6777 - val_loss: 0.7924 - val_accuracy: 0.6719\n",
      "Epoch 66/100\n",
      "128/128 [==============================] - 52s 407ms/step - loss: 0.8712 - accuracy: 0.6670 - val_loss: 0.7809 - val_accuracy: 0.6836\n",
      "Epoch 67/100\n",
      "128/128 [==============================] - 52s 406ms/step - loss: 0.8548 - accuracy: 0.6641 - val_loss: 0.7794 - val_accuracy: 0.6836\n",
      "Epoch 68/100\n",
      "128/128 [==============================] - 53s 413ms/step - loss: 0.8485 - accuracy: 0.6904 - val_loss: 0.7906 - val_accuracy: 0.6641\n",
      "Epoch 69/100\n",
      "128/128 [==============================] - 54s 419ms/step - loss: 0.8428 - accuracy: 0.6738 - val_loss: 0.7876 - val_accuracy: 0.6836\n",
      "Epoch 70/100\n",
      "128/128 [==============================] - 54s 425ms/step - loss: 0.8195 - accuracy: 0.6816 - val_loss: 0.7858 - val_accuracy: 0.6875\n",
      "Epoch 71/100\n",
      "128/128 [==============================] - 51s 403ms/step - loss: 0.8207 - accuracy: 0.6602 - val_loss: 0.7810 - val_accuracy: 0.6875\n",
      "Epoch 72/100\n",
      "128/128 [==============================] - 53s 415ms/step - loss: 0.8324 - accuracy: 0.6719 - val_loss: 0.7869 - val_accuracy: 0.6875\n",
      "Epoch 73/100\n",
      "128/128 [==============================] - 53s 412ms/step - loss: 0.7974 - accuracy: 0.7100 - val_loss: 0.7880 - val_accuracy: 0.6758\n",
      "Epoch 74/100\n",
      "128/128 [==============================] - 54s 425ms/step - loss: 0.7545 - accuracy: 0.7158 - val_loss: 0.7801 - val_accuracy: 0.6758\n",
      "Epoch 75/100\n",
      "128/128 [==============================] - 57s 446ms/step - loss: 0.7451 - accuracy: 0.7324 - val_loss: 0.7787 - val_accuracy: 0.6562\n",
      "Epoch 76/100\n",
      "128/128 [==============================] - 56s 435ms/step - loss: 0.7651 - accuracy: 0.7256 - val_loss: 0.7902 - val_accuracy: 0.6719\n",
      "Epoch 77/100\n",
      "128/128 [==============================] - 51s 401ms/step - loss: 0.7826 - accuracy: 0.7031 - val_loss: 0.7790 - val_accuracy: 0.6641\n",
      "Epoch 78/100\n",
      "128/128 [==============================] - 52s 409ms/step - loss: 0.7674 - accuracy: 0.7197 - val_loss: 0.7811 - val_accuracy: 0.6836\n",
      "Epoch 79/100\n",
      "128/128 [==============================] - 52s 404ms/step - loss: 0.7866 - accuracy: 0.7188 - val_loss: 0.7853 - val_accuracy: 0.6758\n",
      "Epoch 80/100\n",
      "128/128 [==============================] - 51s 402ms/step - loss: 0.7590 - accuracy: 0.7227 - val_loss: 0.7918 - val_accuracy: 0.6680\n",
      "Epoch 81/100\n",
      "128/128 [==============================] - 51s 398ms/step - loss: 0.7281 - accuracy: 0.7422 - val_loss: 0.7999 - val_accuracy: 0.6680\n",
      "Epoch 82/100\n",
      "128/128 [==============================] - 51s 400ms/step - loss: 0.7555 - accuracy: 0.7275 - val_loss: 0.7915 - val_accuracy: 0.6680\n",
      "Epoch 83/100\n",
      "128/128 [==============================] - 52s 410ms/step - loss: 0.7329 - accuracy: 0.7451 - val_loss: 0.7790 - val_accuracy: 0.6797\n",
      "Epoch 84/100\n",
      "128/128 [==============================] - 50s 393ms/step - loss: 0.7082 - accuracy: 0.7314 - val_loss: 0.7977 - val_accuracy: 0.6797\n",
      "Epoch 85/100\n",
      "128/128 [==============================] - 53s 411ms/step - loss: 0.7467 - accuracy: 0.7295 - val_loss: 0.7799 - val_accuracy: 0.6797\n",
      "Epoch 86/100\n",
      "128/128 [==============================] - 55s 429ms/step - loss: 0.7260 - accuracy: 0.7334 - val_loss: 0.7894 - val_accuracy: 0.6758\n",
      "Epoch 87/100\n",
      "128/128 [==============================] - 54s 419ms/step - loss: 0.7277 - accuracy: 0.7334 - val_loss: 0.7860 - val_accuracy: 0.6758\n",
      "Epoch 88/100\n",
      "128/128 [==============================] - 54s 421ms/step - loss: 0.7252 - accuracy: 0.7363 - val_loss: 0.7872 - val_accuracy: 0.6758\n",
      "Epoch 89/100\n",
      "128/128 [==============================] - 55s 430ms/step - loss: 0.7116 - accuracy: 0.7393 - val_loss: 0.7987 - val_accuracy: 0.6875\n",
      "Epoch 90/100\n",
      "128/128 [==============================] - 52s 406ms/step - loss: 0.7308 - accuracy: 0.7363 - val_loss: 0.7939 - val_accuracy: 0.6836\n",
      "Epoch 91/100\n",
      "128/128 [==============================] - 52s 405ms/step - loss: 0.7250 - accuracy: 0.7363 - val_loss: 0.7824 - val_accuracy: 0.6719\n",
      "Epoch 92/100\n",
      "128/128 [==============================] - 53s 416ms/step - loss: 0.7510 - accuracy: 0.7334 - val_loss: 0.8051 - val_accuracy: 0.6602\n",
      "Epoch 93/100\n",
      "128/128 [==============================] - 55s 428ms/step - loss: 0.8231 - accuracy: 0.6992 - val_loss: 0.7896 - val_accuracy: 0.6758\n",
      "Epoch 94/100\n",
      "128/128 [==============================] - 54s 425ms/step - loss: 0.7545 - accuracy: 0.7305 - val_loss: 0.7813 - val_accuracy: 0.6758\n",
      "Epoch 95/100\n",
      "128/128 [==============================] - 52s 404ms/step - loss: 0.8934 - accuracy: 0.6709 - val_loss: 0.7803 - val_accuracy: 0.6914\n",
      "Epoch 96/100\n",
      "128/128 [==============================] - 53s 412ms/step - loss: 0.9308 - accuracy: 0.6553 - val_loss: 0.7744 - val_accuracy: 0.7031\n",
      "Epoch 97/100\n",
      "128/128 [==============================] - 52s 405ms/step - loss: 0.7939 - accuracy: 0.7109 - val_loss: 0.7869 - val_accuracy: 0.6758\n",
      "Epoch 98/100\n",
      "128/128 [==============================] - 53s 418ms/step - loss: 0.8006 - accuracy: 0.7031 - val_loss: 0.7861 - val_accuracy: 0.6758\n",
      "Epoch 99/100\n",
      "128/128 [==============================] - 53s 412ms/step - loss: 0.8263 - accuracy: 0.6904 - val_loss: 0.7914 - val_accuracy: 0.6836\n",
      "Epoch 100/100\n",
      "128/128 [==============================] - 52s 404ms/step - loss: 0.7868 - accuracy: 0.7178 - val_loss: 0.7933 - val_accuracy: 0.6836\n"
     ]
    }
   ],
   "source": [
    "history = model.fit(\n",
    "    train_dataset,\n",
    "    shuffle=True,\n",
    "    epochs=epochs,\n",
    "    steps_per_epoch=steps_per_epoch,\n",
    "    validation_data=validation_dataset,\n",
    "    validation_steps=validation_steps,\n",
    "    callbacks=callbacks,\n",
    ")"
   ]
  },
  {
   "cell_type": "code",
   "execution_count": 45,
   "id": "94dfd7bf",
   "metadata": {},
   "outputs": [],
   "source": [
    "import pandas as pd\n",
    "import numpy as np\n",
    "\n",
    "from transformers import DistilBertTokenizer\n",
    "\n",
    "tokenizer = DistilBertTokenizer.from_pretrained('distilbert-base-uncased')\n",
    "\n",
    "def predict(text):\n",
    "    encode_plus_tokens = tokenizer.encode_plus(\n",
    "                            text,\n",
    "                            pad_to_max_length=True,\n",
    "                            max_length=max_seq_length,\n",
    "                            truncation=True,\n",
    "                            return_tensors='tf')\n",
    "    \n",
    "    input_ids = encode_plus_tokens['input_ids']\n",
    "    input_mask = encode_plus_tokens['attention_mask']\n",
    "    \n",
    "    outputs = model.predict(x=(input_ids,input_mask))\n",
    "    \n",
    "    prediction = [{\"label\":config.id2label[item.argmax()], \\\n",
    "                   \"socre\":item.max().item()} for item in outputs]\n",
    "\n",
    "    return prediction[0]"
   ]
  },
  {
   "cell_type": "code",
   "execution_count": 46,
   "id": "97132b6e",
   "metadata": {},
   "outputs": [
    {
     "name": "stdout",
     "output_type": "stream",
     "text": [
      "1/1 [==============================] - 0s 58ms/step\n"
     ]
    },
    {
     "data": {
      "text/plain": [
       "{'label': 5, 'socre': 0.968881368637085}"
      ]
     },
     "execution_count": 46,
     "metadata": {},
     "output_type": "execute_result"
    }
   ],
   "source": [
    "predict(\"This is great!\")"
   ]
  },
  {
   "cell_type": "code",
   "execution_count": 47,
   "id": "eff5e8c7",
   "metadata": {},
   "outputs": [
    {
     "name": "stdout",
     "output_type": "stream",
     "text": [
      "1/1 [==============================] - 0s 62ms/step\n"
     ]
    },
    {
     "data": {
      "text/plain": [
       "{'label': 5, 'socre': 0.7860856056213379}"
      ]
     },
     "execution_count": 47,
     "metadata": {},
     "output_type": "execute_result"
    }
   ],
   "source": [
    "predict(\"This is cool.\")"
   ]
  },
  {
   "cell_type": "code",
   "execution_count": 48,
   "id": "233039e2",
   "metadata": {},
   "outputs": [
    {
     "name": "stdout",
     "output_type": "stream",
     "text": [
      "1/1 [==============================] - 0s 61ms/step\n"
     ]
    },
    {
     "data": {
      "text/plain": [
       "{'label': 1, 'socre': 0.45628783106803894}"
      ]
     },
     "execution_count": 48,
     "metadata": {},
     "output_type": "execute_result"
    }
   ],
   "source": [
    "predict(\"I don't like this.\")"
   ]
  },
  {
   "cell_type": "code",
   "execution_count": 49,
   "id": "f40ea7bb",
   "metadata": {},
   "outputs": [
    {
     "name": "stdout",
     "output_type": "stream",
     "text": [
      "1/1 [==============================] - 0s 58ms/step\n"
     ]
    },
    {
     "data": {
      "text/plain": [
       "{'label': 1, 'socre': 0.709597647190094}"
      ]
     },
     "execution_count": 49,
     "metadata": {},
     "output_type": "execute_result"
    }
   ],
   "source": [
    "predict(\"This is stupid.\")"
   ]
  },
  {
   "cell_type": "code",
   "execution_count": 51,
   "id": "c8243159",
   "metadata": {},
   "outputs": [
    {
     "name": "stdout",
     "output_type": "stream",
     "text": [
      "WARNING:tensorflow:Skipping full serialization of Keras layer <keras.layers.regularization.dropout.Dropout object at 0x7fc14cdbd7e0>, because it is not built.\n"
     ]
    },
    {
     "name": "stderr",
     "output_type": "stream",
     "text": [
      "WARNING:tensorflow:Skipping full serialization of Keras layer <keras.layers.regularization.dropout.Dropout object at 0x7fc14cdbd7e0>, because it is not built.\n"
     ]
    },
    {
     "name": "stdout",
     "output_type": "stream",
     "text": [
      "WARNING:tensorflow:Skipping full serialization of Keras layer <keras.layers.regularization.dropout.Dropout object at 0x7fc14cdb8370>, because it is not built.\n"
     ]
    },
    {
     "name": "stderr",
     "output_type": "stream",
     "text": [
      "WARNING:tensorflow:Skipping full serialization of Keras layer <keras.layers.regularization.dropout.Dropout object at 0x7fc14cdb8370>, because it is not built.\n"
     ]
    },
    {
     "name": "stdout",
     "output_type": "stream",
     "text": [
      "WARNING:tensorflow:Skipping full serialization of Keras layer <keras.layers.regularization.dropout.Dropout object at 0x7fc14cdbae90>, because it is not built.\n"
     ]
    },
    {
     "name": "stderr",
     "output_type": "stream",
     "text": [
      "WARNING:tensorflow:Skipping full serialization of Keras layer <keras.layers.regularization.dropout.Dropout object at 0x7fc14cdbae90>, because it is not built.\n"
     ]
    },
    {
     "name": "stdout",
     "output_type": "stream",
     "text": [
      "WARNING:tensorflow:Skipping full serialization of Keras layer <keras.layers.regularization.dropout.Dropout object at 0x7fc14cddd9f0>, because it is not built.\n"
     ]
    },
    {
     "name": "stderr",
     "output_type": "stream",
     "text": [
      "WARNING:tensorflow:Skipping full serialization of Keras layer <keras.layers.regularization.dropout.Dropout object at 0x7fc14cddd9f0>, because it is not built.\n"
     ]
    },
    {
     "name": "stdout",
     "output_type": "stream",
     "text": [
      "WARNING:tensorflow:Skipping full serialization of Keras layer <keras.layers.regularization.dropout.Dropout object at 0x7fc14cde8550>, because it is not built.\n"
     ]
    },
    {
     "name": "stderr",
     "output_type": "stream",
     "text": [
      "WARNING:tensorflow:Skipping full serialization of Keras layer <keras.layers.regularization.dropout.Dropout object at 0x7fc14cde8550>, because it is not built.\n"
     ]
    },
    {
     "name": "stdout",
     "output_type": "stream",
     "text": [
      "WARNING:tensorflow:Skipping full serialization of Keras layer <keras.layers.regularization.dropout.Dropout object at 0x7fc14cdeb070>, because it is not built.\n"
     ]
    },
    {
     "name": "stderr",
     "output_type": "stream",
     "text": [
      "WARNING:tensorflow:Skipping full serialization of Keras layer <keras.layers.regularization.dropout.Dropout object at 0x7fc14cdeb070>, because it is not built.\n",
      "2024-01-08 10:01:45.239805: I tensorflow/core/common_runtime/executor.cc:1209] [/device:CPU:0] (DEBUG INFO) Executor start aborting (this does not indicate an error and you can ignore this message): INVALID_ARGUMENT: You must feed a value for placeholder tensor 'while/Placeholder_2' with dtype float and shape [?,50]\n",
      "\t [[{{node while/Placeholder_2}}]]\n",
      "2024-01-08 10:01:45.920994: I tensorflow/core/common_runtime/executor.cc:1209] [/device:CPU:0] (DEBUG INFO) Executor start aborting (this does not indicate an error and you can ignore this message): INVALID_ARGUMENT: You must feed a value for placeholder tensor 'while/Placeholder_2' with dtype float and shape [?,50]\n",
      "\t [[{{node while/Placeholder_2}}]]\n",
      "2024-01-08 10:01:45.953610: I tensorflow/core/common_runtime/executor.cc:1209] [/device:CPU:0] (DEBUG INFO) Executor start aborting (this does not indicate an error and you can ignore this message): INVALID_ARGUMENT: You must feed a value for placeholder tensor 'inputs' with dtype float and shape [?,?,768]\n",
      "\t [[{{node inputs}}]]\n",
      "2024-01-08 10:01:45.964239: I tensorflow/core/common_runtime/executor.cc:1209] [/device:CPU:0] (DEBUG INFO) Executor start aborting (this does not indicate an error and you can ignore this message): INVALID_ARGUMENT: You must feed a value for placeholder tensor 'inputs' with dtype float and shape [?,?,768]\n",
      "\t [[{{node inputs}}]]\n",
      "2024-01-08 10:01:45.974273: I tensorflow/core/common_runtime/executor.cc:1209] [/device:CPU:0] (DEBUG INFO) Executor start aborting (this does not indicate an error and you can ignore this message): INVALID_ARGUMENT: You must feed a value for placeholder tensor 'inputs' with dtype float and shape [?,768]\n",
      "\t [[{{node inputs}}]]\n",
      "2024-01-08 10:01:45.974385: I tensorflow/core/common_runtime/executor.cc:1209] [/device:CPU:0] (DEBUG INFO) Executor start aborting (this does not indicate an error and you can ignore this message): INVALID_ARGUMENT: You must feed a value for placeholder tensor 'states' with dtype float and shape [?,50]\n",
      "\t [[{{node states}}]]\n",
      "2024-01-08 10:01:45.984229: I tensorflow/core/common_runtime/executor.cc:1209] [/device:CPU:0] (DEBUG INFO) Executor start aborting (this does not indicate an error and you can ignore this message): INVALID_ARGUMENT: You must feed a value for placeholder tensor 'inputs' with dtype float and shape [?,768]\n",
      "\t [[{{node inputs}}]]\n",
      "2024-01-08 10:01:45.984346: I tensorflow/core/common_runtime/executor.cc:1209] [/device:CPU:0] (DEBUG INFO) Executor start aborting (this does not indicate an error and you can ignore this message): INVALID_ARGUMENT: You must feed a value for placeholder tensor 'states' with dtype float and shape [?,50]\n",
      "\t [[{{node states}}]]\n",
      "2024-01-08 10:01:46.097786: I tensorflow/core/common_runtime/executor.cc:1209] [/device:CPU:0] (DEBUG INFO) Executor start aborting (this does not indicate an error and you can ignore this message): INVALID_ARGUMENT: You must feed a value for placeholder tensor 'while/Placeholder_2' with dtype float and shape [?,50]\n",
      "\t [[{{node while/Placeholder_2}}]]\n",
      "2024-01-08 10:01:46.204744: I tensorflow/core/common_runtime/executor.cc:1209] [/device:CPU:0] (DEBUG INFO) Executor start aborting (this does not indicate an error and you can ignore this message): INVALID_ARGUMENT: You must feed a value for placeholder tensor 'while/Placeholder_2' with dtype float and shape [?,50]\n",
      "\t [[{{node while/Placeholder_2}}]]\n",
      "2024-01-08 10:01:46.231303: I tensorflow/core/common_runtime/executor.cc:1209] [/device:CPU:0] (DEBUG INFO) Executor start aborting (this does not indicate an error and you can ignore this message): INVALID_ARGUMENT: You must feed a value for placeholder tensor 'inputs' with dtype float and shape [?,?,768]\n",
      "\t [[{{node inputs}}]]\n",
      "2024-01-08 10:01:46.241335: I tensorflow/core/common_runtime/executor.cc:1209] [/device:CPU:0] (DEBUG INFO) Executor start aborting (this does not indicate an error and you can ignore this message): INVALID_ARGUMENT: You must feed a value for placeholder tensor 'inputs' with dtype float and shape [?,?,768]\n",
      "\t [[{{node inputs}}]]\n",
      "2024-01-08 10:01:46.251147: I tensorflow/core/common_runtime/executor.cc:1209] [/device:CPU:0] (DEBUG INFO) Executor start aborting (this does not indicate an error and you can ignore this message): INVALID_ARGUMENT: You must feed a value for placeholder tensor 'inputs' with dtype float and shape [?,768]\n",
      "\t [[{{node inputs}}]]\n",
      "2024-01-08 10:01:46.251259: I tensorflow/core/common_runtime/executor.cc:1209] [/device:CPU:0] (DEBUG INFO) Executor start aborting (this does not indicate an error and you can ignore this message): INVALID_ARGUMENT: You must feed a value for placeholder tensor 'states' with dtype float and shape [?,50]\n",
      "\t [[{{node states}}]]\n",
      "2024-01-08 10:01:46.261070: I tensorflow/core/common_runtime/executor.cc:1209] [/device:CPU:0] (DEBUG INFO) Executor start aborting (this does not indicate an error and you can ignore this message): INVALID_ARGUMENT: You must feed a value for placeholder tensor 'inputs' with dtype float and shape [?,768]\n",
      "\t [[{{node inputs}}]]\n",
      "2024-01-08 10:01:46.261185: I tensorflow/core/common_runtime/executor.cc:1209] [/device:CPU:0] (DEBUG INFO) Executor start aborting (this does not indicate an error and you can ignore this message): INVALID_ARGUMENT: You must feed a value for placeholder tensor 'states' with dtype float and shape [?,50]\n",
      "\t [[{{node states}}]]\n",
      "2024-01-08 10:01:46.476384: I tensorflow/core/common_runtime/executor.cc:1209] [/device:CPU:0] (DEBUG INFO) Executor start aborting (this does not indicate an error and you can ignore this message): INVALID_ARGUMENT: You must feed a value for placeholder tensor 'inputs' with dtype float and shape [?,?,?]\n",
      "\t [[{{node inputs}}]]\n",
      "2024-01-08 10:01:46.654638: I tensorflow/core/common_runtime/executor.cc:1209] [/device:CPU:0] (DEBUG INFO) Executor start aborting (this does not indicate an error and you can ignore this message): INVALID_ARGUMENT: You must feed a value for placeholder tensor 'inputs' with dtype float and shape [?,?,?]\n",
      "\t [[{{node inputs}}]]\n",
      "2024-01-08 10:01:46.786729: I tensorflow/core/common_runtime/executor.cc:1209] [/device:CPU:0] (DEBUG INFO) Executor start aborting (this does not indicate an error and you can ignore this message): INVALID_ARGUMENT: You must feed a value for placeholder tensor 'inputs' with dtype float and shape [?,?,?]\n",
      "\t [[{{node inputs}}]]\n",
      "2024-01-08 10:01:46.899684: I tensorflow/core/common_runtime/executor.cc:1209] [/device:CPU:0] (DEBUG INFO) Executor start aborting (this does not indicate an error and you can ignore this message): INVALID_ARGUMENT: You must feed a value for placeholder tensor 'inputs' with dtype float and shape [?,?,?]\n",
      "\t [[{{node inputs}}]]\n",
      "2024-01-08 10:01:46.915353: I tensorflow/core/common_runtime/executor.cc:1209] [/device:CPU:0] (DEBUG INFO) Executor start aborting (this does not indicate an error and you can ignore this message): INVALID_ARGUMENT: You must feed a value for placeholder tensor 'inputs' with dtype float and shape [?,?,?]\n",
      "\t [[{{node inputs}}]]\n",
      "2024-01-08 10:01:46.927867: I tensorflow/core/common_runtime/executor.cc:1209] [/device:CPU:0] (DEBUG INFO) Executor start aborting (this does not indicate an error and you can ignore this message): INVALID_ARGUMENT: You must feed a value for placeholder tensor 'inputs' with dtype float and shape [?,?,?]\n",
      "\t [[{{node inputs}}]]\n",
      "2024-01-08 10:01:46.938392: I tensorflow/core/common_runtime/executor.cc:1209] [/device:CPU:0] (DEBUG INFO) Executor start aborting (this does not indicate an error and you can ignore this message): INVALID_ARGUMENT: You must feed a value for placeholder tensor 'inputs' with dtype float and shape [?,?,?]\n",
      "\t [[{{node inputs}}]]\n",
      "2024-01-08 10:01:46.946560: I tensorflow/core/common_runtime/executor.cc:1209] [/device:CPU:0] (DEBUG INFO) Executor start aborting (this does not indicate an error and you can ignore this message): INVALID_ARGUMENT: You must feed a value for placeholder tensor 'inputs' with dtype float and shape [?,?,?]\n",
      "\t [[{{node inputs}}]]\n",
      "2024-01-08 10:01:46.956093: I tensorflow/core/common_runtime/executor.cc:1209] [/device:CPU:0] (DEBUG INFO) Executor start aborting (this does not indicate an error and you can ignore this message): INVALID_ARGUMENT: You must feed a value for placeholder tensor 'inputs' with dtype float and shape [?,?,?]\n",
      "\t [[{{node inputs}}]]\n",
      "2024-01-08 10:01:46.964175: I tensorflow/core/common_runtime/executor.cc:1209] [/device:CPU:0] (DEBUG INFO) Executor start aborting (this does not indicate an error and you can ignore this message): INVALID_ARGUMENT: You must feed a value for placeholder tensor 'inputs' with dtype float and shape [?,?,?]\n",
      "\t [[{{node inputs}}]]\n"
     ]
    },
    {
     "name": "stderr",
     "output_type": "stream",
     "text": [
      "2024-01-08 10:01:49.837690: I tensorflow/core/common_runtime/executor.cc:1209] [/device:CPU:0] (DEBUG INFO) Executor start aborting (this does not indicate an error and you can ignore this message): INVALID_ARGUMENT: You must feed a value for placeholder tensor 'inputs' with dtype float and shape [?,64,768]\n",
      "\t [[{{node inputs}}]]\n",
      "2024-01-08 10:01:49.851694: I tensorflow/core/common_runtime/executor.cc:1209] [/device:CPU:0] (DEBUG INFO) Executor start aborting (this does not indicate an error and you can ignore this message): INVALID_ARGUMENT: You must feed a value for placeholder tensor 'inputs' with dtype float and shape [?,64,768]\n",
      "\t [[{{node inputs}}]]\n",
      "2024-01-08 10:01:49.864311: I tensorflow/core/common_runtime/executor.cc:1209] [/device:CPU:0] (DEBUG INFO) Executor start aborting (this does not indicate an error and you can ignore this message): INVALID_ARGUMENT: You must feed a value for placeholder tensor 'inputs' with dtype float and shape [?,50]\n",
      "\t [[{{node inputs}}]]\n",
      "2024-01-08 10:01:54.318166: I tensorflow/core/common_runtime/executor.cc:1209] [/device:CPU:0] (DEBUG INFO) Executor start aborting (this does not indicate an error and you can ignore this message): INVALID_ARGUMENT: You must feed a value for placeholder tensor 'inputs_0' with dtype float and shape [?,?,?]\n",
      "\t [[{{node inputs_0}}]]\n",
      "2024-01-08 10:01:54.329984: I tensorflow/core/common_runtime/executor.cc:1209] [/device:CPU:0] (DEBUG INFO) Executor start aborting (this does not indicate an error and you can ignore this message): INVALID_ARGUMENT: You must feed a value for placeholder tensor 'inputs_0' with dtype float and shape [?,?,?]\n",
      "\t [[{{node inputs_0}}]]\n",
      "2024-01-08 10:01:54.342196: I tensorflow/core/common_runtime/executor.cc:1209] [/device:CPU:0] (DEBUG INFO) Executor start aborting (this does not indicate an error and you can ignore this message): INVALID_ARGUMENT: You must feed a value for placeholder tensor 'inputs' with dtype float and shape [?,64,768]\n",
      "\t [[{{node inputs}}]]\n",
      "2024-01-08 10:01:54.352989: I tensorflow/core/common_runtime/executor.cc:1209] [/device:CPU:0] (DEBUG INFO) Executor start aborting (this does not indicate an error and you can ignore this message): INVALID_ARGUMENT: You must feed a value for placeholder tensor 'inputs' with dtype float and shape [?,64,768]\n",
      "\t [[{{node inputs}}]]\n",
      "2024-01-08 10:01:55.731054: I tensorflow/core/common_runtime/executor.cc:1209] [/device:CPU:0] (DEBUG INFO) Executor start aborting (this does not indicate an error and you can ignore this message): INVALID_ARGUMENT: You must feed a value for placeholder tensor 'inputs' with dtype float and shape [?,50]\n",
      "\t [[{{node inputs}}]]\n",
      "2024-01-08 10:01:55.778779: I tensorflow/core/common_runtime/executor.cc:1209] [/device:CPU:0] (DEBUG INFO) Executor start aborting (this does not indicate an error and you can ignore this message): INVALID_ARGUMENT: You must feed a value for placeholder tensor 'inputs_0' with dtype float and shape [?,?,768]\n",
      "\t [[{{node inputs_0}}]]\n",
      "2024-01-08 10:01:55.787084: I tensorflow/core/common_runtime/executor.cc:1209] [/device:CPU:0] (DEBUG INFO) Executor start aborting (this does not indicate an error and you can ignore this message): INVALID_ARGUMENT: You must feed a value for placeholder tensor 'inputs_0' with dtype float and shape [?,?,768]\n",
      "\t [[{{node inputs_0}}]]\n",
      "2024-01-08 10:01:55.795873: I tensorflow/core/common_runtime/executor.cc:1209] [/device:CPU:0] (DEBUG INFO) Executor start aborting (this does not indicate an error and you can ignore this message): INVALID_ARGUMENT: You must feed a value for placeholder tensor 'inputs' with dtype float and shape [?,?,?]\n",
      "\t [[{{node inputs}}]]\n",
      "2024-01-08 10:01:55.803760: I tensorflow/core/common_runtime/executor.cc:1209] [/device:CPU:0] (DEBUG INFO) Executor start aborting (this does not indicate an error and you can ignore this message): INVALID_ARGUMENT: You must feed a value for placeholder tensor 'inputs' with dtype float and shape [?,?,?]\n",
      "\t [[{{node inputs}}]]\n",
      "2024-01-08 10:01:56.352548: I tensorflow/core/common_runtime/executor.cc:1209] [/device:CPU:0] (DEBUG INFO) Executor start aborting (this does not indicate an error and you can ignore this message): INVALID_ARGUMENT: You must feed a value for placeholder tensor 'inputs_0' with dtype float and shape [?,?,768]\n",
      "\t [[{{node inputs_0}}]]\n",
      "2024-01-08 10:01:56.361192: I tensorflow/core/common_runtime/executor.cc:1209] [/device:CPU:0] (DEBUG INFO) Executor start aborting (this does not indicate an error and you can ignore this message): INVALID_ARGUMENT: You must feed a value for placeholder tensor 'inputs_0' with dtype float and shape [?,?,768]\n",
      "\t [[{{node inputs_0}}]]\n",
      "2024-01-08 10:01:56.370034: I tensorflow/core/common_runtime/executor.cc:1209] [/device:CPU:0] (DEBUG INFO) Executor start aborting (this does not indicate an error and you can ignore this message): INVALID_ARGUMENT: You must feed a value for placeholder tensor 'inputs' with dtype float and shape [?,?,?]\n",
      "\t [[{{node inputs}}]]\n",
      "2024-01-08 10:01:56.377890: I tensorflow/core/common_runtime/executor.cc:1209] [/device:CPU:0] (DEBUG INFO) Executor start aborting (this does not indicate an error and you can ignore this message): INVALID_ARGUMENT: You must feed a value for placeholder tensor 'inputs' with dtype float and shape [?,?,?]\n",
      "\t [[{{node inputs}}]]\n",
      "2024-01-08 10:01:56.951545: I tensorflow/core/common_runtime/executor.cc:1209] [/device:CPU:0] (DEBUG INFO) Executor start aborting (this does not indicate an error and you can ignore this message): INVALID_ARGUMENT: You must feed a value for placeholder tensor 'inputs' with dtype float and shape [?,768]\n",
      "\t [[{{node inputs}}]]\n",
      "2024-01-08 10:01:56.951655: I tensorflow/core/common_runtime/executor.cc:1209] [/device:CPU:0] (DEBUG INFO) Executor start aborting (this does not indicate an error and you can ignore this message): INVALID_ARGUMENT: You must feed a value for placeholder tensor 'states_0' with dtype float and shape [?,50]\n",
      "\t [[{{node states_0}}]]\n",
      "2024-01-08 10:01:56.961282: I tensorflow/core/common_runtime/executor.cc:1209] [/device:CPU:0] (DEBUG INFO) Executor start aborting (this does not indicate an error and you can ignore this message): INVALID_ARGUMENT: You must feed a value for placeholder tensor 'inputs' with dtype float and shape [?,768]\n",
      "\t [[{{node inputs}}]]\n",
      "2024-01-08 10:01:56.961384: I tensorflow/core/common_runtime/executor.cc:1209] [/device:CPU:0] (DEBUG INFO) Executor start aborting (this does not indicate an error and you can ignore this message): INVALID_ARGUMENT: You must feed a value for placeholder tensor 'states_0' with dtype float and shape [?,50]\n",
      "\t [[{{node states_0}}]]\n",
      "2024-01-08 10:01:57.074056: I tensorflow/core/common_runtime/executor.cc:1209] [/device:CPU:0] (DEBUG INFO) Executor start aborting (this does not indicate an error and you can ignore this message): INVALID_ARGUMENT: You must feed a value for placeholder tensor 'inputs' with dtype float and shape [?,768]\n",
      "\t [[{{node inputs}}]]\n",
      "2024-01-08 10:01:57.074166: I tensorflow/core/common_runtime/executor.cc:1209] [/device:CPU:0] (DEBUG INFO) Executor start aborting (this does not indicate an error and you can ignore this message): INVALID_ARGUMENT: You must feed a value for placeholder tensor 'states_0' with dtype float and shape [?,50]\n",
      "\t [[{{node states_0}}]]\n",
      "2024-01-08 10:01:57.082912: I tensorflow/core/common_runtime/executor.cc:1209] [/device:CPU:0] (DEBUG INFO) Executor start aborting (this does not indicate an error and you can ignore this message): INVALID_ARGUMENT: You must feed a value for placeholder tensor 'inputs' with dtype float and shape [?,768]\n",
      "\t [[{{node inputs}}]]\n",
      "2024-01-08 10:01:57.083037: I tensorflow/core/common_runtime/executor.cc:1209] [/device:CPU:0] (DEBUG INFO) Executor start aborting (this does not indicate an error and you can ignore this message): INVALID_ARGUMENT: You must feed a value for placeholder tensor 'states_0' with dtype float and shape [?,50]\n",
      "\t [[{{node states_0}}]]\n",
      "WARNING:absl:Found untraced functions such as embeddings_layer_call_fn, embeddings_layer_call_and_return_conditional_losses, transformer_layer_call_fn, transformer_layer_call_and_return_conditional_losses, LayerNorm_layer_call_fn while saving (showing 5 of 164). These functions will not be directly callable after loading.\n"
     ]
    },
    {
     "name": "stdout",
     "output_type": "stream",
     "text": [
      "INFO:tensorflow:Assets written to: /mnt/tensorflow/assets\n"
     ]
    },
    {
     "name": "stderr",
     "output_type": "stream",
     "text": [
      "INFO:tensorflow:Assets written to: /mnt/tensorflow/assets\n"
     ]
    }
   ],
   "source": [
    "model.save('/mnt/tensorflow/',save_format='tf')"
   ]
  },
  {
   "cell_type": "code",
   "execution_count": null,
   "id": "54fc5758",
   "metadata": {},
   "outputs": [],
   "source": [
    "%%html\n",
    "\n",
    "<p><b>Shutting down your kernel for this notebook to release resources.</b></p>\n",
    "<button class=\"sm-command-button\" data-commandlinker-command=\"kernelmenu:shutdown\" style=\"display:none;\">Shutdown Kernel</button>\n",
    "        \n",
    "<script>\n",
    "try {\n",
    "    els = document.getElementsByClassName(\"sm-command-button\");\n",
    "    els[0].click();\n",
    "}\n",
    "catch(err) {\n",
    "    // NoOp\n",
    "}    \n",
    "</script>"
   ]
  },
  {
   "cell_type": "code",
   "execution_count": null,
   "id": "9c6ae082",
   "metadata": {},
   "outputs": [],
   "source": []
  }
 ],
 "metadata": {
  "kernelspec": {
   "display_name": "Python 3 (ipykernel)",
   "language": "python",
   "name": "python3"
  },
  "language_info": {
   "codemirror_mode": {
    "name": "ipython",
    "version": 3
   },
   "file_extension": ".py",
   "mimetype": "text/x-python",
   "name": "python",
   "nbconvert_exporter": "python",
   "pygments_lexer": "ipython3",
   "version": "3.10.6"
  }
 },
 "nbformat": 4,
 "nbformat_minor": 5
}
