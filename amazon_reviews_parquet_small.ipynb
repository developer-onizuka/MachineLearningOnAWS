{
 "cells": [
  {
   "cell_type": "code",
   "execution_count": 1,
   "id": "81f1e38d-8910-4476-8fdc-65ca85d8ad77",
   "metadata": {},
   "outputs": [
    {
     "name": "stdout",
     "output_type": "stream",
     "text": [
      "# spark.executor.memory =  8g\n",
      "# spark.executor.memoryOverhead =  None\n"
     ]
    }
   ],
   "source": [
    "from pyspark.sql.types import *\n",
    "from pyspark.sql.functions import *\n",
    "from pyspark.context import SparkContext\n",
    "from pyspark.sql.session import SparkSession\n",
    "\n",
    "spark = SparkSession \\\n",
    "        .builder \\\n",
    "        .appName(\"myapp\") \\\n",
    "        .master(\"local\") \\\n",
    "        .config(\"spark.executor.memory\", \"8g\") \\\n",
    "        .config(\"spark.sql.parquet.binaryAsString\",\"true\") \\\n",
    "        .getOrCreate()\n",
    "\n",
    "conf = spark.sparkContext.getConf()\n",
    "print(\"# spark.executor.memory = \", conf.get(\"spark.executor.memory\"))\n",
    "print(\"# spark.executor.memoryOverhead = \", conf.get(\"spark.executor.memoryOverhead\"))"
   ]
  },
  {
   "cell_type": "code",
   "execution_count": 2,
   "id": "bac50fbc-7a9d-4529-85dc-c8103667ee12",
   "metadata": {},
   "outputs": [],
   "source": [
    "df=spark.read.parquet(\"/mnt/amazon_reviews_2015.snappy.parquet\").select(\"star_rating\",\"review_id\",\"review_body\")\n",
    "# https://datasets-documentation.s3.eu-west-3.amazonaws.com/amazon_reviews/amazon_reviews_2015.snappy.parquet"
   ]
  },
  {
   "cell_type": "code",
   "execution_count": 4,
   "id": "229931ea-7c8c-4d00-87f0-e15b0e892838",
   "metadata": {},
   "outputs": [],
   "source": [
    "small_df = spark.createDataFrame(df.head(500000))"
   ]
  },
  {
   "cell_type": "code",
   "execution_count": 5,
   "id": "a582fd0a-ad4c-48e0-b0bd-36f40ac98068",
   "metadata": {
    "scrolled": true
   },
   "outputs": [
    {
     "name": "stdout",
     "output_type": "stream",
     "text": [
      "+-----------+--------------+--------------------+\n",
      "|star_rating|     review_id|         review_body|\n",
      "+-----------+--------------+--------------------+\n",
      "|          5|R2C20GSMIOZYVP|I have made multi...|\n",
      "|          3| RPI30SPP1J9U9|I am not sure if ...|\n",
      "|          1| RKYY2ZQGUV06L|I was  hoping thi...|\n",
      "|          5| RKYYAEA9G3CD4|        Awesome Tea!|\n",
      "|          4|R17ZQPU555KVR6|This tasty spread...|\n",
      "|          5|R1Q5A9D8NWQDXZ|        I love these|\n",
      "|          5| RB4ZEYM0KIH2L|They are wonderfu...|\n",
      "|          3|R11NTR1JWBJK19|It was Hershey's ...|\n",
      "|          5| RURVG71IJE5TD|The 40-count coff...|\n",
      "|          4|R1B96XLD73K1OS|             perfect|\n",
      "|          1| RC7TSWSL72GUC|Okay, as for the ...|\n",
      "|          5|R14VOV32IZ8HUK|Pleasantly good t...|\n",
      "|          5|R28DOFA4UZ0F5V|Excellent for hot...|\n",
      "|          5| RU2BAPY7M5A5N|Yummy soft jerky....|\n",
      "|          5|R1TDS9JCU6E8Z3|Buy for husband e...|\n",
      "|          5|R2N1CI6HDWHC3F|Delicious!  My fa...|\n",
      "|          5|R1CWJG87B152JJ|Can't get enough ...|\n",
      "|          5|R162341SRGAYQO|A little expensiv...|\n",
      "|          5| RGQJ51LY2GRVO|  Office loves them!|\n",
      "|          1|R3VOU98ITF0EK9|Tasted like potpo...|\n",
      "+-----------+--------------+--------------------+\n",
      "only showing top 20 rows\n",
      "\n"
     ]
    }
   ],
   "source": [
    "small_df.show()"
   ]
  },
  {
   "cell_type": "code",
   "execution_count": 6,
   "id": "ad4d998a-67b8-4518-9406-2c1b05ec0494",
   "metadata": {},
   "outputs": [],
   "source": [
    "small_df.write.mode(\"overwrite\").parquet(\"/mnt/amazon_reviews_2015_small.snappy.parquet\")"
   ]
  }
 ],
 "metadata": {
  "kernelspec": {
   "display_name": "Python 3 (ipykernel)",
   "language": "python",
   "name": "python3"
  },
  "language_info": {
   "codemirror_mode": {
    "name": "ipython",
    "version": 3
   },
   "file_extension": ".py",
   "mimetype": "text/x-python",
   "name": "python",
   "nbconvert_exporter": "python",
   "pygments_lexer": "ipython3",
   "version": "3.11.6"
  }
 },
 "nbformat": 4,
 "nbformat_minor": 5
}
