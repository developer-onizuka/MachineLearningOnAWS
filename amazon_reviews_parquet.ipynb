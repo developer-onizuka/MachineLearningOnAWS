{
 "cells": [
  {
   "cell_type": "code",
   "execution_count": 1,
   "id": "81f1e38d-8910-4476-8fdc-65ca85d8ad77",
   "metadata": {},
   "outputs": [
    {
     "name": "stdout",
     "output_type": "stream",
     "text": [
      "# spark.executor.memory =  8g\n",
      "# spark.executor.memoryOverhead =  1g\n"
     ]
    }
   ],
   "source": [
    "from pyspark.sql.types import *\n",
    "from pyspark.sql.functions import *\n",
    "from pyspark.context import SparkContext\n",
    "from pyspark.sql.session import SparkSession\n",
    "\n",
    "spark = SparkSession \\\n",
    "        .builder \\\n",
    "        .appName(\"myapp\") \\\n",
    "        .master(\"local\") \\\n",
    "        .config(\"spark.executor.memory\", \"8g\") \\\n",
    "        .config(\"spark.executor.memoryOverhead\", \"1g\") \\\n",
    "        .config(\"spark.sql.parquet.binaryAsString\",\"true\") \\\n",
    "        .getOrCreate()\n",
    "\n",
    "conf = spark.sparkContext.getConf()\n",
    "print(\"# spark.executor.memory = \", conf.get(\"spark.executor.memory\"))\n",
    "print(\"# spark.executor.memoryOverhead = \", conf.get(\"spark.executor.memoryOverhead\"))"
   ]
  },
  {
   "cell_type": "code",
   "execution_count": 2,
   "id": "bac50fbc-7a9d-4529-85dc-c8103667ee12",
   "metadata": {},
   "outputs": [],
   "source": [
    "df=spark.read.parquet(\"/mnt/amazon_reviews_2015.snappy.parquet\")\n",
    "# https://datasets-documentation.s3.eu-west-3.amazonaws.com/amazon_reviews/amazon_reviews_2015.snappy.parquet"
   ]
  },
  {
   "cell_type": "code",
   "execution_count": 3,
   "id": "87262b6f-b34d-44e1-a60c-efb6ace63f1d",
   "metadata": {},
   "outputs": [
    {
     "name": "stdout",
     "output_type": "stream",
     "text": [
      "+-----------+-----------+-----------+---------+----------+--------------+-------------+----------------+-----------+-------------+-----------+----+-----------------+---------------+-----------+\n",
      "|review_date|marketplace|customer_id|review_id|product_id|product_parent|product_title|product_category|star_rating|helpful_votes|total_votes|vine|verified_purchase|review_headline|review_body|\n",
      "+-----------+-----------+-----------+---------+----------+--------------+-------------+----------------+-----------+-------------+-----------+----+-----------------+---------------+-----------+\n",
      "|          0|          0|          0|        0|         0|             0|            0|               0|          0|            0|          0|   0|                0|              0|          0|\n",
      "+-----------+-----------+-----------+---------+----------+--------------+-------------+----------------+-----------+-------------+-----------+----+-----------------+---------------+-----------+\n",
      "\n"
     ]
    }
   ],
   "source": [
    "from pyspark.sql.functions import *\n",
    "df.select([count(when(col(c).isNull(), c)).alias(c) for c in df.columns]).show()"
   ]
  },
  {
   "cell_type": "code",
   "execution_count": 4,
   "id": "115ac50c-e394-48e1-ad51-e1fa550d38ab",
   "metadata": {},
   "outputs": [
    {
     "data": {
      "text/plain": [
       "41905631"
      ]
     },
     "execution_count": 4,
     "metadata": {},
     "output_type": "execute_result"
    }
   ],
   "source": [
    "df.count()"
   ]
  }
 ],
 "metadata": {
  "kernelspec": {
   "display_name": "Python 3 (ipykernel)",
   "language": "python",
   "name": "python3"
  },
  "language_info": {
   "codemirror_mode": {
    "name": "ipython",
    "version": 3
   },
   "file_extension": ".py",
   "mimetype": "text/x-python",
   "name": "python",
   "nbconvert_exporter": "python",
   "pygments_lexer": "ipython3",
   "version": "3.11.6"
  }
 },
 "nbformat": 4,
 "nbformat_minor": 5
}
