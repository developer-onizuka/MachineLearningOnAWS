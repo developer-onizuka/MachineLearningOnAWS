{
 "cells": [
  {
   "cell_type": "code",
   "execution_count": 1,
   "id": "81f1e38d-8910-4476-8fdc-65ca85d8ad77",
   "metadata": {},
   "outputs": [
    {
     "name": "stdout",
     "output_type": "stream",
     "text": [
      "# spark.executor.memory =  8g\n",
      "# spark.executor.memoryOverhead =  None\n"
     ]
    }
   ],
   "source": [
    "from pyspark.sql.types import *\n",
    "from pyspark.sql.functions import *\n",
    "from pyspark.context import SparkContext\n",
    "from pyspark.sql.session import SparkSession\n",
    "\n",
    "spark = SparkSession \\\n",
    "        .builder \\\n",
    "        .appName(\"myapp\") \\\n",
    "        .master(\"local\") \\\n",
    "        .config(\"spark.executor.memory\", \"8g\") \\\n",
    "        .config(\"spark.sql.parquet.binaryAsString\",\"true\") \\\n",
    "        .getOrCreate()\n",
    "\n",
    "conf = spark.sparkContext.getConf()\n",
    "print(\"# spark.executor.memory = \", conf.get(\"spark.executor.memory\"))\n",
    "print(\"# spark.executor.memoryOverhead = \", conf.get(\"spark.executor.memoryOverhead\"))"
   ]
  },
  {
   "cell_type": "code",
   "execution_count": 2,
   "id": "bac50fbc-7a9d-4529-85dc-c8103667ee12",
   "metadata": {},
   "outputs": [],
   "source": [
    "df=spark.read.parquet(\"/mnt/amazon_reviews_2015.snappy.parquet\")\n",
    "# https://datasets-documentation.s3.eu-west-3.amazonaws.com/amazon_reviews/amazon_reviews_2015.snappy.parquet"
   ]
  },
  {
   "cell_type": "code",
   "execution_count": 3,
   "id": "87262b6f-b34d-44e1-a60c-efb6ace63f1d",
   "metadata": {},
   "outputs": [
    {
     "name": "stdout",
     "output_type": "stream",
     "text": [
      "+-----------+-----------+-----------+---------+----------+--------------+-------------+----------------+-----------+-------------+-----------+----+-----------------+---------------+-----------+\n",
      "|review_date|marketplace|customer_id|review_id|product_id|product_parent|product_title|product_category|star_rating|helpful_votes|total_votes|vine|verified_purchase|review_headline|review_body|\n",
      "+-----------+-----------+-----------+---------+----------+--------------+-------------+----------------+-----------+-------------+-----------+----+-----------------+---------------+-----------+\n",
      "|          0|          0|          0|        0|         0|             0|            0|               0|          0|            0|          0|   0|                0|              0|          0|\n",
      "+-----------+-----------+-----------+---------+----------+--------------+-------------+----------------+-----------+-------------+-----------+----+-----------------+---------------+-----------+\n",
      "\n"
     ]
    }
   ],
   "source": [
    "from pyspark.sql.functions import *\n",
    "df.select([count(when(col(c).isNull(), c)).alias(c) for c in df.columns]).show()"
   ]
  },
  {
   "cell_type": "code",
   "execution_count": 4,
   "id": "b67ffa41-4a0b-40bd-99af-ae546231c39a",
   "metadata": {},
   "outputs": [
    {
     "data": {
      "text/plain": [
       "41905631"
      ]
     },
     "execution_count": 4,
     "metadata": {},
     "output_type": "execute_result"
    }
   ],
   "source": [
    "df.count()\n",
    "# Returns the total number of retrieved rows, including rows containing null.\n",
    "# https://spark.apache.org/docs/latest/sql-ref-functions-builtin.html"
   ]
  },
  {
   "cell_type": "code",
   "execution_count": 5,
   "id": "115ac50c-e394-48e1-ad51-e1fa550d38ab",
   "metadata": {},
   "outputs": [
    {
     "name": "stdout",
     "output_type": "stream",
     "text": [
      "+----------------+\n",
      "|count(review_id)|\n",
      "+----------------+\n",
      "|        41905631|\n",
      "+----------------+\n",
      "\n"
     ]
    }
   ],
   "source": [
    "from pyspark.sql.functions import count\n",
    "df.select(count(df.review_id)).show()\n",
    "# Returns the number of rows for which the supplied expression(s) are all non-null\n",
    "# https://spark.apache.org/docs/latest/sql-ref-functions-builtin.html"
   ]
  },
  {
   "cell_type": "code",
   "execution_count": 6,
   "id": "e9cf78e8-341b-4469-850e-8b04e32fcd7e",
   "metadata": {},
   "outputs": [
    {
     "name": "stdout",
     "output_type": "stream",
     "text": [
      "+-------------------------+\n",
      "|count(DISTINCT review_id)|\n",
      "+-------------------------+\n",
      "|                 41905631|\n",
      "+-------------------------+\n",
      "\n"
     ]
    }
   ],
   "source": [
    "df.select(countDistinct(df.review_id)).show()\n",
    "# Returns the number of rows for which the supplied expression(s) are unique and non-null.\n",
    "# https://spark.apache.org/docs/latest/sql-ref-functions-builtin.html"
   ]
  },
  {
   "cell_type": "code",
   "execution_count": 7,
   "id": "5f95494b-915b-4c69-a128-22572c5fac2e",
   "metadata": {},
   "outputs": [
    {
     "name": "stdout",
     "output_type": "stream",
     "text": [
      "+--------------------------------+\n",
      "|approx_count_distinct(review_id)|\n",
      "+--------------------------------+\n",
      "|                        42070956|\n",
      "+--------------------------------+\n",
      "\n"
     ]
    }
   ],
   "source": [
    "df.select(approx_count_distinct(df.review_id, rsd=0.05)).show()\n",
    "# Returns the estimated cardinality by HyperLogLog++. `relativeSD` defines the maximum relative standard deviation allowed.\n",
    "# https://spark.apache.org/docs/latest/sql-ref-functions-builtin.html"
   ]
  },
  {
   "cell_type": "code",
   "execution_count": 8,
   "id": "f25d0b8a-31f8-4e9f-8743-377a30d86a9f",
   "metadata": {},
   "outputs": [
    {
     "name": "stdout",
     "output_type": "stream",
     "text": [
      "+-----------+-----------+-----------+--------------+----------+--------------+--------------------+----------------+-----------+-------------+-----------+-----+-----------------+--------------------+--------------------+\n",
      "|review_date|marketplace|customer_id|     review_id|product_id|product_parent|       product_title|product_category|star_rating|helpful_votes|total_votes| vine|verified_purchase|     review_headline|         review_body|\n",
      "+-----------+-----------+-----------+--------------+----------+--------------+--------------------+----------------+-----------+-------------+-----------+-----+-----------------+--------------------+--------------------+\n",
      "|      16455|         US|   47052105|R2C20GSMIOZYVP|B004BQWJXK|     111796163|Prosciutto Di Par...|         Grocery|          5|            2|          2|false|             true|you will not be d...|I have made multi...|\n",
      "+-----------+-----------+-----------+--------------+----------+--------------+--------------------+----------------+-----------+-------------+-----------+-----+-----------------+--------------------+--------------------+\n",
      "only showing top 1 row\n",
      "\n"
     ]
    }
   ],
   "source": [
    "df.show(1)"
   ]
  },
  {
   "cell_type": "code",
   "execution_count": 9,
   "id": "9f7d3bef-cd9b-4822-adb1-5905df03057b",
   "metadata": {},
   "outputs": [],
   "source": [
    "df = df.replace('R2C20GSMIOZYVP',None)"
   ]
  },
  {
   "cell_type": "code",
   "execution_count": 10,
   "id": "a340cfc9-714c-453f-8ec0-c543ca3e2940",
   "metadata": {},
   "outputs": [
    {
     "name": "stdout",
     "output_type": "stream",
     "text": [
      "+-----------+-----------+-----------+---------+----------+--------------+--------------------+----------------+-----------+-------------+-----------+-----+-----------------+--------------------+--------------------+\n",
      "|review_date|marketplace|customer_id|review_id|product_id|product_parent|       product_title|product_category|star_rating|helpful_votes|total_votes| vine|verified_purchase|     review_headline|         review_body|\n",
      "+-----------+-----------+-----------+---------+----------+--------------+--------------------+----------------+-----------+-------------+-----------+-----+-----------------+--------------------+--------------------+\n",
      "|      16455|         US|   47052105|     NULL|B004BQWJXK|     111796163|Prosciutto Di Par...|         Grocery|          5|            2|          2|false|             true|you will not be d...|I have made multi...|\n",
      "+-----------+-----------+-----------+---------+----------+--------------+--------------------+----------------+-----------+-------------+-----------+-----+-----------------+--------------------+--------------------+\n",
      "only showing top 1 row\n",
      "\n"
     ]
    }
   ],
   "source": [
    "df.show(1)"
   ]
  },
  {
   "cell_type": "code",
   "execution_count": 11,
   "id": "2c24440b-5e8e-4e8c-b2ed-b51dfda738f3",
   "metadata": {},
   "outputs": [
    {
     "name": "stdout",
     "output_type": "stream",
     "text": [
      "+-----------+-----------+-----------+---------+----------+--------------+-------------+----------------+-----------+-------------+-----------+----+-----------------+---------------+-----------+\n",
      "|review_date|marketplace|customer_id|review_id|product_id|product_parent|product_title|product_category|star_rating|helpful_votes|total_votes|vine|verified_purchase|review_headline|review_body|\n",
      "+-----------+-----------+-----------+---------+----------+--------------+-------------+----------------+-----------+-------------+-----------+----+-----------------+---------------+-----------+\n",
      "|          0|          0|          0|        1|         0|             0|            0|               0|          0|            0|          0|   0|                0|              0|          0|\n",
      "+-----------+-----------+-----------+---------+----------+--------------+-------------+----------------+-----------+-------------+-----------+----+-----------------+---------------+-----------+\n",
      "\n"
     ]
    }
   ],
   "source": [
    "from pyspark.sql.functions import *\n",
    "df.select([count(when(col(c).isNull(), c)).alias(c) for c in df.columns]).show()"
   ]
  },
  {
   "cell_type": "code",
   "execution_count": 12,
   "id": "2e84b91d-ffbf-4453-b34b-9c39b3a093d2",
   "metadata": {},
   "outputs": [
    {
     "name": "stdout",
     "output_type": "stream",
     "text": [
      "+----------------+\n",
      "|count(review_id)|\n",
      "+----------------+\n",
      "|        41905630|\n",
      "+----------------+\n",
      "\n"
     ]
    }
   ],
   "source": [
    "from pyspark.sql.functions import count\n",
    "df.select(count(df.review_id)).show()\n",
    "# Returns the number of rows for which the supplied expression(s) are all non-null\n",
    "# https://spark.apache.org/docs/latest/sql-ref-functions-builtin.html"
   ]
  },
  {
   "cell_type": "code",
   "execution_count": 13,
   "id": "1f865f33-11e9-43ca-80a8-e546e0b7f250",
   "metadata": {},
   "outputs": [
    {
     "name": "stdout",
     "output_type": "stream",
     "text": [
      "+-------------------------+\n",
      "|count(DISTINCT review_id)|\n",
      "+-------------------------+\n",
      "|                 41905630|\n",
      "+-------------------------+\n",
      "\n"
     ]
    }
   ],
   "source": [
    "df.select(countDistinct(df.review_id)).show()\n",
    "# Returns the number of rows for which the supplied expression(s) are unique and non-null.\n",
    "# https://spark.apache.org/docs/latest/sql-ref-functions-builtin.html"
   ]
  },
  {
   "cell_type": "code",
   "execution_count": 14,
   "id": "2f70361d-35c2-4437-bfa2-a5788c1a554b",
   "metadata": {},
   "outputs": [
    {
     "name": "stdout",
     "output_type": "stream",
     "text": [
      "+--------------------------------+\n",
      "|approx_count_distinct(review_id)|\n",
      "+--------------------------------+\n",
      "|                        42070956|\n",
      "+--------------------------------+\n",
      "\n"
     ]
    }
   ],
   "source": [
    "df.select(approx_count_distinct(df.review_id, rsd=0.05)).show()\n",
    "# Returns the estimated cardinality by HyperLogLog++. `relativeSD` defines the maximum relative standard deviation allowed.\n",
    "# https://spark.apache.org/docs/latest/sql-ref-functions-builtin.html"
   ]
  }
 ],
 "metadata": {
  "kernelspec": {
   "display_name": "Python 3 (ipykernel)",
   "language": "python",
   "name": "python3"
  },
  "language_info": {
   "codemirror_mode": {
    "name": "ipython",
    "version": 3
   },
   "file_extension": ".py",
   "mimetype": "text/x-python",
   "name": "python",
   "nbconvert_exporter": "python",
   "pygments_lexer": "ipython3",
   "version": "3.11.6"
  }
 },
 "nbformat": 4,
 "nbformat_minor": 5
}
